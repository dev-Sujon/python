{
 "cells": [
  {
   "cell_type": "markdown",
   "id": "b964c8dc",
   "metadata": {},
   "source": [
    "# What is a Set?\n",
    "\n",
    "  --> In mathematics,a set is a well-defined  \n",
    "      collection of distinct objects\n",
    "  \n",
    "      # Set of even positive numbers less than\n",
    "        10:2,4,6,8\n",
    "        \n",
    "      # Set if perfect squares less than 10:1,4,9\n",
    "      \n",
    "      # Intersection of these two sets the number4\n",
    "      \n",
    "      # Curly braces or the set() function can be\n",
    "        used to create sets.\n",
    "        "
   ]
  },
  {
   "cell_type": "code",
   "execution_count": 1,
   "id": "e25ccec9",
   "metadata": {},
   "outputs": [
    {
     "name": "stdout",
     "output_type": "stream",
     "text": [
      "{'banana', 'orange', 'pear', 'apple'}\n"
     ]
    }
   ],
   "source": [
    "# show that duplicates have been removed\n",
    "basket = {'apple','orange','apple','pear','orange','banana'}\n",
    "print(basket)"
   ]
  },
  {
   "cell_type": "code",
   "execution_count": 20,
   "id": "95eb524b",
   "metadata": {},
   "outputs": [
    {
     "data": {
      "text/plain": [
       "{1, 3, 5, 25, 42, 55, 61, 321, 412, 454}"
      ]
     },
     "execution_count": 20,
     "metadata": {},
     "output_type": "execute_result"
    }
   ],
   "source": [
    "aSet = {1,25,1,3,5,42,25,412,454,61,321,321,55,1,3}\n",
    "aSet"
   ]
  },
  {
   "cell_type": "code",
   "execution_count": 30,
   "id": "edf2da05",
   "metadata": {},
   "outputs": [
    {
     "data": {
      "text/plain": [
       "{-120, 120, 300, 700}"
      ]
     },
     "execution_count": 30,
     "metadata": {},
     "output_type": "execute_result"
    }
   ],
   "source": [
    "a = {120,300,-120,700}\n",
    "a"
   ]
  },
  {
   "cell_type": "code",
   "execution_count": 31,
   "id": "a6b84298",
   "metadata": {},
   "outputs": [
    {
     "data": {
      "text/plain": [
       "True"
      ]
     },
     "execution_count": 31,
     "metadata": {},
     "output_type": "execute_result"
    }
   ],
   "source": [
    "x = {'foo', 'bar', 'baz'}\n",
    "'bar' in x"
   ]
  },
  {
   "cell_type": "code",
   "execution_count": 13,
   "id": "513f8743",
   "metadata": {},
   "outputs": [
    {
     "data": {
      "text/plain": [
       "True"
      ]
     },
     "execution_count": 13,
     "metadata": {},
     "output_type": "execute_result"
    }
   ],
   "source": [
    "'orange' in basket\n"
   ]
  },
  {
   "cell_type": "code",
   "execution_count": 21,
   "id": "2ff5b7cf",
   "metadata": {},
   "outputs": [
    {
     "name": "stdout",
     "output_type": "stream",
     "text": [
      "{'a', 'c', 'd', 'b', 'r'}\n",
      "{'2', '4', '3', '5', ',', '1'}\n"
     ]
    }
   ],
   "source": [
    "a = set('abracadabra')\n",
    "x = set('11,2,54,3,3,25,11,1,2,2,4,55,22')\n",
    "print(a)\n",
    "print(x)\n"
   ]
  },
  {
   "cell_type": "code",
   "execution_count": null,
   "id": "7d7acf4d",
   "metadata": {},
   "outputs": [],
   "source": [
    "b = set('alaca')"
   ]
  },
  {
   "cell_type": "code",
   "execution_count": 1,
   "id": "fd400ac6",
   "metadata": {},
   "outputs": [
    {
     "data": {
      "text/plain": [
       "{'bar', 'baz', 'foo', 'qux'}"
      ]
     },
     "execution_count": 1,
     "metadata": {},
     "output_type": "execute_result"
    }
   ],
   "source": [
    "x = set(['foo','bar','baz','foo','qux'])\n",
    "x"
   ]
  },
  {
   "cell_type": "code",
   "execution_count": 2,
   "id": "1f464a0d",
   "metadata": {},
   "outputs": [
    {
     "data": {
      "text/plain": [
       "set"
      ]
     },
     "execution_count": 2,
     "metadata": {},
     "output_type": "execute_result"
    }
   ],
   "source": [
    "type(x)"
   ]
  },
  {
   "cell_type": "code",
   "execution_count": 4,
   "id": "7e1edf08",
   "metadata": {},
   "outputs": [
    {
     "data": {
      "text/plain": [
       "{'a', 'e', 'g', 'i', 'n', 'o', 'r', 's', 't', 'u', 'v', 'y'}"
      ]
     },
     "execution_count": 4,
     "metadata": {},
     "output_type": "execute_result"
    }
   ],
   "source": [
    "s = 'sonargaonuniversity'\n",
    "set(s)"
   ]
  },
  {
   "cell_type": "code",
   "execution_count": 5,
   "id": "9d0177ff",
   "metadata": {},
   "outputs": [
    {
     "data": {
      "text/plain": [
       "['s',\n",
       " 'o',\n",
       " 'n',\n",
       " 'a',\n",
       " 'r',\n",
       " 'g',\n",
       " 'a',\n",
       " 'o',\n",
       " 'n',\n",
       " 'u',\n",
       " 'n',\n",
       " 'i',\n",
       " 'v',\n",
       " 'e',\n",
       " 'r',\n",
       " 's',\n",
       " 'i',\n",
       " 't',\n",
       " 'y']"
      ]
     },
     "execution_count": 5,
     "metadata": {},
     "output_type": "execute_result"
    }
   ],
   "source": [
    "list(s)"
   ]
  },
  {
   "cell_type": "code",
   "execution_count": 10,
   "id": "608ac7c7",
   "metadata": {},
   "outputs": [
    {
     "name": "stdout",
     "output_type": "stream",
     "text": [
      "{'fuu'} {'buu'}\n"
     ]
    },
    {
     "data": {
      "text/plain": [
       "set"
      ]
     },
     "execution_count": 10,
     "metadata": {},
     "output_type": "execute_result"
    }
   ],
   "source": [
    "print({'fuu'},{'buu'},)\n",
    "type({'fuu'})"
   ]
  },
  {
   "cell_type": "code",
   "execution_count": 7,
   "id": "9741d0a4",
   "metadata": {},
   "outputs": [
    {
     "data": {
      "text/plain": [
       "{'f', 'u'}"
      ]
     },
     "execution_count": 7,
     "metadata": {},
     "output_type": "execute_result"
    }
   ],
   "source": [
    "set('fuu')"
   ]
  },
  {
   "cell_type": "code",
   "execution_count": 11,
   "id": "9082b9cb",
   "metadata": {},
   "outputs": [
    {
     "data": {
      "text/plain": [
       "set"
      ]
     },
     "execution_count": 11,
     "metadata": {},
     "output_type": "execute_result"
    }
   ],
   "source": [
    "x = set()\n",
    "type(x)"
   ]
  },
  {
   "cell_type": "code",
   "execution_count": 12,
   "id": "6a3f9794",
   "metadata": {},
   "outputs": [
    {
     "data": {
      "text/plain": [
       "dict"
      ]
     },
     "execution_count": 12,
     "metadata": {},
     "output_type": "execute_result"
    }
   ],
   "source": [
    "x = {}\n",
    "type(x)"
   ]
  },
  {
   "cell_type": "code",
   "execution_count": 13,
   "id": "df3e08cb",
   "metadata": {},
   "outputs": [
    {
     "data": {
      "text/plain": [
       "False"
      ]
     },
     "execution_count": 13,
     "metadata": {},
     "output_type": "execute_result"
    }
   ],
   "source": [
    "x = set()\n",
    "bool(x)"
   ]
  },
  {
   "cell_type": "raw",
   "id": "a1ad6f86",
   "metadata": {},
   "source": [
    "Set elements must be immutable (unchanged)"
   ]
  },
  {
   "cell_type": "code",
   "execution_count": 14,
   "id": "94b4218f",
   "metadata": {},
   "outputs": [
    {
     "data": {
      "text/plain": [
       "{3.1416, 42, None, 'foo'}"
      ]
     },
     "execution_count": 14,
     "metadata": {},
     "output_type": "execute_result"
    }
   ],
   "source": [
    "x = {42,'foo',3.1416,None}\n",
    "x"
   ]
  },
  {
   "cell_type": "markdown",
   "id": "f3975bb6",
   "metadata": {},
   "source": [
    "Given two sets, x1 and x2, the union of x1 and x2 is a set consisting of all elements in either set.In Python, set union can be performed with the | operator"
   ]
  },
  {
   "cell_type": "code",
   "execution_count": 17,
   "id": "9d2ee45d",
   "metadata": {},
   "outputs": [
    {
     "data": {
      "text/plain": [
       "{'bar', 'bazz', 'dof', 'qaak', 'qux', 'xinn'}"
      ]
     },
     "execution_count": 17,
     "metadata": {},
     "output_type": "execute_result"
    }
   ],
   "source": [
    "x1 = {'dof','bar','bazz','xinn'}\n",
    "x2 = {'xinn','qux','qaak','dof'}\n",
    "#union \n",
    "x1 | x2"
   ]
  },
  {
   "cell_type": "markdown",
   "id": "2f47844e",
   "metadata": {},
   "source": [
    "Set union can also be obtained with the .union() method"
   ]
  },
  {
   "cell_type": "code",
   "execution_count": 18,
   "id": "549a7d81",
   "metadata": {},
   "outputs": [
    {
     "data": {
      "text/plain": [
       "{'bar', 'bazz', 'dof', 'qaak', 'qux', 'xinn'}"
      ]
     },
     "execution_count": 18,
     "metadata": {},
     "output_type": "execute_result"
    }
   ],
   "source": [
    "x1.union(x2)"
   ]
  },
  {
   "cell_type": "code",
   "execution_count": 19,
   "id": "8e1f97ba",
   "metadata": {},
   "outputs": [
    {
     "ename": "TypeError",
     "evalue": "unsupported operand type(s) for |: 'set' and 'tuple'",
     "output_type": "error",
     "traceback": [
      "\u001b[0;31m---------------------------------------------------------------------------\u001b[0m",
      "\u001b[0;31mTypeError\u001b[0m                                 Traceback (most recent call last)",
      "Cell \u001b[0;32mIn[19], line 1\u001b[0m\n\u001b[0;32m----> 1\u001b[0m \u001b[43mx1\u001b[49m\u001b[43m \u001b[49m\u001b[38;5;241;43m|\u001b[39;49m\u001b[43m \u001b[49m\u001b[43m(\u001b[49m\u001b[38;5;124;43m'\u001b[39;49m\u001b[38;5;124;43mbaz\u001b[39;49m\u001b[38;5;124;43m'\u001b[39;49m\u001b[43m,\u001b[49m\u001b[43m \u001b[49m\u001b[38;5;124;43m'\u001b[39;49m\u001b[38;5;124;43mqux\u001b[39;49m\u001b[38;5;124;43m'\u001b[39;49m\u001b[43m,\u001b[49m\u001b[43m \u001b[49m\u001b[38;5;124;43m'\u001b[39;49m\u001b[38;5;124;43mquux\u001b[39;49m\u001b[38;5;124;43m'\u001b[39;49m\u001b[43m)\u001b[49m\n",
      "\u001b[0;31mTypeError\u001b[0m: unsupported operand type(s) for |: 'set' and 'tuple'"
     ]
    }
   ],
   "source": [
    "x1 | ('baz', 'qux', 'quux')"
   ]
  },
  {
   "cell_type": "markdown",
   "id": "1f82b979",
   "metadata": {},
   "source": [
    "set operations available in Python. Some are performed by operator, some by method, and some by both. The principle outlined above generally applies: where a set is expected, methods will typically accept any iterable as an argument, but operators require actual sets as operands."
   ]
  },
  {
   "cell_type": "markdown",
   "id": "43f906ff",
   "metadata": {},
   "source": [
    "Available Operators and Methods\n",
    "Union --> a.union(b)\n",
    "          a|b\n",
    "intersection --> a.intersection(b)\n",
    "                 a & b"
   ]
  },
  {
   "cell_type": "markdown",
   "id": "f63f4bdf",
   "metadata": {},
   "source": [
    "Union Set"
   ]
  },
  {
   "cell_type": "code",
   "execution_count": 32,
   "id": "75ffb1da",
   "metadata": {},
   "outputs": [
    {
     "data": {
      "text/plain": [
       "{'bar', 'baz', 'foo', 'quux', 'qux'}"
      ]
     },
     "execution_count": 32,
     "metadata": {},
     "output_type": "execute_result"
    }
   ],
   "source": [
    "x1 = {'foo','bar','baz'}\n",
    "x2 = {'baz','qux','quux'}\n",
    "x = x1.union(x2)\n",
    "x"
   ]
  },
  {
   "cell_type": "code",
   "execution_count": 33,
   "id": "945b058a",
   "metadata": {},
   "outputs": [
    {
     "data": {
      "text/plain": [
       "{'bar', 'baz', 'foo', 'quux', 'qux'}"
      ]
     },
     "execution_count": 33,
     "metadata": {},
     "output_type": "execute_result"
    }
   ],
   "source": [
    "x1 | x2"
   ]
  },
  {
   "cell_type": "code",
   "execution_count": 34,
   "id": "db5c11ec",
   "metadata": {},
   "outputs": [
    {
     "data": {
      "text/plain": [
       "{1, 2, 3, 4, 5, 6, 7}"
      ]
     },
     "execution_count": 34,
     "metadata": {},
     "output_type": "execute_result"
    }
   ],
   "source": [
    "a = {1, 2, 3, 4}\n",
    "b = {2, 3, 4, 5}\n",
    "c = {3, 4, 5, 6}\n",
    "d = {4, 5, 6, 7}\n",
    "a.union(b,c,d)"
   ]
  },
  {
   "cell_type": "code",
   "execution_count": 35,
   "id": "940da3e3",
   "metadata": {},
   "outputs": [
    {
     "data": {
      "text/plain": [
       "{1, 2, 3, 4, 5, 6, 7}"
      ]
     },
     "execution_count": 35,
     "metadata": {},
     "output_type": "execute_result"
    }
   ],
   "source": [
    "a | b | c | d"
   ]
  },
  {
   "cell_type": "code",
   "execution_count": 37,
   "id": "9146bcdb",
   "metadata": {},
   "outputs": [
    {
     "data": {
      "text/plain": [
       "{'baz'}"
      ]
     },
     "execution_count": 37,
     "metadata": {},
     "output_type": "execute_result"
    }
   ],
   "source": [
    "x1 = {'foo', 'bar', 'baz'}\n",
    "x2 = {'baz', 'qux', 'quux'}\n",
    "x1.intersection(x2)"
   ]
  },
  {
   "cell_type": "code",
   "execution_count": 5,
   "id": "c4a7baa8",
   "metadata": {},
   "outputs": [
    {
     "name": "stdout",
     "output_type": "stream",
     "text": [
      " Union of  {1, 4, 6, 8, 10} and\n",
      " {100, 5, 20, 8, 10, 12, 15} is\n",
      " {1, 4, 100, 6, 5, 8, 10, 12, 15, 20}\n"
     ]
    }
   ],
   "source": [
    "nan = {4,6,4,8,10,6,1}\n",
    "tan = {10,8,5,12,15,20,100,15}\n",
    "t = nan|tan\n",
    "print(\" Union of \",nan,\"and\\n\",tan,\"is\\n\",t)"
   ]
  },
  {
   "cell_type": "code",
   "execution_count": 6,
   "id": "3f3c503e",
   "metadata": {},
   "outputs": [
    {
     "data": {
      "text/plain": [
       "{'du', 'fofo', 'ginnn', 'hinn', 'mozo', 'oror', 'xoxo', 'yoyo'}"
      ]
     },
     "execution_count": 6,
     "metadata": {},
     "output_type": "execute_result"
    }
   ],
   "source": [
    "jin = {'xoxo','mozo','yoyo','fofo','oror'}\n",
    "fin = {'xoxo','ginnn','hinn','du','oror'}\n",
    "jin.union(fin)"
   ]
  },
  {
   "cell_type": "markdown",
   "id": "bbf5f250",
   "metadata": {},
   "source": [
    "Intersection set"
   ]
  },
  {
   "cell_type": "code",
   "execution_count": 7,
   "id": "5a26d022",
   "metadata": {},
   "outputs": [
    {
     "data": {
      "text/plain": [
       "{10, 15}"
      ]
     },
     "execution_count": 7,
     "metadata": {},
     "output_type": "execute_result"
    }
   ],
   "source": [
    "xa = {25,10,15,5,6,100}\n",
    "ya = {10,15,33,35,19,2}\n",
    "xa & ya"
   ]
  },
  {
   "cell_type": "code",
   "execution_count": 8,
   "id": "728bff97",
   "metadata": {},
   "outputs": [
    {
     "data": {
      "text/plain": [
       "{10, 15}"
      ]
     },
     "execution_count": 8,
     "metadata": {},
     "output_type": "execute_result"
    }
   ],
   "source": [
    "ya.intersection(xa)"
   ]
  },
  {
   "cell_type": "code",
   "execution_count": 9,
   "id": "4aaf948a",
   "metadata": {},
   "outputs": [
    {
     "data": {
      "text/plain": [
       "{10}"
      ]
     },
     "execution_count": 9,
     "metadata": {},
     "output_type": "execute_result"
    }
   ],
   "source": [
    "ioi = {80,10,15,33,83,90}\n",
    "xix = {10,100}\n",
    "ioi.intersection(xix)"
   ]
  },
  {
   "cell_type": "code",
   "execution_count": 13,
   "id": "9986d23f",
   "metadata": {},
   "outputs": [
    {
     "data": {
      "text/plain": [
       "{30}"
      ]
     },
     "execution_count": 13,
     "metadata": {},
     "output_type": "execute_result"
    }
   ],
   "source": [
    "a = {1, 2, 3, 30, 300}\n",
    "b = {10, 20, 30, 40}\n",
    "c = {100, 200, 300, 400}\n",
    "b.intersection(a)"
   ]
  },
  {
   "cell_type": "code",
   "execution_count": 14,
   "id": "dbc82d7b",
   "metadata": {},
   "outputs": [
    {
     "data": {
      "text/plain": [
       "set()"
      ]
     },
     "execution_count": 14,
     "metadata": {},
     "output_type": "execute_result"
    }
   ],
   "source": [
    "b & c"
   ]
  },
  {
   "cell_type": "markdown",
   "id": "37b285c1",
   "metadata": {},
   "source": [
    "difference set"
   ]
  },
  {
   "cell_type": "code",
   "execution_count": 16,
   "id": "c0e4260c",
   "metadata": {},
   "outputs": [
    {
     "data": {
      "text/plain": [
       "{'bar', 'foo'}"
      ]
     },
     "execution_count": 16,
     "metadata": {},
     "output_type": "execute_result"
    }
   ],
   "source": [
    "x1 = {'foo', 'bar', 'baz'}\n",
    "x2 = {'baz', 'qux', 'quux'}\n",
    "x1.difference(x2)\n",
    "   "
   ]
  },
  {
   "cell_type": "code",
   "execution_count": 17,
   "id": "d183440a",
   "metadata": {},
   "outputs": [
    {
     "data": {
      "text/plain": [
       "{2, 4, 9, 30}"
      ]
     },
     "execution_count": 17,
     "metadata": {},
     "output_type": "execute_result"
    }
   ],
   "source": [
    "a = {30,1,5,4,12,9,2}\n",
    "b = {5,12,1}\n",
    "a - b"
   ]
  },
  {
   "cell_type": "code",
   "execution_count": 18,
   "id": "ae042340",
   "metadata": {},
   "outputs": [
    {
     "data": {
      "text/plain": [
       "set()"
      ]
     },
     "execution_count": 18,
     "metadata": {},
     "output_type": "execute_result"
    }
   ],
   "source": [
    "b.difference(a)"
   ]
  },
  {
   "cell_type": "code",
   "execution_count": 19,
   "id": "569e94cc",
   "metadata": {},
   "outputs": [
    {
     "data": {
      "text/plain": [
       "set()"
      ]
     },
     "execution_count": 19,
     "metadata": {},
     "output_type": "execute_result"
    }
   ],
   "source": [
    "b - a"
   ]
  },
  {
   "cell_type": "code",
   "execution_count": 20,
   "id": "5b55cb9d",
   "metadata": {},
   "outputs": [
    {
     "data": {
      "text/plain": [
       "{1, 2, 3}"
      ]
     },
     "execution_count": 20,
     "metadata": {},
     "output_type": "execute_result"
    }
   ],
   "source": [
    "a = {1, 2, 3, 30, 300}\n",
    "b = {10, 20, 30, 40}\n",
    "c = {100, 200, 300, 400}\n",
    "a.difference(b,c)"
   ]
  },
  {
   "cell_type": "code",
   "execution_count": 21,
   "id": "69d92b87",
   "metadata": {},
   "outputs": [
    {
     "data": {
      "text/plain": [
       "{1, 2, 3}"
      ]
     },
     "execution_count": 21,
     "metadata": {},
     "output_type": "execute_result"
    }
   ],
   "source": [
    "a - b - c"
   ]
  },
  {
   "cell_type": "markdown",
   "id": "d3326466",
   "metadata": {},
   "source": [
    "symmatric_difference \n",
    "x1.symmetric_difference(x2) and x1 ^ x2 return the set of all elements in either x1 or x2, but not both:"
   ]
  },
  {
   "cell_type": "code",
   "execution_count": 22,
   "id": "0588c442",
   "metadata": {},
   "outputs": [
    {
     "data": {
      "text/plain": [
       "{5, 10, 100}"
      ]
     },
     "execution_count": 22,
     "metadata": {},
     "output_type": "execute_result"
    }
   ],
   "source": [
    "a = {1, 2, 3, 4, 5}\n",
    "b = {10, 2, 3, 4, 50}\n",
    "c = {1, 50, 100}\n",
    "a^b^c    "
   ]
  },
  {
   "cell_type": "code",
   "execution_count": 23,
   "id": "6bd1dd06",
   "metadata": {},
   "outputs": [
    {
     "ename": "TypeError",
     "evalue": "set.symmetric_difference() takes exactly one argument (2 given)",
     "output_type": "error",
     "traceback": [
      "\u001b[0;31m---------------------------------------------------------------------------\u001b[0m",
      "\u001b[0;31mTypeError\u001b[0m                                 Traceback (most recent call last)",
      "Cell \u001b[0;32mIn[23], line 1\u001b[0m\n\u001b[0;32m----> 1\u001b[0m \u001b[43ma\u001b[49m\u001b[38;5;241;43m.\u001b[39;49m\u001b[43msymmetric_difference\u001b[49m\u001b[43m(\u001b[49m\u001b[43mb\u001b[49m\u001b[43m,\u001b[49m\u001b[43mc\u001b[49m\u001b[43m)\u001b[49m\n",
      "\u001b[0;31mTypeError\u001b[0m: set.symmetric_difference() takes exactly one argument (2 given)"
     ]
    }
   ],
   "source": [
    "a.symmetric_difference(b,c)"
   ]
  },
  {
   "cell_type": "markdown",
   "id": "afd27871",
   "metadata": {},
   "source": [
    "Curiously, although the ^ operator allows multiple sets, the .symmetric_difference() method doesn’t:"
   ]
  },
  {
   "cell_type": "code",
   "execution_count": 25,
   "id": "da40c053",
   "metadata": {},
   "outputs": [
    {
     "data": {
      "text/plain": [
       "{1, 5, 10, 50}"
      ]
     },
     "execution_count": 25,
     "metadata": {},
     "output_type": "execute_result"
    }
   ],
   "source": [
    "a.symmetric_difference(b)"
   ]
  },
  {
   "cell_type": "code",
   "execution_count": 26,
   "id": "79cbfde7",
   "metadata": {},
   "outputs": [
    {
     "data": {
      "text/plain": [
       "{2, 3, 4, 5, 50, 100}"
      ]
     },
     "execution_count": 26,
     "metadata": {},
     "output_type": "execute_result"
    }
   ],
   "source": [
    "a.symmetric_difference(c)"
   ]
  },
  {
   "cell_type": "code",
   "execution_count": 27,
   "id": "a36cd7e3",
   "metadata": {},
   "outputs": [
    {
     "data": {
      "text/plain": [
       "{1, 2, 3, 4, 10, 100}"
      ]
     },
     "execution_count": 27,
     "metadata": {},
     "output_type": "execute_result"
    }
   ],
   "source": [
    "c.symmetric_difference(b)"
   ]
  },
  {
   "cell_type": "markdown",
   "id": "83f9b437",
   "metadata": {},
   "source": [
    "isdisjoint set"
   ]
  },
  {
   "cell_type": "code",
   "execution_count": 28,
   "id": "522d8678",
   "metadata": {},
   "outputs": [
    {
     "data": {
      "text/plain": [
       "False"
      ]
     },
     "execution_count": 28,
     "metadata": {},
     "output_type": "execute_result"
    }
   ],
   "source": [
    "x1 = {'foo', 'bar', 'baz'}\n",
    "x2 = {'baz', 'qux', 'quux'}\n",
    "x1.isdisjoint(x2)"
   ]
  },
  {
   "cell_type": "code",
   "execution_count": 29,
   "id": "bf315711",
   "metadata": {},
   "outputs": [
    {
     "data": {
      "text/plain": [
       "{'quux', 'qux'}"
      ]
     },
     "execution_count": 29,
     "metadata": {},
     "output_type": "execute_result"
    }
   ],
   "source": [
    "x2 - {'baz'}"
   ]
  },
  {
   "cell_type": "code",
   "execution_count": 30,
   "id": "30b3a424",
   "metadata": {},
   "outputs": [
    {
     "data": {
      "text/plain": [
       "True"
      ]
     },
     "execution_count": 30,
     "metadata": {},
     "output_type": "execute_result"
    }
   ],
   "source": [
    "x1.isdisjoint(x2 - {'baz'})"
   ]
  },
  {
   "cell_type": "code",
   "execution_count": null,
   "id": "1db1344e",
   "metadata": {},
   "outputs": [],
   "source": []
  },
  {
   "cell_type": "code",
   "execution_count": null,
   "id": "00416eca",
   "metadata": {},
   "outputs": [],
   "source": []
  },
  {
   "cell_type": "code",
   "execution_count": null,
   "id": "32823419",
   "metadata": {},
   "outputs": [],
   "source": []
  },
  {
   "cell_type": "code",
   "execution_count": null,
   "id": "4e722b8d",
   "metadata": {},
   "outputs": [],
   "source": []
  },
  {
   "cell_type": "code",
   "execution_count": null,
   "id": "f6d00867",
   "metadata": {},
   "outputs": [],
   "source": []
  },
  {
   "cell_type": "code",
   "execution_count": null,
   "id": "c466aab9",
   "metadata": {},
   "outputs": [],
   "source": []
  },
  {
   "cell_type": "code",
   "execution_count": null,
   "id": "747d5694",
   "metadata": {},
   "outputs": [],
   "source": []
  }
 ],
 "metadata": {
  "kernelspec": {
   "display_name": "Python 3 (ipykernel)",
   "language": "python",
   "name": "python3"
  },
  "language_info": {
   "codemirror_mode": {
    "name": "ipython",
    "version": 3
   },
   "file_extension": ".py",
   "mimetype": "text/x-python",
   "name": "python",
   "nbconvert_exporter": "python",
   "pygments_lexer": "ipython3",
   "version": "3.10.9"
  }
 },
 "nbformat": 4,
 "nbformat_minor": 5
}
