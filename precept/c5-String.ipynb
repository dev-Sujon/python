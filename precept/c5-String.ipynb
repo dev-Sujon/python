{
 "cells": [
  {
   "cell_type": "code",
   "execution_count": null,
   "id": "23354f85",
   "metadata": {},
   "outputs": [],
   "source": [
    "s = 'Hello world'\n",
    "s[0:7]"
   ]
  },
  {
   "cell_type": "code",
   "execution_count": null,
   "id": "d7c8ab0d",
   "metadata": {},
   "outputs": [],
   "source": [
    "strr=\"Hello p\"\n",
    "strr.split(\" \")"
   ]
  },
  {
   "cell_type": "code",
   "execution_count": null,
   "id": "b8484ea7",
   "metadata": {},
   "outputs": [],
   "source": [
    "ss = 'hello world'\n",
    "ss.split('o')"
   ]
  },
  {
   "cell_type": "code",
   "execution_count": null,
   "id": "ccd1b566",
   "metadata": {},
   "outputs": [],
   "source": [
    "' '.join(ss)"
   ]
  },
  {
   "cell_type": "raw",
   "id": "5c7d766a",
   "metadata": {},
   "source": [
    "Data structure\n",
    "\n",
    "1.List\n",
    "2.Sets\n",
    "3.touple\n",
    "4.dict\n",
    "\n",
    "list- indexing\n",
    "      slicing\n",
    "      item assignment\n",
    "      list are ordered\n",
    "      dulicates are allowed\n",
    "      modify - add,remove\n",
    "\n",
    "set - indexing not allowed\n",
    "      slicing not allowed\n",
    "      item assignment not allowed\n",
    "      set not ordered (sort)\n",
    "      duplicattes not allowed\n",
    "      modify -add,remove\n",
    "      additional set\n",
    "      \n",
    "set - you need unique values and need intersection,union features \n",
    "dont want to remove duplicates valkues and need to"
   ]
  },
  {
   "cell_type": "code",
   "execution_count": 2,
   "id": "161a867a",
   "metadata": {},
   "outputs": [
    {
     "data": {
      "text/plain": [
       "set"
      ]
     },
     "execution_count": 2,
     "metadata": {},
     "output_type": "execute_result"
    }
   ],
   "source": [
    "setr = {1,3,8,'hello','a'}\n",
    "type(setr)        "
   ]
  },
  {
   "cell_type": "code",
   "execution_count": 3,
   "id": "21e92bf0",
   "metadata": {},
   "outputs": [
    {
     "data": {
      "text/plain": [
       "{0, 1, 2, 3, 5, 7, 8, 9}"
      ]
     },
     "execution_count": 3,
     "metadata": {},
     "output_type": "execute_result"
    }
   ],
   "source": [
    "set1 = {0,9,1,2,3,5,7,8,1,0,1,0,7,9}\n",
    "set1"
   ]
  },
  {
   "cell_type": "code",
   "execution_count": 7,
   "id": "ad73c03b",
   "metadata": {},
   "outputs": [
    {
     "data": {
      "text/plain": [
       "{0, 1, 2, 3, 5, 7, 8, 9, 70}"
      ]
     },
     "execution_count": 7,
     "metadata": {},
     "output_type": "execute_result"
    }
   ],
   "source": [
    "set1.add(70)\n",
    "set1"
   ]
  },
  {
   "cell_type": "code",
   "execution_count": 8,
   "id": "31f2e35a",
   "metadata": {},
   "outputs": [
    {
     "data": {
      "text/plain": [
       "{0, 1, 2, 3, 5, 7, 8, 9, 70}"
      ]
     },
     "execution_count": 8,
     "metadata": {},
     "output_type": "execute_result"
    }
   ],
   "source": [
    "set1"
   ]
  },
  {
   "cell_type": "code",
   "execution_count": 11,
   "id": "09b4bd49",
   "metadata": {},
   "outputs": [
    {
     "ename": "KeyError",
     "evalue": "0",
     "output_type": "error",
     "traceback": [
      "\u001b[0;31m---------------------------------------------------------------------------\u001b[0m",
      "\u001b[0;31mKeyError\u001b[0m                                  Traceback (most recent call last)",
      "Cell \u001b[0;32mIn[11], line 1\u001b[0m\n\u001b[0;32m----> 1\u001b[0m \u001b[43mset1\u001b[49m\u001b[38;5;241;43m.\u001b[39;49m\u001b[43mremove\u001b[49m\u001b[43m(\u001b[49m\u001b[38;5;241;43m0\u001b[39;49m\u001b[43m)\u001b[49m\n",
      "\u001b[0;31mKeyError\u001b[0m: 0"
     ]
    }
   ],
   "source": [
    "set1.remove(0)\n"
   ]
  },
  {
   "cell_type": "code",
   "execution_count": 12,
   "id": "383975d7",
   "metadata": {},
   "outputs": [
    {
     "data": {
      "text/plain": [
       "{1, 2, 3, 5, 7, 8, 9, 70}"
      ]
     },
     "execution_count": 12,
     "metadata": {},
     "output_type": "execute_result"
    }
   ],
   "source": [
    "set1"
   ]
  },
  {
   "cell_type": "code",
   "execution_count": 13,
   "id": "f08ce5dc",
   "metadata": {},
   "outputs": [],
   "source": [
    "set2 = [12,174,16]\n",
    "set1.update(set2)"
   ]
  },
  {
   "cell_type": "code",
   "execution_count": 14,
   "id": "375dc528",
   "metadata": {},
   "outputs": [
    {
     "data": {
      "text/plain": [
       "{1, 2, 3, 5, 7, 8, 9, 12, 16, 70, 174}"
      ]
     },
     "execution_count": 14,
     "metadata": {},
     "output_type": "execute_result"
    }
   ],
   "source": [
    "set1"
   ]
  },
  {
   "cell_type": "code",
   "execution_count": 16,
   "id": "d65232b7",
   "metadata": {},
   "outputs": [
    {
     "data": {
      "text/plain": [
       "{6, 7}"
      ]
     },
     "execution_count": 16,
     "metadata": {},
     "output_type": "execute_result"
    }
   ],
   "source": [
    "A = {1,2,3,6,7}\n",
    "B = {6,7,9,12,15}\n",
    "A.intersection(B)"
   ]
  },
  {
   "cell_type": "code",
   "execution_count": 17,
   "id": "d20b89f5",
   "metadata": {},
   "outputs": [
    {
     "data": {
      "text/plain": [
       "{1, 2, 3}"
      ]
     },
     "execution_count": 17,
     "metadata": {},
     "output_type": "execute_result"
    }
   ],
   "source": [
    "s = A-B\n",
    "s"
   ]
  },
  {
   "cell_type": "code",
   "execution_count": 18,
   "id": "acdbe208",
   "metadata": {},
   "outputs": [
    {
     "data": {
      "text/plain": [
       "{9, 12, 15}"
      ]
     },
     "execution_count": 18,
     "metadata": {},
     "output_type": "execute_result"
    }
   ],
   "source": [
    "ss = B-A\n",
    "ss"
   ]
  },
  {
   "cell_type": "code",
   "execution_count": 19,
   "id": "68fe0302",
   "metadata": {
    "scrolled": true
   },
   "outputs": [
    {
     "ename": "TypeError",
     "evalue": "'set' object is not subscriptable",
     "output_type": "error",
     "traceback": [
      "\u001b[0;31m---------------------------------------------------------------------------\u001b[0m",
      "\u001b[0;31mTypeError\u001b[0m                                 Traceback (most recent call last)",
      "Cell \u001b[0;32mIn[19], line 1\u001b[0m\n\u001b[0;32m----> 1\u001b[0m \u001b[43mss\u001b[49m\u001b[43m[\u001b[49m\u001b[38;5;241;43m0\u001b[39;49m\u001b[43m]\u001b[49m\n",
      "\u001b[0;31mTypeError\u001b[0m: 'set' object is not subscriptable"
     ]
    }
   ],
   "source": [
    "ss[0]"
   ]
  },
  {
   "cell_type": "code",
   "execution_count": 1,
   "id": "723ab43c",
   "metadata": {},
   "outputs": [
    {
     "name": "stdout",
     "output_type": "stream",
     "text": [
      "Lorem ipsum dolor sit amet,\n",
      "consectetur adipiscing elit,\n",
      "sed do eiusmod tempor incididunt\n",
      "ut labore et dolore magna aliqua.\n"
     ]
    }
   ],
   "source": [
    "a = \"\"\"Lorem ipsum dolor sit amet,\n",
    "consectetur adipiscing elit,\n",
    "sed do eiusmod tempor incididunt\n",
    "ut labore et dolore magna aliqua.\"\"\"\n",
    "print(a)"
   ]
  },
  {
   "cell_type": "code",
   "execution_count": 2,
   "id": "bc5f53c1",
   "metadata": {},
   "outputs": [
    {
     "name": "stdout",
     "output_type": "stream",
     "text": [
      "Hello\n"
     ]
    }
   ],
   "source": [
    "b = \"Hello, World!\"\n",
    "print(b[:5])"
   ]
  },
  {
   "cell_type": "code",
   "execution_count": 3,
   "id": "af8abf0a",
   "metadata": {},
   "outputs": [
    {
     "name": "stdout",
     "output_type": "stream",
     "text": [
      "HELLO, WORLD!\n"
     ]
    }
   ],
   "source": [
    "a = \"Hello, World!\"\n",
    "print(a.upper())"
   ]
  },
  {
   "cell_type": "code",
   "execution_count": 4,
   "id": "fdb7e78a",
   "metadata": {},
   "outputs": [
    {
     "name": "stdout",
     "output_type": "stream",
     "text": [
      "hello, world!\n"
     ]
    }
   ],
   "source": [
    "a = \"Hello, World!\"\n",
    "print(a.lower())"
   ]
  },
  {
   "cell_type": "code",
   "execution_count": 5,
   "id": "8a6c3fd6",
   "metadata": {},
   "outputs": [
    {
     "name": "stdout",
     "output_type": "stream",
     "text": [
      "Hello, World!\n"
     ]
    }
   ],
   "source": [
    "a = \" Hello, World! \"\n",
    "print(a.strip()) "
   ]
  },
  {
   "cell_type": "code",
   "execution_count": 7,
   "id": "71f6d6ef",
   "metadata": {},
   "outputs": [
    {
     "name": "stdout",
     "output_type": "stream",
     "text": [
      "HelloWorld\n"
     ]
    }
   ],
   "source": [
    "a = \"Hello\"\n",
    "b = \"World\"\n",
    "c = a + b\n",
    "print(c)"
   ]
  },
  {
   "cell_type": "code",
   "execution_count": 10,
   "id": "584082b9",
   "metadata": {},
   "outputs": [
    {
     "name": "stdout",
     "output_type": "stream",
     "text": [
      "My name is Sujon, I am 22\n"
     ]
    }
   ],
   "source": [
    "age = 22\n",
    "txt = \"My name is Sujon, I am \" + str(age)\n",
    "print(txt)"
   ]
  },
  {
   "cell_type": "code",
   "execution_count": 13,
   "id": "e54ef09b",
   "metadata": {},
   "outputs": [
    {
     "name": "stdout",
     "output_type": "stream",
     "text": [
      "('My name is ', 'Sujon', 'and I am', '22')\n"
     ]
    }
   ],
   "source": [
    "age = 22\n",
    "name = \"Sujon\"\n",
    "txt = \"My name is \",name,\"and I am\",str(age)\n",
    "print(txt)"
   ]
  },
  {
   "cell_type": "code",
   "execution_count": 14,
   "id": "7a7c1b74",
   "metadata": {},
   "outputs": [
    {
     "name": "stdout",
     "output_type": "stream",
     "text": [
      "I want 3 pieces of item 567 for 49.95 dollars.\n"
     ]
    }
   ],
   "source": [
    "quantity = 3\n",
    "itemno = 567\n",
    "price = 49.95\n",
    "myorder = \"I want {} pieces of item {} for {} dollars.\"\n",
    "print(myorder.format(quantity, itemno, price))"
   ]
  },
  {
   "cell_type": "code",
   "execution_count": 15,
   "id": "64e18313",
   "metadata": {},
   "outputs": [
    {
     "name": "stdout",
     "output_type": "stream",
     "text": [
      "I want to pay 49.95 dollars for 3 pieces of item 567.\n"
     ]
    }
   ],
   "source": [
    "quantity = 3\n",
    "itemno = 567\n",
    "price = 49.95\n",
    "myorder = \"I want to pay {2} dollars for {0} pieces of item {1}.\"\n",
    "print(myorder.format(quantity, itemno, price))"
   ]
  },
  {
   "cell_type": "code",
   "execution_count": 17,
   "id": "b8439724",
   "metadata": {},
   "outputs": [
    {
     "data": {
      "text/plain": [
       "'We are the so-called \"Vikings\" from the north.'"
      ]
     },
     "execution_count": 17,
     "metadata": {},
     "output_type": "execute_result"
    }
   ],
   "source": [
    "txt = \"We are the so-called \\\"Vikings\\\" from the north.\"\n",
    "txt"
   ]
  },
  {
   "cell_type": "code",
   "execution_count": 18,
   "id": "2420f374",
   "metadata": {},
   "outputs": [
    {
     "name": "stdout",
     "output_type": "stream",
     "text": [
      "True\n"
     ]
    }
   ],
   "source": [
    "txt = \"hello world!\"\n",
    "\n",
    "x = txt.islower()\n",
    "\n",
    "print(x)"
   ]
  },
  {
   "cell_type": "code",
   "execution_count": 19,
   "id": "9dbeeecb",
   "metadata": {},
   "outputs": [
    {
     "name": "stdout",
     "output_type": "stream",
     "text": [
      "0000000050\n"
     ]
    }
   ],
   "source": [
    "txt = \"50\"\n",
    "\n",
    "x = txt.zfill(10)\n",
    "\n",
    "print(x)"
   ]
  },
  {
   "cell_type": "code",
   "execution_count": 20,
   "id": "137e4290",
   "metadata": {},
   "outputs": [
    {
     "name": "stdout",
     "output_type": "stream",
     "text": [
      "Hello Pam!\n"
     ]
    }
   ],
   "source": [
    "mydict = {83:  80}\n",
    "txt = \"Hello Sam!\"\n",
    "print(txt.translate(mydict))"
   ]
  },
  {
   "cell_type": "code",
   "execution_count": 21,
   "id": "293b9f44",
   "metadata": {},
   "outputs": [
    {
     "name": "stdout",
     "output_type": "stream",
     "text": [
      "John#Peter#Vicky\n"
     ]
    }
   ],
   "source": [
    "myTuple = (\"John\", \"Peter\", \"Vicky\")\n",
    "\n",
    "x = \"#\".join(myTuple)\n",
    "\n",
    "print(x)"
   ]
  },
  {
   "cell_type": "code",
   "execution_count": 22,
   "id": "d86a0f8f",
   "metadata": {},
   "outputs": [
    {
     "name": "stdout",
     "output_type": "stream",
     "text": [
      "True\n"
     ]
    }
   ],
   "source": [
    "txt = \"THIS IS NOW!\"\n",
    "\n",
    "x = txt.isupper()\n",
    "\n",
    "print(x)"
   ]
  },
  {
   "cell_type": "code",
   "execution_count": 23,
   "id": "34100940",
   "metadata": {},
   "outputs": [
    {
     "name": "stdout",
     "output_type": "stream",
     "text": [
      "False\n",
      "False\n",
      "True\n"
     ]
    }
   ],
   "source": [
    "a = \"Hello World!\"\n",
    "b = \"hello 123\"\n",
    "c = \"MY NAME IS PETER\"\n",
    "\n",
    "print(a.isupper())\n",
    "print(b.isupper())\n",
    "print(c.isupper())"
   ]
  }
 ],
 "metadata": {
  "kernelspec": {
   "display_name": "Python 3 (ipykernel)",
   "language": "python",
   "name": "python3"
  },
  "language_info": {
   "codemirror_mode": {
    "name": "ipython",
    "version": 3
   },
   "file_extension": ".py",
   "mimetype": "text/x-python",
   "name": "python",
   "nbconvert_exporter": "python",
   "pygments_lexer": "ipython3",
   "version": "3.10.9"
  }
 },
 "nbformat": 4,
 "nbformat_minor": 5
}
