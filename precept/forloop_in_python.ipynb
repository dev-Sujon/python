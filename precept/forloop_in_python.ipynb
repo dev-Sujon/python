{
 "cells": [
  {
   "cell_type": "markdown",
   "id": "bb00a3da",
   "metadata": {},
   "source": [
    "Loops in Python – table of contents:\n",
    "\n",
    "    --> Loops in Python\n",
    "    --> For loop in Python\n",
    "    --> For loops in list\n",
    "    --> Iterating a set using for loop\n",
    "    --> Iterating a tuple using for loop\n",
    "    --> Nested loops in Python\n",
    "    --> While Loops in Python\n"
   ]
  },
  {
   "cell_type": "markdown",
   "id": "9abc98f1",
   "metadata": {},
   "source": [
    "# Loops in Python\n",
    "\n",
    "        Loops are used when there is a need to do a task more than one time. For \n",
    "        example, printing numbers from 1 to 100 or a better example would be to\n",
    "        sum all the elements in a list or an array. Sometimes there is a need to\n",
    "        write more than 1 loop or loop inside a loop. In Python writing these loops\n",
    "        is very simple and even the syntax is easy to understand. As we have seen, in\n",
    "        Python we don’t need to declare a variable first before using it. The basic \n",
    "        looping starts with for loop. Let’s understand “for” loop.\n",
    "        "
   ]
  },
  {
   "cell_type": "markdown",
   "id": "5625c62c",
   "metadata": {},
   "source": [
    "# For loop in Python\n",
    "\n",
    "        In a for loop, we have three things which needs to be mentioned. First one\n",
    "        is the initial value of the variable on which the iteration needs to be done,\n",
    "        the stopping condition and the last one is by how many steps you want to \n",
    "        increment or decrement the iterator.\n",
    "\n",
    "        Let’s see the syntax of a “for” loop:"
   ]
  },
  {
   "cell_type": "markdown",
   "id": "f596d0d1",
   "metadata": {},
   "source": [
    "The basic syntax of the for loop in Python looks something similar to the one mentioned below.\n",
    "\n",
    "for itarator_variable in sequence_name:\n",
    "\tStatements\n",
    "\t. . .\n",
    "\tStatements\n"
   ]
  },
  {
   "cell_type": "code",
   "execution_count": null,
   "id": "47fe1176",
   "metadata": {},
   "outputs": [],
   "source": [
    "#print 1 to 100 number\n",
    "for x in range(1,101):\n",
    "    print(x)"
   ]
  },
  {
   "cell_type": "code",
   "execution_count": null,
   "id": "27d9ed1f",
   "metadata": {},
   "outputs": [],
   "source": [
    "words = 'pneumonoultramicroscopicsilicovolcanoconiosis'\n",
    "print(\"Total number of words: \",len(words))\n",
    "for word in words:\n",
    "    print(word,end=\" \")\n",
    "    \n",
    "\n"
   ]
  },
  {
   "cell_type": "code",
   "execution_count": null,
   "id": "62d5338b",
   "metadata": {},
   "outputs": [],
   "source": [
    "anim = 'Anaconda'\n",
    "for w in anim:\n",
    "    print(w)"
   ]
  },
  {
   "cell_type": "code",
   "execution_count": null,
   "id": "b7dc02f3",
   "metadata": {},
   "outputs": [],
   "source": [
    "country = \"Bangladesh\"\n",
    "for w in range(len(country)):\n",
    "    print(w)"
   ]
  },
  {
   "cell_type": "code",
   "execution_count": null,
   "id": "4c12794c",
   "metadata": {},
   "outputs": [],
   "source": [
    "for w in country:\n",
    "    print(w.upper(),end=\" \")\n"
   ]
  },
  {
   "cell_type": "code",
   "execution_count": null,
   "id": "c7b90480",
   "metadata": {},
   "outputs": [],
   "source": [
    "languages = ['Swift', 'Python', 'Go', 'JavaScript']\n",
    "for language in languages:\n",
    "    print(language)"
   ]
  },
  {
   "cell_type": "code",
   "execution_count": null,
   "id": "37a765f8",
   "metadata": {},
   "outputs": [],
   "source": [
    "words= [\"Apple\", \"Banana\", \"Car\", \"Dolphin\" ]\n",
    "for word in words:\n",
    "    print(word)"
   ]
  },
  {
   "cell_type": "code",
   "execution_count": null,
   "id": "7fb2ccb1",
   "metadata": {},
   "outputs": [],
   "source": [
    "nums = (1, 2, 3, 4,10)\n",
    "sum = 0\n",
    "for n in nums:\n",
    "    sum = sum + n\n",
    "print(sum)    \n"
   ]
  },
  {
   "cell_type": "code",
   "execution_count": null,
   "id": "00bb85f7",
   "metadata": {},
   "outputs": [],
   "source": [
    "list1 = [4.5, 2.0, 3.9, 4.00, 5.0, 4.2, 4.2, 4.30]\n",
    "l = len(list1)\n",
    "for i in range(l):\n",
    "    print(\"[\",i,\":\",list1[i],\" ]\")"
   ]
  },
  {
   "cell_type": "code",
   "execution_count": null,
   "id": "af5012d5",
   "metadata": {},
   "outputs": [],
   "source": [
    "for x in 'Python':\n",
    "    print(x)"
   ]
  },
  {
   "cell_type": "code",
   "execution_count": null,
   "id": "04f7985e",
   "metadata": {},
   "outputs": [],
   "source": [
    "#using wihtout access value\n",
    "languages = ['Swift', 'Python', 'Go']\n",
    "\n",
    "for language in languages:\n",
    "    print('Hello')\n",
    "    print('Hi')"
   ]
  },
  {
   "cell_type": "code",
   "execution_count": null,
   "id": "923d4f92",
   "metadata": {},
   "outputs": [],
   "source": [
    "arr = [1,23,545,62,451,6,51,1,5,51,651,5,152,42,51,5,654,9612,91,26,4,651,26,4]\n",
    "print(len(arr))\n",
    "ac=0\n",
    "for _ in arr:\n",
    "    ac += 1\n",
    "    print(ac)"
   ]
  },
  {
   "cell_type": "code",
   "execution_count": null,
   "id": "cf656752",
   "metadata": {},
   "outputs": [],
   "source": [
    "X=[1,2,3,4,5,6]\n",
    "for i in range(len(X)):\n",
    "    print(i,X[i])"
   ]
  },
  {
   "cell_type": "code",
   "execution_count": null,
   "id": "1cca8ac3",
   "metadata": {},
   "outputs": [],
   "source": [
    "X=[1,2,3,4,5,6]\n",
    "for i,value in enumerate(X):\n",
    "    print(i,value)"
   ]
  },
  {
   "cell_type": "code",
   "execution_count": null,
   "id": "f1c41f17",
   "metadata": {},
   "outputs": [],
   "source": [
    "X={'1':1,'2':2}\n",
    "\n",
    "for key in X.keys():\n",
    "    print(key)\n",
    "for value in X.values():\n",
    "    print(value)\n",
    "for key,value in X.items():\n",
    "    print(key,value)"
   ]
  },
  {
   "cell_type": "markdown",
   "id": "a3a9ed3e",
   "metadata": {},
   "source": [
    "# Example"
   ]
  },
  {
   "cell_type": "markdown",
   "id": "46727425",
   "metadata": {},
   "source": [
    "1 : Print the first 10 natural numbers using for loop."
   ]
  },
  {
   "cell_type": "code",
   "execution_count": null,
   "id": "7b03f080",
   "metadata": {},
   "outputs": [],
   "source": [
    "for num in range(10):\n",
    "    print(num,end=\" \")"
   ]
  },
  {
   "cell_type": "markdown",
   "id": "fb37df0f",
   "metadata": {},
   "source": [
    "2 : Python program to print all the even numbers within the given range."
   ]
  },
  {
   "cell_type": "code",
   "execution_count": null,
   "id": "0f93ddcb",
   "metadata": {},
   "outputs": [],
   "source": [
    "for x in range(1,100):\n",
    "    if x%2==0:\n",
    "        print(x,end=\" \")"
   ]
  },
  {
   "cell_type": "markdown",
   "id": "10a05225",
   "metadata": {},
   "source": [
    "3 : Python program to calculate the sum of all numbers from 1 to a given number."
   ]
  },
  {
   "cell_type": "code",
   "execution_count": null,
   "id": "e8d992aa",
   "metadata": {},
   "outputs": [],
   "source": [
    "g = 20\n",
    "s = 0\n",
    "for i in range(1,g+1):  \n",
    "    s = s+i\n",
    "    print(i,s)\n",
    "print(\"Total of [ 1\",\"to\",g,\"] is: \" ,s)"
   ]
  },
  {
   "cell_type": "markdown",
   "id": "7f8917ce",
   "metadata": {},
   "source": [
    "4: Python program to calculate the sum of all the odd numbers within the given range"
   ]
  },
  {
   "cell_type": "code",
   "execution_count": null,
   "id": "7cbf2d79",
   "metadata": {},
   "outputs": [],
   "source": [
    "inputt = int(input(\"Enter number of range? \"))\n",
    "add = 0\n",
    "for x in range(1,inputt+1):\n",
    "   # print(x)\n",
    "    if x%2==0:\n",
    "        add=add+x\n",
    "        print(x,end=\" \")\n",
    "print(\"\\nTotal :\",add)        "
   ]
  },
  {
   "cell_type": "markdown",
   "id": "0516f49c",
   "metadata": {},
   "source": [
    "5 : Python program to print a multiplication table of a given number"
   ]
  },
  {
   "cell_type": "code",
   "execution_count": null,
   "id": "3ec03883",
   "metadata": {},
   "outputs": [],
   "source": [
    "num = int(input(\"Enter number:\"))\n",
    "for x in range(1,11):\n",
    "    print(num,\"x\",x,\" = \",num * x)"
   ]
  },
  {
   "cell_type": "markdown",
   "id": "76d98277",
   "metadata": {},
   "source": [
    "6 : Python program to display numbers from a list using a for loop."
   ]
  },
  {
   "cell_type": "code",
   "execution_count": null,
   "id": "d6ba4a34",
   "metadata": {},
   "outputs": [],
   "source": [
    "llp = [10,1,3,45,6,2,8,1,20,1]\n",
    "for x in range(len(llp)):\n",
    "\n",
    "    print(x,\":\",llp[x])"
   ]
  },
  {
   "cell_type": "markdown",
   "id": "93c99507",
   "metadata": {},
   "source": [
    " 7: Python program to count the total number of digits in a number."
   ]
  },
  {
   "cell_type": "code",
   "execution_count": null,
   "id": "69a43afa",
   "metadata": {},
   "outputs": [],
   "source": [
    " # Convert the number to a string\n",
    "number = 1524\n",
    "number_str = str(number)\n",
    "c=0\n",
    "for s in number_str:\n",
    "    c+=1\n",
    "print(c)    "
   ]
  },
  {
   "cell_type": "markdown",
   "id": "6cbfc2a8",
   "metadata": {},
   "source": [
    "8 : Python program to check if the given string is a palindrome."
   ]
  },
  {
   "cell_type": "code",
   "execution_count": null,
   "id": "5fdd60dc",
   "metadata": {},
   "outputs": [],
   "source": [
    "sttr = input(\"Enter a number: \")\n",
    "l =len(sttr)\n",
    "for x in range(l):\n",
    "    res=sttr[::-1]\n",
    "if sttr == res:\n",
    "    print(sttr,\"is a palindrome number.\")\n",
    "else:\n",
    "    print(sttr,\"isn't a palindrome number.\")\n"
   ]
  },
  {
   "cell_type": "markdown",
   "id": "a1bf0a68",
   "metadata": {},
   "source": [
    "9: Python program that accepts a word from the user and reverses it."
   ]
  },
  {
   "cell_type": "code",
   "execution_count": null,
   "id": "f3c75cbc",
   "metadata": {},
   "outputs": [],
   "source": [
    "strr = input(\"Enter a word : \")\n",
    "for word in strr:\n",
    "    rev_word = strr[::-1]\n",
    "\n",
    "print(rev_word)    \n",
    "    \n",
    "    "
   ]
  },
  {
   "cell_type": "markdown",
   "id": "041bbbf1",
   "metadata": {},
   "source": [
    "10 : Python program to check if a given number is an Armstrong number\n"
   ]
  },
  {
   "cell_type": "code",
   "execution_count": null,
   "id": "8863e84c",
   "metadata": {},
   "outputs": [],
   "source": [
    "get = input(\"Enter a word: \")\n",
    "L = len(get)\n",
    "ss=0\n",
    "for x in range(L):\n",
    "    cube = int(get[x])**L\n",
    "    ss=ss + cube\n",
    "    print(ss)\n",
    "print(ss)    \n",
    "    \n",
    "    "
   ]
  },
  {
   "cell_type": "markdown",
   "id": "f8c2f452",
   "metadata": {},
   "source": [
    "# Iterating over list ,tuple and dictionary"
   ]
  },
  {
   "cell_type": "markdown",
   "id": "d8cbd5fc",
   "metadata": {},
   "source": [
    "11 : Print list in reverse order using a loop"
   ]
  },
  {
   "cell_type": "code",
   "execution_count": null,
   "id": "b4acbca4",
   "metadata": {},
   "outputs": [],
   "source": [
    "lst = [10,55,10,4,30,50]\n",
    "for x in lst:\n",
    "    print(lst[::-1])\n",
    "    break"
   ]
  },
  {
   "cell_type": "markdown",
   "id": "99047493",
   "metadata": {},
   "source": [
    "12 : Display numbers from -10 to -1 using for loop"
   ]
  },
  {
   "cell_type": "code",
   "execution_count": null,
   "id": "50a13e7f",
   "metadata": {},
   "outputs": [],
   "source": [
    "res = []\n",
    "for w in range(-10,0):\n",
    "    res.append(w)\n",
    "print(res)    "
   ]
  },
  {
   "cell_type": "markdown",
   "id": "1c355c4f",
   "metadata": {},
   "source": [
    "13 : Use else block to display a message “Done” after successful execution of for loop"
   ]
  },
  {
   "cell_type": "code",
   "execution_count": null,
   "id": "3ff33516",
   "metadata": {},
   "outputs": [],
   "source": [
    "for x in range(-10,0):\n",
    "       print(x)\n",
    "else:\n",
    "    print(\"Done\")\n",
    "        \n",
    "    "
   ]
  },
  {
   "cell_type": "markdown",
   "id": "2f09ade7",
   "metadata": {},
   "source": [
    "14: Write a program to display all prime numbers within a range"
   ]
  },
  {
   "cell_type": "code",
   "execution_count": null,
   "id": "2051da89",
   "metadata": {},
   "outputs": [],
   "source": [
    "def is_prime(n):\n",
    "    if n <= 1:\n",
    "        return False\n",
    "    for i in range(2, int(n**0.5) + 1):\n",
    "        if n % i == 0:\n",
    "            return False\n",
    "    return True\n",
    "\n",
    "# Example usage\n",
    "number = 37\n",
    "if is_prime(number):\n",
    "    print(number, \"is a prime number\")\n",
    "else:\n",
    "    print(number, \"is not a prime number\")"
   ]
  },
  {
   "cell_type": "code",
   "execution_count": null,
   "id": "9a98a8c0",
   "metadata": {},
   "outputs": [],
   "source": [
    "kk = 2\n",
    "ll= int(kk**0.5)\n",
    "ll"
   ]
  },
  {
   "cell_type": "markdown",
   "id": "f2dae975",
   "metadata": {},
   "source": [
    "15: Calculate the cube of all numbers from 1 to a given number"
   ]
  },
  {
   "cell_type": "code",
   "execution_count": null,
   "id": "639bd2b5",
   "metadata": {},
   "outputs": [],
   "source": [
    " givn = 10\n",
    "for x in range(1,givn+1):\n",
    "    cube = x**3\n",
    "    print(f\"Current Number is : {x}  and the cube is {cube}\")"
   ]
  },
  {
   "cell_type": "markdown",
   "id": "94e3300e",
   "metadata": {},
   "source": [
    "16 : Write a program to calculate the sum of series up to n term. For example, if n =5 the series will become 2 + 22 + 222 + 2222 + 22222 = 24690"
   ]
  },
  {
   "cell_type": "code",
   "execution_count": null,
   "id": "1ed32541",
   "metadata": {},
   "outputs": [],
   "source": [
    "g = 5\n",
    "series_sum = 0\n",
    "term = 2\n",
    "for i in range(1, g + 1):\n",
    "    series_sum += term\n",
    "    term = term * 10 + 2\n",
    "    print(term)\n",
    "    \n",
    "print(\"Total\",series_sum)    "
   ]
  },
  {
   "cell_type": "markdown",
   "id": "f67c4366",
   "metadata": {},
   "source": [
    "# Nested loop in python"
   ]
  },
  {
   "cell_type": "markdown",
   "id": "cbccaf7b",
   "metadata": {},
   "source": [
    "1. Print a rectangle of stars with a width of 5 and a height of 3."
   ]
  },
  {
   "cell_type": "code",
   "execution_count": null,
   "id": "c325891e",
   "metadata": {},
   "outputs": [],
   "source": [
    "height = 3\n",
    "width = 5\n",
    "for x in range(height):\n",
    "    for z in range(width):\n",
    "        print(\"*\",end=\"\")\n",
    "    print()    "
   ]
  },
  {
   "cell_type": "markdown",
   "id": "d9899e65",
   "metadata": {},
   "source": [
    "2. Generate all possible two-digit numbers using the digits 1, 2, and 3."
   ]
  },
  {
   "cell_type": "code",
   "execution_count": null,
   "id": "1bef1ada",
   "metadata": {},
   "outputs": [],
   "source": [
    "hh = [1,2,3]\n",
    "for i in hh:\n",
    "    for j in hh:\n",
    "        number = i*10+j\n",
    "        print(number)"
   ]
  },
  {
   "cell_type": "markdown",
   "id": "bb9e0ca4",
   "metadata": {},
   "source": [
    "3: Print the multiplication table for numbers 1 to 10."
   ]
  },
  {
   "cell_type": "code",
   "execution_count": null,
   "id": "e27bb4c4",
   "metadata": {},
   "outputs": [],
   "source": [
    "givn = 5\n",
    "for x in range(1,11):\n",
    "    for z in range(1,11):\n",
    "        print(x*z,end=\"\\t\")\n",
    "    print()    "
   ]
  },
  {
   "cell_type": "markdown",
   "id": "5cc256b8",
   "metadata": {},
   "source": [
    "4: Calculate the sum of all elements in a 2D list."
   ]
  },
  {
   "cell_type": "code",
   "execution_count": null,
   "id": "dbf202c3",
   "metadata": {},
   "outputs": [],
   "source": [
    "matrix = [[1, 2, 3], [4, 5, 6], [7, 8, 9]]\n",
    "sum = 0\n",
    "for row in matrix:\n",
    "    for ele in row:\n",
    "        sum+=ele\n",
    "print(sum)        "
   ]
  },
  {
   "cell_type": "markdown",
   "id": "dfaa2a8b",
   "metadata": {},
   "source": [
    "5: Display a pattern of numbers: 1, 12, 123, 1234, 12345.                          ****"
   ]
  },
  {
   "cell_type": "code",
   "execution_count": 6,
   "id": "8e53b038",
   "metadata": {},
   "outputs": [
    {
     "name": "stdout",
     "output_type": "stream",
     "text": [
      "1\n",
      "12\n",
      "123\n",
      "1234\n",
      "12345\n"
     ]
    }
   ],
   "source": [
    "for i in range(1,6):\n",
    "    for j in range(1,i+1):\n",
    "        print(j,end=\"\")\n",
    "    print()"
   ]
  },
  {
   "cell_type": "markdown",
   "id": "273e6f69",
   "metadata": {},
   "source": [
    "6: Print a right triangle of asterisks with a height of 5."
   ]
  },
  {
   "cell_type": "code",
   "execution_count": null,
   "id": "492ab5ea",
   "metadata": {},
   "outputs": [],
   "source": [
    "height = 5\n",
    "for i in range(1, height + 1):\n",
    "    print(\"*\" * i)"
   ]
  },
  {
   "cell_type": "markdown",
   "id": "02ded090",
   "metadata": {},
   "source": [
    "7. Generate all possible combinations of the letters 'A', 'B', and 'C'."
   ]
  },
  {
   "cell_type": "code",
   "execution_count": null,
   "id": "c7a706ab",
   "metadata": {},
   "outputs": [],
   "source": [
    "letters = ['A','B','C']\n",
    "count = 0\n",
    "for i in letters:\n",
    "    for j in letters:\n",
    "        for k in letters:\n",
    "            combo = i + j + k\n",
    "            count +=1\n",
    "            print(combo)\n",
    "print(\"Total possible combination : \",count)            "
   ]
  },
  {
   "cell_type": "markdown",
   "id": "933e9d01",
   "metadata": {},
   "source": [
    "8. Calculate the average of each student's grades in a class."
   ]
  },
  {
   "cell_type": "code",
   "execution_count": null,
   "id": "f2ac16f0",
   "metadata": {},
   "outputs": [],
   "source": [
    "student_grades = {\n",
    "    \"John\": [85, 90, 92, 88, 95],\n",
    "    \"Sarah\": [78, 82, 80, 85, 88],\n",
    "    \"Michael\": [92, 88, 95, 90, 85]\n",
    "}\n",
    "for stdnt,marks in student_grades.items():\n",
    "    avg = sum(marks)//len(stdnt)\n",
    "    \n"
   ]
  },
  {
   "cell_type": "markdown",
   "id": "7481b568",
   "metadata": {},
   "source": [
    "9.Display a countdown from 10 to 1."
   ]
  },
  {
   "cell_type": "code",
   "execution_count": null,
   "id": "2cca84ec",
   "metadata": {},
   "outputs": [],
   "source": [
    "import time\n",
    "\n",
    "def countdown():\n",
    "    for i in range(10, 0, -1):\n",
    "        print(i)\n",
    "        time.sleep(1)  # Pause for 1 second\n",
    "\n",
    "    print(\"Countdown complete!\")\n",
    "\n",
    "countdown()\n"
   ]
  },
  {
   "cell_type": "markdown",
   "id": "3e8b9722",
   "metadata": {},
   "source": [
    "10.Print a pyramid of numbers: 1, 121, 12321, 1234321. "
   ]
  },
  {
   "cell_type": "code",
   "execution_count": null,
   "id": "26334094",
   "metadata": {},
   "outputs": [],
   "source": [
    "def print_pyramid(n):\n",
    "    for i in range(1, n + 1):\n",
    "        for j in range(1, i + 1):\n",
    "            print(j, end=\"\")\n",
    "\n",
    "        for j in range(i - 1, 0, -1):\n",
    "            print(j, end=\"\")\n",
    "\n",
    "        print()\n",
    "\n",
    "print_pyramid(4)\n"
   ]
  },
  {
   "cell_type": "markdown",
   "id": "09cbd32f",
   "metadata": {},
   "source": [
    "11.Calculate the sum of all odd numbers between 1 and 100."
   ]
  },
  {
   "cell_type": "code",
   "execution_count": null,
   "id": "95ffa013",
   "metadata": {},
   "outputs": [],
   "source": [
    "sum_of_odds = 0\n",
    "for i in range(1,101):\n",
    "    if i%2==1:\n",
    "        sum_of_odds +=i\n",
    "print(\"The sum of all odd numbers between 1 and 100 is:\", sum_of_odds)"
   ]
  },
  {
   "cell_type": "markdown",
   "id": "65064c6b",
   "metadata": {},
   "source": [
    "12.Display a pattern of letters: A, AB, ABC, ABCD, ABCDE."
   ]
  },
  {
   "cell_type": "code",
   "execution_count": null,
   "id": "02ef57a1",
   "metadata": {},
   "outputs": [],
   "source": [
    "def print_pattern(n):\n",
    "    for i in range(1, n + 1):\n",
    "        for j in range(1, i + 1):\n",
    "            print(chr(j + 64), end=\"\")\n",
    "        print()\n",
    "\n",
    "# Call the function to print the pattern with 5 letters\n",
    "print_pattern(5)"
   ]
  },
  {
   "cell_type": "markdown",
   "id": "ecf1e8a4",
   "metadata": {},
   "source": [
    "13.Print a square of numbers from 1 to 10."
   ]
  },
  {
   "cell_type": "code",
   "execution_count": null,
   "id": "1933e0a8",
   "metadata": {},
   "outputs": [],
   "source": [
    "for x in range(1,11):\n",
    "    square = x**2\n",
    "    print(f\"   {x} square is  {square}\")"
   ]
  },
  {
   "cell_type": "markdown",
   "id": "073aa839",
   "metadata": {},
   "source": [
    "14.Generate all possible combinations of two dice rolls."
   ]
  },
  {
   "cell_type": "code",
   "execution_count": null,
   "id": "02d841ae",
   "metadata": {},
   "outputs": [],
   "source": [
    "for dice1 in range(1,7):\n",
    "    for dice2 in range(1,7):\n",
    "        print(f\"({dice1} , {dice2})\")"
   ]
  },
  {
   "cell_type": "markdown",
   "id": "e3a9a018",
   "metadata": {},
   "source": [
    "15.Calculate the product of each row in a 2D matrix."
   ]
  },
  {
   "cell_type": "code",
   "execution_count": null,
   "id": "fc55f379",
   "metadata": {},
   "outputs": [],
   "source": [
    "matrix = [\n",
    "    [1, 2, 3],\n",
    "    [4, 5, 6],\n",
    "    [7, 8, 9],\n",
    "    [12,1,36]\n",
    "]\n",
    "new = []\n",
    "for row in matrix:\n",
    "    product=1\n",
    "    for ele in row:\n",
    "        product*=ele\n",
    "    new.append(product)\n",
    "\n",
    "for i, p in enumerate(new):\n",
    "    print(f\"Product of Row {i+1}: {p}\")"
   ]
  },
  {
   "cell_type": "markdown",
   "id": "4b7a8060",
   "metadata": {},
   "source": [
    "16.Display a right triangle of numbers: 1, 22, 333, 4444, 55555."
   ]
  },
  {
   "cell_type": "code",
   "execution_count": null,
   "id": "20215570",
   "metadata": {},
   "outputs": [],
   "source": [
    "for x in range(1,6):\n",
    "   print(str(x)*x)"
   ]
  },
  {
   "cell_type": "markdown",
   "id": "cc5cebdb",
   "metadata": {},
   "source": [
    "17.Generate all possible four-digit numbers using the digits 1, 2, and 3."
   ]
  },
  {
   "cell_type": "code",
   "execution_count": null,
   "id": "6aa96dd0",
   "metadata": {},
   "outputs": [],
   "source": [
    "digits = [1, 2]\n",
    "count = 0\n",
    "\n",
    "for thusands in digits:\n",
    "    for hundred in digits:\n",
    "        for tens in digits:\n",
    "            for unit in digits:\n",
    "                count+=1\n",
    "                number = thusands*1000+hundred*100+tens*10+unit\n",
    "                print(number)\n",
    "\n",
    "print(\"Total count:\", count)"
   ]
  },
  {
   "cell_type": "markdown",
   "id": "bfd7ed12",
   "metadata": {},
   "source": [
    "18.Calculate the sum of all even numbers between 1 and 100."
   ]
  },
  {
   "cell_type": "code",
   "execution_count": null,
   "id": "a1a81ac4",
   "metadata": {},
   "outputs": [],
   "source": [
    "x =0\n",
    "xx=0\n",
    "for num in range(1,101):\n",
    "    if num%2==0:\n",
    "        x+=num\n",
    "        xx+=1\n",
    "\n",
    "print(\"total number:\",xx)\n",
    "print(x)"
   ]
  },
  {
   "cell_type": "markdown",
   "id": "41661d9e",
   "metadata": {},
   "source": [
    "19.Calculate the product of all elements in a jagged array."
   ]
  },
  {
   "cell_type": "code",
   "execution_count": null,
   "id": "16dffff3",
   "metadata": {},
   "outputs": [],
   "source": [
    "arr = [[1, 2, 3], [4, 5], [6, 7, 8, 9]]\n",
    "product = 1\n",
    "for sublist in arr:\n",
    "    for element in sublist:\n",
    "        product *= element\n",
    "\n",
    "    print(product)\n",
    "\n",
    "print(\"Product of all elements in the array:\", product)"
   ]
  },
  {
   "cell_type": "code",
   "execution_count": null,
   "id": "b582c4c4",
   "metadata": {},
   "outputs": [],
   "source": [
    "20.Generate all possible nine-digit numbers using the digits 0 to 7."
   ]
  },
  {
   "cell_type": "code",
   "execution_count": null,
   "id": "e4d320bc",
   "metadata": {},
   "outputs": [],
   "source": [
    "digits = [0, 1, 2, 3, 4, 5, 6, 7]\n",
    "count = 0\n",
    "\n",
    "for digit1 in digits:\n",
    "    for digit2 in digits:\n",
    "        for digit3 in digits:\n",
    "            for digit4 in digits:\n",
    "                for digit5 in digits:\n",
    "                    for digit6 in digits:\n",
    "                        for digit7 in digits:\n",
    "                            for digit8 in digits:\n",
    "                                for digit9 in digits:\n",
    "                                    number = digit1 * 100000000 + digit2 * 10000000 + digit3 * 1000000 + digit4 * 100000 + digit5 * 10000 + digit6 * 1000 + digit7 * 100 + digit8 * 10 + digit9\n",
    "                                    print(number)\n",
    "                                    count += 1\n",
    "\n",
    "print(\"Total count:\", count)"
   ]
  },
  {
   "cell_type": "markdown",
   "id": "d626fdee",
   "metadata": {},
   "source": [
    "# Pattern"
   ]
  },
  {
   "cell_type": "raw",
   "id": "b9a7fc2a",
   "metadata": {},
   "source": [
    "1.\n",
    "* \n",
    "* * \n",
    "* * * \n",
    "* * * * \n",
    "* * * * * "
   ]
  },
  {
   "cell_type": "code",
   "execution_count": 13,
   "id": "2668aa0e",
   "metadata": {},
   "outputs": [
    {
     "name": "stdout",
     "output_type": "stream",
     "text": [
      "\n",
      "* \n",
      "* * \n",
      "* * * \n",
      "* * * * \n",
      "* * * * * \n"
     ]
    }
   ],
   "source": [
    "for i in range(6):\n",
    "    print(\"* \" * i)"
   ]
  },
  {
   "cell_type": "raw",
   "id": "8ca65c3e",
   "metadata": {},
   "source": [
    "2.\n",
    "* * * * * \n",
    "* * * * \n",
    "* * * \n",
    "* * \n",
    "* "
   ]
  },
  {
   "cell_type": "code",
   "execution_count": 14,
   "id": "f18b0803",
   "metadata": {},
   "outputs": [
    {
     "name": "stdout",
     "output_type": "stream",
     "text": [
      "* * * * * * \n",
      "* * * * * \n",
      "* * * * \n",
      "* * * \n",
      "* * \n",
      "* \n"
     ]
    }
   ],
   "source": [
    "for i in range(6,0,-1):\n",
    "    print(\"* \" * i)"
   ]
  },
  {
   "cell_type": "raw",
   "id": "f20e230a",
   "metadata": {},
   "source": [
    "3.\n",
    "    * \n",
    "   * * \n",
    "  * * * \n",
    " * * * * \n",
    "* * * * * "
   ]
  },
  {
   "cell_type": "code",
   "execution_count": 19,
   "id": "62319299",
   "metadata": {},
   "outputs": [
    {
     "name": "stdout",
     "output_type": "stream",
     "text": [
      "    * \n",
      "   * * \n",
      "  * * * \n",
      " * * * * \n",
      "* * * * * \n"
     ]
    }
   ],
   "source": [
    "for i in range(1,6):\n",
    "    print(' '*(5-i)+'* '*i)"
   ]
  },
  {
   "cell_type": "code",
   "execution_count": 22,
   "id": "5032c315",
   "metadata": {},
   "outputs": [
    {
     "name": "stdout",
     "output_type": "stream",
     "text": [
      "* * * * * \n",
      " * * * * \n",
      "  * * * \n",
      "   * * \n",
      "    * \n"
     ]
    }
   ],
   "source": [
    "for i in range(5,0,-1):\n",
    "    print(' '*(5-i)+'* '*i)"
   ]
  },
  {
   "cell_type": "code",
   "execution_count": 23,
   "id": "71382792",
   "metadata": {},
   "outputs": [
    {
     "name": "stdout",
     "output_type": "stream",
     "text": [
      "    1\n",
      "   22\n",
      "  333\n",
      " 4444\n",
      "55555\n"
     ]
    }
   ],
   "source": [
    "for i in range(1, 6):\n",
    "    print(' ' * (5 - i) + str(i) * i)"
   ]
  },
  {
   "cell_type": "code",
   "execution_count": 24,
   "id": "cd5de361",
   "metadata": {},
   "outputs": [
    {
     "name": "stdout",
     "output_type": "stream",
     "text": [
      "55555\n",
      " 4444\n",
      "  333\n",
      "   22\n",
      "    1\n"
     ]
    }
   ],
   "source": [
    "for i in range(5, 0, -1):\n",
    "    print(' ' * (5 - i) + str(i) * i)"
   ]
  },
  {
   "cell_type": "code",
   "execution_count": 27,
   "id": "b36e25ce",
   "metadata": {},
   "outputs": [
    {
     "name": "stdout",
     "output_type": "stream",
     "text": [
      "    *\n",
      "   **\n",
      "  ***\n",
      " ****\n",
      "*****\n"
     ]
    }
   ],
   "source": [
    "for x in range(1,6):\n",
    "    print(' '*(5-x)+ '*'*x)"
   ]
  },
  {
   "cell_type": "code",
   "execution_count": 28,
   "id": "950fbefb",
   "metadata": {},
   "outputs": [
    {
     "name": "stdout",
     "output_type": "stream",
     "text": [
      "*****\n",
      " ****\n",
      "  ***\n",
      "   **\n",
      "    *\n"
     ]
    }
   ],
   "source": [
    "for x in range(5,0,-1):\n",
    "    print(' '*(5-x)+ '*'*x)"
   ]
  },
  {
   "cell_type": "code",
   "execution_count": 29,
   "id": "bf3d57ad",
   "metadata": {},
   "outputs": [
    {
     "name": "stdout",
     "output_type": "stream",
     "text": [
      "    *     \n",
      "   * *    \n",
      "  * * *   \n",
      " * * * *  \n",
      "* * * * * \n"
     ]
    }
   ],
   "source": [
    "for i in range(1, 6):\n",
    "    print(' ' * (5 - i) + '* ' * i + ' ' * (5 - i))\n"
   ]
  },
  {
   "cell_type": "code",
   "execution_count": 30,
   "id": "8e1ac440",
   "metadata": {},
   "outputs": [
    {
     "name": "stdout",
     "output_type": "stream",
     "text": [
      "* * * * * \n",
      " * * * *  \n",
      "  * * *   \n",
      "   * *    \n",
      "    *     \n"
     ]
    }
   ],
   "source": [
    "for i in range(5, 0, -1):\n",
    "    print(' ' * (5 - i) + '* ' * i + ' ' * (5 - i))\n"
   ]
  },
  {
   "cell_type": "code",
   "execution_count": 31,
   "id": "28bf2efe",
   "metadata": {},
   "outputs": [
    {
     "name": "stdout",
     "output_type": "stream",
     "text": [
      "    *     \n",
      "   * * *    \n",
      "  * * * * *   \n",
      " * * * * * * *  \n",
      "* * * * * * * * * \n"
     ]
    }
   ],
   "source": [
    "for i in range(1, 10, 2):\n",
    "    print(' ' * ((9 - i) // 2) + '* ' * i + ' ' * ((9 - i) // 2))\n"
   ]
  },
  {
   "cell_type": "code",
   "execution_count": 32,
   "id": "6d7ba671",
   "metadata": {},
   "outputs": [
    {
     "name": "stdout",
     "output_type": "stream",
     "text": [
      "* * * * * * * * * \n",
      " * * * * * * *  \n",
      "  * * * * *   \n",
      "   * * *    \n",
      "    *     \n"
     ]
    }
   ],
   "source": [
    "for i in range(9, 0, -2):\n",
    "    print(' ' * ((9 - i) // 2) + '* ' * i + ' ' * ((9 - i) // 2))\n"
   ]
  },
  {
   "cell_type": "code",
   "execution_count": 33,
   "id": "b4a6c8f0",
   "metadata": {},
   "outputs": [
    {
     "name": "stdout",
     "output_type": "stream",
     "text": [
      "*         * \n",
      "* *       * * \n",
      "* * *     * * * \n",
      "* * * *   * * * * \n",
      "* * * * * * * * * * \n"
     ]
    }
   ],
   "source": [
    "for i in range(5, 0, -1):\n",
    "    print('* ' * (6 - i) + ' ' * (2 * i - 2) + '* ' * (6 - i))\n"
   ]
  },
  {
   "cell_type": "code",
   "execution_count": 34,
   "id": "01192a46",
   "metadata": {},
   "outputs": [
    {
     "name": "stdout",
     "output_type": "stream",
     "text": [
      "    1    \n",
      "   333   \n",
      "  55555  \n",
      " 7777777 \n",
      "999999999\n"
     ]
    }
   ],
   "source": [
    "for i in range(1, 10, 2):\n",
    "    print(' ' * ((9 - i) // 2) + str(i) * i + ' ' * ((9 - i) // 2))\n"
   ]
  },
  {
   "cell_type": "code",
   "execution_count": 35,
   "id": "5558b227",
   "metadata": {},
   "outputs": [
    {
     "name": "stdout",
     "output_type": "stream",
     "text": [
      "999999999\n",
      " 7777777 \n",
      "  55555  \n",
      "   333   \n",
      "    1    \n"
     ]
    }
   ],
   "source": [
    "for i in range(9, 0, -2):\n",
    "    print(' ' * ((9 - i) // 2) + str(i) * i + ' ' * ((9 - i) // 2))\n"
   ]
  },
  {
   "cell_type": "code",
   "execution_count": null,
   "id": "0946927f",
   "metadata": {},
   "outputs": [],
   "source": []
  }
 ],
 "metadata": {
  "kernelspec": {
   "display_name": "Python 3 (ipykernel)",
   "language": "python",
   "name": "python3"
  },
  "language_info": {
   "codemirror_mode": {
    "name": "ipython",
    "version": 3
   },
   "file_extension": ".py",
   "mimetype": "text/x-python",
   "name": "python",
   "nbconvert_exporter": "python",
   "pygments_lexer": "ipython3",
   "version": "3.10.9"
  }
 },
 "nbformat": 4,
 "nbformat_minor": 5
}
