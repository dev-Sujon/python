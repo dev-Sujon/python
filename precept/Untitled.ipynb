{
 "cells": [
  {
   "cell_type": "code",
   "execution_count": 27,
   "id": "1ec914dc",
   "metadata": {},
   "outputs": [
    {
     "ename": "TypeError",
     "evalue": "'str' object is not callable",
     "output_type": "error",
     "traceback": [
      "\u001b[0;31m---------------------------------------------------------------------------\u001b[0m",
      "\u001b[0;31mTypeError\u001b[0m                                 Traceback (most recent call last)",
      "Cell \u001b[0;32mIn[27], line 24\u001b[0m\n\u001b[1;32m     20\u001b[0m         \u001b[38;5;28mprint\u001b[39m(\u001b[38;5;124mf\u001b[39m\u001b[38;5;124m\"\u001b[39m\u001b[38;5;124mMobile price : \u001b[39m\u001b[38;5;132;01m{\u001b[39;00m\u001b[38;5;28mself\u001b[39m\u001b[38;5;241m.\u001b[39mprice\u001b[38;5;132;01m}\u001b[39;00m\u001b[38;5;124m\"\u001b[39m)\n\u001b[1;32m     23\u001b[0m xiaomi\u001b[38;5;241m=\u001b[39mMobile(\u001b[38;5;124m\"\u001b[39m\u001b[38;5;124mOppo Reno 8T\u001b[39m\u001b[38;5;124m\"\u001b[39m,\u001b[38;5;241m16\u001b[39m,\u001b[38;5;241m256\u001b[39m,\u001b[38;5;124m\"\u001b[39m\u001b[38;5;124mOlED Display\u001b[39m\u001b[38;5;124m\"\u001b[39m,\u001b[38;5;241m95800\u001b[39m)\n\u001b[0;32m---> 24\u001b[0m \u001b[43mxiaomi\u001b[49m\u001b[38;5;241;43m.\u001b[39;49m\u001b[43mdisplay\u001b[49m\u001b[43m(\u001b[49m\u001b[43m)\u001b[49m\n",
      "\u001b[0;31mTypeError\u001b[0m: 'str' object is not callable"
     ]
    }
   ],
   "source": [
    "class Mobile:\n",
    "    def __init__(self,name,ram,rom,display,price):\n",
    "        self.name=name\n",
    "        self.ram=ram\n",
    "        self.rom=rom\n",
    "        self.display=display\n",
    "        self.price=price\n",
    "    def update_info(self,n_name,n_ram,n_rom,n_display,n_price):\n",
    "        self.name=n_name\n",
    "        self.ram=n_ram\n",
    "        self.rom=n_rom\n",
    "        self.display=n_display\n",
    "        self.price=n_price\n",
    "        \n",
    "    def display(self):\n",
    "        print(f\"Mobile name : {self.name}\")\n",
    "        print(f\"Mobile ram : {self.ram}\")\n",
    "        print(f\"Mobile rom : {self.rom}\")\n",
    "        print(f\"Mobile display : {self.display}\")\n",
    "        print(f\"Mobile price : {self.price}\")\n",
    "\n",
    "              \n",
    "xiaomi=Mobile(\"Oppo Reno 8T\",16,256,\"OlED Display\",95800)\n",
    "xiaomi.display()"
   ]
  },
  {
   "cell_type": "code",
   "execution_count": null,
   "id": "38dfb7fd",
   "metadata": {},
   "outputs": [],
   "source": []
  },
  {
   "cell_type": "code",
   "execution_count": null,
   "id": "a2c68cc3",
   "metadata": {},
   "outputs": [],
   "source": []
  },
  {
   "cell_type": "code",
   "execution_count": null,
   "id": "211150a8",
   "metadata": {},
   "outputs": [],
   "source": []
  },
  {
   "cell_type": "code",
   "execution_count": null,
   "id": "61dbcc5b",
   "metadata": {},
   "outputs": [],
   "source": []
  },
  {
   "cell_type": "code",
   "execution_count": null,
   "id": "098ce068",
   "metadata": {},
   "outputs": [],
   "source": []
  },
  {
   "cell_type": "code",
   "execution_count": null,
   "id": "574ef47d",
   "metadata": {},
   "outputs": [],
   "source": []
  },
  {
   "cell_type": "code",
   "execution_count": null,
   "id": "5eea7de1",
   "metadata": {},
   "outputs": [],
   "source": []
  },
  {
   "cell_type": "code",
   "execution_count": null,
   "id": "8e4c76e8",
   "metadata": {},
   "outputs": [],
   "source": []
  },
  {
   "cell_type": "code",
   "execution_count": null,
   "id": "9a6d6bc9",
   "metadata": {},
   "outputs": [],
   "source": []
  },
  {
   "cell_type": "code",
   "execution_count": null,
   "id": "326f6a57",
   "metadata": {},
   "outputs": [],
   "source": []
  },
  {
   "cell_type": "code",
   "execution_count": null,
   "id": "b6e966ae",
   "metadata": {},
   "outputs": [],
   "source": []
  },
  {
   "cell_type": "code",
   "execution_count": null,
   "id": "b4f73c1b",
   "metadata": {},
   "outputs": [],
   "source": []
  },
  {
   "cell_type": "code",
   "execution_count": null,
   "id": "940096bb",
   "metadata": {},
   "outputs": [],
   "source": []
  }
 ],
 "metadata": {
  "kernelspec": {
   "display_name": "Python 3 (ipykernel)",
   "language": "python",
   "name": "python3"
  },
  "language_info": {
   "codemirror_mode": {
    "name": "ipython",
    "version": 3
   },
   "file_extension": ".py",
   "mimetype": "text/x-python",
   "name": "python",
   "nbconvert_exporter": "python",
   "pygments_lexer": "ipython3",
   "version": "3.10.9"
  }
 },
 "nbformat": 4,
 "nbformat_minor": 5
}
