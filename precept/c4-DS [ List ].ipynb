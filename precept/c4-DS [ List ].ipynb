{
 "cells": [
  {
   "cell_type": "markdown",
   "id": "fbe569e5",
   "metadata": {},
   "source": [
    "# List in Python"
   ]
  },
  {
   "cell_type": "code",
   "execution_count": null,
   "id": "c105bf78",
   "metadata": {},
   "outputs": [],
   "source": [
    "list1 = [3,4,5,9,10,12,24]    \n",
    "sum = 0    \n",
    "for i in list1:    \n",
    "    sum = sum+i        \n",
    "print(\"The sum is:\",sum)  "
   ]
  },
  {
   "cell_type": "code",
   "execution_count": null,
   "id": "128b8c1a",
   "metadata": {},
   "outputs": [],
   "source": [
    "list = [1,2,3,4,5,6,7]    \n",
    "print(list[0])    \n",
    "print(list[1])    \n",
    "print(list[2])    \n",
    "print(list[3])    \n",
    "# Slicing the elements    \n",
    "print(list[0:6])    \n",
    "# By default, the index value is 0 so its starts from the 0th element and go for index -1.    \n",
    "print(list[:])    \n",
    "print(list[2:5])    \n",
    "print(list[1:6:2])    "
   ]
  },
  {
   "cell_type": "code",
   "execution_count": null,
   "id": "4d58c83b",
   "metadata": {},
   "outputs": [],
   "source": [
    "list = [1,2,3,4,5]    \n",
    "print(list[-1])    \n",
    "print(list[-3:])    \n",
    "print(list[:-1])    \n",
    "print(list[-3:-1])    "
   ]
  },
  {
   "cell_type": "code",
   "execution_count": null,
   "id": "7fb97719",
   "metadata": {},
   "outputs": [],
   "source": [
    "list = [1, 2, 3, 4, 5, 6]       \n",
    "print(list)       \n",
    "# It will assign value to the value to the second index     \n",
    "list[2] = 10     \n",
    "print(list)      \n",
    "# Adding multiple-element     \n",
    "list[1:3] = [89, 78]       \n",
    "print(list)     \n",
    "# It will add value at the end of the list    \n",
    "list[-1] = 25    \n",
    "print(list)    "
   ]
  },
  {
   "cell_type": "code",
   "execution_count": null,
   "id": "8782a912",
   "metadata": {},
   "outputs": [],
   "source": [
    "List = [10,3,12,22,64,352,55,6,10,3,2,1]\n",
    "res = sort(List)\n",
    "print(res)"
   ]
  },
  {
   "cell_type": "code",
   "execution_count": null,
   "id": "c1119055",
   "metadata": {},
   "outputs": [],
   "source": [
    "L = [15,3,10,25,15,10,5,18,33,50]\n",
    "##pop(index)\n",
    "print(L.pop())\n",
    "L"
   ]
  },
  {
   "cell_type": "code",
   "execution_count": null,
   "id": "f9029f2b",
   "metadata": {},
   "outputs": [],
   "source": [
    "list1 = [12, 14, 16, 18, 20]  \n",
    "# repetition operator *  \n",
    "l = list1 * 2  \n",
    "print(l)  "
   ]
  },
  {
   "cell_type": "markdown",
   "id": "cb6f5b5a",
   "metadata": {},
   "source": [
    "Append Item"
   ]
  },
  {
   "cell_type": "code",
   "execution_count": null,
   "id": "7070ba63",
   "metadata": {},
   "outputs": [],
   "source": [
    "##append item\n",
    "L.append(100)\n",
    "L\n",
    "sort(L)    "
   ]
  },
  {
   "cell_type": "code",
   "execution_count": null,
   "id": "1e5253a5",
   "metadata": {},
   "outputs": [],
   "source": [
    "LL =[]\n",
    "\n",
    "for x in range(1,50):\n",
    "    if x%2==0:\n",
    "        LL.append(x)\n",
    "print(LL)        \n"
   ]
  },
  {
   "cell_type": "code",
   "execution_count": null,
   "id": "6ba28a1a",
   "metadata": {},
   "outputs": [],
   "source": [
    "item = [\"apple\",\"banana\",\"mango\",\"jack fruite\"]\n",
    "print(item)"
   ]
  },
  {
   "cell_type": "code",
   "execution_count": null,
   "id": "0e216268",
   "metadata": {},
   "outputs": [],
   "source": [
    "currencies = ['Dollar', 'Euro', 'Pound']\n",
    "\n",
    "# append 'Yen' to the list\n",
    "currencies.append('Yen')\n",
    "\n",
    "print(currencies)\n",
    "\n",
    "# Output: ['Dollar', 'Euro', 'Pound', 'Yen']"
   ]
  },
  {
   "cell_type": "code",
   "execution_count": null,
   "id": "18a32e86",
   "metadata": {},
   "outputs": [],
   "source": [
    "# animals list\n",
    "animals = ['cat', 'dog', 'rabbit']\n",
    "\n",
    "# Add 'guinea pig' to the list\n",
    "animals.append('guinea pig')\n",
    "\n",
    "print('Updated animals list: ', animals)"
   ]
  },
  {
   "cell_type": "code",
   "execution_count": null,
   "id": "f45e8564",
   "metadata": {},
   "outputs": [],
   "source": [
    "# animals list\n",
    "animals = ['cat', 'dog', 'rabbit']\n",
    "\n",
    "# list of wild animals\n",
    "wild_animals = ['tiger', 'fox']\n",
    "\n",
    "# appending wild_animals list to animals\n",
    "animals.append(wild_animals)\n",
    "\n",
    "print('Updated animals list: ', animals)"
   ]
  },
  {
   "cell_type": "code",
   "execution_count": null,
   "id": "8c13b9af",
   "metadata": {},
   "outputs": [],
   "source": []
  },
  {
   "cell_type": "raw",
   "id": "e181ab40",
   "metadata": {},
   "source": [
    "Access items in the list"
   ]
  },
  {
   "cell_type": "code",
   "execution_count": null,
   "id": "77aeac1e",
   "metadata": {},
   "outputs": [],
   "source": [
    "print(item[2])\n",
    "print(item[3])\n",
    "print(item[1])\n",
    "print(item[0])"
   ]
  },
  {
   "cell_type": "code",
   "execution_count": null,
   "id": "04c1880d",
   "metadata": {},
   "outputs": [],
   "source": [
    "fibb_number = [0,1,1,2,3,5,8,13,21,34,56,90]\n",
    "print(fibb_number[-1])\n",
    "print(fibb_number[:-1])\n",
    "print(fibb_number[0:])\n",
    "print(fibb_number[2:8])\n",
    "print(fibb_number[-9:-2])\n",
    "print(fibb_number[-4:])"
   ]
  },
  {
   "cell_type": "code",
   "execution_count": null,
   "id": "d6bc54c4",
   "metadata": {},
   "outputs": [],
   "source": [
    "thislist = [\"apple\", \"banana\", \"cherry\"]\n",
    "if \"apple\" in thislist:\n",
    "  print(\"Yes, 'apple' is in the fruits list\")"
   ]
  },
  {
   "cell_type": "raw",
   "id": "ea48c140",
   "metadata": {},
   "source": [
    "Change Item Value"
   ]
  },
  {
   "cell_type": "code",
   "execution_count": null,
   "id": "1deb7b54",
   "metadata": {},
   "outputs": [],
   "source": [
    "thislist = [\"apple\", \"banana\", \"cherry\"]\n",
    "thislist[1] = \"blackcurrant\"\n",
    "print(thislist)"
   ]
  },
  {
   "cell_type": "raw",
   "id": "37674ff8",
   "metadata": {},
   "source": [
    "Append Items"
   ]
  },
  {
   "cell_type": "code",
   "execution_count": null,
   "id": "3ab3b11e",
   "metadata": {},
   "outputs": [],
   "source": [
    "nos = [2,4,6,10,12,235,11,352,154,33]\n",
    "nos.append(20)\n",
    "nos.append(15)\n",
    "nos.append(250)\n",
    "print(nos)"
   ]
  },
  {
   "cell_type": "raw",
   "id": "ad32aa9d",
   "metadata": {},
   "source": [
    "Insert Items"
   ]
  },
  {
   "cell_type": "code",
   "execution_count": null,
   "id": "a669b806",
   "metadata": {},
   "outputs": [],
   "source": [
    "insrt = []\n",
    "insrt.insert(1,10)\n",
    "insrt.insert(0,8)\n",
    "insrt.insert(2,11)\n",
    "insrt.insert(5,55)\n",
    "insrt.insert(3,40)\n",
    "insrt.insert(4,100.254)\n",
    "print(insrt)"
   ]
  },
  {
   "cell_type": "code",
   "execution_count": null,
   "id": "37cadb80",
   "metadata": {},
   "outputs": [],
   "source": [
    "# create a list of vowels\n",
    "vowel = ['a', 'e', 'i', 'u']\n",
    "\n",
    "# 'o' is inserted at index 3 (4th position)\n",
    "vowel.insert(3, 'o')\n",
    "\n",
    "print('List:', vowel)\n",
    "\n",
    "# Output: List: ['a', 'e', 'i', 'o', 'u']"
   ]
  },
  {
   "cell_type": "code",
   "execution_count": null,
   "id": "bc6ebd12",
   "metadata": {},
   "outputs": [],
   "source": [
    "# create a list of prime numbers\n",
    "prime_numbers = [2, 3, 5, 7]\n",
    "\n",
    "# insert 11 at index 4\n",
    "prime_numbers.insert(4, 11)\n",
    "\n",
    "print('List:', prime_numbers)"
   ]
  },
  {
   "cell_type": "code",
   "execution_count": null,
   "id": "130c9123",
   "metadata": {},
   "outputs": [],
   "source": [
    "mixed_list = [{1, 2}, [5, 6, 7]]\n",
    "\n",
    "# number tuple\n",
    "number_tuple = (3, 4)\n",
    "\n",
    "# inserting a tuple to the list\n",
    "mixed_list.insert(1, number_tuple)\n",
    "\n",
    "\n",
    "print('Updated List:', mixed_list)"
   ]
  },
  {
   "cell_type": "code",
   "execution_count": null,
   "id": "4f0c876f",
   "metadata": {},
   "outputs": [],
   "source": [
    "thislist = [\"apple\", \"banana\", \"cherry\"]\n",
    "tropical = [\"mango\", \"pineapple\", \"papaya\"]\n",
    "thislist.extend(tropical)\n",
    "print(thislist)"
   ]
  },
  {
   "cell_type": "code",
   "execution_count": null,
   "id": "af5f51d4",
   "metadata": {},
   "outputs": [],
   "source": [
    "num = [nos]*2\n",
    "print(num)"
   ]
  },
  {
   "cell_type": "code",
   "execution_count": null,
   "id": "e11856b3",
   "metadata": {},
   "outputs": [],
   "source": [
    "empl = [1,-1,4,3,10,5,12,15,9]\n",
    "tmp = [1,2,3,4,5,6,7,8]\n",
    "empl.extend(tmp)\n",
    "print(empl)"
   ]
  },
  {
   "cell_type": "code",
   "execution_count": null,
   "id": "95a2d01b",
   "metadata": {},
   "outputs": [],
   "source": [
    "# create a list\n",
    "prime_numbers = [2, 3, 5]\n",
    "\n",
    "# create another list\n",
    "numbers = [1, 4]\n",
    "\n",
    "# add all elements of prime_numbers to numbers\n",
    "numbers.extend(prime_numbers)\n",
    "\n",
    "\n",
    "print('List after extend():', numbers)\n",
    "\n",
    "# Output: List after extend(): [1, 4, 2, 3, 5]"
   ]
  },
  {
   "cell_type": "code",
   "execution_count": null,
   "id": "72db2fd6",
   "metadata": {},
   "outputs": [],
   "source": [
    "# languages list\n",
    "languages = ['French', 'English']\n",
    "\n",
    "# another list of language\n",
    "languages1 = ['Spanish', 'Portuguese']\n",
    "\n",
    "# appending language1 elements to language\n",
    "languages.extend(languages1)\n",
    "\n",
    "\n",
    "print('Languages List:', languages)"
   ]
  },
  {
   "cell_type": "code",
   "execution_count": null,
   "id": "9528d398",
   "metadata": {},
   "outputs": [],
   "source": [
    "# languages list\n",
    "languages = ['French']\n",
    "\n",
    "# languages tuple\n",
    "languages_tuple = ('Spanish', 'Portuguese')\n",
    "\n",
    "# languages set\n",
    "languages_set = {'Chinese', 'Japanese'}\n",
    "\n",
    "# appending language_tuple elements to language\n",
    "languages.extend(languages_tuple)\n",
    "\n",
    "\n",
    "print('New Language List:', languages)\n",
    "\n",
    "# appending language_set elements to language\n",
    "languages.extend(languages_set)\n",
    "\n",
    "\n",
    "print('Newer Languages List:', languages)"
   ]
  },
  {
   "cell_type": "markdown",
   "id": "ea1db493",
   "metadata": {},
   "source": [
    "Remove Specified Item - remove(\"specified item\")"
   ]
  },
  {
   "cell_type": "code",
   "execution_count": null,
   "id": "119dce02",
   "metadata": {},
   "outputs": [],
   "source": [
    "how = [\"apple\", \"banana\", \"cherry\",\"Guava\"]\n",
    "\n",
    "how.remove(\"banana\")\n",
    "\n",
    "print(how)"
   ]
  },
  {
   "cell_type": "code",
   "execution_count": null,
   "id": "c73682b5",
   "metadata": {},
   "outputs": [],
   "source": [
    "my_arr = [1,2,3,3,6,10,10,12,22,55,64,352]\n",
    "my_arr.remove(64)\n",
    "my_arr"
   ]
  },
  {
   "cell_type": "code",
   "execution_count": null,
   "id": "7fa97397",
   "metadata": {},
   "outputs": [],
   "source": [
    "mobile = [10,3,6,74,35,95,15,81,63,22,15,91,22,1]\n",
    "mobile.remove(1)\n",
    "mobile"
   ]
  },
  {
   "cell_type": "markdown",
   "id": "188d0d5b",
   "metadata": {},
   "source": [
    "The del keyword also removes the specified index:"
   ]
  },
  {
   "cell_type": "code",
   "execution_count": null,
   "id": "21602eaf",
   "metadata": {},
   "outputs": [],
   "source": [
    "listt = [\"apple\", \"banana\", \"cherry\"]\n",
    "del listt[0]\n",
    "print(listt)"
   ]
  },
  {
   "cell_type": "code",
   "execution_count": null,
   "id": "89dc4680",
   "metadata": {},
   "outputs": [],
   "source": [
    "mobile = [10,3,6,74,35,95,15,81,63,22,15,91,22,1]\n",
    "mobile.sort()\n",
    "del mobile\n",
    "#this will cause an error because you have succsesfully deleted \"thislist\".\n",
    "mobile"
   ]
  },
  {
   "cell_type": "code",
   "execution_count": null,
   "id": "0d7a695a",
   "metadata": {},
   "outputs": [],
   "source": [
    "mob = [2, 3, 5, 8, 13, 21, 34]\n",
    "del mob[:-2]\n",
    "mob"
   ]
  },
  {
   "cell_type": "markdown",
   "id": "b491d113",
   "metadata": {},
   "source": [
    "\n",
    "Clear the List\n"
   ]
  },
  {
   "cell_type": "code",
   "execution_count": null,
   "id": "699a4663",
   "metadata": {},
   "outputs": [],
   "source": [
    "mohjong = [2, 3, 5, 8, 13, 21, 34]\n",
    "mohjong"
   ]
  },
  {
   "cell_type": "code",
   "execution_count": null,
   "id": "05c14fa4",
   "metadata": {},
   "outputs": [],
   "source": [
    "#clear the list \n",
    "mohjong.clear()\n",
    "mohjong"
   ]
  },
  {
   "cell_type": "code",
   "execution_count": null,
   "id": "11049614",
   "metadata": {},
   "outputs": [],
   "source": [
    "listt = [\"apple\", \"banana\", \"cherry\"]\n",
    "listt.clear()\n",
    "listt"
   ]
  },
  {
   "cell_type": "markdown",
   "id": "48668f26",
   "metadata": {},
   "source": [
    "Pop up item - pop(specified index)"
   ]
  },
  {
   "cell_type": "code",
   "execution_count": null,
   "id": "b4288079",
   "metadata": {},
   "outputs": [],
   "source": [
    "my_arr = [1,2,3,3,6,10,10,12,22,55,64,352]\n",
    "my_arr.pop(-1)\n",
    "my_arr"
   ]
  },
  {
   "cell_type": "code",
   "execution_count": null,
   "id": "64dca21b",
   "metadata": {},
   "outputs": [],
   "source": [
    "mobile = [10,3,6,74,35,95,15,81,63,22,15,91,22,1]\n",
    "mobile.pop(2)\n",
    "mobile"
   ]
  },
  {
   "cell_type": "code",
   "execution_count": null,
   "id": "89735759",
   "metadata": {},
   "outputs": [],
   "source": [
    "# create a list of prime numbers\n",
    "prime_numbers = [2, 3, 5, 7]\n",
    "\n",
    "# remove the element at index 2\n",
    "removed_element = prime_numbers.pop(2)\n",
    "\n",
    "print('Removed Element:', removed_element)\n",
    "print('Updated List:', prime_numbers)\n",
    "\n",
    "# Output: \n",
    "# Removed Element: 5\n",
    "# Updated List: [2, 3, 7]"
   ]
  },
  {
   "cell_type": "code",
   "execution_count": null,
   "id": "7700b79e",
   "metadata": {},
   "outputs": [],
   "source": [
    "print(LL)"
   ]
  },
  {
   "cell_type": "code",
   "execution_count": null,
   "id": "fa5c2592",
   "metadata": {},
   "outputs": [],
   "source": [
    "# programming languages list\n",
    "languages = ['Python', 'Java', 'C++', 'French', 'C']\n",
    "\n",
    "# remove and return the 4th item\n",
    "return_value = languages.pop(3)\n",
    "\n",
    "print('Return Value:', return_value)\n",
    "\n",
    "# Updated List\n",
    "print('Updated List:', languages)"
   ]
  },
  {
   "cell_type": "code",
   "execution_count": null,
   "id": "3c0893b3",
   "metadata": {},
   "outputs": [],
   "source": [
    "# programming languages list\n",
    "languages = ['Python', 'Java', 'C++', 'Ruby', 'C']\n",
    "\n",
    "# remove and return the last item\n",
    "print('When index is not passed:') \n",
    "print('Return Value:', languages.pop())\n",
    "\n",
    "print('Updated List:', languages)\n",
    "\n",
    "# remove and return the last item\n",
    "print('\\nWhen -1 is passed:') \n",
    "print('Return Value:', languages.pop(-1))\n",
    "\n",
    "print('Updated List:', languages)\n",
    "\n",
    "# remove and return the third last item\n",
    "print('\\nWhen -3 is passed:') \n",
    "print('Return Value:', languages.pop(-3))\n",
    "\n",
    "print('Updated List:', languages)"
   ]
  },
  {
   "cell_type": "code",
   "execution_count": null,
   "id": "64fb9a6b",
   "metadata": {},
   "outputs": [],
   "source": [
    "LL.pop(-10)\n",
    "LL.pop(-1)\n",
    "print(LL)"
   ]
  },
  {
   "cell_type": "code",
   "execution_count": null,
   "id": "292008dc",
   "metadata": {},
   "outputs": [],
   "source": [
    "res=LL[16:4:-1]\n",
    "print(res)"
   ]
  },
  {
   "cell_type": "code",
   "execution_count": null,
   "id": "e8400191",
   "metadata": {},
   "outputs": [],
   "source": [
    "res[10:1:-1]\n",
    "res"
   ]
  },
  {
   "cell_type": "markdown",
   "id": "c45f0f66",
   "metadata": {},
   "source": [
    "reverse a list"
   ]
  },
  {
   "cell_type": "code",
   "execution_count": null,
   "id": "2ce90a7c",
   "metadata": {},
   "outputs": [],
   "source": [
    "fruits = ['coconut', 'banana', 'cherry']\n",
    "\n",
    "fruits.reverse()\n",
    "fruits"
   ]
  },
  {
   "cell_type": "code",
   "execution_count": null,
   "id": "3a83f32c",
   "metadata": {},
   "outputs": [],
   "source": [
    "fruits"
   ]
  },
  {
   "cell_type": "code",
   "execution_count": null,
   "id": "0aad3212",
   "metadata": {},
   "outputs": [],
   "source": [
    "fruits[3:1:-1]"
   ]
  },
  {
   "cell_type": "markdown",
   "id": "b5d84821",
   "metadata": {},
   "source": [
    "#copy a link"
   ]
  },
  {
   "cell_type": "code",
   "execution_count": null,
   "id": "aa5ad284",
   "metadata": {},
   "outputs": [],
   "source": [
    "new_list = [2, 3, 5, 8, 13, 21, 34]\n",
    "x = new_list.copy()\n",
    "x"
   ]
  },
  {
   "cell_type": "code",
   "execution_count": null,
   "id": "03d5a037",
   "metadata": {},
   "outputs": [],
   "source": [
    "if x == new_list:\n",
    "    print(\"list is copied!\")"
   ]
  },
  {
   "cell_type": "code",
   "execution_count": null,
   "id": "46f3a7d5",
   "metadata": {},
   "outputs": [],
   "source": [
    "#find index using item -  index(item)\n",
    "country = ['Bangkok','England','USA','UK','India','Pakistan']\n",
    "res = country.index('India')\n",
    "print(res)"
   ]
  },
  {
   "cell_type": "code",
   "execution_count": null,
   "id": "7613c921",
   "metadata": {},
   "outputs": [],
   "source": [
    "fruits = [4, 55, 64, 32, 16, 32]\n",
    "\n",
    "x = fruits.index(32)\n",
    "x"
   ]
  },
  {
   "cell_type": "code",
   "execution_count": null,
   "id": "a02f9876",
   "metadata": {},
   "outputs": [],
   "source": [
    "# mixed list\n",
    "my_list = ['cat', 0, 6.7]\n",
    "\n",
    "# copying a list\n",
    "new_list = my_list.copy()\n",
    "\n",
    "\n",
    "print('Copied List:', new_list)"
   ]
  },
  {
   "cell_type": "code",
   "execution_count": null,
   "id": "053a4c19",
   "metadata": {},
   "outputs": [],
   "source": [
    "old_list = [1, 2, 3]\n",
    "\n",
    "# copy list using =\n",
    "new_list = old_list\n",
    "\n",
    "\n",
    "# add an element to list\n",
    "new_list.append('a')\n",
    "\n",
    "print('New List:', new_list)\n",
    "print('Old List:', old_list)"
   ]
  },
  {
   "cell_type": "code",
   "execution_count": null,
   "id": "8fc2e325",
   "metadata": {},
   "outputs": [],
   "source": [
    "# shallow copy using the slicing syntax\n",
    "\n",
    "# mixed list\n",
    "list = ['cat', 0, 6.7]\n",
    "\n",
    "# copying a list using slicing\n",
    "new_list = list[:]\n",
    "\n",
    "\n",
    "# Adding an element to the new list\n",
    "new_list.append('dog')\n",
    "\n",
    "# Printing new and old list\n",
    "print('Old List:', list)\n",
    "print('New List:', new_list)"
   ]
  },
  {
   "cell_type": "markdown",
   "id": "2145f1c5",
   "metadata": {},
   "source": [
    "# Practice"
   ]
  },
  {
   "cell_type": "code",
   "execution_count": null,
   "id": "f3ccbca5",
   "metadata": {},
   "outputs": [],
   "source": [
    "practice_list = [1, 2, 3, 4, 5]\n",
    "print(3 in practice_list)  # Output: True\n",
    "print(6 in practice_list)  # Output: False"
   ]
  },
  {
   "cell_type": "code",
   "execution_count": null,
   "id": "e5c073db",
   "metadata": {},
   "outputs": [],
   "source": [
    "practice_list = [1, 2, 3, 4, 5]\n",
    "subset = practice_list[1:4]  # Get elements at indices 1, 2, 3\n",
    "print(subset)  # Output: [2, 3, 4]\n"
   ]
  },
  {
   "cell_type": "code",
   "execution_count": null,
   "id": "a7cb00eb",
   "metadata": {},
   "outputs": [],
   "source": [
    "list1 = [1, 2, 3]\n",
    "list2 = [4, 5, 6]\n",
    "combined_list = list1 + list2\n",
    "print(combined_list)  # Output: [1, 2, 3, 4, 5, 6]\n"
   ]
  },
  {
   "cell_type": "code",
   "execution_count": null,
   "id": "65c44404",
   "metadata": {},
   "outputs": [],
   "source": [
    "practice_list = [1, 2, 3, 4, 5]\n",
    "practice_list.remove(3)\n",
    "print(practice_list)  # Output: [1, 2, 4, 5]\n"
   ]
  },
  {
   "cell_type": "code",
   "execution_count": null,
   "id": "fd6138e3",
   "metadata": {},
   "outputs": [],
   "source": [
    "practice_list = [4, 2, 1, 3, 5]\n",
    "practice_list.sort()\n",
    "print(practice_list)  # Output: [1, 2, 3, 4, 5]\n"
   ]
  },
  {
   "cell_type": "code",
   "execution_count": null,
   "id": "1dc355e2",
   "metadata": {},
   "outputs": [],
   "source": [
    "# List slicing in Python\n",
    "\n",
    "my_list = ['p','r','o','g','r','a','m','i','n','g']\n",
    "\n",
    "# items from index 2 to index 4\n",
    "print(my_list[2:5])\n",
    "\n",
    "# items from index 5 to end\n",
    "print(my_list[5:])\n",
    "\n",
    "# items beginning to end\n",
    "print(my_list[:])"
   ]
  },
  {
   "cell_type": "code",
   "execution_count": null,
   "id": "48be265f",
   "metadata": {},
   "outputs": [],
   "source": [
    "numbers = [21, 34, 54, 12]\n",
    "\n",
    "print(\"Before Append:\", numbers)\n",
    "\n",
    "# using append method\n",
    "numbers.append(32)\n",
    "\n",
    "print(\"After Append:\", numbers)"
   ]
  },
  {
   "cell_type": "code",
   "execution_count": null,
   "id": "582c8070",
   "metadata": {},
   "outputs": [],
   "source": [
    "prime_numbers = [2, 3, 5]\n",
    "print(\"List1:\", prime_numbers)\n",
    "\n",
    "even_numbers = [4, 6, 8]\n",
    "print(\"List2:\", even_numbers)\n",
    "\n",
    "# join two lists\n",
    "prime_numbers.extend(even_numbers)\n",
    "\n",
    "print(\"List after append:\", prime_numbers) "
   ]
  },
  {
   "cell_type": "code",
   "execution_count": null,
   "id": "02f29ef1",
   "metadata": {},
   "outputs": [],
   "source": [
    "languages = ['Python', 'Swift', 'C']\n",
    "\n",
    "# changing the third item to 'C'\n",
    "languages[2] = 'C++'\n",
    "\n",
    "print(languages)  # ['Python', 'Swift', 'C']"
   ]
  },
  {
   "cell_type": "code",
   "execution_count": null,
   "id": "96116d2c",
   "metadata": {},
   "outputs": [],
   "source": [
    "languages = ['Python', 'Swift', 'C++', 'C', 'Java', 'Rust', 'R']\n",
    "\n",
    "# deleting the second item\n",
    "del languages[1]\n",
    "print(languages) # ['Python', 'C++', 'C', 'Java', 'Rust', 'R']\n",
    "\n",
    "# deleting the last item\n",
    "del languages[-1]\n",
    "print(languages) # ['Python', 'C++', 'C', 'Java', 'Rust']\n",
    "\n",
    "# delete first two items\n",
    "del languages[0 : 2]  # ['C', 'Java', 'Rust']\n",
    "print(languages)"
   ]
  },
  {
   "cell_type": "code",
   "execution_count": null,
   "id": "548f6592",
   "metadata": {},
   "outputs": [],
   "source": [
    "languages = ['Python', 'Swift', 'C++', 'C', 'Java', 'Rust', 'R']\n",
    "\n",
    "# remove 'Python' from the list\n",
    "languages.remove('Python')\n",
    "\n",
    "print(languages) # ['Swift', 'C++', 'C', 'Java', 'Rust', 'R']"
   ]
  },
  {
   "cell_type": "code",
   "execution_count": null,
   "id": "6710217e",
   "metadata": {},
   "outputs": [],
   "source": [
    "animals = ['cat', 'dog', 'rabbit', 'horse']\n",
    "\n",
    "# get the index of 'dog'\n",
    "index = animals.index('dog')\n",
    "\n",
    "\n",
    "print(index)\n",
    "\n",
    "# Output: 1"
   ]
  },
  {
   "cell_type": "markdown",
   "id": "8c7eea8f",
   "metadata": {},
   "source": [
    "Count in python"
   ]
  },
  {
   "cell_type": "code",
   "execution_count": null,
   "id": "5df6ad2c",
   "metadata": {},
   "outputs": [],
   "source": [
    "# create a list\n",
    "numbers = [2, 3, 5, 2, 11, 2, 7]\n",
    "\n",
    "# check the count of 2\n",
    "count = numbers.count(2)\n",
    "\n",
    "\n",
    "print('Count of 2:', count)\n",
    "\n",
    "# Output: Count of 2: 3"
   ]
  },
  {
   "cell_type": "code",
   "execution_count": null,
   "id": "6f07b18a",
   "metadata": {},
   "outputs": [],
   "source": [
    "# vowels list\n",
    "vowels = ['a', 'e', 'i', 'o', 'i', 'u']\n",
    "\n",
    "# count element 'i'\n",
    "count = vowels.count('i')\n",
    "\n",
    "\n",
    "# print count\n",
    "print('The count of i is:', count)\n",
    "\n",
    "# count element 'p'\n",
    "count = vowels.count('p')\n",
    "\n",
    "\n",
    "# print count\n",
    "print('The count of p is:', count)"
   ]
  },
  {
   "cell_type": "code",
   "execution_count": null,
   "id": "a8ce9c9f",
   "metadata": {},
   "outputs": [],
   "source": [
    "# random list\n",
    "random = ['a', ('a', 'b'), ('a', 'b'), [3, 4]]\n",
    "\n",
    "# count element ('a', 'b')\n",
    "count = random.count(('a', 'b'))\n",
    "\n",
    "\n",
    "# print count\n",
    "print(\"The count of ('a', 'b') is:\", count)\n",
    "\n",
    "# count element [3, 4]\n",
    "count = random.count([3, 4])\n",
    "\n",
    "\n",
    "# print count\n",
    "print(\"The count of [3, 4] is:\", count)"
   ]
  },
  {
   "cell_type": "markdown",
   "id": "2ae0c6e1",
   "metadata": {},
   "source": [
    "# Some programe"
   ]
  },
  {
   "cell_type": "code",
   "execution_count": null,
   "id": "a68dca29",
   "metadata": {},
   "outputs": [],
   "source": [
    "#Declaring the empty list    \n",
    "l =[]    \n",
    "#Number of elements will be entered by the user      \n",
    "n = int(input(\"Enter the number of elements in the list:\"))    \n",
    "# for loop to take the input    \n",
    "for i in range(0,n):       \n",
    "    # The input is taken from the user and added to the list as the item    \n",
    "    l.append(input(\"Enter the item:\"))       \n",
    "print(\"printing the list items..\")     \n",
    "# traversal loop to print the list items      \n",
    "for i in l:     \n",
    "    print(i, end = \"  \")   \n"
   ]
  },
  {
   "cell_type": "code",
   "execution_count": null,
   "id": "851173b1",
   "metadata": {},
   "outputs": [],
   "source": [
    "list1 = [1,2,3,4,5,6]    \n",
    "list2 = [7,8,9,2,10]    \n",
    "for x in list1:    \n",
    "    for y in list2:    \n",
    "        if x == y:    \n",
    "            print(\"The common element is:\",x)    "
   ]
  },
  {
   "cell_type": "code",
   "execution_count": null,
   "id": "2a8be8fe",
   "metadata": {},
   "outputs": [],
   "source": [
    "list1 = [3,4,5,9,10,12,24]    \n",
    "sum = 0    \n",
    "for i in list1:    \n",
    "    sum = sum+i        \n",
    "print(\"The sum is:\",sum)  "
   ]
  },
  {
   "cell_type": "code",
   "execution_count": null,
   "id": "f0c4c8c1",
   "metadata": {},
   "outputs": [],
   "source": [
    "# minimum of the list  \n",
    "list1 = [103, 675, 321, 782, 200]  \n",
    "# smallest element in the list  \n",
    "print(min(list1))  "
   ]
  },
  {
   "cell_type": "code",
   "execution_count": null,
   "id": "cf18217d",
   "metadata": {},
   "outputs": [],
   "source": [
    "list1 = [1,2,2,3,55,98,65,65,13,29]    \n",
    "# Declare an empty list that will store unique values    \n",
    "list2 = []    \n",
    "for i in list1:    \n",
    "    if i not in list2:    \n",
    "        list2.append(i)    \n",
    "print(list2)    "
   ]
  },
  {
   "cell_type": "code",
   "execution_count": 8,
   "id": "cd2b3794",
   "metadata": {},
   "outputs": [],
   "source": [
    "primes = [2, 3, 5]\n",
    "nums = [1, 4]\n",
    "\n",
    "# add all elements of prime_numbers to numbers\n",
    "primes.extend(nums)"
   ]
  },
  {
   "cell_type": "code",
   "execution_count": 10,
   "id": "9e885be7",
   "metadata": {},
   "outputs": [
    {
     "data": {
      "text/plain": [
       "[1, 2, 3, 4, 5]"
      ]
     },
     "execution_count": 10,
     "metadata": {},
     "output_type": "execute_result"
    }
   ],
   "source": [
    "primes.sort()\n",
    "primes"
   ]
  },
  {
   "cell_type": "code",
   "execution_count": 3,
   "id": "a8f31c18",
   "metadata": {},
   "outputs": [
    {
     "name": "stdout",
     "output_type": "stream",
     "text": [
      "[-1, 3, 5, 15]\n"
     ]
    }
   ],
   "source": [
    "xx = [1,-1,4,3,10,5,12,15,9]\n",
    "print(xx[1:10:2])"
   ]
  }
 ],
 "metadata": {
  "kernelspec": {
   "display_name": "Python 3 (ipykernel)",
   "language": "python",
   "name": "python3"
  },
  "language_info": {
   "codemirror_mode": {
    "name": "ipython",
    "version": 3
   },
   "file_extension": ".py",
   "mimetype": "text/x-python",
   "name": "python",
   "nbconvert_exporter": "python",
   "pygments_lexer": "ipython3",
   "version": "3.10.9"
  }
 },
 "nbformat": 4,
 "nbformat_minor": 5
}
