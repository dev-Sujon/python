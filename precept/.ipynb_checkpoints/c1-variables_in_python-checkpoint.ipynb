{
 "cells": [
  {
   "cell_type": "code",
   "execution_count": 6,
   "id": "26ccebe9",
   "metadata": {},
   "outputs": [
    {
     "name": "stdout",
     "output_type": "stream",
     "text": [
      "this is called temporary variable\n"
     ]
    },
    {
     "data": {
      "text/plain": [
       "\"# this is not a comment because it's inside quotes\""
      ]
     },
     "execution_count": 6,
     "metadata": {},
     "output_type": "execute_result"
    }
   ],
   "source": [
    "#this is the first cmmnt\n",
    "temp = \"this is called temporary variable\"\n",
    "text = \"# this is not a comment because it's inside quotes\"\n",
    "\n",
    "print(temp)\n",
    "text\n"
   ]
  },
  {
   "cell_type": "markdown",
   "id": "60fc402e",
   "metadata": {},
   "source": [
    " Using Python as a Calculator"
   ]
  },
  {
   "cell_type": "code",
   "execution_count": 8,
   "id": "55f6f7bf",
   "metadata": {},
   "outputs": [
    {
     "data": {
      "text/plain": [
       "4"
      ]
     },
     "execution_count": 8,
     "metadata": {},
     "output_type": "execute_result"
    }
   ],
   "source": [
    "2+2\n"
   ]
  },
  {
   "cell_type": "code",
   "execution_count": 7,
   "id": "cf66aa68",
   "metadata": {},
   "outputs": [
    {
     "data": {
      "text/plain": [
       "60.0"
      ]
     },
     "execution_count": 7,
     "metadata": {},
     "output_type": "execute_result"
    }
   ],
   "source": [
    "50/5*6"
   ]
  },
  {
   "cell_type": "code",
   "execution_count": 10,
   "id": "14b6b23c",
   "metadata": {},
   "outputs": [
    {
     "data": {
      "text/plain": [
       "97"
      ]
     },
     "execution_count": 10,
     "metadata": {},
     "output_type": "execute_result"
    }
   ],
   "source": [
    "(90-2+2+7)"
   ]
  },
  {
   "cell_type": "code",
   "execution_count": 11,
   "id": "3303389d",
   "metadata": {},
   "outputs": [
    {
     "data": {
      "text/plain": [
       "1.6"
      ]
     },
     "execution_count": 11,
     "metadata": {},
     "output_type": "execute_result"
    }
   ],
   "source": [
    "8/5\n",
    "    "
   ]
  },
  {
   "cell_type": "code",
   "execution_count": 12,
   "id": "19064e5b",
   "metadata": {},
   "outputs": [
    {
     "data": {
      "text/plain": [
       "2.0"
      ]
     },
     "execution_count": 12,
     "metadata": {},
     "output_type": "execute_result"
    }
   ],
   "source": [
    "9.8//4.6"
   ]
  },
  {
   "cell_type": "code",
   "execution_count": 13,
   "id": "18ae5b46",
   "metadata": {},
   "outputs": [
    {
     "data": {
      "text/plain": [
       "128"
      ]
     },
     "execution_count": 13,
     "metadata": {},
     "output_type": "execute_result"
    }
   ],
   "source": [
    "2**7"
   ]
  },
  {
   "cell_type": "markdown",
   "id": "6265e2e7",
   "metadata": {},
   "source": [
    "The equal sign (=) is used to assign a value to a variable. Afterwards, no result is displayed before the next interactive prompt:"
   ]
  },
  {
   "cell_type": "code",
   "execution_count": 14,
   "id": "10174e69",
   "metadata": {},
   "outputs": [
    {
     "data": {
      "text/plain": [
       "340"
      ]
     },
     "execution_count": 14,
     "metadata": {},
     "output_type": "execute_result"
    }
   ],
   "source": [
    "width = 20\n",
    "heihgt = 17\n",
    "area = width*heihgt\n",
    "area"
   ]
  },
  {
   "cell_type": "code",
   "execution_count": 15,
   "id": "10b92100",
   "metadata": {},
   "outputs": [
    {
     "data": {
      "text/plain": [
       "12.647920000000003"
      ]
     },
     "execution_count": 15,
     "metadata": {},
     "output_type": "execute_result"
    }
   ],
   "source": [
    "tax = 12.56/100\n",
    "price = 100.70\n",
    "tax*price"
   ]
  },
  {
   "cell_type": "code",
   "execution_count": 16,
   "id": "585e0121",
   "metadata": {},
   "outputs": [
    {
     "data": {
      "text/plain": [
       "113.34792"
      ]
     },
     "execution_count": 16,
     "metadata": {},
     "output_type": "execute_result"
    }
   ],
   "source": [
    "price +_"
   ]
  },
  {
   "cell_type": "code",
   "execution_count": 17,
   "id": "34a79336",
   "metadata": {},
   "outputs": [
    {
     "data": {
      "text/plain": [
       "2.3651"
      ]
     },
     "execution_count": 17,
     "metadata": {},
     "output_type": "execute_result"
    }
   ],
   "source": [
    "lofi = 2.3651\n",
    "lofi +_\n",
    "lofi"
   ]
  },
  {
   "cell_type": "code",
   "execution_count": 18,
   "id": "ea089817",
   "metadata": {},
   "outputs": [
    {
     "data": {
      "text/plain": [
       "2.37"
      ]
     },
     "execution_count": 18,
     "metadata": {},
     "output_type": "execute_result"
    }
   ],
   "source": [
    "round(_,2)"
   ]
  },
  {
   "cell_type": "code",
   "execution_count": 22,
   "id": "37fc8604",
   "metadata": {},
   "outputs": [
    {
     "data": {
      "text/plain": [
       "2.37"
      ]
     },
     "execution_count": 22,
     "metadata": {},
     "output_type": "execute_result"
    }
   ],
   "source": [
    "round(_,44)"
   ]
  },
  {
   "cell_type": "code",
   "execution_count": 23,
   "id": "89f89b29",
   "metadata": {},
   "outputs": [
    {
     "data": {
      "text/plain": [
       "'Spam eggs'"
      ]
     },
     "execution_count": 23,
     "metadata": {},
     "output_type": "execute_result"
    }
   ],
   "source": [
    "'Spam eggs'"
   ]
  },
  {
   "cell_type": "code",
   "execution_count": 24,
   "id": "782d44a5",
   "metadata": {},
   "outputs": [
    {
     "data": {
      "text/plain": [
       "\"doesn't\""
      ]
     },
     "execution_count": 24,
     "metadata": {},
     "output_type": "execute_result"
    }
   ],
   "source": [
    "'doesn\\'t'"
   ]
  },
  {
   "cell_type": "code",
   "execution_count": 25,
   "id": "b061870a",
   "metadata": {},
   "outputs": [
    {
     "data": {
      "text/plain": [
       "\"This is't just a course\""
      ]
     },
     "execution_count": 25,
     "metadata": {},
     "output_type": "execute_result"
    }
   ],
   "source": [
    "'This is\\'t just a course'"
   ]
  },
  {
   "cell_type": "code",
   "execution_count": 26,
   "id": "ee0cdf0f",
   "metadata": {},
   "outputs": [
    {
     "data": {
      "text/plain": [
       "'\"Yes,\" they said.'"
      ]
     },
     "execution_count": 26,
     "metadata": {},
     "output_type": "execute_result"
    }
   ],
   "source": [
    "\"\\\"Yes,\\\" they said.\"\n"
   ]
  },
  {
   "cell_type": "code",
   "execution_count": 27,
   "id": "ef40e93f",
   "metadata": {},
   "outputs": [
    {
     "data": {
      "text/plain": [
       "'\"Isn\\'t,\" they said.'"
      ]
     },
     "execution_count": 27,
     "metadata": {},
     "output_type": "execute_result"
    }
   ],
   "source": [
    "'\"Isn\\'t,\" they said.'"
   ]
  },
  {
   "cell_type": "code",
   "execution_count": 29,
   "id": "86e0edae",
   "metadata": {},
   "outputs": [
    {
     "name": "stdout",
     "output_type": "stream",
     "text": [
      "C:\\some\n",
      "ame\n"
     ]
    }
   ],
   "source": [
    "print('C:\\some\\name') # here \\n means newline!"
   ]
  },
  {
   "cell_type": "code",
   "execution_count": 30,
   "id": "8289fb3a",
   "metadata": {},
   "outputs": [
    {
     "name": "stdout",
     "output_type": "stream",
     "text": [
      "C:\\some\\name\n"
     ]
    }
   ],
   "source": [
    "print(r'C:\\some\\name')  # note the r before the quote"
   ]
  },
  {
   "cell_type": "code",
   "execution_count": 31,
   "id": "76c9296b",
   "metadata": {},
   "outputs": [
    {
     "name": "stdout",
     "output_type": "stream",
     "text": [
      "Usage: thingy [OPTIONS]\n",
      "     -h                        Display this usage message\n",
      "     -H hostname               Hostname to connect to\n",
      "\n"
     ]
    }
   ],
   "source": [
    "print(\"\"\"\\\n",
    "Usage: thingy [OPTIONS]\n",
    "     -h                        Display this usage message\n",
    "     -H hostname               Hostname to connect to\n",
    "\"\"\")"
   ]
  },
  {
   "cell_type": "code",
   "execution_count": 32,
   "id": "270b2e54",
   "metadata": {},
   "outputs": [
    {
     "data": {
      "text/plain": [
       "'Bannana'"
      ]
     },
     "execution_count": 32,
     "metadata": {},
     "output_type": "execute_result"
    }
   ],
   "source": [
    "'Ba'+ 2*'n'+'ana'"
   ]
  },
  {
   "cell_type": "code",
   "execution_count": 33,
   "id": "e053d701",
   "metadata": {},
   "outputs": [
    {
     "data": {
      "text/plain": [
       "'PyThon'"
      ]
     },
     "execution_count": 33,
     "metadata": {},
     "output_type": "execute_result"
    }
   ],
   "source": [
    "'Py' 'Thon'"
   ]
  },
  {
   "cell_type": "code",
   "execution_count": 36,
   "id": "46b9a1a2",
   "metadata": {},
   "outputs": [
    {
     "data": {
      "text/plain": [
       "'Put several strings within parentheses to have them joined together.'"
      ]
     },
     "execution_count": 36,
     "metadata": {},
     "output_type": "execute_result"
    }
   ],
   "source": [
    "text = ('Put several strings within parentheses '\n",
    "\n",
    "        'to have them joined together.')\n",
    "text"
   ]
  },
  {
   "cell_type": "code",
   "execution_count": 39,
   "id": "20672c0c",
   "metadata": {},
   "outputs": [
    {
     "data": {
      "text/plain": [
       "'Morocco'"
      ]
     },
     "execution_count": 39,
     "metadata": {},
     "output_type": "execute_result"
    }
   ],
   "source": [
    "prefix = 'Moro'+2*'c'+'o'\n",
    "prefix"
   ]
  },
  {
   "cell_type": "code",
   "execution_count": 40,
   "id": "6e1dc787",
   "metadata": {},
   "outputs": [
    {
     "ename": "SyntaxError",
     "evalue": "invalid syntax (2442087865.py, line 1)",
     "output_type": "error",
     "traceback": [
      "\u001b[0;36m  Cell \u001b[0;32mIn[40], line 1\u001b[0;36m\u001b[0m\n\u001b[0;31m    ('un'*3)'ium'\u001b[0m\n\u001b[0m            ^\u001b[0m\n\u001b[0;31mSyntaxError\u001b[0m\u001b[0;31m:\u001b[0m invalid syntax\n"
     ]
    }
   ],
   "source": [
    "('un'*3)'ium'"
   ]
  },
  {
   "cell_type": "code",
   "execution_count": 42,
   "id": "5cb285a2",
   "metadata": {},
   "outputs": [
    {
     "data": {
      "text/plain": [
       "'Hubert Blaine Wolfeschlegelsteinhausenbergerdorff Sr'"
      ]
     },
     "execution_count": 42,
     "metadata": {},
     "output_type": "execute_result"
    }
   ],
   "source": [
    "big_name = \"Hubert Blaine Wolfeschlegelsteinhausenbergerdorff Sr\"\n",
    "big_name"
   ]
  },
  {
   "cell_type": "code",
   "execution_count": 59,
   "id": "6f39574d",
   "metadata": {},
   "outputs": [
    {
     "data": {
      "text/plain": [
       "'Hubert Blaine Wolfeschlegelsteinhausenbergerdorff Sr'"
      ]
     },
     "execution_count": 59,
     "metadata": {},
     "output_type": "execute_result"
    }
   ],
   "source": [
    "big_name[:]"
   ]
  },
  {
   "cell_type": "code",
   "execution_count": 52,
   "id": "4ac12dd1",
   "metadata": {},
   "outputs": [
    {
     "data": {
      "text/plain": [
       "'Hubert'"
      ]
     },
     "execution_count": 52,
     "metadata": {},
     "output_type": "execute_result"
    }
   ],
   "source": [
    "big_name[:6]"
   ]
  },
  {
   "cell_type": "code",
   "execution_count": 53,
   "id": "2d769231",
   "metadata": {},
   "outputs": [
    {
     "data": {
      "text/plain": [
       "'Blaine '"
      ]
     },
     "execution_count": 53,
     "metadata": {},
     "output_type": "execute_result"
    }
   ],
   "source": [
    "big_name[7:14]"
   ]
  },
  {
   "cell_type": "code",
   "execution_count": 55,
   "id": "5a23664f",
   "metadata": {},
   "outputs": [
    {
     "data": {
      "text/plain": [
       "'Wolfeschlegelsteinhausenbergerdorff'"
      ]
     },
     "execution_count": 55,
     "metadata": {},
     "output_type": "execute_result"
    }
   ],
   "source": [
    "big_name[14:-3]"
   ]
  },
  {
   "cell_type": "code",
   "execution_count": 58,
   "id": "0d38891f",
   "metadata": {},
   "outputs": [
    {
     "data": {
      "text/plain": [
       "'Sr'"
      ]
     },
     "execution_count": 58,
     "metadata": {},
     "output_type": "execute_result"
    }
   ],
   "source": [
    "big_name[-2:]"
   ]
  },
  {
   "cell_type": "code",
   "execution_count": 63,
   "id": "3312bfb2",
   "metadata": {},
   "outputs": [
    {
     "data": {
      "text/plain": [
       "'Hubert Blaine Wolfeschlegelsteinhausenbergerdorff Sr'"
      ]
     },
     "execution_count": 63,
     "metadata": {},
     "output_type": "execute_result"
    }
   ],
   "source": [
    "big_name[:7] + big_name[7:14] + big_name[14:-2] + big_name[-2:]"
   ]
  },
  {
   "cell_type": "code",
   "execution_count": 64,
   "id": "a4c362a6",
   "metadata": {},
   "outputs": [
    {
     "data": {
      "text/plain": [
       "34"
      ]
     },
     "execution_count": 64,
     "metadata": {},
     "output_type": "execute_result"
    }
   ],
   "source": [
    "s = 'supercalifragilisticexpialidocious'\n",
    "len(s)"
   ]
  },
  {
   "cell_type": "code",
   "execution_count": 66,
   "id": "662586ef",
   "metadata": {},
   "outputs": [
    {
     "data": {
      "text/plain": [
       "'supercalifragilisticexpialidocious'"
      ]
     },
     "execution_count": 66,
     "metadata": {},
     "output_type": "execute_result"
    }
   ],
   "source": [
    "s[0:]"
   ]
  },
  {
   "cell_type": "code",
   "execution_count": 72,
   "id": "b6359926",
   "metadata": {},
   "outputs": [
    {
     "name": "stdout",
     "output_type": "stream",
     "text": [
      "34\n"
     ]
    }
   ],
   "source": [
    "x=0\n",
    "for i in range(len(s)):\n",
    "    if s[i] == 'a' or 'e' or 'i' or 'o' or 'u':\n",
    "        x+=1\n",
    "        \n",
    "print(x)        "
   ]
  },
  {
   "cell_type": "code",
   "execution_count": 84,
   "id": "175f308b",
   "metadata": {},
   "outputs": [
    {
     "name": "stdout",
     "output_type": "stream",
     "text": [
      "6\n"
     ]
    }
   ],
   "source": [
    "ls = [1,2,3]\n",
    "tp = ([1,2,3])\n",
    "\n",
    "ls == tp\n",
    "sum=ls[0]+ls[1]+ls[2]\n",
    "print(sum)    \n"
   ]
  },
  {
   "cell_type": "code",
   "execution_count": null,
   "id": "cf8abd37",
   "metadata": {},
   "outputs": [],
   "source": []
  },
  {
   "cell_type": "code",
   "execution_count": null,
   "id": "1efa21b3",
   "metadata": {},
   "outputs": [],
   "source": []
  },
  {
   "cell_type": "code",
   "execution_count": null,
   "id": "54c05ac5",
   "metadata": {},
   "outputs": [],
   "source": []
  },
  {
   "cell_type": "code",
   "execution_count": null,
   "id": "0a2d93df",
   "metadata": {},
   "outputs": [],
   "source": []
  },
  {
   "cell_type": "code",
   "execution_count": null,
   "id": "718336b5",
   "metadata": {},
   "outputs": [],
   "source": []
  },
  {
   "cell_type": "code",
   "execution_count": null,
   "id": "80475b82",
   "metadata": {},
   "outputs": [],
   "source": []
  },
  {
   "cell_type": "code",
   "execution_count": null,
   "id": "44ba3498",
   "metadata": {},
   "outputs": [],
   "source": []
  },
  {
   "cell_type": "code",
   "execution_count": null,
   "id": "bd2f8caa",
   "metadata": {},
   "outputs": [],
   "source": []
  },
  {
   "cell_type": "code",
   "execution_count": null,
   "id": "bf564402",
   "metadata": {},
   "outputs": [],
   "source": []
  },
  {
   "cell_type": "code",
   "execution_count": null,
   "id": "0d114e89",
   "metadata": {},
   "outputs": [],
   "source": []
  },
  {
   "cell_type": "code",
   "execution_count": null,
   "id": "37b9d90c",
   "metadata": {},
   "outputs": [],
   "source": []
  },
  {
   "cell_type": "code",
   "execution_count": null,
   "id": "faf2bde9",
   "metadata": {},
   "outputs": [],
   "source": []
  },
  {
   "cell_type": "code",
   "execution_count": null,
   "id": "26b9fd87",
   "metadata": {},
   "outputs": [],
   "source": []
  },
  {
   "cell_type": "code",
   "execution_count": null,
   "id": "d17a71dc",
   "metadata": {},
   "outputs": [],
   "source": []
  },
  {
   "cell_type": "code",
   "execution_count": null,
   "id": "98d51d57",
   "metadata": {},
   "outputs": [],
   "source": []
  }
 ],
 "metadata": {
  "kernelspec": {
   "display_name": "Python 3 (ipykernel)",
   "language": "python",
   "name": "python3"
  },
  "language_info": {
   "codemirror_mode": {
    "name": "ipython",
    "version": 3
   },
   "file_extension": ".py",
   "mimetype": "text/x-python",
   "name": "python",
   "nbconvert_exporter": "python",
   "pygments_lexer": "ipython3",
   "version": "3.10.9"
  }
 },
 "nbformat": 4,
 "nbformat_minor": 5
}
