{
 "cells": [
  {
   "cell_type": "markdown",
   "id": "ea56111d",
   "metadata": {},
   "source": [
    "# Python Dictionary\n",
    "\n",
    "        In Python, a dictionary is a built-in data structure that stores a collection of\n",
    "        key-value pairs. It is also known as an associative array or a hash map in other \n",
    "        programming languages.\n",
    "\n",
    "        Dictionaries are mutable, unordered, and iterable. They are defined using curly braces \n",
    "        ({}) and consist of comma-separated key-value pairs. A colon (:) separates each key from\n",
    "        its associated value: The keys within a dictionary must\n",
    "        be unique, and they are typically immutable types such as strings or numbers. Values can \n",
    "        be of any data type and can be duplicated."
   ]
  },
  {
   "cell_type": "markdown",
   "id": "0e924ed7",
   "metadata": {},
   "source": [
    "# Create a Dictionary"
   ]
  },
  {
   "cell_type": "code",
   "execution_count": 1,
   "id": "c173bf60",
   "metadata": {},
   "outputs": [
    {
     "name": "stdout",
     "output_type": "stream",
     "text": [
      "<class 'dict'>\n",
      "<class 'dict'>\n",
      "True\n"
     ]
    }
   ],
   "source": [
    "# Create a dictionary\n",
    "dictionary = {} # Curly braces method\n",
    "another_dictionary = dict() # Dict method\n",
    "\n",
    "# Are the above dictionaries equivalent?\n",
    "print(type(dictionary))\n",
    "print(type(another_dictionary))\n",
    "print(dictionary == another_dictionary)"
   ]
  },
  {
   "cell_type": "code",
   "execution_count": 2,
   "id": "73c6d5bc",
   "metadata": {},
   "outputs": [
    {
     "name": "stdout",
     "output_type": "stream",
     "text": [
      "value1\n"
     ]
    }
   ],
   "source": [
    "# Populate the dictionary\n",
    "dictionary[\"key1\"] = \"value1\"\n",
    "##access key1\n",
    "print(dictionary[\"key1\"])"
   ]
  },
  {
   "cell_type": "code",
   "execution_count": 3,
   "id": "edffd5ed",
   "metadata": {},
   "outputs": [
    {
     "name": "stdout",
     "output_type": "stream",
     "text": [
      "value1\n"
     ]
    }
   ],
   "source": [
    "#create a dictionary with preinserted keys/values\n",
    "d = {'key1':'value1'}\n",
    "#access key1\n",
    "print(d['key1'])"
   ]
  },
  {
   "cell_type": "markdown",
   "id": "309b5f2a",
   "metadata": {},
   "source": [
    "Another method is using dict(),in which we supply keys and values as a keyword argument\n",
    "list or as a list of tuples:"
   ]
  },
  {
   "cell_type": "code",
   "execution_count": 8,
   "id": "26b29d64",
   "metadata": {},
   "outputs": [
    {
     "name": "stdout",
     "output_type": "stream",
     "text": [
      "{'key1': 'value1', 'key2': 'value2'}\n"
     ]
    }
   ],
   "source": [
    "dictionary = dict(key1=\"value1\", key2=\"value2\")\n",
    "\n",
    "# Display the dictionary\n",
    "print(dictionary)"
   ]
  },
  {
   "cell_type": "code",
   "execution_count": 11,
   "id": "1c0bdc31",
   "metadata": {},
   "outputs": [
    {
     "name": "stdout",
     "output_type": "stream",
     "text": [
      "{'key1': 'value1', 'key2': 'value2'}\n"
     ]
    }
   ],
   "source": [
    "dictionary = dict([(\"key1\", \"value1\"), (\"key2\", \"value2\")])\n",
    "\n",
    "# Display the dictionary\n",
    "print(dictionary)"
   ]
  },
  {
   "cell_type": "code",
   "execution_count": 13,
   "id": "c55d5a6a",
   "metadata": {},
   "outputs": [
    {
     "name": "stdout",
     "output_type": "stream",
     "text": [
      "{'key1': 'value1', 'key2': 'value2', 42: 'the answer to the ultimate question of life, the universe, and everything.', 1.2: ['one point two'], 'list': ['just', 'a', 'list', 'with', 'an', 'integer', 3], 40: 'the answer to the ultimate question of life, the universe, and everything.'}\n"
     ]
    }
   ],
   "source": [
    "dictionary[40] = \"the answer to the ultimate question of life, the universe, and everything.\"\n",
    "dictionary[1.2] = [\"one point two\"]\n",
    "dictionary[\"list\"] = [\"just\", \"a\", \"list\", \"with\", \"an\", \"integer\", 3]\n",
    "\n",
    "# Display the dictionary\n",
    "print(dictionary)"
   ]
  },
  {
   "cell_type": "code",
   "execution_count": 17,
   "id": "8f262486",
   "metadata": {},
   "outputs": [
    {
     "name": "stdout",
     "output_type": "stream",
     "text": [
      "Sujon\n",
      "22\n",
      "First\n"
     ]
    }
   ],
   "source": [
    "dictt = {\"Name\":\"Sujon\",\"Age\":22,\"Class\":\"First\"}\n",
    "print(dictt['Name'])\n",
    "print(dictt['Age'])\n",
    "print(dictt['Class'])"
   ]
  },
  {
   "cell_type": "markdown",
   "id": "6ddb219a",
   "metadata": {},
   "source": [
    "# Access dictionary element"
   ]
  },
  {
   "cell_type": "code",
   "execution_count": 18,
   "id": "a151bbb3",
   "metadata": {},
   "outputs": [],
   "source": [
    "Employee = {\"Name\": \"Johnny\", \"Age\": 32, \"salary\":26000,\"Company\":\"^TCS\"}        "
   ]
  },
  {
   "cell_type": "code",
   "execution_count": 20,
   "id": "14be2917",
   "metadata": {},
   "outputs": [
    {
     "name": "stdout",
     "output_type": "stream",
     "text": [
      "<class 'dict'>\n",
      "printing Employee data....\n",
      "{'Name': 'Johnny', 'Age': 32, 'salary': 26000, 'Company': '^TCS'}\n"
     ]
    }
   ],
   "source": [
    "print(type(Employee))\n",
    "print(\"printing Employee data....\")\n",
    "print(Employee)"
   ]
  },
  {
   "cell_type": "code",
   "execution_count": 23,
   "id": "55fe417c",
   "metadata": {},
   "outputs": [
    {
     "name": "stdout",
     "output_type": "stream",
     "text": [
      "Johnny\n",
      "32\n",
      "26000\n",
      "^TCS\n"
     ]
    }
   ],
   "source": [
    "print(Employee[\"Name\"])\n",
    "print(Employee[\"Age\"])\n",
    "print(Employee[\"salary\"])\n",
    "print(Employee[\"Company\"])"
   ]
  },
  {
   "cell_type": "code",
   "execution_count": 26,
   "id": "8581b8dc",
   "metadata": {},
   "outputs": [
    {
     "name": "stdout",
     "output_type": "stream",
     "text": [
      "Empty Dictionary: \n",
      "{}\n",
      "\n",
      "Create Dictionary by using  dict(): \n",
      "{1: 'Hcl', 2: 'WIPRO', 3: 'Facebook'}\n"
     ]
    },
    {
     "ename": "NameError",
     "evalue": "name 'Singh' is not defined",
     "output_type": "error",
     "traceback": [
      "\u001b[0;31m---------------------------------------------------------------------------\u001b[0m",
      "\u001b[0;31mNameError\u001b[0m                                 Traceback (most recent call last)",
      "Cell \u001b[0;32mIn[26], line 13\u001b[0m\n\u001b[1;32m      9\u001b[0m \u001b[38;5;28mprint\u001b[39m(Dict)       \n\u001b[1;32m     11\u001b[0m \u001b[38;5;66;03m# Creating a Dictionary       \u001b[39;00m\n\u001b[1;32m     12\u001b[0m \u001b[38;5;66;03m# with each item as a Pair       \u001b[39;00m\n\u001b[0;32m---> 13\u001b[0m Dictt \u001b[38;5;241m=\u001b[39m \u001b[38;5;28mdict\u001b[39m([(\u001b[38;5;241m4\u001b[39m, \u001b[38;5;124m'\u001b[39m\u001b[38;5;124mRinku\u001b[39m\u001b[38;5;124m'\u001b[39m), (\u001b[38;5;241m2\u001b[39m, \u001b[43mSingh\u001b[49m)])       \n\u001b[1;32m     14\u001b[0m \u001b[38;5;28mprint\u001b[39m(\u001b[38;5;124m\"\u001b[39m\u001b[38;5;130;01m\\n\u001b[39;00m\u001b[38;5;124mDictionary with each item as a pair: \u001b[39m\u001b[38;5;124m\"\u001b[39m)       \n\u001b[1;32m     15\u001b[0m \u001b[38;5;28mprint\u001b[39m(Dictt)\n",
      "\u001b[0;31mNameError\u001b[0m: name 'Singh' is not defined"
     ]
    }
   ],
   "source": [
    "Dict = {}       \n",
    "print(\"Empty Dictionary: \")       \n",
    "print(Dict)       \n",
    "      \n",
    "# Creating a Dictionary       \n",
    "# with dict() method       \n",
    "Dict = dict({1: 'Hcl', 2: 'WIPRO', 3:'Facebook'})       \n",
    "print(\"\\nCreate Dictionary by using  dict(): \")       \n",
    "print(Dict)       \n",
    "      \n",
    "# Creating a Dictionary       \n",
    "# with each item as a Pair       \n",
    "Dictt = dict([(4, 'Rinku'), (2, Singh)])       \n",
    "print(\"\\nDictionary with each item as a pair: \")       \n",
    "print(Dictt)       "
   ]
  },
  {
   "cell_type": "code",
   "execution_count": 27,
   "id": "9a6f551f",
   "metadata": {},
   "outputs": [
    {
     "name": "stdout",
     "output_type": "stream",
     "text": [
      "<class 'dict'>\n",
      "printing Employee data .... \n",
      "Name : Dev\n",
      "Age : 20\n",
      "Salary : 45000\n",
      "Company : WIPRO\n"
     ]
    }
   ],
   "source": [
    "Employee = {\n",
    "    \"Name\": \"Dev\",\n",
    "    \"Age\": 20,\n",
    "    \"salary\":45000,\n",
    "    \"Company\":\"WIPRO\"\n",
    "   }   \n",
    "\n",
    "\n",
    "print(type(Employee))      \n",
    "print(\"printing Employee data .... \")      \n",
    "print(\"Name : %s\" %Employee[\"Name\"])      \n",
    "print(\"Age : %d\" %Employee[\"Age\"])      \n",
    "print(\"Salary : %d\" %Employee[\"salary\"])      \n",
    "print(\"Company : %s\" %Employee[\"Company\"])"
   ]
  },
  {
   "cell_type": "code",
   "execution_count": 33,
   "id": "65c18763",
   "metadata": {},
   "outputs": [
    {
     "name": "stdout",
     "output_type": "stream",
     "text": [
      "{'brand': 'Ford', 'electric': False, 'year': 1970, 'color': ['red', 'white', 'blue']}\n"
     ]
    }
   ],
   "source": [
    "theDict = {\n",
    "    \"brand\" : \"Ford\",\n",
    "    \"electric\" : False,\n",
    "    \"year\":1970,\n",
    "    \"color\": [\"red\",\"white\",\"blue\"]\n",
    "}\n",
    "print(theDict)"
   ]
  },
  {
   "cell_type": "code",
   "execution_count": 37,
   "id": "23a28bb1",
   "metadata": {},
   "outputs": [
    {
     "name": "stdout",
     "output_type": "stream",
     "text": [
      "<class 'dict'>\n"
     ]
    }
   ],
   "source": [
    "print(type(theDict))"
   ]
  },
  {
   "cell_type": "code",
   "execution_count": 42,
   "id": "6ad5fd42",
   "metadata": {},
   "outputs": [
    {
     "name": "stdout",
     "output_type": "stream",
     "text": [
      "Brand: Ford\n",
      "Electric : False\n",
      "Year : 1970\n",
      "Color : ['red', 'white', 'blue']\n"
     ]
    }
   ],
   "source": [
    "print(\"Brand:\",theDict[\"brand\"])\n",
    "print(\"Electric :\",theDict[\"electric\"])\n",
    "print(\"Year :\",theDict[\"year\"])\n",
    "print(\"Color :\",theDict[\"color\"])"
   ]
  },
  {
   "cell_type": "raw",
   "id": "b34e1fc6",
   "metadata": {},
   "source": [
    "The dict() Constructor"
   ]
  },
  {
   "cell_type": "code",
   "execution_count": 43,
   "id": "7b2f9297",
   "metadata": {},
   "outputs": [
    {
     "name": "stdout",
     "output_type": "stream",
     "text": [
      "{'name': 'Jakir', 'age': 20, 'country': 'Bangladesh', 'religion': 'Islam'}\n"
     ]
    }
   ],
   "source": [
    "my_dict = dict(name = \"Jakir\", age = 20, country = \"Bangladesh\", religion = \"Islam\")\n",
    "print(my_dict)"
   ]
  },
  {
   "cell_type": "code",
   "execution_count": 47,
   "id": "2cca273e",
   "metadata": {},
   "outputs": [
    {
     "name": "stdout",
     "output_type": "stream",
     "text": [
      "Jakir\n",
      "20\n",
      "Bangladesh\n",
      "Islam\n"
     ]
    }
   ],
   "source": [
    "print(my_dict['name'])\n",
    "print(my_dict['age'])\n",
    "print(my_dict['country'])\n",
    "print(my_dict['religion'])"
   ]
  },
  {
   "cell_type": "code",
   "execution_count": 48,
   "id": "92538da8",
   "metadata": {},
   "outputs": [
    {
     "data": {
      "text/plain": [
       "{'Colorado': 'Rockies',\n",
       " 'Boston': 'Red Sox',\n",
       " 'Minnesota': 'Twins',\n",
       " 'Milwaukee': 'Brewers',\n",
       " 'Seattle': 'Mariners'}"
      ]
     },
     "execution_count": 48,
     "metadata": {},
     "output_type": "execute_result"
    }
   ],
   "source": [
    "MLB_team = {\n",
    "     'Colorado' : 'Rockies',\n",
    "     'Boston'   : 'Red Sox',\n",
    "     'Minnesota': 'Twins',\n",
    "     'Milwaukee': 'Brewers',\n",
    "     'Seattle'  : 'Mariners'\n",
    " }\n",
    "MLB_team"
   ]
  },
  {
   "cell_type": "code",
   "execution_count": 49,
   "id": "94d7632f",
   "metadata": {},
   "outputs": [
    {
     "data": {
      "text/plain": [
       "'Mariners'"
      ]
     },
     "execution_count": 49,
     "metadata": {},
     "output_type": "execute_result"
    }
   ],
   "source": [
    "MLB_team[\"Seattle\"]"
   ]
  },
  {
   "cell_type": "code",
   "execution_count": 51,
   "id": "68edf621",
   "metadata": {},
   "outputs": [
    {
     "data": {
      "text/plain": [
       "'Mustang'"
      ]
     },
     "execution_count": 51,
     "metadata": {},
     "output_type": "execute_result"
    }
   ],
   "source": [
    "thee = {\n",
    "  \"brand\": \"Ford\",\n",
    "  \"model\": \"Mustang\",\n",
    "  \"year\": 1964\n",
    "}\n",
    "x = thee[\"model\"]\n",
    "x"
   ]
  },
  {
   "cell_type": "raw",
   "id": "aec58511",
   "metadata": {},
   "source": [
    "get() method that will give you the same result:"
   ]
  },
  {
   "cell_type": "code",
   "execution_count": 52,
   "id": "c1b314ae",
   "metadata": {},
   "outputs": [
    {
     "data": {
      "text/plain": [
       "'Ford'"
      ]
     },
     "execution_count": 52,
     "metadata": {},
     "output_type": "execute_result"
    }
   ],
   "source": [
    "brnd = thee.get(\"brand\")\n",
    "brnd"
   ]
  },
  {
   "cell_type": "raw",
   "id": "6c325dc6",
   "metadata": {},
   "source": [
    "Get Keys() method"
   ]
  },
  {
   "cell_type": "code",
   "execution_count": 55,
   "id": "273ce85a",
   "metadata": {},
   "outputs": [
    {
     "name": "stdout",
     "output_type": "stream",
     "text": [
      "dict_keys(['brand', 'model', 'year'])\n"
     ]
    }
   ],
   "source": [
    "hh = thee.keys()\n",
    "print(hh)"
   ]
  },
  {
   "cell_type": "code",
   "execution_count": 58,
   "id": "5e0a5543",
   "metadata": {},
   "outputs": [
    {
     "name": "stdout",
     "output_type": "stream",
     "text": [
      "dict_keys(['brand', 'model', 'year', 'price'])\n",
      "dict_keys(['brand', 'model', 'year', 'price', 'color'])\n",
      "\n",
      "{'brand': 'range rover', 'model': 'high$tech', 'year': 2001, 'price': '10m', 'color': 'white'}\n"
     ]
    }
   ],
   "source": [
    "car = {\n",
    "\"brand\": \"range rover\",\n",
    "\"model\": \"high$tech\",\n",
    "\"year\": 2001,\n",
    " \"price\": \"10m\"   \n",
    "}\n",
    "\n",
    "x = car.keys()\n",
    "\n",
    "print(x) #before the change\n",
    "\n",
    "car[\"color\"] = \"white\"\n",
    "\n",
    "print(x) #after the change\n",
    "print()\n",
    "print(car)"
   ]
  },
  {
   "cell_type": "raw",
   "id": "944ea8bc",
   "metadata": {},
   "source": [
    "The values() method will return a list of all the values in the dictionary."
   ]
  },
  {
   "cell_type": "code",
   "execution_count": 59,
   "id": "da06c395",
   "metadata": {},
   "outputs": [
    {
     "name": "stdout",
     "output_type": "stream",
     "text": [
      "dict_values(['range rover', 'high$tech', 2001, '10m', 'white'])\n"
     ]
    }
   ],
   "source": [
    "value = car.values()\n",
    "print(value)"
   ]
  },
  {
   "cell_type": "raw",
   "id": "23382248",
   "metadata": {},
   "source": [
    "The items() method will return each item in a dictionary, as tuples in a list."
   ]
  },
  {
   "cell_type": "code",
   "execution_count": 60,
   "id": "e3f0308e",
   "metadata": {},
   "outputs": [
    {
     "name": "stdout",
     "output_type": "stream",
     "text": [
      "dict_items([('brand', 'range rover'), ('model', 'high$tech'), ('year', 2001), ('price', '10m'), ('color', 'white')])\n"
     ]
    }
   ],
   "source": [
    "item = car.items()\n",
    "print(item)"
   ]
  },
  {
   "cell_type": "markdown",
   "id": "44f0a318",
   "metadata": {},
   "source": [
    "# Change Dictionary Items\n"
   ]
  },
  {
   "cell_type": "raw",
   "id": "9432054a",
   "metadata": {},
   "source": [
    "Change Values"
   ]
  },
  {
   "cell_type": "code",
   "execution_count": 64,
   "id": "4b4274e0",
   "metadata": {},
   "outputs": [
    {
     "data": {
      "text/plain": [
       "{'brand': 'Ford', 'model': 'Mustang', 'year': 2003}"
      ]
     },
     "execution_count": 64,
     "metadata": {},
     "output_type": "execute_result"
    }
   ],
   "source": [
    "thee"
   ]
  },
  {
   "cell_type": "code",
   "execution_count": 65,
   "id": "0bb474a7",
   "metadata": {},
   "outputs": [
    {
     "data": {
      "text/plain": [
       "{'brand': 'Ford', 'model': 'V-7', 'year': 2010}"
      ]
     },
     "execution_count": 65,
     "metadata": {},
     "output_type": "execute_result"
    }
   ],
   "source": [
    "thee[\"year\"] = 2010\n",
    "thee[\"model\"] = \"V-7\"\n",
    "thee"
   ]
  },
  {
   "cell_type": "markdown",
   "id": "6d231a48",
   "metadata": {},
   "source": [
    "# Update Dictionary\n",
    "The update() method will update the dictionary with the items from the given argument."
   ]
  },
  {
   "cell_type": "code",
   "execution_count": 71,
   "id": "5d8a6184",
   "metadata": {},
   "outputs": [
    {
     "data": {
      "text/plain": [
       "{'one': 'ripon', 'two': 'sujon', 'three': 'neloy'}"
      ]
     },
     "execution_count": 71,
     "metadata": {},
     "output_type": "execute_result"
    }
   ],
   "source": [
    "dd"
   ]
  },
  {
   "cell_type": "code",
   "execution_count": 67,
   "id": "ca369f6d",
   "metadata": {},
   "outputs": [],
   "source": [
    "dd.update({\"three\":\"neloy\"})"
   ]
  },
  {
   "cell_type": "code",
   "execution_count": 68,
   "id": "798a631e",
   "metadata": {},
   "outputs": [
    {
     "data": {
      "text/plain": [
       "{'one': 'naeem', 'two': 'sujon', 'three': 'neloy'}"
      ]
     },
     "execution_count": 68,
     "metadata": {},
     "output_type": "execute_result"
    }
   ],
   "source": [
    "dd."
   ]
  },
  {
   "cell_type": "code",
   "execution_count": 69,
   "id": "cdd59bf4",
   "metadata": {},
   "outputs": [
    {
     "data": {
      "text/plain": [
       "{'one': 'ripon', 'two': 'sujon', 'three': 'neloy'}"
      ]
     },
     "execution_count": 69,
     "metadata": {},
     "output_type": "execute_result"
    }
   ],
   "source": [
    "dd.update({\"one\":\"ripon\"})\n",
    "dd"
   ]
  },
  {
   "cell_type": "code",
   "execution_count": 72,
   "id": "c41b247c",
   "metadata": {},
   "outputs": [
    {
     "data": {
      "text/plain": [
       "{'Name': 'Dev', 'Age': 20, 'salary': 45000, 'Company': 'WIPRO'}"
      ]
     },
     "execution_count": 72,
     "metadata": {},
     "output_type": "execute_result"
    }
   ],
   "source": [
    "Employee"
   ]
  },
  {
   "cell_type": "code",
   "execution_count": 75,
   "id": "0d9c78dd",
   "metadata": {},
   "outputs": [
    {
     "data": {
      "text/plain": [
       "{'Name': 'Dev', 'Age': 20, 'salary': 50000, 'Company': 'WIPRO'}"
      ]
     },
     "execution_count": 75,
     "metadata": {},
     "output_type": "execute_result"
    }
   ],
   "source": [
    "Employee.update({'salary':50000})\n",
    "Employee"
   ]
  },
  {
   "cell_type": "code",
   "execution_count": 77,
   "id": "2d1ee5f0",
   "metadata": {},
   "outputs": [],
   "source": [
    "thisdict.update({\"name\":\"sujon h jakir\"})"
   ]
  },
  {
   "cell_type": "markdown",
   "id": "a5ce99a8",
   "metadata": {},
   "source": [
    "# Add Dictionary Items"
   ]
  },
  {
   "cell_type": "code",
   "execution_count": 78,
   "id": "40f37bee",
   "metadata": {},
   "outputs": [
    {
     "data": {
      "text/plain": [
       "{'name': 'sujon h jakir',\n",
       " 'age': 20,\n",
       " 'country': 'Bangladesh',\n",
       " 'religion': 'Islam'}"
      ]
     },
     "execution_count": 78,
     "metadata": {},
     "output_type": "execute_result"
    }
   ],
   "source": [
    "thisdict"
   ]
  },
  {
   "cell_type": "code",
   "execution_count": 79,
   "id": "c55a354f",
   "metadata": {},
   "outputs": [
    {
     "data": {
      "text/plain": [
       "{'name': 'sujon h jakir',\n",
       " 'age': 20,\n",
       " 'country': 'Bangladesh',\n",
       " 'religion': 'Islam',\n",
       " 'depertment': 'CSE'}"
      ]
     },
     "execution_count": 79,
     "metadata": {},
     "output_type": "execute_result"
    }
   ],
   "source": [
    "thisdict['depertment'] = \"CSE\"\n",
    "thisdict"
   ]
  },
  {
   "cell_type": "markdown",
   "id": "a2ab151c",
   "metadata": {},
   "source": [
    "# Remove Dictionary Items\n",
    "        "
   ]
  },
  {
   "cell_type": "raw",
   "id": "ddb4471a",
   "metadata": {},
   "source": [
    "The pop() method removes the item with the specified key name:"
   ]
  },
  {
   "cell_type": "code",
   "execution_count": 65,
   "id": "4f0168a5",
   "metadata": {},
   "outputs": [
    {
     "data": {
      "text/plain": [
       "{101: 'Rakib', 102: 'Sakib', 103: 'Rayhan', 104: 'Mumu', 105: 'Monir'}"
      ]
     },
     "execution_count": 65,
     "metadata": {},
     "output_type": "execute_result"
    }
   ],
   "source": [
    "xox = {\n",
    "    101:\"Rakib\",\n",
    "    102:\"Sakib\",\n",
    "    103:\"Rayhan\",\n",
    "    104:\"Mumu\",\n",
    "    105:\"Monir\"\n",
    "}\n",
    "xox"
   ]
  },
  {
   "cell_type": "code",
   "execution_count": 66,
   "id": "cf1cd6da",
   "metadata": {},
   "outputs": [
    {
     "name": "stdout",
     "output_type": "stream",
     "text": [
      "{101: 'Rakib', 102: 'Sakib', 103: 'Rayhan', 104: 'Mumu'}\n"
     ]
    }
   ],
   "source": [
    "xox.pop(105)\n",
    "print(xox)"
   ]
  },
  {
   "cell_type": "code",
   "execution_count": 13,
   "id": "3fd08576",
   "metadata": {},
   "outputs": [
    {
     "name": "stdout",
     "output_type": "stream",
     "text": [
      "{'a': 1, 'c': 3}\n",
      "2\n"
     ]
    }
   ],
   "source": [
    "my_dict = {'a': 1, 'b': 2, 'c': 3}\n",
    "removed_value = my_dict.pop('b')\n",
    "print(my_dict)  # Output: {'a': 1, 'c': 3}\n",
    "print(removed_value)  # Output: 2\n"
   ]
  },
  {
   "cell_type": "code",
   "execution_count": 14,
   "id": "1035306d",
   "metadata": {},
   "outputs": [
    {
     "name": "stdout",
     "output_type": "stream",
     "text": [
      "{'a': 1, 'b': 2, 'c': 3}\n",
      "Key not found\n"
     ]
    }
   ],
   "source": [
    "my_dict = {'a': 1, 'b': 2, 'c': 3}\n",
    "removed_value = my_dict.pop('d', 'Key not found')\n",
    "print(my_dict)  # Output: {'a': 1, 'b': 2, 'c': 3}\n",
    "print(removed_value)  # Output: 'Key not found'\n"
   ]
  },
  {
   "cell_type": "code",
   "execution_count": 15,
   "id": "d5327840",
   "metadata": {},
   "outputs": [
    {
     "name": "stdout",
     "output_type": "stream",
     "text": [
      "{'a': 1, 'c': 3}\n"
     ]
    }
   ],
   "source": [
    "my_dict = {'a': 1, 'b': 2, 'c': 3}\n",
    "my_dict.pop('b')\n",
    "print(my_dict)  # Output: {'a': 1, 'c': 3}\n"
   ]
  },
  {
   "cell_type": "raw",
   "id": "f224966b",
   "metadata": {},
   "source": [
    "popitem() method "
   ]
  },
  {
   "cell_type": "code",
   "execution_count": 16,
   "id": "da80dd85",
   "metadata": {},
   "outputs": [
    {
     "name": "stdout",
     "output_type": "stream",
     "text": [
      "{'a': 1, 'b': 2}\n",
      "('c', 3)\n"
     ]
    }
   ],
   "source": [
    "my_dict = {'a': 1, 'b': 2, 'c': 3}\n",
    "removed_item = my_dict.popitem()\n",
    "print(my_dict)  # Output: {'a': 1, 'b': 2}\n",
    "print(removed_item)  # Output: ('c', 3)\n"
   ]
  },
  {
   "cell_type": "code",
   "execution_count": 18,
   "id": "bd5775cd",
   "metadata": {},
   "outputs": [
    {
     "name": "stdout",
     "output_type": "stream",
     "text": [
      "{'x': 101, 'y': 201}\n",
      "('z', 103)\n"
     ]
    }
   ],
   "source": [
    "my_dict = {'x': 101, 'y': 201, 'z': 103}\n",
    "removed_item = my_dict.popitem()\n",
    "print(my_dict)  # Output: {'a': 1, 'b': 2}\n",
    "print(removed_item)  # Output: ('c', 3)\n"
   ]
  },
  {
   "cell_type": "raw",
   "id": "9d733f90",
   "metadata": {},
   "source": [
    "The del keyword removes the item with the specified key name:"
   ]
  },
  {
   "cell_type": "code",
   "execution_count": 31,
   "id": "94915a68",
   "metadata": {},
   "outputs": [
    {
     "data": {
      "text/plain": [
       "{'color': ['red', 'green', 'blue'], 'label': ['oix', 'xox', 'jinn']}"
      ]
     },
     "execution_count": 31,
     "metadata": {},
     "output_type": "execute_result"
    }
   ],
   "source": [
    "jj = {\"color\":[\"red\",'green','blue'],\"label\":[\"oix\",'xox','jinn']}\n",
    "jj"
   ]
  },
  {
   "cell_type": "code",
   "execution_count": 33,
   "id": "b7ce751d",
   "metadata": {},
   "outputs": [],
   "source": [
    "del jj"
   ]
  },
  {
   "cell_type": "code",
   "execution_count": 34,
   "id": "ff6ec372",
   "metadata": {},
   "outputs": [
    {
     "ename": "NameError",
     "evalue": "name 'jj' is not defined",
     "output_type": "error",
     "traceback": [
      "\u001b[0;31m---------------------------------------------------------------------------\u001b[0m",
      "\u001b[0;31mNameError\u001b[0m                                 Traceback (most recent call last)",
      "Cell \u001b[0;32mIn[34], line 1\u001b[0m\n\u001b[0;32m----> 1\u001b[0m \u001b[38;5;28mprint\u001b[39m(\u001b[43mjj\u001b[49m)\n",
      "\u001b[0;31mNameError\u001b[0m: name 'jj' is not defined"
     ]
    }
   ],
   "source": [
    "print(jj)  #this will cause an error because \"thisdict\" no longer exists."
   ]
  },
  {
   "cell_type": "code",
   "execution_count": null,
   "id": "243e1d21",
   "metadata": {},
   "outputs": [],
   "source": [
    "clear() method"
   ]
  },
  {
   "cell_type": "code",
   "execution_count": 40,
   "id": "69e1a485",
   "metadata": {},
   "outputs": [
    {
     "data": {
      "text/plain": [
       "{'key1': 'value1', 'key2': 'value2', 'key3': 'value3'}"
      ]
     },
     "execution_count": 40,
     "metadata": {},
     "output_type": "execute_result"
    }
   ],
   "source": [
    "thisdict = {\"key1\":\"value1\",\"key2\":\"value2\",\"key3\":\"value3\"}\n",
    "thisdict"
   ]
  },
  {
   "cell_type": "code",
   "execution_count": 41,
   "id": "3f989b3b",
   "metadata": {},
   "outputs": [],
   "source": [
    "thisdict.clear()"
   ]
  },
  {
   "cell_type": "code",
   "execution_count": 42,
   "id": "42e58cbb",
   "metadata": {},
   "outputs": [
    {
     "data": {
      "text/plain": [
       "{}"
      ]
     },
     "execution_count": 42,
     "metadata": {},
     "output_type": "execute_result"
    }
   ],
   "source": [
    "thisdict"
   ]
  },
  {
   "cell_type": "code",
   "execution_count": null,
   "id": "584a0421",
   "metadata": {},
   "outputs": [],
   "source": [
    "copy() method used to copy a dictionary"
   ]
  },
  {
   "cell_type": "code",
   "execution_count": 43,
   "id": "350b6ec4",
   "metadata": {},
   "outputs": [],
   "source": [
    "yy = {\"k1\":\"v1\",\"k2\":\"v2\",\"k3\":\"v3\"}\n",
    "copy_yy = yy.copy()\n",
    "yy.clear()"
   ]
  },
  {
   "cell_type": "code",
   "execution_count": 44,
   "id": "2186b667",
   "metadata": {},
   "outputs": [
    {
     "data": {
      "text/plain": [
       "{}"
      ]
     },
     "execution_count": 44,
     "metadata": {},
     "output_type": "execute_result"
    }
   ],
   "source": [
    "yy"
   ]
  },
  {
   "cell_type": "code",
   "execution_count": 45,
   "id": "3bfd367d",
   "metadata": {},
   "outputs": [
    {
     "data": {
      "text/plain": [
       "{'k1': 'v1', 'k2': 'v2', 'k3': 'v3'}"
      ]
     },
     "execution_count": 45,
     "metadata": {},
     "output_type": "execute_result"
    }
   ],
   "source": [
    "copy_yy"
   ]
  },
  {
   "cell_type": "markdown",
   "id": "8f5619ef",
   "metadata": {},
   "source": [
    "# Nested dictionary"
   ]
  },
  {
   "cell_type": "code",
   "execution_count": 47,
   "id": "3d01f626",
   "metadata": {},
   "outputs": [
    {
     "name": "stdout",
     "output_type": "stream",
     "text": [
      "{'child1': {'name': 'Emil', 'year': 2004}, 'child2': {'name': 'Tobias', 'year': 2007}, 'child3': {'name': 'Linus', 'year': 2011}}\n"
     ]
    }
   ],
   "source": [
    "myfamily = {\n",
    "  \"child1\" : {\n",
    "    \"name\" : \"Emil\",\n",
    "    \"year\" : 2004\n",
    "  },\n",
    "  \"child2\" : {\n",
    "    \"name\" : \"Tobias\",\n",
    "    \"year\" : 2007\n",
    "  },\n",
    "  \"child3\" : {\n",
    "    \"name\" : \"Linus\",\n",
    "    \"year\" : 2011\n",
    "  }\n",
    "}\n",
    "print(myfamily)"
   ]
  },
  {
   "cell_type": "code",
   "execution_count": 48,
   "id": "41466330",
   "metadata": {},
   "outputs": [
    {
     "name": "stdout",
     "output_type": "stream",
     "text": [
      "{'name': 'Emil', 'year': 2004}\n"
     ]
    }
   ],
   "source": [
    "print(myfamily['child1'])"
   ]
  },
  {
   "cell_type": "code",
   "execution_count": 55,
   "id": "b60329eb",
   "metadata": {},
   "outputs": [
    {
     "name": "stdout",
     "output_type": "stream",
     "text": [
      "Tobias\n"
     ]
    }
   ],
   "source": [
    "print(myfamily['child2']['name'])"
   ]
  },
  {
   "cell_type": "code",
   "execution_count": 54,
   "id": "4332fa41",
   "metadata": {},
   "outputs": [
    {
     "name": "stdout",
     "output_type": "stream",
     "text": [
      "2007\n"
     ]
    }
   ],
   "source": [
    "print(myfamily['child2']['year'])"
   ]
  },
  {
   "cell_type": "code",
   "execution_count": 69,
   "id": "6eb81967",
   "metadata": {},
   "outputs": [],
   "source": [
    "student_scores = {\n",
    "    \"Girls\":{\n",
    "        'johura':{'Math':70,'Science':45,'English':65},\n",
    "        'fatima':{'Math':50,'Science':75,'English':45},\n",
    "        'smritika':{'Math':90,'Science':85,'English':82}\n",
    "    },\n",
    "    'Boys':{\n",
    "          'Neloy': {'Math': 90, 'Science': 85, 'English': 92},\n",
    "          'Sujon': {'Math': 80, 'Science': 92, 'English': 88},\n",
    "          'Shakil': {'Math': 78, 'Science': 80, 'English': 85}        \n",
    "    }\n",
    "  \n",
    "}\n"
   ]
  },
  {
   "cell_type": "code",
   "execution_count": 70,
   "id": "8bcfd58c",
   "metadata": {},
   "outputs": [
    {
     "name": "stdout",
     "output_type": "stream",
     "text": [
      "Neloy get\n",
      "  Math: 90\n",
      "  Science: 85\n",
      "  English: 92\n"
     ]
    }
   ],
   "source": [
    "print(\"Neloy get\")\n",
    "print(\"  Math:\",student_scores['Boys']['Neloy']['Math'])\n",
    "print(\"  Science:\",student_scores['Boys']['Neloy']['Science'])\n",
    "print(\"  English:\",student_scores['Boys']['Neloy']['English'])"
   ]
  },
  {
   "cell_type": "code",
   "execution_count": 71,
   "id": "d5c76942",
   "metadata": {},
   "outputs": [
    {
     "name": "stdout",
     "output_type": "stream",
     "text": [
      "fatima get\n",
      "  Math: 50\n",
      "  Science: 75\n",
      "  English: 45\n"
     ]
    }
   ],
   "source": [
    "print(\"fatima get\")\n",
    "print(\"  Math:\",student_scores['Girls']['fatima']['Math'])\n",
    "print(\"  Science:\",student_scores['Girls']['fatima']['Science'])\n",
    "print(\"  English:\",student_scores['Girls']['fatima']['English'])"
   ]
  }
 ],
 "metadata": {
  "kernelspec": {
   "display_name": "Python 3 (ipykernel)",
   "language": "python",
   "name": "python3"
  },
  "language_info": {
   "codemirror_mode": {
    "name": "ipython",
    "version": 3
   },
   "file_extension": ".py",
   "mimetype": "text/x-python",
   "name": "python",
   "nbconvert_exporter": "python",
   "pygments_lexer": "ipython3",
   "version": "3.10.9"
  }
 },
 "nbformat": 4,
 "nbformat_minor": 5
}
