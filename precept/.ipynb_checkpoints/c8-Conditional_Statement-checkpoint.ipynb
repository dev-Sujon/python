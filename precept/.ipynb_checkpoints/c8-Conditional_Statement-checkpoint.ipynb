{
 "cells": [
  {
   "cell_type": "markdown",
   "id": "0638603d",
   "metadata": {},
   "source": [
    "# Conditional Statement\n",
    "        In python, Conditional Statements define three possible possibilities \n",
    "        \n",
    "          1.  if\n",
    "              if \n",
    "              if\n",
    "              ...\n",
    "              \n",
    "            \n",
    "          2.  if\n",
    "              elif\n",
    "              elif\n",
    "              elif\n",
    "              ....\n",
    "            \n",
    "           3. if \n",
    "              elif\n",
    "              elif\n",
    "              elif\n",
    "              ....\n",
    "              else"
   ]
  },
  {
   "cell_type": "markdown",
   "id": "0c4aa68e",
   "metadata": {},
   "source": [
    "# Type of condition statement in Python:\n",
    "\n",
    "    If statement.\n",
    "    If Else statement.\n",
    "    Elif statement.\n",
    "    Nested if statement.\n",
    "    Nested if else statement."
   ]
  },
  {
   "cell_type": "markdown",
   "id": "ed6b12ca",
   "metadata": {},
   "source": [
    "# Comparison operators\n",
    "        Very typically conditions consist of comparing two values.\n",
    "        Here is a table with the most common comparison operators used in Python:\n",
    "\n",
    "        Operator\t      \n",
    "        ==\tEqual to\n",
    "        !=\tNot equal to\n",
    "        >\tGreater than\n",
    "        >=\tGreater than or equal to\n",
    "        <\tLess than\ta < b\n",
    "        <=\tLess than or equal to"
   ]
  },
  {
   "cell_type": "code",
   "execution_count": null,
   "id": "a2f32fa3",
   "metadata": {},
   "outputs": [],
   "source": [
    "a = 100\n",
    "b = 100\n",
    "print(\"A = \",a)\n",
    "print(\"B = \",b)\n",
    "print()\n",
    "if a == b:\n",
    "    print('They are both equal')\n",
    "if a>b:\n",
    "    print(\"A > B\")\n",
    "if a<b:\n",
    "    print('A < B')\n",
    "if a!=b:    \n",
    "    print(\"A != B\")"
   ]
  },
  {
   "cell_type": "code",
   "execution_count": null,
   "id": "fdf70ca5",
   "metadata": {},
   "outputs": [],
   "source": [
    "x,y =1,10\n",
    "\n",
    "if x < y:\n",
    "    st= \"x is less than y\"\n",
    "if x == y:\n",
    "    st = \"x and y is equal\"    \n",
    "if x > y:\n",
    "    st = \"x is greater than y\"\n",
    "    \n",
    "print(st)"
   ]
  },
  {
   "cell_type": "code",
   "execution_count": null,
   "id": "c4d7bda7",
   "metadata": {},
   "outputs": [],
   "source": [
    "a = [10,20,3,0]\n",
    "b = [333,111,150,1.10]\n",
    "aLen = len(a)\n",
    "bLen = len(b)\n",
    "if aLen == bLen:\n",
    "    print(\"Both list are same length\")\n",
    "if aLen != bLen:\n",
    "    print(\"Lists are not same lenght\")\n",
    "    "
   ]
  },
  {
   "cell_type": "code",
   "execution_count": null,
   "id": "87b6216a",
   "metadata": {},
   "outputs": [],
   "source": [
    "num = 5\n",
    "if (num < 10):\n",
    "        print('Num is smaller than 10')\n",
    " \n",
    "print('This statement will always be executed')\n"
   ]
  },
  {
   "cell_type": "code",
   "execution_count": null,
   "id": "d46feac7",
   "metadata": {},
   "outputs": [],
   "source": [
    "a = 7\n",
    "b = 0\n",
    "if (a > b):\n",
    "            print(“a is greater than b”)"
   ]
  },
  {
   "cell_type": "code",
   "execution_count": null,
   "id": "03eeaef2",
   "metadata": {},
   "outputs": [],
   "source": [
    "a = 1\n",
    "b = 0\n",
    "if (a):\n",
    "    print(True)\n",
    "if (b==0):\n",
    "    print(False)"
   ]
  },
  {
   "cell_type": "code",
   "execution_count": null,
   "id": "fe35aa43",
   "metadata": {},
   "outputs": [],
   "source": [
    "lst = ['Java','Python','C#','Javascript']\n",
    "if 'Python' in lst:\n",
    "    print('True')\n",
    "if 'C#' in lst:\n",
    "    print('True')"
   ]
  },
  {
   "cell_type": "code",
   "execution_count": null,
   "id": "ad400c1e",
   "metadata": {},
   "outputs": [],
   "source": [
    "def passOrFail(sub,mark):\n",
    "    if mark>=33:\n",
    "        return 'pass in',sub\n",
    "    if mark<33:\n",
    "        return 'fail in',sub,\":\",mark\n",
    "        \n",
    "res = passOrFail('Math',32)\n",
    "res1 = passOrFail(\"Englu\")\n"
   ]
  },
  {
   "cell_type": "code",
   "execution_count": null,
   "id": "31ea4075",
   "metadata": {},
   "outputs": [],
   "source": [
    "passing_Score = 60\n",
    "my_Score = 67\n",
    "if(my_Score >= passing_Score):\n",
    "             print('Congratulations! You passed the exam')    \n",
    "             print('You are passed in the exam')        \n",
    "else:\n",
    "             print('Sorry! You failed the exam, better luck next time')"
   ]
  },
  {
   "cell_type": "code",
   "execution_count": null,
   "id": "2edfc13e",
   "metadata": {},
   "outputs": [],
   "source": [
    "num = -7\n",
    "if (num > 0):\n",
    "              print('Number is positive')\n",
    "elif (num < 0):\n",
    "              print('Number is negative')\n",
    "else:\n",
    "              print('Number is Zero')"
   ]
  },
  {
   "cell_type": "code",
   "execution_count": null,
   "id": "0059539a",
   "metadata": {},
   "outputs": [],
   "source": [
    "lat1, long1  = 57.792017, 12.054745\n",
    "lat2, long2  = -14.896547, -3.132567\n",
    " \n",
    "print('NS'[lat1 < 0])\n",
    "print('NS'[lat2 < 0])\n",
    " \n",
    "print('EW'[long1 < 0])\n",
    "print('EW'[long2 < 0])"
   ]
  },
  {
   "cell_type": "code",
   "execution_count": null,
   "id": "663a3cfa",
   "metadata": {},
   "outputs": [],
   "source": [
    "password = input(\"Please type in a password: \")\n",
    "\n",
    "if password == \"kittycat\":\n",
    "    print(\"You knew the password!\")\n",
    "    print(\"You must be either the intended user...\")\n",
    "    print(\"...or quite an accomplished hacker.\")\n",
    "\n",
    "print(\"The program has finished its execution. Thanks and bye!\")"
   ]
  },
  {
   "cell_type": "code",
   "execution_count": null,
   "id": "b4ac89af",
   "metadata": {},
   "outputs": [],
   "source": [
    "age = int(input(\"How old are you? \"))\n",
    "if age > 17:\n",
    "    print(\"You are of age!\")\n",
    "    print(\"Here's a copy of GTA6 for you.\")\n",
    "else:\n",
    "    print(\"You are not able to buy GTA6\")\n",
    "print(\"Next customer, please!\")"
   ]
  },
  {
   "cell_type": "code",
   "execution_count": null,
   "id": "c9d0416e",
   "metadata": {},
   "outputs": [],
   "source": [
    "number = -1\n",
    "\n",
    "if number < 0:\n",
    "    print(\"The number is negative.\")\n",
    "\n",
    "if number > 0:\n",
    "    print(\"The number is positive.\")\n",
    "\n",
    "if number == 0:\n",
    "    print(\"The number is zero.\")"
   ]
  },
  {
   "cell_type": "code",
   "execution_count": null,
   "id": "5c43330f",
   "metadata": {},
   "outputs": [],
   "source": [
    "password = \"kittycatr\"\n",
    "if password == \"kittycat\":\n",
    "    print(\"You knew the password!\")\n",
    "    print(\"You must be either the intended user...\")\n",
    "    print(\"...or quite an accomplished hacker.\")\n",
    "else:\n",
    "    print(\"Password is incorrect\")\n",
    "print(\"The program has finished its execution. Thanks and bye!\")"
   ]
  },
  {
   "cell_type": "markdown",
   "id": "071924d2",
   "metadata": {},
   "source": [
    "# Examples"
   ]
  },
  {
   "cell_type": "markdown",
   "id": "0509f0ab",
   "metadata": {},
   "source": [
    "Write a program which asks the user for an integer number. The program should print out \"Orwell\" if the number is exactly 1984, and otherwise do nothing."
   ]
  },
  {
   "cell_type": "code",
   "execution_count": null,
   "id": "0c664ef1",
   "metadata": {},
   "outputs": [],
   "source": [
    "year = 1984\n",
    "if year == 1984:\n",
    "        print(\"Orwell\")\n",
    "else:\n",
    "    print(\"Nothing\")\n",
    "        "
   ]
  },
  {
   "cell_type": "markdown",
   "id": "796ead35",
   "metadata": {},
   "source": [
    "Write a program which asks the user for an integer number. If the number is less than zero, the program should print out the number multiplied by -1. Otherwise the program prints out the the number as is. Please have a look at the examples of expected behaviour below."
   ]
  },
  {
   "cell_type": "code",
   "execution_count": 3,
   "id": "0c5ddd59",
   "metadata": {},
   "outputs": [
    {
     "name": "stdout",
     "output_type": "stream",
     "text": [
      "Enter a number :120\n",
      "The absulate vlaue of the number is  120\n"
     ]
    }
   ],
   "source": [
    "number = int(input(\"Enter a number :\"))\n",
    "if number<0:\n",
    "    ab = (-1*number)\n",
    "    print(\"The absulate vlaue of the number is \",ab)\n",
    "else:\n",
    "    print(\"The absulate vlaue of the number is \",number)\n"
   ]
  },
  {
   "cell_type": "markdown",
   "id": "bc890b11",
   "metadata": {},
   "source": [
    "Write a program which asks for the user's name. If the name is anything but \"Jerry\", the program then asks for the number of portions and prints out the total cost. The price of a single portion is 5.90.\n"
   ]
  },
  {
   "cell_type": "code",
   "execution_count": 11,
   "id": "d9675cd5",
   "metadata": {},
   "outputs": [
    {
     "name": "stdout",
     "output_type": "stream",
     "text": [
      "Enter a name : sujon\n",
      "How many portion you want?200\n",
      "The price of a single portion is : 1180.0\n"
     ]
    }
   ],
   "source": [
    "name = str(input(\"Enter a name : \"))\n",
    "if name == 'jerry' and 'Jerry':\n",
    "    print('Please next!')\n",
    "else:\n",
    "    portion=float(input(\"How many portion you want?\"))\n",
    "    res = 5.90*portion\n",
    "    print(\"The price of a single portion is :\",res)\n",
    "    "
   ]
  },
  {
   "cell_type": "markdown",
   "id": "06e297fd",
   "metadata": {},
   "source": [
    "Write a program which asks the user for an integer number. The program should then print out the magnitude of the number according to the following examples."
   ]
  },
  {
   "cell_type": "code",
   "execution_count": 13,
   "id": "de5ea1c5",
   "metadata": {},
   "outputs": [
    {
     "name": "stdout",
     "output_type": "stream",
     "text": [
      "input a number : 20\n",
      "This number is smaller than 100\n"
     ]
    }
   ],
   "source": [
    "nos = int(input(\"input a number : \"))\n",
    "if nos <10:\n",
    "    print(\"This number is smaller than 10\")\n",
    "elif nos <100:\n",
    "        print(\"This number is smaller than 100\")\n",
    "elif nos <1000:\n",
    "        print(\"This number is smaller than 1000\")"
   ]
  },
  {
   "cell_type": "code",
   "execution_count": null,
   "id": "6a84b38f",
   "metadata": {},
   "outputs": [],
   "source": []
  },
  {
   "cell_type": "code",
   "execution_count": null,
   "id": "9ab9b57f",
   "metadata": {},
   "outputs": [],
   "source": []
  },
  {
   "cell_type": "code",
   "execution_count": null,
   "id": "b27bd3eb",
   "metadata": {},
   "outputs": [],
   "source": []
  },
  {
   "cell_type": "code",
   "execution_count": null,
   "id": "3d6da799",
   "metadata": {},
   "outputs": [],
   "source": []
  },
  {
   "cell_type": "code",
   "execution_count": null,
   "id": "f20ca500",
   "metadata": {},
   "outputs": [],
   "source": []
  },
  {
   "cell_type": "code",
   "execution_count": null,
   "id": "39b4447f",
   "metadata": {},
   "outputs": [],
   "source": []
  },
  {
   "cell_type": "code",
   "execution_count": null,
   "id": "79aac1d7",
   "metadata": {},
   "outputs": [],
   "source": []
  }
 ],
 "metadata": {
  "kernelspec": {
   "display_name": "Python 3 (ipykernel)",
   "language": "python",
   "name": "python3"
  },
  "language_info": {
   "codemirror_mode": {
    "name": "ipython",
    "version": 3
   },
   "file_extension": ".py",
   "mimetype": "text/x-python",
   "name": "python",
   "nbconvert_exporter": "python",
   "pygments_lexer": "ipython3",
   "version": "3.10.9"
  }
 },
 "nbformat": 4,
 "nbformat_minor": 5
}
