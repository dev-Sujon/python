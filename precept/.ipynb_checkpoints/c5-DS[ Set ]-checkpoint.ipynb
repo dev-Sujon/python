{
 "cells": [
  {
   "cell_type": "markdown",
   "id": "b964c8dc",
   "metadata": {},
   "source": [
    "# What is a Set?\n",
    "\n",
    "  --> In mathematics,a set is a well-defined  \n",
    "      collection of distinct objects\n",
    "  \n",
    "      # Set of even positive numbers less than\n",
    "        10:2,4,6,8\n",
    "        \n",
    "      # Set if perfect squares less than 10:1,4,9\n",
    "      \n",
    "      # Intersection of these two sets the number4\n",
    "      \n",
    "      # Curly braces or the set() function can be\n",
    "        used to create sets.\n",
    "        "
   ]
  },
  {
   "cell_type": "code",
   "execution_count": 1,
   "id": "e25ccec9",
   "metadata": {},
   "outputs": [
    {
     "name": "stdout",
     "output_type": "stream",
     "text": [
      "{'banana', 'orange', 'pear', 'apple'}\n"
     ]
    }
   ],
   "source": [
    "# show that duplicates have been removed\n",
    "basket = {'apple','orange','apple','pear','orange','banana'}\n",
    "print(basket)"
   ]
  },
  {
   "cell_type": "code",
   "execution_count": 20,
   "id": "95eb524b",
   "metadata": {},
   "outputs": [
    {
     "data": {
      "text/plain": [
       "{1, 3, 5, 25, 42, 55, 61, 321, 412, 454}"
      ]
     },
     "execution_count": 20,
     "metadata": {},
     "output_type": "execute_result"
    }
   ],
   "source": [
    "aSet = {1,25,1,3,5,42,25,412,454,61,321,321,55,1,3}\n",
    "aSet"
   ]
  },
  {
   "cell_type": "code",
   "execution_count": 30,
   "id": "edf2da05",
   "metadata": {},
   "outputs": [
    {
     "data": {
      "text/plain": [
       "{-120, 120, 300, 700}"
      ]
     },
     "execution_count": 30,
     "metadata": {},
     "output_type": "execute_result"
    }
   ],
   "source": [
    "a = {120,300,-120,700}\n",
    "a"
   ]
  },
  {
   "cell_type": "code",
   "execution_count": 31,
   "id": "a6b84298",
   "metadata": {},
   "outputs": [
    {
     "data": {
      "text/plain": [
       "True"
      ]
     },
     "execution_count": 31,
     "metadata": {},
     "output_type": "execute_result"
    }
   ],
   "source": [
    "x = {'foo', 'bar', 'baz'}\n",
    "'bar' in x"
   ]
  },
  {
   "cell_type": "code",
   "execution_count": 13,
   "id": "513f8743",
   "metadata": {},
   "outputs": [
    {
     "data": {
      "text/plain": [
       "True"
      ]
     },
     "execution_count": 13,
     "metadata": {},
     "output_type": "execute_result"
    }
   ],
   "source": [
    "'orange' in basket\n"
   ]
  },
  {
   "cell_type": "code",
   "execution_count": 21,
   "id": "2ff5b7cf",
   "metadata": {},
   "outputs": [
    {
     "name": "stdout",
     "output_type": "stream",
     "text": [
      "{'a', 'c', 'd', 'b', 'r'}\n",
      "{'2', '4', '3', '5', ',', '1'}\n"
     ]
    }
   ],
   "source": [
    "a = set('abracadabra')\n",
    "x = set('11,2,54,3,3,25,11,1,2,2,4,55,22')\n",
    "print(a)\n",
    "print(x)\n"
   ]
  },
  {
   "cell_type": "code",
   "execution_count": null,
   "id": "7d7acf4d",
   "metadata": {},
   "outputs": [],
   "source": [
    "b = set('alaca')"
   ]
  },
  {
   "cell_type": "code",
   "execution_count": 1,
   "id": "fd400ac6",
   "metadata": {},
   "outputs": [
    {
     "data": {
      "text/plain": [
       "{'bar', 'baz', 'foo', 'qux'}"
      ]
     },
     "execution_count": 1,
     "metadata": {},
     "output_type": "execute_result"
    }
   ],
   "source": [
    "x = set(['foo','bar','baz','foo','qux'])\n",
    "x"
   ]
  },
  {
   "cell_type": "code",
   "execution_count": 2,
   "id": "1f464a0d",
   "metadata": {},
   "outputs": [
    {
     "data": {
      "text/plain": [
       "set"
      ]
     },
     "execution_count": 2,
     "metadata": {},
     "output_type": "execute_result"
    }
   ],
   "source": [
    "type(x)"
   ]
  },
  {
   "cell_type": "code",
   "execution_count": 4,
   "id": "7e1edf08",
   "metadata": {},
   "outputs": [
    {
     "data": {
      "text/plain": [
       "{'a', 'e', 'g', 'i', 'n', 'o', 'r', 's', 't', 'u', 'v', 'y'}"
      ]
     },
     "execution_count": 4,
     "metadata": {},
     "output_type": "execute_result"
    }
   ],
   "source": [
    "s = 'sonargaonuniversity'\n",
    "set(s)"
   ]
  },
  {
   "cell_type": "code",
   "execution_count": 5,
   "id": "9d0177ff",
   "metadata": {},
   "outputs": [
    {
     "data": {
      "text/plain": [
       "['s',\n",
       " 'o',\n",
       " 'n',\n",
       " 'a',\n",
       " 'r',\n",
       " 'g',\n",
       " 'a',\n",
       " 'o',\n",
       " 'n',\n",
       " 'u',\n",
       " 'n',\n",
       " 'i',\n",
       " 'v',\n",
       " 'e',\n",
       " 'r',\n",
       " 's',\n",
       " 'i',\n",
       " 't',\n",
       " 'y']"
      ]
     },
     "execution_count": 5,
     "metadata": {},
     "output_type": "execute_result"
    }
   ],
   "source": [
    "list(s)"
   ]
  },
  {
   "cell_type": "code",
   "execution_count": 10,
   "id": "608ac7c7",
   "metadata": {},
   "outputs": [
    {
     "name": "stdout",
     "output_type": "stream",
     "text": [
      "{'fuu'} {'buu'}\n"
     ]
    },
    {
     "data": {
      "text/plain": [
       "set"
      ]
     },
     "execution_count": 10,
     "metadata": {},
     "output_type": "execute_result"
    }
   ],
   "source": [
    "print({'fuu'},{'buu'},)\n",
    "type({'fuu'})"
   ]
  },
  {
   "cell_type": "code",
   "execution_count": 7,
   "id": "9741d0a4",
   "metadata": {},
   "outputs": [
    {
     "data": {
      "text/plain": [
       "{'f', 'u'}"
      ]
     },
     "execution_count": 7,
     "metadata": {},
     "output_type": "execute_result"
    }
   ],
   "source": [
    "set('fuu')"
   ]
  },
  {
   "cell_type": "code",
   "execution_count": 11,
   "id": "9082b9cb",
   "metadata": {},
   "outputs": [
    {
     "data": {
      "text/plain": [
       "set"
      ]
     },
     "execution_count": 11,
     "metadata": {},
     "output_type": "execute_result"
    }
   ],
   "source": [
    "x = set()\n",
    "type(x)"
   ]
  },
  {
   "cell_type": "code",
   "execution_count": 12,
   "id": "6a3f9794",
   "metadata": {},
   "outputs": [
    {
     "data": {
      "text/plain": [
       "dict"
      ]
     },
     "execution_count": 12,
     "metadata": {},
     "output_type": "execute_result"
    }
   ],
   "source": [
    "x = {}\n",
    "type(x)"
   ]
  },
  {
   "cell_type": "code",
   "execution_count": 13,
   "id": "df3e08cb",
   "metadata": {},
   "outputs": [
    {
     "data": {
      "text/plain": [
       "False"
      ]
     },
     "execution_count": 13,
     "metadata": {},
     "output_type": "execute_result"
    }
   ],
   "source": [
    "x = set()\n",
    "bool(x)"
   ]
  },
  {
   "cell_type": "raw",
   "id": "a1ad6f86",
   "metadata": {},
   "source": [
    "Set elements must be immutable (unchanged)"
   ]
  },
  {
   "cell_type": "code",
   "execution_count": 14,
   "id": "94b4218f",
   "metadata": {},
   "outputs": [
    {
     "data": {
      "text/plain": [
       "{3.1416, 42, None, 'foo'}"
      ]
     },
     "execution_count": 14,
     "metadata": {},
     "output_type": "execute_result"
    }
   ],
   "source": [
    "x = {42,'foo',3.1416,None}\n",
    "x"
   ]
  },
  {
   "cell_type": "markdown",
   "id": "f3975bb6",
   "metadata": {},
   "source": [
    "Given two sets, x1 and x2, the union of x1 and x2 is a set consisting of all elements in either set.In Python, set union can be performed with the | operator"
   ]
  },
  {
   "cell_type": "code",
   "execution_count": 17,
   "id": "9d2ee45d",
   "metadata": {},
   "outputs": [
    {
     "data": {
      "text/plain": [
       "{'bar', 'bazz', 'dof', 'qaak', 'qux', 'xinn'}"
      ]
     },
     "execution_count": 17,
     "metadata": {},
     "output_type": "execute_result"
    }
   ],
   "source": [
    "x1 = {'dof','bar','bazz','xinn'}\n",
    "x2 = {'xinn','qux','qaak','dof'}\n",
    "#union \n",
    "x1 | x2"
   ]
  },
  {
   "cell_type": "markdown",
   "id": "2f47844e",
   "metadata": {},
   "source": [
    "Set union can also be obtained with the .union() method"
   ]
  },
  {
   "cell_type": "code",
   "execution_count": 18,
   "id": "549a7d81",
   "metadata": {},
   "outputs": [
    {
     "data": {
      "text/plain": [
       "{'bar', 'bazz', 'dof', 'qaak', 'qux', 'xinn'}"
      ]
     },
     "execution_count": 18,
     "metadata": {},
     "output_type": "execute_result"
    }
   ],
   "source": [
    "x1.union(x2)"
   ]
  },
  {
   "cell_type": "code",
   "execution_count": 19,
   "id": "8e1f97ba",
   "metadata": {},
   "outputs": [
    {
     "ename": "TypeError",
     "evalue": "unsupported operand type(s) for |: 'set' and 'tuple'",
     "output_type": "error",
     "traceback": [
      "\u001b[0;31m---------------------------------------------------------------------------\u001b[0m",
      "\u001b[0;31mTypeError\u001b[0m                                 Traceback (most recent call last)",
      "Cell \u001b[0;32mIn[19], line 1\u001b[0m\n\u001b[0;32m----> 1\u001b[0m \u001b[43mx1\u001b[49m\u001b[43m \u001b[49m\u001b[38;5;241;43m|\u001b[39;49m\u001b[43m \u001b[49m\u001b[43m(\u001b[49m\u001b[38;5;124;43m'\u001b[39;49m\u001b[38;5;124;43mbaz\u001b[39;49m\u001b[38;5;124;43m'\u001b[39;49m\u001b[43m,\u001b[49m\u001b[43m \u001b[49m\u001b[38;5;124;43m'\u001b[39;49m\u001b[38;5;124;43mqux\u001b[39;49m\u001b[38;5;124;43m'\u001b[39;49m\u001b[43m,\u001b[49m\u001b[43m \u001b[49m\u001b[38;5;124;43m'\u001b[39;49m\u001b[38;5;124;43mquux\u001b[39;49m\u001b[38;5;124;43m'\u001b[39;49m\u001b[43m)\u001b[49m\n",
      "\u001b[0;31mTypeError\u001b[0m: unsupported operand type(s) for |: 'set' and 'tuple'"
     ]
    }
   ],
   "source": [
    "x1 | ('baz', 'qux', 'quux')"
   ]
  },
  {
   "cell_type": "markdown",
   "id": "1f82b979",
   "metadata": {},
   "source": [
    "set operations available in Python. Some are performed by operator, some by method, and some by both. The principle outlined above generally applies: where a set is expected, methods will typically accept any iterable as an argument, but operators require actual sets as operands."
   ]
  },
  {
   "cell_type": "markdown",
   "id": "43f906ff",
   "metadata": {},
   "source": [
    "Available Operators and Methods\n",
    "Union --> a.union(b)\n",
    "          a|b\n",
    "intersection --> a.intersection(b)\n",
    "                 a & b"
   ]
  },
  {
   "cell_type": "markdown",
   "id": "afdb8be2",
   "metadata": {},
   "source": [
    "Union Set"
   ]
  },
  {
   "cell_type": "code",
   "execution_count": 32,
   "id": "75ffb1da",
   "metadata": {},
   "outputs": [
    {
     "data": {
      "text/plain": [
       "{'bar', 'baz', 'foo', 'quux', 'qux'}"
      ]
     },
     "execution_count": 32,
     "metadata": {},
     "output_type": "execute_result"
    }
   ],
   "source": [
    "x1 = {'foo','bar','baz'}\n",
    "x2 = {'baz','qux','quux'}\n",
    "x = x1.union(x2)\n",
    "x"
   ]
  },
  {
   "cell_type": "code",
   "execution_count": 33,
   "id": "945b058a",
   "metadata": {},
   "outputs": [
    {
     "data": {
      "text/plain": [
       "{'bar', 'baz', 'foo', 'quux', 'qux'}"
      ]
     },
     "execution_count": 33,
     "metadata": {},
     "output_type": "execute_result"
    }
   ],
   "source": [
    "x1 | x2"
   ]
  },
  {
   "cell_type": "code",
   "execution_count": 34,
   "id": "db5c11ec",
   "metadata": {},
   "outputs": [
    {
     "data": {
      "text/plain": [
       "{1, 2, 3, 4, 5, 6, 7}"
      ]
     },
     "execution_count": 34,
     "metadata": {},
     "output_type": "execute_result"
    }
   ],
   "source": [
    "a = {1, 2, 3, 4}\n",
    "b = {2, 3, 4, 5}\n",
    "c = {3, 4, 5, 6}\n",
    "d = {4, 5, 6, 7}\n",
    "a.union(b,c,d)"
   ]
  },
  {
   "cell_type": "code",
   "execution_count": 35,
   "id": "940da3e3",
   "metadata": {},
   "outputs": [
    {
     "data": {
      "text/plain": [
       "{1, 2, 3, 4, 5, 6, 7}"
      ]
     },
     "execution_count": 35,
     "metadata": {},
     "output_type": "execute_result"
    }
   ],
   "source": [
    "a | b | c | d"
   ]
  },
  {
   "cell_type": "code",
   "execution_count": 37,
   "id": "9146bcdb",
   "metadata": {},
   "outputs": [
    {
     "data": {
      "text/plain": [
       "{'baz'}"
      ]
     },
     "execution_count": 37,
     "metadata": {},
     "output_type": "execute_result"
    }
   ],
   "source": [
    "x1 = {'foo', 'bar', 'baz'}\n",
    "x2 = {'baz', 'qux', 'quux'}\n",
    "x1.intersection(x2)"
   ]
  },
  {
   "cell_type": "code",
   "execution_count": 4,
   "id": "c4a7baa8",
   "metadata": {},
   "outputs": [
    {
     "name": "stdout",
     "output_type": "stream",
     "text": [
      "Union of  {1, 4, 6, 8, 10} and\n",
      " {100, 5, 20, 8, 10, 12, 15} is\n",
      " {1, 4, 100, 6, 5, 8, 10, 12, 15, 20}\n"
     ]
    }
   ],
   "source": [
    "nan = {4,6,4,8,10,6,1}\n",
    "tan = {10,8,5,12,15,20,100,15}\n",
    "t = nan|tan\n",
    "print(\" Union of \",nan,\"and\\n\",tan,\"is\\n\",t)"
   ]
  },
  {
   "cell_type": "code",
   "execution_count": null,
   "id": "3f3c503e",
   "metadata": {},
   "outputs": [],
   "source": []
  },
  {
   "cell_type": "code",
   "execution_count": null,
   "id": "98d47e81",
   "metadata": {},
   "outputs": [],
   "source": []
  },
  {
   "cell_type": "code",
   "execution_count": null,
   "id": "5a26d022",
   "metadata": {},
   "outputs": [],
   "source": []
  },
  {
   "cell_type": "code",
   "execution_count": null,
   "id": "728bff97",
   "metadata": {},
   "outputs": [],
   "source": []
  },
  {
   "cell_type": "code",
   "execution_count": null,
   "id": "4aaf948a",
   "metadata": {},
   "outputs": [],
   "source": []
  },
  {
   "cell_type": "code",
   "execution_count": null,
   "id": "9986d23f",
   "metadata": {},
   "outputs": [],
   "source": []
  }
 ],
 "metadata": {
  "kernelspec": {
   "display_name": "Python 3 (ipykernel)",
   "language": "python",
   "name": "python3"
  },
  "language_info": {
   "codemirror_mode": {
    "name": "ipython",
    "version": 3
   },
   "file_extension": ".py",
   "mimetype": "text/x-python",
   "name": "python",
   "nbconvert_exporter": "python",
   "pygments_lexer": "ipython3",
   "version": "3.10.9"
  }
 },
 "nbformat": 4,
 "nbformat_minor": 5
}
