{
 "cells": [
  {
   "cell_type": "markdown",
   "id": "fbe569e5",
   "metadata": {},
   "source": [
    "# List in Python"
   ]
  },
  {
   "cell_type": "code",
   "execution_count": 96,
   "id": "c105bf78",
   "metadata": {},
   "outputs": [
    {
     "name": "stdout",
     "output_type": "stream",
     "text": [
      "The sum is: 67\n"
     ]
    }
   ],
   "source": [
    "list1 = [3,4,5,9,10,12,24]    \n",
    "sum = 0    \n",
    "for i in list1:    \n",
    "    sum = sum+i        \n",
    "print(\"The sum is:\",sum)  "
   ]
  },
  {
   "cell_type": "code",
   "execution_count": 90,
   "id": "128b8c1a",
   "metadata": {},
   "outputs": [
    {
     "name": "stdout",
     "output_type": "stream",
     "text": [
      "1\n",
      "2\n",
      "3\n",
      "4\n",
      "[1, 2, 3, 4, 5, 6]\n",
      "[1, 2, 3, 4, 5, 6, 7]\n",
      "[3, 4, 5]\n",
      "[2, 4, 6]\n"
     ]
    }
   ],
   "source": [
    "list = [1,2,3,4,5,6,7]    \n",
    "print(list[0])    \n",
    "print(list[1])    \n",
    "print(list[2])    \n",
    "print(list[3])    \n",
    "# Slicing the elements    \n",
    "print(list[0:6])    \n",
    "# By default, the index value is 0 so its starts from the 0th element and go for index -1.    \n",
    "print(list[:])    \n",
    "print(list[2:5])    \n",
    "print(list[1:6:2])    "
   ]
  },
  {
   "cell_type": "code",
   "execution_count": 91,
   "id": "4d58c83b",
   "metadata": {},
   "outputs": [
    {
     "name": "stdout",
     "output_type": "stream",
     "text": [
      "5\n",
      "[3, 4, 5]\n",
      "[1, 2, 3, 4]\n",
      "[3, 4]\n"
     ]
    }
   ],
   "source": [
    "list = [1,2,3,4,5]    \n",
    "print(list[-1])    \n",
    "print(list[-3:])    \n",
    "print(list[:-1])    \n",
    "print(list[-3:-1])    "
   ]
  },
  {
   "cell_type": "code",
   "execution_count": 92,
   "id": "7fb97719",
   "metadata": {},
   "outputs": [
    {
     "name": "stdout",
     "output_type": "stream",
     "text": [
      "[1, 2, 3, 4, 5, 6]\n",
      "[1, 2, 10, 4, 5, 6]\n",
      "[1, 89, 78, 4, 5, 6]\n",
      "[1, 89, 78, 4, 5, 25]\n"
     ]
    }
   ],
   "source": [
    "list = [1, 2, 3, 4, 5, 6]       \n",
    "print(list)       \n",
    "# It will assign value to the value to the second index     \n",
    "list[2] = 10     \n",
    "print(list)      \n",
    "# Adding multiple-element     \n",
    "list[1:3] = [89, 78]       \n",
    "print(list)     \n",
    "# It will add value at the end of the list    \n",
    "list[-1] = 25    \n",
    "print(list)    "
   ]
  },
  {
   "cell_type": "code",
   "execution_count": null,
   "id": "8782a912",
   "metadata": {},
   "outputs": [],
   "source": [
    "List = [10,3,12,22,64,352,55,6,10,3,2,1]\n",
    "res = sort(List)\n",
    "print(res)"
   ]
  },
  {
   "cell_type": "code",
   "execution_count": 94,
   "id": "c1119055",
   "metadata": {},
   "outputs": [
    {
     "name": "stdout",
     "output_type": "stream",
     "text": [
      "50\n"
     ]
    },
    {
     "data": {
      "text/plain": [
       "[15, 3, 10, 25, 15, 10, 5, 18, 33]"
      ]
     },
     "execution_count": 94,
     "metadata": {},
     "output_type": "execute_result"
    }
   ],
   "source": [
    "L = [15,3,10,25,15,10,5,18,33,50]\n",
    "##pop(index)\n",
    "print(L.pop())\n",
    "L"
   ]
  },
  {
   "cell_type": "code",
   "execution_count": 93,
   "id": "f9029f2b",
   "metadata": {},
   "outputs": [
    {
     "name": "stdout",
     "output_type": "stream",
     "text": [
      "[12, 14, 16, 18, 20, 12, 14, 16, 18, 20]\n"
     ]
    }
   ],
   "source": [
    "list1 = [12, 14, 16, 18, 20]  \n",
    "# repetition operator *  \n",
    "l = list1 * 2  \n",
    "print(l)  "
   ]
  },
  {
   "cell_type": "markdown",
   "id": "cb6f5b5a",
   "metadata": {},
   "source": [
    "Append Item"
   ]
  },
  {
   "cell_type": "code",
   "execution_count": null,
   "id": "7070ba63",
   "metadata": {},
   "outputs": [],
   "source": [
    "##append item\n",
    "L.append(100)\n",
    "L\n",
    "sort(L)    "
   ]
  },
  {
   "cell_type": "code",
   "execution_count": 23,
   "id": "1e5253a5",
   "metadata": {},
   "outputs": [
    {
     "name": "stdout",
     "output_type": "stream",
     "text": [
      "[2, 4, 6, 8, 10, 12, 14, 16, 18, 20, 22, 24, 26, 28, 30, 32, 34, 36, 38, 40, 42, 44, 46, 48]\n"
     ]
    }
   ],
   "source": [
    "LL =[]\n",
    "\n",
    "for x in range(1,50):\n",
    "    if x%2==0:\n",
    "        LL.append(x)\n",
    "print(LL)        \n"
   ]
  },
  {
   "cell_type": "code",
   "execution_count": null,
   "id": "6ba28a1a",
   "metadata": {},
   "outputs": [],
   "source": [
    "item = [\"apple\",\"banana\",\"mango\",\"jack fruite\"]\n",
    "print(item)"
   ]
  },
  {
   "cell_type": "code",
   "execution_count": 87,
   "id": "0e216268",
   "metadata": {},
   "outputs": [
    {
     "name": "stdout",
     "output_type": "stream",
     "text": [
      "['Dollar', 'Euro', 'Pound', 'Yen']\n"
     ]
    }
   ],
   "source": [
    "currencies = ['Dollar', 'Euro', 'Pound']\n",
    "\n",
    "# append 'Yen' to the list\n",
    "currencies.append('Yen')\n",
    "\n",
    "print(currencies)\n",
    "\n",
    "# Output: ['Dollar', 'Euro', 'Pound', 'Yen']"
   ]
  },
  {
   "cell_type": "code",
   "execution_count": 88,
   "id": "18a32e86",
   "metadata": {},
   "outputs": [
    {
     "name": "stdout",
     "output_type": "stream",
     "text": [
      "Updated animals list:  ['cat', 'dog', 'rabbit', 'guinea pig']\n"
     ]
    }
   ],
   "source": [
    "# animals list\n",
    "animals = ['cat', 'dog', 'rabbit']\n",
    "\n",
    "# Add 'guinea pig' to the list\n",
    "animals.append('guinea pig')\n",
    "\n",
    "print('Updated animals list: ', animals)"
   ]
  },
  {
   "cell_type": "code",
   "execution_count": 89,
   "id": "f45e8564",
   "metadata": {},
   "outputs": [
    {
     "name": "stdout",
     "output_type": "stream",
     "text": [
      "Updated animals list:  ['cat', 'dog', 'rabbit', ['tiger', 'fox']]\n"
     ]
    }
   ],
   "source": [
    "# animals list\n",
    "animals = ['cat', 'dog', 'rabbit']\n",
    "\n",
    "# list of wild animals\n",
    "wild_animals = ['tiger', 'fox']\n",
    "\n",
    "# appending wild_animals list to animals\n",
    "animals.append(wild_animals)\n",
    "\n",
    "print('Updated animals list: ', animals)"
   ]
  },
  {
   "cell_type": "code",
   "execution_count": null,
   "id": "8c13b9af",
   "metadata": {},
   "outputs": [],
   "source": []
  },
  {
   "cell_type": "raw",
   "id": "e181ab40",
   "metadata": {},
   "source": [
    "Access items in the list"
   ]
  },
  {
   "cell_type": "code",
   "execution_count": 15,
   "id": "77aeac1e",
   "metadata": {},
   "outputs": [
    {
     "ename": "NameError",
     "evalue": "name 'item' is not defined",
     "output_type": "error",
     "traceback": [
      "\u001b[0;31m---------------------------------------------------------------------------\u001b[0m",
      "\u001b[0;31mNameError\u001b[0m                                 Traceback (most recent call last)",
      "Cell \u001b[0;32mIn[15], line 1\u001b[0m\n\u001b[0;32m----> 1\u001b[0m \u001b[38;5;28mprint\u001b[39m(\u001b[43mitem\u001b[49m[\u001b[38;5;241m2\u001b[39m])\n\u001b[1;32m      2\u001b[0m \u001b[38;5;28mprint\u001b[39m(item[\u001b[38;5;241m3\u001b[39m])\n\u001b[1;32m      3\u001b[0m \u001b[38;5;28mprint\u001b[39m(item[\u001b[38;5;241m1\u001b[39m])\n",
      "\u001b[0;31mNameError\u001b[0m: name 'item' is not defined"
     ]
    }
   ],
   "source": [
    "print(item[2])\n",
    "print(item[3])\n",
    "print(item[1])\n",
    "print(item[0])"
   ]
  },
  {
   "cell_type": "code",
   "execution_count": 16,
   "id": "04c1880d",
   "metadata": {},
   "outputs": [
    {
     "name": "stdout",
     "output_type": "stream",
     "text": [
      "90\n",
      "[0, 1, 1, 2, 3, 5, 8, 13, 21, 34, 56]\n",
      "[0, 1, 1, 2, 3, 5, 8, 13, 21, 34, 56, 90]\n",
      "[1, 2, 3, 5, 8, 13]\n",
      "[2, 3, 5, 8, 13, 21, 34]\n",
      "[21, 34, 56, 90]\n"
     ]
    }
   ],
   "source": [
    "fibb_number = [0,1,1,2,3,5,8,13,21,34,56,90]\n",
    "print(fibb_number[-1])\n",
    "print(fibb_number[:-1])\n",
    "print(fibb_number[0:])\n",
    "print(fibb_number[2:8])\n",
    "print(fibb_number[-9:-2])\n",
    "print(fibb_number[-4:])"
   ]
  },
  {
   "cell_type": "code",
   "execution_count": null,
   "id": "d6bc54c4",
   "metadata": {},
   "outputs": [],
   "source": [
    "thislist = [\"apple\", \"banana\", \"cherry\"]\n",
    "if \"apple\" in thislist:\n",
    "  print(\"Yes, 'apple' is in the fruits list\")"
   ]
  },
  {
   "cell_type": "raw",
   "id": "ea48c140",
   "metadata": {},
   "source": [
    "Change Item Value"
   ]
  },
  {
   "cell_type": "code",
   "execution_count": null,
   "id": "1deb7b54",
   "metadata": {},
   "outputs": [],
   "source": [
    "thislist = [\"apple\", \"banana\", \"cherry\"]\n",
    "thislist[1] = \"blackcurrant\"\n",
    "print(thislist)"
   ]
  },
  {
   "cell_type": "raw",
   "id": "37674ff8",
   "metadata": {},
   "source": [
    "Append Items"
   ]
  },
  {
   "cell_type": "code",
   "execution_count": 13,
   "id": "3ab3b11e",
   "metadata": {},
   "outputs": [
    {
     "name": "stdout",
     "output_type": "stream",
     "text": [
      "[2, 4, 6, 10, 12, 235, 11, 352, 154, 33, 20, 15, 250]\n"
     ]
    }
   ],
   "source": [
    "nos = [2,4,6,10,12,235,11,352,154,33]\n",
    "nos.append(20)\n",
    "nos.append(15)\n",
    "nos.append(250)\n",
    "print(nos)"
   ]
  },
  {
   "cell_type": "raw",
   "id": "ad32aa9d",
   "metadata": {},
   "source": [
    "Insert Items"
   ]
  },
  {
   "cell_type": "code",
   "execution_count": 78,
   "id": "a669b806",
   "metadata": {},
   "outputs": [
    {
     "name": "stdout",
     "output_type": "stream",
     "text": [
      "[8, 10, 11, 40, 100.254, 55]\n"
     ]
    }
   ],
   "source": [
    "insrt = []\n",
    "insrt.insert(1,10)\n",
    "insrt.insert(0,8)\n",
    "insrt.insert(2,11)\n",
    "insrt.insert(5,55)\n",
    "insrt.insert(3,40)\n",
    "insrt.insert(4,100.254)\n",
    "print(insrt)"
   ]
  },
  {
   "cell_type": "code",
   "execution_count": 77,
   "id": "37cadb80",
   "metadata": {},
   "outputs": [
    {
     "name": "stdout",
     "output_type": "stream",
     "text": [
      "List: ['a', 'e', 'i', 'o', 'u']\n"
     ]
    }
   ],
   "source": [
    "# create a list of vowels\n",
    "vowel = ['a', 'e', 'i', 'u']\n",
    "\n",
    "# 'o' is inserted at index 3 (4th position)\n",
    "vowel.insert(3, 'o')\n",
    "\n",
    "print('List:', vowel)\n",
    "\n",
    "# Output: List: ['a', 'e', 'i', 'o', 'u']"
   ]
  },
  {
   "cell_type": "code",
   "execution_count": 82,
   "id": "bc6ebd12",
   "metadata": {},
   "outputs": [
    {
     "name": "stdout",
     "output_type": "stream",
     "text": [
      "List: [2, 3, 5, 7, 11]\n"
     ]
    }
   ],
   "source": [
    "# create a list of prime numbers\n",
    "prime_numbers = [2, 3, 5, 7]\n",
    "\n",
    "# insert 11 at index 4\n",
    "prime_numbers.insert(4, 11)\n",
    "\n",
    "print('List:', prime_numbers)"
   ]
  },
  {
   "cell_type": "code",
   "execution_count": 83,
   "id": "130c9123",
   "metadata": {},
   "outputs": [
    {
     "name": "stdout",
     "output_type": "stream",
     "text": [
      "Updated List: [{1, 2}, (3, 4), [5, 6, 7]]\n"
     ]
    }
   ],
   "source": [
    "mixed_list = [{1, 2}, [5, 6, 7]]\n",
    "\n",
    "# number tuple\n",
    "number_tuple = (3, 4)\n",
    "\n",
    "# inserting a tuple to the list\n",
    "mixed_list.insert(1, number_tuple)\n",
    "\n",
    "\n",
    "print('Updated List:', mixed_list)"
   ]
  },
  {
   "cell_type": "code",
   "execution_count": 79,
   "id": "4f0c876f",
   "metadata": {},
   "outputs": [
    {
     "name": "stdout",
     "output_type": "stream",
     "text": [
      "['apple', 'banana', 'cherry', 'mango', 'pineapple', 'papaya']\n"
     ]
    }
   ],
   "source": [
    "thislist = [\"apple\", \"banana\", \"cherry\"]\n",
    "tropical = [\"mango\", \"pineapple\", \"papaya\"]\n",
    "thislist.extend(tropical)\n",
    "print(thislist)"
   ]
  },
  {
   "cell_type": "code",
   "execution_count": 80,
   "id": "af5f51d4",
   "metadata": {},
   "outputs": [
    {
     "name": "stdout",
     "output_type": "stream",
     "text": [
      "[[2, 4, 6, 10, 12, 235, 11, 352, 154, 33, 20, 15, 250], [2, 4, 6, 10, 12, 235, 11, 352, 154, 33, 20, 15, 250]]\n"
     ]
    }
   ],
   "source": [
    "num = [nos]*2\n",
    "print(num)"
   ]
  },
  {
   "cell_type": "code",
   "execution_count": null,
   "id": "e11856b3",
   "metadata": {},
   "outputs": [],
   "source": [
    "empl = [1,-1,4,3,10,5,12,15,9]\n",
    "tmp = [1,2,3,4,5,6,7,8]\n",
    "empl.extend(tmp)\n",
    "print(empl)"
   ]
  },
  {
   "cell_type": "code",
   "execution_count": 84,
   "id": "95a2d01b",
   "metadata": {},
   "outputs": [
    {
     "name": "stdout",
     "output_type": "stream",
     "text": [
      "List after extend(): [1, 4, 2, 3, 5]\n"
     ]
    }
   ],
   "source": [
    "# create a list\n",
    "prime_numbers = [2, 3, 5]\n",
    "\n",
    "# create another list\n",
    "numbers = [1, 4]\n",
    "\n",
    "# add all elements of prime_numbers to numbers\n",
    "numbers.extend(prime_numbers)\n",
    "\n",
    "\n",
    "print('List after extend():', numbers)\n",
    "\n",
    "# Output: List after extend(): [1, 4, 2, 3, 5]"
   ]
  },
  {
   "cell_type": "code",
   "execution_count": 85,
   "id": "72db2fd6",
   "metadata": {},
   "outputs": [
    {
     "name": "stdout",
     "output_type": "stream",
     "text": [
      "Languages List: ['French', 'English', 'Spanish', 'Portuguese']\n"
     ]
    }
   ],
   "source": [
    "# languages list\n",
    "languages = ['French', 'English']\n",
    "\n",
    "# another list of language\n",
    "languages1 = ['Spanish', 'Portuguese']\n",
    "\n",
    "# appending language1 elements to language\n",
    "languages.extend(languages1)\n",
    "\n",
    "\n",
    "print('Languages List:', languages)"
   ]
  },
  {
   "cell_type": "code",
   "execution_count": 86,
   "id": "9528d398",
   "metadata": {},
   "outputs": [
    {
     "name": "stdout",
     "output_type": "stream",
     "text": [
      "New Language List: ['French', 'Spanish', 'Portuguese']\n",
      "Newer Languages List: ['French', 'Spanish', 'Portuguese', 'Japanese', 'Chinese']\n"
     ]
    }
   ],
   "source": [
    "# languages list\n",
    "languages = ['French']\n",
    "\n",
    "# languages tuple\n",
    "languages_tuple = ('Spanish', 'Portuguese')\n",
    "\n",
    "# languages set\n",
    "languages_set = {'Chinese', 'Japanese'}\n",
    "\n",
    "# appending language_tuple elements to language\n",
    "languages.extend(languages_tuple)\n",
    "\n",
    "\n",
    "print('New Language List:', languages)\n",
    "\n",
    "# appending language_set elements to language\n",
    "languages.extend(languages_set)\n",
    "\n",
    "\n",
    "print('Newer Languages List:', languages)"
   ]
  },
  {
   "cell_type": "markdown",
   "id": "ea1db493",
   "metadata": {},
   "source": [
    "Remove Specified Item - remove(\"specified item\")"
   ]
  },
  {
   "cell_type": "code",
   "execution_count": null,
   "id": "119dce02",
   "metadata": {},
   "outputs": [],
   "source": [
    "how = [\"apple\", \"banana\", \"cherry\",\"Guava\"]\n",
    "\n",
    "how.remove(\"banana\")\n",
    "\n",
    "print(how)"
   ]
  },
  {
   "cell_type": "code",
   "execution_count": 1,
   "id": "c73682b5",
   "metadata": {},
   "outputs": [
    {
     "data": {
      "text/plain": [
       "[1, 2, 3, 3, 6, 10, 10, 12, 22, 55, 64]"
      ]
     },
     "execution_count": 1,
     "metadata": {},
     "output_type": "execute_result"
    }
   ],
   "source": [
    "my_arr = [1,2,3,3,6,10,10,12,22,55,64,352]\n",
    "my_arr.remove(64)\n",
    "my_arr"
   ]
  },
  {
   "cell_type": "code",
   "execution_count": 2,
   "id": "7fa97397",
   "metadata": {},
   "outputs": [
    {
     "data": {
      "text/plain": [
       "[10, 3, 74, 35, 95, 15, 81, 63, 22, 15, 91, 22, 1]"
      ]
     },
     "execution_count": 2,
     "metadata": {},
     "output_type": "execute_result"
    }
   ],
   "source": [
    "mobile = [10,3,6,74,35,95,15,81,63,22,15,91,22,1]\n",
    "mobile.remove(1)\n",
    "mobile"
   ]
  },
  {
   "cell_type": "markdown",
   "id": "188d0d5b",
   "metadata": {},
   "source": [
    "The del keyword also removes the specified index:"
   ]
  },
  {
   "cell_type": "code",
   "execution_count": 5,
   "id": "21602eaf",
   "metadata": {},
   "outputs": [
    {
     "name": "stdout",
     "output_type": "stream",
     "text": [
      "['apple']\n"
     ]
    }
   ],
   "source": [
    "listt = [\"apple\", \"banana\", \"cherry\"]\n",
    "del listt[0]\n",
    "print(listt)"
   ]
  },
  {
   "cell_type": "code",
   "execution_count": 11,
   "id": "89dc4680",
   "metadata": {},
   "outputs": [
    {
     "ename": "NameError",
     "evalue": "name 'mobile' is not defined",
     "output_type": "error",
     "traceback": [
      "\u001b[0;31m---------------------------------------------------------------------------\u001b[0m",
      "\u001b[0;31mNameError\u001b[0m                                 Traceback (most recent call last)",
      "Cell \u001b[0;32mIn[11], line 4\u001b[0m\n\u001b[1;32m      2\u001b[0m mobile\u001b[38;5;241m.\u001b[39msort()\n\u001b[1;32m      3\u001b[0m \u001b[38;5;28;01mdel\u001b[39;00m mobile\n\u001b[0;32m----> 4\u001b[0m \u001b[43mmobile\u001b[49m\n",
      "\u001b[0;31mNameError\u001b[0m: name 'mobile' is not defined"
     ]
    }
   ],
   "source": [
    "mobile = [10,3,6,74,35,95,15,81,63,22,15,91,22,1]\n",
    "mobile.sort()\n",
    "del mobile\n",
    "#this will cause an error because you have succsesfully deleted \"thislist\".\n",
    "mobile"
   ]
  },
  {
   "cell_type": "code",
   "execution_count": 18,
   "id": "0d7a695a",
   "metadata": {},
   "outputs": [
    {
     "data": {
      "text/plain": [
       "[21, 34]"
      ]
     },
     "execution_count": 18,
     "metadata": {},
     "output_type": "execute_result"
    }
   ],
   "source": [
    "mob = [2, 3, 5, 8, 13, 21, 34]\n",
    "del mob[:-2]\n",
    "mob"
   ]
  },
  {
   "cell_type": "markdown",
   "id": "b491d113",
   "metadata": {},
   "source": [
    "\n",
    "Clear the List\n"
   ]
  },
  {
   "cell_type": "code",
   "execution_count": 19,
   "id": "699a4663",
   "metadata": {},
   "outputs": [
    {
     "data": {
      "text/plain": [
       "[2, 3, 5, 8, 13, 21, 34]"
      ]
     },
     "execution_count": 19,
     "metadata": {},
     "output_type": "execute_result"
    }
   ],
   "source": [
    "mohjong = [2, 3, 5, 8, 13, 21, 34]\n",
    "mohjong"
   ]
  },
  {
   "cell_type": "code",
   "execution_count": 20,
   "id": "05c14fa4",
   "metadata": {},
   "outputs": [
    {
     "data": {
      "text/plain": [
       "[]"
      ]
     },
     "execution_count": 20,
     "metadata": {},
     "output_type": "execute_result"
    }
   ],
   "source": [
    "#clear the list \n",
    "mohjong.clear()\n",
    "mohjong"
   ]
  },
  {
   "cell_type": "code",
   "execution_count": 21,
   "id": "11049614",
   "metadata": {},
   "outputs": [
    {
     "data": {
      "text/plain": [
       "[]"
      ]
     },
     "execution_count": 21,
     "metadata": {},
     "output_type": "execute_result"
    }
   ],
   "source": [
    "listt = [\"apple\", \"banana\", \"cherry\"]\n",
    "listt.clear()\n",
    "listt"
   ]
  },
  {
   "cell_type": "markdown",
   "id": "48668f26",
   "metadata": {},
   "source": [
    "Pop up item - pop(specified index)"
   ]
  },
  {
   "cell_type": "code",
   "execution_count": null,
   "id": "b4288079",
   "metadata": {},
   "outputs": [],
   "source": [
    "my_arr = [1,2,3,3,6,10,10,12,22,55,64,352]\n",
    "my_arr.pop(-1)\n",
    "my_arr"
   ]
  },
  {
   "cell_type": "code",
   "execution_count": null,
   "id": "64dca21b",
   "metadata": {},
   "outputs": [],
   "source": [
    "mobile = [10,3,6,74,35,95,15,81,63,22,15,91,22,1]\n",
    "mobile.pop(2)\n",
    "mobile"
   ]
  },
  {
   "cell_type": "code",
   "execution_count": 74,
   "id": "89735759",
   "metadata": {},
   "outputs": [
    {
     "name": "stdout",
     "output_type": "stream",
     "text": [
      "Removed Element: 5\n",
      "Updated List: [2, 3, 7]\n"
     ]
    }
   ],
   "source": [
    "# create a list of prime numbers\n",
    "prime_numbers = [2, 3, 5, 7]\n",
    "\n",
    "# remove the element at index 2\n",
    "removed_element = prime_numbers.pop(2)\n",
    "\n",
    "print('Removed Element:', removed_element)\n",
    "print('Updated List:', prime_numbers)\n",
    "\n",
    "# Output: \n",
    "# Removed Element: 5\n",
    "# Updated List: [2, 3, 7]"
   ]
  },
  {
   "cell_type": "code",
   "execution_count": 25,
   "id": "7700b79e",
   "metadata": {},
   "outputs": [
    {
     "name": "stdout",
     "output_type": "stream",
     "text": [
      "[2, 4, 6, 8, 10, 12, 14, 16, 18, 20, 22, 24, 26, 28, 30, 32, 34, 36, 38, 40, 42, 44, 46, 48]\n"
     ]
    }
   ],
   "source": [
    "print(LL)"
   ]
  },
  {
   "cell_type": "code",
   "execution_count": 75,
   "id": "fa5c2592",
   "metadata": {},
   "outputs": [
    {
     "name": "stdout",
     "output_type": "stream",
     "text": [
      "Return Value: French\n",
      "Updated List: ['Python', 'Java', 'C++', 'C']\n"
     ]
    }
   ],
   "source": [
    "# programming languages list\n",
    "languages = ['Python', 'Java', 'C++', 'French', 'C']\n",
    "\n",
    "# remove and return the 4th item\n",
    "return_value = languages.pop(3)\n",
    "\n",
    "print('Return Value:', return_value)\n",
    "\n",
    "# Updated List\n",
    "print('Updated List:', languages)"
   ]
  },
  {
   "cell_type": "code",
   "execution_count": 76,
   "id": "3c0893b3",
   "metadata": {},
   "outputs": [
    {
     "name": "stdout",
     "output_type": "stream",
     "text": [
      "When index is not passed:\n",
      "Return Value: C\n",
      "Updated List: ['Python', 'Java', 'C++', 'Ruby']\n",
      "\n",
      "When -1 is passed:\n",
      "Return Value: Ruby\n",
      "Updated List: ['Python', 'Java', 'C++']\n",
      "\n",
      "When -3 is passed:\n",
      "Return Value: Python\n",
      "Updated List: ['Java', 'C++']\n"
     ]
    }
   ],
   "source": [
    "# programming languages list\n",
    "languages = ['Python', 'Java', 'C++', 'Ruby', 'C']\n",
    "\n",
    "# remove and return the last item\n",
    "print('When index is not passed:') \n",
    "print('Return Value:', languages.pop())\n",
    "\n",
    "print('Updated List:', languages)\n",
    "\n",
    "# remove and return the last item\n",
    "print('\\nWhen -1 is passed:') \n",
    "print('Return Value:', languages.pop(-1))\n",
    "\n",
    "print('Updated List:', languages)\n",
    "\n",
    "# remove and return the third last item\n",
    "print('\\nWhen -3 is passed:') \n",
    "print('Return Value:', languages.pop(-3))\n",
    "\n",
    "print('Updated List:', languages)"
   ]
  },
  {
   "cell_type": "code",
   "execution_count": 31,
   "id": "64fb9a6b",
   "metadata": {},
   "outputs": [
    {
     "name": "stdout",
     "output_type": "stream",
     "text": [
      "[2, 4, 6, 8, 10, 12, 14, 16, 18, 20, 24, 32, 34, 36, 38, 40, 42, 44]\n"
     ]
    }
   ],
   "source": [
    "LL.pop(-10)\n",
    "LL.pop(-1)\n",
    "print(LL)"
   ]
  },
  {
   "cell_type": "code",
   "execution_count": 38,
   "id": "292008dc",
   "metadata": {},
   "outputs": [
    {
     "name": "stdout",
     "output_type": "stream",
     "text": [
      "[42, 40, 38, 36, 34, 32, 24, 20, 18, 16, 14, 12]\n"
     ]
    }
   ],
   "source": [
    "res=LL[16:4:-1]\n",
    "print(res)"
   ]
  },
  {
   "cell_type": "code",
   "execution_count": 39,
   "id": "e8400191",
   "metadata": {},
   "outputs": [
    {
     "data": {
      "text/plain": [
       "[42, 40, 38, 36, 34, 32, 24, 20, 18, 16, 14, 12]"
      ]
     },
     "execution_count": 39,
     "metadata": {},
     "output_type": "execute_result"
    }
   ],
   "source": [
    "res[10:1:-1]\n",
    "res"
   ]
  },
  {
   "cell_type": "markdown",
   "id": "c45f0f66",
   "metadata": {},
   "source": [
    "reverse a list"
   ]
  },
  {
   "cell_type": "code",
   "execution_count": 32,
   "id": "2ce90a7c",
   "metadata": {},
   "outputs": [
    {
     "data": {
      "text/plain": [
       "['cherry', 'banana', 'coconut']"
      ]
     },
     "execution_count": 32,
     "metadata": {},
     "output_type": "execute_result"
    }
   ],
   "source": [
    "fruits = ['coconut', 'banana', 'cherry']\n",
    "\n",
    "fruits.reverse()\n",
    "fruits"
   ]
  },
  {
   "cell_type": "code",
   "execution_count": 40,
   "id": "3a83f32c",
   "metadata": {},
   "outputs": [
    {
     "data": {
      "text/plain": [
       "['cherry', 'banana', 'coconut']"
      ]
     },
     "execution_count": 40,
     "metadata": {},
     "output_type": "execute_result"
    }
   ],
   "source": [
    "fruits"
   ]
  },
  {
   "cell_type": "code",
   "execution_count": 45,
   "id": "0aad3212",
   "metadata": {},
   "outputs": [
    {
     "data": {
      "text/plain": [
       "['coconut']"
      ]
     },
     "execution_count": 45,
     "metadata": {},
     "output_type": "execute_result"
    }
   ],
   "source": [
    "fruits[3:1:-1]"
   ]
  },
  {
   "cell_type": "markdown",
   "id": "b5d84821",
   "metadata": {},
   "source": [
    "#copy a link"
   ]
  },
  {
   "cell_type": "code",
   "execution_count": 47,
   "id": "aa5ad284",
   "metadata": {},
   "outputs": [
    {
     "data": {
      "text/plain": [
       "[2, 3, 5, 8, 13, 21, 34]"
      ]
     },
     "execution_count": 47,
     "metadata": {},
     "output_type": "execute_result"
    }
   ],
   "source": [
    "new_list = [2, 3, 5, 8, 13, 21, 34]\n",
    "x = new_list.copy()\n",
    "x"
   ]
  },
  {
   "cell_type": "code",
   "execution_count": 48,
   "id": "03d5a037",
   "metadata": {},
   "outputs": [
    {
     "name": "stdout",
     "output_type": "stream",
     "text": [
      "list is copied!\n"
     ]
    }
   ],
   "source": [
    "if x == new_list:\n",
    "    print(\"list is copied!\")"
   ]
  },
  {
   "cell_type": "code",
   "execution_count": 50,
   "id": "46f3a7d5",
   "metadata": {},
   "outputs": [
    {
     "name": "stdout",
     "output_type": "stream",
     "text": [
      "4\n"
     ]
    }
   ],
   "source": [
    "#find index using item -  index(item)\n",
    "country = ['Bangkok','England','USA','UK','India','Pakistan']\n",
    "res = country.index('India')\n",
    "print(res)"
   ]
  },
  {
   "cell_type": "code",
   "execution_count": 53,
   "id": "7613c921",
   "metadata": {},
   "outputs": [
    {
     "data": {
      "text/plain": [
       "3"
      ]
     },
     "execution_count": 53,
     "metadata": {},
     "output_type": "execute_result"
    }
   ],
   "source": [
    "fruits = [4, 55, 64, 32, 16, 32]\n",
    "\n",
    "x = fruits.index(32)\n",
    "x"
   ]
  },
  {
   "cell_type": "code",
   "execution_count": 71,
   "id": "a02f9876",
   "metadata": {},
   "outputs": [
    {
     "name": "stdout",
     "output_type": "stream",
     "text": [
      "Copied List: ['cat', 0, 6.7]\n"
     ]
    }
   ],
   "source": [
    "# mixed list\n",
    "my_list = ['cat', 0, 6.7]\n",
    "\n",
    "# copying a list\n",
    "new_list = my_list.copy()\n",
    "\n",
    "\n",
    "print('Copied List:', new_list)"
   ]
  },
  {
   "cell_type": "code",
   "execution_count": 72,
   "id": "053a4c19",
   "metadata": {},
   "outputs": [
    {
     "name": "stdout",
     "output_type": "stream",
     "text": [
      "New List: [1, 2, 3, 'a']\n",
      "Old List: [1, 2, 3, 'a']\n"
     ]
    }
   ],
   "source": [
    "old_list = [1, 2, 3]\n",
    "\n",
    "# copy list using =\n",
    "new_list = old_list\n",
    "\n",
    "\n",
    "# add an element to list\n",
    "new_list.append('a')\n",
    "\n",
    "print('New List:', new_list)\n",
    "print('Old List:', old_list)"
   ]
  },
  {
   "cell_type": "code",
   "execution_count": 73,
   "id": "8fc2e325",
   "metadata": {},
   "outputs": [
    {
     "name": "stdout",
     "output_type": "stream",
     "text": [
      "Old List: ['cat', 0, 6.7]\n",
      "New List: ['cat', 0, 6.7, 'dog']\n"
     ]
    }
   ],
   "source": [
    "# shallow copy using the slicing syntax\n",
    "\n",
    "# mixed list\n",
    "list = ['cat', 0, 6.7]\n",
    "\n",
    "# copying a list using slicing\n",
    "new_list = list[:]\n",
    "\n",
    "\n",
    "# Adding an element to the new list\n",
    "new_list.append('dog')\n",
    "\n",
    "# Printing new and old list\n",
    "print('Old List:', list)\n",
    "print('New List:', new_list)"
   ]
  },
  {
   "cell_type": "markdown",
   "id": "2145f1c5",
   "metadata": {},
   "source": [
    "# Practice"
   ]
  },
  {
   "cell_type": "code",
   "execution_count": 54,
   "id": "f3ccbca5",
   "metadata": {},
   "outputs": [
    {
     "name": "stdout",
     "output_type": "stream",
     "text": [
      "True\n",
      "False\n"
     ]
    }
   ],
   "source": [
    "practice_list = [1, 2, 3, 4, 5]\n",
    "print(3 in practice_list)  # Output: True\n",
    "print(6 in practice_list)  # Output: False"
   ]
  },
  {
   "cell_type": "code",
   "execution_count": 55,
   "id": "e5c073db",
   "metadata": {},
   "outputs": [
    {
     "name": "stdout",
     "output_type": "stream",
     "text": [
      "[2, 3, 4]\n"
     ]
    }
   ],
   "source": [
    "practice_list = [1, 2, 3, 4, 5]\n",
    "subset = practice_list[1:4]  # Get elements at indices 1, 2, 3\n",
    "print(subset)  # Output: [2, 3, 4]\n"
   ]
  },
  {
   "cell_type": "code",
   "execution_count": 56,
   "id": "a7cb00eb",
   "metadata": {},
   "outputs": [
    {
     "name": "stdout",
     "output_type": "stream",
     "text": [
      "[1, 2, 3, 4, 5, 6]\n"
     ]
    }
   ],
   "source": [
    "list1 = [1, 2, 3]\n",
    "list2 = [4, 5, 6]\n",
    "combined_list = list1 + list2\n",
    "print(combined_list)  # Output: [1, 2, 3, 4, 5, 6]\n"
   ]
  },
  {
   "cell_type": "code",
   "execution_count": 57,
   "id": "65c44404",
   "metadata": {},
   "outputs": [
    {
     "name": "stdout",
     "output_type": "stream",
     "text": [
      "[1, 2, 4, 5]\n"
     ]
    }
   ],
   "source": [
    "practice_list = [1, 2, 3, 4, 5]\n",
    "practice_list.remove(3)\n",
    "print(practice_list)  # Output: [1, 2, 4, 5]\n"
   ]
  },
  {
   "cell_type": "code",
   "execution_count": 58,
   "id": "fd6138e3",
   "metadata": {},
   "outputs": [
    {
     "name": "stdout",
     "output_type": "stream",
     "text": [
      "[1, 2, 3, 4, 5]\n"
     ]
    }
   ],
   "source": [
    "practice_list = [4, 2, 1, 3, 5]\n",
    "practice_list.sort()\n",
    "print(practice_list)  # Output: [1, 2, 3, 4, 5]\n"
   ]
  },
  {
   "cell_type": "code",
   "execution_count": 60,
   "id": "1dc355e2",
   "metadata": {},
   "outputs": [
    {
     "name": "stdout",
     "output_type": "stream",
     "text": [
      "['o', 'g', 'r']\n",
      "['a', 'm', 'i', 'n', 'g']\n",
      "['p', 'r', 'o', 'g', 'r', 'a', 'm', 'i', 'n', 'g']\n"
     ]
    }
   ],
   "source": [
    "# List slicing in Python\n",
    "\n",
    "my_list = ['p','r','o','g','r','a','m','i','n','g']\n",
    "\n",
    "# items from index 2 to index 4\n",
    "print(my_list[2:5])\n",
    "\n",
    "# items from index 5 to end\n",
    "print(my_list[5:])\n",
    "\n",
    "# items beginning to end\n",
    "print(my_list[:])"
   ]
  },
  {
   "cell_type": "code",
   "execution_count": 61,
   "id": "48be265f",
   "metadata": {},
   "outputs": [
    {
     "name": "stdout",
     "output_type": "stream",
     "text": [
      "Before Append: [21, 34, 54, 12]\n",
      "After Append: [21, 34, 54, 12, 32]\n"
     ]
    }
   ],
   "source": [
    "numbers = [21, 34, 54, 12]\n",
    "\n",
    "print(\"Before Append:\", numbers)\n",
    "\n",
    "# using append method\n",
    "numbers.append(32)\n",
    "\n",
    "print(\"After Append:\", numbers)"
   ]
  },
  {
   "cell_type": "code",
   "execution_count": 62,
   "id": "582c8070",
   "metadata": {},
   "outputs": [
    {
     "name": "stdout",
     "output_type": "stream",
     "text": [
      "List1: [2, 3, 5]\n",
      "List2: [4, 6, 8]\n",
      "List after append: [2, 3, 5, 4, 6, 8]\n"
     ]
    }
   ],
   "source": [
    "prime_numbers = [2, 3, 5]\n",
    "print(\"List1:\", prime_numbers)\n",
    "\n",
    "even_numbers = [4, 6, 8]\n",
    "print(\"List2:\", even_numbers)\n",
    "\n",
    "# join two lists\n",
    "prime_numbers.extend(even_numbers)\n",
    "\n",
    "print(\"List after append:\", prime_numbers) "
   ]
  },
  {
   "cell_type": "code",
   "execution_count": 64,
   "id": "02f29ef1",
   "metadata": {},
   "outputs": [
    {
     "name": "stdout",
     "output_type": "stream",
     "text": [
      "['Python', 'Swift', 'C++']\n"
     ]
    }
   ],
   "source": [
    "languages = ['Python', 'Swift', 'C']\n",
    "\n",
    "# changing the third item to 'C'\n",
    "languages[2] = 'C++'\n",
    "\n",
    "print(languages)  # ['Python', 'Swift', 'C']"
   ]
  },
  {
   "cell_type": "code",
   "execution_count": 65,
   "id": "96116d2c",
   "metadata": {},
   "outputs": [
    {
     "name": "stdout",
     "output_type": "stream",
     "text": [
      "['Python', 'C++', 'C', 'Java', 'Rust', 'R']\n",
      "['Python', 'C++', 'C', 'Java', 'Rust']\n",
      "['C', 'Java', 'Rust']\n"
     ]
    }
   ],
   "source": [
    "languages = ['Python', 'Swift', 'C++', 'C', 'Java', 'Rust', 'R']\n",
    "\n",
    "# deleting the second item\n",
    "del languages[1]\n",
    "print(languages) # ['Python', 'C++', 'C', 'Java', 'Rust', 'R']\n",
    "\n",
    "# deleting the last item\n",
    "del languages[-1]\n",
    "print(languages) # ['Python', 'C++', 'C', 'Java', 'Rust']\n",
    "\n",
    "# delete first two items\n",
    "del languages[0 : 2]  # ['C', 'Java', 'Rust']\n",
    "print(languages)"
   ]
  },
  {
   "cell_type": "code",
   "execution_count": 66,
   "id": "548f6592",
   "metadata": {},
   "outputs": [
    {
     "name": "stdout",
     "output_type": "stream",
     "text": [
      "['Swift', 'C++', 'C', 'Java', 'Rust', 'R']\n"
     ]
    }
   ],
   "source": [
    "languages = ['Python', 'Swift', 'C++', 'C', 'Java', 'Rust', 'R']\n",
    "\n",
    "# remove 'Python' from the list\n",
    "languages.remove('Python')\n",
    "\n",
    "print(languages) # ['Swift', 'C++', 'C', 'Java', 'Rust', 'R']"
   ]
  },
  {
   "cell_type": "code",
   "execution_count": 67,
   "id": "6710217e",
   "metadata": {},
   "outputs": [
    {
     "name": "stdout",
     "output_type": "stream",
     "text": [
      "1\n"
     ]
    }
   ],
   "source": [
    "animals = ['cat', 'dog', 'rabbit', 'horse']\n",
    "\n",
    "# get the index of 'dog'\n",
    "index = animals.index('dog')\n",
    "\n",
    "\n",
    "print(index)\n",
    "\n",
    "# Output: 1"
   ]
  },
  {
   "cell_type": "markdown",
   "id": "8c7eea8f",
   "metadata": {},
   "source": [
    "Count in python"
   ]
  },
  {
   "cell_type": "code",
   "execution_count": 68,
   "id": "5df6ad2c",
   "metadata": {},
   "outputs": [
    {
     "name": "stdout",
     "output_type": "stream",
     "text": [
      "Count of 2: 3\n"
     ]
    }
   ],
   "source": [
    "# create a list\n",
    "numbers = [2, 3, 5, 2, 11, 2, 7]\n",
    "\n",
    "# check the count of 2\n",
    "count = numbers.count(2)\n",
    "\n",
    "\n",
    "print('Count of 2:', count)\n",
    "\n",
    "# Output: Count of 2: 3"
   ]
  },
  {
   "cell_type": "code",
   "execution_count": 69,
   "id": "6f07b18a",
   "metadata": {},
   "outputs": [
    {
     "name": "stdout",
     "output_type": "stream",
     "text": [
      "The count of i is: 2\n",
      "The count of p is: 0\n"
     ]
    }
   ],
   "source": [
    "# vowels list\n",
    "vowels = ['a', 'e', 'i', 'o', 'i', 'u']\n",
    "\n",
    "# count element 'i'\n",
    "count = vowels.count('i')\n",
    "\n",
    "\n",
    "# print count\n",
    "print('The count of i is:', count)\n",
    "\n",
    "# count element 'p'\n",
    "count = vowels.count('p')\n",
    "\n",
    "\n",
    "# print count\n",
    "print('The count of p is:', count)"
   ]
  },
  {
   "cell_type": "code",
   "execution_count": 70,
   "id": "a8ce9c9f",
   "metadata": {},
   "outputs": [
    {
     "name": "stdout",
     "output_type": "stream",
     "text": [
      "The count of ('a', 'b') is: 2\n",
      "The count of [3, 4] is: 1\n"
     ]
    }
   ],
   "source": [
    "# random list\n",
    "random = ['a', ('a', 'b'), ('a', 'b'), [3, 4]]\n",
    "\n",
    "# count element ('a', 'b')\n",
    "count = random.count(('a', 'b'))\n",
    "\n",
    "\n",
    "# print count\n",
    "print(\"The count of ('a', 'b') is:\", count)\n",
    "\n",
    "# count element [3, 4]\n",
    "count = random.count([3, 4])\n",
    "\n",
    "\n",
    "# print count\n",
    "print(\"The count of [3, 4] is:\", count)"
   ]
  },
  {
   "cell_type": "markdown",
   "id": "2ae0c6e1",
   "metadata": {},
   "source": [
    "# Some programe"
   ]
  },
  {
   "cell_type": "code",
   "execution_count": null,
   "id": "a68dca29",
   "metadata": {},
   "outputs": [],
   "source": [
    "#Declaring the empty list    \n",
    "l =[]    \n",
    "#Number of elements will be entered by the user      \n",
    "n = int(input(\"Enter the number of elements in the list:\"))    \n",
    "# for loop to take the input    \n",
    "for i in range(0,n):       \n",
    "    # The input is taken from the user and added to the list as the item    \n",
    "    l.append(input(\"Enter the item:\"))       \n",
    "print(\"printing the list items..\")     \n",
    "# traversal loop to print the list items      \n",
    "for i in l:     \n",
    "    print(i, end = \"  \")   \n"
   ]
  },
  {
   "cell_type": "code",
   "execution_count": 97,
   "id": "851173b1",
   "metadata": {},
   "outputs": [
    {
     "name": "stdout",
     "output_type": "stream",
     "text": [
      "The common element is: 2\n"
     ]
    }
   ],
   "source": [
    "list1 = [1,2,3,4,5,6]    \n",
    "list2 = [7,8,9,2,10]    \n",
    "for x in list1:    \n",
    "    for y in list2:    \n",
    "        if x == y:    \n",
    "            print(\"The common element is:\",x)    "
   ]
  },
  {
   "cell_type": "code",
   "execution_count": 98,
   "id": "2a8be8fe",
   "metadata": {},
   "outputs": [
    {
     "name": "stdout",
     "output_type": "stream",
     "text": [
      "The sum is: 67\n"
     ]
    }
   ],
   "source": [
    "list1 = [3,4,5,9,10,12,24]    \n",
    "sum = 0    \n",
    "for i in list1:    \n",
    "    sum = sum+i        \n",
    "print(\"The sum is:\",sum)  "
   ]
  },
  {
   "cell_type": "code",
   "execution_count": 99,
   "id": "f0c4c8c1",
   "metadata": {},
   "outputs": [
    {
     "name": "stdout",
     "output_type": "stream",
     "text": [
      "103\n"
     ]
    }
   ],
   "source": [
    "# minimum of the list  \n",
    "list1 = [103, 675, 321, 782, 200]  \n",
    "# smallest element in the list  \n",
    "print(min(list1))  "
   ]
  },
  {
   "cell_type": "code",
   "execution_count": 100,
   "id": "cf18217d",
   "metadata": {},
   "outputs": [
    {
     "name": "stdout",
     "output_type": "stream",
     "text": [
      "[1, 2, 3, 55, 98, 65, 13, 29]\n"
     ]
    }
   ],
   "source": [
    "list1 = [1,2,2,3,55,98,65,65,13,29]    \n",
    "# Declare an empty list that will store unique values    \n",
    "list2 = []    \n",
    "for i in list1:    \n",
    "    if i not in list2:    \n",
    "        list2.append(i)    \n",
    "print(list2)    "
   ]
  }
 ],
 "metadata": {
  "kernelspec": {
   "display_name": "Python 3 (ipykernel)",
   "language": "python",
   "name": "python3"
  },
  "language_info": {
   "codemirror_mode": {
    "name": "ipython",
    "version": 3
   },
   "file_extension": ".py",
   "mimetype": "text/x-python",
   "name": "python",
   "nbconvert_exporter": "python",
   "pygments_lexer": "ipython3",
   "version": "3.10.9"
  }
 },
 "nbformat": 4,
 "nbformat_minor": 5
}
