{
 "cells": [
  {
   "cell_type": "markdown",
   "id": "959fd0bf",
   "metadata": {},
   "source": [
    "# Tuple in python\n",
    "\n",
    "        Tuples are used to store multiple items in a single variable.\n",
    "        Tuple is one of 4 built-in data types in Python used to store collections of data,\n",
    "        the other 3 are List, Set, and Dictionary, all with different qualities and usage.\n",
    "        A tuple is a collection which is ordered and unchangeable.\n",
    "        Tuples are written with round brackets."
   ]
  },
  {
   "cell_type": "markdown",
   "id": "f9103eac",
   "metadata": {},
   "source": [
    "# Some key features of tuple-     \n",
    "\n",
    "# Tuple Items\n",
    "        Tuple items are ordered, unchangeable, and allow duplicate values.\n",
    "        Tupthistuple = (1, 3, 7, 8, 7, 5, 4, 6, 8, 5)\n",
    "\n",
    "x = thistuple.index(8)\n",
    "\n",
    "print(x)le items are indexed, the first item has index [0], the second item has index [1] etc.\n",
    "# Ordered\n",
    "         the items have a defined order, and that order will not change.\n",
    "# Unchangeable\n",
    "        Tuples are unchangeable, meaning that we cannot change, add or remove items after the tuple\n",
    "        has been created.\n",
    "# Allow Duplicates\n",
    "        Since tuples are indexed, they can have items with the same value:        "
   ]
  },
  {
   "cell_type": "code",
   "execution_count": 19,
   "id": "b5fe8a8e",
   "metadata": {},
   "outputs": [
    {
     "name": "stdout",
     "output_type": "stream",
     "text": [
      "('apple', 'banana', 'cherry', 'apple', 'cherry', 'jack-fruit', 'dragon-fruit')\n"
     ]
    }
   ],
   "source": [
    "thistuple = (\"apple\", \"banana\", \"cherry\", \"apple\", \"cherry\",\"jack-fruit\",\"dragon-fruit\")\n",
    "print(thistuple)"
   ]
  },
  {
   "cell_type": "code",
   "execution_count": 31,
   "id": "fa3f39d1",
   "metadata": {},
   "outputs": [
    {
     "name": "stdout",
     "output_type": "stream",
     "text": [
      "<class 'str'>\n",
      "apple and apple\n"
     ]
    }
   ],
   "source": [
    "#access item\n",
    "cc= thistuple[0] + \" and \" + thistuple[0] \n",
    "print(type(cc))\n",
    "print(cc)"
   ]
  },
  {
   "cell_type": "code",
   "execution_count": 32,
   "id": "fe93c45a",
   "metadata": {},
   "outputs": [
    {
     "name": "stdout",
     "output_type": "stream",
     "text": [
      "('immutable', 'hash', True, False, 101)\n"
     ]
    },
    {
     "data": {
      "text/plain": [
       "5"
      ]
     },
     "execution_count": 32,
     "metadata": {},
     "output_type": "execute_result"
    }
   ],
   "source": [
    "#Tuple Length\n",
    "length = ('immutable','hash',True,False,101)\n",
    "print(length)\n",
    "len(length)"
   ]
  },
  {
   "cell_type": "code",
   "execution_count": 33,
   "id": "7467a7d1",
   "metadata": {},
   "outputs": [
    {
     "name": "stdout",
     "output_type": "stream",
     "text": [
      "<class 'tuple'>\n",
      "<class 'str'>\n"
     ]
    }
   ],
   "source": [
    "#Create Tuple With One Item\n",
    "thistuple = (\"apple\",)\n",
    "print(type(thistuple))\n",
    "\n",
    "#NOT a tuple\n",
    "thistuple = (\"apple\")\n",
    "print(type(thistuple))"
   ]
  },
  {
   "cell_type": "code",
   "execution_count": 34,
   "id": "cd7e84da",
   "metadata": {},
   "outputs": [
    {
     "name": "stdout",
     "output_type": "stream",
     "text": [
      "('apple', 'banana', 'cherry')\n",
      "(1, 5, 7, 9, 3)\n",
      "(True, False, False)\n"
     ]
    }
   ],
   "source": [
    "#Tuple Items - Data Types\n",
    "tuple1 = (\"apple\", \"banana\", \"cherry\")\n",
    "tuple2 = (1, 5, 7, 9, 3)\n",
    "tuple3 = (True, False, False)\n",
    "print(tuple1)\n",
    "print(tuple2)\n",
    "print(tuple3)"
   ]
  },
  {
   "cell_type": "code",
   "execution_count": 35,
   "id": "d9ef9419",
   "metadata": {},
   "outputs": [
    {
     "data": {
      "text/plain": [
       "('abc', 34, True, 40, 'male')"
      ]
     },
     "execution_count": 35,
     "metadata": {},
     "output_type": "execute_result"
    }
   ],
   "source": [
    "tuple1 = (\"abc\", 34, True, 40, \"male\")\n",
    "tuple1"
   ]
  },
  {
   "cell_type": "code",
   "execution_count": 1,
   "id": "a42fbf72",
   "metadata": {},
   "outputs": [
    {
     "name": "stdout",
     "output_type": "stream",
     "text": [
      "('tuple', 'TUPLE', 'Tuple')\n"
     ]
    }
   ],
   "source": [
    "this = (\"tuple\",\"TUPLE\",'Tuple')\n",
    "print(this)"
   ]
  },
  {
   "cell_type": "code",
   "execution_count": 2,
   "id": "97672211",
   "metadata": {},
   "outputs": [
    {
     "data": {
      "text/plain": [
       "tuple"
      ]
     },
     "execution_count": 2,
     "metadata": {},
     "output_type": "execute_result"
    }
   ],
   "source": [
    "book = ()\n",
    "type(book)"
   ]
  },
  {
   "cell_type": "code",
   "execution_count": 3,
   "id": "0306ebd6",
   "metadata": {},
   "outputs": [
    {
     "data": {
      "text/plain": [
       "tuple"
      ]
     },
     "execution_count": 3,
     "metadata": {},
     "output_type": "execute_result"
    }
   ],
   "source": [
    "book = (5,)\n",
    "type(book)"
   ]
  },
  {
   "cell_type": "code",
   "execution_count": 10,
   "id": "a3df2264",
   "metadata": {},
   "outputs": [
    {
     "name": "stdout",
     "output_type": "stream",
     "text": [
      "([1, 2, 34, 5, 10], [10, 12, 1, 3, 4, 40])\n"
     ]
    }
   ],
   "source": [
    "book = ([1,2,34,5,10],[10,12,1,3,4,40])\n",
    "print(book)"
   ]
  },
  {
   "cell_type": "code",
   "execution_count": 11,
   "id": "4e4d6144",
   "metadata": {},
   "outputs": [
    {
     "data": {
      "text/plain": [
       "[1, 2, 34, 5, 10]"
      ]
     },
     "execution_count": 11,
     "metadata": {},
     "output_type": "execute_result"
    }
   ],
   "source": [
    "book[0]"
   ]
  },
  {
   "cell_type": "code",
   "execution_count": 12,
   "id": "4f73d505",
   "metadata": {},
   "outputs": [
    {
     "data": {
      "text/plain": [
       "[10, 12, 1, 3, 4, 40]"
      ]
     },
     "execution_count": 12,
     "metadata": {},
     "output_type": "execute_result"
    }
   ],
   "source": [
    "book[1]"
   ]
  },
  {
   "cell_type": "code",
   "execution_count": 13,
   "id": "3d67ef87",
   "metadata": {},
   "outputs": [
    {
     "name": "stdout",
     "output_type": "stream",
     "text": [
      "5\n"
     ]
    }
   ],
   "source": [
    "print(len(book[0]))"
   ]
  },
  {
   "cell_type": "code",
   "execution_count": 14,
   "id": "cda7f1da",
   "metadata": {},
   "outputs": [
    {
     "name": "stdout",
     "output_type": "stream",
     "text": [
      "6\n"
     ]
    }
   ],
   "source": [
    "print(len(book[1]))"
   ]
  },
  {
   "cell_type": "code",
   "execution_count": 15,
   "id": "d3d68c84",
   "metadata": {},
   "outputs": [
    {
     "data": {
      "text/plain": [
       "[1, 2, 34, 5, 10, 10, 12, 1, 3, 4, 40]"
      ]
     },
     "execution_count": 15,
     "metadata": {},
     "output_type": "execute_result"
    }
   ],
   "source": [
    "#addition\n",
    "add = book[0]+book[1]\n",
    "add"
   ]
  },
  {
   "cell_type": "code",
   "execution_count": 16,
   "id": "84d00b1c",
   "metadata": {},
   "outputs": [
    {
     "data": {
      "text/plain": [
       "list"
      ]
     },
     "execution_count": 16,
     "metadata": {},
     "output_type": "execute_result"
    }
   ],
   "source": [
    "type(add)"
   ]
  },
  {
   "cell_type": "code",
   "execution_count": 18,
   "id": "df0695a4",
   "metadata": {},
   "outputs": [
    {
     "name": "stdout",
     "output_type": "stream",
     "text": [
      "(1, 2, 34, 5, 10, 10, 12, 1, 3, 4, 40)\n"
     ]
    },
    {
     "data": {
      "text/plain": [
       "tuple"
      ]
     },
     "execution_count": 18,
     "metadata": {},
     "output_type": "execute_result"
    }
   ],
   "source": [
    "#convert a list to a tuple\n",
    "cc = tuple(add)\n",
    "print(cc)\n",
    "type(cc)"
   ]
  },
  {
   "cell_type": "code",
   "execution_count": 36,
   "id": "ea828ca3",
   "metadata": {},
   "outputs": [
    {
     "name": "stdout",
     "output_type": "stream",
     "text": [
      "banana\n"
     ]
    }
   ],
   "source": [
    "#Python - Access Tuple Items\n",
    "thistuple = (\"apple\", \"banana\", \"cherry\")\n",
    "print(thistuple[1])"
   ]
  },
  {
   "cell_type": "code",
   "execution_count": 37,
   "id": "6eafc518",
   "metadata": {},
   "outputs": [
    {
     "name": "stdout",
     "output_type": "stream",
     "text": [
      "cherry\n"
     ]
    }
   ],
   "source": [
    "thistuple = (\"apple\", \"banana\", \"cherry\")\n",
    "print(thistuple[-1])"
   ]
  },
  {
   "cell_type": "code",
   "execution_count": 39,
   "id": "1d15ed02",
   "metadata": {},
   "outputs": [
    {
     "name": "stdout",
     "output_type": "stream",
     "text": [
      "tup1[0]:  physics\n",
      "tup2[1:5]:  (2, 3, 4, 5)\n"
     ]
    }
   ],
   "source": [
    "tup1 = ('physics', 'chemistry', 1997, 2000);\n",
    "tup2 = (1, 2, 3, 4, 5, 6, 7 );\n",
    "print(\"tup1[0]: \", tup1[0]) \n",
    "print( \"tup2[1:5]: \", tup2[1:5])"
   ]
  },
  {
   "cell_type": "code",
   "execution_count": 40,
   "id": "29f6806e",
   "metadata": {},
   "outputs": [
    {
     "name": "stdout",
     "output_type": "stream",
     "text": [
      "Empty tuple:  ()\n",
      "Tuple with integers:  (4, 6, 8, 10, 12, 14)\n",
      "Tuple with different data types:  (4, 'Python', 9.3)\n",
      "A nested tuple:  ('Python', {4: 5, 6: 2, 8: 2}, (5, 3, 5, 6))\n"
     ]
    }
   ],
   "source": [
    "empty_tuple = ()    \n",
    "print(\"Empty tuple: \", empty_tuple)    \n",
    "    \n",
    "# Creating tuple having integers    \n",
    "int_tuple = (4, 6, 8, 10, 12, 14)    \n",
    "print(\"Tuple with integers: \", int_tuple)    \n",
    "    \n",
    "# Creating a tuple having objects of different data types    \n",
    "mixed_tuple = (4, \"Python\", 9.3)    \n",
    "print(\"Tuple with different data types: \", mixed_tuple)    \n",
    "    \n",
    "# Creating a nested tuple    \n",
    "nested_tuple = (\"Python\", {4: 5, 6: 2, 8:2}, (5, 3, 5, 6))    \n",
    "print(\"A nested tuple: \", nested_tuple)   "
   ]
  },
  {
   "cell_type": "code",
   "execution_count": 42,
   "id": "749eea22",
   "metadata": {},
   "outputs": [
    {
     "name": "stdout",
     "output_type": "stream",
     "text": [
      "(4, 5.7, 'Tuples', ['Python', 'Tuples'])\n",
      "<class 'tuple'>\n"
     ]
    }
   ],
   "source": [
    "# Python program to create a tuple without using parentheses       \n",
    "tuple_ = 4, 5.7, \"Tuples\", [\"Python\", \"Tuples\"]    \n",
    "# Displaying the tuple created    \n",
    "print(tuple_)    \n",
    "# Checking the data type of object tuple_    \n",
    "print(type(tuple_) )    \n",
    "# Trying to modify tuple_     "
   ]
  },
  {
   "cell_type": "code",
   "execution_count": 43,
   "id": "871a098d",
   "metadata": {},
   "outputs": [
    {
     "name": "stdout",
     "output_type": "stream",
     "text": [
      "<class 'str'>\n",
      "<class 'tuple'>\n",
      "<class 'tuple'>\n"
     ]
    }
   ],
   "source": [
    "# Python program to show how to create a tuple having a single element    \n",
    "single_tuple = (\"Tuple\")    \n",
    "print( type(single_tuple) )     \n",
    "# Creating a tuple that has only one element    \n",
    "single_tuple = (\"Tuple\",)    \n",
    "print( type(single_tuple) )     \n",
    "# Creating tuple without parentheses    \n",
    "single_tuple = \"Tuple\",    \n",
    "print( type(single_tuple) )    "
   ]
  },
  {
   "cell_type": "code",
   "execution_count": 44,
   "id": "f24149dc",
   "metadata": {},
   "outputs": [
    {
     "name": "stdout",
     "output_type": "stream",
     "text": [
      "Python\n",
      "Tuple\n",
      "tuple index out of range\n",
      "tuple indices must be integers or slices, not float\n",
      "l\n",
      "6\n"
     ]
    }
   ],
   "source": [
    "# Python program to show how to access tuple elements    \n",
    "# Creating a tuple    \n",
    "tuple_ = (\"Python\", \"Tuple\", \"Ordered\", \"Collection\")    \n",
    "print(tuple_[0])      \n",
    "print(tuple_[1])     \n",
    "# trying to access element index more than the length of a tuple    \n",
    "try:    \n",
    "    print(tuple_[5])     \n",
    "except Exception as e:    \n",
    "    print(e)    \n",
    "# trying to access elements through the index of floating data type    \n",
    "try:    \n",
    "    print(tuple_[1.0])     \n",
    "except Exception as e:    \n",
    "    print(e)    \n",
    "# Creating a nested tuple    \n",
    "nested_tuple = (\"Tuple\", [4, 6, 2, 6], (6, 2, 6, 7))    \n",
    "    \n",
    "# Accessing the index of a nested tuple    \n",
    "print(nested_tuple[0][3])           \n",
    "print(nested_tuple[1][1])       "
   ]
  },
  {
   "cell_type": "code",
   "execution_count": 45,
   "id": "3764576c",
   "metadata": {},
   "outputs": [
    {
     "name": "stdout",
     "output_type": "stream",
     "text": [
      "Element at -1 index:  Collection\n",
      "Elements between -4 and -1 are:  ('Python', 'Tuple', 'Ordered')\n"
     ]
    }
   ],
   "source": [
    "# Python program to show how negative indexing works in Python tuples    \n",
    "# Creating a tuple    \n",
    "tuple_ = (\"Python\", \"Tuple\", \"Ordered\", \"Collection\")    \n",
    "# Printing elements using negative indices    \n",
    "print(\"Element at -1 index: \", tuple_[-1])    \n",
    "print(\"Elements between -4 and -1 are: \", tuple_[-4:-1])    "
   ]
  },
  {
   "cell_type": "code",
   "execution_count": 46,
   "id": "0fab7c14",
   "metadata": {},
   "outputs": [
    {
     "name": "stdout",
     "output_type": "stream",
     "text": [
      "Elements between indices 1 and 3:  ('Tuple', 'Ordered')\n",
      "Elements between indices 0 and -4:  ('Python', 'Tuple')\n",
      "Entire tuple:  ('Python', 'Tuple', 'Ordered', 'Immutable', 'Collection', 'Objects')\n"
     ]
    }
   ],
   "source": [
    "# Python program to show how slicing works in Python tuples    \n",
    "# Creating a tuple    \n",
    "tuple_ = (\"Python\", \"Tuple\", \"Ordered\", \"Immutable\", \"Collection\", \"Objects\")    \n",
    "# Using slicing to access elements of the tuple    \n",
    "print(\"Elements between indices 1 and 3: \", tuple_[1:3])    \n",
    "# Using negative indexing in slicing    \n",
    "print(\"Elements between indices 0 and -4: \", tuple_[:-4])    \n",
    "# Printing the entire tuple by using the default start and end values.     \n",
    "print(\"Entire tuple: \", tuple_[:])    "
   ]
  },
  {
   "cell_type": "code",
   "execution_count": 47,
   "id": "d4578cfe",
   "metadata": {},
   "outputs": [
    {
     "name": "stdout",
     "output_type": "stream",
     "text": [
      "'tuple' object doesn't support item deletion\n",
      "name 'tuple_' is not defined\n"
     ]
    }
   ],
   "source": [
    "#Deleting a tuple\n",
    "\n",
    "# Python program to show how to delete elements of a Python tuple    \n",
    "# Creating a tuple    \n",
    "tuple_ = (\"Python\", \"Tuple\", \"Ordered\", \"Immutable\", \"Collection\", \"Objects\")    \n",
    "# Deleting a particular element of the tuple    \n",
    "try:     \n",
    "    del tuple_[3]    \n",
    "    print(tuple_)    \n",
    "except Exception as e:    \n",
    "    print(e)    \n",
    "# Deleting the variable from the global space of the program    \n",
    "del tuple_    \n",
    "# Trying accessing the tuple after deleting it    \n",
    "try:    \n",
    "    print(tuple_)    \n",
    "except Exception as e:    \n",
    "    print(e)    "
   ]
  },
  {
   "cell_type": "markdown",
   "id": "3244ff0d",
   "metadata": {},
   "source": [
    "# Updating Tuples\n",
    "        Once a tuple is created, you cannot change its values. Tuples are unchangeable, \n",
    "        or immutable as it also is called.\n",
    "        But there is a workaround. You can convert the tuple into a list, change the list,\n",
    "        and convert the list back into a tuple."
   ]
  },
  {
   "cell_type": "code",
   "execution_count": 50,
   "id": "323d3b64",
   "metadata": {},
   "outputs": [
    {
     "name": "stdout",
     "output_type": "stream",
     "text": [
      "<class 'tuple'>\n",
      "('apple', 'kiwi', 'cherry')\n"
     ]
    }
   ],
   "source": [
    "x = (\"apple\", \"banana\", \"cherry\")\n",
    "y = list(x)\n",
    "y[1] = \"kiwi\"\n",
    "x = tuple(y)\n",
    "\n",
    "print(type(x))\n",
    "print(x)"
   ]
  },
  {
   "cell_type": "code",
   "execution_count": 52,
   "id": "e56c689c",
   "metadata": {},
   "outputs": [
    {
     "name": "stdout",
     "output_type": "stream",
     "text": [
      "(12, 34.56, 'abc', 'xyz')\n"
     ]
    }
   ],
   "source": [
    "\n",
    "tup1 = (12, 34.56);\n",
    "tup2 = ('abc', 'xyz');\n",
    "\n",
    "# Following action is not valid for tuples\n",
    "# tup1[0] = 100;\n",
    "\n",
    "# So let's create a new tuple as follows\n",
    "tup3 = tup1 + tup2;\n",
    "print (tup3)"
   ]
  },
  {
   "cell_type": "markdown",
   "id": "6544f2de",
   "metadata": {},
   "source": [
    "# Add Items\n",
    "        Since tuples are immutable, they do not have a built-in append() method, \n",
    "        but there are other ways to add items to a tuple.\n",
    "\n",
    "        1. Convert into a list: Just like the workaround for changing a tuple, you\n",
    "        can convert it into a list, add your item(s), and convert it back into a tuple."
   ]
  },
  {
   "cell_type": "code",
   "execution_count": 55,
   "id": "6b4ae4c3",
   "metadata": {},
   "outputs": [
    {
     "data": {
      "text/plain": [
       "('apple', 'banana', 'cherry', 'orange')"
      ]
     },
     "execution_count": 55,
     "metadata": {},
     "output_type": "execute_result"
    }
   ],
   "source": [
    "thistuple = (\"apple\", \"banana\", \"cherry\")\n",
    "y = list(thistuple)\n",
    "y.append(\"orange\")\n",
    "thistuple = tuple(y)\n",
    "thistuple"
   ]
  },
  {
   "cell_type": "code",
   "execution_count": 56,
   "id": "14a07311",
   "metadata": {},
   "outputs": [
    {
     "name": "stdout",
     "output_type": "stream",
     "text": [
      "('apple', 'banana', 'cherry', 'orange')\n"
     ]
    }
   ],
   "source": [
    "thistuple = (\"apple\", \"banana\", \"cherry\")\n",
    "y = (\"orange\",)\n",
    "thistuple += y\n",
    "\n",
    "print(thistuple)"
   ]
  },
  {
   "cell_type": "code",
   "execution_count": 65,
   "id": "460ba453",
   "metadata": {},
   "outputs": [
    {
     "name": "stdout",
     "output_type": "stream",
     "text": [
      "('', 'one', 'two', 'three', 'four', 'six')\n",
      "<class 'tuple'>\n"
     ]
    }
   ],
   "source": [
    "hh = (\"\",\"one\",\"two\",\"three\",\"four\",\"six\")\n",
    "print(hh)\n",
    "print(type(hh))"
   ]
  },
  {
   "cell_type": "code",
   "execution_count": 70,
   "id": "a1f226dc",
   "metadata": {},
   "outputs": [
    {
     "data": {
      "text/plain": [
       "list"
      ]
     },
     "execution_count": 70,
     "metadata": {},
     "output_type": "execute_result"
    }
   ],
   "source": [
    "#so we convert to tuple to list then changed item \n",
    "h = list(hh)\n",
    "type(h)"
   ]
  },
  {
   "cell_type": "code",
   "execution_count": 72,
   "id": "bae20c48",
   "metadata": {},
   "outputs": [],
   "source": [
    "type(h)\n",
    "h[0]=\"zero\""
   ]
  },
  {
   "cell_type": "code",
   "execution_count": 74,
   "id": "62aee924",
   "metadata": {},
   "outputs": [
    {
     "data": {
      "text/plain": [
       "list"
      ]
     },
     "execution_count": 74,
     "metadata": {},
     "output_type": "execute_result"
    }
   ],
   "source": [
    "type(h)"
   ]
  },
  {
   "cell_type": "markdown",
   "id": "391042c0",
   "metadata": {},
   "source": [
    "# python unpacking tuple "
   ]
  },
  {
   "cell_type": "code",
   "execution_count": 89,
   "id": "c7449505",
   "metadata": {},
   "outputs": [
    {
     "name": "stdout",
     "output_type": "stream",
     "text": [
      "a: 1\n",
      "b: 2\n",
      "c: 3\n",
      "d: 45\n",
      "e: 6\n",
      "f: 10\n",
      "a+b+d :  48\n",
      "a*c*f :  30\n",
      "d-(a-b-c) :  49\n",
      "(e+f)/b :  8\n"
     ]
    }
   ],
   "source": [
    "my_tuple = [1,2,3,45,6,10]\n",
    "a,b,c,d,e,f = my_tuple\n",
    "print(\"a:\",a)\n",
    "print(\"b:\",b)\n",
    "print(\"c:\",c)\n",
    "print(\"d:\",d)\n",
    "print(\"e:\",e)\n",
    "print(\"f:\",f)\n",
    "add = a + b + d\n",
    "mul = a*c*f\n",
    "sub = d-(a-b-c)\n",
    "div = (e+f)//b\n",
    "print(\"a+b+d : \",add)\n",
    "print(\"a*c*f : \",mul)\n",
    "print(\"d-(a-b-c) : \",sub)\n",
    "print(\"(e+f)/b : \",div)\n"
   ]
  },
  {
   "cell_type": "code",
   "execution_count": 92,
   "id": "7d2c84a5",
   "metadata": {},
   "outputs": [],
   "source": [
    "fib_number = (0,1,1,2,3,5,8,13,21,34,56,)"
   ]
  },
  {
   "cell_type": "code",
   "execution_count": 98,
   "id": "5c4cddd8",
   "metadata": {},
   "outputs": [
    {
     "name": "stdout",
     "output_type": "stream",
     "text": [
      "a : 0\n",
      "b : 1\n",
      "*rest : [1, 2, 3, 5, 8, 13, 21, 34, 56]\n"
     ]
    },
    {
     "data": {
      "text/plain": [
       "list"
      ]
     },
     "execution_count": 98,
     "metadata": {},
     "output_type": "execute_result"
    }
   ],
   "source": [
    "a,b,*rest = fib_number\n",
    "print(\"a :\",a)\n",
    "print(\"b :\",b)\n",
    "print(\"*rest :\",rest)\n",
    "type(rest)"
   ]
  },
  {
   "cell_type": "code",
   "execution_count": 101,
   "id": "ac9b6594",
   "metadata": {},
   "outputs": [
    {
     "name": "stdout",
     "output_type": "stream",
     "text": [
      "This is a red color\n",
      "This is a green color\n",
      "This is a blue color\n"
     ]
    },
    {
     "data": {
      "text/plain": [
       "str"
      ]
     },
     "execution_count": 101,
     "metadata": {},
     "output_type": "execute_result"
    }
   ],
   "source": [
    "rgb = (\"red\",\"green\",\"blue\")\n",
    "red,green,blue = rgb\n",
    "print(\"This is a\",red,\"color\")\n",
    "print(\"This is a\",green,\"color\")\n",
    "print(\"This is a\",blue,\"color\")\n",
    "type(red)"
   ]
  },
  {
   "cell_type": "code",
   "execution_count": 106,
   "id": "d9f88886",
   "metadata": {},
   "outputs": [
    {
     "name": "stdout",
     "output_type": "stream",
     "text": [
      "apple\n",
      "['mango', 'banana', 'pine apple', 'papaya']\n"
     ]
    }
   ],
   "source": [
    "fruits = (\"mango\",\"banana\",\"pine apple\",\"papaya\",\"apple\")\n",
    "*one,two = fruits\n",
    "print(two)\n",
    "print(one)"
   ]
  },
  {
   "cell_type": "markdown",
   "id": "5a92eab3",
   "metadata": {},
   "source": [
    "Here are a few more examples of unpacking in Python:"
   ]
  },
  {
   "cell_type": "code",
   "execution_count": 113,
   "id": "1d00dee1",
   "metadata": {},
   "outputs": [
    {
     "name": "stdout",
     "output_type": "stream",
     "text": [
      "(1, 2.3, 4.52, 12, 20, 1)\n",
      "a: 1\n",
      "most: [2.3, 4.52, 12, 20]\n",
      "b: 1\n"
     ]
    }
   ],
   "source": [
    "mum = (1,2.3,4.52,12,20,1)\n",
    "a,*most,b=mum\n",
    "print(mum)\n",
    "print(\"a:\",a)\n",
    "print(\"most:\",most)\n",
    "print(\"b:\",b)"
   ]
  },
  {
   "cell_type": "code",
   "execution_count": 117,
   "id": "201b3ef0",
   "metadata": {},
   "outputs": [
    {
     "name": "stdout",
     "output_type": "stream",
     "text": [
      "before swapping:\n",
      "a: 10\n",
      "b: 20\n",
      "after swapping:\n",
      "a: 20\n",
      "b: 3\n"
     ]
    }
   ],
   "source": [
    "a = 10\n",
    "b = 20\n",
    "print(\"before swapping:\")\n",
    "print(\"a:\",a)\n",
    "print(\"b:\",b)\n",
    "a,b = b,c\n",
    "print(\"after swapping:\")\n",
    "\n",
    "print(\"a:\",a)\n",
    "print(\"b:\",b)"
   ]
  },
  {
   "cell_type": "code",
   "execution_count": 118,
   "id": "40165d2f",
   "metadata": {},
   "outputs": [
    {
     "name": "stdout",
     "output_type": "stream",
     "text": [
      "1\n",
      "2\n",
      "3\n",
      "4\n"
     ]
    }
   ],
   "source": [
    "nested_tuple = (1, (2, 3), 4)\n",
    "a, (b, c), d = nested_tuple\n",
    "\n",
    "print(a)  # Output: 1\n",
    "print(b)  # Output: 2\n",
    "print(c)  # Output: 3\n",
    "print(d)  # Output: 4\n"
   ]
  },
  {
   "cell_type": "code",
   "execution_count": 119,
   "id": "eb28fb99",
   "metadata": {},
   "outputs": [
    {
     "name": "stdout",
     "output_type": "stream",
     "text": [
      "10\n",
      "20\n"
     ]
    }
   ],
   "source": [
    "def get_coordinates():\n",
    "    return 10, 20\n",
    "\n",
    "x, y = get_coordinates()\n",
    "\n",
    "print(x)  # Output: 10\n",
    "print(y)  # Output: 20\n"
   ]
  },
  {
   "cell_type": "code",
   "execution_count": 123,
   "id": "952615c9",
   "metadata": {},
   "outputs": [
    {
     "name": "stdout",
     "output_type": "stream",
     "text": [
      "<class 'tuple'>\n",
      "1 a\n",
      "2 b\n",
      "3 c\n"
     ]
    }
   ],
   "source": [
    "#using loop\n",
    "\n",
    "my_list = ((1, 'a'), (2, 'b'), (3, 'c'))\n",
    "print(type(my_list))\n",
    "\n",
    "for number, letter in my_list:\n",
    "    print(number, letter)\n"
   ]
  },
  {
   "cell_type": "code",
   "execution_count": 128,
   "id": "da87a9fe",
   "metadata": {},
   "outputs": [
    {
     "name": "stdout",
     "output_type": "stream",
     "text": [
      "Alice: 90 (A)\n",
      "Bob: 85 (B)\n",
      "Charlie: 92 (A)\n"
     ]
    }
   ],
   "source": [
    "students = ((\"Alice\", 90), (\"Bob\", 85), (\"Charlie\", 92))\n",
    "\n",
    "for name, score in students:\n",
    "    if score >= 90:\n",
    "        grade = \"A\"\n",
    "    elif score >= 80:\n",
    "        grade = \"B\"\n",
    "    else:\n",
    "        grade = \"C\"\n",
    "    \n",
    "    print(f\"{name}: {score} ({grade})\")"
   ]
  },
  {
   "cell_type": "markdown",
   "id": "18d02d97",
   "metadata": {},
   "source": [
    "# Python - Join Tuples"
   ]
  },
  {
   "cell_type": "code",
   "execution_count": 129,
   "id": "ebdc242a",
   "metadata": {},
   "outputs": [
    {
     "name": "stdout",
     "output_type": "stream",
     "text": [
      "('a', 'b', 'c', 1, 2, 3)\n"
     ]
    }
   ],
   "source": [
    "tuple1 = (\"a\", \"b\" , \"c\")\n",
    "tuple2 = (1, 2, 3)\n",
    "\n",
    "tuple3 = tuple1 + tuple2\n",
    "print(tuple3)"
   ]
  },
  {
   "cell_type": "code",
   "execution_count": 132,
   "id": "0f886ebf",
   "metadata": {},
   "outputs": [
    {
     "name": "stdout",
     "output_type": "stream",
     "text": [
      "before join : ('Hello', 'world', '!')\n",
      "after join : Hello world !\n"
     ]
    },
    {
     "data": {
      "text/plain": [
       "str"
      ]
     },
     "execution_count": 132,
     "metadata": {},
     "output_type": "execute_result"
    }
   ],
   "source": [
    "my_tuple = ('Hello', 'world', '!')\n",
    "print(\"before join :\",my_tuple)\n",
    "result = ' '.join(my_tuple)\n",
    "\n",
    "print(\"after join :\",result)\n",
    "type(result)"
   ]
  },
  {
   "cell_type": "code",
   "execution_count": 136,
   "id": "af692958",
   "metadata": {},
   "outputs": [
    {
     "name": "stdout",
     "output_type": "stream",
     "text": [
      "('apple', 'banana', 'cherry', 'apple', 'banana', 'cherry')\n"
     ]
    }
   ],
   "source": [
    "fruits = (\"apple\", \"banana\",\"cherry\")\n",
    "mytuple = fruits * 2\n",
    "\n",
    "print(mytuple)"
   ]
  },
  {
   "cell_type": "markdown",
   "id": "0db93e17",
   "metadata": {},
   "source": [
    "# tuple method\n",
    "    count\n",
    "    index"
   ]
  },
  {
   "cell_type": "code",
   "execution_count": 139,
   "id": "f5fcfdfe",
   "metadata": {},
   "outputs": [
    {
     "name": "stdout",
     "output_type": "stream",
     "text": [
      "5 : 2\n",
      "7 : 2\n"
     ]
    }
   ],
   "source": [
    "thistuple = (1, 3, 7, 8, 7, 5, 4, 6, 8, 5)\n",
    "\n",
    "x = thistuple.count(5)\n",
    "y = thistuple.count(7)\n",
    "print(\"5 :\",x)\n",
    "print(\"7 :\",y)"
   ]
  },
  {
   "cell_type": "code",
   "execution_count": 140,
   "id": "be8d68d7",
   "metadata": {},
   "outputs": [
    {
     "name": "stdout",
     "output_type": "stream",
     "text": [
      "3\n"
     ]
    }
   ],
   "source": [
    "#count\n",
    "thistuple = (1, 3, 7, 8, 7, 5, 4, 6, 8, 5)\n",
    "\n",
    "x = thistuple.index(8)\n",
    "\n",
    "print(x)"
   ]
  },
  {
   "cell_type": "code",
   "execution_count": null,
   "id": "e47290e0",
   "metadata": {},
   "outputs": [],
   "source": []
  },
  {
   "cell_type": "code",
   "execution_count": null,
   "id": "70d0a597",
   "metadata": {},
   "outputs": [],
   "source": []
  },
  {
   "cell_type": "code",
   "execution_count": null,
   "id": "36061df1",
   "metadata": {},
   "outputs": [],
   "source": []
  },
  {
   "cell_type": "code",
   "execution_count": null,
   "id": "b9393017",
   "metadata": {},
   "outputs": [],
   "source": []
  },
  {
   "cell_type": "code",
   "execution_count": null,
   "id": "c54b2436",
   "metadata": {},
   "outputs": [],
   "source": []
  },
  {
   "cell_type": "code",
   "execution_count": null,
   "id": "847dd813",
   "metadata": {},
   "outputs": [],
   "source": []
  },
  {
   "cell_type": "code",
   "execution_count": null,
   "id": "611a459a",
   "metadata": {},
   "outputs": [],
   "source": []
  },
  {
   "cell_type": "code",
   "execution_count": null,
   "id": "97148b6a",
   "metadata": {},
   "outputs": [],
   "source": []
  },
  {
   "cell_type": "code",
   "execution_count": null,
   "id": "510b3e1f",
   "metadata": {},
   "outputs": [],
   "source": []
  },
  {
   "cell_type": "code",
   "execution_count": null,
   "id": "2206d9fd",
   "metadata": {},
   "outputs": [],
   "source": []
  },
  {
   "cell_type": "code",
   "execution_count": null,
   "id": "38eafb5e",
   "metadata": {},
   "outputs": [],
   "source": []
  },
  {
   "cell_type": "code",
   "execution_count": null,
   "id": "95e410d7",
   "metadata": {},
   "outputs": [],
   "source": []
  },
  {
   "cell_type": "code",
   "execution_count": null,
   "id": "d83decaf",
   "metadata": {},
   "outputs": [],
   "source": []
  },
  {
   "cell_type": "code",
   "execution_count": null,
   "id": "20a50b6d",
   "metadata": {},
   "outputs": [],
   "source": []
  },
  {
   "cell_type": "code",
   "execution_count": null,
   "id": "69536a1e",
   "metadata": {},
   "outputs": [],
   "source": []
  },
  {
   "cell_type": "code",
   "execution_count": null,
   "id": "8145d91d",
   "metadata": {},
   "outputs": [],
   "source": []
  },
  {
   "cell_type": "code",
   "execution_count": null,
   "id": "727b78f9",
   "metadata": {},
   "outputs": [],
   "source": []
  },
  {
   "cell_type": "code",
   "execution_count": null,
   "id": "30f1c956",
   "metadata": {},
   "outputs": [],
   "source": []
  },
  {
   "cell_type": "code",
   "execution_count": null,
   "id": "3e226ea2",
   "metadata": {},
   "outputs": [],
   "source": []
  }
 ],
 "metadata": {
  "kernelspec": {
   "display_name": "Python 3 (ipykernel)",
   "language": "python",
   "name": "python3"
  },
  "language_info": {
   "codemirror_mode": {
    "name": "ipython",
    "version": 3
   },
   "file_extension": ".py",
   "mimetype": "text/x-python",
   "name": "python",
   "nbconvert_exporter": "python",
   "pygments_lexer": "ipython3",
   "version": "3.10.9"
  }
 },
 "nbformat": 4,
 "nbformat_minor": 5
}
