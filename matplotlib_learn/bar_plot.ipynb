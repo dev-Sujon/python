{
 "cells": [
  {
   "cell_type": "code",
   "execution_count": 4,
   "id": "0b667356",
   "metadata": {},
   "outputs": [],
   "source": [
    "#Imports packages\n",
    "import pandas as pd\n",
    "import numpy as np\n",
    "import matplotlib.pyplot as plt\n",
    "import matplotlib.dates as mdates\n",
    "from matplotlib.ticker import MaxNLocator"
   ]
  },
  {
   "cell_type": "code",
   "execution_count": 5,
   "id": "ada82f37",
   "metadata": {},
   "outputs": [
    {
     "data": {
      "text/plain": [
       "<Figure size 500x1000 with 0 Axes>"
      ]
     },
     "execution_count": 5,
     "metadata": {},
     "output_type": "execute_result"
    },
    {
     "data": {
      "text/plain": [
       "<Figure size 500x1000 with 0 Axes>"
      ]
     },
     "metadata": {},
     "output_type": "display_data"
    }
   ],
   "source": [
    "plt.figure(figsize=(5, 10))"
   ]
  },
  {
   "cell_type": "code",
   "execution_count": 6,
   "id": "28dc2fa1",
   "metadata": {},
   "outputs": [
    {
     "data": {
      "image/png": "[encoded data removed]",
      "text/plain": [
       "<Figure size 640x480 with 1 Axes>"
      ]
     },
     "metadata": {},
     "output_type": "display_data"
    }
   ],
   "source": [
    "x=['python','c','c++','java']\n",
    "y=[80,70,60,82]\n",
    "plt.xlabel(\"Language\",fontsize=10)\n",
    "plt.ylabel(\"No.\",fontsize=10)\n",
    "plt.title(\"Bar plot language\",fontsize=15)\n",
    "c=[\"m\",'b','c','y']\n",
    "plt.bar(x,y,width=0.2,color=c)\n",
    "plt.show()"
   ]
  },
  {
   "cell_type": "code",
   "execution_count": 7,
   "id": "7535ab2c",
   "metadata": {},
   "outputs": [
    {
     "data": {
      "text/plain": [
       "<BarContainer object of 10 artists>"
      ]
     },
     "execution_count": 7,
     "metadata": {},
     "output_type": "execute_result"
    },
    {
     "data": {
      "image/png": "[encoded data removed]",
      "text/plain": [
       "<Figure size 640x480 with 1 Axes>"
      ]
     },
     "metadata": {},
     "output_type": "display_data"
    }
   ],
   "source": [
    "x=np.random.randn(1,10)\n",
    "x=np.abs(x)\n",
    "# Transpose x to match the length of r\n",
    "x=x.squeeze()\n",
    "r=['r1','r2','r3','r4','r5','r6','r7','r8','r9','r10']\n",
    "c=['b','c','g','k','m','r','w','y','pink','c']\n",
    "plt.bar(r,x,width=0.5,color=c)\n"
   ]
  },
  {
   "cell_type": "code",
   "execution_count": 8,
   "id": "3f27e9bc",
   "metadata": {},
   "outputs": [
    {
     "ename": "NameError",
     "evalue": "name 'df_layoffs' is not defined",
     "output_type": "error",
     "traceback": [
      "\u001b[0;31m---------------------------------------------------------------------------\u001b[0m",
      "\u001b[0;31mNameError\u001b[0m                                 Traceback (most recent call last)",
      "Cell \u001b[0;32mIn[8], line 1\u001b[0m\n\u001b[0;32m----> 1\u001b[0m industry_val \u001b[38;5;241m=\u001b[39m df_layoffs\u001b[38;5;241m.\u001b[39mgroupby(\u001b[38;5;124m'\u001b[39m\u001b[38;5;124mcompany\u001b[39m\u001b[38;5;124m'\u001b[39m)[\u001b[38;5;124m'\u001b[39m\u001b[38;5;124mtotal_laid_off\u001b[39m\u001b[38;5;124m'\u001b[39m]\u001b[38;5;241m.\u001b[39msum()\u001b[38;5;241m.\u001b[39msort_values(ascending \u001b[38;5;241m=\u001b[39m \u001b[38;5;28;01mFalse\u001b[39;00m)\u001b[38;5;241m.\u001b[39mhead(\u001b[38;5;241m10\u001b[39m)\n\u001b[1;32m      2\u001b[0m industry_val\u001b[38;5;241m.\u001b[39mplot(label\u001b[38;5;241m=\u001b[39m\u001b[38;5;124m\"\u001b[39m\u001b[38;5;124m\"\u001b[39m, kind\u001b[38;5;241m=\u001b[39m\u001b[38;5;124m'\u001b[39m\u001b[38;5;124mbar\u001b[39m\u001b[38;5;124m'\u001b[39m)\n\u001b[1;32m      3\u001b[0m plt\u001b[38;5;241m.\u001b[39mshow()\n",
      "\u001b[0;31mNameError\u001b[0m: name 'df_layoffs' is not defined"
     ]
    }
   ],
   "source": [
    "industry_val = df_layoffs.groupby('company')['total_laid_off'].sum().sort_values(ascending = False).head(10)\n",
    "industry_val.plot(label=\"\", kind='bar')\n",
    "plt.show()"
   ]
  },
  {
   "cell_type": "code",
   "execution_count": 55,
   "id": "85b57110",
   "metadata": {},
   "outputs": [
    {
     "data": {
      "text/html": [
       "<div>\n",
       "<style scoped>\n",
       "    .dataframe tbody tr th:only-of-type {\n",
       "        vertical-align: middle;\n",
       "    }\n",
       "\n",
       "    .dataframe tbody tr th {\n",
       "        vertical-align: top;\n",
       "    }\n",
       "\n",
       "    .dataframe thead th {\n",
       "        text-align: right;\n",
       "    }\n",
       "</style>\n",
       "<table border=\"1\" class=\"dataframe\">\n",
       "  <thead>\n",
       "    <tr style=\"text-align: right;\">\n",
       "      <th></th>\n",
       "      <th>date</th>\n",
       "      <th>open</th>\n",
       "      <th>high</th>\n",
       "      <th>low</th>\n",
       "      <th>close</th>\n",
       "    </tr>\n",
       "  </thead>\n",
       "  <tbody>\n",
       "    <tr>\n",
       "      <th>0</th>\n",
       "      <td>09/20/23</td>\n",
       "      <td>34575.50</td>\n",
       "      <td>34776.28</td>\n",
       "      <td>34434.29</td>\n",
       "      <td>34440.88</td>\n",
       "    </tr>\n",
       "    <tr>\n",
       "      <th>1</th>\n",
       "      <td>09/19/23</td>\n",
       "      <td>34571.84</td>\n",
       "      <td>34597.56</td>\n",
       "      <td>34311.69</td>\n",
       "      <td>34517.73</td>\n",
       "    </tr>\n",
       "    <tr>\n",
       "      <th>2</th>\n",
       "      <td>09/18/23</td>\n",
       "      <td>34612.29</td>\n",
       "      <td>34725.06</td>\n",
       "      <td>34545.35</td>\n",
       "      <td>34624.30</td>\n",
       "    </tr>\n",
       "    <tr>\n",
       "      <th>3</th>\n",
       "      <td>09/15/23</td>\n",
       "      <td>34902.04</td>\n",
       "      <td>34902.04</td>\n",
       "      <td>34572.27</td>\n",
       "      <td>34618.24</td>\n",
       "    </tr>\n",
       "    <tr>\n",
       "      <th>4</th>\n",
       "      <td>09/14/23</td>\n",
       "      <td>34687.50</td>\n",
       "      <td>34977.97</td>\n",
       "      <td>34687.50</td>\n",
       "      <td>34907.11</td>\n",
       "    </tr>\n",
       "    <tr>\n",
       "      <th>...</th>\n",
       "      <td>...</td>\n",
       "      <td>...</td>\n",
       "      <td>...</td>\n",
       "      <td>...</td>\n",
       "      <td>...</td>\n",
       "    </tr>\n",
       "    <tr>\n",
       "      <th>57</th>\n",
       "      <td>06/29/23</td>\n",
       "      <td>33854.57</td>\n",
       "      <td>34147.68</td>\n",
       "      <td>33828.63</td>\n",
       "      <td>34122.42</td>\n",
       "    </tr>\n",
       "    <tr>\n",
       "      <th>58</th>\n",
       "      <td>06/28/23</td>\n",
       "      <td>33881.38</td>\n",
       "      <td>33903.76</td>\n",
       "      <td>33755.92</td>\n",
       "      <td>33852.66</td>\n",
       "    </tr>\n",
       "    <tr>\n",
       "      <th>59</th>\n",
       "      <td>06/27/23</td>\n",
       "      <td>33739.03</td>\n",
       "      <td>33975.65</td>\n",
       "      <td>33730.39</td>\n",
       "      <td>33926.74</td>\n",
       "    </tr>\n",
       "    <tr>\n",
       "      <th>60</th>\n",
       "      <td>06/26/23</td>\n",
       "      <td>33730.79</td>\n",
       "      <td>33819.49</td>\n",
       "      <td>33610.32</td>\n",
       "      <td>33714.71</td>\n",
       "    </tr>\n",
       "    <tr>\n",
       "      <th>61</th>\n",
       "      <td>06/23/23</td>\n",
       "      <td>33835.66</td>\n",
       "      <td>33835.66</td>\n",
       "      <td>33646.49</td>\n",
       "      <td>33727.43</td>\n",
       "    </tr>\n",
       "  </tbody>\n",
       "</table>\n",
       "<p>62 rows × 5 columns</p>\n",
       "</div>"
      ],
      "text/plain": [
       "        date      open      high       low     close\n",
       "0   09/20/23  34575.50  34776.28  34434.29  34440.88\n",
       "1   09/19/23  34571.84  34597.56  34311.69  34517.73\n",
       "2   09/18/23  34612.29  34725.06  34545.35  34624.30\n",
       "3   09/15/23  34902.04  34902.04  34572.27  34618.24\n",
       "4   09/14/23  34687.50  34977.97  34687.50  34907.11\n",
       "..       ...       ...       ...       ...       ...\n",
       "57  06/29/23  33854.57  34147.68  33828.63  34122.42\n",
       "58  06/28/23  33881.38  33903.76  33755.92  33852.66\n",
       "59  06/27/23  33739.03  33975.65  33730.39  33926.74\n",
       "60  06/26/23  33730.79  33819.49  33610.32  33714.71\n",
       "61  06/23/23  33835.66  33835.66  33646.49  33727.43\n",
       "\n",
       "[62 rows x 5 columns]"
      ]
     },
     "execution_count": 55,
     "metadata": {},
     "output_type": "execute_result"
    }
   ],
   "source": [
    "# import csv file here\n",
    "Dt=pd.read_csv(\"HistoricalPrices.csv\")\n",
    "df=pd.DataFrame(Dt)\n",
    "df"
   ]
  },
  {
   "cell_type": "code",
   "execution_count": 66,
   "id": "4c0f9975",
   "metadata": {},
   "outputs": [
    {
     "data": {
      "text/html": [
       "<div>\n",
       "<style scoped>\n",
       "    .dataframe tbody tr th:only-of-type {\n",
       "        vertical-align: middle;\n",
       "    }\n",
       "\n",
       "    .dataframe tbody tr th {\n",
       "        vertical-align: top;\n",
       "    }\n",
       "\n",
       "    .dataframe thead th {\n",
       "        text-align: right;\n",
       "    }\n",
       "</style>\n",
       "<table border=\"1\" class=\"dataframe\">\n",
       "  <thead>\n",
       "    <tr style=\"text-align: right;\">\n",
       "      <th></th>\n",
       "      <th>date</th>\n",
       "      <th>open</th>\n",
       "      <th>high</th>\n",
       "      <th>low</th>\n",
       "      <th>close</th>\n",
       "    </tr>\n",
       "  </thead>\n",
       "  <tbody>\n",
       "    <tr>\n",
       "      <th>0</th>\n",
       "      <td>09/20/23</td>\n",
       "      <td>34575.5</td>\n",
       "      <td>34776.28</td>\n",
       "      <td>34434.29</td>\n",
       "      <td>34440.88</td>\n",
       "    </tr>\n",
       "  </tbody>\n",
       "</table>\n",
       "</div>"
      ],
      "text/plain": [
       "       date     open      high       low     close\n",
       "0  09/20/23  34575.5  34776.28  34434.29  34440.88"
      ]
     },
     "execution_count": 66,
     "metadata": {},
     "output_type": "execute_result"
    }
   ],
   "source": [
    "df[0:1]"
   ]
  },
  {
   "cell_type": "code",
   "execution_count": 73,
   "id": "1a73a2aa",
   "metadata": {},
   "outputs": [
    {
     "data": {
      "text/plain": [
       "0     34776.28\n",
       "1     34597.56\n",
       "2     34725.06\n",
       "3     34902.04\n",
       "4     34977.97\n",
       "        ...   \n",
       "57    34147.68\n",
       "58    33903.76\n",
       "59    33975.65\n",
       "60    33819.49\n",
       "61    33835.66\n",
       "Name:  high, Length: 62, dtype: float64"
      ]
     },
     "execution_count": 73,
     "metadata": {},
     "output_type": "execute_result"
    }
   ],
   "source": [
    "high=df.iloc[:,2]\n",
    "low=df.iloc[:,3]\n",
    "high"
   ]
  },
  {
   "cell_type": "code",
   "execution_count": 74,
   "id": "eec56f54",
   "metadata": {},
   "outputs": [
    {
     "data": {
      "text/plain": [
       "0     34434.29\n",
       "1     34311.69\n",
       "2     34545.35\n",
       "3     34572.27\n",
       "4     34687.50\n",
       "        ...   \n",
       "57    33828.63\n",
       "58    33755.92\n",
       "59    33730.39\n",
       "60    33610.32\n",
       "61    33646.49\n",
       "Name:  low, Length: 62, dtype: float64"
      ]
     },
     "execution_count": 74,
     "metadata": {},
     "output_type": "execute_result"
    }
   ],
   "source": [
    "low"
   ]
  },
  {
   "cell_type": "code",
   "execution_count": 80,
   "id": "4c07ba84",
   "metadata": {},
   "outputs": [
    {
     "data": {
      "text/plain": [
       "[<matplotlib.lines.Line2D at 0x7f028cfb0790>]"
      ]
     },
     "execution_count": 80,
     "metadata": {},
     "output_type": "execute_result"
    },
    {
     "data": {
      "image/png": "[encoded data removed]",
      "text/plain": [
       "<Figure size 640x480 with 1 Axes>"
      ]
     },
     "metadata": {},
     "output_type": "display_data"
    }
   ],
   "source": [
    "plt.plot(high)\n",
    "plt.grid()\n",
    "plt.plot(low)"
   ]
  },
  {
   "cell_type": "code",
   "execution_count": 81,
   "id": "5a09f809",
   "metadata": {},
   "outputs": [
    {
     "data": {
      "text/plain": [
       "([<matplotlib.patches.Wedge at 0x7f028d003a10>,\n",
       "  <matplotlib.patches.Wedge at 0x7f028d021990>,\n",
       "  <matplotlib.patches.Wedge at 0x7f028d022610>,\n",
       "  <matplotlib.patches.Wedge at 0x7f028d023590>,\n",
       "  <matplotlib.patches.Wedge at 0x7f028d02c490>,\n",
       "  <matplotlib.patches.Wedge at 0x7f028d02d590>,\n",
       "  <matplotlib.patches.Wedge at 0x7f028d02e650>,\n",
       "  <matplotlib.patches.Wedge at 0x7f028d02f650>,\n",
       "  <matplotlib.patches.Wedge at 0x7f028d02c590>,\n",
       "  <matplotlib.patches.Wedge at 0x7f028d03d410>,\n",
       "  <matplotlib.patches.Wedge at 0x7f028d03e310>,\n",
       "  <matplotlib.patches.Wedge at 0x7f028d03f310>,\n",
       "  <matplotlib.patches.Wedge at 0x7f028ce4c250>,\n",
       "  <matplotlib.patches.Wedge at 0x7f028ce4cf10>,\n",
       "  <matplotlib.patches.Wedge at 0x7f028ce4e090>,\n",
       "  <matplotlib.patches.Wedge at 0x7f028ce4f090>,\n",
       "  <matplotlib.patches.Wedge at 0x7f028ce60050>,\n",
       "  <matplotlib.patches.Wedge at 0x7f028ce61050>,\n",
       "  <matplotlib.patches.Wedge at 0x7f028ce62090>,\n",
       "  <matplotlib.patches.Wedge at 0x7f028ce62ed0>,\n",
       "  <matplotlib.patches.Wedge at 0x7f028ce6c0d0>,\n",
       "  <matplotlib.patches.Wedge at 0x7f028ce6cfd0>,\n",
       "  <matplotlib.patches.Wedge at 0x7f028ce6e010>,\n",
       "  <matplotlib.patches.Wedge at 0x7f028ce6ef90>,\n",
       "  <matplotlib.patches.Wedge at 0x7f028ce6fed0>,\n",
       "  <matplotlib.patches.Wedge at 0x7f028ce7ce10>,\n",
       "  <matplotlib.patches.Wedge at 0x7f028ce7ddd0>,\n",
       "  <matplotlib.patches.Wedge at 0x7f028ce7ee10>,\n",
       "  <matplotlib.patches.Wedge at 0x7f028ce7fd90>,\n",
       "  <matplotlib.patches.Wedge at 0x7f028ce8ca50>,\n",
       "  <matplotlib.patches.Wedge at 0x7f028ce8dc10>,\n",
       "  <matplotlib.patches.Wedge at 0x7f028ce8eb10>,\n",
       "  <matplotlib.patches.Wedge at 0x7f028ce8fb90>,\n",
       "  <matplotlib.patches.Wedge at 0x7f028ce98b10>,\n",
       "  <matplotlib.patches.Wedge at 0x7f028ce990d0>,\n",
       "  <matplotlib.patches.Wedge at 0x7f028ce9a9d0>,\n",
       "  <matplotlib.patches.Wedge at 0x7f028ce9ba50>,\n",
       "  <matplotlib.patches.Wedge at 0x7f028cea4a10>,\n",
       "  <matplotlib.patches.Wedge at 0x7f028cea58d0>,\n",
       "  <matplotlib.patches.Wedge at 0x7f028cea6950>,\n",
       "  <matplotlib.patches.Wedge at 0x7f028cea7910>,\n",
       "  <matplotlib.patches.Wedge at 0x7f028ceb8890>,\n",
       "  <matplotlib.patches.Wedge at 0x7f028ceb9850>,\n",
       "  <matplotlib.patches.Wedge at 0x7f028ceb9590>,\n",
       "  <matplotlib.patches.Wedge at 0x7f028cebac50>,\n",
       "  <matplotlib.patches.Wedge at 0x7f028cebbb50>,\n",
       "  <matplotlib.patches.Wedge at 0x7f028cecca90>,\n",
       "  <matplotlib.patches.Wedge at 0x7f028cecda50>,\n",
       "  <matplotlib.patches.Wedge at 0x7f028cecea10>,\n",
       "  <matplotlib.patches.Wedge at 0x7f028cecfa10>,\n",
       "  <matplotlib.patches.Wedge at 0x7f028cedc890>,\n",
       "  <matplotlib.patches.Wedge at 0x7f028cedd7d0>,\n",
       "  <matplotlib.patches.Wedge at 0x7f028cede7d0>,\n",
       "  <matplotlib.patches.Wedge at 0x7f028cedfa50>,\n",
       "  <matplotlib.patches.Wedge at 0x7f028cee8e10>,\n",
       "  <matplotlib.patches.Wedge at 0x7f028ceea1d0>,\n",
       "  <matplotlib.patches.Wedge at 0x7f028ceeb5d0>,\n",
       "  <matplotlib.patches.Wedge at 0x7f028cef4990>,\n",
       "  <matplotlib.patches.Wedge at 0x7f028cef5c90>,\n",
       "  <matplotlib.patches.Wedge at 0x7f028cef6f90>,\n",
       "  <matplotlib.patches.Wedge at 0x7f028cf00310>,\n",
       "  <matplotlib.patches.Wedge at 0x7f028cf01690>],\n",
       " [Text(34733.10798089062, 1754.2433275324759, ''),\n",
       "  Text(34203.86893768018, 5211.777382966074, ''),\n",
       "  Text(33628.31075075283, 8662.730770167182, ''),\n",
       "  Text(32746.02081196107, 12080.037369239075, ''),\n",
       "  Text(31421.670787541214, 15369.25316937291, ''),\n",
       "  Text(29525.269826156822, 18359.9256070588, ''),\n",
       "  Text(27586.539764278197, 21301.735248519024, ''),\n",
       "  Text(25240.97088181205, 23936.013613964966, ''),\n",
       "  Text(22591.532451631236, 26244.748800272268, ''),\n",
       "  Text(19795.714042797303, 28331.233375506225, ''),\n",
       "  Text(16875.208777193428, 30220.388284311204, ''),\n",
       "  Text(13844.785143783089, 32006.30275886428, ''),\n",
       "  Text(10558.326441088266, 33348.78905810249, ''),\n",
       "  Text(7134.331749623305, 34337.997839163785, ''),\n",
       "  Text(3599.7984013926525, 34841.19778018877, ''),\n",
       "  Text(46.46937360011825, 34865.489032390135, ''),\n",
       "  Text(-3450.8991204505323, 34481.759008794405, ''),\n",
       "  Text(-6845.840589555562, 33755.820305282075, ''),\n",
       "  Text(-10250.821806571403, 33146.912406713236, ''),\n",
       "  Text(-13454.82542347527, 31807.083108895782, ''),\n",
       "  Text(-16568.267900717023, 30278.497122374978, ''),\n",
       "  Text(-19551.7255600251, 28512.40712863544, ''),\n",
       "  Text(-22321.604641188325, 26421.34497317235, ''),\n",
       "  Text(-25080.988909498457, 24253.387142789266, ''),\n",
       "  Text(-27599.97571422916, 21741.335605007353, ''),\n",
       "  Text(-29744.56212196074, 18861.13812031815, ''),\n",
       "  Text(-31625.363337046307, 15764.14157835139, ''),\n",
       "  Text(-33095.54930268357, 12438.253046293963, ''),\n",
       "  Text(-34414.14876388982, 9032.16440058867, ''),\n",
       "  Text(-34954.25920880293, 5420.095914641718, ''),\n",
       "  Text(-35301.49985962971, 1807.4376249717052, ''),\n",
       "  Text(-35451.186909838914, -1831.78300954715, ''),\n",
       "  Text(-35085.33998597547, -5462.193858598446, ''),\n",
       "  Text(-34186.0070965093, -8993.882881571, ''),\n",
       "  Text(-33269.53489133779, -12536.158870820725, ''),\n",
       "  Text(-31907.081060394437, -15969.251424481934, ''),\n",
       "  Text(-29982.552969596753, -19134.594279153782, ''),\n",
       "  Text(-27838.85791388717, -22135.531096915245, ''),\n",
       "  Text(-25461.890138383944, -24947.17515438103, ''),\n",
       "  Text(-22744.796430050985, -27431.857249184566, ''),\n",
       "  Text(-19728.01811629233, -29548.125036491598, ''),\n",
       "  Text(-16541.310366607322, -31371.264581786774, ''),\n",
       "  Text(-13175.6951307808, -32793.91799889607, ''),\n",
       "  Text(-9743.159799411776, -34005.610065105815, ''),\n",
       "  Text(-6181.004455611993, -34688.77310373206, ''),\n",
       "  Text(-2602.3977295289046, -34890.54145909666, ''),\n",
       "  Text(921.8642454314521, -34653.990468277894, ''),\n",
       "  Text(4398.257379944104, -34312.61995402519, ''),\n",
       "  Text(7804.325162200362, -33588.60856975541, ''),\n",
       "  Text(11173.370834380345, -32733.595818959748, ''),\n",
       "  Text(14264.492005668413, -31182.14730292194, ''),\n",
       "  Text(17116.347814569417, -29330.454496687995, ''),\n",
       "  Text(19972.002155770555, -27562.096702542356, ''),\n",
       "  Text(22685.58691205568, -25556.27553568141, ''),\n",
       "  Text(25266.018677686257, -23311.389224216327, ''),\n",
       "  Text(27546.977069775527, -20715.150571677274, ''),\n",
       "  Text(29487.302354337124, -17848.614659586445, ''),\n",
       "  Text(30830.285673368846, -14684.436005065629, ''),\n",
       "  Text(31901.725014940035, -11481.266162351154, ''),\n",
       "  Text(32949.20679825063, -8292.726447231607, ''),\n",
       "  Text(33451.49401411933, -4982.956569290833, ''),\n",
       "  Text(33795.63439087435, -1667.7599995055896, '')])"
      ]
     },
     "execution_count": 81,
     "metadata": {},
     "output_type": "execute_result"
    },
    {
     "ename": "ValueError",
     "evalue": "Image size of 10376037x10312722 pixels is too large. It must be less than 2^16 in each direction.",
     "output_type": "error",
     "traceback": [
      "\u001b[0;31m---------------------------------------------------------------------------\u001b[0m",
      "\u001b[0;31mValueError\u001b[0m                                Traceback (most recent call last)",
      "File \u001b[0;32m~/anaconda3/lib/python3.11/site-packages/IPython/core/formatters.py:340\u001b[0m, in \u001b[0;36mBaseFormatter.__call__\u001b[0;34m(self, obj)\u001b[0m\n\u001b[1;32m    338\u001b[0m     \u001b[38;5;28;01mpass\u001b[39;00m\n\u001b[1;32m    339\u001b[0m \u001b[38;5;28;01melse\u001b[39;00m:\n\u001b[0;32m--> 340\u001b[0m     \u001b[38;5;28;01mreturn\u001b[39;00m printer(obj)\n\u001b[1;32m    341\u001b[0m \u001b[38;5;66;03m# Finally look for special method names\u001b[39;00m\n\u001b[1;32m    342\u001b[0m method \u001b[38;5;241m=\u001b[39m get_real_method(obj, \u001b[38;5;28mself\u001b[39m\u001b[38;5;241m.\u001b[39mprint_method)\n",
      "File \u001b[0;32m~/anaconda3/lib/python3.11/site-packages/IPython/core/pylabtools.py:152\u001b[0m, in \u001b[0;36mprint_figure\u001b[0;34m(fig, fmt, bbox_inches, base64, **kwargs)\u001b[0m\n\u001b[1;32m    149\u001b[0m     \u001b[38;5;28;01mfrom\u001b[39;00m \u001b[38;5;21;01mmatplotlib\u001b[39;00m\u001b[38;5;21;01m.\u001b[39;00m\u001b[38;5;21;01mbackend_bases\u001b[39;00m \u001b[38;5;28;01mimport\u001b[39;00m FigureCanvasBase\n\u001b[1;32m    150\u001b[0m     FigureCanvasBase(fig)\n\u001b[0;32m--> 152\u001b[0m fig\u001b[38;5;241m.\u001b[39mcanvas\u001b[38;5;241m.\u001b[39mprint_figure(bytes_io, \u001b[38;5;241m*\u001b[39m\u001b[38;5;241m*\u001b[39mkw)\n\u001b[1;32m    153\u001b[0m data \u001b[38;5;241m=\u001b[39m bytes_io\u001b[38;5;241m.\u001b[39mgetvalue()\n\u001b[1;32m    154\u001b[0m \u001b[38;5;28;01mif\u001b[39;00m fmt \u001b[38;5;241m==\u001b[39m \u001b[38;5;124m'\u001b[39m\u001b[38;5;124msvg\u001b[39m\u001b[38;5;124m'\u001b[39m:\n",
      "File \u001b[0;32m~/anaconda3/lib/python3.11/site-packages/matplotlib/backend_bases.py:2366\u001b[0m, in \u001b[0;36mFigureCanvasBase.print_figure\u001b[0;34m(self, filename, dpi, facecolor, edgecolor, orientation, format, bbox_inches, pad_inches, bbox_extra_artists, backend, **kwargs)\u001b[0m\n\u001b[1;32m   2362\u001b[0m \u001b[38;5;28;01mtry\u001b[39;00m:\n\u001b[1;32m   2363\u001b[0m     \u001b[38;5;66;03m# _get_renderer may change the figure dpi (as vector formats\u001b[39;00m\n\u001b[1;32m   2364\u001b[0m     \u001b[38;5;66;03m# force the figure dpi to 72), so we need to set it again here.\u001b[39;00m\n\u001b[1;32m   2365\u001b[0m     \u001b[38;5;28;01mwith\u001b[39;00m cbook\u001b[38;5;241m.\u001b[39m_setattr_cm(\u001b[38;5;28mself\u001b[39m\u001b[38;5;241m.\u001b[39mfigure, dpi\u001b[38;5;241m=\u001b[39mdpi):\n\u001b[0;32m-> 2366\u001b[0m         result \u001b[38;5;241m=\u001b[39m print_method(\n\u001b[1;32m   2367\u001b[0m             filename,\n\u001b[1;32m   2368\u001b[0m             facecolor\u001b[38;5;241m=\u001b[39mfacecolor,\n\u001b[1;32m   2369\u001b[0m             edgecolor\u001b[38;5;241m=\u001b[39medgecolor,\n\u001b[1;32m   2370\u001b[0m             orientation\u001b[38;5;241m=\u001b[39morientation,\n\u001b[1;32m   2371\u001b[0m             bbox_inches_restore\u001b[38;5;241m=\u001b[39m_bbox_inches_restore,\n\u001b[1;32m   2372\u001b[0m             \u001b[38;5;241m*\u001b[39m\u001b[38;5;241m*\u001b[39mkwargs)\n\u001b[1;32m   2373\u001b[0m \u001b[38;5;28;01mfinally\u001b[39;00m:\n\u001b[1;32m   2374\u001b[0m     \u001b[38;5;28;01mif\u001b[39;00m bbox_inches \u001b[38;5;129;01mand\u001b[39;00m restore_bbox:\n",
      "File \u001b[0;32m~/anaconda3/lib/python3.11/site-packages/matplotlib/backend_bases.py:2232\u001b[0m, in \u001b[0;36mFigureCanvasBase._switch_canvas_and_return_print_method.<locals>.<lambda>\u001b[0;34m(*args, **kwargs)\u001b[0m\n\u001b[1;32m   2228\u001b[0m     optional_kws \u001b[38;5;241m=\u001b[39m {  \u001b[38;5;66;03m# Passed by print_figure for other renderers.\u001b[39;00m\n\u001b[1;32m   2229\u001b[0m         \u001b[38;5;124m\"\u001b[39m\u001b[38;5;124mdpi\u001b[39m\u001b[38;5;124m\"\u001b[39m, \u001b[38;5;124m\"\u001b[39m\u001b[38;5;124mfacecolor\u001b[39m\u001b[38;5;124m\"\u001b[39m, \u001b[38;5;124m\"\u001b[39m\u001b[38;5;124medgecolor\u001b[39m\u001b[38;5;124m\"\u001b[39m, \u001b[38;5;124m\"\u001b[39m\u001b[38;5;124morientation\u001b[39m\u001b[38;5;124m\"\u001b[39m,\n\u001b[1;32m   2230\u001b[0m         \u001b[38;5;124m\"\u001b[39m\u001b[38;5;124mbbox_inches_restore\u001b[39m\u001b[38;5;124m\"\u001b[39m}\n\u001b[1;32m   2231\u001b[0m     skip \u001b[38;5;241m=\u001b[39m optional_kws \u001b[38;5;241m-\u001b[39m {\u001b[38;5;241m*\u001b[39minspect\u001b[38;5;241m.\u001b[39msignature(meth)\u001b[38;5;241m.\u001b[39mparameters}\n\u001b[0;32m-> 2232\u001b[0m     print_method \u001b[38;5;241m=\u001b[39m functools\u001b[38;5;241m.\u001b[39mwraps(meth)(\u001b[38;5;28;01mlambda\u001b[39;00m \u001b[38;5;241m*\u001b[39margs, \u001b[38;5;241m*\u001b[39m\u001b[38;5;241m*\u001b[39mkwargs: meth(\n\u001b[1;32m   2233\u001b[0m         \u001b[38;5;241m*\u001b[39margs, \u001b[38;5;241m*\u001b[39m\u001b[38;5;241m*\u001b[39m{k: v \u001b[38;5;28;01mfor\u001b[39;00m k, v \u001b[38;5;129;01min\u001b[39;00m kwargs\u001b[38;5;241m.\u001b[39mitems() \u001b[38;5;28;01mif\u001b[39;00m k \u001b[38;5;129;01mnot\u001b[39;00m \u001b[38;5;129;01min\u001b[39;00m skip}))\n\u001b[1;32m   2234\u001b[0m \u001b[38;5;28;01melse\u001b[39;00m:  \u001b[38;5;66;03m# Let third-parties do as they see fit.\u001b[39;00m\n\u001b[1;32m   2235\u001b[0m     print_method \u001b[38;5;241m=\u001b[39m meth\n",
      "File \u001b[0;32m~/anaconda3/lib/python3.11/site-packages/matplotlib/backends/backend_agg.py:509\u001b[0m, in \u001b[0;36mFigureCanvasAgg.print_png\u001b[0;34m(self, filename_or_obj, metadata, pil_kwargs)\u001b[0m\n\u001b[1;32m    462\u001b[0m \u001b[38;5;28;01mdef\u001b[39;00m \u001b[38;5;21mprint_png\u001b[39m(\u001b[38;5;28mself\u001b[39m, filename_or_obj, \u001b[38;5;241m*\u001b[39m, metadata\u001b[38;5;241m=\u001b[39m\u001b[38;5;28;01mNone\u001b[39;00m, pil_kwargs\u001b[38;5;241m=\u001b[39m\u001b[38;5;28;01mNone\u001b[39;00m):\n\u001b[1;32m    463\u001b[0m \u001b[38;5;250m    \u001b[39m\u001b[38;5;124;03m\"\"\"\u001b[39;00m\n\u001b[1;32m    464\u001b[0m \u001b[38;5;124;03m    Write the figure to a PNG file.\u001b[39;00m\n\u001b[1;32m    465\u001b[0m \n\u001b[0;32m   (...)\u001b[0m\n\u001b[1;32m    507\u001b[0m \u001b[38;5;124;03m        *metadata*, including the default 'Software' key.\u001b[39;00m\n\u001b[1;32m    508\u001b[0m \u001b[38;5;124;03m    \"\"\"\u001b[39;00m\n\u001b[0;32m--> 509\u001b[0m     \u001b[38;5;28mself\u001b[39m\u001b[38;5;241m.\u001b[39m_print_pil(filename_or_obj, \u001b[38;5;124m\"\u001b[39m\u001b[38;5;124mpng\u001b[39m\u001b[38;5;124m\"\u001b[39m, pil_kwargs, metadata)\n",
      "File \u001b[0;32m~/anaconda3/lib/python3.11/site-packages/matplotlib/backends/backend_agg.py:457\u001b[0m, in \u001b[0;36mFigureCanvasAgg._print_pil\u001b[0;34m(self, filename_or_obj, fmt, pil_kwargs, metadata)\u001b[0m\n\u001b[1;32m    452\u001b[0m \u001b[38;5;28;01mdef\u001b[39;00m \u001b[38;5;21m_print_pil\u001b[39m(\u001b[38;5;28mself\u001b[39m, filename_or_obj, fmt, pil_kwargs, metadata\u001b[38;5;241m=\u001b[39m\u001b[38;5;28;01mNone\u001b[39;00m):\n\u001b[1;32m    453\u001b[0m \u001b[38;5;250m    \u001b[39m\u001b[38;5;124;03m\"\"\"\u001b[39;00m\n\u001b[1;32m    454\u001b[0m \u001b[38;5;124;03m    Draw the canvas, then save it using `.image.imsave` (to which\u001b[39;00m\n\u001b[1;32m    455\u001b[0m \u001b[38;5;124;03m    *pil_kwargs* and *metadata* are forwarded).\u001b[39;00m\n\u001b[1;32m    456\u001b[0m \u001b[38;5;124;03m    \"\"\"\u001b[39;00m\n\u001b[0;32m--> 457\u001b[0m     FigureCanvasAgg\u001b[38;5;241m.\u001b[39mdraw(\u001b[38;5;28mself\u001b[39m)\n\u001b[1;32m    458\u001b[0m     mpl\u001b[38;5;241m.\u001b[39mimage\u001b[38;5;241m.\u001b[39mimsave(\n\u001b[1;32m    459\u001b[0m         filename_or_obj, \u001b[38;5;28mself\u001b[39m\u001b[38;5;241m.\u001b[39mbuffer_rgba(), \u001b[38;5;28mformat\u001b[39m\u001b[38;5;241m=\u001b[39mfmt, origin\u001b[38;5;241m=\u001b[39m\u001b[38;5;124m\"\u001b[39m\u001b[38;5;124mupper\u001b[39m\u001b[38;5;124m\"\u001b[39m,\n\u001b[1;32m    460\u001b[0m         dpi\u001b[38;5;241m=\u001b[39m\u001b[38;5;28mself\u001b[39m\u001b[38;5;241m.\u001b[39mfigure\u001b[38;5;241m.\u001b[39mdpi, metadata\u001b[38;5;241m=\u001b[39mmetadata, pil_kwargs\u001b[38;5;241m=\u001b[39mpil_kwargs)\n",
      "File \u001b[0;32m~/anaconda3/lib/python3.11/site-packages/matplotlib/backends/backend_agg.py:394\u001b[0m, in \u001b[0;36mFigureCanvasAgg.draw\u001b[0;34m(self)\u001b[0m\n\u001b[1;32m    392\u001b[0m \u001b[38;5;28;01mdef\u001b[39;00m \u001b[38;5;21mdraw\u001b[39m(\u001b[38;5;28mself\u001b[39m):\n\u001b[1;32m    393\u001b[0m     \u001b[38;5;66;03m# docstring inherited\u001b[39;00m\n\u001b[0;32m--> 394\u001b[0m     \u001b[38;5;28mself\u001b[39m\u001b[38;5;241m.\u001b[39mrenderer \u001b[38;5;241m=\u001b[39m \u001b[38;5;28mself\u001b[39m\u001b[38;5;241m.\u001b[39mget_renderer()\n\u001b[1;32m    395\u001b[0m     \u001b[38;5;28mself\u001b[39m\u001b[38;5;241m.\u001b[39mrenderer\u001b[38;5;241m.\u001b[39mclear()\n\u001b[1;32m    396\u001b[0m     \u001b[38;5;66;03m# Acquire a lock on the shared font cache.\u001b[39;00m\n",
      "File \u001b[0;32m~/anaconda3/lib/python3.11/site-packages/matplotlib/_api/deprecation.py:384\u001b[0m, in \u001b[0;36mdelete_parameter.<locals>.wrapper\u001b[0;34m(*inner_args, **inner_kwargs)\u001b[0m\n\u001b[1;32m    379\u001b[0m \u001b[38;5;129m@functools\u001b[39m\u001b[38;5;241m.\u001b[39mwraps(func)\n\u001b[1;32m    380\u001b[0m \u001b[38;5;28;01mdef\u001b[39;00m \u001b[38;5;21mwrapper\u001b[39m(\u001b[38;5;241m*\u001b[39minner_args, \u001b[38;5;241m*\u001b[39m\u001b[38;5;241m*\u001b[39minner_kwargs):\n\u001b[1;32m    381\u001b[0m     \u001b[38;5;28;01mif\u001b[39;00m \u001b[38;5;28mlen\u001b[39m(inner_args) \u001b[38;5;241m<\u001b[39m\u001b[38;5;241m=\u001b[39m name_idx \u001b[38;5;129;01mand\u001b[39;00m name \u001b[38;5;129;01mnot\u001b[39;00m \u001b[38;5;129;01min\u001b[39;00m inner_kwargs:\n\u001b[1;32m    382\u001b[0m         \u001b[38;5;66;03m# Early return in the simple, non-deprecated case (much faster than\u001b[39;00m\n\u001b[1;32m    383\u001b[0m         \u001b[38;5;66;03m# calling bind()).\u001b[39;00m\n\u001b[0;32m--> 384\u001b[0m         \u001b[38;5;28;01mreturn\u001b[39;00m func(\u001b[38;5;241m*\u001b[39minner_args, \u001b[38;5;241m*\u001b[39m\u001b[38;5;241m*\u001b[39minner_kwargs)\n\u001b[1;32m    385\u001b[0m     arguments \u001b[38;5;241m=\u001b[39m signature\u001b[38;5;241m.\u001b[39mbind(\u001b[38;5;241m*\u001b[39minner_args, \u001b[38;5;241m*\u001b[39m\u001b[38;5;241m*\u001b[39minner_kwargs)\u001b[38;5;241m.\u001b[39marguments\n\u001b[1;32m    386\u001b[0m     \u001b[38;5;28;01mif\u001b[39;00m is_varargs \u001b[38;5;129;01mand\u001b[39;00m arguments\u001b[38;5;241m.\u001b[39mget(name):\n",
      "File \u001b[0;32m~/anaconda3/lib/python3.11/site-packages/matplotlib/backends/backend_agg.py:411\u001b[0m, in \u001b[0;36mFigureCanvasAgg.get_renderer\u001b[0;34m(self, cleared)\u001b[0m\n\u001b[1;32m    409\u001b[0m reuse_renderer \u001b[38;5;241m=\u001b[39m (\u001b[38;5;28mself\u001b[39m\u001b[38;5;241m.\u001b[39m_lastKey \u001b[38;5;241m==\u001b[39m key)\n\u001b[1;32m    410\u001b[0m \u001b[38;5;28;01mif\u001b[39;00m \u001b[38;5;129;01mnot\u001b[39;00m reuse_renderer:\n\u001b[0;32m--> 411\u001b[0m     \u001b[38;5;28mself\u001b[39m\u001b[38;5;241m.\u001b[39mrenderer \u001b[38;5;241m=\u001b[39m RendererAgg(w, h, \u001b[38;5;28mself\u001b[39m\u001b[38;5;241m.\u001b[39mfigure\u001b[38;5;241m.\u001b[39mdpi)\n\u001b[1;32m    412\u001b[0m     \u001b[38;5;28mself\u001b[39m\u001b[38;5;241m.\u001b[39m_lastKey \u001b[38;5;241m=\u001b[39m key\n\u001b[1;32m    413\u001b[0m \u001b[38;5;28;01melif\u001b[39;00m cleared:\n",
      "File \u001b[0;32m~/anaconda3/lib/python3.11/site-packages/matplotlib/backends/backend_agg.py:84\u001b[0m, in \u001b[0;36mRendererAgg.__init__\u001b[0;34m(self, width, height, dpi)\u001b[0m\n\u001b[1;32m     82\u001b[0m \u001b[38;5;28mself\u001b[39m\u001b[38;5;241m.\u001b[39mwidth \u001b[38;5;241m=\u001b[39m width\n\u001b[1;32m     83\u001b[0m \u001b[38;5;28mself\u001b[39m\u001b[38;5;241m.\u001b[39mheight \u001b[38;5;241m=\u001b[39m height\n\u001b[0;32m---> 84\u001b[0m \u001b[38;5;28mself\u001b[39m\u001b[38;5;241m.\u001b[39m_renderer \u001b[38;5;241m=\u001b[39m _RendererAgg(\u001b[38;5;28mint\u001b[39m(width), \u001b[38;5;28mint\u001b[39m(height), dpi)\n\u001b[1;32m     85\u001b[0m \u001b[38;5;28mself\u001b[39m\u001b[38;5;241m.\u001b[39m_filter_renderers \u001b[38;5;241m=\u001b[39m []\n\u001b[1;32m     87\u001b[0m \u001b[38;5;28mself\u001b[39m\u001b[38;5;241m.\u001b[39m_update_methods()\n",
      "\u001b[0;31mValueError\u001b[0m: Image size of 10376037x10312722 pixels is too large. It must be less than 2^16 in each direction."
     ]
    },
    {
     "data": {
      "text/plain": [
       "<Figure size 640x480 with 1 Axes>"
      ]
     },
     "metadata": {},
     "output_type": "display_data"
    }
   ],
   "source": [
    "plt.pie(low,high)"
   ]
  },
  {
   "cell_type": "code",
   "execution_count": null,
   "id": "399732dd",
   "metadata": {},
   "outputs": [],
   "source": []
  }
 ],
 "metadata": {
  "kernelspec": {
   "display_name": "Python 3 (ipykernel)",
   "language": "python",
   "name": "python3"
  },
  "language_info": {
   "codemirror_mode": {
    "name": "ipython",
    "version": 3
   },
   "file_extension": ".py",
   "mimetype": "text/x-python",
   "name": "python",
   "nbconvert_exporter": "python",
   "pygments_lexer": "ipython3",
   "version": "3.11.4"
  }
 },
 "nbformat": 4,
 "nbformat_minor": 5
}
