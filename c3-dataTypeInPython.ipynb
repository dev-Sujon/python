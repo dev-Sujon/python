{
 "cells": [
  {
   "cell_type": "code",
   "execution_count": 1,
   "id": "aa44a665",
   "metadata": {
    "scrolled": true
   },
   "outputs": [
    {
     "name": "stdout",
     "output_type": "stream",
     "text": [
      "True\n"
     ]
    }
   ],
   "source": [
    "member = [4,56,4,6,9]\n",
    "print(56 in member)"
   ]
  },
  {
   "cell_type": "code",
   "execution_count": 2,
   "id": "58e6a339",
   "metadata": {},
   "outputs": [
    {
     "name": "stdout",
     "output_type": "stream",
     "text": [
      "False\n"
     ]
    }
   ],
   "source": [
    "print(4 not in member)"
   ]
  },
  {
   "cell_type": "code",
   "execution_count": 3,
   "id": "183db971",
   "metadata": {},
   "outputs": [
    {
     "data": {
      "text/plain": [
       "int"
      ]
     },
     "execution_count": 3,
     "metadata": {},
     "output_type": "execute_result"
    }
   ],
   "source": [
    "a = 1\n",
    "type(a)"
   ]
  },
  {
   "cell_type": "code",
   "execution_count": 4,
   "id": "28642762",
   "metadata": {},
   "outputs": [
    {
     "data": {
      "text/plain": [
       "str"
      ]
     },
     "execution_count": 4,
     "metadata": {},
     "output_type": "execute_result"
    }
   ],
   "source": [
    "strr = \"this is a sentence\"\n",
    "type(strr)"
   ]
  },
  {
   "cell_type": "code",
   "execution_count": 5,
   "id": "2cafaba8",
   "metadata": {},
   "outputs": [
    {
     "data": {
      "text/plain": [
       "str"
      ]
     },
     "execution_count": 5,
     "metadata": {},
     "output_type": "execute_result"
    }
   ],
   "source": [
    "name = 'a'\n",
    "type(name)"
   ]
  },
  {
   "cell_type": "code",
   "execution_count": 6,
   "id": "2089d172",
   "metadata": {},
   "outputs": [
    {
     "data": {
      "text/plain": [
       "float"
      ]
     },
     "execution_count": 6,
     "metadata": {},
     "output_type": "execute_result"
    }
   ],
   "source": [
    "country = 1.1\n",
    "type(country)"
   ]
  },
  {
   "cell_type": "code",
   "execution_count": 7,
   "id": "0fdd6ff7",
   "metadata": {},
   "outputs": [
    {
     "data": {
      "text/plain": [
       "bool"
      ]
     },
     "execution_count": 7,
     "metadata": {},
     "output_type": "execute_result"
    }
   ],
   "source": [
    "yes = True\n",
    "type(yes)"
   ]
  },
  {
   "cell_type": "code",
   "execution_count": 5,
   "id": "1de251ea",
   "metadata": {
    "scrolled": true
   },
   "outputs": [
    {
     "name": "stdout",
     "output_type": "stream",
     "text": [
      "2.365\n",
      "<class 'float'>\n",
      "2\n",
      "<class 'int'>\n"
     ]
    }
   ],
   "source": [
    "flt = 2.365\n",
    "\n",
    "print(flt)\n",
    "print(type(flt))\n",
    "#change float to int\n",
    "n = int(flt)\n",
    "n\n",
    "print(n)\n",
    "print(type(n))"
   ]
  },
  {
   "cell_type": "code",
   "execution_count": 9,
   "id": "0f31ee3b",
   "metadata": {},
   "outputs": [
    {
     "data": {
      "text/plain": [
       "list"
      ]
     },
     "execution_count": 9,
     "metadata": {},
     "output_type": "execute_result"
    }
   ],
   "source": [
    "lst = []\n",
    "type(lst)"
   ]
  },
  {
   "cell_type": "code",
   "execution_count": 10,
   "id": "18ec2c05",
   "metadata": {},
   "outputs": [
    {
     "data": {
      "text/plain": [
       "NoneType"
      ]
     },
     "execution_count": 10,
     "metadata": {},
     "output_type": "execute_result"
    }
   ],
   "source": [
    "name = None\n",
    "type(name)"
   ]
  },
  {
   "cell_type": "code",
   "execution_count": 14,
   "id": "29a15138",
   "metadata": {},
   "outputs": [
    {
     "name": "stdout",
     "output_type": "stream",
     "text": [
      "This is work\n"
     ]
    }
   ],
   "source": [
    "string_var = '''This is work'''\n",
    "type(string_var)\n",
    "print(string_var)"
   ]
  },
  {
   "cell_type": "code",
   "execution_count": 15,
   "id": "23d5a963",
   "metadata": {},
   "outputs": [
    {
     "data": {
      "text/plain": [
       "101.0"
      ]
     },
     "execution_count": 15,
     "metadata": {},
     "output_type": "execute_result"
    }
   ],
   "source": [
    "#int to float convirt\n",
    "num = 101\n",
    "float(num)"
   ]
  },
  {
   "cell_type": "code",
   "execution_count": 16,
   "id": "518dce72",
   "metadata": {},
   "outputs": [
    {
     "data": {
      "text/plain": [
       "9"
      ]
     },
     "execution_count": 16,
     "metadata": {},
     "output_type": "execute_result"
    }
   ],
   "source": [
    "#float to int\n",
    "nos = 9.4\n",
    "int(nos)"
   ]
  },
  {
   "cell_type": "code",
   "execution_count": 1,
   "id": "20f0d644",
   "metadata": {
    "scrolled": false
   },
   "outputs": [
    {
     "data": {
      "text/plain": [
       "'9999'"
      ]
     },
     "execution_count": 1,
     "metadata": {},
     "output_type": "execute_result"
    }
   ],
   "source": [
    "n = 9999\n",
    "str(n)"
   ]
  },
  {
   "cell_type": "code",
   "execution_count": null,
   "id": "cc70d6ff",
   "metadata": {},
   "outputs": [],
   "source": []
  }
 ],
 "metadata": {
  "kernelspec": {
   "display_name": "Python 3 (ipykernel)",
   "language": "python",
   "name": "python3"
  },
  "language_info": {
   "codemirror_mode": {
    "name": "ipython",
    "version": 3
   },
   "file_extension": ".py",
   "mimetype": "text/x-python",
   "name": "python",
   "nbconvert_exporter": "python",
   "pygments_lexer": "ipython3",
   "version": "3.10.9"
  }
 },
 "nbformat": 4,
 "nbformat_minor": 5
}
