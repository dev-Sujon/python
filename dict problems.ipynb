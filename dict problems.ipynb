{
 "cells": [
  {
   "cell_type": "markdown",
   "id": "39d6b917",
   "metadata": {},
   "source": [
    "1.​ Write a Python script to sort (ascending and descending) a dictionary by value."
   ]
  },
  {
   "cell_type": "code",
   "execution_count": 1,
   "id": "ae00315e",
   "metadata": {},
   "outputs": [
    {
     "name": "stdout",
     "output_type": "stream",
     "text": [
      "Original dictionary :  {1: 2, 3: 4, 4: 3, 2: 1, 0: 0}\n",
      "Dictionary in ascending order by value :  [(0, 0), (2, 1), (1, 2), (4, 3), (3, 4)]\n",
      "Dictionary in descending order by value :  {3: 4, 4: 3, 1: 2, 2: 1, 0: 0}\n"
     ]
    }
   ],
   "source": [
    "import operator\n",
    "d = {1: 2, 3: 4, 4: 3, 2: 1, 0: 0}\n",
    "print('Original dictionary : ',d)\n",
    "sorted_d = sorted(d.items(), key=operator.itemgetter(1))\n",
    "print('Dictionary in ascending order by value : ',sorted_d)\n",
    "sorted_d = dict( sorted(d.items(), key=operator.itemgetter(1),reverse=True))\n",
    "print('Dictionary in descending order by value : ',sorted_d)\n"
   ]
  },
  {
   "cell_type": "code",
   "execution_count": null,
   "id": "b47e4b64",
   "metadata": {},
   "outputs": [],
   "source": [
    "def sort_dictionary_by_value(dictionary, order='ascending'):\n",
    "    if order == 'ascending':\n",
    "        sorted_dict = dict(sorted(dictionary.items(), key=lambda item: item[1]))\n",
    "    elif order == 'descending':\n",
    "        sorted_dict = dict(sorted(dictionary.items(), key=lambda item: item[1], reverse=True))\n",
    "    else:\n",
    "        raise ValueError(\"Invalid sorting order. Use 'ascending' or 'descending'.\")\n",
    "\n",
    "    return sorted_dict\n",
    "\n",
    "# Example dictionary\n",
    "unsorted_dict = {'apple': 5, 'banana': 3, 'cherry': 9, 'date': 1, 'grape': 7}\n",
    "\n",
    "# Sort in ascending order\n",
    "ascending_sorted_dict = sort_dictionary_by_value(unsorted_dict, order='ascending')\n",
    "print(\"Ascending Sorted Dictionary:\", ascending_sorted_dict)\n",
    "\n",
    "# Sort in descending order\n",
    "descending_sorted_dict = sort_dictionary_by_value(unsorted_dict, order='descending')\n",
    "print(\"Descending Sorted Dictionary:\", descending_sorted_dict)\n"
   ]
  },
  {
   "cell_type": "code",
   "execution_count": 4,
   "id": "c85390da",
   "metadata": {},
   "outputs": [
    {
     "ename": "NameError",
     "evalue": "name 'key' is not defined",
     "output_type": "error",
     "traceback": [
      "\u001b[0;31m---------------------------------------------------------------------------\u001b[0m",
      "\u001b[0;31mNameError\u001b[0m                                 Traceback (most recent call last)",
      "Cell \u001b[0;32mIn[4], line 3\u001b[0m\n\u001b[1;32m      1\u001b[0m d \u001b[38;5;241m=\u001b[39m {\u001b[38;5;241m1\u001b[39m: \u001b[38;5;241m2\u001b[39m, \u001b[38;5;241m3\u001b[39m: \u001b[38;5;241m4\u001b[39m, \u001b[38;5;241m4\u001b[39m: \u001b[38;5;241m3\u001b[39m, \u001b[38;5;241m2\u001b[39m: \u001b[38;5;241m1\u001b[39m, \u001b[38;5;241m0\u001b[39m: \u001b[38;5;241m0\u001b[39m}\n\u001b[1;32m      2\u001b[0m d\u001b[38;5;241m.\u001b[39mitems()\n\u001b[0;32m----> 3\u001b[0m key \u001b[38;5;241m=\u001b[39m\u001b[43mkey\u001b[49m()\n\u001b[1;32m      4\u001b[0m key()\n",
      "\u001b[0;31mNameError\u001b[0m: name 'key' is not defined"
     ]
    }
   ],
   "source": [
    "d = {1: 2, 3: 4, 4: 3, 2: 1, 0: 0}\n",
    "d.items()\n",
    "key =key()\n",
    "key()"
   ]
  },
  {
   "cell_type": "markdown",
   "id": "25c5acd2",
   "metadata": {},
   "source": [
    "2. ​Write a Python script to add a key to a dictionary. ​Go to the editor\n",
    "Sample Dictionary : {0: 10, 1: 20}\n",
    "Expected Result : {0: 10, 1: 20, 2: 30}"
   ]
  },
  {
   "cell_type": "code",
   "execution_count": 16,
   "id": "d7cab78f",
   "metadata": {},
   "outputs": [
    {
     "name": "stdout",
     "output_type": "stream",
     "text": [
      "       Dictionary : {0: 10, 1: 20}\n",
      "Update Dictionary : {0: 10, 1: 20, 2: 30}\n"
     ]
    }
   ],
   "source": [
    "d = {0: 10, 1: 20}\n",
    "print(\"       Dictionary :\",d)\n",
    "d.update({2:30})\n",
    "print(\"Update Dictionary :\",d)"
   ]
  },
  {
   "cell_type": "markdown",
   "id": "ae886972",
   "metadata": {},
   "source": [
    "3.​ Write a Python script to concatenate following dictionaries to create a new\n",
    "one. ​Go to the editor\n",
    "Sample Dictionary :\n",
    "dic1={1:10, 2:20}\n",
    "dic2={3:30, 4:40}\n",
    "dic3={5:50,6:60}"
   ]
  },
  {
   "cell_type": "code",
   "execution_count": 26,
   "id": "c200c48a",
   "metadata": {},
   "outputs": [
    {
     "name": "stdout",
     "output_type": "stream",
     "text": [
      "{1: 10, 2: 20, 3: 30, 4: 40, 5: 50, 6: 60}\n"
     ]
    }
   ],
   "source": [
    "dic1={1:10, 2:20}\n",
    "dic2={3:30, 4:40}\n",
    "dic3={5:50,6:60}\n",
    "concate={**dic1,**dic2,**dic3}\n",
    "print(concate)"
   ]
  },
  {
   "cell_type": "code",
   "execution_count": 27,
   "id": "36a083b4",
   "metadata": {},
   "outputs": [],
   "source": [
    "dict1 = {'a': 1, 'b': 2}\n",
    "dict2 = {'c': 3, 'd': 4}\n",
    "dict3 = {'e': 5, 'f': 6}\n",
    "\n"
   ]
  },
  {
   "cell_type": "markdown",
   "id": "db39f242",
   "metadata": {},
   "source": [
    "4.​ Write a Python script to check whether a given key already exists in a\n",
    "dictionary."
   ]
  },
  {
   "cell_type": "code",
   "execution_count": 14,
   "id": "481bda8e",
   "metadata": {},
   "outputs": [
    {
     "name": "stdout",
     "output_type": "stream",
     "text": [
      "{1: 10, 2: 20, 3: 30, 4: 40, 5: 50, 6: 60}\n",
      "5  is present in dictionary.\n"
     ]
    }
   ],
   "source": [
    "def check_present(x):\n",
    "    d = {1: 10, 2: 20, 3: 30, 4: 40, 5: 50, 6: 60}\n",
    "    print(d)\n",
    "    if x in d:\n",
    "        print(x,\" is present in dictionary.\")\n",
    "       \n",
    "    else:\n",
    "        print(x,\"is not present in dictionary\")\n",
    "n = 5\n",
    "check_present(n)\n",
    "    "
   ]
  },
  {
   "cell_type": "code",
   "execution_count": 30,
   "id": "35273237",
   "metadata": {},
   "outputs": [
    {
     "name": "stdout",
     "output_type": "stream",
     "text": [
      "1 : 10\n",
      "2 : 20\n",
      "3 : 30\n",
      "4 : 40\n",
      "5 : 50\n",
      "6 : 60\n"
     ]
    }
   ],
   "source": [
    "dd = {1: 10, 2: 20, 3: 30, 4: 40, 5: 50, 6: 60}\n",
    "for key in dd:\n",
    "    print(key,\":\",dd[key])\n",
    "    \n"
   ]
  },
  {
   "cell_type": "code",
   "execution_count": 32,
   "id": "68128ebb",
   "metadata": {},
   "outputs": [
    {
     "name": "stdout",
     "output_type": "stream",
     "text": [
      "1 10\n",
      "2 20\n",
      "3 30\n",
      "4 40\n",
      "5 50\n",
      "6 60\n"
     ]
    }
   ],
   "source": [
    "dd\n",
    "for key,value in dd.items():\n",
    "    print(key,value)"
   ]
  },
  {
   "cell_type": "markdown",
   "id": "bf5704a7",
   "metadata": {},
   "source": [
    "6.​ Write a Python script to generate and print a dictionary that contains a number\n",
    "(between 1 and n) in the form (x, x*x). ​Go to the editor\n",
    "Sample Dictionary ( n = 5) :\n",
    "Expected Output : {1: 1, 2: 4, 3: 9, 4: 16, 5: 25}"
   ]
  },
  {
   "cell_type": "code",
   "execution_count": 47,
   "id": "4b2400d1",
   "metadata": {},
   "outputs": [
    {
     "name": "stdout",
     "output_type": "stream",
     "text": [
      "5\n",
      "{1: 1, 2: 4, 3: 9, 4: 16, 5: 25}\n"
     ]
    }
   ],
   "source": [
    "n = int(input())\n",
    "d=dict()\n",
    "for x in range(1,n+1):\n",
    "    d[x]=x**2\n",
    "print(d)    "
   ]
  },
  {
   "cell_type": "markdown",
   "id": "20d379a3",
   "metadata": {},
   "source": [
    "7.​ Write a Python script to print a dictionary where the keys are numbers\n",
    "between 1 and 15 (both included) and the values are square of keys. ​Go to the\n",
    "editor\n",
    "Sample Dictionary\n",
    "{1: 1, 2: 4, 3: 9, 4: 16, 5: 25, 6: 36, 7: 49, 8: 64, 9: 81, 10: 100, 11: 121, 12: 144,\n",
    "13: 169, 14: 196, 15: 225}"
   ]
  },
  {
   "cell_type": "code",
   "execution_count": 51,
   "id": "5665eae7",
   "metadata": {},
   "outputs": [
    {
     "name": "stdout",
     "output_type": "stream",
     "text": [
      "{1: 1, 2: 4, 3: 9, 4: 16, 5: 25, 6: 36, 7: 49, 8: 64, 9: 81, 10: 100, 11: 121, 12: 144, 13: 169, 14: 196, 15: 225}\n"
     ]
    }
   ],
   "source": [
    "ans=dict()\n",
    "for z in range(1,16):\n",
    "    ans[z]=z**2\n",
    "print(ans)    "
   ]
  },
  {
   "cell_type": "markdown",
   "id": "1207a8c2",
   "metadata": {},
   "source": [
    "8.​ Write a Python script to merge two Python dictionaries"
   ]
  },
  {
   "cell_type": "code",
   "execution_count": 55,
   "id": "13cf36cf",
   "metadata": {},
   "outputs": [
    {
     "name": "stdout",
     "output_type": "stream",
     "text": [
      "[1, 2, 3, 4, 5, 6, 7, 8, 9, 10, 11]\n"
     ]
    }
   ],
   "source": [
    "one={6: 36, 7: 49, 8: 64, 9: 81, 10: 100, 11:121}\n",
    "two={1: 1, 2: 4, 3: 9, 4: 16, 5: 25}\n",
    "merge={**one,**two}\n",
    "merge=sorted(tuple(merge))\n",
    "print(merge)"
   ]
  },
  {
   "cell_type": "markdown",
   "id": "5d926ab4",
   "metadata": {},
   "source": [
    "14.​ Write a Python program to sort a dictionary by key."
   ]
  },
  {
   "cell_type": "code",
   "execution_count": 43,
   "id": "17cfeadb",
   "metadata": {},
   "outputs": [
    {
     "name": "stdout",
     "output_type": "stream",
     "text": [
      "{6: 36, 7: 49, 8: 64, 9: 81, 10: 100, 11: 121}\n"
     ]
    }
   ],
   "source": [
    "xxx={6: 36, 7: 49, 8: 64, 9: 81, 10: 100, 11:121}\n",
    "item = xxx.items()\n",
    "sorted_xxx=dict(sorted(item))\n",
    "print(sorted_xxx)\n"
   ]
  },
  {
   "cell_type": "markdown",
   "id": "c6ec3d8c",
   "metadata": {},
   "source": [
    "15.​ Write a Python program to get the maximum and minimum value in a\n",
    "dictionary."
   ]
  },
  {
   "cell_type": "code",
   "execution_count": 56,
   "id": "25ee2c47",
   "metadata": {},
   "outputs": [
    {
     "name": "stdout",
     "output_type": "stream",
     "text": [
      "dict : {1: 2, 3: 4, 4: 3, 2: 1, 0: 0}\n",
      "maximum value : 4\n",
      "Minimum value : 4\n"
     ]
    }
   ],
   "source": [
    "proxy={1: 2, 3: 4, 4: 3, 2: 1, 0: 0}\n",
    "maxim=max(proxy.values())\n",
    "minim=max(proxy.values())\n",
    "print(\"dict :\",proxy)\n",
    "print(\"maximum value :\",maxim)\n",
    "print(\"Minimum value :\",minim)"
   ]
  },
  {
   "cell_type": "markdown",
   "id": "4c228b5d",
   "metadata": {},
   "source": [
    "16.​ Write a Python program to get a dictionary from an object's fields"
   ]
  },
  {
   "cell_type": "code",
   "execution_count": 77,
   "id": "0cb298b2",
   "metadata": {},
   "outputs": [
    {
     "name": "stdout",
     "output_type": "stream",
     "text": [
      "{'k': 10, 'k2': 20, 'k3': 30}\n"
     ]
    }
   ],
   "source": [
    "class Obj(object):\n",
    "\n",
    "    def __init__(self):\n",
    "        self.k =10\n",
    "        self.k2=20\n",
    "        self.k3=30\n",
    "    def doNothing(self):\n",
    "        pass\n",
    "test=Obj()\n",
    "print(test.__dict__)"
   ]
  },
  {
   "cell_type": "code",
   "execution_count": 75,
   "id": "e6e7fcd3",
   "metadata": {},
   "outputs": [
    {
     "name": "stdout",
     "output_type": "stream",
     "text": [
      "{'x': 'red', 'y': 'Yellow', 'z': 'Green'}\n"
     ]
    }
   ],
   "source": [
    "class dictObj(object):\n",
    "     def __init__(self):\n",
    "         self.x = 'red'\n",
    "         self.y = 'Yellow'\n",
    "         self.z = 'Green'\n",
    "     def do_nothing(self):\n",
    "         pass\n",
    "test = dictObj()\n",
    "print(test.__dict__)\n"
   ]
  },
  {
   "cell_type": "markdown",
   "id": "a1948d87",
   "metadata": {},
   "source": [
    "17.​ Write a Python program to remove duplicates from Dictionary."
   ]
  },
  {
   "cell_type": "code",
   "execution_count": 86,
   "id": "a3f5c708",
   "metadata": {},
   "outputs": [
    {
     "data": {
      "text/plain": [
       "{1: 2, 3: 4, 4: 3, 2: 1, 0: 0}"
      ]
     },
     "execution_count": 86,
     "metadata": {},
     "output_type": "execute_result"
    }
   ],
   "source": [
    "ff={1: 2, 3: 4, 4: 3, 2: 1, 0: 0,0:0,1:2,3: 4}\n",
    "dict(tuple(ff.items()))\n"
   ]
  },
  {
   "cell_type": "markdown",
   "id": "56fae1b9",
   "metadata": {},
   "source": [
    "18.Write a Python program to check a dictionary is empty or not."
   ]
  },
  {
   "cell_type": "code",
   "execution_count": 97,
   "id": "a97212de",
   "metadata": {},
   "outputs": [
    {
     "name": "stdout",
     "output_type": "stream",
     "text": [
      "True\n",
      "False\n"
     ]
    }
   ],
   "source": [
    "def if_dict_empty(d):\n",
    "    return not bool(d)\n",
    "ddd={}\n",
    "xx={10:5,15:10,13:19}\n",
    "print(if_dict_empty(ddd))\n",
    "print(if_dict_empty(xx))"
   ]
  },
  {
   "cell_type": "markdown",
   "id": "912ee927",
   "metadata": {},
   "source": [
    "19.​ Write a Python program to combine two dictionary adding values for common\n",
    "keys. ​Go to the editor\n",
    "d1 = {'a': 100, 'b': 200, 'c':300}\n",
    "d2 = {'a': 300, 'b': 200, 'd':400}\n",
    "Sample output: Counter({'a': 400, 'b': 400, 'd': 400, 'c': 300})"
   ]
  },
  {
   "cell_type": "code",
   "execution_count": 102,
   "id": "96f6b2b2",
   "metadata": {},
   "outputs": [
    {
     "name": "stdout",
     "output_type": "stream",
     "text": [
      "{'a': 400, 'b': 200, 'c': 300}\n"
     ]
    }
   ],
   "source": [
    "def add_value_com(d1,d2):\n",
    "    combine_dict=d1.copy()\n",
    "    for key,val in d2.items():\n",
    "        if key in combine_dict:\n",
    "            combine_dict[key]+=val\n",
    "        else:\n",
    "            combine_dict[key]=val\n",
    "        return combine_dict    \n",
    "d1 = {'a': 100, 'b': 200, 'c':300}\n",
    "d2 = {'a': 300, 'b': 200, 'd':400}\n",
    "print(add_value_com(d1,d2))\n"
   ]
  },
  {
   "cell_type": "markdown",
   "id": "d98ce42f",
   "metadata": {},
   "source": [
    "20.​ Write a Python program to print all unique values in a dictionary.\n",
    "Sample Data : [{\"V\":\"S001\"}, {\"V\": \"S002\"}, {\"VI\": \"S001\"}, {\"VI\": \"S005\"},\n",
    "{\"VII\":\"S005\"}, {\"V\":\"S009\"},{\"VIII\":\"S007\"}]\n",
    "\n",
    "Expected Output : Unique Values: {'S005', 'S002', 'S007', 'S001', 'S009'}"
   ]
  },
  {
   "cell_type": "code",
   "execution_count": 150,
   "id": "61cf8d84",
   "metadata": {},
   "outputs": [
    {
     "name": "stdout",
     "output_type": "stream",
     "text": [
      "[{'V': 'S001'}, {'V': 'S002'}, {'VI': 'S001'}, {'VI': 'S005'}, {'VII': 'S005'}, {'V': 'S009'}, {'VIII': 'S007'}]"
     ]
    }
   ],
   "source": [
    " Data = [{\"V\":\"S001\"}, {\"V\": \"S002\"}, {\"VI\": \"S001\"}, {\"VI\": \"S005\"},\n",
    "{\"VII\":\"S005\"}, {\"V\":\"S009\"},{\"VIII\":\"S007\"}]\n",
    "    \n",
    "a = {}\n",
    "for x in range(len(Data)):\n",
    "    print(Data,end=\"\")\n",
    "    break"
   ]
  },
  {
   "cell_type": "code",
   "execution_count": 168,
   "id": "6798ca10",
   "metadata": {},
   "outputs": [
    {
     "name": "stdout",
     "output_type": "stream",
     "text": [
      "{'V': ['S001', 'S002', 'S009'], 'VI': ['S001', 'S005'], 'VII': ['S005'], 'VIII': ['S007']}\n"
     ]
    }
   ],
   "source": [
    "def margeDict(dictt):\n",
    "    new_dict={}\n",
    "\n",
    "    \n",
    "    for dictionary in dictt:        \n",
    "        for key , val in dictionary.items():\n",
    "            if key in new_dict:\n",
    "                new_dict[key].append(val)\n",
    "            else:\n",
    "                new_dict[key]=[val]\n",
    "            \n",
    "    return new_dict\n",
    "# List of dictionaries\n",
    "dict_list = [\n",
    "    {'V': 'S001'},\n",
    "    {'V': 'S002'},\n",
    "    {'VI': 'S001'},\n",
    "    {'VI': 'S005'},\n",
    "    {'VII': 'S005'},\n",
    "    {'V': 'S009'},\n",
    "    {'VIII': 'S007'}\n",
    "]\n",
    "r = margeDict(dict_list)\n",
    "print(r)"
   ]
  },
  {
   "cell_type": "code",
   "execution_count": 186,
   "id": "268b56f5",
   "metadata": {},
   "outputs": [
    {
     "ename": "SyntaxError",
     "evalue": "invalid syntax (3002738289.py, line 4)",
     "output_type": "error",
     "traceback": [
      "\u001b[0;36m  Cell \u001b[0;32mIn[186], line 4\u001b[0;36m\u001b[0m\n\u001b[0;31m    add=ab.(ab**)\u001b[0m\n\u001b[0m           ^\u001b[0m\n\u001b[0;31mSyntaxError\u001b[0m\u001b[0;31m:\u001b[0m invalid syntax\n"
     ]
    }
   ],
   "source": [
    "a=[]\n",
    "\n",
    "ab=list(r.values())\n",
    "add=ab.(ab**)"
   ]
  },
  {
   "cell_type": "code",
   "execution_count": 191,
   "id": "3c3b1154",
   "metadata": {},
   "outputs": [
    {
     "name": "stdout",
     "output_type": "stream",
     "text": [
      "Original List:  [{'V': 'S001'}, {'V': 'S002'}, {'VI': 'S001'}, {'VI': 'S005'}, {'VII': 'S005'}, {'V': 'S009'}, {'VIII': 'S007'}]\n",
      "Unique Value :  {'S005', 'S001', 'S007', 'S002', 'S009'}\n"
     ]
    }
   ],
   "source": [
    "L = [{\"V\":\"S001\"}, {\"V\": \"S002\"}, {\"VI\": \"S001\"}, {\"VI\": \"S005\"}, {\"VII\":\"S005\"}, {\"V\":\"S009\"},{\"VIII\":\"S007\"}]\n",
    "print(\"Original List: \",L)\n",
    "u_val = set(val for dict in L for val in dict.values())\n",
    "print(\"Unique Value : \",u_val)\n",
    "    \n"
   ]
  },
  {
   "cell_type": "markdown",
   "id": "590ff90b",
   "metadata": {},
   "source": [
    "21.​ Write a Python program to create and display all combinations of letters,\n",
    "selecting each letter from a different key in a dictionary. ​Go to the editor\n",
    "Sample data : {'1':['a','b'], '2':['c','d']}\n",
    "Expected Output: {ac,ad,bc,bd}\n",
    "    "
   ]
  },
  {
   "cell_type": "code",
   "execution_count": 26,
   "id": "ee10b874",
   "metadata": {},
   "outputs": [
    {
     "name": "stdout",
     "output_type": "stream",
     "text": [
      "adcd"
     ]
    }
   ],
   "source": [
    "sample={'1':['a','b'],'2':['c','d']}\n",
    "d = list(sample.values())\n",
    "for i in range(len(d)):\n",
    "    for x in range(1,len(d)):\n",
    "        print(d[i][0],end=\"\")\n",
    "        print(d[x][1],end=\"\")"
   ]
  },
  {
   "cell_type": "code",
   "execution_count": 27,
   "id": "70960b7d",
   "metadata": {},
   "outputs": [
    {
     "name": "stdout",
     "output_type": "stream",
     "text": [
      "['ac', 'bc', 'ad', 'bd']\n"
     ]
    }
   ],
   "source": [
    "def generate_combinations(dictionary):\n",
    "    keys = list(dictionary.keys())\n",
    "    combinations = [[]]\n",
    "\n",
    "    for key in keys:\n",
    "        new_combinations = []\n",
    "        for letter in dictionary[key]:\n",
    "            for combo in combinations:\n",
    "                new_combinations.append(combo + [letter])\n",
    "        combinations = new_combinations\n",
    "\n",
    "    result = [''.join(combo) for combo in combinations]\n",
    "    return result\n",
    "\n",
    "sample_data = {'1': ['a', 'b'], '2': ['c', 'd']}\n",
    "output = generate_combinations(sample_data)\n",
    "print(output)\n"
   ]
  },
  {
   "cell_type": "code",
   "execution_count": 32,
   "id": "02e720e9",
   "metadata": {},
   "outputs": [
    {
     "name": "stdout",
     "output_type": "stream",
     "text": [
      "ac ad bc bd "
     ]
    }
   ],
   "source": [
    "d1 = {'1': ['a', 'b'], '2': ['c', 'd']}\n",
    "d1 = list(d1.values())\n",
    "for k in d1[0]:\n",
    "    for i in d1[1]:\n",
    "        print(k+i,end=\" \")\n",
    "        "
   ]
  },
  {
   "cell_type": "code",
   "execution_count": null,
   "id": "d9708d6e",
   "metadata": {},
   "outputs": [],
   "source": []
  },
  {
   "cell_type": "code",
   "execution_count": null,
   "id": "74e00460",
   "metadata": {},
   "outputs": [],
   "source": []
  },
  {
   "cell_type": "code",
   "execution_count": null,
   "id": "93863346",
   "metadata": {},
   "outputs": [],
   "source": []
  },
  {
   "cell_type": "code",
   "execution_count": null,
   "id": "d7053e56",
   "metadata": {},
   "outputs": [],
   "source": []
  },
  {
   "cell_type": "code",
   "execution_count": null,
   "id": "b1655af2",
   "metadata": {},
   "outputs": [],
   "source": []
  },
  {
   "cell_type": "code",
   "execution_count": null,
   "id": "0f49227c",
   "metadata": {},
   "outputs": [],
   "source": []
  },
  {
   "cell_type": "code",
   "execution_count": null,
   "id": "bcd04015",
   "metadata": {},
   "outputs": [],
   "source": []
  },
  {
   "cell_type": "code",
   "execution_count": null,
   "id": "156079b5",
   "metadata": {},
   "outputs": [],
   "source": []
  },
  {
   "cell_type": "code",
   "execution_count": null,
   "id": "66f18c4e",
   "metadata": {},
   "outputs": [],
   "source": []
  }
 ],
 "metadata": {
  "kernelspec": {
   "display_name": "Python 3 (ipykernel)",
   "language": "python",
   "name": "python3"
  },
  "language_info": {
   "codemirror_mode": {
    "name": "ipython",
    "version": 3
   },
   "file_extension": ".py",
   "mimetype": "text/x-python",
   "name": "python",
   "nbconvert_exporter": "python",
   "pygments_lexer": "ipython3",
   "version": "3.11.4"
  }
 },
 "nbformat": 4,
 "nbformat_minor": 5
}
