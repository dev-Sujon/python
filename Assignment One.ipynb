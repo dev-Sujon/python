{
 "cells": [
  {
   "cell_type": "markdown",
   "id": "797e27f3",
   "metadata": {},
   "source": [
    "# Create a python file named Module.\n",
    "        a. Inside the file, define 4 methods named – addition, subtraction, multiplication,\n",
    "        and division.\n",
    "        b. Each method should only accept 2 arguments and should return the result of the\n",
    "        operation performed in each method. For e.g., addition() should return the sum of\n",
    "        two arguments.\n",
    "        c. Save the Module file in .py format."
   ]
  },
  {
   "cell_type": "markdown",
   "id": "19207884",
   "metadata": {},
   "source": [
    "1.Open a new python file and import the Module.py file.\n",
    "a. Now call the 4 methods from the Module.py file, i.e., addition(), subtraction(),\n",
    "multiplication(), and division()"
   ]
  },
  {
   "cell_type": "code",
   "execution_count": 4,
   "id": "811a83e3",
   "metadata": {},
   "outputs": [
    {
     "name": "stdout",
     "output_type": "stream",
     "text": [
      "addition = 120\n",
      "subtraction = 80\n",
      "multiplication = 2000\n",
      "division = 5\n"
     ]
    }
   ],
   "source": [
    "a=100\n",
    "b=20\n",
    "addition = a+b\n",
    "subtraction = a-b\n",
    "multiplication = a*b\n",
    "division = a//b\n",
    "print(f\"addition = {addition}\")\n",
    "print(f\"subtraction = {subtraction}\")\n",
    "print(f\"multiplication = {multiplication}\")\n",
    "print(f\"division = {division}\")"
   ]
  },
  {
   "cell_type": "markdown",
   "id": "8f943d81",
   "metadata": {},
   "source": [
    "2.From the Module file, import only the addition() and pass the arguments so that it can\n",
    "display the result from the method.\n",
    "\n",
    "3.From the Module file, import only the subtraction() and pass the arguments so that it can\n",
    "display the result from the method.\n",
    "\n",
    "4.From the Module file, import both the multiplication() and division() and pass the\n",
    "arguments so that it can display the result from the methods.\n"
   ]
  },
  {
   "cell_type": "code",
   "execution_count": 8,
   "id": "2a37903b",
   "metadata": {},
   "outputs": [
    {
     "name": "stdout",
     "output_type": "stream",
     "text": [
      "120\n",
      "80\n",
      "2000\n",
      "5.0\n"
     ]
    }
   ],
   "source": [
    "def way(a,b):\n",
    "    add = a+b\n",
    "    sub = a - b\n",
    "    mul = a*b\n",
    "    div = a/b\n",
    "    print(add)\n",
    "    print(sub)\n",
    "    print(mul)\n",
    "    print(div)\n",
    "    \n",
    "add = way(100,20)\n",
    "\n"
   ]
  },
  {
   "cell_type": "markdown",
   "id": "e61a74c7",
   "metadata": {},
   "source": []
  },
  {
   "cell_type": "code",
   "execution_count": null,
   "id": "650ca02e",
   "metadata": {},
   "outputs": [],
   "source": []
  },
  {
   "cell_type": "markdown",
   "id": "6c4cbadc",
   "metadata": {},
   "source": []
  },
  {
   "cell_type": "code",
   "execution_count": null,
   "id": "f1660627",
   "metadata": {},
   "outputs": [],
   "source": []
  },
  {
   "cell_type": "markdown",
   "id": "1dba0d34",
   "metadata": {},
   "source": [
    "5.Create a python if-else program to check if the given numbers are greater or not, also\n",
    "check whether the given number is an armstrong number or not, and check whether the\n",
    "given number is a prime number or not. Make use of python if-else, and elif statements\n",
    "for the same."
   ]
  },
  {
   "cell_type": "code",
   "execution_count": 29,
   "id": "74429286",
   "metadata": {},
   "outputs": [
    {
     "name": "stdout",
     "output_type": "stream",
     "text": [
      "153 is not an Armstrong number.\n"
     ]
    }
   ],
   "source": [
    "def is_armstrong_number(number):\n",
    "    # Convert the number to a string to determine the number of digits\n",
    "    num_str = str()\n",
    "    num_digits = len(num_str)\n",
    "\n",
    "    # Calculate the sum of the digits raised to the power of the number of digits\n",
    "    sum_of_digits = 0\n",
    "    for digit in num_str:\n",
    "        sum_of_digits += int(digit) ** num_digits\n",
    "\n",
    "    # Check if the sum is equal to the original number\n",
    "    if sum_of_digits == number:\n",
    "        return True\n",
    "    else:\n",
    "        return False\n",
    "\n",
    "# Test the function\n",
    "number = 153\n",
    "if is_armstrong_number(number):\n",
    "    print(number, \"is an Armstrong number.\")\n",
    "else:\n",
    "    print(number, \"is not an Armstrong number.\")\n",
    "\n",
    "    "
   ]
  },
  {
   "cell_type": "markdown",
   "id": "f2ad92b5",
   "metadata": {},
   "source": [
    "6.Create a calculator program for addition, subtraction, multiplication and floor division.\n",
    "Take the inputs from the user, and based on the choice of operation, return the results."
   ]
  },
  {
   "cell_type": "code",
   "execution_count": null,
   "id": "c95f1649",
   "metadata": {},
   "outputs": [],
   "source": []
  },
  {
   "cell_type": "code",
   "execution_count": null,
   "id": "f12ae8e4",
   "metadata": {},
   "outputs": [],
   "source": [
    "Create a fibonacci sequence using python if-else statements."
   ]
  },
  {
   "cell_type": "code",
   "execution_count": 40,
   "id": "569b5527",
   "metadata": {},
   "outputs": [
    {
     "ename": "SyntaxError",
     "evalue": "incomplete input (3946229378.py, line 4)",
     "output_type": "error",
     "traceback": [
      "\u001b[0;36m  Cell \u001b[0;32mIn[40], line 4\u001b[0;36m\u001b[0m\n\u001b[0;31m    \u001b[0m\n\u001b[0m    ^\u001b[0m\n\u001b[0;31mSyntaxError\u001b[0m\u001b[0;31m:\u001b[0m incomplete input\n"
     ]
    }
   ],
   "source": [
    "def fib(n):\n",
    "    seq = []\n",
    "    if n<0:\n",
    "        return seq\n",
    "    elif n == 1:\n",
    "        seq.append(0)\n",
    "    elif n==2:\n",
    "        seq.extend[0,1]\n",
    "    else:\n",
    "        seq.extend[]\n",
    "    "
   ]
  },
  {
   "cell_type": "markdown",
   "id": "ccfb0f32",
   "metadata": {},
   "source": [
    "9. Create a nested dictionary with values as a nested list for each key in the dictionary."
   ]
  },
  {
   "cell_type": "code",
   "execution_count": null,
   "id": "d22140a7",
   "metadata": {},
   "outputs": [],
   "source": [
    "Create two sets and perform the following:\n",
    "a. Union of the two sets\n",
    "b. Intersection of the two sets"
   ]
  },
  {
   "cell_type": "code",
   "execution_count": null,
   "id": "7801f702",
   "metadata": {},
   "outputs": [],
   "source": [
    "Create a nested tuple from the dictionary, with each item in the tuple as a key value pair\n",
    "from the dictionary."
   ]
  },
  {
   "cell_type": "code",
   "execution_count": null,
   "id": "5866b96f",
   "metadata": {},
   "outputs": [],
   "source": [
    "12. Create a list of the first 50 even natural numbers, and perform the following operations."
   ]
  }
 ],
 "metadata": {
  "kernelspec": {
   "display_name": "Python 3 (ipykernel)",
   "language": "python",
   "name": "python3"
  },
  "language_info": {
   "codemirror_mode": {
    "name": "ipython",
    "version": 3
   },
   "file_extension": ".py",
   "mimetype": "text/x-python",
   "name": "python",
   "nbconvert_exporter": "python",
   "pygments_lexer": "ipython3",
   "version": "3.10.9"
  }
 },
 "nbformat": 4,
 "nbformat_minor": 5
}
