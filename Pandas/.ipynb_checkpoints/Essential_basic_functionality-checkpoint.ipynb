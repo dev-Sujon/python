{
 "cells": [
  {
   "cell_type": "markdown",
   "id": "3ac1a058",
   "metadata": {},
   "source": [
    "# Essential basic functionality"
   ]
  },
  {
   "cell_type": "markdown",
   "id": "86b4db0b",
   "metadata": {},
   "source": [
    " On this notebook:\n",
    "        -->Head and tail\n",
    "        -->Attributes and underlying data\n",
    "        -->Accelerated operations\n",
    "        -->Flexible binary operations\n",
    "        -->Descriptive statistics\n",
    "        -->Function application\n",
    "        -->Reindexing and altering labels\n",
    "        -->Iteration\n",
    "        -->.dt accessor\n",
    "        -->Vectorized string methods\n",
    "        -->Sorting\n",
    "        -->Copying\n",
    "        -->dtypes\n",
    "        \n",
    "        Selecting columns based on dtype"
   ]
  },
  {
   "cell_type": "code",
   "execution_count": 4,
   "id": "3bcef132",
   "metadata": {},
   "outputs": [],
   "source": [
    "import pandas as pd\n",
    "import numpy as np"
   ]
  },
  {
   "cell_type": "code",
   "execution_count": 9,
   "id": "06af9202",
   "metadata": {},
   "outputs": [],
   "source": [
    "index_date=pd.date_range(\"2023/01/01\",periods=12)"
   ]
  },
  {
   "cell_type": "code",
   "execution_count": 10,
   "id": "28c6ee8d",
   "metadata": {},
   "outputs": [
    {
     "data": {
      "text/plain": [
       "DatetimeIndex(['2023-01-01', '2023-01-02', '2023-01-03', '2023-01-04',\n",
       "               '2023-01-05', '2023-01-06', '2023-01-07', '2023-01-08',\n",
       "               '2023-01-09', '2023-01-10', '2023-01-11', '2023-01-12'],\n",
       "              dtype='datetime64[ns]', freq='D')"
      ]
     },
     "execution_count": 10,
     "metadata": {},
     "output_type": "execute_result"
    }
   ],
   "source": [
    "index_date"
   ]
  },
  {
   "cell_type": "code",
   "execution_count": 20,
   "id": "fd7065e8",
   "metadata": {},
   "outputs": [
    {
     "data": {
      "text/plain": [
       "2023-01-01   -0.253340\n",
       "2023-01-02   -1.545299\n",
       "2023-01-03    0.534236\n",
       "2023-01-04   -2.569748\n",
       "2023-01-05   -1.222759\n",
       "2023-01-06   -0.960041\n",
       "2023-01-07    0.775100\n",
       "2023-01-08    0.658634\n",
       "2023-01-09    0.292983\n",
       "2023-01-10    0.981745\n",
       "2023-01-11    0.744370\n",
       "2023-01-12   -2.791002\n",
       "Freq: D, dtype: float64"
      ]
     },
     "execution_count": 20,
     "metadata": {},
     "output_type": "execute_result"
    }
   ],
   "source": [
    "s=pd.Series(np.random.randn(12),index_date)\n",
    "s"
   ]
  },
  {
   "cell_type": "code",
   "execution_count": 21,
   "id": "178f6a38",
   "metadata": {},
   "outputs": [
    {
     "ename": "TypeError",
     "evalue": "Series.__init__() got an unexpected keyword argument 'columns'",
     "output_type": "error",
     "traceback": [
      "\u001b[0;31m---------------------------------------------------------------------------\u001b[0m",
      "\u001b[0;31mTypeError\u001b[0m                                 Traceback (most recent call last)",
      "Cell \u001b[0;32mIn[21], line 1\u001b[0m\n\u001b[0;32m----> 1\u001b[0m s\u001b[38;5;241m=\u001b[39mpd\u001b[38;5;241m.\u001b[39mSeries(np\u001b[38;5;241m.\u001b[39mrandom\u001b[38;5;241m.\u001b[39mrandn(\u001b[38;5;241m12\u001b[39m),index_date,columns\u001b[38;5;241m=\u001b[39m[\u001b[38;5;124m\"\u001b[39m\u001b[38;5;124mdate\u001b[39m\u001b[38;5;124m\"\u001b[39m, \u001b[38;5;124m\"\u001b[39m\u001b[38;5;124mrandom\u001b[39m\u001b[38;5;124m\"\u001b[39m])\n",
      "\u001b[0;31mTypeError\u001b[0m: Series.__init__() got an unexpected keyword argument 'columns'"
     ]
    }
   ],
   "source": [
    "s=pd.Series(np.random.randn(12),index_date,columns=[\"date\", \"random\"])\n",
    "#it shows TypeError . columns work with only DataFrame\n"
   ]
  },
  {
   "cell_type": "code",
   "execution_count": 22,
   "id": "e3d88e67",
   "metadata": {},
   "outputs": [],
   "source": [
    "s_frame=pd.DataFrame(s)"
   ]
  },
  {
   "cell_type": "code",
   "execution_count": 23,
   "id": "a902d56b",
   "metadata": {},
   "outputs": [
    {
     "data": {
      "text/html": [
       "<div>\n",
       "<style scoped>\n",
       "    .dataframe tbody tr th:only-of-type {\n",
       "        vertical-align: middle;\n",
       "    }\n",
       "\n",
       "    .dataframe tbody tr th {\n",
       "        vertical-align: top;\n",
       "    }\n",
       "\n",
       "    .dataframe thead th {\n",
       "        text-align: right;\n",
       "    }\n",
       "</style>\n",
       "<table border=\"1\" class=\"dataframe\">\n",
       "  <thead>\n",
       "    <tr style=\"text-align: right;\">\n",
       "      <th></th>\n",
       "      <th>0</th>\n",
       "    </tr>\n",
       "  </thead>\n",
       "  <tbody>\n",
       "    <tr>\n",
       "      <th>2023-01-01</th>\n",
       "      <td>-0.253340</td>\n",
       "    </tr>\n",
       "    <tr>\n",
       "      <th>2023-01-02</th>\n",
       "      <td>-1.545299</td>\n",
       "    </tr>\n",
       "    <tr>\n",
       "      <th>2023-01-03</th>\n",
       "      <td>0.534236</td>\n",
       "    </tr>\n",
       "    <tr>\n",
       "      <th>2023-01-04</th>\n",
       "      <td>-2.569748</td>\n",
       "    </tr>\n",
       "    <tr>\n",
       "      <th>2023-01-05</th>\n",
       "      <td>-1.222759</td>\n",
       "    </tr>\n",
       "    <tr>\n",
       "      <th>2023-01-06</th>\n",
       "      <td>-0.960041</td>\n",
       "    </tr>\n",
       "    <tr>\n",
       "      <th>2023-01-07</th>\n",
       "      <td>0.775100</td>\n",
       "    </tr>\n",
       "    <tr>\n",
       "      <th>2023-01-08</th>\n",
       "      <td>0.658634</td>\n",
       "    </tr>\n",
       "    <tr>\n",
       "      <th>2023-01-09</th>\n",
       "      <td>0.292983</td>\n",
       "    </tr>\n",
       "    <tr>\n",
       "      <th>2023-01-10</th>\n",
       "      <td>0.981745</td>\n",
       "    </tr>\n",
       "    <tr>\n",
       "      <th>2023-01-11</th>\n",
       "      <td>0.744370</td>\n",
       "    </tr>\n",
       "    <tr>\n",
       "      <th>2023-01-12</th>\n",
       "      <td>-2.791002</td>\n",
       "    </tr>\n",
       "  </tbody>\n",
       "</table>\n",
       "</div>"
      ],
      "text/plain": [
       "                   0\n",
       "2023-01-01 -0.253340\n",
       "2023-01-02 -1.545299\n",
       "2023-01-03  0.534236\n",
       "2023-01-04 -2.569748\n",
       "2023-01-05 -1.222759\n",
       "2023-01-06 -0.960041\n",
       "2023-01-07  0.775100\n",
       "2023-01-08  0.658634\n",
       "2023-01-09  0.292983\n",
       "2023-01-10  0.981745\n",
       "2023-01-11  0.744370\n",
       "2023-01-12 -2.791002"
      ]
     },
     "execution_count": 23,
     "metadata": {},
     "output_type": "execute_result"
    }
   ],
   "source": [
    "s_frame"
   ]
  },
  {
   "cell_type": "markdown",
   "id": "789a76e4",
   "metadata": {},
   "source": [
    "Now i can add column name of the data frame are given above"
   ]
  },
  {
   "cell_type": "code",
   "execution_count": 32,
   "id": "577387a0",
   "metadata": {},
   "outputs": [
    {
     "data": {
      "text/html": [
       "<div>\n",
       "<style scoped>\n",
       "    .dataframe tbody tr th:only-of-type {\n",
       "        vertical-align: middle;\n",
       "    }\n",
       "\n",
       "    .dataframe tbody tr th {\n",
       "        vertical-align: top;\n",
       "    }\n",
       "\n",
       "    .dataframe thead th {\n",
       "        text-align: right;\n",
       "    }\n",
       "</style>\n",
       "<table border=\"1\" class=\"dataframe\">\n",
       "  <thead>\n",
       "    <tr style=\"text-align: right;\">\n",
       "      <th></th>\n",
       "      <th>Random</th>\n",
       "    </tr>\n",
       "  </thead>\n",
       "  <tbody>\n",
       "    <tr>\n",
       "      <th>2023-01-01</th>\n",
       "      <td>0.590863</td>\n",
       "    </tr>\n",
       "    <tr>\n",
       "      <th>2023-01-02</th>\n",
       "      <td>-1.166128</td>\n",
       "    </tr>\n",
       "    <tr>\n",
       "      <th>2023-01-03</th>\n",
       "      <td>0.695369</td>\n",
       "    </tr>\n",
       "    <tr>\n",
       "      <th>2023-01-04</th>\n",
       "      <td>-0.948249</td>\n",
       "    </tr>\n",
       "    <tr>\n",
       "      <th>2023-01-05</th>\n",
       "      <td>-0.023299</td>\n",
       "    </tr>\n",
       "    <tr>\n",
       "      <th>2023-01-06</th>\n",
       "      <td>0.106861</td>\n",
       "    </tr>\n",
       "    <tr>\n",
       "      <th>2023-01-07</th>\n",
       "      <td>0.305685</td>\n",
       "    </tr>\n",
       "    <tr>\n",
       "      <th>2023-01-08</th>\n",
       "      <td>-0.169920</td>\n",
       "    </tr>\n",
       "    <tr>\n",
       "      <th>2023-01-09</th>\n",
       "      <td>1.426158</td>\n",
       "    </tr>\n",
       "    <tr>\n",
       "      <th>2023-01-10</th>\n",
       "      <td>0.403756</td>\n",
       "    </tr>\n",
       "    <tr>\n",
       "      <th>2023-01-11</th>\n",
       "      <td>0.025563</td>\n",
       "    </tr>\n",
       "    <tr>\n",
       "      <th>2023-01-12</th>\n",
       "      <td>0.122500</td>\n",
       "    </tr>\n",
       "  </tbody>\n",
       "</table>\n",
       "</div>"
      ],
      "text/plain": [
       "              Random\n",
       "2023-01-01  0.590863\n",
       "2023-01-02 -1.166128\n",
       "2023-01-03  0.695369\n",
       "2023-01-04 -0.948249\n",
       "2023-01-05 -0.023299\n",
       "2023-01-06  0.106861\n",
       "2023-01-07  0.305685\n",
       "2023-01-08 -0.169920\n",
       "2023-01-09  1.426158\n",
       "2023-01-10  0.403756\n",
       "2023-01-11  0.025563\n",
       "2023-01-12  0.122500"
      ]
     },
     "execution_count": 32,
     "metadata": {},
     "output_type": "execute_result"
    }
   ],
   "source": [
    "s_frame=pd.DataFrame(np.random.randn(12,1),index=index_date,columns=[\"Random\"])\n",
    "s_frame"
   ]
  },
  {
   "cell_type": "code",
   "execution_count": null,
   "id": "34e36c52",
   "metadata": {},
   "outputs": [],
   "source": []
  },
  {
   "cell_type": "code",
   "execution_count": null,
   "id": "5b20eac5",
   "metadata": {},
   "outputs": [],
   "source": []
  },
  {
   "cell_type": "code",
   "execution_count": null,
   "id": "596f523f",
   "metadata": {},
   "outputs": [],
   "source": []
  },
  {
   "cell_type": "code",
   "execution_count": null,
   "id": "2ea86e61",
   "metadata": {},
   "outputs": [],
   "source": []
  },
  {
   "cell_type": "markdown",
   "id": "bd39b8b8",
   "metadata": {},
   "source": [
    "# head and tail\n",
    "To view a small sample of a Series or DataFrame object, use the head() and tail() methods. The default number of elements to display is five, but you may pass a custom number."
   ]
  },
  {
   "cell_type": "code",
   "execution_count": 36,
   "id": "07a48ccb",
   "metadata": {},
   "outputs": [
    {
     "data": {
      "text/plain": [
       "0     -0.980267\n",
       "1      0.889748\n",
       "2      0.430012\n",
       "3      0.565712\n",
       "4      1.134200\n",
       "         ...   \n",
       "995    0.587920\n",
       "996    0.868810\n",
       "997    0.748082\n",
       "998   -0.870770\n",
       "999    1.519056\n",
       "Length: 1000, dtype: float64"
      ]
     },
     "execution_count": 36,
     "metadata": {},
     "output_type": "execute_result"
    }
   ],
   "source": [
    "long_series=pd.Series(np.random.randn(1000))\n",
    "long_series"
   ]
  },
  {
   "cell_type": "code",
   "execution_count": 37,
   "id": "9c97e06d",
   "metadata": {},
   "outputs": [
    {
     "data": {
      "text/plain": [
       "0   -0.980267\n",
       "1    0.889748\n",
       "2    0.430012\n",
       "3    0.565712\n",
       "4    1.134200\n",
       "dtype: float64"
      ]
     },
     "execution_count": 37,
     "metadata": {},
     "output_type": "execute_result"
    }
   ],
   "source": [
    "long_series.head()"
   ]
  },
  {
   "cell_type": "code",
   "execution_count": 38,
   "id": "249be961",
   "metadata": {},
   "outputs": [
    {
     "data": {
      "text/plain": [
       "995    0.587920\n",
       "996    0.868810\n",
       "997    0.748082\n",
       "998   -0.870770\n",
       "999    1.519056\n",
       "dtype: float64"
      ]
     },
     "execution_count": 38,
     "metadata": {},
     "output_type": "execute_result"
    }
   ],
   "source": [
    "long_series.tail()"
   ]
  },
  {
   "cell_type": "code",
   "execution_count": 42,
   "id": "5c7a4bdd",
   "metadata": {},
   "outputs": [
    {
     "data": {
      "text/plain": [
       "0    -0.980267\n",
       "1     0.889748\n",
       "2     0.430012\n",
       "3     0.565712\n",
       "4     1.134200\n",
       "5    -0.912855\n",
       "6    -1.586953\n",
       "7     0.463786\n",
       "8    -1.112303\n",
       "9    -0.328522\n",
       "10    0.518572\n",
       "11    0.724236\n",
       "12    0.055043\n",
       "13   -0.386796\n",
       "14    2.080389\n",
       "15    0.681435\n",
       "16   -1.777981\n",
       "17    0.518997\n",
       "18   -1.429904\n",
       "19   -0.225251\n",
       "20    1.210690\n",
       "21   -1.121237\n",
       "22    0.730677\n",
       "23    0.151389\n",
       "24   -0.038846\n",
       "25   -0.958064\n",
       "dtype: float64"
      ]
     },
     "execution_count": 42,
     "metadata": {},
     "output_type": "execute_result"
    }
   ],
   "source": [
    "long_series.head(26)"
   ]
  },
  {
   "cell_type": "code",
   "execution_count": 43,
   "id": "856c80d9",
   "metadata": {},
   "outputs": [
    {
     "data": {
      "text/plain": [
       "975    0.209696\n",
       "976    0.019098\n",
       "977   -0.733033\n",
       "978   -0.349069\n",
       "979   -1.599284\n",
       "980    1.985841\n",
       "981    0.365633\n",
       "982    0.082641\n",
       "983   -0.307211\n",
       "984    1.065265\n",
       "985   -0.051390\n",
       "986    0.311673\n",
       "987   -0.278004\n",
       "988    1.955654\n",
       "989    1.920733\n",
       "990   -0.443524\n",
       "991   -0.174598\n",
       "992   -0.252005\n",
       "993    0.382765\n",
       "994    0.280083\n",
       "995    0.587920\n",
       "996    0.868810\n",
       "997    0.748082\n",
       "998   -0.870770\n",
       "999    1.519056\n",
       "dtype: float64"
      ]
     },
     "execution_count": 43,
     "metadata": {},
     "output_type": "execute_result"
    }
   ],
   "source": [
    "long_series.tail(25)"
   ]
  },
  {
   "cell_type": "markdown",
   "id": "df35fe6f",
   "metadata": {},
   "source": [
    "# Attributes and underlying data\n",
    "\n",
    "pandas objects have a number of attributes enabling you to access the metadata\n",
    "\n",
    "shape: gives the axis dimensions of the object, consistent with ndarray\n",
    "\n",
    "Axis labels\n",
    "Series: index (only axis)\n",
    "\n",
    "DataFrame: index (rows) and columns"
   ]
  },
  {
   "cell_type": "code",
   "execution_count": 46,
   "id": "6c0bde84",
   "metadata": {},
   "outputs": [
    {
     "data": {
      "text/html": [
       "<div>\n",
       "<style scoped>\n",
       "    .dataframe tbody tr th:only-of-type {\n",
       "        vertical-align: middle;\n",
       "    }\n",
       "\n",
       "    .dataframe tbody tr th {\n",
       "        vertical-align: top;\n",
       "    }\n",
       "\n",
       "    .dataframe thead th {\n",
       "        text-align: right;\n",
       "    }\n",
       "</style>\n",
       "<table border=\"1\" class=\"dataframe\">\n",
       "  <thead>\n",
       "    <tr style=\"text-align: right;\">\n",
       "      <th></th>\n",
       "      <th>A</th>\n",
       "      <th>B</th>\n",
       "      <th>C</th>\n",
       "    </tr>\n",
       "  </thead>\n",
       "  <tbody>\n",
       "    <tr>\n",
       "      <th>2023-01-01</th>\n",
       "      <td>0.826952</td>\n",
       "      <td>-1.185661</td>\n",
       "      <td>0.986279</td>\n",
       "    </tr>\n",
       "    <tr>\n",
       "      <th>2023-01-02</th>\n",
       "      <td>1.528088</td>\n",
       "      <td>1.245082</td>\n",
       "      <td>-0.473378</td>\n",
       "    </tr>\n",
       "    <tr>\n",
       "      <th>2023-01-03</th>\n",
       "      <td>0.705479</td>\n",
       "      <td>0.788234</td>\n",
       "      <td>0.008209</td>\n",
       "    </tr>\n",
       "    <tr>\n",
       "      <th>2023-01-04</th>\n",
       "      <td>-0.856181</td>\n",
       "      <td>0.903249</td>\n",
       "      <td>-0.095945</td>\n",
       "    </tr>\n",
       "    <tr>\n",
       "      <th>2023-01-05</th>\n",
       "      <td>-0.855758</td>\n",
       "      <td>0.292784</td>\n",
       "      <td>-0.374875</td>\n",
       "    </tr>\n",
       "    <tr>\n",
       "      <th>2023-01-06</th>\n",
       "      <td>-1.675706</td>\n",
       "      <td>-0.303232</td>\n",
       "      <td>-0.565420</td>\n",
       "    </tr>\n",
       "    <tr>\n",
       "      <th>2023-01-07</th>\n",
       "      <td>-0.951936</td>\n",
       "      <td>-1.255472</td>\n",
       "      <td>1.103251</td>\n",
       "    </tr>\n",
       "    <tr>\n",
       "      <th>2023-01-08</th>\n",
       "      <td>0.647139</td>\n",
       "      <td>0.956639</td>\n",
       "      <td>-0.847367</td>\n",
       "    </tr>\n",
       "    <tr>\n",
       "      <th>2023-01-09</th>\n",
       "      <td>1.210851</td>\n",
       "      <td>-0.512944</td>\n",
       "      <td>-0.679721</td>\n",
       "    </tr>\n",
       "    <tr>\n",
       "      <th>2023-01-10</th>\n",
       "      <td>-0.647855</td>\n",
       "      <td>-0.281482</td>\n",
       "      <td>0.099729</td>\n",
       "    </tr>\n",
       "    <tr>\n",
       "      <th>2023-01-11</th>\n",
       "      <td>-0.096727</td>\n",
       "      <td>-0.699410</td>\n",
       "      <td>-1.101938</td>\n",
       "    </tr>\n",
       "    <tr>\n",
       "      <th>2023-01-12</th>\n",
       "      <td>0.708665</td>\n",
       "      <td>0.021725</td>\n",
       "      <td>-0.812371</td>\n",
       "    </tr>\n",
       "  </tbody>\n",
       "</table>\n",
       "</div>"
      ],
      "text/plain": [
       "                   A         B         C\n",
       "2023-01-01  0.826952 -1.185661  0.986279\n",
       "2023-01-02  1.528088  1.245082 -0.473378\n",
       "2023-01-03  0.705479  0.788234  0.008209\n",
       "2023-01-04 -0.856181  0.903249 -0.095945\n",
       "2023-01-05 -0.855758  0.292784 -0.374875\n",
       "2023-01-06 -1.675706 -0.303232 -0.565420\n",
       "2023-01-07 -0.951936 -1.255472  1.103251\n",
       "2023-01-08  0.647139  0.956639 -0.847367\n",
       "2023-01-09  1.210851 -0.512944 -0.679721\n",
       "2023-01-10 -0.647855 -0.281482  0.099729\n",
       "2023-01-11 -0.096727 -0.699410 -1.101938\n",
       "2023-01-12  0.708665  0.021725 -0.812371"
      ]
     },
     "execution_count": 46,
     "metadata": {},
     "output_type": "execute_result"
    }
   ],
   "source": [
    "dff=pd.DataFrame(np.random.randn(12,3),index=index_date,columns=[\"A\",\"B\",\"C\"])\n",
    "dff"
   ]
  },
  {
   "cell_type": "code",
   "execution_count": 49,
   "id": "a624d9a9",
   "metadata": {},
   "outputs": [
    {
     "data": {
      "text/html": [
       "<div>\n",
       "<style scoped>\n",
       "    .dataframe tbody tr th:only-of-type {\n",
       "        vertical-align: middle;\n",
       "    }\n",
       "\n",
       "    .dataframe tbody tr th {\n",
       "        vertical-align: top;\n",
       "    }\n",
       "\n",
       "    .dataframe thead th {\n",
       "        text-align: right;\n",
       "    }\n",
       "</style>\n",
       "<table border=\"1\" class=\"dataframe\">\n",
       "  <thead>\n",
       "    <tr style=\"text-align: right;\">\n",
       "      <th></th>\n",
       "      <th>A</th>\n",
       "      <th>B</th>\n",
       "      <th>C</th>\n",
       "    </tr>\n",
       "  </thead>\n",
       "  <tbody>\n",
       "    <tr>\n",
       "      <th>2023-01-01</th>\n",
       "      <td>0.826952</td>\n",
       "      <td>-1.185661</td>\n",
       "      <td>0.986279</td>\n",
       "    </tr>\n",
       "    <tr>\n",
       "      <th>2023-01-02</th>\n",
       "      <td>1.528088</td>\n",
       "      <td>1.245082</td>\n",
       "      <td>-0.473378</td>\n",
       "    </tr>\n",
       "    <tr>\n",
       "      <th>2023-01-03</th>\n",
       "      <td>0.705479</td>\n",
       "      <td>0.788234</td>\n",
       "      <td>0.008209</td>\n",
       "    </tr>\n",
       "    <tr>\n",
       "      <th>2023-01-04</th>\n",
       "      <td>-0.856181</td>\n",
       "      <td>0.903249</td>\n",
       "      <td>-0.095945</td>\n",
       "    </tr>\n",
       "    <tr>\n",
       "      <th>2023-01-05</th>\n",
       "      <td>-0.855758</td>\n",
       "      <td>0.292784</td>\n",
       "      <td>-0.374875</td>\n",
       "    </tr>\n",
       "    <tr>\n",
       "      <th>2023-01-06</th>\n",
       "      <td>-1.675706</td>\n",
       "      <td>-0.303232</td>\n",
       "      <td>-0.565420</td>\n",
       "    </tr>\n",
       "  </tbody>\n",
       "</table>\n",
       "</div>"
      ],
      "text/plain": [
       "                   A         B         C\n",
       "2023-01-01  0.826952 -1.185661  0.986279\n",
       "2023-01-02  1.528088  1.245082 -0.473378\n",
       "2023-01-03  0.705479  0.788234  0.008209\n",
       "2023-01-04 -0.856181  0.903249 -0.095945\n",
       "2023-01-05 -0.855758  0.292784 -0.374875\n",
       "2023-01-06 -1.675706 -0.303232 -0.565420"
      ]
     },
     "execution_count": 49,
     "metadata": {},
     "output_type": "execute_result"
    }
   ],
   "source": [
    "dff[:6]"
   ]
  },
  {
   "cell_type": "code",
   "execution_count": 50,
   "id": "42994da0",
   "metadata": {},
   "outputs": [
    {
     "data": {
      "text/html": [
       "<div>\n",
       "<style scoped>\n",
       "    .dataframe tbody tr th:only-of-type {\n",
       "        vertical-align: middle;\n",
       "    }\n",
       "\n",
       "    .dataframe tbody tr th {\n",
       "        vertical-align: top;\n",
       "    }\n",
       "\n",
       "    .dataframe thead th {\n",
       "        text-align: right;\n",
       "    }\n",
       "</style>\n",
       "<table border=\"1\" class=\"dataframe\">\n",
       "  <thead>\n",
       "    <tr style=\"text-align: right;\">\n",
       "      <th></th>\n",
       "      <th>A</th>\n",
       "      <th>B</th>\n",
       "      <th>C</th>\n",
       "    </tr>\n",
       "  </thead>\n",
       "  <tbody>\n",
       "    <tr>\n",
       "      <th>2023-01-07</th>\n",
       "      <td>-0.951936</td>\n",
       "      <td>-1.255472</td>\n",
       "      <td>1.103251</td>\n",
       "    </tr>\n",
       "    <tr>\n",
       "      <th>2023-01-08</th>\n",
       "      <td>0.647139</td>\n",
       "      <td>0.956639</td>\n",
       "      <td>-0.847367</td>\n",
       "    </tr>\n",
       "    <tr>\n",
       "      <th>2023-01-09</th>\n",
       "      <td>1.210851</td>\n",
       "      <td>-0.512944</td>\n",
       "      <td>-0.679721</td>\n",
       "    </tr>\n",
       "    <tr>\n",
       "      <th>2023-01-10</th>\n",
       "      <td>-0.647855</td>\n",
       "      <td>-0.281482</td>\n",
       "      <td>0.099729</td>\n",
       "    </tr>\n",
       "    <tr>\n",
       "      <th>2023-01-11</th>\n",
       "      <td>-0.096727</td>\n",
       "      <td>-0.699410</td>\n",
       "      <td>-1.101938</td>\n",
       "    </tr>\n",
       "    <tr>\n",
       "      <th>2023-01-12</th>\n",
       "      <td>0.708665</td>\n",
       "      <td>0.021725</td>\n",
       "      <td>-0.812371</td>\n",
       "    </tr>\n",
       "  </tbody>\n",
       "</table>\n",
       "</div>"
      ],
      "text/plain": [
       "                   A         B         C\n",
       "2023-01-07 -0.951936 -1.255472  1.103251\n",
       "2023-01-08  0.647139  0.956639 -0.847367\n",
       "2023-01-09  1.210851 -0.512944 -0.679721\n",
       "2023-01-10 -0.647855 -0.281482  0.099729\n",
       "2023-01-11 -0.096727 -0.699410 -1.101938\n",
       "2023-01-12  0.708665  0.021725 -0.812371"
      ]
     },
     "execution_count": 50,
     "metadata": {},
     "output_type": "execute_result"
    }
   ],
   "source": [
    "dff[6:]"
   ]
  },
  {
   "cell_type": "code",
   "execution_count": 51,
   "id": "24a69614",
   "metadata": {},
   "outputs": [
    {
     "data": {
      "text/html": [
       "<div>\n",
       "<style scoped>\n",
       "    .dataframe tbody tr th:only-of-type {\n",
       "        vertical-align: middle;\n",
       "    }\n",
       "\n",
       "    .dataframe tbody tr th {\n",
       "        vertical-align: top;\n",
       "    }\n",
       "\n",
       "    .dataframe thead th {\n",
       "        text-align: right;\n",
       "    }\n",
       "</style>\n",
       "<table border=\"1\" class=\"dataframe\">\n",
       "  <thead>\n",
       "    <tr style=\"text-align: right;\">\n",
       "      <th></th>\n",
       "      <th>A</th>\n",
       "      <th>B</th>\n",
       "      <th>C</th>\n",
       "    </tr>\n",
       "  </thead>\n",
       "  <tbody>\n",
       "    <tr>\n",
       "      <th>2023-01-01</th>\n",
       "      <td>NaN</td>\n",
       "      <td>NaN</td>\n",
       "      <td>NaN</td>\n",
       "    </tr>\n",
       "    <tr>\n",
       "      <th>2023-01-02</th>\n",
       "      <td>NaN</td>\n",
       "      <td>NaN</td>\n",
       "      <td>NaN</td>\n",
       "    </tr>\n",
       "    <tr>\n",
       "      <th>2023-01-03</th>\n",
       "      <td>NaN</td>\n",
       "      <td>NaN</td>\n",
       "      <td>NaN</td>\n",
       "    </tr>\n",
       "    <tr>\n",
       "      <th>2023-01-04</th>\n",
       "      <td>NaN</td>\n",
       "      <td>NaN</td>\n",
       "      <td>NaN</td>\n",
       "    </tr>\n",
       "    <tr>\n",
       "      <th>2023-01-05</th>\n",
       "      <td>NaN</td>\n",
       "      <td>NaN</td>\n",
       "      <td>NaN</td>\n",
       "    </tr>\n",
       "    <tr>\n",
       "      <th>2023-01-06</th>\n",
       "      <td>NaN</td>\n",
       "      <td>NaN</td>\n",
       "      <td>NaN</td>\n",
       "    </tr>\n",
       "    <tr>\n",
       "      <th>2023-01-07</th>\n",
       "      <td>NaN</td>\n",
       "      <td>NaN</td>\n",
       "      <td>NaN</td>\n",
       "    </tr>\n",
       "    <tr>\n",
       "      <th>2023-01-08</th>\n",
       "      <td>NaN</td>\n",
       "      <td>NaN</td>\n",
       "      <td>NaN</td>\n",
       "    </tr>\n",
       "    <tr>\n",
       "      <th>2023-01-09</th>\n",
       "      <td>NaN</td>\n",
       "      <td>NaN</td>\n",
       "      <td>NaN</td>\n",
       "    </tr>\n",
       "    <tr>\n",
       "      <th>2023-01-10</th>\n",
       "      <td>NaN</td>\n",
       "      <td>NaN</td>\n",
       "      <td>NaN</td>\n",
       "    </tr>\n",
       "    <tr>\n",
       "      <th>2023-01-11</th>\n",
       "      <td>NaN</td>\n",
       "      <td>NaN</td>\n",
       "      <td>NaN</td>\n",
       "    </tr>\n",
       "    <tr>\n",
       "      <th>2023-01-12</th>\n",
       "      <td>NaN</td>\n",
       "      <td>NaN</td>\n",
       "      <td>NaN</td>\n",
       "    </tr>\n",
       "  </tbody>\n",
       "</table>\n",
       "</div>"
      ],
      "text/plain": [
       "             A   B   C\n",
       "2023-01-01 NaN NaN NaN\n",
       "2023-01-02 NaN NaN NaN\n",
       "2023-01-03 NaN NaN NaN\n",
       "2023-01-04 NaN NaN NaN\n",
       "2023-01-05 NaN NaN NaN\n",
       "2023-01-06 NaN NaN NaN\n",
       "2023-01-07 NaN NaN NaN\n",
       "2023-01-08 NaN NaN NaN\n",
       "2023-01-09 NaN NaN NaN\n",
       "2023-01-10 NaN NaN NaN\n",
       "2023-01-11 NaN NaN NaN\n",
       "2023-01-12 NaN NaN NaN"
      ]
     },
     "execution_count": 51,
     "metadata": {},
     "output_type": "execute_result"
    }
   ],
   "source": [
    "add=dff[:6]+dff[6:]\n",
    "add"
   ]
  },
  {
   "cell_type": "code",
   "execution_count": 52,
   "id": "6fe01ca6",
   "metadata": {},
   "outputs": [],
   "source": [
    "dff.columns=[x.lower() for x in dff.columns]"
   ]
  },
  {
   "cell_type": "code",
   "execution_count": 53,
   "id": "69236026",
   "metadata": {},
   "outputs": [
    {
     "data": {
      "text/html": [
       "<div>\n",
       "<style scoped>\n",
       "    .dataframe tbody tr th:only-of-type {\n",
       "        vertical-align: middle;\n",
       "    }\n",
       "\n",
       "    .dataframe tbody tr th {\n",
       "        vertical-align: top;\n",
       "    }\n",
       "\n",
       "    .dataframe thead th {\n",
       "        text-align: right;\n",
       "    }\n",
       "</style>\n",
       "<table border=\"1\" class=\"dataframe\">\n",
       "  <thead>\n",
       "    <tr style=\"text-align: right;\">\n",
       "      <th></th>\n",
       "      <th>a</th>\n",
       "      <th>b</th>\n",
       "      <th>c</th>\n",
       "    </tr>\n",
       "  </thead>\n",
       "  <tbody>\n",
       "    <tr>\n",
       "      <th>2023-01-01</th>\n",
       "      <td>0.826952</td>\n",
       "      <td>-1.185661</td>\n",
       "      <td>0.986279</td>\n",
       "    </tr>\n",
       "    <tr>\n",
       "      <th>2023-01-02</th>\n",
       "      <td>1.528088</td>\n",
       "      <td>1.245082</td>\n",
       "      <td>-0.473378</td>\n",
       "    </tr>\n",
       "    <tr>\n",
       "      <th>2023-01-03</th>\n",
       "      <td>0.705479</td>\n",
       "      <td>0.788234</td>\n",
       "      <td>0.008209</td>\n",
       "    </tr>\n",
       "    <tr>\n",
       "      <th>2023-01-04</th>\n",
       "      <td>-0.856181</td>\n",
       "      <td>0.903249</td>\n",
       "      <td>-0.095945</td>\n",
       "    </tr>\n",
       "    <tr>\n",
       "      <th>2023-01-05</th>\n",
       "      <td>-0.855758</td>\n",
       "      <td>0.292784</td>\n",
       "      <td>-0.374875</td>\n",
       "    </tr>\n",
       "    <tr>\n",
       "      <th>2023-01-06</th>\n",
       "      <td>-1.675706</td>\n",
       "      <td>-0.303232</td>\n",
       "      <td>-0.565420</td>\n",
       "    </tr>\n",
       "    <tr>\n",
       "      <th>2023-01-07</th>\n",
       "      <td>-0.951936</td>\n",
       "      <td>-1.255472</td>\n",
       "      <td>1.103251</td>\n",
       "    </tr>\n",
       "    <tr>\n",
       "      <th>2023-01-08</th>\n",
       "      <td>0.647139</td>\n",
       "      <td>0.956639</td>\n",
       "      <td>-0.847367</td>\n",
       "    </tr>\n",
       "    <tr>\n",
       "      <th>2023-01-09</th>\n",
       "      <td>1.210851</td>\n",
       "      <td>-0.512944</td>\n",
       "      <td>-0.679721</td>\n",
       "    </tr>\n",
       "    <tr>\n",
       "      <th>2023-01-10</th>\n",
       "      <td>-0.647855</td>\n",
       "      <td>-0.281482</td>\n",
       "      <td>0.099729</td>\n",
       "    </tr>\n",
       "    <tr>\n",
       "      <th>2023-01-11</th>\n",
       "      <td>-0.096727</td>\n",
       "      <td>-0.699410</td>\n",
       "      <td>-1.101938</td>\n",
       "    </tr>\n",
       "    <tr>\n",
       "      <th>2023-01-12</th>\n",
       "      <td>0.708665</td>\n",
       "      <td>0.021725</td>\n",
       "      <td>-0.812371</td>\n",
       "    </tr>\n",
       "  </tbody>\n",
       "</table>\n",
       "</div>"
      ],
      "text/plain": [
       "                   a         b         c\n",
       "2023-01-01  0.826952 -1.185661  0.986279\n",
       "2023-01-02  1.528088  1.245082 -0.473378\n",
       "2023-01-03  0.705479  0.788234  0.008209\n",
       "2023-01-04 -0.856181  0.903249 -0.095945\n",
       "2023-01-05 -0.855758  0.292784 -0.374875\n",
       "2023-01-06 -1.675706 -0.303232 -0.565420\n",
       "2023-01-07 -0.951936 -1.255472  1.103251\n",
       "2023-01-08  0.647139  0.956639 -0.847367\n",
       "2023-01-09  1.210851 -0.512944 -0.679721\n",
       "2023-01-10 -0.647855 -0.281482  0.099729\n",
       "2023-01-11 -0.096727 -0.699410 -1.101938\n",
       "2023-01-12  0.708665  0.021725 -0.812371"
      ]
     },
     "execution_count": 53,
     "metadata": {},
     "output_type": "execute_result"
    }
   ],
   "source": [
    "dff"
   ]
  },
  {
   "cell_type": "code",
   "execution_count": 54,
   "id": "b6f57e92",
   "metadata": {},
   "outputs": [
    {
     "data": {
      "text/html": [
       "<div>\n",
       "<style scoped>\n",
       "    .dataframe tbody tr th:only-of-type {\n",
       "        vertical-align: middle;\n",
       "    }\n",
       "\n",
       "    .dataframe tbody tr th {\n",
       "        vertical-align: top;\n",
       "    }\n",
       "\n",
       "    .dataframe thead th {\n",
       "        text-align: right;\n",
       "    }\n",
       "</style>\n",
       "<table border=\"1\" class=\"dataframe\">\n",
       "  <thead>\n",
       "    <tr style=\"text-align: right;\">\n",
       "      <th></th>\n",
       "      <th>A</th>\n",
       "      <th>B</th>\n",
       "      <th>C</th>\n",
       "    </tr>\n",
       "  </thead>\n",
       "  <tbody>\n",
       "    <tr>\n",
       "      <th>2023-01-01</th>\n",
       "      <td>NaN</td>\n",
       "      <td>NaN</td>\n",
       "      <td>NaN</td>\n",
       "    </tr>\n",
       "    <tr>\n",
       "      <th>2023-01-02</th>\n",
       "      <td>NaN</td>\n",
       "      <td>NaN</td>\n",
       "      <td>NaN</td>\n",
       "    </tr>\n",
       "    <tr>\n",
       "      <th>2023-01-03</th>\n",
       "      <td>NaN</td>\n",
       "      <td>NaN</td>\n",
       "      <td>NaN</td>\n",
       "    </tr>\n",
       "    <tr>\n",
       "      <th>2023-01-04</th>\n",
       "      <td>NaN</td>\n",
       "      <td>NaN</td>\n",
       "      <td>NaN</td>\n",
       "    </tr>\n",
       "    <tr>\n",
       "      <th>2023-01-05</th>\n",
       "      <td>NaN</td>\n",
       "      <td>NaN</td>\n",
       "      <td>NaN</td>\n",
       "    </tr>\n",
       "    <tr>\n",
       "      <th>2023-01-06</th>\n",
       "      <td>NaN</td>\n",
       "      <td>NaN</td>\n",
       "      <td>NaN</td>\n",
       "    </tr>\n",
       "    <tr>\n",
       "      <th>2023-01-07</th>\n",
       "      <td>NaN</td>\n",
       "      <td>NaN</td>\n",
       "      <td>NaN</td>\n",
       "    </tr>\n",
       "    <tr>\n",
       "      <th>2023-01-08</th>\n",
       "      <td>NaN</td>\n",
       "      <td>NaN</td>\n",
       "      <td>NaN</td>\n",
       "    </tr>\n",
       "    <tr>\n",
       "      <th>2023-01-09</th>\n",
       "      <td>NaN</td>\n",
       "      <td>NaN</td>\n",
       "      <td>NaN</td>\n",
       "    </tr>\n",
       "    <tr>\n",
       "      <th>2023-01-10</th>\n",
       "      <td>NaN</td>\n",
       "      <td>NaN</td>\n",
       "      <td>NaN</td>\n",
       "    </tr>\n",
       "    <tr>\n",
       "      <th>2023-01-11</th>\n",
       "      <td>NaN</td>\n",
       "      <td>NaN</td>\n",
       "      <td>NaN</td>\n",
       "    </tr>\n",
       "    <tr>\n",
       "      <th>2023-01-12</th>\n",
       "      <td>NaN</td>\n",
       "      <td>NaN</td>\n",
       "      <td>NaN</td>\n",
       "    </tr>\n",
       "  </tbody>\n",
       "</table>\n",
       "</div>"
      ],
      "text/plain": [
       "             A   B   C\n",
       "2023-01-01 NaN NaN NaN\n",
       "2023-01-02 NaN NaN NaN\n",
       "2023-01-03 NaN NaN NaN\n",
       "2023-01-04 NaN NaN NaN\n",
       "2023-01-05 NaN NaN NaN\n",
       "2023-01-06 NaN NaN NaN\n",
       "2023-01-07 NaN NaN NaN\n",
       "2023-01-08 NaN NaN NaN\n",
       "2023-01-09 NaN NaN NaN\n",
       "2023-01-10 NaN NaN NaN\n",
       "2023-01-11 NaN NaN NaN\n",
       "2023-01-12 NaN NaN NaN"
      ]
     },
     "execution_count": 54,
     "metadata": {},
     "output_type": "execute_result"
    }
   ],
   "source": [
    "add"
   ]
  },
  {
   "cell_type": "code",
   "execution_count": 55,
   "id": "b5d13813",
   "metadata": {},
   "outputs": [],
   "source": [
    "add.columns=[k.lower() for k in add.columns]"
   ]
  },
  {
   "cell_type": "code",
   "execution_count": 56,
   "id": "ab2931c9",
   "metadata": {
    "scrolled": true
   },
   "outputs": [
    {
     "data": {
      "text/html": [
       "<div>\n",
       "<style scoped>\n",
       "    .dataframe tbody tr th:only-of-type {\n",
       "        vertical-align: middle;\n",
       "    }\n",
       "\n",
       "    .dataframe tbody tr th {\n",
       "        vertical-align: top;\n",
       "    }\n",
       "\n",
       "    .dataframe thead th {\n",
       "        text-align: right;\n",
       "    }\n",
       "</style>\n",
       "<table border=\"1\" class=\"dataframe\">\n",
       "  <thead>\n",
       "    <tr style=\"text-align: right;\">\n",
       "      <th></th>\n",
       "      <th>a</th>\n",
       "      <th>b</th>\n",
       "      <th>c</th>\n",
       "    </tr>\n",
       "  </thead>\n",
       "  <tbody>\n",
       "    <tr>\n",
       "      <th>2023-01-01</th>\n",
       "      <td>NaN</td>\n",
       "      <td>NaN</td>\n",
       "      <td>NaN</td>\n",
       "    </tr>\n",
       "    <tr>\n",
       "      <th>2023-01-02</th>\n",
       "      <td>NaN</td>\n",
       "      <td>NaN</td>\n",
       "      <td>NaN</td>\n",
       "    </tr>\n",
       "    <tr>\n",
       "      <th>2023-01-03</th>\n",
       "      <td>NaN</td>\n",
       "      <td>NaN</td>\n",
       "      <td>NaN</td>\n",
       "    </tr>\n",
       "    <tr>\n",
       "      <th>2023-01-04</th>\n",
       "      <td>NaN</td>\n",
       "      <td>NaN</td>\n",
       "      <td>NaN</td>\n",
       "    </tr>\n",
       "    <tr>\n",
       "      <th>2023-01-05</th>\n",
       "      <td>NaN</td>\n",
       "      <td>NaN</td>\n",
       "      <td>NaN</td>\n",
       "    </tr>\n",
       "    <tr>\n",
       "      <th>2023-01-06</th>\n",
       "      <td>NaN</td>\n",
       "      <td>NaN</td>\n",
       "      <td>NaN</td>\n",
       "    </tr>\n",
       "    <tr>\n",
       "      <th>2023-01-07</th>\n",
       "      <td>NaN</td>\n",
       "      <td>NaN</td>\n",
       "      <td>NaN</td>\n",
       "    </tr>\n",
       "    <tr>\n",
       "      <th>2023-01-08</th>\n",
       "      <td>NaN</td>\n",
       "      <td>NaN</td>\n",
       "      <td>NaN</td>\n",
       "    </tr>\n",
       "    <tr>\n",
       "      <th>2023-01-09</th>\n",
       "      <td>NaN</td>\n",
       "      <td>NaN</td>\n",
       "      <td>NaN</td>\n",
       "    </tr>\n",
       "    <tr>\n",
       "      <th>2023-01-10</th>\n",
       "      <td>NaN</td>\n",
       "      <td>NaN</td>\n",
       "      <td>NaN</td>\n",
       "    </tr>\n",
       "    <tr>\n",
       "      <th>2023-01-11</th>\n",
       "      <td>NaN</td>\n",
       "      <td>NaN</td>\n",
       "      <td>NaN</td>\n",
       "    </tr>\n",
       "    <tr>\n",
       "      <th>2023-01-12</th>\n",
       "      <td>NaN</td>\n",
       "      <td>NaN</td>\n",
       "      <td>NaN</td>\n",
       "    </tr>\n",
       "  </tbody>\n",
       "</table>\n",
       "</div>"
      ],
      "text/plain": [
       "             a   b   c\n",
       "2023-01-01 NaN NaN NaN\n",
       "2023-01-02 NaN NaN NaN\n",
       "2023-01-03 NaN NaN NaN\n",
       "2023-01-04 NaN NaN NaN\n",
       "2023-01-05 NaN NaN NaN\n",
       "2023-01-06 NaN NaN NaN\n",
       "2023-01-07 NaN NaN NaN\n",
       "2023-01-08 NaN NaN NaN\n",
       "2023-01-09 NaN NaN NaN\n",
       "2023-01-10 NaN NaN NaN\n",
       "2023-01-11 NaN NaN NaN\n",
       "2023-01-12 NaN NaN NaN"
      ]
     },
     "execution_count": 56,
     "metadata": {},
     "output_type": "execute_result"
    }
   ],
   "source": [
    "add"
   ]
  },
  {
   "cell_type": "code",
   "execution_count": 57,
   "id": "afd7a261",
   "metadata": {},
   "outputs": [
    {
     "data": {
      "text/html": [
       "<div>\n",
       "<style scoped>\n",
       "    .dataframe tbody tr th:only-of-type {\n",
       "        vertical-align: middle;\n",
       "    }\n",
       "\n",
       "    .dataframe tbody tr th {\n",
       "        vertical-align: top;\n",
       "    }\n",
       "\n",
       "    .dataframe thead th {\n",
       "        text-align: right;\n",
       "    }\n",
       "</style>\n",
       "<table border=\"1\" class=\"dataframe\">\n",
       "  <thead>\n",
       "    <tr style=\"text-align: right;\">\n",
       "      <th></th>\n",
       "      <th>a</th>\n",
       "      <th>b</th>\n",
       "      <th>c</th>\n",
       "    </tr>\n",
       "  </thead>\n",
       "  <tbody>\n",
       "    <tr>\n",
       "      <th>2023-01-01</th>\n",
       "      <td>0.826952</td>\n",
       "      <td>-1.185661</td>\n",
       "      <td>0.986279</td>\n",
       "    </tr>\n",
       "    <tr>\n",
       "      <th>2023-01-02</th>\n",
       "      <td>1.528088</td>\n",
       "      <td>1.245082</td>\n",
       "      <td>-0.473378</td>\n",
       "    </tr>\n",
       "    <tr>\n",
       "      <th>2023-01-03</th>\n",
       "      <td>0.705479</td>\n",
       "      <td>0.788234</td>\n",
       "      <td>0.008209</td>\n",
       "    </tr>\n",
       "    <tr>\n",
       "      <th>2023-01-04</th>\n",
       "      <td>-0.856181</td>\n",
       "      <td>0.903249</td>\n",
       "      <td>-0.095945</td>\n",
       "    </tr>\n",
       "    <tr>\n",
       "      <th>2023-01-05</th>\n",
       "      <td>-0.855758</td>\n",
       "      <td>0.292784</td>\n",
       "      <td>-0.374875</td>\n",
       "    </tr>\n",
       "    <tr>\n",
       "      <th>2023-01-06</th>\n",
       "      <td>-1.675706</td>\n",
       "      <td>-0.303232</td>\n",
       "      <td>-0.565420</td>\n",
       "    </tr>\n",
       "    <tr>\n",
       "      <th>2023-01-07</th>\n",
       "      <td>-0.951936</td>\n",
       "      <td>-1.255472</td>\n",
       "      <td>1.103251</td>\n",
       "    </tr>\n",
       "    <tr>\n",
       "      <th>2023-01-08</th>\n",
       "      <td>0.647139</td>\n",
       "      <td>0.956639</td>\n",
       "      <td>-0.847367</td>\n",
       "    </tr>\n",
       "    <tr>\n",
       "      <th>2023-01-09</th>\n",
       "      <td>1.210851</td>\n",
       "      <td>-0.512944</td>\n",
       "      <td>-0.679721</td>\n",
       "    </tr>\n",
       "    <tr>\n",
       "      <th>2023-01-10</th>\n",
       "      <td>-0.647855</td>\n",
       "      <td>-0.281482</td>\n",
       "      <td>0.099729</td>\n",
       "    </tr>\n",
       "    <tr>\n",
       "      <th>2023-01-11</th>\n",
       "      <td>-0.096727</td>\n",
       "      <td>-0.699410</td>\n",
       "      <td>-1.101938</td>\n",
       "    </tr>\n",
       "    <tr>\n",
       "      <th>2023-01-12</th>\n",
       "      <td>0.708665</td>\n",
       "      <td>0.021725</td>\n",
       "      <td>-0.812371</td>\n",
       "    </tr>\n",
       "  </tbody>\n",
       "</table>\n",
       "</div>"
      ],
      "text/plain": [
       "                   a         b         c\n",
       "2023-01-01  0.826952 -1.185661  0.986279\n",
       "2023-01-02  1.528088  1.245082 -0.473378\n",
       "2023-01-03  0.705479  0.788234  0.008209\n",
       "2023-01-04 -0.856181  0.903249 -0.095945\n",
       "2023-01-05 -0.855758  0.292784 -0.374875\n",
       "2023-01-06 -1.675706 -0.303232 -0.565420\n",
       "2023-01-07 -0.951936 -1.255472  1.103251\n",
       "2023-01-08  0.647139  0.956639 -0.847367\n",
       "2023-01-09  1.210851 -0.512944 -0.679721\n",
       "2023-01-10 -0.647855 -0.281482  0.099729\n",
       "2023-01-11 -0.096727 -0.699410 -1.101938\n",
       "2023-01-12  0.708665  0.021725 -0.812371"
      ]
     },
     "execution_count": 57,
     "metadata": {},
     "output_type": "execute_result"
    }
   ],
   "source": [
    "dff"
   ]
  },
  {
   "cell_type": "code",
   "execution_count": 69,
   "id": "d17bab10",
   "metadata": {},
   "outputs": [
    {
     "ename": "AttributeError",
     "evalue": "'DataFrame' object has no attribute 'dtype'",
     "output_type": "error",
     "traceback": [
      "\u001b[0;31m---------------------------------------------------------------------------\u001b[0m",
      "\u001b[0;31mAttributeError\u001b[0m                            Traceback (most recent call last)",
      "Cell \u001b[0;32mIn[69], line 1\u001b[0m\n\u001b[0;32m----> 1\u001b[0m dff\u001b[38;5;241m.\u001b[39mdtype\n",
      "File \u001b[0;32m~/anaconda3/lib/python3.11/site-packages/pandas/core/generic.py:5902\u001b[0m, in \u001b[0;36mNDFrame.__getattr__\u001b[0;34m(self, name)\u001b[0m\n\u001b[1;32m   5895\u001b[0m \u001b[38;5;28;01mif\u001b[39;00m (\n\u001b[1;32m   5896\u001b[0m     name \u001b[38;5;129;01mnot\u001b[39;00m \u001b[38;5;129;01min\u001b[39;00m \u001b[38;5;28mself\u001b[39m\u001b[38;5;241m.\u001b[39m_internal_names_set\n\u001b[1;32m   5897\u001b[0m     \u001b[38;5;129;01mand\u001b[39;00m name \u001b[38;5;129;01mnot\u001b[39;00m \u001b[38;5;129;01min\u001b[39;00m \u001b[38;5;28mself\u001b[39m\u001b[38;5;241m.\u001b[39m_metadata\n\u001b[1;32m   5898\u001b[0m     \u001b[38;5;129;01mand\u001b[39;00m name \u001b[38;5;129;01mnot\u001b[39;00m \u001b[38;5;129;01min\u001b[39;00m \u001b[38;5;28mself\u001b[39m\u001b[38;5;241m.\u001b[39m_accessors\n\u001b[1;32m   5899\u001b[0m     \u001b[38;5;129;01mand\u001b[39;00m \u001b[38;5;28mself\u001b[39m\u001b[38;5;241m.\u001b[39m_info_axis\u001b[38;5;241m.\u001b[39m_can_hold_identifiers_and_holds_name(name)\n\u001b[1;32m   5900\u001b[0m ):\n\u001b[1;32m   5901\u001b[0m     \u001b[38;5;28;01mreturn\u001b[39;00m \u001b[38;5;28mself\u001b[39m[name]\n\u001b[0;32m-> 5902\u001b[0m \u001b[38;5;28;01mreturn\u001b[39;00m \u001b[38;5;28mobject\u001b[39m\u001b[38;5;241m.\u001b[39m\u001b[38;5;21m__getattribute__\u001b[39m(\u001b[38;5;28mself\u001b[39m, name)\n",
      "\u001b[0;31mAttributeError\u001b[0m: 'DataFrame' object has no attribute 'dtype'"
     ]
    }
   ],
   "source": [
    "dff.dtype"
   ]
  },
  {
   "cell_type": "code",
   "execution_count": 68,
   "id": "3109da79",
   "metadata": {
    "scrolled": true
   },
   "outputs": [],
   "source": [
    "dff.columns=[o.upper() for o in dff.columns]"
   ]
  },
  {
   "cell_type": "code",
   "execution_count": 61,
   "id": "a262d4e6",
   "metadata": {},
   "outputs": [
    {
     "data": {
      "text/plain": [
       "<DatetimeArray>\n",
       "['2023-01-01 00:00:00', '2023-01-02 00:00:00', '2023-01-03 00:00:00',\n",
       " '2023-01-04 00:00:00', '2023-01-05 00:00:00', '2023-01-06 00:00:00',\n",
       " '2023-01-07 00:00:00', '2023-01-08 00:00:00', '2023-01-09 00:00:00',\n",
       " '2023-01-10 00:00:00', '2023-01-11 00:00:00', '2023-01-12 00:00:00']\n",
       "Length: 12, dtype: datetime64[ns]"
      ]
     },
     "execution_count": 61,
     "metadata": {},
     "output_type": "execute_result"
    }
   ],
   "source": [
    "# for DataFrame\n",
    "dff.index.array"
   ]
  },
  {
   "cell_type": "code",
   "execution_count": 66,
   "id": "e774033f",
   "metadata": {},
   "outputs": [],
   "source": [
    "#for Series"
   ]
  },
  {
   "cell_type": "code",
   "execution_count": 67,
   "id": "a256bb85",
   "metadata": {},
   "outputs": [
    {
     "data": {
      "text/plain": [
       "dtype('<M8[ns]')"
      ]
     },
     "execution_count": 67,
     "metadata": {},
     "output_type": "execute_result"
    }
   ],
   "source": [
    "index_date.dtype"
   ]
  },
  {
   "cell_type": "code",
   "execution_count": 64,
   "id": "f1c0c5de",
   "metadata": {},
   "outputs": [
    {
     "data": {
      "text/plain": [
       "<DatetimeArray>\n",
       "['2023-01-01 00:00:00', '2023-01-02 00:00:00', '2023-01-03 00:00:00',\n",
       " '2023-01-04 00:00:00', '2023-01-05 00:00:00', '2023-01-06 00:00:00',\n",
       " '2023-01-07 00:00:00', '2023-01-08 00:00:00', '2023-01-09 00:00:00',\n",
       " '2023-01-10 00:00:00', '2023-01-11 00:00:00', '2023-01-12 00:00:00']\n",
       "Length: 12, dtype: datetime64[ns]"
      ]
     },
     "execution_count": 64,
     "metadata": {},
     "output_type": "execute_result"
    }
   ],
   "source": [
    "index_date.array"
   ]
  },
  {
   "cell_type": "code",
   "execution_count": 70,
   "id": "75b368da",
   "metadata": {},
   "outputs": [
    {
     "data": {
      "text/plain": [
       "2023-01-01   -0.253340\n",
       "2023-01-02   -1.545299\n",
       "2023-01-03    0.534236\n",
       "2023-01-04   -2.569748\n",
       "2023-01-05   -1.222759\n",
       "2023-01-06   -0.960041\n",
       "2023-01-07    0.775100\n",
       "2023-01-08    0.658634\n",
       "2023-01-09    0.292983\n",
       "2023-01-10    0.981745\n",
       "2023-01-11    0.744370\n",
       "2023-01-12   -2.791002\n",
       "Freq: D, dtype: float64"
      ]
     },
     "execution_count": 70,
     "metadata": {},
     "output_type": "execute_result"
    }
   ],
   "source": [
    "s"
   ]
  },
  {
   "cell_type": "code",
   "execution_count": 71,
   "id": "e0c3441c",
   "metadata": {},
   "outputs": [
    {
     "data": {
      "text/plain": [
       "array([-0.25333952, -1.54529917,  0.53423589, -2.5697483 , -1.22275879,\n",
       "       -0.9600414 ,  0.77510023,  0.65863439,  0.29298279,  0.98174452,\n",
       "        0.74437013, -2.79100238])"
      ]
     },
     "execution_count": 71,
     "metadata": {},
     "output_type": "execute_result"
    }
   ],
   "source": [
    "s.to_numpy()"
   ]
  },
  {
   "cell_type": "code",
   "execution_count": 72,
   "id": "1b2be488",
   "metadata": {},
   "outputs": [
    {
     "data": {
      "text/plain": [
       "array([-0.25333952, -1.54529917,  0.53423589, -2.5697483 , -1.22275879,\n",
       "       -0.9600414 ,  0.77510023,  0.65863439,  0.29298279,  0.98174452,\n",
       "        0.74437013, -2.79100238])"
      ]
     },
     "execution_count": 72,
     "metadata": {},
     "output_type": "execute_result"
    }
   ],
   "source": [
    "np.asarray(s)"
   ]
  },
  {
   "cell_type": "code",
   "execution_count": 73,
   "id": "b29dc5c2",
   "metadata": {},
   "outputs": [
    {
     "data": {
      "text/plain": [
       "array([[ 0.82695199, -1.18566143,  0.98627899],\n",
       "       [ 1.52808772,  1.24508247, -0.47337843],\n",
       "       [ 0.70547928,  0.78823371,  0.0082093 ],\n",
       "       [-0.85618059,  0.90324925, -0.09594546],\n",
       "       [-0.85575757,  0.29278351, -0.37487462],\n",
       "       [-1.67570631, -0.30323158, -0.5654203 ],\n",
       "       [-0.95193632, -1.2554724 ,  1.10325053],\n",
       "       [ 0.64713939,  0.95663923, -0.84736708],\n",
       "       [ 1.21085101, -0.51294427, -0.67972079],\n",
       "       [-0.64785451, -0.28148168,  0.09972896],\n",
       "       [-0.09672696, -0.69941036, -1.10193761],\n",
       "       [ 0.70866517,  0.02172497, -0.81237123]])"
      ]
     },
     "execution_count": 73,
     "metadata": {},
     "output_type": "execute_result"
    }
   ],
   "source": [
    "np.asarray(dff)"
   ]
  },
  {
   "cell_type": "code",
   "execution_count": 75,
   "id": "d1a1db8c",
   "metadata": {},
   "outputs": [
    {
     "data": {
      "text/plain": [
       "array([[ 0.82695199, -1.18566143,  0.98627899],\n",
       "       [ 1.52808772,  1.24508247, -0.47337843],\n",
       "       [ 0.70547928,  0.78823371,  0.0082093 ],\n",
       "       [-0.85618059,  0.90324925, -0.09594546],\n",
       "       [-0.85575757,  0.29278351, -0.37487462],\n",
       "       [-1.67570631, -0.30323158, -0.5654203 ],\n",
       "       [-0.95193632, -1.2554724 ,  1.10325053],\n",
       "       [ 0.64713939,  0.95663923, -0.84736708],\n",
       "       [ 1.21085101, -0.51294427, -0.67972079],\n",
       "       [-0.64785451, -0.28148168,  0.09972896],\n",
       "       [-0.09672696, -0.69941036, -1.10193761],\n",
       "       [ 0.70866517,  0.02172497, -0.81237123]])"
      ]
     },
     "execution_count": 75,
     "metadata": {},
     "output_type": "execute_result"
    }
   ],
   "source": [
    "dff.to_numpy()"
   ]
  },
  {
   "cell_type": "code",
   "execution_count": 76,
   "id": "19e9bfbf",
   "metadata": {},
   "outputs": [
    {
     "name": "stdout",
     "output_type": "stream",
     "text": [
      "<class 'pandas.core.frame.DataFrame'>\n",
      "DatetimeIndex: 12 entries, 2023-01-01 to 2023-01-12\n",
      "Freq: D\n",
      "Data columns (total 3 columns):\n",
      " #   Column  Non-Null Count  Dtype  \n",
      "---  ------  --------------  -----  \n",
      " 0   A       12 non-null     float64\n",
      " 1   B       12 non-null     float64\n",
      " 2   C       12 non-null     float64\n",
      "dtypes: float64(3)\n",
      "memory usage: 384.0 bytes\n"
     ]
    }
   ],
   "source": [
    "dff.info()"
   ]
  },
  {
   "cell_type": "code",
   "execution_count": 81,
   "id": "0543fea2",
   "metadata": {},
   "outputs": [
    {
     "data": {
      "text/plain": [
       "0   2005-01-05 00:00:00+01:00\n",
       "1   2005-01-06 00:00:00+01:00\n",
       "dtype: datetime64[ns, CET]"
      ]
     },
     "execution_count": 81,
     "metadata": {},
     "output_type": "execute_result"
    }
   ],
   "source": [
    "ser = pd.Series(pd.date_range(\"01/05/2005\", periods=2, tz=\"CET\"))\n",
    "ser"
   ]
  },
  {
   "cell_type": "code",
   "execution_count": 85,
   "id": "49c1875f",
   "metadata": {},
   "outputs": [
    {
     "data": {
      "text/plain": [
       "array([Timestamp('2005-01-05 00:00:00+0100', tz='CET'),\n",
       "       Timestamp('2005-01-06 00:00:00+0100', tz='CET')], dtype=object)"
      ]
     },
     "execution_count": 85,
     "metadata": {},
     "output_type": "execute_result"
    }
   ],
   "source": [
    "ser.to_numpy(dtype=\"object\")"
   ]
  },
  {
   "cell_type": "code",
   "execution_count": 86,
   "id": "74260be5",
   "metadata": {},
   "outputs": [],
   "source": [
    "# or tthrown away datetime64[ns]"
   ]
  },
  {
   "cell_type": "code",
   "execution_count": 87,
   "id": "3974814b",
   "metadata": {},
   "outputs": [
    {
     "data": {
      "text/plain": [
       "array(['2005-01-04T23:00:00.000000000', '2005-01-05T23:00:00.000000000'],\n",
       "      dtype='datetime64[ns]')"
      ]
     },
     "execution_count": 87,
     "metadata": {},
     "output_type": "execute_result"
    }
   ],
   "source": [
    "ser.to_numpy(dtype=\"datetime64[ns]\")"
   ]
  },
  {
   "cell_type": "code",
   "execution_count": 97,
   "id": "b05ee559",
   "metadata": {},
   "outputs": [],
   "source": [
    "pd.set_option(\"compute.use_bottleneck\", False)\n",
    "pd.set_option(\"compute.use_numexpr\", False)"
   ]
  },
  {
   "cell_type": "code",
   "execution_count": 98,
   "id": "14f3ae5e",
   "metadata": {},
   "outputs": [
    {
     "data": {
      "text/html": [
       "<div>\n",
       "<style scoped>\n",
       "    .dataframe tbody tr th:only-of-type {\n",
       "        vertical-align: middle;\n",
       "    }\n",
       "\n",
       "    .dataframe tbody tr th {\n",
       "        vertical-align: top;\n",
       "    }\n",
       "\n",
       "    .dataframe thead th {\n",
       "        text-align: right;\n",
       "    }\n",
       "</style>\n",
       "<table border=\"1\" class=\"dataframe\">\n",
       "  <thead>\n",
       "    <tr style=\"text-align: right;\">\n",
       "      <th></th>\n",
       "      <th>A</th>\n",
       "      <th>B</th>\n",
       "      <th>C</th>\n",
       "    </tr>\n",
       "  </thead>\n",
       "  <tbody>\n",
       "    <tr>\n",
       "      <th>2023-01-01</th>\n",
       "      <td>0.826952</td>\n",
       "      <td>-1.185661</td>\n",
       "      <td>0.986279</td>\n",
       "    </tr>\n",
       "    <tr>\n",
       "      <th>2023-01-02</th>\n",
       "      <td>1.528088</td>\n",
       "      <td>1.245082</td>\n",
       "      <td>-0.473378</td>\n",
       "    </tr>\n",
       "    <tr>\n",
       "      <th>2023-01-03</th>\n",
       "      <td>0.705479</td>\n",
       "      <td>0.788234</td>\n",
       "      <td>0.008209</td>\n",
       "    </tr>\n",
       "    <tr>\n",
       "      <th>2023-01-04</th>\n",
       "      <td>-0.856181</td>\n",
       "      <td>0.903249</td>\n",
       "      <td>-0.095945</td>\n",
       "    </tr>\n",
       "    <tr>\n",
       "      <th>2023-01-05</th>\n",
       "      <td>-0.855758</td>\n",
       "      <td>0.292784</td>\n",
       "      <td>-0.374875</td>\n",
       "    </tr>\n",
       "    <tr>\n",
       "      <th>2023-01-06</th>\n",
       "      <td>-1.675706</td>\n",
       "      <td>-0.303232</td>\n",
       "      <td>-0.565420</td>\n",
       "    </tr>\n",
       "    <tr>\n",
       "      <th>2023-01-07</th>\n",
       "      <td>-0.951936</td>\n",
       "      <td>-1.255472</td>\n",
       "      <td>1.103251</td>\n",
       "    </tr>\n",
       "    <tr>\n",
       "      <th>2023-01-08</th>\n",
       "      <td>0.647139</td>\n",
       "      <td>0.956639</td>\n",
       "      <td>-0.847367</td>\n",
       "    </tr>\n",
       "    <tr>\n",
       "      <th>2023-01-09</th>\n",
       "      <td>1.210851</td>\n",
       "      <td>-0.512944</td>\n",
       "      <td>-0.679721</td>\n",
       "    </tr>\n",
       "    <tr>\n",
       "      <th>2023-01-10</th>\n",
       "      <td>-0.647855</td>\n",
       "      <td>-0.281482</td>\n",
       "      <td>0.099729</td>\n",
       "    </tr>\n",
       "    <tr>\n",
       "      <th>2023-01-11</th>\n",
       "      <td>-0.096727</td>\n",
       "      <td>-0.699410</td>\n",
       "      <td>-1.101938</td>\n",
       "    </tr>\n",
       "    <tr>\n",
       "      <th>2023-01-12</th>\n",
       "      <td>0.708665</td>\n",
       "      <td>0.021725</td>\n",
       "      <td>-0.812371</td>\n",
       "    </tr>\n",
       "  </tbody>\n",
       "</table>\n",
       "</div>"
      ],
      "text/plain": [
       "                   A         B         C\n",
       "2023-01-01  0.826952 -1.185661  0.986279\n",
       "2023-01-02  1.528088  1.245082 -0.473378\n",
       "2023-01-03  0.705479  0.788234  0.008209\n",
       "2023-01-04 -0.856181  0.903249 -0.095945\n",
       "2023-01-05 -0.855758  0.292784 -0.374875\n",
       "2023-01-06 -1.675706 -0.303232 -0.565420\n",
       "2023-01-07 -0.951936 -1.255472  1.103251\n",
       "2023-01-08  0.647139  0.956639 -0.847367\n",
       "2023-01-09  1.210851 -0.512944 -0.679721\n",
       "2023-01-10 -0.647855 -0.281482  0.099729\n",
       "2023-01-11 -0.096727 -0.699410 -1.101938\n",
       "2023-01-12  0.708665  0.021725 -0.812371"
      ]
     },
     "execution_count": 98,
     "metadata": {},
     "output_type": "execute_result"
    }
   ],
   "source": [
    "dff"
   ]
  },
  {
   "cell_type": "code",
   "execution_count": null,
   "id": "3dd167e0",
   "metadata": {},
   "outputs": [],
   "source": []
  },
  {
   "cell_type": "code",
   "execution_count": null,
   "id": "cd8a434a",
   "metadata": {},
   "outputs": [],
   "source": []
  },
  {
   "cell_type": "code",
   "execution_count": 99,
   "id": "bc5c5b4f",
   "metadata": {},
   "outputs": [
    {
     "data": {
      "text/html": [
       "<div>\n",
       "<style scoped>\n",
       "    .dataframe tbody tr th:only-of-type {\n",
       "        vertical-align: middle;\n",
       "    }\n",
       "\n",
       "    .dataframe tbody tr th {\n",
       "        vertical-align: top;\n",
       "    }\n",
       "\n",
       "    .dataframe thead th {\n",
       "        text-align: right;\n",
       "    }\n",
       "</style>\n",
       "<table border=\"1\" class=\"dataframe\">\n",
       "  <thead>\n",
       "    <tr style=\"text-align: right;\">\n",
       "      <th></th>\n",
       "      <th>one</th>\n",
       "      <th>two</th>\n",
       "      <th>three</th>\n",
       "    </tr>\n",
       "  </thead>\n",
       "  <tbody>\n",
       "    <tr>\n",
       "      <th>a</th>\n",
       "      <td>-0.398253</td>\n",
       "      <td>0.281223</td>\n",
       "      <td>NaN</td>\n",
       "    </tr>\n",
       "    <tr>\n",
       "      <th>b</th>\n",
       "      <td>-0.286140</td>\n",
       "      <td>-1.163703</td>\n",
       "      <td>-0.931019</td>\n",
       "    </tr>\n",
       "    <tr>\n",
       "      <th>c</th>\n",
       "      <td>0.504009</td>\n",
       "      <td>0.472196</td>\n",
       "      <td>0.628838</td>\n",
       "    </tr>\n",
       "    <tr>\n",
       "      <th>d</th>\n",
       "      <td>NaN</td>\n",
       "      <td>1.024389</td>\n",
       "      <td>0.425413</td>\n",
       "    </tr>\n",
       "  </tbody>\n",
       "</table>\n",
       "</div>"
      ],
      "text/plain": [
       "        one       two     three\n",
       "a -0.398253  0.281223       NaN\n",
       "b -0.286140 -1.163703 -0.931019\n",
       "c  0.504009  0.472196  0.628838\n",
       "d       NaN  1.024389  0.425413"
      ]
     },
     "execution_count": 99,
     "metadata": {},
     "output_type": "execute_result"
    }
   ],
   "source": [
    "df = pd.DataFrame(\n",
    "    {\n",
    "        \"one\": pd.Series(np.random.randn(3), index=[\"a\", \"b\", \"c\"]),\n",
    "        \"two\": pd.Series(np.random.randn(4), index=[\"a\", \"b\", \"c\", \"d\"]),\n",
    "        \"three\": pd.Series(np.random.randn(3), index=[\"b\", \"c\", \"d\"]),\n",
    "    }\n",
    ")\n",
    "df"
   ]
  },
  {
   "cell_type": "code",
   "execution_count": 103,
   "id": "86d750f7",
   "metadata": {},
   "outputs": [
    {
     "data": {
      "text/plain": [
       "one     -0.286140\n",
       "two     -1.163703\n",
       "three   -0.931019\n",
       "Name: b, dtype: float64"
      ]
     },
     "execution_count": 103,
     "metadata": {},
     "output_type": "execute_result"
    }
   ],
   "source": [
    "row = df.iloc[1]\n",
    "row"
   ]
  },
  {
   "cell_type": "code",
   "execution_count": 104,
   "id": "76c88a51",
   "metadata": {},
   "outputs": [
    {
     "data": {
      "text/plain": [
       "a    0.281223\n",
       "b   -1.163703\n",
       "c    0.472196\n",
       "d    1.024389\n",
       "Name: two, dtype: float64"
      ]
     },
     "execution_count": 104,
     "metadata": {},
     "output_type": "execute_result"
    }
   ],
   "source": [
    "column = df[\"two\"]\n",
    "column"
   ]
  },
  {
   "cell_type": "code",
   "execution_count": 102,
   "id": "75a2b479",
   "metadata": {},
   "outputs": [
    {
     "data": {
      "text/html": [
       "<div>\n",
       "<style scoped>\n",
       "    .dataframe tbody tr th:only-of-type {\n",
       "        vertical-align: middle;\n",
       "    }\n",
       "\n",
       "    .dataframe tbody tr th {\n",
       "        vertical-align: top;\n",
       "    }\n",
       "\n",
       "    .dataframe thead th {\n",
       "        text-align: right;\n",
       "    }\n",
       "</style>\n",
       "<table border=\"1\" class=\"dataframe\">\n",
       "  <thead>\n",
       "    <tr style=\"text-align: right;\">\n",
       "      <th></th>\n",
       "      <th>one</th>\n",
       "      <th>two</th>\n",
       "      <th>three</th>\n",
       "    </tr>\n",
       "  </thead>\n",
       "  <tbody>\n",
       "    <tr>\n",
       "      <th>a</th>\n",
       "      <td>-0.112113</td>\n",
       "      <td>1.444926</td>\n",
       "      <td>NaN</td>\n",
       "    </tr>\n",
       "    <tr>\n",
       "      <th>b</th>\n",
       "      <td>0.000000</td>\n",
       "      <td>0.000000</td>\n",
       "      <td>0.000000</td>\n",
       "    </tr>\n",
       "    <tr>\n",
       "      <th>c</th>\n",
       "      <td>0.790148</td>\n",
       "      <td>1.635899</td>\n",
       "      <td>1.559857</td>\n",
       "    </tr>\n",
       "    <tr>\n",
       "      <th>d</th>\n",
       "      <td>NaN</td>\n",
       "      <td>2.188092</td>\n",
       "      <td>1.356432</td>\n",
       "    </tr>\n",
       "  </tbody>\n",
       "</table>\n",
       "</div>"
      ],
      "text/plain": [
       "        one       two     three\n",
       "a -0.112113  1.444926       NaN\n",
       "b  0.000000  0.000000  0.000000\n",
       "c  0.790148  1.635899  1.559857\n",
       "d       NaN  2.188092  1.356432"
      ]
     },
     "execution_count": 102,
     "metadata": {},
     "output_type": "execute_result"
    }
   ],
   "source": [
    "df.sub(row, axis=\"columns\")"
   ]
  },
  {
   "cell_type": "code",
   "execution_count": null,
   "id": "acaf3500",
   "metadata": {},
   "outputs": [],
   "source": []
  },
  {
   "cell_type": "markdown",
   "id": "a7877be3",
   "metadata": {},
   "source": [
    "# Accelerated operations"
   ]
  },
  {
   "cell_type": "markdown",
   "id": "013fbcaa",
   "metadata": {},
   "source": [
    "These libraries are especially useful when dealing with large data sets, and provide large speedups. numexpr uses smart chunking, caching, and multiple cores. bottleneck is a set of specialized cython routines that are especially fast when dealing with arrays that have nans."
   ]
  },
  {
   "cell_type": "markdown",
   "id": "005b8b44",
   "metadata": {},
   "source": [
    "see the setting \n",
    "pd.set_option(\"compute.use_bottleneck\", False)\n",
    "pd.set_option(\"compute.use_numexpr\", False)"
   ]
  },
  {
   "cell_type": "code",
   "execution_count": null,
   "id": "c2388fd6",
   "metadata": {},
   "outputs": [],
   "source": [
    "pd.set_option(\"compute.use_bottleneck\",False)\n",
    "pd.ser_option(\"\")"
   ]
  },
  {
   "cell_type": "code",
   "execution_count": null,
   "id": "f1bf5823",
   "metadata": {},
   "outputs": [],
   "source": []
  },
  {
   "cell_type": "code",
   "execution_count": null,
   "id": "9249740e",
   "metadata": {},
   "outputs": [],
   "source": []
  },
  {
   "cell_type": "code",
   "execution_count": null,
   "id": "66267ca2",
   "metadata": {},
   "outputs": [],
   "source": []
  },
  {
   "cell_type": "code",
   "execution_count": null,
   "id": "f196f2e6",
   "metadata": {},
   "outputs": [],
   "source": []
  },
  {
   "cell_type": "code",
   "execution_count": null,
   "id": "88c87434",
   "metadata": {},
   "outputs": [],
   "source": []
  },
  {
   "cell_type": "code",
   "execution_count": null,
   "id": "37c2a069",
   "metadata": {},
   "outputs": [],
   "source": []
  },
  {
   "cell_type": "code",
   "execution_count": null,
   "id": "b5c76f4a",
   "metadata": {},
   "outputs": [],
   "source": []
  },
  {
   "cell_type": "code",
   "execution_count": null,
   "id": "44b3d788",
   "metadata": {},
   "outputs": [],
   "source": []
  },
  {
   "cell_type": "code",
   "execution_count": null,
   "id": "d82062f3",
   "metadata": {},
   "outputs": [],
   "source": []
  },
  {
   "cell_type": "code",
   "execution_count": null,
   "id": "7b07f82f",
   "metadata": {},
   "outputs": [],
   "source": []
  },
  {
   "cell_type": "code",
   "execution_count": null,
   "id": "e7b9b84a",
   "metadata": {},
   "outputs": [],
   "source": []
  },
  {
   "cell_type": "code",
   "execution_count": null,
   "id": "05f37a95",
   "metadata": {},
   "outputs": [],
   "source": []
  },
  {
   "cell_type": "code",
   "execution_count": null,
   "id": "dd9c9775",
   "metadata": {},
   "outputs": [],
   "source": []
  },
  {
   "cell_type": "code",
   "execution_count": null,
   "id": "c6b8121a",
   "metadata": {},
   "outputs": [],
   "source": []
  },
  {
   "cell_type": "code",
   "execution_count": null,
   "id": "7e58c6b2",
   "metadata": {},
   "outputs": [],
   "source": []
  },
  {
   "cell_type": "code",
   "execution_count": null,
   "id": "f03332d9",
   "metadata": {},
   "outputs": [],
   "source": []
  },
  {
   "cell_type": "code",
   "execution_count": null,
   "id": "88f1aae4",
   "metadata": {},
   "outputs": [],
   "source": []
  },
  {
   "cell_type": "code",
   "execution_count": null,
   "id": "471ad6e1",
   "metadata": {},
   "outputs": [],
   "source": []
  },
  {
   "cell_type": "code",
   "execution_count": null,
   "id": "8bc2e092",
   "metadata": {},
   "outputs": [],
   "source": []
  },
  {
   "cell_type": "code",
   "execution_count": null,
   "id": "fb98771c",
   "metadata": {},
   "outputs": [],
   "source": []
  },
  {
   "cell_type": "code",
   "execution_count": null,
   "id": "96f2652d",
   "metadata": {},
   "outputs": [],
   "source": []
  },
  {
   "cell_type": "code",
   "execution_count": null,
   "id": "04f1ac61",
   "metadata": {},
   "outputs": [],
   "source": []
  },
  {
   "cell_type": "code",
   "execution_count": null,
   "id": "d46b74fa",
   "metadata": {},
   "outputs": [],
   "source": []
  },
  {
   "cell_type": "code",
   "execution_count": null,
   "id": "b489c1d7",
   "metadata": {},
   "outputs": [],
   "source": []
  },
  {
   "cell_type": "code",
   "execution_count": null,
   "id": "5cc5b2bf",
   "metadata": {},
   "outputs": [],
   "source": []
  },
  {
   "cell_type": "code",
   "execution_count": null,
   "id": "148161f2",
   "metadata": {},
   "outputs": [],
   "source": []
  },
  {
   "cell_type": "code",
   "execution_count": null,
   "id": "5a62d6fa",
   "metadata": {},
   "outputs": [],
   "source": []
  },
  {
   "cell_type": "code",
   "execution_count": null,
   "id": "a948bb99",
   "metadata": {},
   "outputs": [],
   "source": []
  },
  {
   "cell_type": "code",
   "execution_count": null,
   "id": "a56306de",
   "metadata": {},
   "outputs": [],
   "source": []
  },
  {
   "cell_type": "code",
   "execution_count": null,
   "id": "b3f87cdd",
   "metadata": {},
   "outputs": [],
   "source": []
  },
  {
   "cell_type": "code",
   "execution_count": null,
   "id": "1c7f34c9",
   "metadata": {},
   "outputs": [],
   "source": []
  }
 ],
 "metadata": {
  "kernelspec": {
   "display_name": "Python 3 (ipykernel)",
   "language": "python",
   "name": "python3"
  },
  "language_info": {
   "codemirror_mode": {
    "name": "ipython",
    "version": 3
   },
   "file_extension": ".py",
   "mimetype": "text/x-python",
   "name": "python",
   "nbconvert_exporter": "python",
   "pygments_lexer": "ipython3",
   "version": "3.11.4"
  }
 },
 "nbformat": 4,
 "nbformat_minor": 5
}
