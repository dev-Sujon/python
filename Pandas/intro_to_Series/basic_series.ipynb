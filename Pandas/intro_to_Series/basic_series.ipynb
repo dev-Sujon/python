{
 "cells": [
  {
   "cell_type": "code",
   "execution_count": 1,
   "id": "306e23e9",
   "metadata": {},
   "outputs": [],
   "source": [
    "import pandas as pd"
   ]
  },
  {
   "cell_type": "markdown",
   "id": "988c8731",
   "metadata": {},
   "source": [
    "### Intro to Series"
   ]
  },
  {
   "cell_type": "markdown",
   "id": "be4e353b",
   "metadata": {},
   "source": [
    "Take a look the following list of companies"
   ]
  },
  {
   "cell_type": "code",
   "execution_count": null,
   "id": "97570228",
   "metadata": {},
   "outputs": [],
   "source": []
  },
  {
   "cell_type": "code",
   "execution_count": 2,
   "id": "5906ae7f",
   "metadata": {},
   "outputs": [
    {
     "ename": "SyntaxError",
     "evalue": "invalid syntax (1718717705.py, line 1)",
     "output_type": "error",
     "traceback": [
      "\u001b[0;36m  Cell \u001b[0;32mIn[2], line 1\u001b[0;36m\u001b[0m\n\u001b[0;31m    <img src=\"companies-revenue-seires.png\" width=\"450px\">\u001b[0m\n\u001b[0m    ^\u001b[0m\n\u001b[0;31mSyntaxError\u001b[0m\u001b[0;31m:\u001b[0m invalid syntax\n"
     ]
    }
   ],
   "source": [
    "<img src=\"companies-revenue-seires.png\" width=\"450px\">"
   ]
  },
  {
   "cell_type": "code",
   "execution_count": 3,
   "id": "cbf268e7",
   "metadata": {},
   "outputs": [],
   "source": [
    "companies=[\n",
    "    'Apple','Samsung','Alphabet','Foxconn','Microsoft','Huawei',\n",
    "    'Dell Technoliogies','Meta',' Sony','Hitachi','Intel','IBM',\n",
    "    'Tencent','Panasonic'\n",
    "]"
   ]
  },
  {
   "cell_type": "code",
   "execution_count": 4,
   "id": "b7787bd6",
   "metadata": {},
   "outputs": [],
   "source": [
    "s=pd.Series([\n",
    "    274515,200734,182572,181945,143015,129184,92224,85965,84893,\n",
    "    82345,77867,73620,69864,6319],index=companies, name=\"Revenue comp.\")"
   ]
  },
  {
   "cell_type": "code",
   "execution_count": 5,
   "id": "139b3456",
   "metadata": {},
   "outputs": [
    {
     "data": {
      "text/plain": [
       "Apple                 274515\n",
       "Samsung               200734\n",
       "Alphabet              182572\n",
       "Foxconn               181945\n",
       "Microsoft             143015\n",
       "Huawei                129184\n",
       "Dell Technoliogies     92224\n",
       "Meta                   85965\n",
       " Sony                  84893\n",
       "Hitachi                82345\n",
       "Intel                  77867\n",
       "IBM                    73620\n",
       "Tencent                69864\n",
       "Panasonic               6319\n",
       "Name: Revenue comp., dtype: int64"
      ]
     },
     "execution_count": 5,
     "metadata": {},
     "output_type": "execute_result"
    }
   ],
   "source": [
    "s"
   ]
  },
  {
   "cell_type": "code",
   "execution_count": 6,
   "id": "224f1dd7",
   "metadata": {},
   "outputs": [
    {
     "data": {
      "text/plain": [
       "True"
      ]
     },
     "execution_count": 6,
     "metadata": {},
     "output_type": "execute_result"
    }
   ],
   "source": [
    "'Apple' in s"
   ]
  },
  {
   "cell_type": "code",
   "execution_count": 7,
   "id": "4893d316",
   "metadata": {},
   "outputs": [
    {
     "data": {
      "text/plain": [
       "True"
      ]
     },
     "execution_count": 7,
     "metadata": {},
     "output_type": "execute_result"
    }
   ],
   "source": [
    "\"Samsung\" in s"
   ]
  },
  {
   "cell_type": "code",
   "execution_count": 8,
   "id": "1079b60c",
   "metadata": {},
   "outputs": [
    {
     "data": {
      "text/plain": [
       "Apple    274515\n",
       "IBM       73620\n",
       "Intel     77867\n",
       "Name: Revenue comp., dtype: int64"
      ]
     },
     "execution_count": 8,
     "metadata": {},
     "output_type": "execute_result"
    }
   ],
   "source": [
    "s[['Apple','IBM','Intel']]"
   ]
  },
  {
   "cell_type": "code",
   "execution_count": null,
   "id": "a3cef6a0",
   "metadata": {},
   "outputs": [],
   "source": []
  },
  {
   "cell_type": "code",
   "execution_count": null,
   "id": "c831576a",
   "metadata": {},
   "outputs": [],
   "source": []
  }
 ],
 "metadata": {
  "kernelspec": {
   "display_name": "Python 3 (ipykernel)",
   "language": "python",
   "name": "python3"
  },
  "language_info": {
   "codemirror_mode": {
    "name": "ipython",
    "version": 3
   },
   "file_extension": ".py",
   "mimetype": "text/x-python",
   "name": "python",
   "nbconvert_exporter": "python",
   "pygments_lexer": "ipython3",
   "version": "3.11.4"
  }
 },
 "nbformat": 4,
 "nbformat_minor": 5
}
