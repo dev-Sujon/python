{
 "cells": [
  {
   "cell_type": "markdown",
   "id": "3e031a5e",
   "metadata": {},
   "source": [
    "# Numpy as np\n"
   ]
  },
  {
   "cell_type": "code",
   "execution_count": 26,
   "id": "1e592ed5",
   "metadata": {},
   "outputs": [
    {
     "name": "stdout",
     "output_type": "stream",
     "text": [
      "x :\n",
      " [[1 2 3]\n",
      " [2 4 9]]\n",
      "y :\n",
      " [[1 2 3]\n",
      " [2 4 9]]\n",
      "\n",
      "add :\n",
      " [[ 2  4  6]\n",
      " [ 4  8 18]]\n",
      "sub :\n",
      " [[0 0 0]\n",
      " [0 0 0]]\n",
      "product :\n",
      " [[ 1  4  9]\n",
      " [ 4 16 81]]\n",
      "Divide :\n",
      " [[1. 1. 1.]\n",
      " [1. 1. 1.]]\n"
     ]
    }
   ],
   "source": [
    "#crate a array using numpy\n",
    "import numpy as np\n",
    "x=np.array([[1,2,3],[2,4,9]])\n",
    "y=np.array([[1,2,3],[2,4,9]])\n",
    "print(\"x :\\n\",x)\n",
    "print(\"y :\\n\",y)\n",
    "print()\n",
    "add = x+y\n",
    "print(\"add :\\n\",add)\n",
    "sub = x-y\n",
    "print(\"sub :\\n\",sub)\n",
    "mul=x*y\n",
    "print(\"product :\\n\",mul)\n",
    "div=x/y\n",
    "print(\"Divide :\\n\",div)"
   ]
  },
  {
   "cell_type": "code",
   "execution_count": 25,
   "id": "3fba09a5",
   "metadata": {},
   "outputs": [
    {
     "name": "stdout",
     "output_type": "stream",
     "text": [
      "10\n",
      "3\n",
      "5\n",
      "15\n"
     ]
    }
   ],
   "source": [
    "# Numpy array index\n",
    "import numpy as np\n",
    "m=[[10,20,3,0],[5,25,15,12]]\n",
    "matrix=np.array(m)\n",
    "print(matrix[0][0])\n",
    "print(matrix[0][2])\n",
    "print(matrix[1][0])\n",
    "print(matrix[1][2])"
   ]
  },
  {
   "cell_type": "code",
   "execution_count": 31,
   "id": "eb78d405",
   "metadata": {},
   "outputs": [
    {
     "name": "stdout",
     "output_type": "stream",
     "text": [
      "Matrix :\n",
      " [[1 0 0]\n",
      " [0 1 0]\n",
      " [0 0 1]]\n"
     ]
    }
   ],
   "source": [
    "import numpy as np\n",
    "def create_matrix(m):\n",
    "    mx=np.array(m)\n",
    "    print(\"Matrix :\\n\",mx)\n",
    "    \n",
    "create_matrix([[1,0,0],[0,1,0],[0,0,1]])    "
   ]
  },
  {
   "cell_type": "code",
   "execution_count": 42,
   "id": "e735d7db",
   "metadata": {
    "collapsed": true
   },
   "outputs": [
    {
     "name": "stdout",
     "output_type": "stream",
     "text": [
      "3\n"
     ]
    }
   ],
   "source": [
    "import numpy as np\n",
    "\n",
    "arr = np.array([[[1, 2, 3], [4, 5, 6]], [[7, 8, 9], [10, 11, 12]]])\n",
    "\n",
    "print(arr[0][0,2])\n"
   ]
  },
  {
   "cell_type": "code",
   "execution_count": null,
   "id": "bf459de9",
   "metadata": {},
   "outputs": [],
   "source": []
  },
  {
   "cell_type": "markdown",
   "id": "2141754a",
   "metadata": {},
   "source": [
    "# Accelerated operations"
   ]
  },
  {
   "cell_type": "markdown",
   "id": "998b118f",
   "metadata": {},
   "source": [
    "pandas has support for accelerating certain types of binary numerical and boolean operations using the numexpr library and the bottleneck libraries.\n",
    "\n",
    "These libraries are especially useful when dealing with large data sets, and provide large speedups. numexpr uses smart chunking, caching, and multiple cores. bottleneck is a set of specialized cython routines that are especially fast when dealing with arrays that have nans."
   ]
  },
  {
   "cell_type": "markdown",
   "id": "d3aec0ca",
   "metadata": {},
   "source": [
    "pd.set_option(\"compute.use_bottleneck\", False)\n",
    "pd.set_option(\"compute.use_numexpr\", False)"
   ]
  },
  {
   "cell_type": "code",
   "execution_count": 1,
   "id": "a62c0b8f",
   "metadata": {},
   "outputs": [
    {
     "ename": "NameError",
     "evalue": "name 'pd' is not defined",
     "output_type": "error",
     "traceback": [
      "\u001b[0;31m---------------------------------------------------------------------------\u001b[0m",
      "\u001b[0;31mNameError\u001b[0m                                 Traceback (most recent call last)",
      "Cell \u001b[0;32mIn[1], line 1\u001b[0m\n\u001b[0;32m----> 1\u001b[0m pd\u001b[38;5;241m.\u001b[39mset_option(\u001b[38;5;124m\"\u001b[39m\u001b[38;5;124mcompute.use_bottleneck\u001b[39m\u001b[38;5;124m\"\u001b[39m,\u001b[38;5;28;01mFalse\u001b[39;00m)\n\u001b[1;32m      2\u001b[0m pd\u001b[38;5;241m.\u001b[39mset_option(\u001b[38;5;124m\"\u001b[39m\u001b[38;5;124mcompute.use_numexpr\u001b[39m\u001b[38;5;124m\"\u001b[39m,\u001b[38;5;28;01mFalse\u001b[39;00m)\n",
      "\u001b[0;31mNameError\u001b[0m: name 'pd' is not defined"
     ]
    }
   ],
   "source": [
    "pd.set_option(\"compute.use_bottleneck\",False)\n",
    "pd.set_option(\"compute.use_numexpr\",False)"
   ]
  },
  {
   "cell_type": "code",
   "execution_count": null,
   "id": "e41a9308",
   "metadata": {},
   "outputs": [],
   "source": []
  },
  {
   "cell_type": "code",
   "execution_count": null,
   "id": "7ecf0cd8",
   "metadata": {},
   "outputs": [],
   "source": []
  },
  {
   "cell_type": "code",
   "execution_count": null,
   "id": "e03beb7a",
   "metadata": {},
   "outputs": [],
   "source": []
  }
 ],
 "metadata": {
  "kernelspec": {
   "display_name": "Python 3 (ipykernel)",
   "language": "python",
   "name": "python3"
  },
  "language_info": {
   "codemirror_mode": {
    "name": "ipython",
    "version": 3
   },
   "file_extension": ".py",
   "mimetype": "text/x-python",
   "name": "python",
   "nbconvert_exporter": "python",
   "pygments_lexer": "ipython3",
   "version": "3.11.4"
  }
 },
 "nbformat": 4,
 "nbformat_minor": 5
}
