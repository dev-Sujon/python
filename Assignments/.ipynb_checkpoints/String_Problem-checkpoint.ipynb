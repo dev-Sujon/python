{
 "cells": [
  {
   "cell_type": "raw",
   "id": "5137889f",
   "metadata": {},
   "source": [
    "2.​ Write a Python program to count the number of characters (character\n",
    "    frequency) in a string.\n",
    "    \n",
    "    Sample String : google.com'\n",
    "    Expected Result : {'g': 2, 'o': 3, 'l': 1, 'e': 1, '.': 1, 'c': 1, 'm': 1}"
   ]
  },
  {
   "cell_type": "code",
   "execution_count": 14,
   "id": "2b1f6e33",
   "metadata": {},
   "outputs": [
    {
     "name": "stdout",
     "output_type": "stream",
     "text": [
      "{'a': 8, 'b': 11, 'd': 3, 'f': 2}\n"
     ]
    }
   ],
   "source": [
    "def charac_frequency(strr):\n",
    "    dict = {}\n",
    "    for n in strr:\n",
    "        keys = dict.keys()\n",
    "        if n in keys:\n",
    "            dict[n]+=1\n",
    "        else:\n",
    "            dict[n]=1\n",
    "    return dict\n",
    "\n",
    "strr='aaaaabbbbbbdfdfdbbbbbaaa'\n",
    "print(charac_frequency(strr))"
   ]
  },
  {
   "cell_type": "raw",
   "id": "7b7b41e1",
   "metadata": {},
   "source": [
    "3.​ Write a Python program to get a string made of the first 2 and the last 2 chars\n",
    "    from a given a string. If the string length is less than 2, return instead of the\n",
    "    empty string.\n",
    "    \n",
    "    Sample String : 'w3resource'\n",
    "    Expected Result : 'w3ce'\n",
    "    Sample String : 'w3'\n",
    "    Expected Result : 'w3w3'\n",
    "    Sample String : ' w'\n",
    "    Expected Result : Empty String"
   ]
  },
  {
   "cell_type": "code",
   "execution_count": 25,
   "id": "7b11172b",
   "metadata": {},
   "outputs": [
    {
     "name": "stdout",
     "output_type": "stream",
     "text": [
      "w3ce\n",
      "w33r\n"
     ]
    }
   ],
   "source": [
    "def str_mode(strr):\n",
    "    if len(strr)<2:\n",
    "        return ''\n",
    "    return strr[:2]+strr[-2:]         \n",
    "        \n",
    "st='w3resource'\n",
    "print(str_mode(st)) \n",
    "st='w3r'\n",
    "print(str_mode(st)) "
   ]
  },
  {
   "cell_type": "raw",
   "id": "c01670c3",
   "metadata": {},
   "source": [
    "4.​ Write a Python program to get a string from a given string where all\n",
    "    occurrences of its first char have been changed to '$', except the first char itself.\n",
    "    \n",
    "    Sample String : 'restart'\n",
    "    Expected Result : 'resta$t'"
   ]
  },
  {
   "cell_type": "code",
   "execution_count": 28,
   "id": "f88494ac",
   "metadata": {},
   "outputs": [
    {
     "name": "stdout",
     "output_type": "stream",
     "text": [
      "retu$n\n"
     ]
    }
   ],
   "source": [
    "def charnge_str(strr):\n",
    "    char = strr[0]\n",
    "    strr = strr.replace(char,'$')\n",
    "    return char + strr[1:]\n",
    "stt='return'\n",
    "print(charnge_str(stt)) "
   ]
  },
  {
   "cell_type": "raw",
   "id": "2e0bfdce",
   "metadata": {},
   "source": [
    "5​ Write a Python program to get a single string from two given strings, separated\n",
    "    by a space and swap the first two characters of each string. \n",
    "    \n",
    "    Sample String : 'abc', 'xyz'\n",
    "    Expected Result : 'xyc abz'"
   ]
  },
  {
   "cell_type": "code",
   "execution_count": null,
   "id": "e03b2c03",
   "metadata": {},
   "outputs": [],
   "source": []
  },
  {
   "cell_type": "code",
   "execution_count": null,
   "id": "88f351b3",
   "metadata": {},
   "outputs": [],
   "source": []
  },
  {
   "cell_type": "code",
   "execution_count": null,
   "id": "2207212a",
   "metadata": {},
   "outputs": [],
   "source": []
  },
  {
   "cell_type": "code",
   "execution_count": null,
   "id": "3748ce33",
   "metadata": {},
   "outputs": [],
   "source": []
  },
  {
   "cell_type": "code",
   "execution_count": null,
   "id": "c0f5f292",
   "metadata": {},
   "outputs": [],
   "source": []
  }
 ],
 "metadata": {
  "kernelspec": {
   "display_name": "Python 3 (ipykernel)",
   "language": "python",
   "name": "python3"
  },
  "language_info": {
   "codemirror_mode": {
    "name": "ipython",
    "version": 3
   },
   "file_extension": ".py",
   "mimetype": "text/x-python",
   "name": "python",
   "nbconvert_exporter": "python",
   "pygments_lexer": "ipython3",
   "version": "3.10.9"
  }
 },
 "nbformat": 4,
 "nbformat_minor": 5
}
