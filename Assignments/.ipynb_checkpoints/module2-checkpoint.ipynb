{
 "cells": [
  {
   "cell_type": "code",
   "execution_count": null,
   "id": "3bf477cd",
   "metadata": {},
   "outputs": [],
   "source": []
  },
  {
   "cell_type": "code",
   "execution_count": null,
   "id": "28410e76",
   "metadata": {},
   "outputs": [],
   "source": []
  },
  {
   "cell_type": "markdown",
   "id": "c9172084",
   "metadata": {},
   "source": [
    "1. Create a function named ‘factor’ that can only accept 1 argument. The function should\n",
    "return the factorial of that number.\n",
    "2. Create a function named ‘check_string’, the function should accept a string data from the\n",
    "user and the function should check if the user input contains the letter ‘s’ in it. If it contains\n",
    "the letter ‘s’ then print- ‘The string is containing the letter ‘s’’, if not then print- ‘The string\n",
    "doesn’t contain the letter ‘s’’.\n",
    "3. Create a class named ‘student’ and inside the class, create a function named ‘fun1’- this\n",
    "method should accept the user defined input and return that value.\n",
    "a. Create another method named- message() and that method should print the user\n",
    "defined input that we have defined in ‘fun1’.\n",
    "4. Create a lambda function that should double or multiply the number (that we will be passing\n",
    "in the lambda function) by 2. Store the lambda function in a variable named ‘double_num’.\n",
    "5. Take the user input string and check whether that string is palindrome or not.\n",
    "6. Create a class named ‘Super’ and inside that class define a user-defined function named\n",
    "fun1.\n",
    "a. Inside the ‘fun1’ function, pass the message “This is function 1 in the Super class.”\n",
    "in the print statement.\n",
    "7. Create another class named ‘Modified_Super’ and inherit this class from the Super class.\n",
    "a. Inside the Modified_Super class, create a function named ‘fun1’ and pass the\n",
    "following message inside the print statement: ‘This is function 1 in the Modified\n",
    "Super class.’\n",
    "b. Create another user-defined function named ‘fun2’ and pass the message: ‘This is\n",
    "the 2nd function from the Modified Super class’ in the print statement.\n",
    "c. After that, now create an object for the Modified_Super class and call the fun1().\n",
    "8. Create 2 methods named ‘Hello’. In the 1st Hello method, pass only one argument and pass\n",
    "this message: ‘This function only has 1 argument’. And in the 2nd Hello method, pass\n",
    "two arguments and pass this message: ‘This function has 2 arguments’.\n",
    "a. Try to call both the methods and analyze the output of both the methods.9. Create a method named ‘Sum’ that can accept multiple user inputs. Now add those user-\n",
    "defined input values using for loop and the function should return the addition of the numbers.\n",
    "10. Create a class named ‘Encapsulation’:\n",
    "a. Inside the class, first create a constructor. Inside the constructor, initialize\n",
    "originalValue variable as 10.\n",
    "b. After creating the constructor, define a function named ‘Value’ and this function\n",
    "should return the variable that we have initialized in the constructor.\n",
    "c. Now create 2nd function named setValue, and pass an argument named\n",
    "‘newValue’. The task of this function will be to replace the value of the\n",
    "originalValue variable by the value of the newValue variable."
   ]
  },
  {
   "cell_type": "markdown",
   "id": "0febf120",
   "metadata": {},
   "source": [
    "1. Create a function named ‘factor’ that can only accept 1 argument. The function should return the factorial of that number."
   ]
  },
  {
   "cell_type": "code",
   "execution_count": 21,
   "id": "1ce0560e",
   "metadata": {},
   "outputs": [
    {
     "ename": "UnboundLocalError",
     "evalue": "local variable 'fact' referenced before assignment",
     "output_type": "error",
     "traceback": [
      "\u001b[0;31m---------------------------------------------------------------------------\u001b[0m",
      "\u001b[0;31mUnboundLocalError\u001b[0m                         Traceback (most recent call last)",
      "Cell \u001b[0;32mIn[21], line 12\u001b[0m\n\u001b[1;32m     10\u001b[0m     \u001b[38;5;28;01mdef\u001b[39;00m \u001b[38;5;21m__repr__\u001b[39m(\u001b[38;5;28mself\u001b[39m):\n\u001b[1;32m     11\u001b[0m         \u001b[38;5;28;01mreturn\u001b[39;00m \u001b[38;5;124mf\u001b[39m\u001b[38;5;124m\"\u001b[39m\u001b[38;5;124mFactorial of \u001b[39m\u001b[38;5;132;01m{\u001b[39;00m\u001b[38;5;28mself\u001b[39m\u001b[38;5;241m.\u001b[39mn\u001b[38;5;132;01m}\u001b[39;00m\u001b[38;5;124m is \u001b[39m\u001b[38;5;132;01m{\u001b[39;00m\u001b[38;5;28mself\u001b[39m\u001b[38;5;241m.\u001b[39mfact\u001b[38;5;132;01m}\u001b[39;00m\u001b[38;5;124m\"\u001b[39m\n\u001b[0;32m---> 12\u001b[0m anos\u001b[38;5;241m=\u001b[39m\u001b[43mSolution\u001b[49m\u001b[43m(\u001b[49m\u001b[38;5;241;43m23\u001b[39;49m\u001b[43m)\u001b[49m\n\u001b[1;32m     13\u001b[0m \u001b[38;5;28mprint\u001b[39m(anos)\n",
      "Cell \u001b[0;32mIn[21], line 7\u001b[0m, in \u001b[0;36mSolution.__init__\u001b[0;34m(self, n)\u001b[0m\n\u001b[1;32m      4\u001b[0m \u001b[38;5;28mself\u001b[39m\u001b[38;5;241m.\u001b[39mn\u001b[38;5;241m=\u001b[39mn\n\u001b[1;32m      6\u001b[0m \u001b[38;5;28;01mfor\u001b[39;00m x \u001b[38;5;129;01min\u001b[39;00m \u001b[38;5;28mrange\u001b[39m(\u001b[38;5;241m1\u001b[39m,n\u001b[38;5;241m+\u001b[39m\u001b[38;5;241m1\u001b[39m):\n\u001b[0;32m----> 7\u001b[0m     fact\u001b[38;5;241m=\u001b[39m\u001b[43mfact\u001b[49m\u001b[38;5;241m*\u001b[39mi\n\u001b[1;32m      8\u001b[0m     \u001b[38;5;28mself\u001b[39m\u001b[38;5;241m.\u001b[39mfact\u001b[38;5;241m=\u001b[39mfact\n",
      "\u001b[0;31mUnboundLocalError\u001b[0m: local variable 'fact' referenced before assignment"
     ]
    }
   ],
   "source": [
    "class Solution:\n",
    "    def __init__(self,n):\n",
    "        self.fact=1\n",
    "        self.n=n\n",
    "    def factor(self):\n",
    "        for x in range(1,n+1):\n",
    "            fact=fact*i\n",
    "            self.fact=fact\n",
    "            \n",
    "    def __repr__(self):\n",
    "        return f\"Factorial of {self.n} is {self.fact}\"\n",
    "anos=Solution(23)\n",
    "print(anos)\n",
    "        \n",
    "    \n",
    "    \n",
    "class Solution:\n",
    "    def __init__(self, n):\n",
    "        self.fact = 1\n",
    "        self.n = n\n",
    "        \n",
    "    def factor(self):\n",
    "        for i in range(1, self.n + 1):\n",
    "            self.fact *= i\n",
    "            \n",
    "    def __repr__(self):\n",
    "        return f\"Factorial of {self.n} is {self.fact}\"\n",
    "\n",
    "anos = Solution(23)\n",
    "anos.factor()  # Call the factor method to calculate the factorial\n",
    "print(anos)\n",
    "    "
   ]
  },
  {
   "cell_type": "code",
   "execution_count": 18,
   "id": "b7aa7a14",
   "metadata": {},
   "outputs": [
    {
     "name": "stdout",
     "output_type": "stream",
     "text": [
      "Factorial of 23 is 25852016738884976640000\n"
     ]
    }
   ],
   "source": [
    "class Solution:\n",
    "    def __init__(self, n):\n",
    "        fact = 1\n",
    "        self.num = n\n",
    "        \n",
    "        for i in range(1, n + 1):\n",
    "            fact *= i  # Calculate factorial using *=\n",
    "        \n",
    "        self.fact = fact  # Assign the calculated factorial to self.fact\n",
    "        \n",
    "    def __repr__(self):\n",
    "        return f\"Factorial of {self.num} is {self.fact}\"\n",
    "    \n",
    "anum = Solution(23)\n",
    "print(anum)\n"
   ]
  },
  {
   "cell_type": "code",
   "execution_count": null,
   "id": "232344d2",
   "metadata": {},
   "outputs": [],
   "source": []
  },
  {
   "cell_type": "code",
   "execution_count": null,
   "id": "5847158a",
   "metadata": {},
   "outputs": [],
   "source": []
  },
  {
   "cell_type": "markdown",
   "id": "acb09cf3",
   "metadata": {},
   "source": []
  },
  {
   "cell_type": "code",
   "execution_count": null,
   "id": "58c98f0d",
   "metadata": {},
   "outputs": [],
   "source": []
  },
  {
   "cell_type": "code",
   "execution_count": null,
   "id": "e03d1367",
   "metadata": {},
   "outputs": [],
   "source": []
  }
 ],
 "metadata": {
  "kernelspec": {
   "display_name": "Python 3 (ipykernel)",
   "language": "python",
   "name": "python3"
  },
  "language_info": {
   "codemirror_mode": {
    "name": "ipython",
    "version": 3
   },
   "file_extension": ".py",
   "mimetype": "text/x-python",
   "name": "python",
   "nbconvert_exporter": "python",
   "pygments_lexer": "ipython3",
   "version": "3.10.9"
  }
 },
 "nbformat": 4,
 "nbformat_minor": 5
}
