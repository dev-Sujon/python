{
 "cells": [
  {
   "cell_type": "code",
   "execution_count": null,
   "id": "c16eaba4",
   "metadata": {},
   "outputs": [],
   "source": []
  },
  {
   "cell_type": "code",
   "execution_count": null,
   "id": "1ecd3001",
   "metadata": {},
   "outputs": [],
   "source": []
  },
  {
   "cell_type": "markdown",
   "id": "cef9a2ef",
   "metadata": {},
   "source": [
    "1. Create a function named ‘factor’ that can only accept 1 argument. The function should\n",
    "return the factorial of that number.\n",
    "2. Create a function named ‘check_string’, the function should accept a string data from the\n",
    "user and the function should check if the user input contains the letter ‘s’ in it. If it contains\n",
    "the letter ‘s’ then print- ‘The string is containing the letter ‘s’’, if not then print- ‘The string\n",
    "doesn’t contain the letter ‘s’’.\n",
    "3. Create a class named ‘student’ and inside the class, create a function named ‘fun1’- this\n",
    "method should accept the user defined input and return that value.\n",
    "a. Create another method named- message() and that method should print the user\n",
    "defined input that we have defined in ‘fun1’.\n",
    "4. Create a lambda function that should double or multiply the number (that we will be passing\n",
    "in the lambda function) by 2. Store the lambda function in a variable named ‘double_num’.\n",
    "5. Take the user input string and check whether that string is palindrome or not.\n",
    "6. Create a class named ‘Super’ and inside that class define a user-defined function named\n",
    "fun1.\n",
    "a. Inside the ‘fun1’ function, pass the message “This is function 1 in the Super class.”\n",
    "in the print statement.\n",
    "7. Create another class named ‘Modified_Super’ and inherit this class from the Super class.\n",
    "a. Inside the Modified_Super class, create a function named ‘fun1’ and pass the\n",
    "following message inside the print statement: ‘This is function 1 in the Modified\n",
    "Super class.’\n",
    "b. Create another user-defined function named ‘fun2’ and pass the message: ‘This is\n",
    "the 2nd function from the Modified Super class’ in the print statement.\n",
    "c. After that, now create an object for the Modified_Super class and call the fun1().\n",
    "8. Create 2 methods named ‘Hello’. In the 1st Hello method, pass only one argument and pass\n",
    "this message: ‘This function only has 1 argument’. And in the 2nd Hello method, pass\n",
    "two arguments and pass this message: ‘This function has 2 arguments’.\n",
    "a. Try to call both the methods and analyze the output of both the methods.9. Create a method named ‘Sum’ that can accept multiple user inputs. Now add those user-\n",
    "defined input values using for loop and the function should return the addition of the numbers.\n",
    "10. Create a class named ‘Encapsulation’:\n",
    "a. Inside the class, first create a constructor. Inside the constructor, initialize\n",
    "originalValue variable as 10.\n",
    "b. After creating the constructor, define a function named ‘Value’ and this function\n",
    "should return the variable that we have initialized in the constructor.\n",
    "c. Now create 2nd function named setValue, and pass an argument named\n",
    "‘newValue’. The task of this function will be to replace the value of the\n",
    "originalValue variable by the value of the newValue variable."
   ]
  },
  {
   "cell_type": "markdown",
   "id": "6319adb5",
   "metadata": {},
   "source": [
    "1. Create a function named ‘factor’ that can only accept 1 argument. The function should return the factorial of that number."
   ]
  },
  {
   "cell_type": "code",
   "execution_count": 8,
   "id": "ff8ba9f3",
   "metadata": {},
   "outputs": [
    {
     "name": "stdout",
     "output_type": "stream",
     "text": [
      "Factorial of 23 is 25852016738884976640000\n"
     ]
    }
   ],
   "source": [
    "class Solution:\n",
    "    def __init__(self, n):\n",
    "        self.fact = 1\n",
    "        self.n = n\n",
    "        \n",
    "    def factor(self):\n",
    "        for i in range(1, self.n + 1):\n",
    "            self.fact *= i\n",
    "            \n",
    "    def __repr__(self):\n",
    "        return f\"Factorial of {self.n} is {self.fact}\"\n",
    "\n",
    "anos = Solution(23)\n",
    "anos.factor()  # Call the factor method to calculate the factorial\n",
    "print(anos)\n"
   ]
  },
  {
   "cell_type": "markdown",
   "id": "30fa38d1",
   "metadata": {},
   "source": [
    "2. Create a function named ‘check_string’, the function should accept a string data from the\n",
    "user and the function should check if the user input contains the letter ‘s’ in it. If it contains\n",
    "the letter ‘s’ then print- ‘The string is containing the letter ‘s’’, if not then print- ‘The string\n",
    "doesn’t contain the letter ‘s’’."
   ]
  },
  {
   "cell_type": "code",
   "execution_count": 10,
   "id": "60bcb044",
   "metadata": {},
   "outputs": [
    {
     "ename": "NameError",
     "evalue": "name 'strr' is not defined",
     "output_type": "error",
     "traceback": [
      "\u001b[0;31m---------------------------------------------------------------------------\u001b[0m",
      "\u001b[0;31mNameError\u001b[0m                                 Traceback (most recent call last)",
      "Cell \u001b[0;32mIn[10], line 11\u001b[0m\n\u001b[1;32m      9\u001b[0m                 \u001b[38;5;28mprint\u001b[39m(\u001b[38;5;124m\"\u001b[39m\u001b[38;5;124mThe string doesn’t contain  the letter ‘s’\u001b[39m\u001b[38;5;124m\"\u001b[39m)\n\u001b[1;32m     10\u001b[0m astr\u001b[38;5;241m=\u001b[39mSolution(\u001b[38;5;124m\"\u001b[39m\u001b[38;5;124mThe winter\u001b[39m\u001b[38;5;124m\"\u001b[39m)\n\u001b[0;32m---> 11\u001b[0m \u001b[43mastr\u001b[49m\u001b[38;5;241;43m.\u001b[39;49m\u001b[43mcheck_string\u001b[49m\u001b[43m(\u001b[49m\u001b[43m)\u001b[49m\n",
      "Cell \u001b[0;32mIn[10], line 6\u001b[0m, in \u001b[0;36mSolution.check_string\u001b[0;34m(self)\u001b[0m\n\u001b[1;32m      4\u001b[0m \u001b[38;5;28;01mdef\u001b[39;00m \u001b[38;5;21mcheck_string\u001b[39m(\u001b[38;5;28mself\u001b[39m):\n\u001b[1;32m      5\u001b[0m     \u001b[38;5;28;01mfor\u001b[39;00m x \u001b[38;5;129;01min\u001b[39;00m \u001b[38;5;28mrange\u001b[39m(\u001b[38;5;28mlen\u001b[39m(\u001b[38;5;28mself\u001b[39m\u001b[38;5;241m.\u001b[39mstrr)):\n\u001b[0;32m----> 6\u001b[0m         \u001b[38;5;28;01mif\u001b[39;00m \u001b[38;5;124m'\u001b[39m\u001b[38;5;124ms\u001b[39m\u001b[38;5;124m'\u001b[39m \u001b[38;5;129;01mand\u001b[39;00m \u001b[38;5;124m'\u001b[39m\u001b[38;5;124mS\u001b[39m\u001b[38;5;124m'\u001b[39m \u001b[38;5;241m==\u001b[39m \u001b[43mstrr\u001b[49m[x]:\n\u001b[1;32m      7\u001b[0m             \u001b[38;5;28mprint\u001b[39m(\u001b[38;5;124m\"\u001b[39m\u001b[38;5;124mThe string is containing the letter ‘s’\u001b[39m\u001b[38;5;124m\"\u001b[39m)\n\u001b[1;32m      8\u001b[0m         \u001b[38;5;28;01melse\u001b[39;00m:\n",
      "\u001b[0;31mNameError\u001b[0m: name 'strr' is not defined"
     ]
    }
   ],
   "source": [
    "class Solution:\n",
    "    def __init__(self,strr):\n",
    "        self.strr=strr\n",
    "    def check_string(self):\n",
    "        for x in range(len(self.strr)):\n",
    "            if 's' and 'S' == strr[x]:\n",
    "                print(\"The string is containing the letter ‘s’\")\n",
    "            else:\n",
    "                print(\"The string doesn’t contain  the letter ‘s’\")\n",
    "astr=Solution(\"The winter\")\n",
    "astr.check_string()"
   ]
  },
  {
   "cell_type": "code",
   "execution_count": 7,
   "id": "6978ed4a",
   "metadata": {},
   "outputs": [
    {
     "data": {
      "text/plain": [
       "__main__.fact"
      ]
     },
     "execution_count": 7,
     "metadata": {},
     "output_type": "execute_result"
    }
   ],
   "source": [
    "fact"
   ]
  },
  {
   "cell_type": "markdown",
   "id": "9fdc94f7",
   "metadata": {},
   "source": []
  },
  {
   "cell_type": "code",
   "execution_count": null,
   "id": "c29fbc34",
   "metadata": {},
   "outputs": [],
   "source": []
  },
  {
   "cell_type": "code",
   "execution_count": null,
   "id": "fc2bb870",
   "metadata": {},
   "outputs": [],
   "source": []
  }
 ],
 "metadata": {
  "kernelspec": {
   "display_name": "Python 3 (ipykernel)",
   "language": "python",
   "name": "python3"
  },
  "language_info": {
   "codemirror_mode": {
    "name": "ipython",
    "version": 3
   },
   "file_extension": ".py",
   "mimetype": "text/x-python",
   "name": "python",
   "nbconvert_exporter": "python",
   "pygments_lexer": "ipython3",
   "version": "3.10.9"
  }
 },
 "nbformat": 4,
 "nbformat_minor": 5
}
