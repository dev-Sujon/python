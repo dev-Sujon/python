{
 "cells": [
  {
   "cell_type": "markdown",
   "id": "efbaf3b8",
   "metadata": {},
   "source": [
    "1. Prime number first 100 number"
   ]
  },
  {
   "cell_type": "code",
   "execution_count": null,
   "id": "e21f1689",
   "metadata": {},
   "outputs": [],
   "source": [
    "\n",
    "def is_prime(num):\n",
    "    if num<2:\n",
    "        return False\n",
    "    for x in range(2,int(num*0.5)+1):\n",
    "        if num%x==0:\n",
    "            return False\n",
    "       \n",
    "    return True\n",
    "def generate_nth_prime(n):\n",
    "    primes = []\n",
    "    num = 2\n",
    "    while len(primes)<n:\n",
    "        if is_prime(num) == True:\n",
    "            primes.append(num)\n",
    "        num+=1\n",
    "    return primes\n",
    "\n",
    "p = generate_nth_prime(100)\n",
    "print(p)"
   ]
  },
  {
   "cell_type": "markdown",
   "id": "ebc3edab",
   "metadata": {},
   "source": [
    "2.\n",
    "\n",
    "A leap year is exactly divisible by 4 except for century years (years ending with 00). The century year is a leap year only if it is perfectly divisible by 400. For example,\n",
    "2017 is not a leap year\n",
    "1900 is a not leap year\n",
    "2012 is a leap year\n",
    "2000 is a leap year"
   ]
  },
  {
   "cell_type": "code",
   "execution_count": null,
   "id": "4b7d1db9",
   "metadata": {},
   "outputs": [],
   "source": [
    "def is_leap_year(year):\n",
    "    if year % 4 == 0:\n",
    "        if year % 100 == 0:\n",
    "            return year % 400 == 0\n",
    "        return True\n",
    "    return False\n",
    "        \n",
    "try:\n",
    "    year = int(input(\"Enter a year: \"))\n",
    "    if is_leap_year(year):\n",
    "        print(f\"{year} is a leap year.\")\n",
    "    else:\n",
    "        print(f\"{year} is not a leap year.\")\n",
    "except ValueError:\n",
    "    print(\"Invalid input. Please enter a valid year.\")\n",
    "\n"
   ]
  },
  {
   "cell_type": "markdown",
   "id": "6ced5332",
   "metadata": {},
   "source": [
    "3. Function is to check whether two strings are anagram of each other or not."
   ]
  },
  {
   "cell_type": "code",
   "execution_count": null,
   "id": "f17afdb2",
   "metadata": {},
   "outputs": [],
   "source": [
    "def is_anagram(a,b):\n",
    "    if sorted(a)==sorted(b):\n",
    "        return True\n",
    "    return False\n",
    "\n",
    "a = \"gram\"\n",
    "b = \"arm\"\n",
    "p = is_anagram(a, b)\n",
    "if p == True:\n",
    "     print(\"The strings are anagrams.\")\n",
    "else:\n",
    "    print(\"The strings aren't anagrams.\")\n"
   ]
  },
  {
   "cell_type": "markdown",
   "id": "5792351f",
   "metadata": {},
   "source": [
    "4.Check a word is palindrome or not"
   ]
  },
  {
   "cell_type": "code",
   "execution_count": 1,
   "id": "befca9db",
   "metadata": {},
   "outputs": [
    {
     "name": "stdout",
     "output_type": "stream",
     "text": [
      "Enter anything : 111\n",
      "111 is palindrome\n"
     ]
    }
   ],
   "source": [
    "def is_palindrome(s):\n",
    "    s = s.replace(\" \",\"\").lower()\n",
    "    return s[::-1]\n",
    "\n",
    "\n",
    "# Test the function\n",
    "inputt = input(\"Enter anything : \")\n",
    "if is_palindrome(inputt):\n",
    "    print(f\"{inputt} is palindrome\")\n",
    "else:\n",
    "    print(f\"{inputt} isn't palindrome\")\n"
   ]
  },
  {
   "cell_type": "markdown",
   "id": "cdf2d8c3",
   "metadata": {},
   "source": [
    "5.find substring in a string"
   ]
  },
  {
   "cell_type": "code",
   "execution_count": 17,
   "id": "aa96b2ae",
   "metadata": {},
   "outputs": [
    {
     "name": "stdout",
     "output_type": "stream",
     "text": [
      "The substring 'ways' is not present in the string 'This is way too exiting'.\n"
     ]
    }
   ],
   "source": [
    "def find_substring(substring,string):\n",
    "    return substring in string\n",
    "    # return string.find(substring) != -1\n",
    "\n",
    "a = \"ways\"\n",
    "b = \"This is way too exiting\"\n",
    "if find_substring(a,b):\n",
    "    print(f\"The substring '{a}' is present in the string '{b}'.\")\n",
    "else:\n",
    "    print(f\"The substring '{a}' is not present in the string '{b}'.\")\n"
   ]
  },
  {
   "cell_type": "markdown",
   "id": "c5e07a7d",
   "metadata": {},
   "source": [
    "6.\n",
    "Find all possible substrings\n",
    "Abcd ->\n",
    "a\n",
    "b\n",
    "c\n",
    "d\n",
    "ab\n",
    "abc\n",
    "abcd\n",
    "bc\n",
    "bcd\n",
    "cd\n",
    "d\n"
   ]
  },
  {
   "cell_type": "code",
   "execution_count": 39,
   "id": "c8f6ddfd",
   "metadata": {},
   "outputs": [
    {
     "name": "stdout",
     "output_type": "stream",
     "text": [
      "a\n",
      "ab\n",
      "abc\n",
      "abcd\n",
      "b\n",
      "bc\n",
      "bcd\n",
      "c\n",
      "cd\n",
      "d\n"
     ]
    }
   ],
   "source": [
    "def possible_substring(strr):\n",
    "    for x in range(len(strr)):\n",
    "        for z in range(x+1,len(strr)+1):\n",
    "            print(strr[x:z])\n",
    "\n",
    "st = \"abcd\"        \n",
    "possible_substring(st)     "
   ]
  },
  {
   "cell_type": "markdown",
   "id": "a6ea7936",
   "metadata": {},
   "source": [
    "7.Find the second highest number\n",
    "  10,13,14,7,4,31 -> 14\n"
   ]
  },
  {
   "cell_type": "code",
   "execution_count": 43,
   "id": "ce4b3733",
   "metadata": {},
   "outputs": [
    {
     "name": "stdout",
     "output_type": "stream",
     "text": [
      "31\n"
     ]
    }
   ],
   "source": [
    "def second_highest_num(n):\n",
    "    n = sorted(n)\n",
    "    return n[-2]\n",
    "List =[10,13,14,7,4,31,60,2]\n",
    "p = second_highest_num(List)\n",
    "print(p)"
   ]
  },
  {
   "cell_type": "markdown",
   "id": "1118038a",
   "metadata": {},
   "source": [
    "8. Most occuring number in the list\n",
    "\t\t[2,6,7,8,8,9,3,3,3] -> 3"
   ]
  },
  {
   "cell_type": "code",
   "execution_count": 11,
   "id": "698c0dfa",
   "metadata": {},
   "outputs": [
    {
     "name": "stdout",
     "output_type": "stream",
     "text": [
      "The most occurring number is: 4\n"
     ]
    }
   ],
   "source": [
    "def most_occuring_number(lst):\n",
    "    return max(lst, key=lst.count)\n",
    "\n",
    "# Test the function\n",
    "my_list = [1, 2, 3, 4, 2, 2, 5, 6, 4, 4, 4]\n",
    "result = most_occuring_number(my_list)\n",
    "print(\"The most occurring number is:\", result)        "
   ]
  },
  {
   "cell_type": "markdown",
   "id": "1db42bcd",
   "metadata": {},
   "source": [
    "9.Remove vowels and return string\n",
    "\t\tHow are you? -> Hw r y"
   ]
  },
  {
   "cell_type": "code",
   "execution_count": 23,
   "id": "f7b729b9",
   "metadata": {},
   "outputs": [
    {
     "name": "stdout",
     "output_type": "stream",
     "text": [
      "Hw r y\n"
     ]
    }
   ],
   "source": [
    "def remove_vowels(strr):\n",
    "    vowel = 'aeiouAEIOU'\n",
    "    res=\"\"\n",
    "    for char in strr:\n",
    "        if char not in vowel:\n",
    "            res += char\n",
    "    return res\n",
    "s = \"How are you\"\n",
    "p = remove_vowels(s)\n",
    "print(p)\n",
    "            "
   ]
  },
  {
   "cell_type": "raw",
   "id": "3fe0429f",
   "metadata": {},
   "source": [
    "10.\n",
    "Run length encoding problem\n",
    "‘aaaabbcdda’ a4b2c1d2a1\n"
   ]
  },
  {
   "cell_type": "code",
   "execution_count": 27,
   "id": "eb77c366",
   "metadata": {},
   "outputs": [
    {
     "name": "stdout",
     "output_type": "stream",
     "text": [
      "Input string: aaaabbcdda\n",
      "Encoded string: a4b2c1d2a1\n"
     ]
    }
   ],
   "source": [
    "def run_length_encoding(input_string):\n",
    "    encoded_string = \"\"\n",
    "    count = 1\n",
    "\n",
    "    for i in range(1, len(input_string)):\n",
    "        if input_string[i-1] == input_string[i]:\n",
    "            count += 1\n",
    "        else:\n",
    "            encoded_string += input_string[i - 1] + str(count)\n",
    "            count = 1\n",
    "\n",
    "    # Add the last character and its count to the encoded string\n",
    "    encoded_string += input_string[-1] + str(count)\n",
    "\n",
    "    return encoded_string\n",
    "\n",
    "# Test the function\n",
    "input_str = \"aaaabbcdda\"\n",
    "encoded_str = run_length_encoding(input_str)\n",
    "print(\"Input string:\", input_str)\n",
    "print(\"Encoded string:\", encoded_str)                  \n",
    "                   "
   ]
  },
  {
   "cell_type": "code",
   "execution_count": 28,
   "id": "9a4de5a0",
   "metadata": {},
   "outputs": [
    {
     "ename": "SyntaxError",
     "evalue": "invalid syntax (102686369.py, line 1)",
     "output_type": "error",
     "traceback": [
      "\u001b[0;36m  Cell \u001b[0;32mIn[28], line 1\u001b[0;36m\u001b[0m\n\u001b[0;31m    float g = 9.8;\u001b[0m\n\u001b[0m          ^\u001b[0m\n\u001b[0;31mSyntaxError\u001b[0m\u001b[0;31m:\u001b[0m invalid syntax\n"
     ]
    }
   ],
   "source": [
    "float g = 9.8; \n",
    "\n",
    "float vx;\n",
    "float vy;\n",
    "\n",
    "float x;\n",
    "float y;\n",
    "\n",
    "float dt;  \n",
    "float t;\n",
    "\n",
    "void setup() {\n",
    "    size(200, 500);\n",
    "    x = width/2;\n",
    "    y = 50;\n",
    "    dt = 0.1;  \n",
    "    t = 0;\n",
    "    vx = 50.0;\n",
    "    vy = 0.0;\n",
    "}\n",
    "\n",
    "void drawBall(float x, float y, int w, int h) {\n",
    "    fill(255, 0, 0);\n",
    "    ellipse(x, y, w, h);\n",
    "}\n",
    "\n",
    "void draw() {\n",
    "    background(200);\n",
    "    // gravity\n",
    "    vy = vy + g * dt;\n",
    "    \n",
    "    float dx = vx * dt;    \n",
    "    if (((x + dx) > width) || ((x + dx) < 0)) {\n",
    "        vx = vx * -0.8;\n",
    "    } else {\n",
    "        x = x + dx;\n",
    "    }\n",
    "    \n",
    "    float dy = vy * dt;\n",
    "    if (((y + dy) > height) || ((y + dy) < 0)) {\n",
    "        vy = vy * -0.8;\n",
    "    } else {\n",
    "        y = y + dy;\n",
    "    }\n",
    "\n",
    "    drawBall(x, y, 10, 10);\n",
    "    \n",
    "    t = t + dt;\n",
    "}"
   ]
  }
 ],
 "metadata": {
  "kernelspec": {
   "display_name": "Python 3 (ipykernel)",
   "language": "python",
   "name": "python3"
  },
  "language_info": {
   "codemirror_mode": {
    "name": "ipython",
    "version": 3
   },
   "file_extension": ".py",
   "mimetype": "text/x-python",
   "name": "python",
   "nbconvert_exporter": "python",
   "pygments_lexer": "ipython3",
   "version": "3.10.9"
  }
 },
 "nbformat": 4,
 "nbformat_minor": 5
}
