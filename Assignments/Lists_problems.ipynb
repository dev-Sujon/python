{
 "cells": [
  {
   "cell_type": "raw",
   "id": "d8ff314c",
   "metadata": {},
   "source": [
    "1​Write a Python program to sum all the items in a list."
   ]
  },
  {
   "cell_type": "code",
   "execution_count": 1,
   "id": "fdbf4632",
   "metadata": {},
   "outputs": [
    {
     "name": "stdout",
     "output_type": "stream",
     "text": [
      "59\n"
     ]
    }
   ],
   "source": [
    "def add(n):\n",
    "    s = sum(n)\n",
    "    print(s)\n",
    "Listt = [10,3,45,2,-1]\n",
    "add(Listt)"
   ]
  },
  {
   "cell_type": "raw",
   "id": "36a6c32c",
   "metadata": {},
   "source": [
    "2​Write a Python program to multiplies all the items in a list."
   ]
  },
  {
   "cell_type": "code",
   "execution_count": 11,
   "id": "fb59056e",
   "metadata": {},
   "outputs": [
    {
     "name": "stdout",
     "output_type": "stream",
     "text": [
      "240\n"
     ]
    }
   ],
   "source": [
    "def multiply_list(n):\n",
    "    total = 1\n",
    "    for x in n:\n",
    "        total *= x\n",
    "    return total\n",
    "LL = [3,1,2,4,10]\n",
    "p = multiply_list(LL)\n",
    "print(p)"
   ]
  },
  {
   "cell_type": "raw",
   "id": "e9509c7f",
   "metadata": {},
   "source": [
    "3​Write a Python program to get the largest number from a list."
   ]
  },
  {
   "cell_type": "code",
   "execution_count": 19,
   "id": "a9e17d5e",
   "metadata": {},
   "outputs": [
    {
     "name": "stdout",
     "output_type": "stream",
     "text": [
      "[20, 5, 15, 100, 30, 25, 1] \n",
      "minimun number of the list : 1\n",
      "maximum number of the list : 100\n"
     ]
    }
   ],
   "source": [
    "oo = [20,5,15,100,30,25,1]\n",
    "print(oo,\"\\nminimun number of the list :\",min(oo))\n",
    "print(\"maximum number of the list :\",max(oo))"
   ]
  },
  {
   "cell_type": "raw",
   "id": "ade8d4a0",
   "metadata": {},
   "source": [
    "4​ Write a Python program to count the number of strings where the string length\n",
    "   is 2 or more and the first and last character are same from a given list of strings.\n",
    "   \n",
    "   Sample List : ['abc', 'xyz', 'aba', '1221']\n",
    "   Expected Result : 2"
   ]
  },
  {
   "cell_type": "code",
   "execution_count": 28,
   "id": "3a4a2bc1",
   "metadata": {},
   "outputs": [
    {
     "name": "stdout",
     "output_type": "stream",
     "text": [
      "4\n"
     ]
    }
   ],
   "source": [
    "List = ['abc', 'xyz', 'aba', '1221','baaaab','aaa']\n",
    "\n",
    "def count_no_of_str(n):\n",
    "    count=0\n",
    "    for x in n:\n",
    "        if len(x)>2:\n",
    "            if x[0]==x[-1]:\n",
    "                count+=1\n",
    "    return count            \n",
    "p=count_no_of_str(List)\n",
    "print(p)"
   ]
  },
  {
   "cell_type": "raw",
   "id": "4be48e34",
   "metadata": {},
   "source": [
    "6​Write a Python program to get a list, sorted in increasing order by the last\n",
    "  element in each tuple from a given list of non-empty tuples.\n",
    "  \n",
    "  Sample List : [(2, 5), (1, 2), (4, 4), (2, 3), (2, 1)]\n",
    "  Expected Result : [(2, 1), (1, 2), (2, 3), (4, 4), (2, 5)]"
   ]
  },
  {
   "cell_type": "code",
   "execution_count": 136,
   "id": "4366e0f8",
   "metadata": {},
   "outputs": [
    {
     "data": {
      "text/plain": [
       "[(2, 1), (1, 2), (2, 3), (4, 4), (2, 5)]"
      ]
     },
     "execution_count": 136,
     "metadata": {},
     "output_type": "execute_result"
    }
   ],
   "source": [
    "_list = [(2, 5), (1, 2), (4, 4), (2, 3), (2, 1)]\n",
    "last_ele=[]\n",
    "for x in range(len(_list)):\n",
    "    last_ele.append(_list[x][1])\n",
    "last_ele=sorted((last_ele))\n",
    "\n",
    "new_list=[]\n",
    "for x in last_ele:\n",
    "    for item in _list:\n",
    "        if x==item[1]:\n",
    "            new_list.append(item)\n",
    "            break\n",
    "    \n",
    "new_list     "
   ]
  },
  {
   "cell_type": "raw",
   "id": "25aa08f4",
   "metadata": {},
   "source": [
    "7​Write a Python program to remove duplicates from a list."
   ]
  },
  {
   "cell_type": "code",
   "execution_count": 148,
   "id": "d7006d7d",
   "metadata": {},
   "outputs": [
    {
     "data": {
      "text/plain": [
       "[10, 2, 3, 5, 6, 63, 23]"
      ]
     },
     "execution_count": 148,
     "metadata": {},
     "output_type": "execute_result"
    }
   ],
   "source": [
    "l = [10,2,3,5,2,2,2,10,5,3,6,5,63,23]\n",
    "output=[]\n",
    "for x in l:\n",
    "    if x not in output:\n",
    "        output.append(x)\n",
    "output        "
   ]
  },
  {
   "cell_type": "raw",
   "id": "4e2c59c8",
   "metadata": {},
   "source": [
    "8​Write a Python program to check a list is empty or not."
   ]
  },
  {
   "cell_type": "code",
   "execution_count": 152,
   "id": "24c3c6aa",
   "metadata": {},
   "outputs": [
    {
     "name": "stdout",
     "output_type": "stream",
     "text": [
      "list has a length of : 1\n"
     ]
    }
   ],
   "source": [
    "empty = [10]\n",
    "if len(empty)==0:\n",
    "    print(\"list is empty\")\n",
    "else:\n",
    "    print(\"list has a length of :\",len(empty))"
   ]
  },
  {
   "cell_type": "raw",
   "id": "43e60d95",
   "metadata": {},
   "source": [
    "9​Write a Python program to generate a 3*4*6 3D array whose each element is"
   ]
  },
  {
   "cell_type": "code",
   "execution_count": 154,
   "id": "7de77ab6",
   "metadata": {},
   "outputs": [
    {
     "data": {
      "text/plain": [
       "[[['*', '*', '*', '*', '*', '*'],\n",
       "  ['*', '*', '*', '*', '*', '*'],\n",
       "  ['*', '*', '*', '*', '*', '*'],\n",
       "  ['*', '*', '*', '*', '*', '*']],\n",
       " [['*', '*', '*', '*', '*', '*'],\n",
       "  ['*', '*', '*', '*', '*', '*'],\n",
       "  ['*', '*', '*', '*', '*', '*'],\n",
       "  ['*', '*', '*', '*', '*', '*']],\n",
       " [['*', '*', '*', '*', '*', '*'],\n",
       "  ['*', '*', '*', '*', '*', '*'],\n",
       "  ['*', '*', '*', '*', '*', '*'],\n",
       "  ['*', '*', '*', '*', '*', '*']]]"
      ]
     },
     "execution_count": 154,
     "metadata": {},
     "output_type": "execute_result"
    }
   ],
   "source": [
    "array = [[ ['*' for col in range(6)] for col in range(4)] for row in range(3)]"
   ]
  },
  {
   "cell_type": "raw",
   "id": "454dde87",
   "metadata": {},
   "source": [
    "10​Write a Python program to print the numbers of a specified list after removing\n",
    "even numbers from it."
   ]
  },
  {
   "cell_type": "code",
   "execution_count": 157,
   "id": "c290d8c5",
   "metadata": {},
   "outputs": [
    {
     "data": {
      "text/plain": [
       "[7, 120, 25, 20, 27]"
      ]
     },
     "execution_count": 157,
     "metadata": {},
     "output_type": "execute_result"
    }
   ],
   "source": [
    "num = [7,8, 120, 25, 44, 20, 27]\n",
    "for x in num:\n",
    "    if x%2==0:\n",
    "        num.remove(x)\n",
    "num"
   ]
  },
  {
   "cell_type": "raw",
   "id": "e268959b",
   "metadata": {},
   "source": [
    "10​ Write a Python program to create a list with infinite elements."
   ]
  },
  {
   "cell_type": "code",
   "execution_count": 18,
   "id": "2b69c3cd",
   "metadata": {},
   "outputs": [],
   "source": [
    "def infinite_data():\n",
    "    for i in range(0,100):\n",
    "        yield i"
   ]
  },
  {
   "cell_type": "code",
   "execution_count": 19,
   "id": "5ae0e784",
   "metadata": {},
   "outputs": [],
   "source": [
    "s = infinite_data()"
   ]
  },
  {
   "cell_type": "code",
   "execution_count": 21,
   "id": "7106e08a",
   "metadata": {},
   "outputs": [
    {
     "name": "stdout",
     "output_type": "stream",
     "text": [
      "0\n",
      "1\n",
      "2\n",
      "3\n",
      "4\n",
      "5\n",
      "6\n",
      "7\n",
      "8\n",
      "9\n"
     ]
    }
   ],
   "source": [
    "for i in range(0,10):\n",
    "    print(next(s))"
   ]
  },
  {
   "cell_type": "code",
   "execution_count": null,
   "id": "26dd78ec",
   "metadata": {},
   "outputs": [],
   "source": []
  },
  {
   "cell_type": "raw",
   "id": "f830b75a",
   "metadata": {},
   "source": []
  },
  {
   "cell_type": "code",
   "execution_count": null,
   "id": "58ecad51",
   "metadata": {},
   "outputs": [],
   "source": [
    "Write a Python program to find a tuple, the smallest second index value from\n",
    "a list of tuples"
   ]
  },
  {
   "cell_type": "code",
   "execution_count": 22,
   "id": "a2e8b894",
   "metadata": {},
   "outputs": [],
   "source": [
    "List = [(2),(6),(0),(4),(8)]\n",
    "List2=sorted(List)"
   ]
  },
  {
   "cell_type": "code",
   "execution_count": 23,
   "id": "46e19bc9",
   "metadata": {},
   "outputs": [
    {
     "data": {
      "text/plain": [
       "[0, 2, 4, 6, 8]"
      ]
     },
     "execution_count": 23,
     "metadata": {},
     "output_type": "execute_result"
    }
   ],
   "source": [
    "List2"
   ]
  },
  {
   "cell_type": "code",
   "execution_count": null,
   "id": "b9080697",
   "metadata": {},
   "outputs": [],
   "source": []
  },
  {
   "cell_type": "code",
   "execution_count": null,
   "id": "b85c3883",
   "metadata": {},
   "outputs": [],
   "source": []
  },
  {
   "cell_type": "code",
   "execution_count": null,
   "id": "11217d14",
   "metadata": {},
   "outputs": [],
   "source": []
  }
 ],
 "metadata": {
  "kernelspec": {
   "display_name": "Python 3 (ipykernel)",
   "language": "python",
   "name": "python3"
  },
  "language_info": {
   "codemirror_mode": {
    "name": "ipython",
    "version": 3
   },
   "file_extension": ".py",
   "mimetype": "text/x-python",
   "name": "python",
   "nbconvert_exporter": "python",
   "pygments_lexer": "ipython3",
   "version": "3.10.9"
  }
 },
 "nbformat": 4,
 "nbformat_minor": 5
}
