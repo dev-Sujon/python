{
 "cells": [
  {
   "cell_type": "code",
   "execution_count": 1,
   "id": "5460850b",
   "metadata": {},
   "outputs": [],
   "source": [
    "import plotly.express as px\n",
    "df = px.data.iris()"
   ]
  },
  {
   "cell_type": "code",
   "execution_count": 2,
   "id": "ea261409",
   "metadata": {},
   "outputs": [
    {
     "data": {
      "text/html": [
       "<div>\n",
       "<style scoped>\n",
       "    .dataframe tbody tr th:only-of-type {\n",
       "        vertical-align: middle;\n",
       "    }\n",
       "\n",
       "    .dataframe tbody tr th {\n",
       "        vertical-align: top;\n",
       "    }\n",
       "\n",
       "    .dataframe thead th {\n",
       "        text-align: right;\n",
       "    }\n",
       "</style>\n",
       "<table border=\"1\" class=\"dataframe\">\n",
       "  <thead>\n",
       "    <tr style=\"text-align: right;\">\n",
       "      <th></th>\n",
       "      <th>sepal_length</th>\n",
       "      <th>sepal_width</th>\n",
       "      <th>petal_length</th>\n",
       "      <th>petal_width</th>\n",
       "      <th>species</th>\n",
       "      <th>species_id</th>\n",
       "    </tr>\n",
       "  </thead>\n",
       "  <tbody>\n",
       "    <tr>\n",
       "      <th>0</th>\n",
       "      <td>5.1</td>\n",
       "      <td>3.5</td>\n",
       "      <td>1.4</td>\n",
       "      <td>0.2</td>\n",
       "      <td>setosa</td>\n",
       "      <td>1</td>\n",
       "    </tr>\n",
       "    <tr>\n",
       "      <th>1</th>\n",
       "      <td>4.9</td>\n",
       "      <td>3.0</td>\n",
       "      <td>1.4</td>\n",
       "      <td>0.2</td>\n",
       "      <td>setosa</td>\n",
       "      <td>1</td>\n",
       "    </tr>\n",
       "    <tr>\n",
       "      <th>2</th>\n",
       "      <td>4.7</td>\n",
       "      <td>3.2</td>\n",
       "      <td>1.3</td>\n",
       "      <td>0.2</td>\n",
       "      <td>setosa</td>\n",
       "      <td>1</td>\n",
       "    </tr>\n",
       "    <tr>\n",
       "      <th>3</th>\n",
       "      <td>4.6</td>\n",
       "      <td>3.1</td>\n",
       "      <td>1.5</td>\n",
       "      <td>0.2</td>\n",
       "      <td>setosa</td>\n",
       "      <td>1</td>\n",
       "    </tr>\n",
       "    <tr>\n",
       "      <th>4</th>\n",
       "      <td>5.0</td>\n",
       "      <td>3.6</td>\n",
       "      <td>1.4</td>\n",
       "      <td>0.2</td>\n",
       "      <td>setosa</td>\n",
       "      <td>1</td>\n",
       "    </tr>\n",
       "  </tbody>\n",
       "</table>\n",
       "</div>"
      ],
      "text/plain": [
       "   sepal_length  sepal_width  petal_length  petal_width species  species_id\n",
       "0           5.1          3.5           1.4          0.2  setosa           1\n",
       "1           4.9          3.0           1.4          0.2  setosa           1\n",
       "2           4.7          3.2           1.3          0.2  setosa           1\n",
       "3           4.6          3.1           1.5          0.2  setosa           1\n",
       "4           5.0          3.6           1.4          0.2  setosa           1"
      ]
     },
     "execution_count": 2,
     "metadata": {},
     "output_type": "execute_result"
    }
   ],
   "source": [
    "df.head()"
   ]
  },
  {
   "cell_type": "code",
   "execution_count": 3,
   "id": "0e2a2adb",
   "metadata": {},
   "outputs": [],
   "source": [
    "# Import\n",
    "from sklearn.neighbors import KNeighborsClassifier\n",
    "\n",
    "# Initialise the object\n",
    "\n",
    "neigh = KNeighborsClassifier(n_neighbors=25)"
   ]
  },
  {
   "cell_type": "code",
   "execution_count": 102,
   "id": "219b2225",
   "metadata": {},
   "outputs": [],
   "source": [
    "# Define X nd Y\n",
    "X = df[['petal_length', 'petal_width']]\n",
    "Y = df['species']"
   ]
  },
  {
   "cell_type": "code",
   "execution_count": 104,
   "id": "b0aa0ecd",
   "metadata": {},
   "outputs": [],
   "source": [
    "from sklearn.model_selection import train_test_split\n",
    "X_train, X_test, y_train, y_test = train_test_split(\n",
    "     X, Y, test_size=0.40, random_state=42)"
   ]
  },
  {
   "cell_type": "code",
   "execution_count": 105,
   "id": "d9cc7f19",
   "metadata": {},
   "outputs": [
    {
     "data": {
      "text/plain": [
       "((90, 2), (60, 2), (90,), (60,))"
      ]
     },
     "execution_count": 105,
     "metadata": {},
     "output_type": "execute_result"
    }
   ],
   "source": [
    "X_train.shape, X_test.shape, y_train.shape, y_test.shape"
   ]
  },
  {
   "cell_type": "code",
   "execution_count": 106,
   "id": "73f545e7",
   "metadata": {},
   "outputs": [
    {
     "data": {
      "text/plain": [
       "KNeighborsClassifier(p=3)"
      ]
     },
     "execution_count": 106,
     "metadata": {},
     "output_type": "execute_result"
    }
   ],
   "source": [
    "# Training \n",
    "neigh.fit(X_train, y_train)"
   ]
  },
  {
   "cell_type": "code",
   "execution_count": 107,
   "id": "b4b9c102",
   "metadata": {},
   "outputs": [],
   "source": [
    "y_prediction = neigh.predict(X_test)"
   ]
  },
  {
   "cell_type": "code",
   "execution_count": 108,
   "id": "e3be9aa8",
   "metadata": {},
   "outputs": [],
   "source": [
    "from sklearn.metrics import accuracy_score\n",
    "acc = accuracy_score(y_prediction,y_test)"
   ]
  },
  {
   "cell_type": "code",
   "execution_count": 109,
   "id": "c53f86a7",
   "metadata": {},
   "outputs": [],
   "source": [
    "y_prediction = list(y_prediction)\n",
    "y_test = list(y_test)"
   ]
  },
  {
   "cell_type": "code",
   "execution_count": 110,
   "id": "e5c08049",
   "metadata": {},
   "outputs": [
    {
     "name": "stdout",
     "output_type": "stream",
     "text": [
      "0.9833333333333333\n"
     ]
    }
   ],
   "source": [
    "print(acc)"
   ]
  },
  {
   "cell_type": "code",
   "execution_count": 111,
   "id": "740669c5",
   "metadata": {},
   "outputs": [
    {
     "name": "stdout",
     "output_type": "stream",
     "text": [
      "versicolor virginica\n"
     ]
    }
   ],
   "source": [
    "for  i in range(len(y_test)):\n",
    "    if y_prediction[i]!=y_test[i]:\n",
    "        print(y_prediction[i],y_test[i])"
   ]
  },
  {
   "cell_type": "code",
   "execution_count": 112,
   "id": "f1e972ce",
   "metadata": {},
   "outputs": [
    {
     "name": "stdout",
     "output_type": "stream",
     "text": [
      "for  3 accuracy  test data is 0.9833333333333333\n",
      "for  3 accuracy  train data is 0.9666666666666667\n",
      "****************************************************************************************************\n",
      "for  4 accuracy  test data is 0.9833333333333333\n",
      "for  4 accuracy  train data is 0.9666666666666667\n",
      "****************************************************************************************************\n",
      "for  5 accuracy  test data is 0.9833333333333333\n",
      "for  5 accuracy  train data is 0.9555555555555556\n",
      "****************************************************************************************************\n",
      "for  6 accuracy  test data is 0.9833333333333333\n",
      "for  6 accuracy  train data is 0.9666666666666667\n",
      "****************************************************************************************************\n",
      "for  7 accuracy  test data is 0.9833333333333333\n",
      "for  7 accuracy  train data is 0.9666666666666667\n",
      "****************************************************************************************************\n",
      "for  8 accuracy  test data is 0.9833333333333333\n",
      "for  8 accuracy  train data is 0.9666666666666667\n",
      "****************************************************************************************************\n",
      "for  9 accuracy  test data is 0.9833333333333333\n",
      "for  9 accuracy  train data is 0.9555555555555556\n",
      "****************************************************************************************************\n",
      "for  10 accuracy  test data is 0.9833333333333333\n",
      "for  10 accuracy  train data is 0.9666666666666667\n",
      "****************************************************************************************************\n",
      "for  11 accuracy  test data is 1.0\n",
      "for  11 accuracy  train data is 0.9444444444444444\n",
      "****************************************************************************************************\n",
      "for  12 accuracy  test data is 0.9833333333333333\n",
      "for  12 accuracy  train data is 0.9444444444444444\n",
      "****************************************************************************************************\n",
      "for  13 accuracy  test data is 0.9833333333333333\n",
      "for  13 accuracy  train data is 0.9444444444444444\n",
      "****************************************************************************************************\n",
      "for  14 accuracy  test data is 0.9833333333333333\n",
      "for  14 accuracy  train data is 0.9444444444444444\n",
      "****************************************************************************************************\n"
     ]
    }
   ],
   "source": [
    "# Import\n",
    "from sklearn.metrics import accuracy_score\n",
    "from sklearn.neighbors import KNeighborsClassifier\n",
    "\n",
    "for i in range(3,15):\n",
    "    \n",
    "    # Initialization\n",
    "    neigh = KNeighborsClassifier(n_neighbors=i,weights = 'uniform',p = 3,n_jobs = -1)\n",
    "    \n",
    "    # Training\n",
    "    neigh.fit(X_train, y_train)\n",
    "    \n",
    "    # Prediction\n",
    "    y_prediction_test = neigh.predict(X_test)\n",
    "    y_prediction_train = neigh.predict(X_train)\n",
    "\n",
    "    \n",
    "    acc_test = accuracy_score(y_prediction_test,y_test)\n",
    "    print('for ',i,'accuracy  test data is',acc_test)\n",
    "    \n",
    "    acc_train = accuracy_score(y_prediction_train,y_train)\n",
    "    print('for ',i,'accuracy  train data is',acc_train)\n",
    "    \n",
    "    print('*'*100)"
   ]
  },
  {
   "cell_type": "code",
   "execution_count": 113,
   "id": "9bb9c419",
   "metadata": {},
   "outputs": [
    {
     "data": {
      "text/plain": [
       "GridSearchCV(estimator=KNeighborsClassifier(),\n",
       "             param_grid={'n_neighbors': [4, 5, 6, 7, 8], 'p': [1, 2, 3],\n",
       "                         'weights': ['uniform', 'distance']})"
      ]
     },
     "execution_count": 113,
     "metadata": {},
     "output_type": "execute_result"
    }
   ],
   "source": [
    "from sklearn.model_selection import GridSearchCV\n",
    "parameters = {'n_neighbors':[4,5,6,7,8],'weights':['uniform','distance'],'p':[1,2,3]}\n",
    "\n",
    "neigh = KNeighborsClassifier()\n",
    "clf = GridSearchCV(neigh, parameters)\n",
    "\n",
    "clf.fit(X_train, y_train)"
   ]
  },
  {
   "cell_type": "code",
   "execution_count": 114,
   "id": "aa0df48b",
   "metadata": {},
   "outputs": [
    {
     "data": {
      "text/plain": [
       "{'n_neighbors': 5, 'p': 1, 'weights': 'uniform'}"
      ]
     },
     "execution_count": 114,
     "metadata": {},
     "output_type": "execute_result"
    }
   ],
   "source": [
    "clf.best_params_"
   ]
  },
  {
   "cell_type": "code",
   "execution_count": 115,
   "id": "d2b680df",
   "metadata": {},
   "outputs": [],
   "source": [
    "neigh = KNeighborsClassifier(n_neighbors=5,p=3,weights='uniform')"
   ]
  },
  {
   "cell_type": "code",
   "execution_count": 116,
   "id": "65c4dc37",
   "metadata": {},
   "outputs": [
    {
     "name": "stdout",
     "output_type": "stream",
     "text": [
      "accuracy  test data is 0.9833333333333333\n",
      "accuracy  train data is 0.9555555555555556\n"
     ]
    }
   ],
   "source": [
    "neigh.fit(X_train,y_train)\n",
    "pred_y_test = neigh.predict(X_test)\n",
    "pred_y_train = neigh.predict(X_train)\n",
    "acc_test = accuracy_score(pred_y_test,y_test)\n",
    "print('accuracy  test data is',acc_test)\n",
    "    \n",
    "acc_train = accuracy_score(pred_y_train,y_train)\n",
    "print('accuracy  train data is',acc_train)"
   ]
  },
  {
   "cell_type": "code",
   "execution_count": 117,
   "id": "13057400",
   "metadata": {},
   "outputs": [
    {
     "ename": "SyntaxError",
     "evalue": "invalid syntax (1262580590.py, line 1)",
     "output_type": "error",
     "traceback": [
      "\u001b[1;36m  Input \u001b[1;32mIn [117]\u001b[1;36m\u001b[0m\n\u001b[1;33m    which k value has best test value\u001b[0m\n\u001b[1;37m          ^\u001b[0m\n\u001b[1;31mSyntaxError\u001b[0m\u001b[1;31m:\u001b[0m invalid syntax\n"
     ]
    }
   ],
   "source": [
    "\n",
    "which k value has best test value\n",
    "train value - (train == test)\n",
    "\n",
    "test  train\n",
    ".95  1\n",
    ".90  .94\n",
    ".96  .98\n",
    ".93  .90\n",
    "\n",
    "overfitting\n",
    "\n",
    "training 100\n",
    "test 80"
   ]
  },
  {
   "cell_type": "code",
   "execution_count": 118,
   "id": "a2a94633",
   "metadata": {},
   "outputs": [
    {
     "data": {
      "text/plain": [
       "[4.7, 1.2]"
      ]
     },
     "execution_count": 118,
     "metadata": {},
     "output_type": "execute_result"
    }
   ],
   "source": [
    "new=list(X_test[:1].values[0])\n",
    "new"
   ]
  },
  {
   "cell_type": "code",
   "execution_count": 120,
   "id": "38986af0",
   "metadata": {},
   "outputs": [
    {
     "name": "stderr",
     "output_type": "stream",
     "text": [
      "C:\\Users\\Smritik Sadhukhan\\anaconda3\\lib\\site-packages\\sklearn\\base.py:450: UserWarning: X does not have valid feature names, but KNeighborsClassifier was fitted with feature names\n",
      "  warnings.warn(\n"
     ]
    },
    {
     "data": {
      "text/plain": [
       "array(['versicolor'], dtype=object)"
      ]
     },
     "execution_count": 120,
     "metadata": {},
     "output_type": "execute_result"
    }
   ],
   "source": [
    "neigh.predict([[5, 1.2]])"
   ]
  },
  {
   "cell_type": "code",
   "execution_count": 60,
   "id": "5cb0f08f",
   "metadata": {},
   "outputs": [],
   "source": [
    "acc_test = accuracy_score([0,1,1],[1,1,1])\n"
   ]
  },
  {
   "cell_type": "code",
   "execution_count": 61,
   "id": "c02a0e3b",
   "metadata": {},
   "outputs": [
    {
     "data": {
      "text/plain": [
       "0.6666666666666666"
      ]
     },
     "execution_count": 61,
     "metadata": {},
     "output_type": "execute_result"
    }
   ],
   "source": [
    "acc_test"
   ]
  },
  {
   "cell_type": "code",
   "execution_count": 90,
   "id": "2572be5c",
   "metadata": {},
   "outputs": [
    {
     "data": {
      "text/plain": [
       "RandomizedSearchCV(estimator=KNeighborsClassifier(), n_iter=3,\n",
       "                   param_distributions={'n_neighbors': [4, 5, 6, 7, 8],\n",
       "                                        'p': [1, 2, 3],\n",
       "                                        'weights': ['uniform', 'distance']})"
      ]
     },
     "execution_count": 90,
     "metadata": {},
     "output_type": "execute_result"
    }
   ],
   "source": [
    "from sklearn.model_selection import RandomizedSearchCV\n",
    "parameters = {'n_neighbors':[4,5,6,7,8],'weights':['uniform','distance'],'p':[1,2,3]}\n",
    "\n",
    "neigh = KNeighborsClassifier()\n",
    "clf = RandomizedSearchCV(neigh, parameters,n_iter=3)\n",
    "\n",
    "clf.fit(X_train, y_train)"
   ]
  },
  {
   "cell_type": "code",
   "execution_count": 91,
   "id": "3dd98899",
   "metadata": {},
   "outputs": [
    {
     "data": {
      "text/plain": [
       "{'weights': 'distance', 'p': 3, 'n_neighbors': 7}"
      ]
     },
     "execution_count": 91,
     "metadata": {},
     "output_type": "execute_result"
    }
   ],
   "source": [
    "clf.best_params_"
   ]
  },
  {
   "cell_type": "code",
   "execution_count": 74,
   "id": "dc6bbf49",
   "metadata": {},
   "outputs": [
    {
     "ename": "NameError",
     "evalue": "name 'Haberman' is not defined",
     "output_type": "error",
     "traceback": [
      "\u001b[1;31m---------------------------------------------------------------------------\u001b[0m",
      "\u001b[1;31mNameError\u001b[0m                                 Traceback (most recent call last)",
      "Input \u001b[1;32mIn [74]\u001b[0m, in \u001b[0;36m<cell line: 1>\u001b[1;34m()\u001b[0m\n\u001b[1;32m----> 1\u001b[0m \u001b[43mHaberman\u001b[49m\n",
      "\u001b[1;31mNameError\u001b[0m: name 'Haberman' is not defined"
     ]
    }
   ],
   "source": [
    "Haberman \n",
    "knn algorithm(survived or not)\n",
    "hyperparameter tuning\n",
    "evaluation - accuracy \n",
    "\n",
    "and titanic dataset(survival) (EDA) "
   ]
  },
  {
   "cell_type": "code",
   "execution_count": null,
   "id": "0521e91b",
   "metadata": {},
   "outputs": [],
   "source": [
    "\n",
    "line plot - numerical(time related)\n",
    "scatter plot (numerical)  compare 2 columns (correlation)\n",
    "bar plot,pie chart - categorical columns (compare 2 cols)\n",
    "corr, pair plot ( more than 2 cols) - numerical col\n",
    "\n",
    "Univarient (single numerical col)\n",
    "box plot, violin plot (outlier)\n",
    "density,frequency check "
   ]
  },
  {
   "cell_type": "code",
   "execution_count": 125,
   "id": "c5885cb3",
   "metadata": {},
   "outputs": [
    {
     "data": {
      "image/png": "[encoded data removed]",
      "text/plain": [
       "<Figure size 432x288 with 1 Axes>"
      ]
     },
     "metadata": {
      "needs_background": "light"
     },
     "output_type": "display_data"
    }
   ],
   "source": [
    "import matplotlib.pyplot as plt\n",
    "x = df[df['species']=='setosa']['petal_length']\n",
    "y = df[df['species']=='setosa']['petal_width']\n",
    "\n",
    "x_new = [1]\n",
    "y_new = [1]\n",
    "\n",
    "x1 = df[df['species']=='versicolor']['petal_length']\n",
    "y1 = df[df['species']=='versicolor']['petal_width']\n",
    "\n",
    "plt.scatter(x,y,color = 'r')\n",
    "plt.scatter(x1,y1, color = 'b')\n",
    "plt.scatter(x_new,y_new, color = 'g')\n",
    "plt.legend(['setosa','versicolor'])\n",
    "plt.xlabel('petal_length')\n",
    "plt.ylabel('petal_width')\n",
    "\n",
    "\n",
    "\n",
    "plt.show()"
   ]
  },
  {
   "cell_type": "code",
   "execution_count": 126,
   "id": "00478dc3",
   "metadata": {},
   "outputs": [
    {
     "name": "stderr",
     "output_type": "stream",
     "text": [
      "C:\\Users\\Smritik Sadhukhan\\anaconda3\\lib\\site-packages\\sklearn\\base.py:450: UserWarning: X does not have valid feature names, but KNeighborsClassifier was fitted with feature names\n",
      "  warnings.warn(\n"
     ]
    },
    {
     "data": {
      "text/plain": [
       "array(['setosa'], dtype=object)"
      ]
     },
     "execution_count": 126,
     "metadata": {},
     "output_type": "execute_result"
    }
   ],
   "source": [
    "neigh.predict([[1, 1]])"
   ]
  },
  {
   "cell_type": "code",
   "execution_count": null,
   "id": "1ea1c44d",
   "metadata": {},
   "outputs": [],
   "source": []
  }
 ],
 "metadata": {
  "kernelspec": {
   "display_name": "Python 3 (ipykernel)",
   "language": "python",
   "name": "python3"
  },
  "language_info": {
   "codemirror_mode": {
    "name": "ipython",
    "version": 3
   },
   "file_extension": ".py",
   "mimetype": "text/x-python",
   "name": "python",
   "nbconvert_exporter": "python",
   "pygments_lexer": "ipython3",
   "version": "3.11.4"
  }
 },
 "nbformat": 4,
 "nbformat_minor": 5
}
