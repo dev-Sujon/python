{
 "cells": [
  {
   "cell_type": "markdown",
   "id": "cf8baede",
   "metadata": {},
   "source": [
    "# Conditional Statement\n",
    "        In python, Conditional Statements define three possible possibilities \n",
    "        \n",
    "          1.  if\n",
    "              if \n",
    "              if\n",
    "              ...\n",
    "              \n",
    "            \n",
    "          2.  if\n",
    "              elif\n",
    "              elif\n",
    "              elif\n",
    "              ....\n",
    "            \n",
    "           3. if \n",
    "              elif\n",
    "              elif\n",
    "              elif\n",
    "              ....\n",
    "              else"
   ]
  },
  {
   "cell_type": "markdown",
   "id": "b898cfdf",
   "metadata": {},
   "source": [
    "# Type of condition statement in Python:\n",
    "\n",
    "    If statement.\n",
    "    If Else statement.\n",
    "    Elif statement.\n",
    "    Nested if statement.\n",
    "    Nested if else statement."
   ]
  },
  {
   "cell_type": "markdown",
   "id": "d93da674",
   "metadata": {},
   "source": [
    "# Comparison operators\n",
    "        Very typically conditions consist of comparing two values.\n",
    "        Here is a table with the most common comparison operators used in Python:\n",
    "\n",
    "        Operator\t      \n",
    "        ==\tEqual to\n",
    "        !=\tNot equal to\n",
    "        >\tGreater than\n",
    "        >=\tGreater than or equal to\n",
    "        <\tLess than\ta < b\n",
    "        <=\tLess than or equal to"
   ]
  },
  {
   "cell_type": "code",
   "execution_count": null,
   "id": "119e1f3e",
   "metadata": {},
   "outputs": [],
   "source": [
    "a = 100\n",
    "b = 100\n",
    "print(\"A = \",a)\n",
    "print(\"B = \",b)\n",
    "print()\n",
    "if a == b:\n",
    "    print('They are both equal')\n",
    "if a>b:\n",
    "    print(\"A > B\")\n",
    "if a<b:\n",
    "    print('A < B')\n",
    "if a!=b:    \n",
    "    print(\"A != B\")"
   ]
  },
  {
   "cell_type": "code",
   "execution_count": null,
   "id": "c4ba1511",
   "metadata": {},
   "outputs": [],
   "source": [
    "x,y =1,10\n",
    "\n",
    "if x < y:\n",
    "    st= \"x is less than y\"\n",
    "if x == y:\n",
    "    st = \"x and y is equal\"    \n",
    "if x > y:\n",
    "    st = \"x is greater than y\"\n",
    "    \n",
    "print(st)"
   ]
  },
  {
   "cell_type": "code",
   "execution_count": null,
   "id": "fb29fb79",
   "metadata": {},
   "outputs": [],
   "source": [
    "a = [10,20,3,0]\n",
    "b = [333,111,150,1.10]\n",
    "aLen = len(a)\n",
    "bLen = len(b)\n",
    "if aLen == bLen:\n",
    "    print(\"Both list are same length\")\n",
    "if aLen != bLen:\n",
    "    print(\"Lists are not same lenght\")\n",
    "    "
   ]
  },
  {
   "cell_type": "code",
   "execution_count": null,
   "id": "26c5e34b",
   "metadata": {},
   "outputs": [],
   "source": [
    "num = 5\n",
    "if (num < 10):\n",
    "        print('Num is smaller than 10')\n",
    " \n",
    "print('This statement will always be executed')\n"
   ]
  },
  {
   "cell_type": "code",
   "execution_count": null,
   "id": "6957e4a9",
   "metadata": {},
   "outputs": [],
   "source": [
    "a = 7\n",
    "b = 0\n",
    "if (a > b):\n",
    "            print(“a is greater than b”)"
   ]
  },
  {
   "cell_type": "code",
   "execution_count": null,
   "id": "5593bc7f",
   "metadata": {},
   "outputs": [],
   "source": [
    "a = 1\n",
    "b = 0\n",
    "if (a):\n",
    "    print(True)\n",
    "if (b==0):\n",
    "    print(False)"
   ]
  },
  {
   "cell_type": "code",
   "execution_count": null,
   "id": "e5bd1a76",
   "metadata": {},
   "outputs": [],
   "source": [
    "lst = ['Java','Python','C#','Javascript']\n",
    "if 'Python' in lst:\n",
    "    print('True')\n",
    "if 'C#' in lst:\n",
    "    print('True')"
   ]
  },
  {
   "cell_type": "code",
   "execution_count": null,
   "id": "77f662ab",
   "metadata": {},
   "outputs": [],
   "source": [
    "def passOrFail(sub,mark):\n",
    "    if mark>=33:\n",
    "        return 'pass in',sub\n",
    "    if mark<33:\n",
    "        return 'fail in',sub,\":\",mark\n",
    "        \n",
    "res = passOrFail('Math',32)\n",
    "res1 = passOrFail(\"Englu\")\n"
   ]
  },
  {
   "cell_type": "code",
   "execution_count": null,
   "id": "f40a9aca",
   "metadata": {},
   "outputs": [],
   "source": [
    "passing_Score = 60\n",
    "my_Score = 67\n",
    "if(my_Score >= passing_Score):\n",
    "             print('Congratulations! You passed the exam')    \n",
    "             print('You are passed in the exam')        \n",
    "else:\n",
    "             print('Sorry! You failed the exam, better luck next time')"
   ]
  },
  {
   "cell_type": "code",
   "execution_count": null,
   "id": "87c75e2e",
   "metadata": {},
   "outputs": [],
   "source": [
    "num = -7\n",
    "if (num > 0):\n",
    "              print('Number is positive')\n",
    "elif (num < 0):\n",
    "              print('Number is negative')\n",
    "else:\n",
    "              print('Number is Zero')"
   ]
  },
  {
   "cell_type": "code",
   "execution_count": null,
   "id": "14b9f279",
   "metadata": {},
   "outputs": [],
   "source": [
    "lat1, long1  = 57.792017, 12.054745\n",
    "lat2, long2  = -14.896547, -3.132567\n",
    " \n",
    "print('NS'[lat1 < 0])\n",
    "print('NS'[lat2 < 0])\n",
    " \n",
    "print('EW'[long1 < 0])\n",
    "print('EW'[long2 < 0])"
   ]
  },
  {
   "cell_type": "code",
   "execution_count": null,
   "id": "eb57c596",
   "metadata": {},
   "outputs": [],
   "source": [
    "password = input(\"Please type in a password: \")\n",
    "\n",
    "if password == \"kittycat\":\n",
    "    print(\"You knew the password!\")\n",
    "    print(\"You must be either the intended user...\")\n",
    "    print(\"...or quite an accomplished hacker.\")\n",
    "\n",
    "print(\"The program has finished its execution. Thanks and bye!\")"
   ]
  },
  {
   "cell_type": "code",
   "execution_count": null,
   "id": "6d69044f",
   "metadata": {},
   "outputs": [],
   "source": [
    "age = int(input(\"How old are you? \"))\n",
    "if age > 17:\n",
    "    print(\"You are of age!\")\n",
    "    print(\"Here's a copy of GTA6 for you.\")\n",
    "else:\n",
    "    print(\"You are not able to buy GTA6\")\n",
    "print(\"Next customer, please!\")"
   ]
  },
  {
   "cell_type": "code",
   "execution_count": null,
   "id": "ee3676be",
   "metadata": {},
   "outputs": [],
   "source": [
    "number = -1\n",
    "\n",
    "if number < 0:\n",
    "    print(\"The number is negative.\")\n",
    "\n",
    "if number > 0:\n",
    "    print(\"The number is positive.\")\n",
    "\n",
    "if number == 0:\n",
    "    print(\"The number is zero.\")"
   ]
  },
  {
   "cell_type": "code",
   "execution_count": null,
   "id": "d01cb24a",
   "metadata": {},
   "outputs": [],
   "source": [
    "password = \"kittycatr\"\n",
    "if password == \"kittycat\":\n",
    "    print(\"You knew the password!\")\n",
    "    print(\"You must be either the intended user...\")\n",
    "    print(\"...or quite an accomplished hacker.\")\n",
    "else:\n",
    "    print(\"Password is incorrect\")\n",
    "print(\"The program has finished its execution. Thanks and bye!\")"
   ]
  },
  {
   "cell_type": "markdown",
   "id": "76f48002",
   "metadata": {},
   "source": [
    "nested loop"
   ]
  },
  {
   "cell_type": "code",
   "execution_count": 7,
   "id": "50909af1",
   "metadata": {},
   "outputs": [
    {
     "name": "stdout",
     "output_type": "stream",
     "text": [
      "Shipping Cost is $25\n"
     ]
    }
   ],
   "source": [
    "total = 100\n",
    "#country = \"US\"\n",
    "country = \"AU\"\n",
    "if country == \"US\":\n",
    "    if total <= 50:\n",
    "        print(\"Shipping Cost is  $50\")\n",
    "elif total <= 100:\n",
    "        print(\"Shipping Cost is $25\")\n",
    "elif total <= 150:\n",
    "      print(\"Shipping Costs $5\")\n",
    "else:\n",
    "        print(\"FREE\")\n",
    "if country == \"AU\": \n",
    "    if total <= 50:\n",
    "        print(\"Shipping Cost is  $100\")\n",
    "else:\n",
    "    print(\"FREE\")"
   ]
  },
  {
   "cell_type": "markdown",
   "id": "40390383",
   "metadata": {},
   "source": [
    "Write an if statement that asks for the user's name via input() function. If the name is \"Bond\" make it print \"Welcome on board 007.\" Otherwise make it print \"Good morning NAME\". (Replace Name with user's name)"
   ]
  },
  {
   "cell_type": "code",
   "execution_count": 13,
   "id": "f3eb12dc",
   "metadata": {},
   "outputs": [
    {
     "name": "stdout",
     "output_type": "stream",
     "text": [
      "Enter name : Bond\n",
      "Welcome on board 007\n"
     ]
    }
   ],
   "source": [
    "name = str(input(\"Enter name : \"))\n",
    "if name == 'Bond':\n",
    "    print('Welcome on board 007')\n",
    "else:\n",
    "    print('Good morning',name)"
   ]
  },
  {
   "cell_type": "code",
   "execution_count": 7,
   "id": "f5b77b2b",
   "metadata": {},
   "outputs": [
    {
     "name": "stdout",
     "output_type": "stream",
     "text": [
      "Daily wages: 120.0 euros\n"
     ]
    }
   ],
   "source": [
    "# hourly_wage = float(input(\"Hourly wage: \"))\n",
    "# hours = int(input(\"Hours worked: \"))\n",
    "# day = input(\"Day of the week: \")\n",
    "hourly_wage = 20.0\n",
    "hours = 6\n",
    "day = \"Sunday\"\n",
    "\n",
    "daily_wages = hourly_wage * hours\n",
    "if day == \"sunday\":\n",
    "    daily_wages * 2\n",
    "\n",
    "print(f\"Daily wages: {daily_wages} euros\")\n"
   ]
  },
  {
   "cell_type": "code",
   "execution_count": 8,
   "id": "3b74d3fb",
   "metadata": {},
   "outputs": [
    {
     "name": "stdout",
     "output_type": "stream",
     "text": [
      "Hourly wage: 10\n",
      "Hours worked: 10\n",
      "Day of the week: saterday\n",
      "Daily wages: 100.0 euros\n"
     ]
    }
   ],
   "source": [
    "hourly_wage = float(input(\"Hourly wage: \"))\n",
    "hours = int(input(\"Hours worked: \"))\n",
    "day = input(\"Day of the week: \")\n",
    "\n",
    "daily_wages = hourly_wage * hours\n",
    "if day == \"sunday\":\n",
    "    daily_wages * 2\n",
    "\n",
    "print(f\"Daily wages: {daily_wages} euros\")"
   ]
  },
  {
   "cell_type": "code",
   "execution_count": 11,
   "id": "85fedbb5",
   "metadata": {},
   "outputs": [
    {
     "ename": "IndentationError",
     "evalue": "unexpected indent (3740565561.py, line 2)",
     "output_type": "error",
     "traceback": [
      "\u001b[0;36m  Cell \u001b[0;32mIn[11], line 2\u001b[0;36m\u001b[0m\n\u001b[0;31m    if number>100:\u001b[0m\n\u001b[0m    ^\u001b[0m\n\u001b[0;31mIndentationError\u001b[0m\u001b[0;31m:\u001b[0m unexpected indent\n"
     ]
    }
   ],
   "source": []
  },
  {
   "cell_type": "code",
   "execution_count": 12,
   "id": "681b6021",
   "metadata": {},
   "outputs": [
    {
     "name": "stdout",
     "output_type": "stream",
     "text": [
      "4\n",
      "8\n",
      "10\n",
      "0\n"
     ]
    }
   ],
   "source": [
    "word = \"abcd\"\n",
    "print(len(word))\n",
    "\n",
    "print(len(\"hi there\"))\n",
    "\n",
    "word2 = \"howdydoody\"\n",
    "length = len(word2)\n",
    "print(length)\n",
    "\n",
    "empty_string = \"\"\n",
    "length = len(empty_string)\n",
    "print(length)"
   ]
  },
  {
   "cell_type": "code",
   "execution_count": 13,
   "id": "d3defd31",
   "metadata": {},
   "outputs": [
    {
     "name": "stdout",
     "output_type": "stream",
     "text": [
      "Please type in a number: 100\n",
      "The number is positive or zero\n"
     ]
    }
   ],
   "source": [
    "number = int(input(\"Please type in a number: \"))\n",
    "\n",
    "if number < 0:\n",
    "    print(\"The number is negative\")\n",
    "\n",
    "if number >= 0:\n",
    "    print(\"The number is positive or zero\")"
   ]
  },
  {
   "cell_type": "code",
   "execution_count": 20,
   "id": "f48b2df6",
   "metadata": {},
   "outputs": [
    {
     "name": "stdout",
     "output_type": "stream",
     "text": [
      "How old you are? -1\n",
      "Invalid age!\n"
     ]
    }
   ],
   "source": [
    "age = int(input(\"How old you are? \"))\n",
    "if age<0:\n",
    "    print(\"Invalid age!\")\n",
    "elif  age<20:\n",
    "    print(\"You are not in age\")\n",
    "else:\n",
    "    print(\"You are in age\")"
   ]
  },
  {
   "cell_type": "code",
   "execution_count": 21,
   "id": "80af00aa",
   "metadata": {},
   "outputs": [
    {
     "name": "stdout",
     "output_type": "stream",
     "text": [
      "Home goals scored: 4\n",
      "Away goals scored: 3\n",
      "The home team won!\n"
     ]
    }
   ],
   "source": [
    "goals_home = int(input(\"Home goals scored: \"))\n",
    "goals_away = int(input(\"Away goals scored: \"))\n",
    "\n",
    "if goals_home > goals_away:\n",
    "    print(\"The home team won!\")\n",
    "elif goals_away > goals_home:\n",
    "    print(\"The away team won!\")\n",
    "else:\n",
    "    print(\"It's a tie!\")"
   ]
  },
  {
   "cell_type": "code",
   "execution_count": 22,
   "id": "4af1506c",
   "metadata": {},
   "outputs": [
    {
     "name": "stdout",
     "output_type": "stream",
     "text": [
      "Holiday calendar\n",
      "What is the date today? 16\n",
      "Thanks and bye.\n"
     ]
    }
   ],
   "source": [
    "print(\"Holiday calendar\")\n",
    "date = input(\"What is the date today? \")\n",
    "\n",
    "if date == \"Dec 26\":\n",
    "    print(\"It's Boxing Day\")\n",
    "elif date == \"Dec 31\":\n",
    "    print(\"It's Hogmanay\")\n",
    "elif date == \"Jan 1\":\n",
    "    print(\"It's New Year's Day\")\n",
    "\n",
    "print(\"Thanks and bye.\")"
   ]
  },
  {
   "cell_type": "code",
   "execution_count": null,
   "id": "aaeec4fc",
   "metadata": {},
   "outputs": [],
   "source": []
  },
  {
   "cell_type": "markdown",
   "id": "2d8dc21c",
   "metadata": {},
   "source": [
    "Switch Case Statement in Python"
   ]
  },
  {
   "cell_type": "code",
   "execution_count": 11,
   "id": "32736834",
   "metadata": {},
   "outputs": [
    {
     "name": "stdout",
     "output_type": "stream",
     "text": [
      "This is case 1\n",
      "This is case 2\n",
      "This is case 3\n",
      "This is the default case\n"
     ]
    }
   ],
   "source": [
    "def switch_case(argument):\n",
    "    if argument == 'case1':\n",
    "        print(\"This is case 1\")\n",
    "    elif argument == 'case2':\n",
    "        print(\"This is case 2\")\n",
    "    elif argument == 'case3':\n",
    "        print(\"This is case 3\")\n",
    "    else:\n",
    "        print(\"This is the default case\")\n",
    "\n",
    "# Testing the switch_case function\n",
    "switch_case('case1')  # Output: This is case 1\n",
    "switch_case('case2')  # Output: This is case 2\n",
    "switch_case('case3')  # Output: This is case 3\n",
    "switch_case('case4')  # Output: This is the default case\n"
   ]
  },
  {
   "cell_type": "code",
   "execution_count": 18,
   "id": "e6623619",
   "metadata": {},
   "outputs": [
    {
     "name": "stdout",
     "output_type": "stream",
     "text": [
      "Please type in a number: 19\n",
      "The number is odd\n"
     ]
    }
   ],
   "source": [
    "number = int(input(\"Please type in a number: \"))\n",
    "\n",
    "if number > 0:\n",
    "    if number % 2 == 0:\n",
    "        print(\"The number is even\")\n",
    "    else:\n",
    "        print(\"The number is odd\")\n",
    "else:\n",
    "    print(\"The number is negative or zero\")"
   ]
  },
  {
   "cell_type": "raw",
   "id": "7d7d0181",
   "metadata": {},
   "source": [
    "Using testcases with the help of 'while loop'"
   ]
  },
  {
   "cell_type": "code",
   "execution_count": 19,
   "id": "f8a67241",
   "metadata": {},
   "outputs": [
    {
     "name": "stdout",
     "output_type": "stream",
     "text": [
      "Please type in a number, -1 to quit: 2\n",
      "4\n",
      "Please type in a number, -1 to quit: 4\n",
      "16\n",
      "Please type in a number, -1 to quit: 4\n",
      "16\n",
      "Please type in a number, -1 to quit: -1\n",
      "Thanks and bye!\n"
     ]
    }
   ],
   "source": [
    "while True:\n",
    "    number = int(input(\"Please type in a number, -1 to quit: \"))\n",
    "\n",
    "    if number == -1:\n",
    "        break\n",
    "\n",
    "    print(number ** 2)\n",
    "\n",
    "print(\"Thanks and bye!\")"
   ]
  },
  {
   "cell_type": "code",
   "execution_count": 1,
   "id": "79559722",
   "metadata": {},
   "outputs": [
    {
     "name": "stdout",
     "output_type": "stream",
     "text": [
      "Please type in your PIN: 1598\n",
      "Incorrect...try again\n",
      "Please type in your PIN: 123\n",
      "Incorrect...try again\n",
      "Please type in your PIN: 1234\n",
      "Correct PIN entered!\n"
     ]
    }
   ],
   "source": [
    "while True:\n",
    "    code = input(\"Please type in your PIN: \")\n",
    "    if code == \"1234\":\n",
    "        break\n",
    "    print(\"Incorrect...try again\")\n",
    "\n",
    "print(\"Correct PIN entered!\")"
   ]
  },
  {
   "cell_type": "code",
   "execution_count": 3,
   "id": "454f4ac9",
   "metadata": {},
   "outputs": [
    {
     "name": "stdout",
     "output_type": "stream",
     "text": [
      "Please type in your PIN: 1264\n",
      "Incorrect...try again\n",
      "Please type in your PIN: 8520\n",
      "Incorrect...try again\n",
      "Please type in your PIN: 15478562151\n",
      "Too many attempts...\n"
     ]
    }
   ],
   "source": [
    "attempts = 0\n",
    "\n",
    "while True:\n",
    "    code = input(\"Please type in your PIN: \")\n",
    "    attempts += 1\n",
    "\n",
    "    if code == \"1234\":\n",
    "        success = True\n",
    "        break\n",
    "\n",
    "    if attempts == 3:\n",
    "        success = False\n",
    "        break\n",
    "\n",
    "    # this is printed if the code was incorrect AND there have been less than three attempts\n",
    "    print(\"Incorrect...try again\")\n",
    "\n",
    "if success:\n",
    "    print(\"Correct PIN entered!\")\n",
    "else:\n",
    "    print(\"Too many attempts...\")"
   ]
  },
  {
   "cell_type": "code",
   "execution_count": 4,
   "id": "fe897c23",
   "metadata": {},
   "outputs": [
    {
     "name": "stdout",
     "output_type": "stream",
     "text": [
      "beginning of the while block:\n",
      "Please type in your PIN: 1254\n",
      "attempts: 4\n",
      "condition1: False\n",
      "code: 1254\n",
      "condition2: False\n",
      "Incorrect...try again\n",
      "beginning of the while block:\n",
      "Please type in your PIN: 326\n",
      "attempts: 5\n",
      "condition1: False\n",
      "code: 326\n",
      "condition2: False\n",
      "Incorrect...try again\n",
      "beginning of the while block:\n",
      "Please type in your PIN: 2626\n",
      "attempts: 6\n",
      "condition1: False\n",
      "code: 2626\n",
      "condition2: False\n",
      "Incorrect...try again\n",
      "beginning of the while block:\n",
      "Please type in your PIN: 3262\n",
      "attempts: 7\n",
      "condition1: False\n",
      "code: 3262\n",
      "condition2: False\n",
      "Incorrect...try again\n",
      "beginning of the while block:\n",
      "Please type in your PIN: 1235\n",
      "attempts: 8\n",
      "condition1: False\n",
      "code: 1235\n",
      "condition2: False\n",
      "Incorrect...try again\n",
      "beginning of the while block:\n",
      "Please type in your PIN: 2626\n",
      "attempts: 9\n",
      "condition1: False\n",
      "code: 2626\n",
      "condition2: False\n",
      "Incorrect...try again\n",
      "beginning of the while block:\n",
      "Please type in your PIN: 1415454\n",
      "attempts: 10\n",
      "condition1: False\n",
      "code: 1415454\n",
      "condition2: False\n",
      "Incorrect...try again\n",
      "beginning of the while block:\n",
      "Please type in your PIN: 1234\n",
      "attempts: 11\n",
      "condition1: False\n",
      "code: 1234\n",
      "condition2: True\n"
     ]
    }
   ],
   "source": [
    "while True:\n",
    "    print(\"beginning of the while block:\")\n",
    "    code = input(\"Please type in your PIN: \")\n",
    "    attempts += 1\n",
    "\n",
    "    print(\"attempts:\", attempts)\n",
    "    print(\"condition1:\", attempts == 3)\n",
    "    if attempts == 3:\n",
    "        success = False\n",
    "        break\n",
    "\n",
    "    print(\"code:\", code)\n",
    "    print(\"condition2:\", code == \"1234\")\n",
    "    if code == \"1234\":\n",
    "        success = True\n",
    "        break\n",
    "\n",
    "    print(\"Incorrect...try again\")"
   ]
  },
  {
   "cell_type": "code",
   "execution_count": null,
   "id": "11b4bc1d",
   "metadata": {},
   "outputs": [],
   "source": [
    "a = 0\n",
    "\n",
    "while True:\n",
    "    code = input(\"Please type in your PIN: \")\n",
    "    a += 1\n",
    "    # ..."
   ]
  },
  {
   "cell_type": "markdown",
   "id": "f28a289b",
   "metadata": {},
   "source": [
    "# Examples"
   ]
  },
  {
   "cell_type": "markdown",
   "id": "6ee0a44b",
   "metadata": {},
   "source": [
    "Write a program which asks the user for an integer number. The program should print out \"Orwell\" if the number is exactly 1984, and otherwise do nothing."
   ]
  },
  {
   "cell_type": "code",
   "execution_count": null,
   "id": "4fdeabb5",
   "metadata": {},
   "outputs": [],
   "source": [
    "year = 1984\n",
    "if year == 1984:\n",
    "        print(\"Orwell\")\n",
    "else:\n",
    "    print(\"Nothing\")\n",
    "        "
   ]
  },
  {
   "cell_type": "markdown",
   "id": "7a37cd4f",
   "metadata": {},
   "source": [
    "Write a program which asks the user for an integer number. If the number is less than zero, the program should print out the number multiplied by -1. Otherwise the program prints out the the number as is. Please have a look at the examples of expected behaviour below."
   ]
  },
  {
   "cell_type": "code",
   "execution_count": 3,
   "id": "61667638",
   "metadata": {},
   "outputs": [
    {
     "name": "stdout",
     "output_type": "stream",
     "text": [
      "Enter a number :120\n",
      "The absulate vlaue of the number is  120\n"
     ]
    }
   ],
   "source": [
    "number = int(input(\"Enter a number :\"))\n",
    "if number<0:\n",
    "    ab = (-1*number)\n",
    "    print(\"The absulate vlaue of the number is \",ab)\n",
    "else:\n",
    "    print(\"The absulate vlaue of the number is \",number)\n"
   ]
  },
  {
   "cell_type": "markdown",
   "id": "b0bd8b03",
   "metadata": {},
   "source": [
    "Write a program which asks for the user's name. If the name is anything but \"Jerry\", the program then asks for the number of portions and prints out the total cost. The price of a single portion is 5.90.\n"
   ]
  },
  {
   "cell_type": "code",
   "execution_count": 11,
   "id": "b9ed7644",
   "metadata": {},
   "outputs": [
    {
     "name": "stdout",
     "output_type": "stream",
     "text": [
      "Enter a name : sujon\n",
      "How many portion you want?200\n",
      "The price of a single portion is : 1180.0\n"
     ]
    }
   ],
   "source": [
    "name = str(input(\"Enter a name : \"))\n",
    "if name == 'jerry' and 'Jerry':\n",
    "    print('Please next!')\n",
    "else:\n",
    "    portion=float(input(\"How many portion you want?\"))\n",
    "    res = 5.90*portion\n",
    "    print(\"The price of a single portion is :\",res)\n",
    "    "
   ]
  },
  {
   "cell_type": "markdown",
   "id": "38ae16a8",
   "metadata": {},
   "source": [
    "Write a program which asks the user for an integer number. The program should then print out the magnitude of the number according to the following examples."
   ]
  },
  {
   "cell_type": "code",
   "execution_count": 15,
   "id": "e774bb32",
   "metadata": {},
   "outputs": [
    {
     "name": "stdout",
     "output_type": "stream",
     "text": [
      "Input a number : -100\n",
      "This number is smaller than 10\n"
     ]
    }
   ],
   "source": [
    "nos = int(input(\"Input a number : \"))\n",
    "if nos <10:\n",
    "    print(\"This number is smaller than 10\")\n",
    "elif nos <100:\n",
    "        print(\"This number is smaller than 100\")\n",
    "elif nos <1000:\n",
    "        print(\"This number is smaller than 1000\")\n",
    "else:\n",
    "    print(\"Thank You!\")"
   ]
  },
  {
   "cell_type": "markdown",
   "id": "8b55876d",
   "metadata": {},
   "source": [
    "Please write a program which asks the user for two numbers and an operation. If the operation is add, multiply or subtract, the program should calculate and print out the result of the operation with the given numbers. If the user types in anything else, the program should print out nothing."
   ]
  },
  {
   "cell_type": "code",
   "execution_count": 7,
   "id": "dc02927a",
   "metadata": {},
   "outputs": [
    {
     "name": "stdout",
     "output_type": "stream",
     "text": [
      "Enter 1st number: 20\n",
      "Enter 2nd number: 30\n",
      "Enter operator : /\n",
      "50\n"
     ]
    }
   ],
   "source": [
    "num1 = int(input(\"Enter 1st number: \"))\n",
    "num2 = int(input(\"Enter 2nd number: \"))\n",
    "operator = str(input(\"Enter operator : \"))\n",
    "if str == 'add' or  '+':\n",
    "    res = num1 + num2\n",
    "    print(res)\n",
    "elif str == 'mul' or  '*':\n",
    "    res = num1 * num2\n",
    "    print(res)\n",
    "elif str == 'div' or  '/':\n",
    "    res = num1 / num2\n",
    "    print(res)\n",
    "elif str == 'sub' or  '-':\n",
    "    res = num1 - num2\n",
    "    print(res)"
   ]
  },
  {
   "cell_type": "markdown",
   "id": "fcc8cc73",
   "metadata": {},
   "source": [
    "Write a program to find leap year or not"
   ]
  },
  {
   "cell_type": "code",
   "execution_count": 6,
   "id": "8b0b15f5",
   "metadata": {},
   "outputs": [
    {
     "name": "stdout",
     "output_type": "stream",
     "text": [
      " Enter the year: 2001\n",
      "Enter the month: 2\n",
      "2001 is not leap year\n"
     ]
    }
   ],
   "source": [
    "currentYear = int(input (\" Enter the year: \" ))\n",
    "month = int(input(\"Enter the month: \" ))\n",
    "if currentYear%4==0 and currentYear%100!=0 or currentYear%400==0:\n",
    "    print(currentYear,\" is Leap year\")\n",
    "    \n",
    "    if month == 1 or month ==6 or month == 11:\n",
    "        print(\"There are 31 days in this month\")\n",
    "    elif month==4 or month==3 or month==9 or month==11:\n",
    "        print(\"There are 30 days in this month\")\n",
    "    elif month == 2:\n",
    "        print(\"There are 29 days in this month\")\n",
    "    else:\n",
    "        print(\"Invalid month\")\n",
    "else:\n",
    "    print(currentYear,\"is not leap year\")"
   ]
  },
  {
   "cell_type": "markdown",
   "id": "cf3101ca",
   "metadata": {},
   "source": [
    "Write a program which asks the user for a temperature in degrees Fahrenheit, and then prints out the same in degrees Celsius. If the converted temperature falls below zero degrees Celsius, the program should also print out \"Brr! It's cold in here!\".\n"
   ]
  },
  {
   "cell_type": "code",
   "execution_count": 17,
   "id": "e657a95a",
   "metadata": {
    "scrolled": true
   },
   "outputs": [
    {
     "name": "stdout",
     "output_type": "stream",
     "text": [
      "Enter fahrenheit : 60\n",
      "60.0 degrees Fahrenheit equals 15.555555555555555 degrees Celsius\n"
     ]
    }
   ],
   "source": [
    "fahrenheit = float(input(\"Enter fahrenheit : \"))\n",
    "celsius = (fahrenheit-32)*5/9\n",
    "if celsius < 0:\n",
    "    print(\"Brr! It's cold in here!\")\n",
    "else:\n",
    "    print(fahrenheit,\"degrees Fahrenheit equals\",celsius,\"degrees Celsius\")\n",
    "    \n",
    "\n"
   ]
  },
  {
   "cell_type": "markdown",
   "id": "c4396b5f",
   "metadata": {},
   "source": [
    "This program calculates the end of year bonus a customer receives on their loyalty card. The bonus is calculated with the following formula:\n",
    "\n",
    "If there are less than a hundred points on the card, the bonus is 10 %\n",
    "In any other case the bonus is 15 %\n",
    "\n",
    "\n",
    "\n",
    "How many points are on your card? 55\n",
    "Your bonus is 10 %\n",
    "You now have 60.5 points"
   ]
  },
  {
   "cell_type": "code",
   "execution_count": 44,
   "id": "f2713a60",
   "metadata": {},
   "outputs": [
    {
     "ename": "IndentationError",
     "evalue": "unindent does not match any outer indentation level (<tokenize>, line 13)",
     "output_type": "error",
     "traceback": [
      "\u001b[0;36m  File \u001b[0;32m<tokenize>:13\u001b[0;36m\u001b[0m\n\u001b[0;31m    print(\"You now have\",res,\"points\")\u001b[0m\n\u001b[0m    ^\u001b[0m\n\u001b[0;31mIndentationError\u001b[0m\u001b[0;31m:\u001b[0m unindent does not match any outer indentation level\n"
     ]
    }
   ],
   "source": [
    "nos = int(input(\"How many points are on your card? \"))\n",
    "\n",
    "res = 0\n",
    "if nos<100:\n",
    "    bonus = 0.1*nos\n",
    "    res = bonus+nos\n",
    "    strr = \"Your bonus is 10 %\")  \n",
    "else:\n",
    "    bonus = 0.15*nos\n",
    "    res = bonus+nos\n",
    "    print(\"Your bonus is 15 %\")  \n",
    "    \n",
    "  \n",
    "\n",
    " print(\"You now have\",res,\"points\")"
   ]
  },
  {
   "cell_type": "markdown",
   "id": "f63afe39",
   "metadata": {},
   "source": [
    "Write a program which asks for tomorrow's weather forecast and then suggests weather-appropriate clothing.\n",
    "\n",
    "The suggestion should change if the temperature (measured in degrees Celsius) is over 20, 10 or 5 degrees, and also if there is rain on the radar.\n",
    "\n",
    "Some examples of expected behaviour:\n",
    "\n",
    "Sample output\n",
    "What is the weather forecast for tomorrow?\n",
    "Temperature: 21\n",
    "Will it rain (yes/no): no\n",
    "Wear jeans and a T-shirt\n"
   ]
  },
  {
   "cell_type": "code",
   "execution_count": 6,
   "id": "161b80be",
   "metadata": {},
   "outputs": [
    {
     "ename": "SyntaxError",
     "evalue": "unmatched ')' (2035470198.py, line 1)",
     "output_type": "error",
     "traceback": [
      "\u001b[0;36m  Cell \u001b[0;32mIn[6], line 1\u001b[0;36m\u001b[0m\n\u001b[0;31m    print('What is the weather of forecast today?'))\u001b[0m\n\u001b[0m                                                   ^\u001b[0m\n\u001b[0;31mSyntaxError\u001b[0m\u001b[0;31m:\u001b[0m unmatched ')'\n"
     ]
    }
   ],
   "source": [
    "print('What is the weather of forecast today?'))\n",
    "temp = int(input(\"Temperature: \"))\n",
    "answer = str(input(\"Will it rain (yes/no):\"))\n",
    "if temp>20 or answer == 'no':\n",
    "    print(\"Wear jeans and a T-shirt\")\n",
    "elif temp < 20 or answer == 'no':\n",
    "    print(\"I recommend a jumper as well\")\n",
    "elif temp<10 or answer == 'no':\n",
    "    print(\"Wear jeans and a T-shirt\")\n",
    "elif temp<5 or answer == 'yes':\n",
    "    print(\"Wear jeans and a T-shirt\")\n",
    "    print(\"I recommend a jumper as well\")      \n",
    "    print(\"Take a jacket with you\")        \n",
    "    print(\"Make it a warm coat, actually\")        \n",
    "    print(\"I think gloves are in order\")        \n",
    "    print(\"Don't forget your umbrella!\")        \n",
    "\n",
    "   "
   ]
  },
  {
   "cell_type": "markdown",
   "id": "d851bafa",
   "metadata": {},
   "source": [
    "Please write a program which asks for the names and ages of two persons. The program should then print out the name of the elder.\n",
    "\n",
    "Some examples of expected behaviour:\n",
    "\n",
    "Sample output\n",
    "Person 1:\n",
    "Name: Alan\n",
    "Age: 26\n",
    "Person 2:\n",
    "Name: Ada\n",
    "Age: 27\n",
    "The elder is Ada\n",
    "\n",
    "Sample output\n",
    "Person 1:\n",
    "Name: Bill\n",
    "Age: 1\n",
    "Person 2:\n",
    "Name: Jean\n",
    "Age: 1\n",
    "Bill and Jean are the same age\n",
    "\n"
   ]
  },
  {
   "cell_type": "code",
   "execution_count": 2,
   "id": "4f45f12b",
   "metadata": {},
   "outputs": [
    {
     "name": "stdout",
     "output_type": "stream",
     "text": [
      "Person 1:\n",
      "Name: ala\n",
      "Age: 30\n",
      "Person 2:\n",
      "Name: gala\n",
      "Age: 28\n",
      "The elder is  ala\n"
     ]
    }
   ],
   "source": [
    "print(\"Person 1:\")\n",
    "name1 = input(\"Name: \")\n",
    "age1 = int(input(\"Age: \"))\n",
    "\n",
    "print(\"Person 2:\")\n",
    "name2 = input(\"Name: \")\n",
    "age2 = int(input(\"Age: \"))\n",
    "\n",
    "if age1>age2:\n",
    "    print(\"The elder is \",name1)\n",
    "elif age1<age2:\n",
    "    print(\"The elder is \",name2)\n",
    "else:\n",
    "    print(name1,\"and\",name2,\"are the same age\")\n"
   ]
  },
  {
   "cell_type": "markdown",
   "id": "4dd47ec4",
   "metadata": {},
   "source": [
    "The table below outlines the grade boundaries on a certain university course. Please write a program which asks for the amount of points received and then prints out the grade attained according to the table.\n",
    "\n",
    "points\tgrade\n",
    "< 0\timpossible!\n",
    "0-49\tfail\n",
    "50-59\t1\n",
    "60-69\t2\n",
    "70-79\t3\n",
    "80-89\t4\n",
    "90-100\t5\n",
    "> 100\timpossible!"
   ]
  },
  {
   "cell_type": "code",
   "execution_count": 11,
   "id": "e8ab1278",
   "metadata": {},
   "outputs": [
    {
     "name": "stdout",
     "output_type": "stream",
     "text": [
      "How many points [0-100]:50\n",
      "1\n"
     ]
    }
   ],
   "source": [
    "point = int(input(\"How many points [0-100]:\"))\n",
    "if point <0:\n",
    "    print(\"impossible!\")\n",
    "elif point < 50:\n",
    "    print(\"fail\")\n",
    "elif point<60:\n",
    "    print(1)\n",
    "elif point<70:\n",
    "    print(2)\n",
    "elif point<80:\n",
    "    print(3)\n",
    "elif point<90:\n",
    "    print(4)\n",
    "elif point<=100:\n",
    "    print(5)\n",
    "else:    \n",
    "    print(\"Impossible!\")"
   ]
  },
  {
   "cell_type": "markdown",
   "id": "999eac81",
   "metadata": {},
   "source": [
    "Write a program which asks asks the user for an integer number. If the number is divisible by three, the program should print out Fizz. If the number is divisible by five, the program should print out Buzz. If the number is divisible by both three and five, the program should print out FizzBuzz."
   ]
  },
  {
   "cell_type": "code",
   "execution_count": 17,
   "id": "246a1428",
   "metadata": {},
   "outputs": [
    {
     "name": "stdout",
     "output_type": "stream",
     "text": [
      "Enter a integer number:15\n",
      "Fizz\n",
      "Buzz\n",
      "FizzBuzz\n"
     ]
    }
   ],
   "source": [
    "nos = int(input(\"Enter a integer number:\"))\n",
    "if nos%3==0:\n",
    "    print(\"Fizz\")\n",
    "if nos%5==0:\n",
    "    print(\"Buzz\")\n",
    "if nos%3==0 and nos%5==0:\n",
    "     print(\"FizzBuzz\")            "
   ]
  },
  {
   "cell_type": "markdown",
   "id": "89c6fdcd",
   "metadata": {},
   "source": [
    "Please write a program which keeps asking the user for a PIN code until they type in the correct one, which is 4321. The program should then print out the number of times the user tried different codes."
   ]
  },
  {
   "cell_type": "code",
   "execution_count": null,
   "id": "457eb012",
   "metadata": {},
   "outputs": [
    {
     "name": "stdout",
     "output_type": "stream",
     "text": [
      "Please type in your PIN: 1234\n",
      "Incorrect...try again\n",
      "Please type in your PIN: 2222\n",
      "Incorrect...try again\n",
      "Please type in your PIN: 2580\n",
      "Incorrect...try again\n",
      "Please type in your PIN: 4321\n",
      "Incorrect...try again\n",
      "Please type in your PIN: 4321\n",
      "Incorrect...try again\n"
     ]
    }
   ],
   "source": [
    "attmpt = 0\n",
    "while True:\n",
    "    attmpt+=1\n",
    "    code = int(input(\"Please type in your PIN: \"))\n",
    "    if code == \"4321\":\n",
    "        break\n",
    "    print(\"Incorrect...try again\")\n",
    "\n",
    "print(\"Correct PIN entered!\")\n",
    "print(\"It took\",attmpt,\"times\")\n",
    "        "
   ]
  },
  {
   "cell_type": "code",
   "execution_count": null,
   "id": "766eadc0",
   "metadata": {},
   "outputs": [],
   "source": []
  }
 ],
 "metadata": {
  "kernelspec": {
   "display_name": "Python 3 (ipykernel)",
   "language": "python",
   "name": "python3"
  },
  "language_info": {
   "codemirror_mode": {
    "name": "ipython",
    "version": 3
   },
   "file_extension": ".py",
   "mimetype": "text/x-python",
   "name": "python",
   "nbconvert_exporter": "python",
   "pygments_lexer": "ipython3",
   "version": "3.10.9"
  }
 },
 "nbformat": 4,
 "nbformat_minor": 5
}
