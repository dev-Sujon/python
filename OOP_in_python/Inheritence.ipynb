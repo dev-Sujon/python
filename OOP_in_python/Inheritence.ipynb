{
 "cells": [
  {
   "cell_type": "markdown",
   "id": "c25f6a37",
   "metadata": {},
   "source": [
    "# 15 Inheretence based questions"
   ]
  },
  {
   "cell_type": "markdown",
   "id": "73dd1af6",
   "metadata": {},
   "source": [
    "# 1\n",
    "Vehicle Hierarchy:\n",
    "    Create a base class Vehicle with attributes like make and model. Extend it to Car and     Bike classes with specific attributes."
   ]
  },
  {
   "cell_type": "code",
   "execution_count": null,
   "id": "65b83d47",
   "metadata": {
    "scrolled": true
   },
   "outputs": [],
   "source": [
    "# solution 1\n",
    "class Vehicle:\n",
    "        \"\"\"Base class of vehicles\"\"\"\n",
    "        def __init__(self,make,model):\n",
    "            self.make=make\n",
    "            self.model=model\n",
    "    \n",
    "class Car(Vehicle):\n",
    "    \"\"\" Class for Car \"\"\"\n",
    "    def __init__(self,make,model,num_of_seat):\n",
    "        super().__init__(make,model)\n",
    "        self.num_of_seat=num_of_seat\n",
    "class Bike(Vehicle):\n",
    "    \"\"\"Class for Bike\"\"\"\n",
    "    def __init__(self,make,model,num_of_wheels):\n",
    "        super().__init__(make,model)\n",
    "        self.num_of_wheels=num_of_wheels\n",
    "            \n",
    "car = Car('Toyota', 'Corolla', 5)\n",
    "print(car.make)  # Toyota\n",
    "print(car.model)  # Corolla\n",
    "print(car.num_of_seat)  # 5\n",
    "\n",
    "bike = Bike('Trek', 'Dual Sport', 2)\n",
    "print(bike.make)  # Trek\n",
    "print(bike.model)  # Dual Sport\n",
    "print(bike.num_of_wheels)  # 2"
   ]
  },
  {
   "cell_type": "markdown",
   "id": "47d177cd",
   "metadata": {},
   "source": [
    "Shape Inheritance:\n",
    "       Design a Shape class with an area method. Inherit from it to create classes for            Rectangle, Circle, and Triangle"
   ]
  },
  {
   "cell_type": "markdown",
   "id": "6f0c2777",
   "metadata": {},
   "source": [
    "Shape Area Terms\n",
    "\n",
    "    Circle\t= π × r2\tr = radius of the circle\n",
    "    Triangle =\t½ × b × h\tb = base h = height\n",
    "\n",
    "    Square\ta2\ta = length of side\n",
    "    Rectangle =\tl × w\tl = length w = width\n",
    "\n",
    "    Parallelogram =\tb × h\tb=base h=vertical height\n",
    "\n",
    "    Trapezium =\t½(a+b) × h\t\n",
    "    a and b are the length of parallel sides h = height\n",
    "\n",
    "    Ellipse\tπab\ta = ½ minor axis\n",
    "    b = ½ major axis"
   ]
  },
  {
   "cell_type": "code",
   "execution_count": null,
   "id": "624cc148",
   "metadata": {},
   "outputs": [],
   "source": [
    "import math\n",
    "class Shape:\n",
    "    def __init__(self, name):\n",
    "        self.name = name\n",
    "\n",
    "    def get_area(self):\n",
    "        raise \"Subclass must implement this method\"\n",
    "#############################################################\n",
    "class Circle(Shape):\n",
    "    def __init__(self, radius):\n",
    "        super().__init__(\"Circle\")\n",
    "        self.radius = radius\n",
    "    def get_area(self):\n",
    "        return self.radius * math.pi\n",
    "\n",
    "#########################################\n",
    "class Rectangle(Shape):\n",
    "    def __init__(self, w, h):\n",
    "        super().__init__(\"Rectangle\")\n",
    "        self.width = w\n",
    "        self.height = h\n",
    "    def get_area(self):\n",
    "        return self.width * self.height\n",
    "\n",
    "#########################################\n",
    "class Triangle(Shape):\n",
    "    def __init__(self, b, h):\n",
    "        super().__init__(\"Triangle\")\n",
    "        self.base = b\n",
    "        self.height = h\n",
    "    def get_area(self):\n",
    "        return (self.base * self.height) / 2\n",
    "\n",
    "##########################################\n",
    "class Square(Shape):\n",
    "    def __init__(self, a):\n",
    "        super().__init__(\"Square\")\n",
    "        self.length_side=a\n",
    "    def get_area(self):\n",
    "        return self.length_side ** 2\n",
    "\n",
    "#############################################\n",
    "class Parallelogram(Shape):\n",
    "    def __init__(self, b, vh):\n",
    "        super().__init__(\"Parallelogram\")\n",
    "        self.base = b\n",
    "        self.vertical_height = vh\n",
    "    def get_area(self):\n",
    "        return self.base * self.vertical_height\n",
    "\n",
    "############################################################\n",
    "class Trapezium(Shape):\n",
    "    def __init__(self, a, b, h):\n",
    "        super().__init__(\"Trapezium\")\n",
    "        self.len_para_a = a\n",
    "        self.len_para_b = b\n",
    "        self.height = h\n",
    "    def get_area(self):\n",
    "        return (self.height * (self.len_para_a + self.len_para_b)) / 2\n",
    "\n",
    "####################################################\n",
    "class Ellipse(Shape):\n",
    "    def __init__(self, m_ax, mi_ax):\n",
    "        super().__init__(\"Ellipse\")\n",
    "        self.major_ax = m_ax\n",
    "        self.minor_ax = mi_ax\n",
    "    def get_area(self):\n",
    "        return math.pi * self.major_ax * self.minor_ax\n",
    "\n",
    "def main():\n",
    "    print(\"  -->Circle(Press c)\\n  -->Triangle(Press t)\\n  -->Rectangle(Press R)\\n  -->Square(Press sq)\\n\" +\n",
    "          \"  -->Parallelogram(Press pr)\\n  -->Trapezium(Press tr)\\n  -->Ellipse(Press el)\")\n",
    "    test=int(input(\"Enter test case :\"))\n",
    "    while(test!=0):\n",
    "        try:\n",
    "            \n",
    "    \n",
    "\n",
    "            choice = str(input(\"Enter your choice to get area of shape :\\n\"))\n",
    "            if choice == 'c':\n",
    "                print(\"Circle\")\n",
    "                rad = int(input(\"Enter radius :\"))\n",
    "                cir = Circle(rad)\n",
    "                print(\" Area :\", cir.get_area())\n",
    "            elif choice == 't':\n",
    "                print(\"Triangle\")\n",
    "\n",
    "                base = int(input(\"Enter base :\"))\n",
    "                height = int(input(\"Enter height :\"))\n",
    "                tri = Triangle(base, height)\n",
    "                print(\" Area :\", tri.get_area())\n",
    "            elif choice == 'R':\n",
    "                print(\"Rectangle\")\n",
    "\n",
    "                wid = int(input(\"Enter width :\"))\n",
    "                hei = int(input(\"Enter height :\"))\n",
    "                rec = Rectangle(wid, hei)\n",
    "                print(\" Area :\", rec.get_area())\n",
    "            elif choice == 'sq':\n",
    "                print(\"Square\")\n",
    "                a = int(input(\"Enter length of a side :\"))\n",
    "                sq = Square(a)\n",
    "                print(\" Area :\", sq.get_area())\n",
    "            elif choice == 'pr':\n",
    "                print(\"Parallelogram\")\n",
    "                base = int(input(\"Enter base :\"))\n",
    "                vertical_h = int(input(\"Enter Vertical height :\"))\n",
    "                para = Parallelogram(base, vertical_h)\n",
    "                print(\" Area :\", para.get_area())\n",
    "            elif choice == 'tr':\n",
    "                print(\"Trapezium\")\n",
    "                aa = int(input(\"Enter side a :\"))\n",
    "                bb = int(input(\"Enter side b :\"))\n",
    "                hh = int(input(\"Enter height :\"))\n",
    "                tr = Trapezium(aa, bb, hh)\n",
    "                print(\" Area :\", tr.get_area())\n",
    "            elif choice == 'el':\n",
    "                print(\"Ellipse \")\n",
    "                m_x = int(input(\"Enter major axix :\"))\n",
    "                mi_x = int(input(\"Enter minor axix :\"))\n",
    "                elps = Ellipse(m_x, mi_x)\n",
    "                print(\" Area :\", elps.get_area())\n",
    "            else:\n",
    "                print(\"Invalid Input. Try again\")\n",
    "\n",
    "            test-=1\n",
    "            print(\"Remaining test case :\",test)\n",
    "        except:\n",
    "            print(\"Invalid test case input\") \n",
    "\n",
    "if __name__ := main():\n",
    "    main\n",
    "\n"
   ]
  },
  {
   "cell_type": "markdown",
   "id": "7399c2bb",
   "metadata": {},
   "source": [
    "Employee Inheritance:\n",
    "        Create a Person class with attributes like name and age. Inherit from it to create         an Employee class with additional attributes."
   ]
  },
  {
   "cell_type": "code",
   "execution_count": null,
   "id": "7d8c95e8",
   "metadata": {},
   "outputs": [],
   "source": [
    "class Person:\n",
    "    def __init__(self,name,age):\n",
    "        self.name=name\n",
    "        self.age=age\n",
    "    def __repr__(self):\n",
    "        return f\"Name: {self.name}\\nAge: {self.age}\"\n",
    "class Employee(Person):\n",
    "    _phone_no=None\n",
    "    _address=None\n",
    "    def __init__(self,name,age,phone,addr,job):\n",
    "        super().__init__(name,age)\n",
    "        self._phone_no=phone\n",
    "        self._address=addr\n",
    "        self.job=job\n",
    "        \n",
    "        \n",
    "    def __repr__(self):\n",
    "         person_repr = super().__repr__()  # Call the superclass __repr__() method\n",
    "         emp_repr = f\"Phone: {self._phone_no}\\nAddress: {self._address}\\nJob: {self.job}\"\n",
    "        \n",
    "         return f\"{person_repr}\\n{emp_repr}\"\n",
    "\n",
    "emp1=Employee(\"Neloy\",23,193527245,\"Narayanganj\",\"TMO\") \n",
    "print(emp1)\n",
    "em2=Employee(\"shakib\",23,1234561215,\"Dhaka\",\"DSO\") \n",
    "print()\n",
    "print(em2)"
   ]
  },
  {
   "cell_type": "markdown",
   "id": "fefe2d97",
   "metadata": {},
   "source": [
    "Bank Account Inheritance:\n",
    "        Build a base class Account with attributes account_number and balance. Extend it           to SavingsAccount and CurrentAccount classes."
   ]
  },
  {
   "cell_type": "code",
   "execution_count": null,
   "id": "025ae290",
   "metadata": {},
   "outputs": [],
   "source": [
    "class Account:\n",
    "    def __init__(self, account_number, balance):\n",
    "        self.account_number = account_number\n",
    "        self.balance = balance\n",
    "\n",
    "\n",
    "class SavingsAccount(Account):\n",
    "    def __init__(self, account_number, balance, interest_rate):\n",
    "        super().__init__(account_number, balance)\n",
    "        self.interest_rate = interest_rate\n",
    "\n",
    "    def calculate_interest(self):\n",
    "        return self.balance * self.interest_rate\n",
    "\n",
    "\n",
    "class CurrentAccount(Account):\n",
    "    def __init__(self, account_number, balance, overdraft_limit):\n",
    "        super().__init__(account_number, balance)\n",
    "        self.overdraft_limit = overdraft_limit\n",
    "\n",
    "    def withdraw(self, amount):\n",
    "        if amount > self.balance + self.overdraft_limit:\n",
    "            raise ValueError(\"Cannot withdraw more than the overdraft limit\")\n",
    "        self.balance -= amount\n",
    "\n",
    "\n",
    "# Create a savings account\n",
    "savings_account = SavingsAccount(\"123456789\", 1000, 0.05)\n",
    "\n",
    "# Print the interest earned\n",
    "print(savings_account.calculate_interest())  # 50\n",
    "\n",
    "# Create a current account\n",
    "current_account = CurrentAccount(\"987654321\", 500, 1000)\n",
    "\n",
    "# Try to withdraw more than the overdraft limit\n",
    "try:\n",
    "    current_account.withdraw(1500)\n",
    "except ValueError as e:\n",
    "    print(e)  # Cannot withdraw more than the overdraft limit\n"
   ]
  },
  {
   "cell_type": "markdown",
   "id": "4a0e09ef",
   "metadata": {},
   "source": [
    "Animal Hierarchy:\n",
    "Implement a base class Animal with methods like speak(). Inherit from it to create Dog, Cat, and Cow classes."
   ]
  },
  {
   "cell_type": "code",
   "execution_count": null,
   "id": "d3731fb0",
   "metadata": {},
   "outputs": [],
   "source": [
    "class Animal:\n",
    "    def speak(self):\n",
    "        raise \"Subclass must implement this method\"\n",
    "class Dog(Animal):\n",
    "    def speak(self):\n",
    "        return \"woof\"\n",
    "class Cat(Animal):\n",
    "    def speak(self):\n",
    "        return \"meow\"\n",
    "class Cow(Animal):\n",
    "    def speak(self):\n",
    "        return \"haamba\"\n",
    "\n",
    "cow=Cow()\n",
    "cat=Cat()\n",
    "dog=Dog()\n",
    "print(cow.speak())\n",
    "print(cat.speak())\n",
    "print(dog.speak())"
   ]
  },
  {
   "cell_type": "markdown",
   "id": "4f540bfa",
   "metadata": {},
   "source": [
    "Shape Sorting:\n",
    "Create a base class Shape with an area method. Implement sorting for a list of shapes based on their areas."
   ]
  },
  {
   "cell_type": "code",
   "execution_count": null,
   "id": "66b8cc89",
   "metadata": {},
   "outputs": [],
   "source": [
    "class Shape:\n",
    "    def area(self):\n",
    "        pass  # This method will be overridden by subclasses\n",
    "\n",
    "class Rectangle(Shape):\n",
    "    def __init__(self, width, height):\n",
    "        self.width = width\n",
    "        self.height = height\n",
    "    \n",
    "    def area(self):\n",
    "        return self.width * self.height\n",
    "\n",
    "class Circle(Shape):\n",
    "    def __init__(self, radius):\n",
    "        self.radius = radius\n",
    "    \n",
    "    def area(self):\n",
    "        import math\n",
    "        return math.pi * self.radius ** 2\n",
    "\n",
    "class Triangle(Shape):\n",
    "    def __init__(self, base, height):\n",
    "        self.base = base\n",
    "        self.height = height\n",
    "    \n",
    "    def area(self):\n",
    "        return 0.5 * self.base * self.height\n",
    "\n",
    "# Example usage\n",
    "shapes = [\n",
    "    Rectangle(5, 10),\n",
    "    Circle(7),\n",
    "    Triangle(4, 6),\n",
    "    Rectangle(3, 8),\n",
    "    Circle(4)\n",
    "]\n",
    "\n",
    "# Sorting the shapes based on their areas\n",
    "sorted_shapes = sorted(shapes, key = lambda shape: shape.area())\n",
    "\n",
    "# Print sorted shapes and their areas\n",
    "for shape in sorted_shapes:\n",
    "    print(f\"Shape: {shape.__class__.__name__}, Area: {shape.area()}\")\n"
   ]
  },
  {
   "cell_type": "markdown",
   "id": "a5f757ce",
   "metadata": {},
   "source": [
    "\n",
    "Geometry Inheritance:\n",
    "Design a Point class with attributes x and y. Inherit from it to create a Line class with points as its attributes."
   ]
  },
  {
   "cell_type": "code",
   "execution_count": null,
   "id": "a049c56b",
   "metadata": {},
   "outputs": [],
   "source": [
    "class Point:\n",
    "    def __init__(self, x, y):\n",
    "        self.x = x\n",
    "        self.y = y\n",
    "    \n",
    "    def __repr__(self):\n",
    "        return f\"Point({self.x}, {self.y})\"\n",
    "\n",
    "class Line(Point):\n",
    "    def __init__(self, start_point, end_point):\n",
    "        self.start_point = start_point\n",
    "        self.end_point = end_point\n",
    "    \n",
    "    def length(self):\n",
    "        dx = self.end_point.x - self.start_point.x\n",
    "        dy = self.end_point.y - self.start_point.y\n",
    "        return (dx ** 2 + dy ** 2) ** 0.5\n",
    "    \n",
    "    def __repr__(self):\n",
    "        return f\"Line({self.start_point}, {self.end_point})\"\n",
    "\n",
    "# Example usage\n",
    "point1 = Point(1, 2)\n",
    "point2 = Point(4, 6)\n",
    "line = Line(point1, point2)\n",
    "\n",
    "print(\"Point 1:\", point1)\n",
    "print(\"Point 2:\", point2)\n",
    "print(\"Line:\", line)\n",
    "print(\"Line Length:\", line.length())\n"
   ]
  },
  {
   "cell_type": "markdown",
   "id": "55ad831e",
   "metadata": {},
   "source": [
    "Person Inheritance:\n",
    "Build a Person class with attributes name and age. Inherit from it to create Student and Teacher classes."
   ]
  },
  {
   "cell_type": "code",
   "execution_count": null,
   "id": "f4973b06",
   "metadata": {},
   "outputs": [],
   "source": [
    "class Person:\n",
    "    def __init__(self,name,age):\n",
    "        self.name=name\n",
    "        self.age=age\n",
    "        \n",
    "class student(Person):\n",
    "    def __init__(self,name,age,roll):\n",
    "        super().__init__(name,age)\n",
    "        self.roll=roll\n",
    "    def __str__(self):\n",
    "        return f\"Name:{self.name}\\nAge :{self.age}\\nroll :{self.roll}\"\n",
    "    \n",
    "class teacher(Person):\n",
    "    def __init__(self,name,age,job):\n",
    "        super().__init__(name,age)\n",
    "        self.job=job\n",
    "        \n",
    "    def __str__(self):\n",
    "        return f\"Name:{self.name}\\nAge :{self.age}\\njob :{self.job}\"\n",
    "t=teacher(\"Ahmed Shafkat\",30,\"Assistant Professior\")\n",
    "s=student(\"Sujon\",22,9270)\n",
    "print(t)\n",
    "    \n",
    "        "
   ]
  },
  {
   "cell_type": "markdown",
   "id": "e681017f",
   "metadata": {},
   "source": [
    "\n",
    "Media Library Inheritance:\n",
    "Create a base class MediaItem with attributes like title and duration. Extend it to Song and Movie classes."
   ]
  },
  {
   "cell_type": "code",
   "execution_count": null,
   "id": "ad3efe05",
   "metadata": {},
   "outputs": [],
   "source": [
    "class MediaItem:\n",
    "    def __init__(self,title,duration):\n",
    "        self.title=title\n",
    "        self.duration=duraion\n",
    "class Action(MediaItem):\n",
    "    def __init__(title,duration,rating):\n",
    "        super().__init__(title,duration)\n",
    "        self.rating=rating\n",
    "    def __repr__(self):\n",
    "        return f\"Movie name :{self.title}\\nDuration :{self.duration} min\\nRating :{self.rating}\"\n",
    "ac=Action(\"Vikram\",250,5.5)\n",
    "ac"
   ]
  },
  {
   "cell_type": "markdown",
   "id": "a5ae607c",
   "metadata": {},
   "source": [
    "Bank Customer Inheritance:\n",
    "Implement a base class Customer with attributes name and address. Inherit from it to create SavingsCustomer and CurrentCustomer."
   ]
  },
  {
   "cell_type": "code",
   "execution_count": null,
   "id": "ac52f5fb",
   "metadata": {},
   "outputs": [],
   "source": [
    "class Customer:\n",
    "    def __init__(self,name,address,balance):\n",
    "        self.n=name\n",
    "        self.addr=address\n",
    "        self.balance=balance\n",
    "class SavingCustomer(Customer):\n",
    "    def __init__(self,name,address,balance,amount):\n",
    "        super().__init__(name,address,balance)\n",
    "        self.amount=amount\n",
    "    def check_balance(self):\n",
    "        self.balance+=amount\n",
    "        print(\"Current Balance :\",balance)\n",
    "class  CurrentCustomer(Person):\n",
    "    def __init__(self,name,address,balance):\n",
    "        super().__init__(self)\n",
    "    def current_balance(self):\n",
    "        print(\"Current Balance :\",balance)\n",
    "sc= SavingCustomer(\"Alif\",\"Dhaka\",12500,1000)\n",
    "sc.check_balance()"
   ]
  },
  {
   "cell_type": "markdown",
   "id": "f990a85f",
   "metadata": {},
   "source": [
    "Vehicle Interface:\n",
    "Define an interface Vehicle with methods like start_engine and stop_engine. Create classes for Car and Motorcycle that implement the interface.\n"
   ]
  },
  {
   "cell_type": "code",
   "execution_count": null,
   "id": "0b7aa5cc",
   "metadata": {},
   "outputs": [],
   "source": [
    "class Vehicle:\n",
    "    def __init__(self,vehicle_name,kmph,version=1):\n",
    "        self.vehicle_name=vehicle_name\n",
    "        self.kmph=kmph\n",
    "        self.version=version\n",
    "        \n",
    "    def start_engine(self):\n",
    "        print(\"Start the engine.\")\n",
    "    def stop_engine(self):\n",
    "        print(\"Stop the engine.\")\n",
    "class Car(Vehicle):\n",
    "    def __init__(self,vehicle_name,kmph,version):\n",
    "        super().__init__(vehicle_name,kmph,version)\n",
    "    def choose(self,start=False,run=0,stop=False):\n",
    "        self.start=start\n",
    "        self.run=run\n",
    "        self.stop=stop\n",
    "        if start==True:\n",
    "            while(run!=0):\n",
    "                super().start_engine()\n",
    "                run-=1 \n",
    "        if stop ==True:\n",
    "            super().stop_engine()\n",
    "    def __repr__(self):\n",
    "        return f\"Vehicle name :{self.vehicle_name}\\nKMPH :{self.kmph}\\nVersion :{self.version}\"\n",
    "class Motorcycle(Vehicle):\n",
    "    def __init__(self,vehicle_name,kmph,version):\n",
    "        super().__init__(vehicle_name,kmph,version)\n",
    "    def choose(self,start=False,run=0,stop=False):\n",
    "        self.start=start\n",
    "        self.run=run\n",
    "        self.stop=stop\n",
    "        if start == True:\n",
    "            while(run!=0):\n",
    "                super().start_engine()\n",
    "                run-=1   \n",
    "        if stop == True:\n",
    "            super().stop_engine() \n",
    "            \n",
    "    def __repr__(self):\n",
    "        return f\"Vehicle name :{self.vehicle_name}\\nKMPH :{self.kmph}\\nVersion :{self.version}\"\n",
    "car=Car(\"Range Rover\",255,2)\n",
    "print(car)\n",
    "car.choose(True,5,True)\n",
    "print(\"\")\n",
    "motorcycle=Motorcycle(\"TVS 4B\",155,2)\n",
    "print(motorcycle)\n",
    "motorcycle.choose(True,10,True)\n"
   ]
  },
  {
   "cell_type": "markdown",
   "id": "b4303690",
   "metadata": {},
   "source": [
    "University Inheritance:\n",
    "Create a Person class with attributes name and age. Inherit from it to create Student and Professor classes in a university scenario."
   ]
  },
  {
   "cell_type": "code",
   "execution_count": null,
   "id": "9922c3bc",
   "metadata": {},
   "outputs": [],
   "source": [
    "class Person:\n",
    "    def __init__(self,name,age):\n",
    "        self.name=name\n",
    "        self.age=age\n",
    "class Student(Person):\n",
    "    _st_phone=None\n",
    "    def __init__(self,n,a,phone):\n",
    "        super().__init__(n,a)\n",
    "        self._st_phone=phone\n",
    "    def display(self):\n",
    "        return f\"Student Information\\nName :{self.name}\\nAge :{self.age}\\nPhone  :{self._st_phone}\"\n",
    "class Teacher(Person):\n",
    "    _t_phone=None\n",
    "    def __init__(self,n,a,phone):\n",
    "        super().__init__(n,a)\n",
    "        self._t_phone=phone\n",
    "    def display(self):\n",
    "        return f\"Teacher Information\\nName :{self.name}\\nAge :{self.age}\\nPhone  :{self._t_phone}\"\n",
    "        \n",
    "st=Student(\"Sujon\",22,12548798)\n",
    "print(st.display())\n",
    "print(\"\")\n",
    "th=Teacher(\"Naderuzzaman\",33,25465855)\n",
    "print(th.display())"
   ]
  },
  {
   "cell_type": "markdown",
   "id": "08d27aae",
   "metadata": {},
   "source": [
    "Electronics Inheritance:\n",
    "Design a base class ElectronicDevice with attributes like brand and power_consumption. Extend it to TV and WashingMachine classes.\n"
   ]
  },
  {
   "cell_type": "code",
   "execution_count": 6,
   "id": "5c329a19",
   "metadata": {},
   "outputs": [
    {
     "name": "stdout",
     "output_type": "stream",
     "text": [
      "Television\n",
      "Brand :Walton\n",
      "Power consumption :150\n",
      "\n",
      "Washing Machine\n",
      "Brand :singer\n",
      "Power consumption :220\n"
     ]
    }
   ],
   "source": [
    "class ElectronicDevice:\n",
    "    def __init__(self,brand,power_con):\n",
    "        self.brand=brand\n",
    "        self.power_consumption=power_con\n",
    "    def __repr__(self):\n",
    "        raise \"Subclass must implement the super class\"\n",
    "class TV(ElectronicDevice):\n",
    "    def __init__(self,brand,power_con):\n",
    "        super().__init__(brand,power_con)\n",
    "    def __repr__(self):\n",
    "        return f\"Television\\nBrand :{self.brand}\\nPower consumption :{self.power_consumption}\"\n",
    "class WashingMachine(ElectronicDevice):\n",
    "    def __init__(self,brand,power_con):\n",
    "        super().__init__(brand,power_con)\n",
    "    def __repr__(self):\n",
    "        return f\"Washing Machine\\nBrand :{self.brand}\\nPower consumption :{self.power_consumption}\" \n",
    "\n",
    "def main():\n",
    "    tv=TV(\"Walton\",150)\n",
    "    print(tv)\n",
    "    print()\n",
    "    wash_machine=WashingMachine(\"singer\",220)\n",
    "    print(wash_machine)\n",
    "if __name__ := main():\n",
    "        main"
   ]
  },
  {
   "cell_type": "markdown",
   "id": "003841e5",
   "metadata": {},
   "source": [
    "Bank Transaction Inheritance:\n",
    "Build a base class Transaction with attributes date and amount. Extend it to Deposit and Withdrawal classes."
   ]
  },
  {
   "cell_type": "code",
   "execution_count": 22,
   "id": "28047467",
   "metadata": {},
   "outputs": [
    {
     "name": "stdout",
     "output_type": "stream",
     "text": [
      "Deposit   :[2023-08-24, 1000]\n",
      "Widthdrow :[2023-05-05, 7000]\n"
     ]
    }
   ],
   "source": [
    "class Transaction:\n",
    "    def __init__(self, date, amount):\n",
    "        self.date = date\n",
    "        self.amount = amount\n",
    "\n",
    "    def __str__(self):\n",
    "        return f\"Transaction({self.date}, {self.amount})\"\n",
    "    \n",
    "class Deposit(Transaction):\n",
    "    def __init__(self, date, amount):\n",
    "        super().__init__(date,amount)\n",
    "    def __str__(self):\n",
    "        return f\"Deposit   :[{self.date}, {self.amount}]\"\n",
    "\n",
    "class Withdrow(Transaction):\n",
    "    def __init__(self, date, amount):\n",
    "        super().__init__(date,amount)\n",
    "    def __str__(self):\n",
    "        return f\"Widthdrow :[{self.date}, {self.amount}]\"\n",
    "    \n",
    "deposit = Deposit(\"2023-08-24\", 1000)\n",
    "withdrow=Withdrow(\"2023-05-05\",7000)\n",
    "print(deposit)\n",
    "print(withdrow)\n"
   ]
  },
  {
   "cell_type": "markdown",
   "id": "c8547aa3",
   "metadata": {},
   "source": [
    "Geometry Inheritance II:\n",
    "Implement a base class Shape with methods area and perimeter. Inherit from it to create classes for Rectangle and Circle."
   ]
  },
  {
   "cell_type": "code",
   "execution_count": 25,
   "id": "65a1458e",
   "metadata": {},
   "outputs": [
    {
     "name": "stdout",
     "output_type": "stream",
     "text": [
      "50\n",
      "30\n",
      "78.53981633974483\n",
      "31.41592653589793\n"
     ]
    }
   ],
   "source": [
    "import math\n",
    "class Shape:\n",
    "    \"\"\"Base class for shapes.\"\"\"\n",
    "\n",
    "    def __init__(self):\n",
    "        pass\n",
    "\n",
    "    def area(self):\n",
    "        \"\"\"Calculate the area of the shape.\"\"\"\n",
    "        raise NotImplementedError(\"Must be implemented by subclass\")\n",
    "\n",
    "    def perimeter(self):\n",
    "        \"\"\"Calculate the perimeter of the shape.\"\"\"\n",
    "        raise NotImplementedError(\"Must be implemented by subclass\")\n",
    "\n",
    "\n",
    "class Rectangle(Shape):\n",
    "    \"\"\"Class for rectangles.\"\"\"\n",
    "\n",
    "    def __init__(self, length, width):\n",
    "        self.length = length\n",
    "        self.width = width\n",
    "\n",
    "    def area(self):\n",
    "        return self.length * self.width\n",
    "\n",
    "    def perimeter(self):\n",
    "        return 2 * (self.length + self.width)\n",
    "\n",
    "\n",
    "class Circle(Shape):\n",
    "    \"\"\"Class for circles.\"\"\"\n",
    "\n",
    "    def __init__(self, radius):\n",
    "        self.radius = radius\n",
    "\n",
    "    def area(self):\n",
    "        return math.pi * self.radius ** 2\n",
    "\n",
    "    def perimeter(self):\n",
    "        return 2 * math.pi * self.radius\n",
    "\n",
    "\n",
    "# Example usage\n",
    "rectangle = Rectangle(10, 5)\n",
    "print(rectangle.area())  # 50\n",
    "print(rectangle.perimeter())  # 20\n",
    "\n",
    "circle = Circle(5)\n",
    "print(circle.area())  # 78.53981633974483\n",
    "print(circle.perimeter())  # 31.41592653589793\n"
   ]
  },
  {
   "cell_type": "markdown",
   "id": "79336646",
   "metadata": {},
   "source": [
    "# 2.Multiple inheritance"
   ]
  },
  {
   "cell_type": "markdown",
   "id": "fcf4bd57",
   "metadata": {},
   "source": [
    "Create classes Person and Employee with attributes like name and ID respectively.         Create a class Manager inheriting from both Person and Employee with an additional         attribute, department. Display the details of a manager."
   ]
  },
  {
   "cell_type": "code",
   "execution_count": 28,
   "id": "6c19ab6b",
   "metadata": {},
   "outputs": [
    {
     "name": "stdout",
     "output_type": "stream",
     "text": [
      "Name: John Doe\n",
      "Employee ID: EMP123\n",
      "Department: Sales\n"
     ]
    }
   ],
   "source": [
    "class Person:\n",
    "    def __init__(self, name):\n",
    "        self.name = name\n",
    "\n",
    "class Employee:\n",
    "    def __init__(self, employee_id):\n",
    "        self.employee_id = employee_id\n",
    "\n",
    "class Manager(Person, Employee):\n",
    "    def __init__(self, name, employee_id, department):\n",
    "        Person.__init__(self, name)\n",
    "        Employee.__init__(self, employee_id)\n",
    "        self.department = department\n",
    "    \n",
    "    def display_details(self):\n",
    "        print(f\"Name: {self.name}\")\n",
    "        print(f\"Employee ID: {self.employee_id}\")\n",
    "        print(f\"Department: {self.department}\")\n",
    "\n",
    "# Create a Manager instance\n",
    "manager = Manager(\"John Doe\", \"EMP123\", \"Sales\")\n",
    "\n",
    "# Display the details of the manager\n",
    "manager.display_details()\n"
   ]
  },
  {
   "cell_type": "markdown",
   "id": "cfbbd0f7",
   "metadata": {},
   "source": [
    "Implement classes Shape and Color with appropriate attributes. Create a class             ColoredShape that inherits from both Shape and Color to represent a colored               geometric shape."
   ]
  },
  {
   "cell_type": "code",
   "execution_count": 6,
   "id": "b9fd5479",
   "metadata": {},
   "outputs": [
    {
     "name": "stdout",
     "output_type": "stream",
     "text": [
      "Shape Name :Triangle\n",
      "color :brown\n",
      "size :42\n"
     ]
    }
   ],
   "source": [
    "class Shape:\n",
    "    def __init__(self,name):\n",
    "        self.name=name\n",
    "        \n",
    "class Color:\n",
    "    def __init__(self,color):\n",
    "        self.color=color\n",
    "        \n",
    "class ColorShape(Shape,Color):\n",
    "    def __init__(self,name,color,size):\n",
    "        Shape.__init__(self,name)\n",
    "        Color.__init__(self,color)            \n",
    "        self.size=size\n",
    "    def __repr__(self):\n",
    "        return f\"Shape Name :{self.name}\\n\"+f\"color :{self.color}\\n\"+f\"size :{self.size}\"\n",
    "    \n",
    "cs=ColorShape(\"Triangle\",\"brown\",42)\n",
    "print(cs)"
   ]
  },
  {
   "cell_type": "markdown",
   "id": "2e3df25d",
   "metadata": {},
   "source": [
    "Build classes Vehicle and Convertible with attributes like make and roof status           respectively. Develop a class ConvertibleSUV inheriting from both, representing a         convertible SUV.\n"
   ]
  },
  {
   "cell_type": "code",
   "execution_count": 15,
   "id": "dbcb4c6d",
   "metadata": {},
   "outputs": [
    {
     "name": "stdout",
     "output_type": "stream",
     "text": [
      "This Toyota RAV4 has a open roof.\n"
     ]
    }
   ],
   "source": [
    "class Vehicle:\n",
    "    def __init__(self, make):\n",
    "        self.make = make\n",
    "\n",
    "class Convertible:\n",
    "    def __init__(self, roof_status):\n",
    "        self.roof_status = roof_status\n",
    "\n",
    "class ConvertibleSUV(Vehicle, Convertible):\n",
    "    def __init__(self, make, roof_status, model):\n",
    "        Vehicle.__init__(self, make)\n",
    "        Convertible.__init__(self, roof_status)\n",
    "        self.model = model\n",
    "\n",
    "    def display_info(self):\n",
    "        return f\"This {self.make} {self.model} has a {'open' if self.roof_status else 'closed'} roof.\"\n",
    "\n",
    "# Creating instances\n",
    "suv = ConvertibleSUV(\"Toyota\", True, \"RAV4\")\n",
    "\n",
    "# Accessing attributes and methods\n",
    "print(suv.display_info())  # Output: This Toyota RAV4 has an open roof.\n"
   ]
  },
  {
   "cell_type": "markdown",
   "id": "3e3de17b",
   "metadata": {},
   "source": [
    "# 3.Multilevel Inheritance:"
   ]
  },
  {
   "cell_type": "markdown",
   "id": "a7064747",
   "metadata": {},
   "source": [
    "Construct classes Animal with methods for eating and Dog inheriting from Animal           with an additional method for barking. Create a class Bulldog inheriting from Dog         that can swim."
   ]
  },
  {
   "cell_type": "code",
   "execution_count": 24,
   "id": "ba76580d",
   "metadata": {},
   "outputs": [
    {
     "name": "stdout",
     "output_type": "stream",
     "text": [
      "The Animel is eat :breed\n",
      "It can bark :hooof hooow\n"
     ]
    }
   ],
   "source": [
    "class Animal:\n",
    "    def eat(self,meal):\n",
    "        self.meal=meal\n",
    "class Dog(Animal):\n",
    "    def barking(self,bark=False):\n",
    "        self.bark=bark\n",
    "class Bulldog(Dog):\n",
    "    def __init__(self,meal,bark):\n",
    "        Animal.eat(self,meal)\n",
    "        Dog.barking(self,bark)\n",
    "    def __str__(self):\n",
    "        return f\"The Animel is eat :{self.meal}\\nIt can bark :{self.bark}\"\n",
    "bullDog=Bulldog(\"breed\",\"hooof hooow\")\n",
    "print(bullDog)"
   ]
  },
  {
   "cell_type": "markdown",
   "id": "bbaa81cf",
   "metadata": {},
   "source": [
    "Formulate classes BankAccount with methods for deposit and SavingsAccount                 inheriting from it with methods for calculating interest. Derive a class                   FixedDeposit from SavingsAccount with a maturity period attribute."
   ]
  },
  {
   "cell_type": "code",
   "execution_count": 38,
   "id": "34055eae",
   "metadata": {},
   "outputs": [
    {
     "ename": "AttributeError",
     "evalue": "'FixedDeposit' object has no attribute 'name'",
     "output_type": "error",
     "traceback": [
      "\u001b[0;31m---------------------------------------------------------------------------\u001b[0m",
      "\u001b[0;31mAttributeError\u001b[0m                            Traceback (most recent call last)",
      "Cell \u001b[0;32mIn[38], line 36\u001b[0m\n\u001b[1;32m     33\u001b[0m             \u001b[38;5;28;01mreturn\u001b[39;00m \u001b[38;5;124mf\u001b[39m\u001b[38;5;124m\"\u001b[39m\u001b[38;5;124mBalance :\u001b[39m\u001b[38;5;132;01m{\u001b[39;00m\u001b[38;5;28mself\u001b[39m\u001b[38;5;241m.\u001b[39mbalance\u001b[38;5;132;01m}\u001b[39;00m\u001b[38;5;124m\"\u001b[39m\n\u001b[1;32m     35\u001b[0m fixedAcc\u001b[38;5;241m=\u001b[39mFixedDeposit(\u001b[38;5;124m\"\u001b[39m\u001b[38;5;124mArif Hasan\u001b[39m\u001b[38;5;124m\"\u001b[39m,\u001b[38;5;124m\"\u001b[39m\u001b[38;5;124mfx1254362201\u001b[39m\u001b[38;5;124m\"\u001b[39m,\u001b[38;5;241m5000\u001b[39m,\u001b[38;5;241m0.5\u001b[39m,\u001b[38;5;241m12\u001b[39m) \n\u001b[0;32m---> 36\u001b[0m \u001b[38;5;28;43mprint\u001b[39;49m\u001b[43m(\u001b[49m\u001b[43mfixedAcc\u001b[49m\u001b[43m)\u001b[49m\n",
      "Cell \u001b[0;32mIn[38], line 23\u001b[0m, in \u001b[0;36mFixedDeposit.__str__\u001b[0;34m(self)\u001b[0m\n\u001b[1;32m     22\u001b[0m \u001b[38;5;28;01mdef\u001b[39;00m \u001b[38;5;21m__str__\u001b[39m(\u001b[38;5;28mself\u001b[39m):\n\u001b[0;32m---> 23\u001b[0m     \u001b[38;5;28;01mreturn\u001b[39;00m \u001b[38;5;124mf\u001b[39m\u001b[38;5;124m\"\u001b[39m\u001b[38;5;124mUser name :\u001b[39m\u001b[38;5;132;01m{\u001b[39;00m\u001b[38;5;28mself\u001b[39m\u001b[38;5;241m.\u001b[39mname\u001b[38;5;132;01m}\u001b[39;00m\u001b[38;5;130;01m\\n\u001b[39;00m\u001b[38;5;124mUser ID :\u001b[39m\u001b[38;5;132;01m{\u001b[39;00m\u001b[38;5;28mself\u001b[39m\u001b[38;5;241m.\u001b[39mID\u001b[38;5;132;01m}\u001b[39;00m\u001b[38;5;124m\"\u001b[39m\n",
      "\u001b[0;31mAttributeError\u001b[0m: 'FixedDeposit' object has no attribute 'name'"
     ]
    }
   ],
   "source": [
    "class BankAccount:\n",
    "    def __init__(self,user_name,user_ID,initial_balance,rate_of_interest,time):\n",
    "        self.user_name=user_name\n",
    "        self.user_ID=user_ID\n",
    "        self.balance=initial_balance\n",
    "        self.interest=rate_of_interest\n",
    "        self.time=time\n",
    "    def deposite(self,amount):\n",
    "        if amount:\n",
    "            balance+=amount\n",
    "            #calculate rate of interest as S.I. = (P × R × T)/100,\n",
    "            balance=balance*interest*time\n",
    "        return f\"Current Balance :{self.balance}\"\n",
    "    def withdrow(self,amount):\n",
    "        if amount<(balance-100):\n",
    "            balance-=amount\n",
    "        return f\"Current Balance :{self.balance}\"\n",
    "    \n",
    "class FixedDeposit(BankAccount):\n",
    "    def __init__(self,name,ID,balance,interest,time):\n",
    "        pass\n",
    "    def __str__(self):\n",
    "        return f\"User name :{self.name}\\nUser ID :{self.ID}\"\n",
    "    def check_balance(self,flag=False):\n",
    "        if flag:\n",
    "            return f\"Balance :{self.balance}\"\n",
    "class SavingsAccount(BankAccount):\n",
    "     def __str__(self):\n",
    "        return f\"User name :{self.user_name}\\nUser ID :{self.user_ID}\"\n",
    "    \n",
    "     def check_balance(self,flag=False):\n",
    "        if flag:\n",
    "            return f\"Balance :{self.balance}\"\n",
    "        \n",
    "fixedAcc=FixedDeposit(\"Arif Hasan\",\"fx1254362201\",5000,0.5,12) \n",
    "print(fixedAcc)"
   ]
  },
  {
   "cell_type": "code",
   "execution_count": 44,
   "id": "e1e6cf55",
   "metadata": {},
   "outputs": [
    {
     "name": "stdout",
     "output_type": "stream",
     "text": [
      "Deposited 5000 into account SA123. New balance: 5000\n",
      "Deposited 5000 into account SA123. New balance: 10000\n",
      "Interest earned: 100.0\n",
      "Deposited 2000 into account FD456. New balance: 12000\n",
      "Interest earned: 600.0\n",
      "Maturity period: 24 months\n"
     ]
    }
   ],
   "source": [
    "class BankAccount:\n",
    "    def __init__(self, account_number, balance=0):\n",
    "        self.account_number = account_number\n",
    "        self.balance = balance\n",
    "    \n",
    "    def deposit(self, amount):\n",
    "        self.balance += amount\n",
    "        print(f\"Deposited {amount} into account {self.account_number}. New balance: {self.balance}\")\n",
    "            \n",
    "    def withdrow(self, amount):\n",
    "        if amount<balance-100:\n",
    "            self.balance += amount\n",
    "        else:\n",
    "            print(\"Influence Balance\")\n",
    "            return\n",
    "        print(f\"Withdrow {amount} into account {self.account_number}. New balance: {self.balance}\")\n",
    "\n",
    "class SavingsAccount(BankAccount):\n",
    "    def __init__(self, account_number, balance=0, interest_rate=0.01):\n",
    "        super().__init__(account_number, balance)\n",
    "        self.interest_rate = interest_rate\n",
    "    \n",
    "    def calculate_interest(self):\n",
    "        interest = self.balance * self.interest_rate\n",
    "        print(f\"Interest earned: {interest}\")\n",
    "        return interest\n",
    "\n",
    "class FixedDeposit(SavingsAccount):\n",
    "    def __init__(self, account_number, balance=0, interest_rate=0.05, maturity_period=12):\n",
    "        super().__init__(account_number, balance, interest_rate)\n",
    "        self.maturity_period = maturity_period\n",
    "    \n",
    "    def get_maturity_period(self):\n",
    "        return self.maturity_period\n",
    "\n",
    "# Creating instances\n",
    "savings_account = SavingsAccount(\"SA123\")\n",
    "fixed_deposit = FixedDeposit(\"FD456\", balance=10000, maturity_period=24)\n",
    "\n",
    "# Accessing methods\n",
    "savings_account.deposit(5000)\n",
    "savings_account.deposit(5000)# Output: Deposited 5000 into account SA123. New balance: 5000\n",
    "savings_account.calculate_interest() # Output: Interest earned: 50.0\n",
    "\n",
    "fixed_deposit.deposit(2000)           # Output: Deposited 2000 into account FD456. New balance: 12000\n",
    "fixed_deposit.calculate_interest()     # Output: Interest earned: 600.0\n",
    "print(f\"Maturity period: {fixed_deposit.get_maturity_period()} months\")  # Output: Maturity period: 24 months\n"
   ]
  },
  {
   "cell_type": "markdown",
   "id": "041ea637",
   "metadata": {},
   "source": [
    "Design classes LivingThing with a method for respiration and Bird inheriting from         it with methods for flying and laying eggs. Develop a class Penguin inheriting             from Bird that cannot fly."
   ]
  },
  {
   "cell_type": "code",
   "execution_count": null,
   "id": "a52e680a",
   "metadata": {},
   "outputs": [],
   "source": []
  },
  {
   "cell_type": "markdown",
   "id": "c694b8e3",
   "metadata": {},
   "source": [
    "# 4.Hierarchical Inheritance:"
   ]
  },
  {
   "cell_type": "markdown",
   "id": "f6836cd1",
   "metadata": {},
   "source": [
    "Create a class Vehicle with attributes like make and model. Derive classes Car and         Motorcycle from it, both with unique attributes. Implement a function to display           the details of a vehicle."
   ]
  },
  {
   "cell_type": "code",
   "execution_count": 47,
   "id": "19c418e7",
   "metadata": {},
   "outputs": [
    {
     "name": "stdout",
     "output_type": "stream",
     "text": [
      "Make: Toyota\n",
      "Model: Corolla\n",
      "Number of doors: 4\n",
      "Make: Honda\n",
      "Model: CBR250R\n",
      "Engine size: 250\n"
     ]
    }
   ],
   "source": [
    "class Vehicle:\n",
    "    \"\"\"A class representing a vehicle.\"\"\"\n",
    "\n",
    "    def __init__(self, make, model):\n",
    "        \"\"\"Initialize the vehicle with the given make and model.\"\"\"\n",
    "        self.make = make\n",
    "        self.model = model\n",
    "\n",
    "\n",
    "class Car(Vehicle):\n",
    "    \"\"\"A class representing a car.\"\"\"\n",
    "\n",
    "    def __init__(self, make, model, number_of_doors):\n",
    "        \"\"\"Initialize the car with the given make, model, and number of doors.\"\"\"\n",
    "        super().__init__(make, model)\n",
    "        self.number_of_doors = number_of_doors\n",
    "\n",
    "\n",
    "class Motorcycle(Vehicle):\n",
    "    \"\"\"A class representing a motorcycle.\"\"\"\n",
    "\n",
    "    def __init__(self, make, model, engine_size):\n",
    "        \"\"\"Initialize the motorcycle with the given make, model, and engine size.\"\"\"\n",
    "        super().__init__(make, model)\n",
    "        self.engine_size = engine_size\n",
    "\n",
    "\n",
    "def display_vehicle_details(vehicle):\n",
    "    \"\"\"Display the details of the given vehicle.\"\"\"\n",
    "    print(\"Make:\", vehicle.make)\n",
    "    print(\"Model:\", vehicle.model)\n",
    "\n",
    "    if isinstance(vehicle, Car):\n",
    "        print(\"Number of doors:\", vehicle.number_of_doors)\n",
    "    elif isinstance(vehicle, Motorcycle):\n",
    "        print(\"Engine size:\", vehicle.engine_size)\n",
    "\n",
    "# Create a car\n",
    "car = Car(\"Toyota\", \"Corolla\", 4)\n",
    "\n",
    "# Display the details of the car\n",
    "display_vehicle_details(car)\n",
    "\n",
    "# Create a motorcycle\n",
    "motorcycle = Motorcycle(\"Honda\", \"CBR250R\", 250)\n",
    "\n",
    "# Display the details of the motorcycle\n",
    "display_vehicle_details(motorcycle)\n"
   ]
  },
  {
   "cell_type": "markdown",
   "id": "be90b1bb",
   "metadata": {},
   "source": [
    "Establish a class Shape with methods for area and perimeter calculations. Derive           classes Rectangle and Triangle from it with specific methods for their                     calculations."
   ]
  },
  {
   "cell_type": "code",
   "execution_count": 48,
   "id": "d69f6a08",
   "metadata": {},
   "outputs": [
    {
     "name": "stdout",
     "output_type": "stream",
     "text": [
      "Rectangle:\n",
      "Area: 50\n",
      "Perimeter: 30\n",
      "\n",
      "Triangle:\n",
      "Area: 6.0\n",
      "Perimeter: 12\n"
     ]
    }
   ],
   "source": [
    "class Shape:\n",
    "    def area(self):\n",
    "        pass\n",
    "    \n",
    "    def perimeter(self):\n",
    "        pass\n",
    "\n",
    "class Rectangle(Shape):\n",
    "    def __init__(self, width, height):\n",
    "        self.width = width\n",
    "        self.height = height\n",
    "    \n",
    "    def area(self):\n",
    "        return self.width * self.height\n",
    "    \n",
    "    def perimeter(self):\n",
    "        return 2 * (self.width + self.height)\n",
    "\n",
    "class Triangle(Shape):\n",
    "    def __init__(self, side1, side2, side3):\n",
    "        self.side1 = side1\n",
    "        self.side2 = side2\n",
    "        self.side3 = side3\n",
    "    \n",
    "    def area(self):\n",
    "        # Using Heron's formula to calculate area of a triangle\n",
    "        s = (self.side1 + self.side2 + self.side3) / 2\n",
    "        return (s * (s - self.side1) * (s - self.side2) * (s - self.side3)) ** 0.5\n",
    "    \n",
    "    def perimeter(self):\n",
    "        return self.side1 + self.side2 + self.side3\n",
    "\n",
    "# Creating instances\n",
    "rectangle = Rectangle(5, 10)\n",
    "triangle = Triangle(3, 4, 5)\n",
    "\n",
    "# Calculating and displaying area and perimeter\n",
    "print(\"Rectangle:\")\n",
    "print(f\"Area: {rectangle.area()}\")\n",
    "print(f\"Perimeter: {rectangle.perimeter()}\")\n",
    "\n",
    "print(\"\\nTriangle:\")\n",
    "print(f\"Area: {triangle.area()}\")\n",
    "print(f\"Perimeter: {triangle.perimeter()}\")\n"
   ]
  },
  {
   "cell_type": "markdown",
   "id": "4b2ae224",
   "metadata": {},
   "source": [
    "Develop a class Fruit with attributes like name and taste. Derive classes Citrus           and NonCitrus from it. Display the type of fruit and its taste for both types."
   ]
  },
  {
   "cell_type": "code",
   "execution_count": 49,
   "id": "e4fc2a1f",
   "metadata": {},
   "outputs": [
    {
     "name": "stdout",
     "output_type": "stream",
     "text": [
      "Citrus Fruit:\n",
      "Type of fruit: Citrus\n",
      "Taste: Tangy\n",
      "Vitamin C content: High\n",
      "\n",
      "Non-Citrus Fruit:\n",
      "Type of fruit: NonCitrus\n",
      "Taste: Sweet\n",
      "Fiber content: Moderate\n"
     ]
    }
   ],
   "source": [
    "class Fruit:\n",
    "    def __init__(self, name, taste):\n",
    "        self.name = name\n",
    "        self.taste = taste\n",
    "    \n",
    "    def display_details(self):\n",
    "        print(f\"Type of fruit: {type(self).__name__}\")\n",
    "        print(f\"Taste: {self.taste}\")\n",
    "\n",
    "class Citrus(Fruit):\n",
    "    def __init__(self, name, taste, vitamin_c_content):\n",
    "        super().__init__(name, taste)\n",
    "        self.vitamin_c_content = vitamin_c_content\n",
    "    \n",
    "    def display_details(self):\n",
    "        super().display_details()\n",
    "        print(f\"Vitamin C content: {self.vitamin_c_content}\")\n",
    "\n",
    "class NonCitrus(Fruit):\n",
    "    def __init__(self, name, taste, fiber_content):\n",
    "        super().__init__(name, taste)\n",
    "        self.fiber_content = fiber_content\n",
    "    \n",
    "    def display_details(self):\n",
    "        super().display_details()\n",
    "        print(f\"Fiber content: {self.fiber_content}\")\n",
    "\n",
    "# Creating instances\n",
    "citrus_fruit = Citrus(\"Orange\", \"Tangy\", \"High\")\n",
    "non_citrus_fruit = NonCitrus(\"Apple\", \"Sweet\", \"Moderate\")\n",
    "\n",
    "# Displaying fruit details\n",
    "print(\"Citrus Fruit:\")\n",
    "citrus_fruit.display_details()\n",
    "\n",
    "print(\"\\nNon-Citrus Fruit:\")\n",
    "non_citrus_fruit.display_details()\n"
   ]
  }
 ],
 "metadata": {
  "kernelspec": {
   "display_name": "Python 3 (ipykernel)",
   "language": "python",
   "name": "python3"
  },
  "language_info": {
   "codemirror_mode": {
    "name": "ipython",
    "version": 3
   },
   "file_extension": ".py",
   "mimetype": "text/x-python",
   "name": "python",
   "nbconvert_exporter": "python",
   "pygments_lexer": "ipython3",
   "version": "3.10.9"
  },
  "widgets": {
   "application/vnd.jupyter.widget-state+json": {
    "state": {},
    "version_major": 2,
    "version_minor": 0
   }
  }
 },
 "nbformat": 4,
 "nbformat_minor": 5
}
