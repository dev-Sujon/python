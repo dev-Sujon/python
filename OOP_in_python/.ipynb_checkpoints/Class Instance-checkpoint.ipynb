{
 "cells": [
  {
   "cell_type": "markdown",
   "id": "b7d44fbe",
   "metadata": {},
   "source": [
    "1.Write a Python program to create a class representing a circle. The class should have attributes for the circle's radius, diameter, and circumference."
   ]
  },
  {
   "cell_type": "code",
   "execution_count": 1,
   "id": "68c77524",
   "metadata": {},
   "outputs": [
    {
     "name": "stdout",
     "output_type": "stream",
     "text": [
      "redius:12\n",
      "diamter:12\n",
      "10\n"
     ]
    }
   ],
   "source": [
    "class Circle:\n",
    "    def __init__(self,radius,diameter,circumference):\n",
    "        self.rad=radius\n",
    "        self.dia=diameter\n",
    "        self.cirm=circumference\n",
    "    def __str__(self):\n",
    "        return f\"redius:{self.rad}\\ndiamter:{self.rad}\\n{self.cirm}\"\n",
    "class circle1(Circle):\n",
    "    pass\n",
    "\n",
    "\n",
    "production = circle1(12,25,10)\n",
    "print(production)"
   ]
  },
  {
   "cell_type": "markdown",
   "id": "347932ef",
   "metadata": {},
   "source": [
    "2.Write a Python program to create a person class. The class should have attributes for the person's name, age, and address."
   ]
  },
  {
   "cell_type": "code",
   "execution_count": 2,
   "id": "16a9be2f",
   "metadata": {},
   "outputs": [
    {
     "name": "stdout",
     "output_type": "stream",
     "text": [
      "Name:Rubel age:28 address:Jamalpur\n"
     ]
    }
   ],
   "source": [
    "class Person:\n",
    "    def __init__(self,name,age,address):\n",
    "        self.name=name\n",
    "        self.age=age\n",
    "        self.addr=address\n",
    "    def __str__(self):\n",
    "        return f\"Name:{self.name} age:{self.age} address:{self.addr}\"\n",
    "bongaa = Person(\"Rubel\",28,\"Jamalpur\")\n",
    "print(bongaa)"
   ]
  },
  {
   "cell_type": "code",
   "execution_count": null,
   "id": "7d9d75e6",
   "metadata": {},
   "outputs": [],
   "source": [
    "Write a Python program to create a calculator class. The class should have methods for performing basic arithmetic operations, such as addition, subtraction, multiplication, and division."
   ]
  },
  {
   "cell_type": "code",
   "execution_count": null,
   "id": "7e8b284a",
   "metadata": {},
   "outputs": [],
   "source": []
  },
  {
   "cell_type": "code",
   "execution_count": null,
   "id": "9ce3b07c",
   "metadata": {},
   "outputs": [],
   "source": []
  }
 ],
 "metadata": {
  "kernelspec": {
   "display_name": "Python 3 (ipykernel)",
   "language": "python",
   "name": "python3"
  },
  "language_info": {
   "codemirror_mode": {
    "name": "ipython",
    "version": 3
   },
   "file_extension": ".py",
   "mimetype": "text/x-python",
   "name": "python",
   "nbconvert_exporter": "python",
   "pygments_lexer": "ipython3",
   "version": "3.10.9"
  },
  "widgets": {
   "application/vnd.jupyter.widget-state+json": {
    "state": {},
    "version_major": 2,
    "version_minor": 0
   }
  }
 },
 "nbformat": 4,
 "nbformat_minor": 5
}
