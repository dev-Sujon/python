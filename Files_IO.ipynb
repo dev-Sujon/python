{
 "cells": [
  {
   "cell_type": "markdown",
   "id": "01c70738",
   "metadata": {},
   "source": [
    "# Reading and Writing Text Data\n",
    "You need to read or write text data, possibly in different text encodings such as ASCII,UTF-8, or UTF-16.\n",
    "    Solution:\n",
    "    Use the open() function with mode rt to read a text file. For example:"
   ]
  },
  {
   "cell_type": "code",
   "execution_count": 1,
   "id": "7fb58cee",
   "metadata": {},
   "outputs": [
    {
     "ename": "IndentationError",
     "evalue": "expected an indented block after 'with' statement on line 1 (3696881709.py, line 2)",
     "output_type": "error",
     "traceback": [
      "\u001b[0;36m  Cell \u001b[0;32mIn[1], line 2\u001b[0;36m\u001b[0m\n\u001b[0;31m    data = f.read()\u001b[0m\n\u001b[0m    ^\u001b[0m\n\u001b[0;31mIndentationError\u001b[0m\u001b[0;31m:\u001b[0m expected an indented block after 'with' statement on line 1\n"
     ]
    }
   ],
   "source": [
    "with open('journal.txt', 'rt') as f:\n",
    "data = f.read()"
   ]
  }
 ],
 "metadata": {
  "kernelspec": {
   "display_name": "Python 3 (ipykernel)",
   "language": "python",
   "name": "python3"
  },
  "language_info": {
   "codemirror_mode": {
    "name": "ipython",
    "version": 3
   },
   "file_extension": ".py",
   "mimetype": "text/x-python",
   "name": "python",
   "nbconvert_exporter": "python",
   "pygments_lexer": "ipython3",
   "version": "3.10.9"
  }
 },
 "nbformat": 4,
 "nbformat_minor": 5
}
