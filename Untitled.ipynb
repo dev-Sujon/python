{
 "cells": [
  {
   "cell_type": "code",
   "execution_count": null,
   "id": "3c3ca269",
   "metadata": {},
   "outputs": [],
   "source": [
    "def dfs(graph, node, visited):\n",
    "    if not visited[node]:\n",
    "        visited[node] = True\n",
    "        print(node, end=' ')\n",
    "        for neighbor in graph[node]:\n",
    "            if not visited[neighbor]:\n",
    "                dfs(graph, neighbor, visited)\n",
    "\n",
    "# Example graph represented as an adjacency list\n",
    "graph = {\n",
    "    0: [1, 2],\n",
    "    1: [3, 4],\n",
    "    2: [],\n",
    "    3: [],\n",
    "    4: [5],\n",
    "    5: []\n",
    "}\n",
    "\n",
    "# Initialize the visited array\n",
    "num_nodes = len(graph)\n",
    "visited = [False] * num_nodes\n",
    "\n",
    "# Start DFS from node 0\n",
    "dfs(graph, 0, visited)\n"
   ]
  },
  {
   "cell_type": "code",
   "execution_count": 5,
   "id": "984b0f91",
   "metadata": {},
   "outputs": [
    {
     "name": "stdout",
     "output_type": "stream",
     "text": [
      "0 1 3 4 5 2 "
     ]
    }
   ],
   "source": [
    "def dfs(graph, node, visited):\n",
    "    if not visited[node]:\n",
    "        visited[node] = True\n",
    "        print(node, end=' ')\n",
    "        for neighbor in graph[node]:\n",
    "            if not visited[neighbor]:\n",
    "                dfs(graph, neighbor, visited)\n",
    "\n",
    "# Example graph represented as an adjacency list\n",
    "graph = {\n",
    "    0: [1, 2],\n",
    "    1: [3, 4],\n",
    "    2: [],\n",
    "    3: [],\n",
    "    4: [5],\n",
    "    5: []\n",
    "}\n",
    "\n",
    "# Initialize the visited array\n",
    "num_nodes = len(graph)\n",
    "visited = [False] * num_nodes\n",
    "\n",
    "# Start DFS from node 0\n",
    "dfs(graph, 0, visited)\n"
   ]
  },
  {
   "cell_type": "code",
   "execution_count": 6,
   "id": "13d96d2b",
   "metadata": {},
   "outputs": [
    {
     "name": "stdout",
     "output_type": "stream",
     "text": [
      "0 1 2 3 4 5 "
     ]
    }
   ],
   "source": [
    "#bfs\n",
    "from collections import deque\n",
    "\n",
    "def bfs(graph, start):\n",
    "    visited = set()\n",
    "    queue = deque([start])\n",
    "    visited.add(start)\n",
    "\n",
    "    while queue:\n",
    "        node = queue.popleft()\n",
    "        print(node, end=' ')\n",
    "\n",
    "        for neighbor in graph[node]:\n",
    "            if neighbor not in visited:\n",
    "                queue.append(neighbor)\n",
    "                visited.add(neighbor)\n",
    "\n",
    "# Example graph represented as an adjacency list\n",
    "graph = {\n",
    "    0: [1, 2],\n",
    "    1: [3, 4],\n",
    "    2: [],\n",
    "    3: [],\n",
    "    4: [5],\n",
    "    5: []\n",
    "}\n",
    "\n",
    "# Start BFS from node 0\n",
    "bfs(graph, 0)\n"
   ]
  },
  {
   "cell_type": "code",
   "execution_count": null,
   "id": "6a1cc1b3",
   "metadata": {},
   "outputs": [],
   "source": []
  }
 ],
 "metadata": {
  "kernelspec": {
   "display_name": "Python 3 (ipykernel)",
   "language": "python",
   "name": "python3"
  },
  "language_info": {
   "codemirror_mode": {
    "name": "ipython",
    "version": 3
   },
   "file_extension": ".py",
   "mimetype": "text/x-python",
   "name": "python",
   "nbconvert_exporter": "python",
   "pygments_lexer": "ipython3",
   "version": "3.10.9"
  }
 },
 "nbformat": 4,
 "nbformat_minor": 5
}
