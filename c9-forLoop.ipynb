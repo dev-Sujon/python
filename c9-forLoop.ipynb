{
 "cells": [
  {
   "cell_type": "code",
   "execution_count": 1,
   "id": "d45aafee",
   "metadata": {},
   "outputs": [
    {
     "name": "stdout",
     "output_type": "stream",
     "text": [
      "[4, 8, 12, 16]\n"
     ]
    }
   ],
   "source": [
    "list1 = [2,4,6,8]\n",
    "ans = []\n",
    "for x in list1:\n",
    "    ans.append(x*2)\n",
    "\n",
    "print(ans)    "
   ]
  },
  {
   "cell_type": "code",
   "execution_count": 4,
   "id": "0babe494",
   "metadata": {},
   "outputs": [
    {
     "data": {
      "text/plain": [
       "type"
      ]
     },
     "execution_count": 4,
     "metadata": {},
     "output_type": "execute_result"
    }
   ],
   "source": [
    "type(range)"
   ]
  },
  {
   "cell_type": "code",
   "execution_count": 14,
   "id": "9efdffb7",
   "metadata": {},
   "outputs": [
    {
     "name": "stdout",
     "output_type": "stream",
     "text": [
      "1\n",
      "2\n",
      "3\n",
      "5\n",
      "46\n",
      "5\n",
      "8\n",
      "2\n",
      "12\n",
      "2\n",
      "10\n"
     ]
    }
   ],
   "source": [
    "lst = [1,2,3,5,46,5,8,2,12,2,10]\n",
    "for x in lst:\n",
    "    "
   ]
  },
  {
   "cell_type": "code",
   "execution_count": 18,
   "id": "dd234cc3",
   "metadata": {},
   "outputs": [
    {
     "name": "stdout",
     "output_type": "stream",
     "text": [
      "[2, 8, 123, 1, 6, 3]\n"
     ]
    }
   ],
   "source": [
    "jj = [2,4,8,6,123,56,1,5632,6,126,3]\n",
    "ans = []\n",
    "for i in range(len(jj)):\n",
    "    if i%2==0:\n",
    "        ans.append(jj[i])\n",
    "print(ans)        "
   ]
  },
  {
   "cell_type": "code",
   "execution_count": 27,
   "id": "56351c7b",
   "metadata": {},
   "outputs": [
    {
     "name": "stdout",
     "output_type": "stream",
     "text": [
      "Enter a number: 153\n",
      "153 is a armstrong number\n"
     ]
    }
   ],
   "source": [
    "num =(input('Enter a number: '))\n",
    "add=0\n",
    "for x in num:\n",
    "    cube = int(x)**3\n",
    "    add=add+cube\n",
    "    \n",
    "if int(num) == add:\n",
    "    print(num,\"is a armstrong number\")\n",
    "else:\n",
    "    print(num,\"isn't armstrong number\")\n",
    "\n",
    "    "
   ]
  },
  {
   "cell_type": "code",
   "execution_count": 28,
   "id": "c5c53da4",
   "metadata": {},
   "outputs": [
    {
     "name": "stdout",
     "output_type": "stream",
     "text": [
      "AAPL : 187.31\n",
      "MSFT : 124.06\n",
      "FB : 183.5\n"
     ]
    }
   ],
   "source": [
    "stocks = {\n",
    "        'AAPL': 187.31,\n",
    "        'MSFT': 124.06,\n",
    "        'FB': 183.50\n",
    "    }\n",
    "\n",
    "for key, value in stocks.items() :\n",
    "    print(key + \" : \" + str(value))"
   ]
  },
  {
   "cell_type": "code",
   "execution_count": 29,
   "id": "f8c9db90",
   "metadata": {},
   "outputs": [
    {
     "name": "stdout",
     "output_type": "stream",
     "text": [
      "dict_items([('AAPL', 187.31), ('MSFT', 124.06), ('FB', 183.5)])\n"
     ]
    }
   ],
   "source": [
    "print(stocks.items())\n"
   ]
  }
 ],
 "metadata": {
  "kernelspec": {
   "display_name": "Python 3 (ipykernel)",
   "language": "python",
   "name": "python3"
  },
  "language_info": {
   "codemirror_mode": {
    "name": "ipython",
    "version": 3
   },
   "file_extension": ".py",
   "mimetype": "text/x-python",
   "name": "python",
   "nbconvert_exporter": "python",
   "pygments_lexer": "ipython3",
   "version": "3.10.9"
  }
 },
 "nbformat": 4,
 "nbformat_minor": 5
}
