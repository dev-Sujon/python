{
 "cells": [
  {
   "cell_type": "markdown",
   "id": "9dc844e6",
   "metadata": {},
   "source": [
    "# Titanic Servive classification"
   ]
  },
  {
   "cell_type": "code",
   "execution_count": 10,
   "id": "1adf87a8",
   "metadata": {},
   "outputs": [],
   "source": [
    "#import library##\n",
    "import pandas as pd\n",
    "import numpy as np\n",
    "\n",
    "###visualization####\n",
    "import seaborn as sns\n",
    "import plotly.express as px\n",
    "import matplotlib.pyplot as plt\n",
    "%matplotlib inline\n",
    "\n",
    "###sklearn#####\n",
    "from sklearn.neighbors import KNeighborsClassifier\n",
    "from sklearn.metrics import confusion_matrix,accuracy_score\n",
    "from sklearn.model_selection import  train_test_split,GridSearchCV,RandomizedSearchCV\n",
    "from sklearn.preprocessing import StandardScaler\n",
    "\n",
    "####optional##########\n",
    "import os\n",
    "import warnings\n",
    "warnings.filterwarnings('ignore')"
   ]
  },
  {
   "cell_type": "code",
   "execution_count": null,
   "id": "0a93e027",
   "metadata": {},
   "outputs": [],
   "source": [
    "#load the dataset\n",
    "df=pd.Data"
   ]
  }
 ],
 "metadata": {
  "kernelspec": {
   "display_name": "Python 3 (ipykernel)",
   "language": "python",
   "name": "python3"
  },
  "language_info": {
   "codemirror_mode": {
    "name": "ipython",
    "version": 3
   },
   "file_extension": ".py",
   "mimetype": "text/x-python",
   "name": "python",
   "nbconvert_exporter": "python",
   "pygments_lexer": "ipython3",
   "version": "3.11.4"
  }
 },
 "nbformat": 4,
 "nbformat_minor": 5
}
