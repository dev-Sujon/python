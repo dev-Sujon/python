{
 "cells": [
  {
   "cell_type": "raw",
   "id": "2d098727",
   "metadata": {},
   "source": [
    "Writing Functions That Accept Any Number of Arguments\n",
    "Problem\n",
    "You want to write a function that accepts any number of input arguments.\n",
    "Solution\n",
    "To write a function that accepts any number of positional arguments, use a * argument."
   ]
  },
  {
   "cell_type": "code",
   "execution_count": 3,
   "id": "98270d84",
   "metadata": {},
   "outputs": [
    {
     "name": "stdout",
     "output_type": "stream",
     "text": [
      "28.25\n"
     ]
    }
   ],
   "source": [
    "def avg(first,*rest):\n",
    "    return (first+sum(rest))/(1+len(rest))\n",
    "p=avg(10,20,30,10,50,6,0,100,)\n",
    "print(p)"
   ]
  },
  {
   "cell_type": "raw",
   "id": "44d4b968",
   "metadata": {},
   "source": [
    "To accept any number of keyword arguments, use an argument that starts with **. For\n",
    "example:\n",
    "*args ==> A tuple\n",
    "**kwargs ==> A dict\n",
    "With this function, all of the positional arguments are placed into a tuple args, and all of the keyword arguments are placed into a dictionary kwargs."
   ]
  },
  {
   "cell_type": "code",
   "execution_count": 18,
   "id": "e6360ef0",
   "metadata": {},
   "outputs": [
    {
     "name": "stdout",
     "output_type": "stream",
     "text": [
      "<item size=\"large\" quantity=\"6\" color=\"red\">Albatross</item>\n"
     ]
    },
    {
     "data": {
      "text/plain": [
       "'<a>link</a>'"
      ]
     },
     "execution_count": 18,
     "metadata": {},
     "output_type": "execute_result"
    }
   ],
   "source": [
    "import html\n",
    "def make_element(name, value, **attrs):\n",
    "    keyvals = [' %s=\"%s\"' % item for item in attrs.items()]\n",
    "    attr_str = ''.join(keyvals)\n",
    "    element = '<{name}{attrs}>{value}</{name}>'.format(\n",
    "    name=name,\n",
    "    attrs=attr_str,\n",
    "    value=html.escape(value))\n",
    "    return element\n",
    "\n",
    "# Example\n",
    "# Creates '<item size=\"large\" quantity=\"6\">Albatross</item>'\n",
    "p=make_element('item', 'Albatross', size='large', quantity=6,color=\"red\")\n",
    "print(p)\n",
    "# Creates '<p>&lt;spam&gt;</p>'\n",
    "make_element('a','link')"
   ]
  },
  {
   "cell_type": "code",
   "execution_count": 22,
   "id": "0b763fe6",
   "metadata": {},
   "outputs": [
    {
     "ename": "NameError",
     "evalue": "name 'tags_str' is not defined",
     "output_type": "error",
     "traceback": [
      "\u001b[0;31m---------------------------------------------------------------------------\u001b[0m",
      "\u001b[0;31mNameError\u001b[0m                                 Traceback (most recent call last)",
      "Cell \u001b[0;32mIn[22], line 10\u001b[0m\n\u001b[1;32m      5\u001b[0m     element \u001b[38;5;241m=\u001b[39m \u001b[38;5;124m'\u001b[39m\u001b[38;5;124m<\u001b[39m\u001b[38;5;132;01m{name}\u001b[39;00m\u001b[38;5;132;01m{tags}\u001b[39;00m\u001b[38;5;124m>\u001b[39m\u001b[38;5;132;01m{value}\u001b[39;00m\u001b[38;5;124m</\u001b[39m\u001b[38;5;132;01m{name}\u001b[39;00m\u001b[38;5;124m>\u001b[39m\u001b[38;5;124m'\u001b[39m\u001b[38;5;241m.\u001b[39mformat(\n\u001b[1;32m      6\u001b[0m     name\u001b[38;5;241m=\u001b[39mname,\n\u001b[1;32m      7\u001b[0m     tags\u001b[38;5;241m=\u001b[39mtags_str,\n\u001b[1;32m      8\u001b[0m     value\u001b[38;5;241m=\u001b[39mhtml\u001b[38;5;241m.\u001b[39mescape(value))\n\u001b[1;32m      9\u001b[0m     \u001b[38;5;28;01mreturn\u001b[39;00m element\n\u001b[0;32m---> 10\u001b[0m p \u001b[38;5;241m=\u001b[39m \u001b[43mhtml_tag_writer\u001b[49m\u001b[43m(\u001b[49m\u001b[38;5;124;43m'\u001b[39;49m\u001b[38;5;124;43ml\u001b[39;49m\u001b[38;5;124;43m'\u001b[39;49m\u001b[43m,\u001b[49m\u001b[38;5;124;43m'\u001b[39;49m\u001b[38;5;124;43mopen\u001b[39;49m\u001b[38;5;124;43m'\u001b[39;49m\u001b[43m)\u001b[49m\n\u001b[1;32m     11\u001b[0m p\n",
      "Cell \u001b[0;32mIn[22], line 7\u001b[0m, in \u001b[0;36mhtml_tag_writer\u001b[0;34m(name, value, **tags)\u001b[0m\n\u001b[1;32m      3\u001b[0m keyval \u001b[38;5;241m=\u001b[39m [\u001b[38;5;124m'\u001b[39m\u001b[38;5;132;01m%s\u001b[39;00m\u001b[38;5;124m=\u001b[39m\u001b[38;5;124m\"\u001b[39m\u001b[38;5;124m\"\u001b[39m\u001b[38;5;132;01m%s\u001b[39;00m\u001b[38;5;124m\"\u001b[39m\u001b[38;5;124m'\u001b[39m \u001b[38;5;241m%\u001b[39m item \u001b[38;5;28;01mfor\u001b[39;00m item \u001b[38;5;129;01min\u001b[39;00m tags\u001b[38;5;241m.\u001b[39mitems()]\n\u001b[1;32m      4\u001b[0m tag_str\u001b[38;5;241m=\u001b[39m\u001b[38;5;124m'\u001b[39m\u001b[38;5;124m'\u001b[39m\u001b[38;5;241m.\u001b[39mjoin(keyval)\n\u001b[1;32m      5\u001b[0m element \u001b[38;5;241m=\u001b[39m \u001b[38;5;124m'\u001b[39m\u001b[38;5;124m<\u001b[39m\u001b[38;5;132;01m{name}\u001b[39;00m\u001b[38;5;132;01m{tags}\u001b[39;00m\u001b[38;5;124m>\u001b[39m\u001b[38;5;132;01m{value}\u001b[39;00m\u001b[38;5;124m</\u001b[39m\u001b[38;5;132;01m{name}\u001b[39;00m\u001b[38;5;124m>\u001b[39m\u001b[38;5;124m'\u001b[39m\u001b[38;5;241m.\u001b[39mformat(\n\u001b[1;32m      6\u001b[0m name\u001b[38;5;241m=\u001b[39mname,\n\u001b[0;32m----> 7\u001b[0m tags\u001b[38;5;241m=\u001b[39m\u001b[43mtags_str\u001b[49m,\n\u001b[1;32m      8\u001b[0m value\u001b[38;5;241m=\u001b[39mhtml\u001b[38;5;241m.\u001b[39mescape(value))\n\u001b[1;32m      9\u001b[0m \u001b[38;5;28;01mreturn\u001b[39;00m element\n",
      "\u001b[0;31mNameError\u001b[0m: name 'tags_str' is not defined"
     ]
    }
   ],
   "source": [
    "import html\n",
    "def html_tag_writer(name,value,**tags):\n",
    "    keyval = ['%s=\"\"%s\"' % item for item in tags.items()]\n",
    "    tag_str=''.join(keyval)\n",
    "    element = '<{name}{tags}>{value}</{name}>'.format(\n",
    "    name=name,\n",
    "    tags=tags_str,\n",
    "    value=html.escape(value))\n",
    "    return element\n",
    "p = html_tag_writer('l','open')\n",
    "p"
   ]
  },
  {
   "cell_type": "markdown",
   "id": "4b26cfea",
   "metadata": {},
   "source": [
    "# Writing Functions That Only Accept Keyword Arguments\n",
    "This feature is easy to implement if you place the keyword arguments after a * argument\n",
    "or a single unnamed *. \n"
   ]
  },
  {
   "cell_type": "code",
   "execution_count": 7,
   "id": "c757c5d0",
   "metadata": {},
   "outputs": [],
   "source": [
    "def recv(maxsize, *, block):\n",
    "    pass\n",
    "\n",
    "#recv(1024, True)\n",
    "# TypeError\n",
    "recv(1024, block=True)"
   ]
  },
  {
   "cell_type": "code",
   "execution_count": 9,
   "id": "46e43266",
   "metadata": {},
   "outputs": [
    {
     "name": "stdout",
     "output_type": "stream",
     "text": [
      "42\n"
     ]
    }
   ],
   "source": [
    "def accept(name,*,age):\n",
    "    return str(name + age)\n",
    "p= accept(20,age=22)\n",
    "print(p)"
   ]
  },
  {
   "cell_type": "code",
   "execution_count": 13,
   "id": "a073b503",
   "metadata": {},
   "outputs": [
    {
     "ename": "IndentationError",
     "evalue": "unexpected indent (2636531662.py, line 3)",
     "output_type": "error",
     "traceback": [
      "\u001b[0;36m  Cell \u001b[0;32mIn[13], line 3\u001b[0;36m\u001b[0m\n\u001b[0;31m    return res\u001b[0m\n\u001b[0m    ^\u001b[0m\n\u001b[0;31mIndentationError\u001b[0m\u001b[0;31m:\u001b[0m unexpected indent\n"
     ]
    }
   ],
   "source": [
    "def keyboard(strr,*,price):\n",
    "     res = str(strr+\" \"+price)\n",
    "        return res\n",
    "p = keyboard(\"Nokia\",200)\n",
    "#above this technique used in only bool and number data type value"
   ]
  },
  {
   "cell_type": "markdown",
   "id": "4c7bc7f8",
   "metadata": {},
   "source": [
    "This technique can also be used to specify keyword arguments for functions that accept\n",
    "a varying number of positional arguments. For example:"
   ]
  },
  {
   "cell_type": "code",
   "execution_count": 28,
   "id": "515964ba",
   "metadata": {},
   "outputs": [
    {
     "name": "stdout",
     "output_type": "stream",
     "text": [
      "-2\n",
      "50\n",
      "77\n"
     ]
    }
   ],
   "source": [
    "def reqq(*values,dd=None):\n",
    "    mi = min(values)\n",
    "    mx=max(values)\n",
    "    s = sum(values)\n",
    "    print(mi)\n",
    "    print(mx)\n",
    "    print(s)\n",
    "reqq(10,-2,3,50,10,6)"
   ]
  },
  {
   "cell_type": "code",
   "execution_count": 32,
   "id": "57b0fcd5",
   "metadata": {},
   "outputs": [
    {
     "data": {
      "text/plain": [
       "0"
      ]
     },
     "execution_count": 32,
     "metadata": {},
     "output_type": "execute_result"
    }
   ],
   "source": [
    "def minn(*values, clip=None):\n",
    "    m = min(values)\n",
    "    if clip is not None:\n",
    "        m = clip if clip > m else m\n",
    "    return m\n",
    "\n",
    "minn(1, 5, 2, -5, 10)\n",
    "# Returns -5\n",
    "minn(1, 5, 2, -5, 10, clip=0) # Returns 0"
   ]
  },
  {
   "cell_type": "code",
   "execution_count": null,
   "id": "7c49f1d7",
   "metadata": {},
   "outputs": [],
   "source": [
    "def "
   ]
  },
  {
   "cell_type": "markdown",
   "id": "2b6a43db",
   "metadata": {},
   "source": [
    "# Returning Multiple Values from a Function"
   ]
  },
  {
   "cell_type": "code",
   "execution_count": 51,
   "id": "06184dcf",
   "metadata": {},
   "outputs": [
    {
     "data": {
      "text/plain": [
       "(1, 2, 3, 4)"
      ]
     },
     "execution_count": 51,
     "metadata": {},
     "output_type": "execute_result"
    }
   ],
   "source": [
    "def myfun():\n",
    "    return 1, 2, 3, 4\n",
    "\n",
    "a,b = myfun(),myfun()\n",
    "a\n",
    "b"
   ]
  },
  {
   "cell_type": "code",
   "execution_count": null,
   "id": "fd09da6c",
   "metadata": {},
   "outputs": [],
   "source": []
  },
  {
   "cell_type": "code",
   "execution_count": 45,
   "id": "f4b77ab0",
   "metadata": {},
   "outputs": [
    {
     "name": "stdout",
     "output_type": "stream",
     "text": [
      "(1, 2, 3)\n"
     ]
    },
    {
     "data": {
      "text/plain": [
       "tuple"
      ]
     },
     "execution_count": 45,
     "metadata": {},
     "output_type": "execute_result"
    }
   ],
   "source": [
    "x = 1,2\n",
    "x\n",
    "type(x)\n",
    "xx = (1,2,3)\n",
    "print(xx)\n",
    "type(x)"
   ]
  },
  {
   "cell_type": "code",
   "execution_count": 46,
   "id": "9d5db584",
   "metadata": {},
   "outputs": [
    {
     "ename": "NameError",
     "evalue": "name 'func' is not defined",
     "output_type": "error",
     "traceback": [
      "\u001b[0;31m---------------------------------------------------------------------------\u001b[0m",
      "\u001b[0;31mNameError\u001b[0m                                 Traceback (most recent call last)",
      "Cell \u001b[0;32mIn[46], line 1\u001b[0m\n\u001b[0;32m----> 1\u001b[0m x \u001b[38;5;241m=\u001b[39m \u001b[43mfunc\u001b[49m()\n\u001b[1;32m      2\u001b[0m func()\n",
      "\u001b[0;31mNameError\u001b[0m: name 'func' is not defined"
     ]
    }
   ],
   "source": []
  },
  {
   "cell_type": "markdown",
   "id": "f9cc048e",
   "metadata": {},
   "source": [
    "# Defining Functions with Default Arguments"
   ]
  },
  {
   "cell_type": "code",
   "execution_count": 53,
   "id": "d0c32d9f",
   "metadata": {},
   "outputs": [
    {
     "name": "stdout",
     "output_type": "stream",
     "text": [
      "1 42\n",
      "10 20\n"
     ]
    }
   ],
   "source": [
    "def add(a,b=42):\n",
    "    print(a,b)\n",
    "add(1)\n",
    "add(10,20)"
   ]
  },
  {
   "cell_type": "code",
   "execution_count": 57,
   "id": "35253b69",
   "metadata": {},
   "outputs": [
    {
     "name": "stdout",
     "output_type": "stream",
     "text": [
      "error\n",
      "1 None\n",
      "10 2\n"
     ]
    }
   ],
   "source": [
    "def msg(one,two=None):\n",
    "    if two is None:\n",
    "        print('error') \n",
    "    print(one,two)\n",
    "msg(1)\n",
    "msg(10,2)"
   ]
  },
  {
   "cell_type": "code",
   "execution_count": null,
   "id": "8a9d7144",
   "metadata": {},
   "outputs": [],
   "source": [
    "_no_value = object()\n",
    "def spam(a, b=_no_value):\n",
    "if b is _no_value:\n",
    "print('No b value supplied')"
   ]
  },
  {
   "cell_type": "code",
   "execution_count": 5,
   "id": "20face8c",
   "metadata": {},
   "outputs": [
    {
     "name": "stdout",
     "output_type": "stream",
     "text": [
      "No b value supplied\n",
      "1 <object object at 0x7f681248c6d0>\n",
      "1 2\n",
      "100 None\n"
     ]
    }
   ],
   "source": [
    "no_value = object()\n",
    "def spam(a,b=no_value):\n",
    "    if b is no_value:\n",
    "        print('No b value supplied')\n",
    "    print(a,b)\n",
    "spam(1)\n",
    "spam(1,2)\n",
    "spam(100,None)"
   ]
  },
  {
   "cell_type": "markdown",
   "id": "35a605a6",
   "metadata": {},
   "source": [
    "The values assigned as a default are bound only once at the time of function defi‐\n",
    "nition."
   ]
  },
  {
   "cell_type": "code",
   "execution_count": 9,
   "id": "819a357b",
   "metadata": {},
   "outputs": [
    {
     "name": "stdout",
     "output_type": "stream",
     "text": [
      "1 42\n",
      "12 50\n"
     ]
    }
   ],
   "source": [
    "f = 42\n",
    "def kinn(a,b=f):\n",
    "    print(a,b)\n",
    "kinn(1)    \n",
    "kinn(12,50)\n"
   ]
  },
  {
   "cell_type": "markdown",
   "id": "972fbeab",
   "metadata": {},
   "source": [
    "Simple functions that do nothing more than evaluate an expression can be replaced by\n",
    "a lambda expression."
   ]
  },
  {
   "cell_type": "code",
   "execution_count": 10,
   "id": "68262874",
   "metadata": {},
   "outputs": [
    {
     "data": {
      "text/plain": [
       "120"
      ]
     },
     "execution_count": 10,
     "metadata": {},
     "output_type": "execute_result"
    }
   ],
   "source": [
    "add = lambda a,b:a+b\n",
    "add(100,20)\n"
   ]
  },
  {
   "cell_type": "code",
   "execution_count": 13,
   "id": "1ebf3c7c",
   "metadata": {},
   "outputs": [
    {
     "data": {
      "text/plain": [
       "20"
      ]
     },
     "execution_count": 13,
     "metadata": {},
     "output_type": "execute_result"
    }
   ],
   "source": [
    "multi = lambda x,y,z:(x+y)-z\n",
    "multi(10,20,10)"
   ]
  },
  {
   "cell_type": "code",
   "execution_count": 14,
   "id": "11d63a84",
   "metadata": {},
   "outputs": [
    {
     "data": {
      "text/plain": [
       "['Ned Batchelder', 'David Beazley', 'Raymond Hettinger', 'Brian Jones']"
      ]
     },
     "execution_count": 14,
     "metadata": {},
     "output_type": "execute_result"
    }
   ],
   "source": [
    "names = ['David Beazley', 'Brian Jones','Raymond Hettinger', 'Ned Batchelder']\n",
    "\n",
    "sorted(names, key=lambda name: name.split()[-1].lower())\n"
   ]
  },
  {
   "cell_type": "code",
   "execution_count": 17,
   "id": "ee8c3d64",
   "metadata": {},
   "outputs": [
    {
     "data": {
      "text/plain": [
       "['eight', 'five', 'nine', 'seven', 'six', 'ten']"
      ]
     },
     "execution_count": 17,
     "metadata": {},
     "output_type": "execute_result"
    }
   ],
   "source": [
    "line = ['ten','nine','eight','seven','six','five']\n",
    "sorted(line,key=lambda num: num.split()[-1].upper())"
   ]
  }
 ],
 "metadata": {
  "kernelspec": {
   "display_name": "Python 3 (ipykernel)",
   "language": "python",
   "name": "python3"
  },
  "language_info": {
   "codemirror_mode": {
    "name": "ipython",
    "version": 3
   },
   "file_extension": ".py",
   "mimetype": "text/x-python",
   "name": "python",
   "nbconvert_exporter": "python",
   "pygments_lexer": "ipython3",
   "version": "3.10.9"
  }
 },
 "nbformat": 4,
 "nbformat_minor": 5
}
