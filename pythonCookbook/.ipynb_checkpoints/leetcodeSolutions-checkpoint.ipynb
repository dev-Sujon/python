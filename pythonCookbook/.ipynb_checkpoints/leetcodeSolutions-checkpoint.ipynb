{
 "cells": [
  {
   "cell_type": "code",
   "execution_count": null,
   "id": "dc80a17a",
   "metadata": {},
   "outputs": [],
   "source": [
    "res=[]\n",
    "digits = [4,3,2,9]\n",
    "lst=digits[-1]+1\n",
    "res.append(lst)\n",
    "res"
   ]
  },
  {
   "cell_type": "code",
   "execution_count": null,
   "id": "388ba38b",
   "metadata": {},
   "outputs": [],
   "source": [
    "def plusOne(digits):\n",
    "       res = []\n",
    "       add_last_ele = digits[-1]+1\n",
    "       divided_nos = [int(digit) for digit in str(add_last_ele)]\n",
    "        res.append(divided_nos)        \n",
    "          \n",
    "       return res \n",
    "digits = [4,3,2,9]\n",
    "r = plusOne(digits)\n",
    "print(r)"
   ]
  },
  {
   "cell_type": "code",
   "execution_count": null,
   "id": "afa7f0c7",
   "metadata": {},
   "outputs": [],
   "source": [
    "di = [4,3,2,90]\n",
    "update.di[-1]+1\n",
    "di"
   ]
  },
  {
   "cell_type": "markdown",
   "id": "a1207f51",
   "metadata": {},
   "source": [
    "Symbol       Value\n",
    "I             1\n",
    "V             5\n",
    "X             10\n",
    "L             50\n",
    "C             100\n",
    "D             500\n",
    "M             1000"
   ]
  },
  {
   "cell_type": "code",
   "execution_count": null,
   "id": "913c1aab",
   "metadata": {},
   "outputs": [],
   "source": [
    "\n",
    "    def romanToInt(s):\n",
    "        m={\n",
    "            'I' : 1,\n",
    "            'II': 5,\n",
    "            'V' : 5,\n",
    "            'X' : 10\n",
    "            'L' : 50\n",
    "            'C' : 100\n",
    "            'D' : 500\n",
    "            'M' : 1000            \n",
    "        }\n",
    "        \n",
    "        print(m)\n",
    "        \n",
    "romanToInt()"
   ]
  },
  {
   "cell_type": "code",
   "execution_count": null,
   "id": "ab5b6608",
   "metadata": {},
   "outputs": [],
   "source": [
    "x, y, z, n = [int(input()) for _ in range(4)]\n",
    "coordinates = [[i, j, k] for i in range(x + 1) for j in range(y + 1) for k in range(z + 1)\n",
    "               if i + j + k != n]\n",
    "print(coordinates)\n"
   ]
  },
  {
   "cell_type": "code",
   "execution_count": 5,
   "id": "ed7452c4",
   "metadata": {},
   "outputs": [
    {
     "name": "stdout",
     "output_type": "stream",
     "text": [
      "s\n",
      "2.50\n",
      "n\n",
      "2.33\n"
     ]
    },
    {
     "ename": "AttributeError",
     "evalue": "'list' object has no attribute 'values'",
     "output_type": "error",
     "traceback": [
      "\u001b[0;31m---------------------------------------------------------------------------\u001b[0m",
      "\u001b[0;31mAttributeError\u001b[0m                            Traceback (most recent call last)",
      "Cell \u001b[0;32mIn[5], line 9\u001b[0m\n\u001b[1;32m      7\u001b[0m dict_data\u001b[38;5;241m=\u001b[39m\u001b[38;5;28mdict\u001b[39m(data)\n\u001b[1;32m      8\u001b[0m dict_data\n\u001b[0;32m----> 9\u001b[0m \u001b[38;5;28;01mfor\u001b[39;00m value \u001b[38;5;129;01min\u001b[39;00m \u001b[38;5;28;43msorted\u001b[39;49m\u001b[43m(\u001b[49m\u001b[43mdict_data\u001b[49m\u001b[43m)\u001b[49m\u001b[38;5;241;43m.\u001b[39;49m\u001b[43mvalues\u001b[49m():\n\u001b[1;32m     10\u001b[0m     \u001b[38;5;28mprint\u001b[39m(value)\n",
      "\u001b[0;31mAttributeError\u001b[0m: 'list' object has no attribute 'values'"
     ]
    }
   ],
   "source": [
    "if __name__ == '__main__':\n",
    "    data=[]\n",
    "    for _ in range(2):\n",
    "        name = input()\n",
    "        score = float(input())\n",
    "        data.append([name,score])\n",
    "dict_data=dict(data)\n",
    "dict_data\n",
    "for keys,value in sorted(dict_data.values()):\n",
    "    pass"
   ]
  },
  {
   "cell_type": "code",
   "execution_count": null,
   "id": "e3e35a4e",
   "metadata": {},
   "outputs": [],
   "source": []
  },
  {
   "cell_type": "code",
   "execution_count": null,
   "id": "57ec87c6",
   "metadata": {},
   "outputs": [],
   "source": []
  }
 ],
 "metadata": {
  "kernelspec": {
   "display_name": "Python 3 (ipykernel)",
   "language": "python",
   "name": "python3"
  },
  "language_info": {
   "codemirror_mode": {
    "name": "ipython",
    "version": 3
   },
   "file_extension": ".py",
   "mimetype": "text/x-python",
   "name": "python",
   "nbconvert_exporter": "python",
   "pygments_lexer": "ipython3",
   "version": "3.10.9"
  }
 },
 "nbformat": 4,
 "nbformat_minor": 5
}
