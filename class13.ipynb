{
 "cells": [
  {
   "cell_type": "code",
   "execution_count": 5,
   "id": "806e0c2e",
   "metadata": {},
   "outputs": [],
   "source": [
    "L = [(2,5),(1,2),(4,4),(2,3),(2,1)]\n",
    "l_index = []\n",
    "for x in L:\n",
    "    l_index.append(x[1])\n",
    "\n",
    "l_index.sort()    "
   ]
  },
  {
   "cell_type": "code",
   "execution_count": 6,
   "id": "73ca72ef",
   "metadata": {},
   "outputs": [
    {
     "data": {
      "text/plain": [
       "[1, 2, 3, 4, 5]"
      ]
     },
     "execution_count": 6,
     "metadata": {},
     "output_type": "execute_result"
    }
   ],
   "source": [
    "l_index"
   ]
  },
  {
   "cell_type": "code",
   "execution_count": 8,
   "id": "dbb76a58",
   "metadata": {},
   "outputs": [
    {
     "name": "stdout",
     "output_type": "stream",
     "text": [
      "1\n",
      "(2, 5)\n",
      "(1, 2)\n",
      "(4, 4)\n",
      "(2, 3)\n",
      "(2, 1)\n",
      "Yes\n",
      "2\n",
      "(2, 5)\n",
      "(1, 2)\n",
      "Yes\n",
      "(4, 4)\n",
      "(2, 3)\n",
      "(2, 1)\n",
      "3\n",
      "(2, 5)\n",
      "(1, 2)\n",
      "(4, 4)\n",
      "(2, 3)\n",
      "Yes\n",
      "(2, 1)\n",
      "4\n",
      "(2, 5)\n",
      "(1, 2)\n",
      "(4, 4)\n",
      "Yes\n",
      "(2, 3)\n",
      "(2, 1)\n",
      "5\n",
      "(2, 5)\n",
      "Yes\n",
      "(1, 2)\n",
      "(4, 4)\n",
      "(2, 3)\n",
      "(2, 1)\n"
     ]
    },
    {
     "data": {
      "text/plain": [
       "[(2, 1), (1, 2), (2, 3), (4, 4), (2, 5)]"
      ]
     },
     "execution_count": 8,
     "metadata": {},
     "output_type": "execute_result"
    }
   ],
   "source": [
    "new_list = []\n",
    "for element in l_index:\n",
    "    print(element)\n",
    "    for tuple1 in L:\n",
    "        print(tuple1)\n",
    "        if element==tuple1[1]:\n",
    "            print('Yes')\n",
    "            new_list.append(tuple1)\n",
    "            \n",
    "\n",
    "            \n",
    "new_list            "
   ]
  },
  {
   "cell_type": "code",
   "execution_count": 15,
   "id": "e071c3a0",
   "metadata": {},
   "outputs": [
    {
     "data": {
      "text/plain": [
       "[0, 1, 2, 3]"
      ]
     },
     "execution_count": 15,
     "metadata": {},
     "output_type": "execute_result"
    }
   ],
   "source": [
    "dict1 = {'one':1,'two':2,'three':3,'zero':0}\n",
    "v=list(dict1.values())\n",
    "v.sort()\n",
    "v"
   ]
  },
  {
   "cell_type": "code",
   "execution_count": 16,
   "id": "63c949c5",
   "metadata": {},
   "outputs": [
    {
     "name": "stdout",
     "output_type": "stream",
     "text": [
      "0\n",
      "1\n",
      "2\n",
      "3\n"
     ]
    }
   ],
   "source": [
    "dict2={}\n",
    "for ele in v:\n",
    "    print(ele)\n",
    "    for key in dict1:\n",
    "        if ele==dict1[key]:\n",
    "            dict2[key]=ele"
   ]
  },
  {
   "cell_type": "code",
   "execution_count": null,
   "id": "6251b0a3",
   "metadata": {},
   "outputs": [],
   "source": []
  }
 ],
 "metadata": {
  "kernelspec": {
   "display_name": "Python 3 (ipykernel)",
   "language": "python",
   "name": "python3"
  },
  "language_info": {
   "codemirror_mode": {
    "name": "ipython",
    "version": 3
   },
   "file_extension": ".py",
   "mimetype": "text/x-python",
   "name": "python",
   "nbconvert_exporter": "python",
   "pygments_lexer": "ipython3",
   "version": "3.10.9"
  }
 },
 "nbformat": 4,
 "nbformat_minor": 5
}
