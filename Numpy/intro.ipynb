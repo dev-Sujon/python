{
 "cells": [
  {
   "cell_type": "markdown",
   "id": "53452396",
   "metadata": {},
   "source": [
    "# Numpy as np"
   ]
  },
  {
   "cell_type": "markdown",
   "id": "acfbd1be",
   "metadata": {},
   "source": [
    "There are 6 general mechanisms for creating arrays:\n",
    "\n",
    "    1. Conversion from other Python structures (i.e. lists and tuples)\n",
    "    2. Intrinsic NumPy array creation functions (e.g. arange, ones, zeros, etc.)\n",
    "    3. Replicating, joining, or mutating existing arrays\n",
    "    4. Reading arrays from disk, either from standard or custom formats\n",
    "    5. Creating arrays from raw bytes through the use of strings or buffers\n",
    "    6. Use of special library functions (e.g., random)\n",
    "    "
   ]
  },
  {
   "cell_type": "code",
   "execution_count": 2,
   "id": "661176c3",
   "metadata": {},
   "outputs": [
    {
     "name": "stdout",
     "output_type": "stream",
     "text": [
      "x :\n",
      " [[20 15 10]\n",
      " [10 20 30]]\n"
     ]
    }
   ],
   "source": [
    "#NumPy Creating Arrays\n",
    "import numpy as np\n",
    "arr=[[20,15,10],[10,20,30]]\n",
    "x=np.array(arr)\n",
    "print(\"x :\\n\",x)"
   ]
  },
  {
   "cell_type": "code",
   "execution_count": 18,
   "id": "5fbf8342",
   "metadata": {},
   "outputs": [
    {
     "name": "stdout",
     "output_type": "stream",
     "text": [
      "x :\n",
      "[[50 30 12]\n",
      " [45 33 20]\n",
      " [10 15  9]]\n",
      "\n",
      "20 + 20 : 40\n"
     ]
    }
   ],
   "source": [
    "#user input and create a matrix\n",
    "import numpy as np\n",
    "def create_matrix(mat):\n",
    "    x=np.array(mat)\n",
    "    return x\n",
    "def main():\n",
    "    matrix=[[50,30,12],[45,33,20],[10,15,9]]\n",
    "    ans=create_matrix(matrix)\n",
    "    print(\"x :\")\n",
    "    print(ans,end=\"\\n\\n\")\n",
    "    print(f\"{ans[1][2]} + {ans[1][2]} : {ans[1][2]+ans[1][2]}\")\n",
    "if __name__:='__main__':\n",
    "        main()\n"
   ]
  },
  {
   "cell_type": "code",
   "execution_count": 7,
   "id": "022eca0f",
   "metadata": {},
   "outputs": [
    {
     "name": "stdout",
     "output_type": "stream",
     "text": [
      "[10  5 15 20 11]\n",
      "<class 'numpy.ndarray'>\n",
      "{1, 2, 3, 4, 5}\n",
      "<class 'numpy.ndarray'>\n"
     ]
    }
   ],
   "source": [
    "import numpy as np\n",
    "a = np.array([10,5,15,20,11])\n",
    "print(a)\n",
    "print(type(a))\n",
    "arr = np.array({1, 2, 3, 4, 5})\n",
    "print(arr)\n",
    "print(type(arr))"
   ]
  },
  {
   "cell_type": "code",
   "execution_count": 18,
   "id": "3f75983c",
   "metadata": {},
   "outputs": [
    {
     "name": "stdout",
     "output_type": "stream",
     "text": [
      "[[10 20 30]\n",
      " [10 30 20]]\n"
     ]
    }
   ],
   "source": [
    "import numpy as np\n",
    "matrix=np.array([[10,20,30,],[10,30,20]])\n",
    "print(matrix)\n"
   ]
  },
  {
   "cell_type": "code",
   "execution_count": 27,
   "id": "24edcbe5",
   "metadata": {},
   "outputs": [
    {
     "name": "stdout",
     "output_type": "stream",
     "text": [
      "[[10 20 30]\n",
      " [10 30 20]]\n",
      "20.0\n"
     ]
    }
   ],
   "source": [
    "import numpy as np\n",
    "matrix=n.array([[10,20,30,],[10,30,20]])\n",
    "print(matrix)\n",
    "avg=matrix.mean()\n",
    "print(avg)"
   ]
  },
  {
   "cell_type": "code",
   "execution_count": 23,
   "id": "2defd471",
   "metadata": {},
   "outputs": [
    {
     "name": "stdout",
     "output_type": "stream",
     "text": [
      "[[ 10  20  30]\n",
      " [ 15  25  12]\n",
      " [100  25  60]]\n"
     ]
    }
   ],
   "source": [
    "import numpy as np\n",
    "digit=np.array(\n",
    "    [\n",
    "    [10,20,30],\n",
    "    [15,25,12],\n",
    "    [100,25,60]\n",
    "    ]\n",
    ")\n",
    "print(digit)"
   ]
  },
  {
   "cell_type": "code",
   "execution_count": 26,
   "id": "56e87e17",
   "metadata": {},
   "outputs": [
    {
     "data": {
      "text/plain": [
       "array([ 91.25,  54.25,  83.25, 100.  ,  70.25, 100.  ,  93.25,  31.25])"
      ]
     },
     "execution_count": 26,
     "metadata": {},
     "output_type": "execute_result"
    }
   ],
   "source": [
    "import numpy as np\n",
    "CURVE_CENTER = 80\n",
    "grades = np.array([72, 35, 64, 88, 51, 90, 74, 12])\n",
    "def curve(grades):\n",
    "        average = grades.mean()\n",
    "        change = CURVE_CENTER - average\n",
    "        new_grades = grades + change\n",
    "        return np.clip(new_grades, grades, 100)\n",
    "curve(grades)"
   ]
  },
  {
   "cell_type": "markdown",
   "id": "28d02bce",
   "metadata": {},
   "source": [
    "NumPy arrays can be defined using Python sequences such as lists and tuples. Lists and tuples are defined using [...] and (...), respectively. Lists and tuples can define ndarray creation:\n",
    "\n",
    "    --> a list of numbers will create a 1D array,\n",
    "    --> a list of lists will create a 2D array,\n",
    "    --> further nested lists will create higher-dimensional arrays. In general, any array\n",
    "        object is called an ndarray in NumPy.\n",
    "\n"
   ]
  },
  {
   "cell_type": "code",
   "execution_count": 32,
   "id": "82632386",
   "metadata": {},
   "outputs": [
    {
     "name": "stdout",
     "output_type": "stream",
     "text": [
      "1D array :\n",
      " [10 25 -1] \n",
      "\n",
      "2D array :\n",
      " [[25  7  9 10]\n",
      " [25  0  0  2]] \n",
      "\n",
      "3D array :\n",
      " [[ 5  2  3]\n",
      " [10 15 12]\n",
      " [25 85  2]] \n",
      "\n"
     ]
    }
   ],
   "source": [
    "import numpy as np\n",
    "a1D=np.array([10,25,-1])\n",
    "a2D=np.array([[25,7,9,10],[25,0,0,2]])\n",
    "a3D=np.array([[5,2,3],[10,15,12],[25,85,2]])\n",
    "print(\"1D array :\\n\",a1D,\"\\n\")\n",
    "print(\"2D array :\\n\",a2D,\"\\n\")\n",
    "print(\"3D array :\\n\",a3D,\"\\n\")"
   ]
  },
  {
   "cell_type": "code",
   "execution_count": 3,
   "id": "e542fcc8",
   "metadata": {},
   "outputs": [
    {
     "data": {
      "text/plain": [
       "array([0., 0., 0., 0., 0.])"
      ]
     },
     "execution_count": 3,
     "metadata": {},
     "output_type": "execute_result"
    }
   ],
   "source": [
    "import numpy as np\n",
    "np.zeros(5)"
   ]
  },
  {
   "cell_type": "code",
   "execution_count": 6,
   "id": "ea115b03",
   "metadata": {},
   "outputs": [
    {
     "data": {
      "text/plain": [
       "array([1., 1.])"
      ]
     },
     "execution_count": 6,
     "metadata": {},
     "output_type": "execute_result"
    }
   ],
   "source": [
    "np.ones(2)"
   ]
  },
  {
   "cell_type": "code",
   "execution_count": 19,
   "id": "0cc66f19",
   "metadata": {},
   "outputs": [
    {
     "data": {
      "text/plain": [
       "array([1.27847114e-316, 0.00000000e+000, 1.58101007e-322])"
      ]
     },
     "execution_count": 19,
     "metadata": {},
     "output_type": "execute_result"
    }
   ],
   "source": [
    "np.empty(3)"
   ]
  },
  {
   "cell_type": "code",
   "execution_count": 20,
   "id": "1168c459",
   "metadata": {},
   "outputs": [
    {
     "data": {
      "text/plain": [
       "array([0, 1, 2, 3, 4])"
      ]
     },
     "execution_count": 20,
     "metadata": {},
     "output_type": "execute_result"
    }
   ],
   "source": [
    "#create array with a range of element\\\n",
    "np.arange(5)"
   ]
  },
  {
   "cell_type": "code",
   "execution_count": 40,
   "id": "3fac6401",
   "metadata": {},
   "outputs": [
    {
     "name": "stdout",
     "output_type": "stream",
     "text": [
      "[1 4 7]\n"
     ]
    },
    {
     "data": {
      "text/plain": [
       "array([10, 15, 20, 25, 30, 35, 40, 45, 50])"
      ]
     },
     "execution_count": 40,
     "metadata": {},
     "output_type": "execute_result"
    }
   ],
   "source": [
    "#an array that contains a range of evenly spaced intervals. To do this,\n",
    "#you will specify the first number, last number, and the step size.\n",
    "print(np.arange(1,10,3))\n",
    "np.arange(10,55,5)"
   ]
  },
  {
   "cell_type": "code",
   "execution_count": 47,
   "id": "8d4bc68a",
   "metadata": {},
   "outputs": [
    {
     "data": {
      "text/plain": [
       "array([  1,  25,  50,  75, 100])"
      ]
     },
     "execution_count": 47,
     "metadata": {},
     "output_type": "execute_result"
    }
   ],
   "source": [
    "np.linspace(1,100,num=5)"
   ]
  },
  {
   "cell_type": "code",
   "execution_count": 49,
   "id": "813e1959",
   "metadata": {},
   "outputs": [
    {
     "data": {
      "text/plain": [
       "array([ 1, 13, 25, 37, 50])"
      ]
     },
     "execution_count": 49,
     "metadata": {},
     "output_type": "execute_result"
    }
   ],
   "source": [
    "np.linspace(1,50,num=5,dtype=np.int64)"
   ]
  },
  {
   "cell_type": "code",
   "execution_count": 44,
   "id": "dbc3b06e",
   "metadata": {},
   "outputs": [
    {
     "data": {
      "text/plain": [
       "array([1, 1])"
      ]
     },
     "execution_count": 44,
     "metadata": {},
     "output_type": "execute_result"
    }
   ],
   "source": [
    "cc=np.ones(2,dtype=np.int64)\n",
    "cc"
   ]
  },
  {
   "cell_type": "code",
   "execution_count": 54,
   "id": "8be81e01",
   "metadata": {},
   "outputs": [
    {
     "name": "stdout",
     "output_type": "stream",
     "text": [
      "[2 1 5 3 7 4 6 8]\n",
      "[1 2 3 4 5 6 7 8]\n"
     ]
    }
   ],
   "source": []
  },
  {
   "cell_type": "code",
   "execution_count": 57,
   "id": "d7acdf62",
   "metadata": {},
   "outputs": [
    {
     "name": "stdout",
     "output_type": "stream",
     "text": [
      "Array a : [1 2 3 4]\n",
      "Array b : [5 6 7 8]\n",
      "Concatenate a&b : [1 2 3 4 5 6 7 8]\n"
     ]
    }
   ],
   "source": [
    "a=np.array([1,2,3,4])\n",
    "b=np.array([5,6,7,8])\n",
    "# concatenate a and b width np.concatenate()\n",
    "print(\"Array a :\",a)\n",
    "print(\"Array b :\",b)\n",
    "concate=np.concatenate((a,b))\n",
    "print(\"Concatenate a&b :\",concate)"
   ]
  },
  {
   "cell_type": "code",
   "execution_count": 65,
   "id": "4c2749a8",
   "metadata": {},
   "outputs": [
    {
     "name": "stdout",
     "output_type": "stream",
     "text": [
      "[[1 2]\n",
      " [3 4]\n",
      " [5 6]]\n"
     ]
    }
   ],
   "source": [
    "x=np.array([[1,2],[3,4]])\n",
    "y=np.array([[5,6]])\n",
    "x_con_y=np.concatenate((x,y),axis=0)\n",
    "print(x_con_y)"
   ]
  },
  {
   "cell_type": "markdown",
   "id": "26621f90",
   "metadata": {},
   "source": [
    "# Sorting in numpy\n",
    "    \"sort\", which is a quick sort.\n",
    "    \"argsort\", which is an indirect sort along a specified axis,\n",
    "    \"lexsort\", which is an indirect stable sort on multiple keys,\n",
    "    \"searchsorted\", which will find elements in a sorted array, and\n",
    "    \"partition\", which is a partial sort.\n",
    "    "
   ]
  },
  {
   "cell_type": "code",
   "execution_count": 72,
   "id": "8511a9f4",
   "metadata": {},
   "outputs": [],
   "source": [
    "nx=np.array([10,20,30,40],dtype=np.int64)\n",
    "px=np.arange(1,30,2,dtype=np.int64)\n",
    "lx=np.linspace(1,50,num=5,dtype=np.int64)"
   ]
  },
  {
   "cell_type": "code",
   "execution_count": 77,
   "id": "43890263",
   "metadata": {},
   "outputs": [
    {
     "name": "stdout",
     "output_type": "stream",
     "text": [
      "[10 20 30 40]\n",
      "[ 1  3  5  7  9 11 13 15 17 19 21 23 25 27 29]\n",
      "[ 1 13 25 37 50]\n"
     ]
    }
   ],
   "source": [
    "print(nx)\n",
    "print(px)\n",
    "print(lx)"
   ]
  },
  {
   "cell_type": "markdown",
   "id": "c6e75bc4",
   "metadata": {},
   "source": [
    "# Concatenate values"
   ]
  },
  {
   "cell_type": "code",
   "execution_count": 82,
   "id": "3bfd0981",
   "metadata": {},
   "outputs": [
    {
     "name": "stdout",
     "output_type": "stream",
     "text": [
      "Concatenate of nx , px , lx is:\n",
      " [10 20 30 40  1  3  5  7  9 11 13 15 17 19 21 23 25 27 29  1 13 25 37 50]\n"
     ]
    }
   ],
   "source": [
    "concate_val=np.concatenate((nx,px,lx))\n",
    "print(\"Concatenate of nx , px , lx is:\\n\",concate_val)"
   ]
  },
  {
   "cell_type": "code",
   "execution_count": 84,
   "id": "264f5e0d",
   "metadata": {},
   "outputs": [
    {
     "name": "stdout",
     "output_type": "stream",
     "text": [
      "[10 20 30 40  1  3  5  7  9 11 13 15 17 19 21 23 25 27 29  1 13 25 37 50] \n",
      "Quick Sort :\n",
      " [ 1  1  3  5  7  9 10 11 13 13 15 17 19 20 21 23 25 25 27 29 30 37 40 50]\n"
     ]
    }
   ],
   "source": [
    "# now am going to sort the concatenate values using diff. kind of sorting technique\n",
    "#quick sort\n",
    "sort_quick = np.sort(concate_val)\n",
    "print(concate_val,\"\\nQuick Sort :\\n\",sort_quick)"
   ]
  },
  {
   "cell_type": "code",
   "execution_count": 86,
   "id": "472db50e",
   "metadata": {},
   "outputs": [
    {
     "name": "stdout",
     "output_type": "stream",
     "text": [
      "[19  4  5  6  7  8  0  9 20 10 11 12 13  1 14 15 16 21 17 18  2 22  3 23]\n"
     ]
    }
   ],
   "source": [
    "# numpy.argsort(a, axis=-1, kind=None, order=None)\n",
    "arg_sort = np.argsort(concate_val)\n",
    "print(arg_sort)"
   ]
  },
  {
   "cell_type": "code",
   "execution_count": 97,
   "id": "8ed3cc73",
   "metadata": {},
   "outputs": [
    {
     "name": "stdout",
     "output_type": "stream",
     "text": [
      "original 2D array :\n",
      " [[0 3]\n",
      " [2 2]]\n",
      "arg sort 2D array :\n",
      " [[0 1]\n",
      " [1 0]]\n",
      "take_along_axis :\n",
      " [[0 2]\n",
      " [2 3]]\n"
     ]
    }
   ],
   "source": [
    "# Two-dimensional array:\n",
    "x = np.array([[0, 3], [2, 2]])\n",
    "print(\"original 2D array :\\n\",x)\n",
    "ind=np.argsort(x,axis=0)\n",
    "print(\"arg sort 2D array :\\n\",ind)\n",
    "take_axis=np.take_along_axis(x, ind, axis=0)\n",
    "print(\"take_along_axis :\\n\",take_axis)"
   ]
  },
  {
   "cell_type": "code",
   "execution_count": 98,
   "id": "3ee23270",
   "metadata": {},
   "outputs": [
    {
     "data": {
      "text/plain": [
       "array([1.+0.j, 2.+0.j, 3.+0.j, 5.+0.j, 6.+0.j])"
      ]
     },
     "execution_count": 98,
     "metadata": {},
     "output_type": "execute_result"
    }
   ],
   "source": [
    "np.sort_complex([5, 3, 6, 2, 1])\n"
   ]
  },
  {
   "cell_type": "code",
   "execution_count": 99,
   "id": "62ecf0aa",
   "metadata": {},
   "outputs": [
    {
     "data": {
      "text/plain": [
       "array([1.+2.j, 2.-1.j, 3.-3.j, 3.-2.j, 3.+5.j])"
      ]
     },
     "execution_count": 99,
     "metadata": {},
     "output_type": "execute_result"
    }
   ],
   "source": [
    "np.sort_complex([1 + 2j, 2 - 1j, 3 - 2j, 3 - 3j, 3 + 5j])"
   ]
  },
  {
   "cell_type": "markdown",
   "id": "741cbf8c",
   "metadata": {},
   "source": [
    "# precept"
   ]
  },
  {
   "cell_type": "code",
   "execution_count": 6,
   "id": "4149588d",
   "metadata": {},
   "outputs": [
    {
     "name": "stdout",
     "output_type": "stream",
     "text": [
      "[20 30  5]\n",
      "\n",
      "[[20  8 10]\n",
      " [ 5 25 12]]\n",
      "\n",
      "[[ 50 -10   3]\n",
      " [ 25  15   6]\n",
      " [100  20  10]]\n"
     ]
    }
   ],
   "source": [
    "import numpy as np\n",
    "arr1D = np.array([20,30,5])\n",
    "arr2D = np.array([[20,8,10],[5,25,12]])\n",
    "arr3D = np.array([[50,-10,3],[25,15,6],[100,20,10]])\n",
    "print(arr1D)\n",
    "print()\n",
    "print(arr2D)\n",
    "print()\n",
    "print(arr3D)"
   ]
  },
  {
   "cell_type": "code",
   "execution_count": 10,
   "id": "ba50c783",
   "metadata": {},
   "outputs": [
    {
     "ename": "ValueError",
     "evalue": "all the input arrays must have same number of dimensions, but the array at index 0 has 1 dimension(s) and the array at index 1 has 2 dimension(s)",
     "output_type": "error",
     "traceback": [
      "\u001b[0;31m---------------------------------------------------------------------------\u001b[0m",
      "\u001b[0;31mValueError\u001b[0m                                Traceback (most recent call last)",
      "Cell \u001b[0;32mIn[10], line 2\u001b[0m\n\u001b[1;32m      1\u001b[0m \u001b[38;5;66;03m# Concatenate\u001b[39;00m\n\u001b[0;32m----> 2\u001b[0m con_arr \u001b[38;5;241m=\u001b[39m  \u001b[43mnp\u001b[49m\u001b[38;5;241;43m.\u001b[39;49m\u001b[43mconcatenate\u001b[49m\u001b[43m(\u001b[49m\u001b[43m(\u001b[49m\u001b[43marr1D\u001b[49m\u001b[43m,\u001b[49m\u001b[43marr2D\u001b[49m\u001b[43m,\u001b[49m\u001b[43marr3D\u001b[49m\u001b[43m)\u001b[49m\u001b[43m)\u001b[49m\n\u001b[1;32m      3\u001b[0m \u001b[38;5;28mprint\u001b[39m(con_arr)\n",
      "File \u001b[0;32m<__array_function__ internals>:180\u001b[0m, in \u001b[0;36mconcatenate\u001b[0;34m(*args, **kwargs)\u001b[0m\n",
      "\u001b[0;31mValueError\u001b[0m: all the input arrays must have same number of dimensions, but the array at index 0 has 1 dimension(s) and the array at index 1 has 2 dimension(s)"
     ]
    }
   ],
   "source": [
    "# Concatenate\n",
    "con_arr =  np.concatenate((arr1D,arr2D,arr3D))\n",
    "#it shows error cz dimention of 1D 2D 3D array are different\n",
    "#if we concate we must use the same dimention array\n",
    "print(con_arr)"
   ]
  },
  {
   "cell_type": "code",
   "execution_count": 14,
   "id": "4dc5f84c",
   "metadata": {},
   "outputs": [
    {
     "name": "stdout",
     "output_type": "stream",
     "text": [
      "1D array concatenate : [20 30  5 20 30  5]\n"
     ]
    }
   ],
   "source": [
    "con_1D = np.concatenate((arr1D,arr1D))\n",
    "print(\"1D array concatenate :\",con_1D)"
   ]
  },
  {
   "cell_type": "code",
   "execution_count": 19,
   "id": "98416f0a",
   "metadata": {},
   "outputs": [
    {
     "name": "stdout",
     "output_type": "stream",
     "text": [
      "2D array concatenate :\n",
      " [[20  8 10]\n",
      " [ 5 25 12]\n",
      " [20  8 10]\n",
      " [ 5 25 12]]\n",
      "3D array concatenate :\n",
      " [[ 50 -10   3]\n",
      " [ 25  15   6]\n",
      " [100  20  10]\n",
      " [ 50 -10   3]\n",
      " [ 25  15   6]\n",
      " [100  20  10]]\n"
     ]
    }
   ],
   "source": [
    "con_2D = np.concatenate((arr2D,arr2D))\n",
    "con_3D = np.concatenate((arr3D,arr3D))\n",
    "print(\"2D array concatenate :\\n\",con_2D)\n",
    "print(\"3D array concatenate :\\n\",con_3D)"
   ]
  },
  {
   "cell_type": "markdown",
   "id": "b614fc84",
   "metadata": {},
   "source": [
    "# Sorting"
   ]
  },
  {
   "cell_type": "code",
   "execution_count": 26,
   "id": "416b5204",
   "metadata": {},
   "outputs": [
    {
     "name": "stdout",
     "output_type": "stream",
     "text": [
      "array : [20 30  5 20 30  5]\n",
      "sorted array : [ 5  5 20 20 30 30]\n"
     ]
    }
   ],
   "source": [
    "print(\"array :\",con_1D)\n",
    "sort_1D = np.sort(con_1D)\n",
    "print(\"sorted array :\",sort_1D)"
   ]
  },
  {
   "cell_type": "code",
   "execution_count": 29,
   "id": "02eb6642",
   "metadata": {},
   "outputs": [
    {
     "name": "stdout",
     "output_type": "stream",
     "text": [
      "array :\n",
      " [[20  8 10]\n",
      " [ 5 25 12]\n",
      " [20  8 10]\n",
      " [ 5 25 12]]\n",
      "sorted array :\n",
      " [[ 8 10 20]\n",
      " [ 5 12 25]\n",
      " [ 8 10 20]\n",
      " [ 5 12 25]]\n"
     ]
    }
   ],
   "source": [
    "print(\"array :\\n\",con_2D)\n",
    "sort_2D = np.sort(con_2D)\n",
    "print(\"sorted array :\\n\",sort_2D)"
   ]
  },
  {
   "cell_type": "code",
   "execution_count": 32,
   "id": "4a165dc1",
   "metadata": {},
   "outputs": [
    {
     "name": "stdout",
     "output_type": "stream",
     "text": [
      "array :\n",
      " [[ 50 -10   3]\n",
      " [ 25  15   6]\n",
      " [100  20  10]\n",
      " [ 50 -10   3]\n",
      " [ 25  15   6]\n",
      " [100  20  10]]\n",
      "Sorted array :\n",
      " [[-10   3  50]\n",
      " [  6  15  25]\n",
      " [ 10  20 100]\n",
      " [-10   3  50]\n",
      " [  6  15  25]\n",
      " [ 10  20 100]]\n"
     ]
    }
   ],
   "source": [
    "print(\"array :\\n\",con_3D)\n",
    "sort_3D = np.sort(con_3D)\n",
    "print(\"Sorted array :\\n\",sort_3D)\n"
   ]
  },
  {
   "cell_type": "markdown",
   "id": "02cda639",
   "metadata": {},
   "source": [
    "# Generate basic array :\n",
    "np.array()\n",
    "np.zeros()\n",
    "np.ones()\n",
    "np.empty()\n",
    "np.arange()\n",
    "np.linspace()\n",
    "dtype()\n",
    "\n"
   ]
  },
  {
   "cell_type": "code",
   "execution_count": 34,
   "id": "7a3c8687",
   "metadata": {},
   "outputs": [
    {
     "data": {
      "text/plain": [
       "array([[10, 20, 30],\n",
       "       [50, 10, 15],\n",
       "       [25, 80, 60]])"
      ]
     },
     "execution_count": 34,
     "metadata": {},
     "output_type": "execute_result"
    }
   ],
   "source": [
    "a = np.array([(10,20,30),(50,10,15),[25,80,60]])\n",
    "a"
   ]
  },
  {
   "cell_type": "code",
   "execution_count": 41,
   "id": "e8555dbc",
   "metadata": {},
   "outputs": [
    {
     "data": {
      "text/plain": [
       "array([0., 0., 0., 0., 0.])"
      ]
     },
     "execution_count": 41,
     "metadata": {},
     "output_type": "execute_result"
    }
   ],
   "source": [
    "zero_arr=np.zeros(5)\n",
    "zero_arr"
   ]
  },
  {
   "cell_type": "code",
   "execution_count": 43,
   "id": "41a80b33",
   "metadata": {},
   "outputs": [
    {
     "data": {
      "text/plain": [
       "array([1., 1., 1.])"
      ]
     },
     "execution_count": 43,
     "metadata": {},
     "output_type": "execute_result"
    }
   ],
   "source": [
    "one_arr=np.ones(3)\n",
    "one_arr"
   ]
  },
  {
   "cell_type": "markdown",
   "id": "b360dd78",
   "metadata": {},
   "source": [
    "The function empty creates an array whose initial content is random and depends on the state of the memory. The reason to use empty over zeros (or something similar) is speed "
   ]
  },
  {
   "cell_type": "code",
   "execution_count": 56,
   "id": "bf58617e",
   "metadata": {},
   "outputs": [
    {
     "data": {
      "text/plain": [
       "array([2.77977765e-316, 0.00000000e+000, 0.00000000e+000, 0.00000000e+000,\n",
       "       0.00000000e+000, 0.00000000e+000, 0.00000000e+000, 0.00000000e+000,\n",
       "       0.00000000e+000, 0.00000000e+000])"
      ]
     },
     "execution_count": 56,
     "metadata": {},
     "output_type": "execute_result"
    }
   ],
   "source": [
    "np.empty(10)\n"
   ]
  },
  {
   "cell_type": "code",
   "execution_count": null,
   "id": "e07f4dfa",
   "metadata": {},
   "outputs": [],
   "source": [
    "# arange() function to create an array"
   ]
  },
  {
   "cell_type": "code",
   "execution_count": 59,
   "id": "3746d4e6",
   "metadata": {},
   "outputs": [
    {
     "data": {
      "text/plain": [
       "array([ 0,  1,  2,  3,  4,  5,  6,  7,  8,  9, 10])"
      ]
     },
     "execution_count": 59,
     "metadata": {},
     "output_type": "execute_result"
    }
   ],
   "source": [
    "np.arange(11)"
   ]
  },
  {
   "cell_type": "code",
   "execution_count": 60,
   "id": "f941596e",
   "metadata": {},
   "outputs": [
    {
     "data": {
      "text/plain": [
       "array([ 11,  12,  13,  14,  15,  16,  17,  18,  19,  20,  21,  22,  23,\n",
       "        24,  25,  26,  27,  28,  29,  30,  31,  32,  33,  34,  35,  36,\n",
       "        37,  38,  39,  40,  41,  42,  43,  44,  45,  46,  47,  48,  49,\n",
       "        50,  51,  52,  53,  54,  55,  56,  57,  58,  59,  60,  61,  62,\n",
       "        63,  64,  65,  66,  67,  68,  69,  70,  71,  72,  73,  74,  75,\n",
       "        76,  77,  78,  79,  80,  81,  82,  83,  84,  85,  86,  87,  88,\n",
       "        89,  90,  91,  92,  93,  94,  95,  96,  97,  98,  99, 100, 101,\n",
       "       102, 103, 104, 105, 106, 107, 108, 109, 110])"
      ]
     },
     "execution_count": 60,
     "metadata": {},
     "output_type": "execute_result"
    }
   ],
   "source": [
    "np.arange(11,111)"
   ]
  },
  {
   "cell_type": "code",
   "execution_count": 61,
   "id": "bdd89806",
   "metadata": {},
   "outputs": [
    {
     "data": {
      "text/plain": [
       "array([ 11,  14,  17,  20,  23,  26,  29,  32,  35,  38,  41,  44,  47,\n",
       "        50,  53,  56,  59,  62,  65,  68,  71,  74,  77,  80,  83,  86,\n",
       "        89,  92,  95,  98, 101, 104, 107, 110])"
      ]
     },
     "execution_count": 61,
     "metadata": {},
     "output_type": "execute_result"
    }
   ],
   "source": [
    "np.arange(11,111,3)"
   ]
  },
  {
   "cell_type": "markdown",
   "id": "0db678de",
   "metadata": {},
   "source": [
    "use linspace to create an array"
   ]
  },
  {
   "cell_type": "code",
   "execution_count": 64,
   "id": "ad543858",
   "metadata": {},
   "outputs": [
    {
     "data": {
      "text/plain": [
       "array([ 11.,  21.,  31.,  41.,  51.,  61.,  71.,  81.,  91., 101., 111.])"
      ]
     },
     "execution_count": 64,
     "metadata": {},
     "output_type": "execute_result"
    }
   ],
   "source": [
    "np.linspace(11,111,num=11)"
   ]
  },
  {
   "cell_type": "markdown",
   "id": "fe02a6a7",
   "metadata": {},
   "source": [
    "# know the shape and size of an array?"
   ]
  },
  {
   "cell_type": "markdown",
   "id": "0c5e9223",
   "metadata": {},
   "source": [
    "    ndarray.ndim \n",
    "        #To find the number of dimensions of the array\n",
    "    ndarray.size\n",
    "        #To find the total number of elements in the array\n",
    "    ndarray.shape\n",
    "        #to find the shape of your array\n"
   ]
  },
  {
   "cell_type": "code",
   "execution_count": 69,
   "id": "eb2bb27a",
   "metadata": {},
   "outputs": [
    {
     "name": "stdout",
     "output_type": "stream",
     "text": [
      "[20 30  5]\n",
      "Dinension of the array :  1\n"
     ]
    }
   ],
   "source": [
    "print(arr1D)\n",
    "print(\"Dinension of the array : \",arr1D.ndim)"
   ]
  },
  {
   "cell_type": "code",
   "execution_count": 70,
   "id": "bc9477e5",
   "metadata": {},
   "outputs": [
    {
     "name": "stdout",
     "output_type": "stream",
     "text": [
      "[[20  8 10]\n",
      " [ 5 25 12]]\n",
      "Dinension of the array :  2\n"
     ]
    }
   ],
   "source": [
    "print(arr2D)\n",
    "print(\"Dinension of the array : \",arr2D.ndim)"
   ]
  },
  {
   "cell_type": "code",
   "execution_count": 71,
   "id": "3dfb0f07",
   "metadata": {},
   "outputs": [
    {
     "name": "stdout",
     "output_type": "stream",
     "text": [
      "[[ 50 -10   3]\n",
      " [ 25  15   6]\n",
      " [100  20  10]]\n",
      "Dinension of the array :  2\n"
     ]
    }
   ],
   "source": [
    "print(arr3D)\n",
    "print(\"Dinension of the array : \",arr3D.ndim)"
   ]
  },
  {
   "cell_type": "code",
   "execution_count": 72,
   "id": "680dc729",
   "metadata": {},
   "outputs": [
    {
     "name": "stdout",
     "output_type": "stream",
     "text": [
      "[20 30  5]\n",
      "Number of elements in the array :  3\n"
     ]
    }
   ],
   "source": [
    "print(arr1D)\n",
    "print(\"Number of elements in the array : \",arr1D.size)"
   ]
  },
  {
   "cell_type": "code",
   "execution_count": 73,
   "id": "f75174d7",
   "metadata": {},
   "outputs": [
    {
     "name": "stdout",
     "output_type": "stream",
     "text": [
      "[[20  8 10]\n",
      " [ 5 25 12]]\n",
      "Number of elements in the array :  6\n"
     ]
    }
   ],
   "source": [
    "print(arr2D)\n",
    "print(\"Number of elements in the array : \",arr2D.size)"
   ]
  },
  {
   "cell_type": "code",
   "execution_count": 74,
   "id": "cbcd21be",
   "metadata": {},
   "outputs": [
    {
     "name": "stdout",
     "output_type": "stream",
     "text": [
      "[[ 50 -10   3]\n",
      " [ 25  15   6]\n",
      " [100  20  10]]\n",
      "Number of elements in the array :  9\n"
     ]
    }
   ],
   "source": [
    "print(arr3D)\n",
    "print(\"Number of elements in the array : \",arr3D.size)"
   ]
  },
  {
   "cell_type": "code",
   "execution_count": 77,
   "id": "31104927",
   "metadata": {},
   "outputs": [
    {
     "name": "stdout",
     "output_type": "stream",
     "text": [
      "[20 30  5]\n",
      "Number of Shape in the array :  (3,)\n"
     ]
    }
   ],
   "source": [
    "print(arr1D)\n",
    "print(\"Number of Shape in the array : \",arr1D.shape)"
   ]
  },
  {
   "cell_type": "code",
   "execution_count": 76,
   "id": "54d5f645",
   "metadata": {},
   "outputs": [
    {
     "name": "stdout",
     "output_type": "stream",
     "text": [
      "[[20  8 10]\n",
      " [ 5 25 12]]\n",
      "Number of Shape in the array :  (2, 3)\n"
     ]
    }
   ],
   "source": [
    "print(arr2D)\n",
    "print(\"Number of Shape in the array : \",arr2D.shape)"
   ]
  },
  {
   "cell_type": "code",
   "execution_count": 75,
   "id": "87f56bf3",
   "metadata": {},
   "outputs": [
    {
     "name": "stdout",
     "output_type": "stream",
     "text": [
      "[[ 50 -10   3]\n",
      " [ 25  15   6]\n",
      " [100  20  10]]\n",
      "Number of Shape in the array :  (3, 3)\n"
     ]
    }
   ],
   "source": [
    "print(arr3D)\n",
    "print(\"Number of Shape in the array : \",arr3D.shape)"
   ]
  },
  {
   "cell_type": "code",
   "execution_count": 90,
   "id": "b981debc",
   "metadata": {},
   "outputs": [
    {
     "name": "stdout",
     "output_type": "stream",
     "text": [
      "(1, 3)\n"
     ]
    }
   ],
   "source": [
    "p=np.array([[10,2,3]])\n",
    "print(p.shape)"
   ]
  },
  {
   "cell_type": "code",
   "execution_count": 92,
   "id": "afbce231",
   "metadata": {},
   "outputs": [
    {
     "name": "stdout",
     "output_type": "stream",
     "text": [
      "[[ 10   2   3]\n",
      " [-10   2   5]]\n",
      "(2, 3)\n"
     ]
    }
   ],
   "source": [
    "p1=np.array([[10,2,3],[-10,2,5]])\n",
    "print(p1)\n",
    "print(p1.shape)"
   ]
  },
  {
   "cell_type": "code",
   "execution_count": 97,
   "id": "988bf9e3",
   "metadata": {},
   "outputs": [
    {
     "name": "stdout",
     "output_type": "stream",
     "text": [
      "[[100  20  10]\n",
      " [100  20   2]\n",
      " [ 50   6   4]]\n",
      "(3, 3)\n"
     ]
    }
   ],
   "source": [
    "p2=np.array([[100,20,10],[100,20,2],[50,6,4]])\n",
    "print(p2)\n",
    "print(p2.shape)"
   ]
  },
  {
   "cell_type": "code",
   "execution_count": 104,
   "id": "18bc80d4",
   "metadata": {},
   "outputs": [],
   "source": [
    "array_example = np.array([[[0, 1, 2, 3],\n",
    "                           [4, 5, 6, 7]],\n",
    "\n",
    "                          [[0, 1, 2, 3],\n",
    "                           [4, 5, 6, 7]],\n",
    "\n",
    "                          [[0 ,1 ,2, 3],\n",
    "                           [4, 5, 6, 7]]])"
   ]
  },
  {
   "cell_type": "code",
   "execution_count": 105,
   "id": "468843ca",
   "metadata": {},
   "outputs": [
    {
     "data": {
      "text/plain": [
       "array([[[0, 1, 2, 3],\n",
       "        [4, 5, 6, 7]],\n",
       "\n",
       "       [[0, 1, 2, 3],\n",
       "        [4, 5, 6, 7]],\n",
       "\n",
       "       [[0, 1, 2, 3],\n",
       "        [4, 5, 6, 7]]])"
      ]
     },
     "execution_count": 105,
     "metadata": {},
     "output_type": "execute_result"
    }
   ],
   "source": [
    "array_example"
   ]
  },
  {
   "cell_type": "code",
   "execution_count": 106,
   "id": "bee2e651",
   "metadata": {},
   "outputs": [
    {
     "data": {
      "text/plain": [
       "24"
      ]
     },
     "execution_count": 106,
     "metadata": {},
     "output_type": "execute_result"
    }
   ],
   "source": [
    "array_example.size"
   ]
  },
  {
   "cell_type": "code",
   "execution_count": 107,
   "id": "2f3162c8",
   "metadata": {},
   "outputs": [
    {
     "data": {
      "text/plain": [
       "3"
      ]
     },
     "execution_count": 107,
     "metadata": {},
     "output_type": "execute_result"
    }
   ],
   "source": [
    "array_example.ndim"
   ]
  },
  {
   "cell_type": "code",
   "execution_count": 108,
   "id": "ca284339",
   "metadata": {},
   "outputs": [
    {
     "data": {
      "text/plain": [
       "(3, 2, 4)"
      ]
     },
     "execution_count": 108,
     "metadata": {},
     "output_type": "execute_result"
    }
   ],
   "source": [
    "array_example.shape"
   ]
  },
  {
   "cell_type": "code",
   "execution_count": null,
   "id": "2485cb08",
   "metadata": {},
   "outputs": [],
   "source": []
  }
 ],
 "metadata": {
  "kernelspec": {
   "display_name": "Python 3 (ipykernel)",
   "language": "python",
   "name": "python3"
  },
  "language_info": {
   "codemirror_mode": {
    "name": "ipython",
    "version": 3
   },
   "file_extension": ".py",
   "mimetype": "text/x-python",
   "name": "python",
   "nbconvert_exporter": "python",
   "pygments_lexer": "ipython3",
   "version": "3.10.9"
  }
 },
 "nbformat": 4,
 "nbformat_minor": 5
}
