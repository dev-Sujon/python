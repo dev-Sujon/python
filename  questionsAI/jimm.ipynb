{
 "cells": [
  {
   "cell_type": "markdown",
   "id": "be1c2fba",
   "metadata": {},
   "source": [
    "Write a Python program to create a class representing a circle. The class should have attributes for the circle's radius, diameter, and circumference.\n",
    "Write a Python program to create a person class. The class should have attributes for the person's name, age, and address.\n",
    "Write a Python program to create a calculator class. The class should have methods for performing basic arithmetic operations, such as addition, subtraction, multiplication, and division.\n",
    "Write a Python program to create a class that represents a shape. The class should have a method for drawing the shape.\n",
    "Write a Python program to create a class that represents a game object. The class should have attributes for the object's position, velocity, and acceleration."
   ]
  },
  {
   "cell_type": "markdown",
   "id": "88605756",
   "metadata": {},
   "source": [
    "Write a Python program to create a class representing a circle. The class should have attributes for the circle's radius, diameter, and circumference."
   ]
  },
  {
   "cell_type": "code",
   "execution_count": 11,
   "id": "c792d262",
   "metadata": {},
   "outputs": [
    {
     "name": "stdout",
     "output_type": "stream",
     "text": [
      "Circle:Information\n",
      "Radius: 10\n",
      "Diameter: 12.5\n",
      "Circumference: 45\n"
     ]
    }
   ],
   "source": [
    "class Circle:\n",
    "  def __init__(self, radius, diameter, circumference):\n",
    "    self.speech = \"Circle:Information\"\n",
    "    self.radius = radius\n",
    "    self.diameter = diameter\n",
    "    self.circumference = circumference\n",
    "\n",
    "  def __repr__(self):\n",
    "    return f\"{self.speech}\\nRadius: {self.radius}\\nDiameter: {self.diameter}\\nCircumference: {self.circumference}\"\n",
    "\n",
    "cir1 = Circle(10, 12.5, 45)\n",
    "print(cir1)"
   ]
  },
  {
   "cell_type": "markdown",
   "id": "bf12458d",
   "metadata": {},
   "source": [
    "Write a Python program to create a person class. The class should have attributes for the person's name, age, and address."
   ]
  },
  {
   "cell_type": "code",
   "execution_count": 13,
   "id": "1cc2533d",
   "metadata": {},
   "outputs": [
    {
     "name": "stdout",
     "output_type": "stream",
     "text": [
      "Name:Nochiketa\n",
      "Age:59\n",
      "kolkata\n"
     ]
    }
   ],
   "source": [
    "class Person:\n",
    "    def __init__(self,name,age,address):\n",
    "        self.n=name\n",
    "        self.age=age\n",
    "        self.addr=address\n",
    "    def __str__(self):\n",
    "        return f\"Name:{self.n}\\nAge:{self.age}\\n{self.addr}\"\n",
    "p1=Person(\"Nochiketa\",59,\"kolkata\")\n",
    "print(p1)"
   ]
  },
  {
   "cell_type": "markdown",
   "id": "15768db0",
   "metadata": {},
   "source": [
    "Write a Python program to create a calculator class. The class should have methods for performing basic arithmetic operations, such as addition, subtraction, multiplication, and division."
   ]
  },
  {
   "cell_type": "code",
   "execution_count": 21,
   "id": "50cbbfdc",
   "metadata": {},
   "outputs": [
    {
     "name": "stdout",
     "output_type": "stream",
     "text": [
      "10\n",
      "10\n",
      "0\n",
      "Invalid math\n"
     ]
    }
   ],
   "source": [
    "class Calculator:\n",
    "    def __init__(self,a,b):\n",
    "        self.a=a\n",
    "        self.b=b\n",
    "    def add(self):\n",
    "        return self.a+self.b\n",
    "    def sub(self):\n",
    "        return self.a-self.b\n",
    "    def multiply(self):\n",
    "        return self.a*self.b\n",
    "    def divide(self):\n",
    "        if self.b==0:\n",
    "            return \"Invalid math\"\n",
    "        else:\n",
    "            return self.a/self.b       \n",
    "c1=Calculator(10,0) \n",
    "print(c1.add())\n",
    "print(c1.sub())\n",
    "print(c1.multiply())\n",
    "print(c1.divide())"
   ]
  },
  {
   "cell_type": "raw",
   "id": "b3047e98",
   "metadata": {},
   "source": [
    "Write a Python program to create a class that represents a shape. The class should have a method for drawing the shape."
   ]
  },
  {
   "cell_type": "code",
   "execution_count": 11,
   "id": "8be1d01e",
   "metadata": {},
   "outputs": [
    {
     "name": "stdout",
     "output_type": "stream",
     "text": [
      "SHAPE\n",
      " --> This is a Trinangle\n",
      " --> This is a circle\n"
     ]
    }
   ],
   "source": [
    "class Shape:\n",
    "    print(\"SHAPE\")\n",
    "class Triangle(Shape):\n",
    "    def drow(self):\n",
    "        print(\" --> This is a Trinangle\")\n",
    "class Circle(Shape):\n",
    "    def drow(self):\n",
    "        print(\" --> This is a circle\")\n",
    "Tri=Triangle()\n",
    "Circ=Circle()\n",
    "\n",
    "Tri.drow()\n",
    "Circ.drow()"
   ]
  },
  {
   "cell_type": "markdown",
   "id": "d228c658",
   "metadata": {},
   "source": [
    "Write a Python program to create a class that represents a game object. The class should have attributes for the object's position, velocity, and acceleration.\n"
   ]
  },
  {
   "cell_type": "code",
   "execution_count": 14,
   "id": "8424de60",
   "metadata": {},
   "outputs": [
    {
     "name": "stdout",
     "output_type": "stream",
     "text": [
      "105 210\n",
      "112 223\n",
      "121 239\n",
      "132 258\n",
      "145 280\n",
      "160 305\n",
      "177 333\n",
      "196 364\n",
      "217 398\n",
      "240 435\n"
     ]
    }
   ],
   "source": [
    "class GameObject:\n",
    "    def __init__(self, x, y, vx, vy, ax, ay):\n",
    "        self.x = x\n",
    "        self.y = y\n",
    "        self.vx = vx\n",
    "        self.vy = vy\n",
    "        self.ax = ax\n",
    "        self.ay = ay\n",
    "\n",
    "    def update(self, dt):\n",
    "        self.x += self.vx * dt\n",
    "        self.y += self.vy * dt\n",
    "        self.vx += self.ax * dt\n",
    "        self.vy += self.ay * dt\n",
    "\n",
    "\n",
    "def main():\n",
    "    obj = GameObject(100, 200, 5, 10, 2, 3)\n",
    "\n",
    "    for i in range(10):\n",
    "        obj.update(1)\n",
    "        print(obj.x, obj.y)\n",
    "\n",
    "if __name__ == \"__main__\":\n",
    "    main()\n"
   ]
  },
  {
   "cell_type": "markdown",
   "id": "7fbe62da",
   "metadata": {},
   "source": [
    "Write a Python program to implement inheritance. Create a parent class called Animal and a child class called Dog. The Dog class should inherit the attributes and methods of the Animal class."
   ]
  },
  {
   "cell_type": "code",
   "execution_count": 23,
   "id": "3bf57a29",
   "metadata": {},
   "outputs": [
    {
     "name": "stdout",
     "output_type": "stream",
     "text": [
      "name :  Spot\n",
      "breed :  Labrador Retriever\n",
      "species :  Canine\n",
      "I can bark\n",
      "sound : Wooooo\n"
     ]
    }
   ],
   "source": [
    "class Animal:\n",
    "    def __init__(self,name,species):\n",
    "        self.name=name\n",
    "        self.species=species\n",
    "        \n",
    "    def speak(self):\n",
    "        print(\"I am a animal\")\n",
    "        \n",
    "class Dog(Animal):\n",
    "    def __init__(self,name,species,breed):\n",
    "        super().__init__(name,species)\n",
    "        self.breed=breed\n",
    "    def bark(self):\n",
    "        print(\"I can bark\")\n",
    "        \n",
    "    def sound(self,s):\n",
    "        print(\"sound :\",s)\n",
    "        \n",
    "d = Dog(\"Spot\", \"Canine\", \"Labrador Retriever\")\n",
    "print(\"name : \",d.name)\n",
    "print(\"breed : \",d.breed)\n",
    "print(\"species : \",d.species)\n",
    "\n",
    "#call the methods\n",
    "d.bark()\n",
    "d.sound(\"Wooooo\")"
   ]
  },
  {
   "cell_type": "markdown",
   "id": "75d09318",
   "metadata": {},
   "source": [
    "Write a Python program to implement polymorphism. Create a base class called Shape and two derived classes called Circle and Square. The Circle and Square classes should have methods for drawing their respective shapes."
   ]
  },
  {
   "cell_type": "code",
   "execution_count": null,
   "id": "17d19e90",
   "metadata": {},
   "outputs": [
    {
     "name": "stdout",
     "output_type": "stream",
     "text": [
      "Drow:\n"
     ]
    }
   ],
   "source": [
    "class Shape:\n",
    "    def drow(self):\n",
    "        raise NotImplementShape(\"Subclasses must implement this method\")\n",
    "class Circle(Shape):\n",
    "    def __init__(self,rad):\n",
    "        self.rad=rad\n",
    "    def drow(self):\n",
    "        print(\"Circle is droing at radius :\",self.rad)\n",
    "class Square(Shape):\n",
    "    def __init__(self,side):\n",
    "        self.side=side\n",
    "    def drow(self):\n",
    "        print(\"Drowing a square at side :\",self.side)\n",
    "        \n",
    "def main():\n",
    "    print(\"Drow:\")\n",
    "    c=input(\" --> circle :\")\n",
    "    circle=Circle(c)\n",
    "    circle.drow()\n",
    "    s=input(\" --> square :\")\n",
    "    square=Square(s)\n",
    "   \n",
    "    square.drow()\n",
    "if __name__:=\"main\":\n",
    "        main()\n",
    "        "
   ]
  },
  {
   "cell_type": "markdown",
   "id": "ef54f0e8",
   "metadata": {},
   "source": [
    "Write a Python program to implement encapsulation. Create a class called BankAccount with attributes for the account number, balance, and interest rate. The attributes of the BankAccount class should be private."
   ]
  },
  {
   "cell_type": "code",
   "execution_count": 7,
   "id": "3313f292",
   "metadata": {},
   "outputs": [
    {
     "name": "stdout",
     "output_type": "stream",
     "text": [
      "Acc No :123456789\n",
      "Balance :1000\n",
      "Interest :0.05\n",
      "Balance :1100\n",
      "Balance :1050\n"
     ]
    }
   ],
   "source": [
    "class BankAccount:\n",
    "    #private field\n",
    "    __acc_number=None\n",
    "    __balance=None\n",
    "    __interest=None\n",
    "    \n",
    "    def __init__(self,acc_number,balance,interset):\n",
    "        self.__acc_number=acc_number\n",
    "        self.__balance=balance\n",
    "        self.__interest=interset\n",
    "    def get_account_number(self):\n",
    "        return f\"Acc No :{self.__acc_number}\"\n",
    "    def get_interest_rate(self):\n",
    "        return f\"Interest :{self.__interest}\"\n",
    "    def get_balance(self):\n",
    "        return f\"Balance :{self.__balance}\"\n",
    "    def deposit(self,amount):\n",
    "        self.__balance += amount\n",
    "    def withdraw(self,amount):\n",
    "        self.__balance -= amount\n",
    "\n",
    "account = BankAccount(\"123456789\", 1000, 0.05)\n",
    "\n",
    "print(account.get_account_number())\n",
    "print(account.get_balance())\n",
    "print(account.get_interest_rate())\n",
    "\n",
    "account.deposit(100)\n",
    "\n",
    "print(account.get_balance())\n",
    "\n",
    "account.withdraw(50)\n",
    "\n",
    "print(account.get_balance())        \n"
   ]
  },
  {
   "cell_type": "markdown",
   "id": "4452497b",
   "metadata": {},
   "source": [
    "1. Write a Python program to import a built-in array module and display the namespace of the said module."
   ]
  },
  {
   "cell_type": "code",
   "execution_count": 8,
   "id": "c9bba282",
   "metadata": {},
   "outputs": [
    {
     "name": "stdout",
     "output_type": "stream",
     "text": [
      "__name__\n",
      "__doc__\n",
      "__package__\n",
      "__loader__\n",
      "__spec__\n",
      "_array_reconstructor\n",
      "__file__\n",
      "ArrayType\n",
      "array\n",
      "typecodes\n"
     ]
    }
   ],
   "source": [
    "import array\n",
    "for a in array.__dict__:\n",
    "    print(a)"
   ]
  },
  {
   "cell_type": "markdown",
   "id": "e001225d",
   "metadata": {},
   "source": [
    "2. Write a Python program to create a class and display the namespace of that class."
   ]
  },
  {
   "cell_type": "code",
   "execution_count": 9,
   "id": "0e0d22fa",
   "metadata": {},
   "outputs": [
    {
     "name": "stdout",
     "output_type": "stream",
     "text": [
      "__module__\n",
      "sub_sets\n",
      "subsetsRecur\n",
      "__dict__\n",
      "__weakref__\n",
      "__doc__\n"
     ]
    }
   ],
   "source": [
    "class py_solution:\n",
    "    def sub_sets(self, sset):\n",
    "        return self.subsetsRecur([], sorted(sset))    \n",
    "    def subsetsRecur(self, current, sset):\n",
    "        if sset:\n",
    "            return self.subsetsRecur(current, sset[1:]) + self.subsetsRecur(current + [sset[0]], sset[1:])\n",
    "        return [current]\n",
    "for name in py_solution.__dict__:\n",
    "    print(name)\n"
   ]
  },
  {
   "cell_type": "code",
   "execution_count": null,
   "id": "a96f3556",
   "metadata": {},
   "outputs": [],
   "source": []
  },
  {
   "cell_type": "code",
   "execution_count": null,
   "id": "8701b5d9",
   "metadata": {},
   "outputs": [],
   "source": []
  },
  {
   "cell_type": "code",
   "execution_count": null,
   "id": "594730a9",
   "metadata": {},
   "outputs": [],
   "source": []
  },
  {
   "cell_type": "code",
   "execution_count": null,
   "id": "7f403c67",
   "metadata": {},
   "outputs": [],
   "source": []
  },
  {
   "cell_type": "code",
   "execution_count": null,
   "id": "8e7039d9",
   "metadata": {},
   "outputs": [],
   "source": []
  },
  {
   "cell_type": "code",
   "execution_count": null,
   "id": "8c1aaee7",
   "metadata": {},
   "outputs": [],
   "source": []
  },
  {
   "cell_type": "code",
   "execution_count": null,
   "id": "c7a1a3a5",
   "metadata": {},
   "outputs": [],
   "source": []
  },
  {
   "cell_type": "code",
   "execution_count": null,
   "id": "a3ae07f1",
   "metadata": {},
   "outputs": [],
   "source": []
  },
  {
   "cell_type": "code",
   "execution_count": null,
   "id": "4b356352",
   "metadata": {},
   "outputs": [],
   "source": []
  },
  {
   "cell_type": "code",
   "execution_count": null,
   "id": "e799086b",
   "metadata": {},
   "outputs": [],
   "source": []
  },
  {
   "cell_type": "code",
   "execution_count": null,
   "id": "19fbfee2",
   "metadata": {},
   "outputs": [],
   "source": []
  },
  {
   "cell_type": "code",
   "execution_count": null,
   "id": "f0f48ba7",
   "metadata": {},
   "outputs": [],
   "source": []
  },
  {
   "cell_type": "code",
   "execution_count": null,
   "id": "d3f716c4",
   "metadata": {},
   "outputs": [],
   "source": []
  },
  {
   "cell_type": "code",
   "execution_count": null,
   "id": "8b4665df",
   "metadata": {},
   "outputs": [],
   "source": []
  },
  {
   "cell_type": "code",
   "execution_count": null,
   "id": "6e2781a1",
   "metadata": {},
   "outputs": [],
   "source": []
  },
  {
   "cell_type": "code",
   "execution_count": null,
   "id": "aac63799",
   "metadata": {},
   "outputs": [],
   "source": []
  },
  {
   "cell_type": "code",
   "execution_count": null,
   "id": "4a364136",
   "metadata": {},
   "outputs": [],
   "source": []
  },
  {
   "cell_type": "code",
   "execution_count": null,
   "id": "2f778f6f",
   "metadata": {},
   "outputs": [],
   "source": []
  },
  {
   "cell_type": "code",
   "execution_count": null,
   "id": "8e802446",
   "metadata": {},
   "outputs": [],
   "source": []
  },
  {
   "cell_type": "code",
   "execution_count": null,
   "id": "e5f12a52",
   "metadata": {},
   "outputs": [],
   "source": []
  },
  {
   "cell_type": "code",
   "execution_count": null,
   "id": "d4a1dab1",
   "metadata": {},
   "outputs": [],
   "source": []
  },
  {
   "cell_type": "code",
   "execution_count": null,
   "id": "a8de2d85",
   "metadata": {},
   "outputs": [],
   "source": []
  },
  {
   "cell_type": "code",
   "execution_count": null,
   "id": "d4a9102f",
   "metadata": {},
   "outputs": [],
   "source": []
  },
  {
   "cell_type": "code",
   "execution_count": null,
   "id": "8626d198",
   "metadata": {},
   "outputs": [],
   "source": []
  },
  {
   "cell_type": "code",
   "execution_count": null,
   "id": "d45ebaed",
   "metadata": {},
   "outputs": [],
   "source": []
  },
  {
   "cell_type": "code",
   "execution_count": null,
   "id": "d4054be9",
   "metadata": {},
   "outputs": [],
   "source": []
  },
  {
   "cell_type": "code",
   "execution_count": null,
   "id": "1ed850ac",
   "metadata": {},
   "outputs": [],
   "source": []
  },
  {
   "cell_type": "code",
   "execution_count": null,
   "id": "d61d65c7",
   "metadata": {},
   "outputs": [],
   "source": []
  },
  {
   "cell_type": "code",
   "execution_count": null,
   "id": "b67a3491",
   "metadata": {},
   "outputs": [],
   "source": []
  },
  {
   "cell_type": "code",
   "execution_count": null,
   "id": "5ef7aa66",
   "metadata": {},
   "outputs": [],
   "source": []
  },
  {
   "cell_type": "code",
   "execution_count": null,
   "id": "77e563e2",
   "metadata": {},
   "outputs": [],
   "source": []
  },
  {
   "cell_type": "code",
   "execution_count": null,
   "id": "c3903c1c",
   "metadata": {},
   "outputs": [],
   "source": []
  },
  {
   "cell_type": "code",
   "execution_count": null,
   "id": "e0301f9e",
   "metadata": {},
   "outputs": [],
   "source": []
  },
  {
   "cell_type": "code",
   "execution_count": null,
   "id": "1c40b3e0",
   "metadata": {},
   "outputs": [],
   "source": []
  },
  {
   "cell_type": "code",
   "execution_count": null,
   "id": "31eb4393",
   "metadata": {},
   "outputs": [],
   "source": []
  },
  {
   "cell_type": "code",
   "execution_count": null,
   "id": "360dc16f",
   "metadata": {},
   "outputs": [],
   "source": []
  },
  {
   "cell_type": "code",
   "execution_count": null,
   "id": "6baaaa23",
   "metadata": {},
   "outputs": [],
   "source": []
  },
  {
   "cell_type": "code",
   "execution_count": null,
   "id": "f18b03bd",
   "metadata": {},
   "outputs": [],
   "source": []
  },
  {
   "cell_type": "code",
   "execution_count": null,
   "id": "c3694dcc",
   "metadata": {},
   "outputs": [],
   "source": []
  },
  {
   "cell_type": "code",
   "execution_count": null,
   "id": "6f236fe7",
   "metadata": {},
   "outputs": [],
   "source": []
  },
  {
   "cell_type": "code",
   "execution_count": null,
   "id": "f4ba714c",
   "metadata": {},
   "outputs": [],
   "source": []
  },
  {
   "cell_type": "code",
   "execution_count": null,
   "id": "2f097d13",
   "metadata": {},
   "outputs": [],
   "source": []
  },
  {
   "cell_type": "code",
   "execution_count": null,
   "id": "01e5c249",
   "metadata": {},
   "outputs": [],
   "source": []
  },
  {
   "cell_type": "code",
   "execution_count": null,
   "id": "da4f14e6",
   "metadata": {},
   "outputs": [],
   "source": []
  },
  {
   "cell_type": "code",
   "execution_count": null,
   "id": "3291e2b2",
   "metadata": {},
   "outputs": [],
   "source": []
  },
  {
   "cell_type": "code",
   "execution_count": null,
   "id": "b9e9004a",
   "metadata": {},
   "outputs": [],
   "source": []
  },
  {
   "cell_type": "code",
   "execution_count": null,
   "id": "0da79a63",
   "metadata": {},
   "outputs": [],
   "source": []
  },
  {
   "cell_type": "code",
   "execution_count": null,
   "id": "25be35a6",
   "metadata": {},
   "outputs": [],
   "source": []
  },
  {
   "cell_type": "code",
   "execution_count": null,
   "id": "a89f1483",
   "metadata": {},
   "outputs": [],
   "source": []
  },
  {
   "cell_type": "code",
   "execution_count": null,
   "id": "90a44a50",
   "metadata": {},
   "outputs": [],
   "source": []
  },
  {
   "cell_type": "code",
   "execution_count": null,
   "id": "3da888b5",
   "metadata": {},
   "outputs": [],
   "source": []
  },
  {
   "cell_type": "code",
   "execution_count": null,
   "id": "f347507f",
   "metadata": {},
   "outputs": [],
   "source": []
  },
  {
   "cell_type": "code",
   "execution_count": null,
   "id": "296f238f",
   "metadata": {},
   "outputs": [],
   "source": []
  },
  {
   "cell_type": "code",
   "execution_count": null,
   "id": "339e79ce",
   "metadata": {},
   "outputs": [],
   "source": []
  },
  {
   "cell_type": "code",
   "execution_count": null,
   "id": "4278d263",
   "metadata": {},
   "outputs": [],
   "source": []
  },
  {
   "cell_type": "code",
   "execution_count": null,
   "id": "96e27799",
   "metadata": {},
   "outputs": [],
   "source": []
  },
  {
   "cell_type": "code",
   "execution_count": null,
   "id": "13637dc7",
   "metadata": {},
   "outputs": [],
   "source": []
  },
  {
   "cell_type": "code",
   "execution_count": null,
   "id": "fd7c4870",
   "metadata": {},
   "outputs": [],
   "source": []
  },
  {
   "cell_type": "code",
   "execution_count": null,
   "id": "4f7aaa14",
   "metadata": {},
   "outputs": [],
   "source": []
  },
  {
   "cell_type": "code",
   "execution_count": null,
   "id": "ee8908d1",
   "metadata": {},
   "outputs": [],
   "source": []
  },
  {
   "cell_type": "code",
   "execution_count": null,
   "id": "f09914bc",
   "metadata": {},
   "outputs": [],
   "source": []
  },
  {
   "cell_type": "code",
   "execution_count": null,
   "id": "0106a4fe",
   "metadata": {},
   "outputs": [],
   "source": []
  },
  {
   "cell_type": "code",
   "execution_count": null,
   "id": "6b0834ca",
   "metadata": {},
   "outputs": [],
   "source": []
  },
  {
   "cell_type": "code",
   "execution_count": null,
   "id": "d7d4481f",
   "metadata": {},
   "outputs": [],
   "source": []
  },
  {
   "cell_type": "code",
   "execution_count": null,
   "id": "f81b8d67",
   "metadata": {},
   "outputs": [],
   "source": []
  },
  {
   "cell_type": "code",
   "execution_count": null,
   "id": "28f87188",
   "metadata": {},
   "outputs": [],
   "source": []
  },
  {
   "cell_type": "code",
   "execution_count": null,
   "id": "b25b877c",
   "metadata": {},
   "outputs": [],
   "source": []
  },
  {
   "cell_type": "code",
   "execution_count": null,
   "id": "c7810b79",
   "metadata": {},
   "outputs": [],
   "source": []
  },
  {
   "cell_type": "code",
   "execution_count": null,
   "id": "1c999f96",
   "metadata": {},
   "outputs": [],
   "source": []
  },
  {
   "cell_type": "code",
   "execution_count": null,
   "id": "87beb0dd",
   "metadata": {},
   "outputs": [],
   "source": []
  },
  {
   "cell_type": "code",
   "execution_count": null,
   "id": "d5df688e",
   "metadata": {},
   "outputs": [],
   "source": []
  },
  {
   "cell_type": "code",
   "execution_count": null,
   "id": "51bc3d6c",
   "metadata": {},
   "outputs": [],
   "source": []
  },
  {
   "cell_type": "code",
   "execution_count": null,
   "id": "53f3d9c5",
   "metadata": {},
   "outputs": [],
   "source": []
  },
  {
   "cell_type": "code",
   "execution_count": null,
   "id": "292ade2b",
   "metadata": {},
   "outputs": [],
   "source": []
  },
  {
   "cell_type": "code",
   "execution_count": null,
   "id": "14f8ccfd",
   "metadata": {},
   "outputs": [],
   "source": []
  },
  {
   "cell_type": "code",
   "execution_count": null,
   "id": "07b96b97",
   "metadata": {},
   "outputs": [],
   "source": []
  },
  {
   "cell_type": "code",
   "execution_count": null,
   "id": "d39c2ebf",
   "metadata": {},
   "outputs": [],
   "source": []
  },
  {
   "cell_type": "code",
   "execution_count": null,
   "id": "26d27d30",
   "metadata": {},
   "outputs": [],
   "source": []
  },
  {
   "cell_type": "code",
   "execution_count": null,
   "id": "7f83bf2f",
   "metadata": {},
   "outputs": [],
   "source": []
  },
  {
   "cell_type": "code",
   "execution_count": null,
   "id": "3e7f77d6",
   "metadata": {},
   "outputs": [],
   "source": []
  },
  {
   "cell_type": "code",
   "execution_count": null,
   "id": "10acb153",
   "metadata": {},
   "outputs": [],
   "source": []
  },
  {
   "cell_type": "code",
   "execution_count": null,
   "id": "1269a80c",
   "metadata": {},
   "outputs": [],
   "source": []
  },
  {
   "cell_type": "code",
   "execution_count": null,
   "id": "c4fbda05",
   "metadata": {},
   "outputs": [],
   "source": []
  },
  {
   "cell_type": "code",
   "execution_count": null,
   "id": "eea228d1",
   "metadata": {},
   "outputs": [],
   "source": []
  },
  {
   "cell_type": "code",
   "execution_count": null,
   "id": "3d96476d",
   "metadata": {},
   "outputs": [],
   "source": []
  },
  {
   "cell_type": "code",
   "execution_count": null,
   "id": "cd6e9175",
   "metadata": {},
   "outputs": [],
   "source": []
  },
  {
   "cell_type": "code",
   "execution_count": null,
   "id": "e6673980",
   "metadata": {},
   "outputs": [],
   "source": []
  },
  {
   "cell_type": "code",
   "execution_count": null,
   "id": "5ff6b877",
   "metadata": {},
   "outputs": [],
   "source": []
  },
  {
   "cell_type": "code",
   "execution_count": null,
   "id": "09316a80",
   "metadata": {},
   "outputs": [],
   "source": []
  },
  {
   "cell_type": "code",
   "execution_count": null,
   "id": "d616f69d",
   "metadata": {},
   "outputs": [],
   "source": []
  },
  {
   "cell_type": "code",
   "execution_count": null,
   "id": "8ff477c1",
   "metadata": {},
   "outputs": [],
   "source": []
  },
  {
   "cell_type": "code",
   "execution_count": null,
   "id": "7f3485e8",
   "metadata": {},
   "outputs": [],
   "source": []
  },
  {
   "cell_type": "code",
   "execution_count": null,
   "id": "a386a5dc",
   "metadata": {},
   "outputs": [],
   "source": []
  },
  {
   "cell_type": "code",
   "execution_count": null,
   "id": "4fe6b479",
   "metadata": {},
   "outputs": [],
   "source": []
  },
  {
   "cell_type": "code",
   "execution_count": null,
   "id": "63d97041",
   "metadata": {},
   "outputs": [],
   "source": []
  },
  {
   "cell_type": "code",
   "execution_count": null,
   "id": "a452454e",
   "metadata": {},
   "outputs": [],
   "source": []
  },
  {
   "cell_type": "code",
   "execution_count": null,
   "id": "0936f198",
   "metadata": {},
   "outputs": [],
   "source": []
  },
  {
   "cell_type": "code",
   "execution_count": null,
   "id": "9344f416",
   "metadata": {},
   "outputs": [],
   "source": []
  },
  {
   "cell_type": "code",
   "execution_count": null,
   "id": "95fd6ecf",
   "metadata": {},
   "outputs": [],
   "source": []
  },
  {
   "cell_type": "code",
   "execution_count": null,
   "id": "baf1a749",
   "metadata": {},
   "outputs": [],
   "source": []
  },
  {
   "cell_type": "code",
   "execution_count": null,
   "id": "5d0d53fe",
   "metadata": {},
   "outputs": [],
   "source": []
  },
  {
   "cell_type": "code",
   "execution_count": null,
   "id": "dee4a1fb",
   "metadata": {},
   "outputs": [],
   "source": []
  },
  {
   "cell_type": "code",
   "execution_count": null,
   "id": "a2a0da06",
   "metadata": {},
   "outputs": [],
   "source": []
  },
  {
   "cell_type": "code",
   "execution_count": null,
   "id": "f416653c",
   "metadata": {},
   "outputs": [],
   "source": []
  },
  {
   "cell_type": "code",
   "execution_count": null,
   "id": "4716320e",
   "metadata": {},
   "outputs": [],
   "source": []
  },
  {
   "cell_type": "code",
   "execution_count": null,
   "id": "df38fbfd",
   "metadata": {},
   "outputs": [],
   "source": []
  },
  {
   "cell_type": "code",
   "execution_count": null,
   "id": "9cb01266",
   "metadata": {},
   "outputs": [],
   "source": []
  },
  {
   "cell_type": "code",
   "execution_count": null,
   "id": "67f813a5",
   "metadata": {},
   "outputs": [],
   "source": []
  },
  {
   "cell_type": "code",
   "execution_count": null,
   "id": "0fa1dab9",
   "metadata": {},
   "outputs": [],
   "source": []
  },
  {
   "cell_type": "code",
   "execution_count": null,
   "id": "33e4b526",
   "metadata": {},
   "outputs": [],
   "source": []
  },
  {
   "cell_type": "code",
   "execution_count": null,
   "id": "73fcab69",
   "metadata": {},
   "outputs": [],
   "source": []
  },
  {
   "cell_type": "code",
   "execution_count": null,
   "id": "168ff142",
   "metadata": {},
   "outputs": [],
   "source": []
  },
  {
   "cell_type": "code",
   "execution_count": null,
   "id": "dd4e8514",
   "metadata": {},
   "outputs": [],
   "source": []
  }
 ],
 "metadata": {
  "celltoolbar": "Raw Cell Format",
  "kernelspec": {
   "display_name": "Python 3 (ipykernel)",
   "language": "python",
   "name": "python3"
  },
  "language_info": {
   "codemirror_mode": {
    "name": "ipython",
    "version": 3
   },
   "file_extension": ".py",
   "mimetype": "text/x-python",
   "name": "python",
   "nbconvert_exporter": "python",
   "pygments_lexer": "ipython3",
   "version": "3.10.9"
  }
 },
 "nbformat": 4,
 "nbformat_minor": 5
}
