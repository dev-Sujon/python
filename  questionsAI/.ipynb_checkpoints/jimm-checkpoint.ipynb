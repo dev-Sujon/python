{
 "cells": [
  {
   "cell_type": "markdown",
   "id": "be1c2fba",
   "metadata": {},
   "source": [
    "Write a Python program to create a class representing a circle. The class should have attributes for the circle's radius, diameter, and circumference.\n",
    "Write a Python program to create a person class. The class should have attributes for the person's name, age, and address.\n",
    "Write a Python program to create a calculator class. The class should have methods for performing basic arithmetic operations, such as addition, subtraction, multiplication, and division.\n",
    "Write a Python program to create a class that represents a shape. The class should have a method for drawing the shape.\n",
    "Write a Python program to create a class that represents a game object. The class should have attributes for the object's position, velocity, and acceleration."
   ]
  },
  {
   "cell_type": "markdown",
   "id": "88605756",
   "metadata": {},
   "source": [
    "Write a Python program to create a class representing a circle. The class should have attributes for the circle's radius, diameter, and circumference."
   ]
  },
  {
   "cell_type": "code",
   "execution_count": 11,
   "id": "c792d262",
   "metadata": {},
   "outputs": [
    {
     "name": "stdout",
     "output_type": "stream",
     "text": [
      "Circle:Information\n",
      "Radius: 10\n",
      "Diameter: 12.5\n",
      "Circumference: 45\n"
     ]
    }
   ],
   "source": [
    "class Circle:\n",
    "  def __init__(self, radius, diameter, circumference):\n",
    "    self.speech = \"Circle:Information\"\n",
    "    self.radius = radius\n",
    "    self.diameter = diameter\n",
    "    self.circumference = circumference\n",
    "\n",
    "  def __repr__(self):\n",
    "    return f\"{self.speech}\\nRadius: {self.radius}\\nDiameter: {self.diameter}\\nCircumference: {self.circumference}\"\n",
    "\n",
    "cir1 = Circle(10, 12.5, 45)\n",
    "print(cir1)"
   ]
  },
  {
   "cell_type": "markdown",
   "id": "bf12458d",
   "metadata": {},
   "source": [
    "Write a Python program to create a person class. The class should have attributes for the person's name, age, and address."
   ]
  },
  {
   "cell_type": "code",
   "execution_count": 13,
   "id": "1cc2533d",
   "metadata": {},
   "outputs": [
    {
     "name": "stdout",
     "output_type": "stream",
     "text": [
      "Name:Nochiketa\n",
      "Age:59\n",
      "kolkata\n"
     ]
    }
   ],
   "source": [
    "class Person:\n",
    "    def __init__(self,name,age,address):\n",
    "        self.n=name\n",
    "        self.age=age\n",
    "        self.addr=address\n",
    "    def __str__(self):\n",
    "        return f\"Name:{self.n}\\nAge:{self.age}\\n{self.addr}\"\n",
    "p1=Person(\"Nochiketa\",59,\"kolkata\")\n",
    "print(p1)"
   ]
  },
  {
   "cell_type": "markdown",
   "id": "15768db0",
   "metadata": {},
   "source": [
    "Write a Python program to create a calculator class. The class should have methods for performing basic arithmetic operations, such as addition, subtraction, multiplication, and division."
   ]
  },
  {
   "cell_type": "code",
   "execution_count": 21,
   "id": "50cbbfdc",
   "metadata": {},
   "outputs": [
    {
     "name": "stdout",
     "output_type": "stream",
     "text": [
      "10\n",
      "10\n",
      "0\n",
      "Invalid math\n"
     ]
    }
   ],
   "source": [
    "class Calculator:\n",
    "    def __init__(self,a,b):\n",
    "        self.a=a\n",
    "        self.b=b\n",
    "    def add(self):\n",
    "        return self.a+self.b\n",
    "    def sub(self):\n",
    "        return self.a-self.b\n",
    "    def multiply(self):\n",
    "        return self.a*self.b\n",
    "    def divide(self):\n",
    "        if self.b==0:\n",
    "            return \"Invalid math\"\n",
    "        else:\n",
    "            return self.a/self.b       \n",
    "c1=Calculator(10,0) \n",
    "print(c1.add())\n",
    "print(c1.sub())\n",
    "print(c1.multiply())\n",
    "print(c1.divide())"
   ]
  },
  {
   "cell_type": "raw",
   "id": "b78a62e9",
   "metadata": {},
   "source": [
    "Write a Python program to create a class that represents a shape. The class should have a method for drawing the shape."
   ]
  },
  {
   "cell_type": "code",
   "execution_count": 11,
   "id": "8be1d01e",
   "metadata": {},
   "outputs": [
    {
     "name": "stdout",
     "output_type": "stream",
     "text": [
      "SHAPE\n",
      " --> This is a Trinangle\n",
      " --> This is a circle\n"
     ]
    }
   ],
   "source": [
    "class Shape:\n",
    "    print(\"SHAPE\")\n",
    "class Triangle(Shape):\n",
    "    def drow(self):\n",
    "        print(\" --> This is a Trinangle\")\n",
    "class Circle(Shape):\n",
    "    def drow(self):\n",
    "        print(\" --> This is a circle\")\n",
    "Tri=Triangle()\n",
    "Circ=Circle()\n",
    "\n",
    "Tri.drow()\n",
    "Circ.drow()"
   ]
  },
  {
   "cell_type": "markdown",
   "id": "f7887169",
   "metadata": {},
   "source": [
    "Write a Python program to create a class that represents a game object. The class should have attributes for the object's position, velocity, and acceleration.\n"
   ]
  },
  {
   "cell_type": "code",
   "execution_count": 14,
   "id": "8424de60",
   "metadata": {},
   "outputs": [
    {
     "name": "stdout",
     "output_type": "stream",
     "text": [
      "105 210\n",
      "112 223\n",
      "121 239\n",
      "132 258\n",
      "145 280\n",
      "160 305\n",
      "177 333\n",
      "196 364\n",
      "217 398\n",
      "240 435\n"
     ]
    }
   ],
   "source": [
    "class GameObject:\n",
    "    def __init__(self, x, y, vx, vy, ax, ay):\n",
    "        self.x = x\n",
    "        self.y = y\n",
    "        self.vx = vx\n",
    "        self.vy = vy\n",
    "        self.ax = ax\n",
    "        self.ay = ay\n",
    "\n",
    "    def update(self, dt):\n",
    "        self.x += self.vx * dt\n",
    "        self.y += self.vy * dt\n",
    "        self.vx += self.ax * dt\n",
    "        self.vy += self.ay * dt\n",
    "\n",
    "\n",
    "def main():\n",
    "    obj = GameObject(100, 200, 5, 10, 2, 3)\n",
    "\n",
    "    for i in range(10):\n",
    "        obj.update(1)\n",
    "        print(obj.x, obj.y)\n",
    "\n",
    "if __name__ == \"__main__\":\n",
    "    main()\n"
   ]
  },
  {
   "cell_type": "markdown",
   "id": "99841b00",
   "metadata": {},
   "source": [
    "Write a Python program to implement inheritance. Create a parent class called Animal and a child class called Dog. The Dog class should inherit the attributes and methods of the Animal class."
   ]
  },
  {
   "cell_type": "code",
   "execution_count": 23,
   "id": "3bf57a29",
   "metadata": {},
   "outputs": [
    {
     "name": "stdout",
     "output_type": "stream",
     "text": [
      "name :  Spot\n",
      "breed :  Labrador Retriever\n",
      "species :  Canine\n",
      "I can bark\n",
      "sound : Wooooo\n"
     ]
    }
   ],
   "source": [
    "class Animal:\n",
    "    def __init__(self,name,species):\n",
    "        self.name=name\n",
    "        self.species=species\n",
    "        \n",
    "    def speak(self):\n",
    "        print(\"I am a animal\")\n",
    "        \n",
    "class Dog(Animal):\n",
    "    def __init__(self,name,species,breed):\n",
    "        super().__init__(name,species)\n",
    "        self.breed=breed\n",
    "    def bark(self):\n",
    "        print(\"I can bark\")\n",
    "        \n",
    "    def sound(self,s):\n",
    "        print(\"sound :\",s)\n",
    "        \n",
    "d = Dog(\"Spot\", \"Canine\", \"Labrador Retriever\")\n",
    "print(\"name : \",d.name)\n",
    "print(\"breed : \",d.breed)\n",
    "print(\"species : \",d.species)\n",
    "\n",
    "#call the methods\n",
    "d.bark()\n",
    "d.sound(\"Wooooo\")"
   ]
  },
  {
   "cell_type": "markdown",
   "id": "3346502b",
   "metadata": {},
   "source": [
    "Write a Python program to implement polymorphism. Create a base class called Shape and two derived classes called Circle and Square. The Circle and Square classes should have methods for drawing their respective shapes."
   ]
  },
  {
   "cell_type": "code",
   "execution_count": null,
   "id": "17d19e90",
   "metadata": {},
   "outputs": [],
   "source": [
    "class Shape:\n",
    "    def drow(self):\n",
    "        raise NotImplementShape(\"Subclasses must implement this method\")\n",
    "class Circle(Shape):\n",
    "    def __init__(self,rad):\n",
    "        self.rad=rad\n",
    "    def drow(self):\n",
    "        print(\"Circle is droing at radius :\",self.rad)\n",
    "class Square(Shape):\n",
    "    def __init__(self,side):\n",
    "        self.side=side\n",
    "    def drow(self):\n",
    "        print(\"Drowing a square at side :\",self.side)\n",
    "        \n",
    "def main():\n",
    "    pass\n",
    "if __name__:=\"mian\":\n",
    "        main()\n",
    "        "
   ]
  },
  {
   "cell_type": "code",
   "execution_count": null,
   "id": "f7b4946b",
   "metadata": {},
   "outputs": [],
   "source": []
  },
  {
   "cell_type": "code",
   "execution_count": null,
   "id": "3313f292",
   "metadata": {},
   "outputs": [],
   "source": []
  },
  {
   "cell_type": "code",
   "execution_count": null,
   "id": "e12b9332",
   "metadata": {},
   "outputs": [],
   "source": []
  },
  {
   "cell_type": "code",
   "execution_count": null,
   "id": "c9bba282",
   "metadata": {},
   "outputs": [],
   "source": []
  }
 ],
 "metadata": {
  "celltoolbar": "Raw Cell Format",
  "kernelspec": {
   "display_name": "Python 3 (ipykernel)",
   "language": "python",
   "name": "python3"
  },
  "language_info": {
   "codemirror_mode": {
    "name": "ipython",
    "version": 3
   },
   "file_extension": ".py",
   "mimetype": "text/x-python",
   "name": "python",
   "nbconvert_exporter": "python",
   "pygments_lexer": "ipython3",
   "version": "3.10.9"
  }
 },
 "nbformat": 4,
 "nbformat_minor": 5
}
