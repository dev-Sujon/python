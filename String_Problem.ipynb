{
 "cells": [
  {
   "cell_type": "raw",
   "id": "c2cb7460",
   "metadata": {},
   "source": [
    "2.​ Write a Python program to count the number of characters (character\n",
    "    frequency) in a string.\n",
    "    \n",
    "    Sample String : google.com'\n",
    "    Expected Result : {'g': 2, 'o': 3, 'l': 1, 'e': 1, '.': 1, 'c': 1, 'm': 1}"
   ]
  },
  {
   "cell_type": "code",
   "execution_count": 1,
   "id": "a40d943b",
   "metadata": {},
   "outputs": [
    {
     "name": "stdout",
     "output_type": "stream",
     "text": [
      "{'a': 8, 'b': 11, 'd': 3, 'f': 2}\n"
     ]
    }
   ],
   "source": [
    "def charac_frequency(strr):\n",
    "    dict = {}\n",
    "    for n in strr:\n",
    "        keys = dict.keys()\n",
    "        if n in keys:\n",
    "            dict[n]+=1\n",
    "        else:\n",
    "            dict[n]=1\n",
    "    return dict\n",
    "\n",
    "strr='aaaaabbbbbbdfdfdbbbbbaaa'\n",
    "print(charac_frequency(strr))"
   ]
  },
  {
   "cell_type": "raw",
   "id": "7a5f0455",
   "metadata": {},
   "source": [
    "3.​ Write a Python program to get a string made of the first 2 and the last 2 chars\n",
    "    from a given a string. If the string length is less than 2, return instead of the\n",
    "    empty string.\n",
    "    \n",
    "    Sample String : 'w3resource'\n",
    "    Expected Result : 'w3ce'\n",
    "    Sample String : 'w3'\n",
    "    Expected Result : 'w3w3'\n",
    "    Sample String : ' w'\n",
    "    Expected Result : Empty String"
   ]
  },
  {
   "cell_type": "code",
   "execution_count": 2,
   "id": "de1fbb05",
   "metadata": {},
   "outputs": [
    {
     "name": "stdout",
     "output_type": "stream",
     "text": [
      "w3ce\n",
      "w33r\n"
     ]
    }
   ],
   "source": [
    "def str_mode(strr):\n",
    "    if len(strr)<2:\n",
    "        return ''\n",
    "    return strr[:2]+strr[-2:]         \n",
    "        \n",
    "st='w3resource'\n",
    "print(str_mode(st)) \n",
    "st='w3r'\n",
    "print(str_mode(st)) "
   ]
  },
  {
   "cell_type": "raw",
   "id": "6abf9fa0",
   "metadata": {},
   "source": [
    "4.​ Write a Python program to get a string from a given string where all\n",
    "    occurrences of its first char have been changed to '$', except the first char itself.\n",
    "    \n",
    "    Sample String : 'restart'\n",
    "    Expected Result : 'resta$t'"
   ]
  },
  {
   "cell_type": "code",
   "execution_count": 3,
   "id": "77d05eab",
   "metadata": {},
   "outputs": [
    {
     "name": "stdout",
     "output_type": "stream",
     "text": [
      "retu$n\n"
     ]
    }
   ],
   "source": [
    "def charnge_str(strr):\n",
    "    char = strr[0]\n",
    "    strr = strr.replace(char,'$')\n",
    "    return char + strr[1:]\n",
    "stt='return'\n",
    "print(charnge_str(stt)) "
   ]
  },
  {
   "cell_type": "raw",
   "id": "99477e89",
   "metadata": {},
   "source": [
    "5​ Write a Python program to get a single string from two given strings, separated\n",
    "   by a space and swap the first two characters of each string. \n",
    "    \n",
    "    Sample String : 'abc', 'xyz'\n",
    "    Expected Result : 'xyc abz'"
   ]
  },
  {
   "cell_type": "code",
   "execution_count": 4,
   "id": "7614002b",
   "metadata": {},
   "outputs": [
    {
     "name": "stdout",
     "output_type": "stream",
     "text": [
      "yes abc\n"
     ]
    }
   ],
   "source": [
    "def swap_str(s):\n",
    "    s = list(s)\n",
    "    return s[-1]+\" \"+s[0]\n",
    "\n",
    "stt='abc','yes'\n",
    "print(swap_str(stt)) "
   ]
  },
  {
   "cell_type": "raw",
   "id": "8c48ed90",
   "metadata": {},
   "source": [
    "6.​ Write a Python program to add 'ing' at the end of a given string (length should\n",
    "    be at least 3). If the given string already ends with 'ing' then add 'ly' instead. \n",
    "    If the string length of the given string is less than 3, leave it unchanged. \n",
    "    \n",
    "    Sample String : 'abc'\n",
    "    Expected Result : 'abcing'\n",
    "    Sample String : 'string'\n",
    "    Expected Result : 'stringly'"
   ]
  },
  {
   "cell_type": "code",
   "execution_count": 5,
   "id": "f0c0defb",
   "metadata": {},
   "outputs": [
    {
     "name": "stdout",
     "output_type": "stream",
     "text": [
      "addingffdgfgf\n"
     ]
    }
   ],
   "source": [
    "def add_str(strr):\n",
    "    if len(strr)<3 or strr[-3:]!='ing':\n",
    "        return strr\n",
    "    else:\n",
    "        if strr[-3:]=='ing':\n",
    "            return strr+'ly'\n",
    "        else:\n",
    "            return strr+'ing'\n",
    "        \n",
    "stt='addingffdgfgf'\n",
    "print(add_str(stt))     "
   ]
  },
  {
   "cell_type": "raw",
   "id": "671968cf",
   "metadata": {},
   "source": [
    "7​ Write a Python program to find the first appearance of the substring 'not' and\n",
    "    'poor' from a given string, if 'not' follows the 'poor', replace the whole \n",
    "    'not'...'poor'substring with 'good'. Return the resulting string.\n",
    "    \n",
    "    input:'The lyrics is not that poor!'\n",
    "    'The lyrics is poor!'\n",
    "    Expected Result : 'The lyrics is good!'\n",
    "    'The lyrics is poor!'"
   ]
  },
  {
   "cell_type": "code",
   "execution_count": 6,
   "id": "5ca9e9a0",
   "metadata": {},
   "outputs": [
    {
     "name": "stdout",
     "output_type": "stream",
     "text": [
      "The lyrics is good!\n",
      "The lyrics is poor!\n"
     ]
    }
   ],
   "source": [
    "\n",
    "def not_poor(str1):\n",
    "  snot = str1.find('not')\n",
    "  spoor = str1.find('poor')\n",
    "  \n",
    "\n",
    "  if spoor > snot and snot>0 and spoor>0:\n",
    "    str1 = str1.replace(str1[snot:(spoor+4)], 'good')\n",
    "    return str1\n",
    "  else:\n",
    "    return str1\n",
    "print(not_poor('The lyrics is not that poor!'))\n",
    "print(not_poor('The lyrics is poor!'))"
   ]
  },
  {
   "cell_type": "raw",
   "id": "9d935cc9",
   "metadata": {},
   "source": [
    "8​ Write a Python function that takes a list of words and returns the longest word\n",
    "and the length of the longest one"
   ]
  },
  {
   "cell_type": "code",
   "execution_count": 7,
   "id": "15c4cd75",
   "metadata": {},
   "outputs": [
    {
     "ename": "SyntaxError",
     "evalue": "incomplete input (3179962163.py, line 3)",
     "output_type": "error",
     "traceback": [
      "\u001b[0;36m  Cell \u001b[0;32mIn[7], line 3\u001b[0;36m\u001b[0m\n\u001b[0;31m    \u001b[0m\n\u001b[0m    ^\u001b[0m\n\u001b[0;31mSyntaxError\u001b[0m\u001b[0;31m:\u001b[0m incomplete input\n"
     ]
    }
   ],
   "source": [
    "def longest_word(L):\n",
    "    \n",
    "    "
   ]
  },
  {
   "cell_type": "code",
   "execution_count": null,
   "id": "5d93f58c",
   "metadata": {
    "scrolled": true
   },
   "outputs": [],
   "source": [
    "List = ['Honor','Machine','Golllllllla','Bangladesh','BinaryComplexity','Mashrur','IllioanooMacgicCrowArtificalINteligence']\n",
    "a=[]\n",
    "for i in List:\n",
    "    a.append(len(i))\n",
    "    print(a)\n",
    "    m = max(a)\n",
    "m "
   ]
  },
  {
   "cell_type": "raw",
   "id": "b833e42a",
   "metadata": {},
   "source": [
    "9​ Write a Python program to remove the nth index character from a nonempty\n",
    "string\n",
    "\n",
    "Mashrur\n",
    "Mshrur\n",
    "Mashrr"
   ]
  },
  {
   "cell_type": "code",
   "execution_count": 8,
   "id": "c0379605",
   "metadata": {},
   "outputs": [
    {
     "name": "stdout",
     "output_type": "stream",
     "text": [
      "Mashrr\n"
     ]
    }
   ],
   "source": [
    "def remove(str,n):\n",
    "    first_part = str[:n]\n",
    "    last_part = str[n+1:]\n",
    "    return first_part+last_part\n",
    "print(remove(\"Mashrur\",5))\n"
   ]
  },
  {
   "cell_type": "code",
   "execution_count": 9,
   "id": "392a8d89",
   "metadata": {},
   "outputs": [
    {
     "ename": "SyntaxError",
     "evalue": "invalid decimal literal (668614146.py, line 1)",
     "output_type": "error",
     "traceback": [
      "\u001b[0;36m  Cell \u001b[0;32mIn[9], line 1\u001b[0;36m\u001b[0m\n\u001b[0;31m    10​Write a Python program to change a given string to a new string where the\u001b[0m\n\u001b[0m     ^\u001b[0m\n\u001b[0;31mSyntaxError\u001b[0m\u001b[0;31m:\u001b[0m invalid decimal literal\n"
     ]
    }
   ],
   "source": [
    "10​Write a Python program to change a given string to a new string where the\n",
    "first and last char have been exchanged"
   ]
  },
  {
   "cell_type": "code",
   "execution_count": null,
   "id": "5db144eb",
   "metadata": {},
   "outputs": [],
   "source": [
    "def changeFistLastChar(strr):\n",
    "    p = strr[-1]+strr[1:-1]+strr[0]\n",
    "    return p\n",
    "print(changeFistLastChar(\"abcd\"))\n",
    "print(changeFistLastChar(\"Bangladesh\"))"
   ]
  },
  {
   "cell_type": "code",
   "execution_count": null,
   "id": "eeee61d0",
   "metadata": {},
   "outputs": [],
   "source": [
    "11​ Write a Python program to remove the characters which have odd index\n",
    "values of a given string."
   ]
  },
  {
   "cell_type": "code",
   "execution_count": null,
   "id": "ae841294",
   "metadata": {},
   "outputs": [],
   "source": [
    "def odd_values_string(str):\n",
    "    res = ''\n",
    "    for i in range(len(str)):\n",
    "        if i%2!=0:\n",
    "            res = res + str[i]\n",
    "    return res\n",
    "\n",
    "print(odd_values_string('abcdef'))\n",
    "print(odd_values_string('python'))"
   ]
  },
  {
   "cell_type": "raw",
   "id": "48243ed2",
   "metadata": {},
   "source": [
    "12​ Write a Python program to count the occurrences of each word in a given\n",
    "sentence"
   ]
  },
  {
   "cell_type": "code",
   "execution_count": 10,
   "id": "6bdf9ced",
   "metadata": {},
   "outputs": [
    {
     "name": "stdout",
     "output_type": "stream",
     "text": [
      "['How', 'much', 'wood', 'a', 'wood', 'chulk', 'chulk.If', 'a', 'wood', 'could', 'would', 'chulk', 'chulk']\n",
      "{'How': 1, 'much': 1, 'wood': 3, 'a': 2, 'chulk': 3, 'chulk.If': 1, 'could': 1, 'would': 1}\n"
     ]
    }
   ],
   "source": [
    "def count_word(n):\n",
    "    count = {}\n",
    "    words = n.split()\n",
    "    print(words)\n",
    "    for w in words:\n",
    "        if w in count:\n",
    "            count[w]+=1\n",
    "        else:\n",
    "            count[w]=1 \n",
    "    return count        \n",
    "\n",
    "print(count_word(\"How much wood a wood chulk chulk.If a wood could would chulk chulk\"))    "
   ]
  },
  {
   "cell_type": "raw",
   "id": "51eaa8ad",
   "metadata": {},
   "source": [
    "13​Write a Python script that takes input from the user and displays that input\n",
    "back in upper and lower cases."
   ]
  },
  {
   "cell_type": "code",
   "execution_count": 11,
   "id": "4e2140a3",
   "metadata": {},
   "outputs": [
    {
     "name": "stdout",
     "output_type": "stream",
     "text": [
      "EVERYTHING IS FAIR IN LOVE AND WAR\n",
      "everything is fair in love and war\n"
     ]
    }
   ],
   "source": [
    "def upperLower(my_string):\n",
    "    up = my_string.upper()\n",
    "    lo = my_string.lower()\n",
    "    print(up+\"\\n\"+lo)     \n",
    "upperLower(\"Everything is fair in love and war\")    "
   ]
  },
  {
   "cell_type": "code",
   "execution_count": null,
   "id": "f7c3dd48",
   "metadata": {},
   "outputs": [],
   "source": []
  },
  {
   "cell_type": "raw",
   "id": "218b17e1",
   "metadata": {},
   "source": [
    "14​ Write a Python program that accepts a comma separated sequence of words\n",
    "    as input and prints the unique words in sorted form (alphanumerically). \n",
    "    Sample Words : red, white, black, red, green, black\n",
    "    Expected Result : black, green, red, white,red"
   ]
  },
  {
   "cell_type": "code",
   "execution_count": 12,
   "id": "95f8dc80",
   "metadata": {},
   "outputs": [
    {
     "name": "stdout",
     "output_type": "stream",
     "text": [
      "aa,bb,cc,dd,pp,xx\n"
     ]
    }
   ],
   "source": [
    "items = \"xx,aa,bb,cc,dd,pp\"\n",
    "words = [word for word in items.split(\",\")]\n",
    "print(\",\".join(sorted(set(words))))"
   ]
  },
  {
   "cell_type": "raw",
   "id": "1f971461",
   "metadata": {},
   "source": [
    "17​ Write a Python function to get a string made of 4 copies of the last two\n",
    "characters of a specified string (length must be at least 2). ​Go to the editor\n",
    "Sample function and result :\n",
    "insert_end('Python') -> onononon\n",
    "insert_end('Exercises') -> eseseses"
   ]
  },
  {
   "cell_type": "code",
   "execution_count": 13,
   "id": "dd1782ee",
   "metadata": {},
   "outputs": [
    {
     "data": {
      "text/plain": [
       "'eseseses'"
      ]
     },
     "execution_count": 13,
     "metadata": {},
     "output_type": "execute_result"
    }
   ],
   "source": [
    "strr = \"Exercises\"\n",
    "last = strr[-2:]\n",
    "last*4"
   ]
  },
  {
   "cell_type": "code",
   "execution_count": 14,
   "id": "c34a6407",
   "metadata": {},
   "outputs": [
    {
     "name": "stdout",
     "output_type": "stream",
     "text": [
      "https://www.w3resource.com/python-exercises\n",
      "https://www.w3resource.com/python\n"
     ]
    }
   ],
   "source": [
    "\n",
    "str1 = 'https://www.w3resource.com/python-exercises/string'\n",
    "print(str1.rsplit('/', 1)[0])\n",
    "print(str1.rsplit('-', 1)[0])"
   ]
  },
  {
   "cell_type": "raw",
   "id": "d900f5f6",
   "metadata": {},
   "source": [
    "42​Write a Python program to count repeated characters in a string.\n",
    "Sample string: 'thequickbrownfoxjumpsoverthelazydog'"
   ]
  },
  {
   "cell_type": "code",
   "execution_count": 15,
   "id": "d08088eb",
   "metadata": {},
   "outputs": [
    {
     "name": "stdout",
     "output_type": "stream",
     "text": [
      "o 4\n",
      "e 3\n",
      "t 2\n",
      "h 2\n",
      "u 2\n",
      "r 2\n"
     ]
    }
   ],
   "source": [
    "import collections\n",
    "str1 = 'thequickbrownfoxjumpsoverthelazydog'\n",
    "d = collections.defaultdict(int)\n",
    "for c in str1:\n",
    "    d[c] += 1\n",
    "\n",
    "for c in sorted(d, key=d.get, reverse=True):\n",
    "  if d[c] > 1:\n",
    "      print('%s %d' % (c, d[c]))\n",
    "\n",
    "    "
   ]
  },
  {
   "cell_type": "code",
   "execution_count": 16,
   "id": "ae653109",
   "metadata": {},
   "outputs": [
    {
     "name": "stdout",
     "output_type": "stream",
     "text": [
      "o 4\n",
      "e 3\n",
      "t 2\n",
      "h 2\n",
      "u 2\n",
      "r 2\n"
     ]
    }
   ],
   "source": [
    "import collections\n",
    "strr = 'thequickbrownfoxjumpsoverthelazydog'\n",
    "d = collections.defaultdict(int)\n",
    "for x in strr:\n",
    "    d[x]+=1\n",
    "for x in sorted(d,key=d.get,reverse=True):\n",
    "    if d[x]>1:\n",
    "        print('%s %d' % (x, d[x]))"
   ]
  },
  {
   "cell_type": "code",
   "execution_count": 17,
   "id": "57b7c7f4",
   "metadata": {},
   "outputs": [
    {
     "name": "stdout",
     "output_type": "stream",
     "text": [
      "Repeated characters in the string:\n",
      "t: 2 times\n",
      "h: 2 times\n",
      "e: 3 times\n",
      "u: 2 times\n",
      "r: 2 times\n",
      "o: 4 times\n"
     ]
    }
   ],
   "source": [
    "def count_repeated_characters(string):\n",
    "    char_count = {}\n",
    "    for char in string:\n",
    "        char_count[char] = char_count.get(char, 0) + 1\n",
    "\n",
    "    repeated_chars = {char: count for char, count in char_count.items() if count > 1}\n",
    "    return repeated_chars\n",
    "\n",
    "if __name__ == \"__main__\":\n",
    "    sample_string = 'thequickbrownfoxjumpsoverthelazydog'\n",
    "    repeated_characters = count_repeated_characters(sample_string)\n",
    "    print(\"Repeated characters in the string:\")\n",
    "    for char, count in repeated_characters.items():\n",
    "        print(f\"{char}: {count} times\")"
   ]
  },
  {
   "cell_type": "raw",
   "id": "7451c0b5",
   "metadata": {},
   "source": [
    "44​Write a Python program to print the index of the character in a string."
   ]
  },
  {
   "cell_type": "code",
   "execution_count": 18,
   "id": "11ae5923",
   "metadata": {},
   "outputs": [
    {
     "name": "stdout",
     "output_type": "stream",
     "text": [
      "Current Character ' 1 ' and its index 0\n",
      "Current Character ' 2 ' and its index 1\n",
      "Current Character ' 3 ' and its index 2\n",
      "Current Character ' h ' and its index 3\n",
      "Current Character ' e ' and its index 4\n",
      "Current Character ' l ' and its index 5\n",
      "Current Character ' l ' and its index 6\n",
      "Current Character ' o ' and its index 7\n"
     ]
    }
   ],
   "source": [
    "a = \"123hello\"\n",
    "for index,char in enumerate(a):\n",
    "    print(\"Current Character '\",char,\"' and its index\",index)"
   ]
  },
  {
   "cell_type": "raw",
   "id": "6263fd8e",
   "metadata": {},
   "source": [
    "45​Write a Python program to check if a string contains all letters of the\n",
    "alphabet"
   ]
  },
  {
   "cell_type": "code",
   "execution_count": 19,
   "id": "48f78a30",
   "metadata": {},
   "outputs": [
    {
     "name": "stdout",
     "output_type": "stream",
     "text": [
      "False\n",
      "True\n"
     ]
    }
   ],
   "source": [
    "import string\n",
    "alphabet = set(string.ascii_lowercase)\n",
    "def all_letter(sentence):\n",
    "    p = set(sentence.lower())>=alphabet\n",
    "    return p\n",
    "ss = \"This is too exited .Not to share\"\n",
    "p = all_letter(ss)\n",
    "print(p)\n",
    "c = 'The quick brown fox jumps over the lazy dog'\n",
    "x = all_letter(c)\n",
    "print(x)"
   ]
  },
  {
   "cell_type": "raw",
   "id": "46acd199",
   "metadata": {},
   "source": [
    "46​Write a Python program to convert a string in a list."
   ]
  },
  {
   "cell_type": "code",
   "execution_count": 20,
   "id": "f7187f1b",
   "metadata": {},
   "outputs": [
    {
     "data": {
      "text/plain": [
       "['H', 'o', 'w', ' ', 'a', 'r', 'e', ' ', 'y', 'o', 'u']"
      ]
     },
     "execution_count": 20,
     "metadata": {},
     "output_type": "execute_result"
    }
   ],
   "source": [
    "str = \"How are you\"\n",
    "a = list(str)\n",
    "a"
   ]
  },
  {
   "cell_type": "raw",
   "id": "8638b4b7",
   "metadata": {},
   "source": [
    "1.​ Write a Python program to get a string made of the first 2 and the last 2 chars\n",
    "from a given a string. If the string length is less than 2, return instead of the\n",
    "empty string. \n",
    "Sample String : 'w3resource'\n",
    "Expected Result : 'w3ce'\n",
    "\n",
    "2​Write a Python program to print four values decimal, octal, hexadecimal\n",
    "Sample Output:\n",
    "Input an integer: 25\n",
    "Decimal Octal Hexadecimal (capitalized), Binary\n",
    "25 31 19 11001\n",
    "Click me to see the sampl"
   ]
  },
  {
   "cell_type": "code",
   "execution_count": 21,
   "id": "f31925c4",
   "metadata": {},
   "outputs": [
    {
     "ename": "AttributeError",
     "evalue": "'Solution' object has no attribute 'display'",
     "output_type": "error",
     "traceback": [
      "\u001b[0;31m---------------------------------------------------------------------------\u001b[0m",
      "\u001b[0;31mAttributeError\u001b[0m                            Traceback (most recent call last)",
      "Cell \u001b[0;32mIn[21], line 9\u001b[0m\n\u001b[1;32m      7\u001b[0m sol\u001b[38;5;241m=\u001b[39mSolution(\u001b[38;5;241m10\u001b[39m,\u001b[38;5;124m\"\u001b[39m\u001b[38;5;124mBangladesh\u001b[39m\u001b[38;5;124m\"\u001b[39m)\n\u001b[1;32m      8\u001b[0m sol\u001b[38;5;241m.\u001b[39mstrr\u001b[38;5;241m=\u001b[39m\u001b[38;5;124m\"\u001b[39m\u001b[38;5;124mBangladesh\u001b[39m\u001b[38;5;124m\"\u001b[39m\n\u001b[0;32m----> 9\u001b[0m \u001b[43msol\u001b[49m\u001b[38;5;241;43m.\u001b[39;49m\u001b[43mdisplay\u001b[49m()\n",
      "\u001b[0;31mAttributeError\u001b[0m: 'Solution' object has no attribute 'display'"
     ]
    }
   ],
   "source": [
    "class Solution:\n",
    "    def __init__(self,nos,strr):\n",
    "        self.nos=nos\n",
    "        self.str=strr\n",
    "    def sol(self):\n",
    "        print(self.nos,self.strr)\n",
    "sol=Solution(10,\"Bangladesh\")\n",
    "sol.strr=\"Bangladesh\"\n",
    "sol.display()"
   ]
  },
  {
   "cell_type": "code",
   "execution_count": null,
   "id": "3661c283",
   "metadata": {},
   "outputs": [],
   "source": [
    "class Solution:\n",
    "    def __init__(self,nos):\n",
    "        self.nos=nos\n",
    "    def ans(self):\n",
    "        print(self.nos)\n",
    "    def converter(self):\n",
    "        #decimel to binary\n",
    "        if nos>1:\n",
    "            converter(nos//2)\n",
    "        bi=nos%2\n",
    "        #decimel to octal\n",
    "        if nos>\n",
    "        \n",
    "        \n",
    "        \n"
   ]
  },
  {
   "cell_type": "code",
   "execution_count": null,
   "id": "378ca075",
   "metadata": {},
   "outputs": [],
   "source": [
    "def swap_case_string(str1):\n",
    "   result_str = \"\"   \n",
    "   for item in str1:\n",
    "       if item.isupper():\n",
    "           result_str += item.lower()\n",
    "       else:\n",
    "           result_str += item.upper()           \n",
    "   return result_str\n",
    "print(swap_case_string(\"Python Exercises\"))\n",
    "print(swap_case_string(\"Java\"))\n",
    "print(swap_case_string(\"NumPy\"))\n"
   ]
  },
  {
   "cell_type": "raw",
   "id": "69286f2f",
   "metadata": {},
   "source": [
    "90.​ Write a Python program to remove duplicate words from a given string.\n",
    "\n",
    "Sample Output:\n",
    "Original String:\n",
    "Python Exercises Practice Solution Exercises\n",
    "After removing duplicate words from the said string:\n",
    "Python Exercises Practice Solution"
   ]
  },
  {
   "cell_type": "code",
   "execution_count": null,
   "id": "e1e7fe79",
   "metadata": {},
   "outputs": [],
   "source": []
  },
  {
   "cell_type": "code",
   "execution_count": null,
   "id": "a7d8518a",
   "metadata": {},
   "outputs": [],
   "source": [
    "def remove_duplicate_words(input_string):\n",
    "    split_word=input_string.split()\n",
    "    uni_word=set(split_word)\n",
    "    res=\" \".join(uni_word)\n",
    "    print(res)\n",
    "strr=str(input()) \n",
    "remove_duplicate_words(strr)"
   ]
  },
  {
   "cell_type": "raw",
   "id": "ae4ad050",
   "metadata": {},
   "source": [
    "89.​ Write a Python program to remove unwanted characters from a given string.\n",
    "Go to the editor\n",
    "Sample Output:\n",
    "Original String : Pyth*^on Exercis^es"
   ]
  },
  {
   "cell_type": "code",
   "execution_count": null,
   "id": "6c911ed5",
   "metadata": {},
   "outputs": [],
   "source": [
    "import re\n",
    "def remove_unwanred_char(strr):\n",
    "    \n",
    "    clean_str=re.sub(r'[^a-zA-Z0-9\\s]','',strr)\n",
    "    print(clean_str)\n",
    "remove_unwanred_char(\"Pyth*^on Exercis^es\")"
   ]
  },
  {
   "cell_type": "code",
   "execution_count": null,
   "id": "47bde2a0",
   "metadata": {},
   "outputs": [],
   "source": [
    "strr = \"Pyth*^on Exercis^es\"\n",
    "unwanted_char=['']"
   ]
  },
  {
   "cell_type": "code",
   "execution_count": null,
   "id": "b23a8c10",
   "metadata": {},
   "outputs": [],
   "source": [
    "stact=[]\n",
    "def push():\n",
    "    nos=int(\"push:\")\n",
    "    stact.append(nos)\n",
    "    \n",
    "def pop():\n",
    "    if not stact:\n",
    "        print(\"Stack is empty\")\n",
    "    else:\n",
    "        e=stact.pop()\n",
    "        print(\"remove element:\",e)\n",
    "        print(stact)        \n",
    "        \n",
    "def quit():\n",
    "    pass\n",
    "\n",
    "while(True):\n",
    "    print(\"1.stack\\n2.push\\3.pop\\n4.quit \")\n",
    "    c=input()\n",
    "    print()\n",
    "    if c==2:\n",
    "        push()\n",
    "    elif c==3:\n",
    "        pop()\n",
    "    else:    \n",
    "        quit()\n",
    "        \n"
   ]
  },
  {
   "cell_type": "raw",
   "id": "5075848f",
   "metadata": {},
   "source": [
    "88.​ Write a Python program to check whether a given string contains a capital\n",
    "letter, a lower case letter, a number and a minimum length. ​Go to the editor\n",
    "Sample Output:\n",
    "Input the string: W3resource\n",
    "['Valid string.']"
   ]
  },
  {
   "cell_type": "code",
   "execution_count": null,
   "id": "1cc97608",
   "metadata": {},
   "outputs": [],
   "source": [
    "def check_strr(strr):\n",
    "    msg=[]\n",
    "    if not any(x.isupper() for x in strr):\n",
    "        msg.append(\"String must have 1 upper case character\")\n",
    "    if not any(x.islower() for x in strr):\n",
    "        msg.append(\"String must have 1 lower case character\")\n",
    "    if not any(x.isdigit() for x in strr):\n",
    "        msg.append(\"String must have 1 digit character\")\n",
    "    if len(strr)<8:\n",
    "        print(\"String must have 8 character\")\n",
    "    if not msg:\n",
    "        print(\"valid input\")\n",
    "    return msg    \n",
    "ss=input(\"Input the string:\")\n",
    "r = check_strr(ss)\n",
    "print(r)"
   ]
  },
  {
   "cell_type": "markdown",
   "id": "07660d41",
   "metadata": {},
   "source": [
    "73.​ Write a Python program to count Uppercase, Lowercase, special character\n",
    "and numeric values in a given string."
   ]
  },
  {
   "cell_type": "code",
   "execution_count": 30,
   "id": "38443f58",
   "metadata": {},
   "outputs": [
    {
     "name": "stdout",
     "output_type": "stream",
     "text": [
      "Original String: kkkKKKKKKIIIIIooooo*****@@@@@@5525256\n",
      "Upper case : 11\n",
      "Lower case : 8\n",
      "Number case : 7\n",
      "Special case : 11\n"
     ]
    }
   ],
   "source": [
    "def count_case(strr):\n",
    "    up,low,special,num=0,0,0,0\n",
    "    for x in range(len(strr)):\n",
    "        if strr[x] >= 'A' and strr[x] <='Z':\n",
    "            up=up+1\n",
    "        elif strr[x] >='a' and strr[x] <='z':\n",
    "            low=low+1\n",
    "        elif strr[x] >='0' and strr[x] <='9':\n",
    "            num=num+1 \n",
    "        else:\n",
    "            special=special+1  \n",
    "    return up,low,num,special\n",
    "     \n",
    "s =\"kkkKKKKKKIIIIIooooo*****@@@@@@5525256\" \n",
    "print(\"Original String:\",s)\n",
    "\n",
    "u,l,n,s=count_case(s)\n",
    "print(\"Upper case :\",u)\n",
    "print(\"Lower case :\",l)\n",
    "print(\"Number case :\",n)\n",
    "print(\"Special case :\",s)"
   ]
  },
  {
   "cell_type": "markdown",
   "id": "89b41d0a",
   "metadata": {},
   "source": [
    "74.​ Write a Python program to find the minimum window in a given string which\n",
    "will contain all the characters of another given string. ​Go to the editor\n",
    "Example 1\n",
    "Input : str1 = \" PRWSOERIUSFK \"\n",
    "str2 = \" OSU \"\n",
    "Output: Minimum window is \"OERIUS\""
   ]
  },
  {
   "cell_type": "code",
   "execution_count": 40,
   "id": "3dce8a8c",
   "metadata": {},
   "outputs": [
    {
     "name": "stdout",
     "output_type": "stream",
     "text": [
      "tdfoasp\n"
     ]
    }
   ],
   "source": [
    "str1=\"sdfsdihhhbtdfoaspd\"\n",
    "str2=\"top\"\n",
    "\n",
    "mylst =[0]*len(str1)\n",
    "counter=0\n",
    "start=0\n",
    "end=0\n",
    "for i in str1:\n",
    "    if i in str2:\n",
    "        mylst[counter]+=1\n",
    "    if counter != 0:\n",
    "        mylst[counter]+=mylst[counter-1]\n",
    "    if mylst[counter]==1 and start==0:\n",
    "        start=counter\n",
    "    if mylst[counter]==len(str2):\n",
    "        end=counter\n",
    "        break\n",
    "    counter+=1\n",
    "fintext= str1[start:end+1]\n",
    "print(fintext)"
   ]
  },
  {
   "cell_type": "code",
   "execution_count": 39,
   "id": "4764dc53",
   "metadata": {},
   "outputs": [
    {
     "data": {
      "text/plain": [
       "{3: 'S', 4: 'O', 8: 'U', 9: 'S'}"
      ]
     },
     "execution_count": 39,
     "metadata": {},
     "output_type": "execute_result"
    }
   ],
   "source": [
    "dist_index"
   ]
  },
  {
   "cell_type": "code",
   "execution_count": null,
   "id": "8dfbe01f",
   "metadata": {},
   "outputs": [],
   "source": []
  },
  {
   "cell_type": "code",
   "execution_count": null,
   "id": "02d43524",
   "metadata": {},
   "outputs": [],
   "source": []
  },
  {
   "cell_type": "code",
   "execution_count": null,
   "id": "d0780ceb",
   "metadata": {},
   "outputs": [],
   "source": []
  },
  {
   "cell_type": "code",
   "execution_count": null,
   "id": "e98c7332",
   "metadata": {},
   "outputs": [],
   "source": []
  },
  {
   "cell_type": "code",
   "execution_count": null,
   "id": "9734f71e",
   "metadata": {},
   "outputs": [],
   "source": []
  },
  {
   "cell_type": "code",
   "execution_count": null,
   "id": "bc2940ba",
   "metadata": {},
   "outputs": [],
   "source": []
  },
  {
   "cell_type": "code",
   "execution_count": null,
   "id": "722fbf23",
   "metadata": {},
   "outputs": [],
   "source": []
  }
 ],
 "metadata": {
  "kernelspec": {
   "display_name": "Python 3 (ipykernel)",
   "language": "python",
   "name": "python3"
  },
  "language_info": {
   "codemirror_mode": {
    "name": "ipython",
    "version": 3
   },
   "file_extension": ".py",
   "mimetype": "text/x-python",
   "name": "python",
   "nbconvert_exporter": "python",
   "pygments_lexer": "ipython3",
   "version": "3.10.9"
  }
 },
 "nbformat": 4,
 "nbformat_minor": 5
}
