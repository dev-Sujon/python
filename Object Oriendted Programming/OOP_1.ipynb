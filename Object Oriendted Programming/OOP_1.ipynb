{
 "cells": [
  {
   "cell_type": "code",
   "execution_count": 5,
   "id": "1727cc0d",
   "metadata": {},
   "outputs": [],
   "source": [
    "class Dog:\n",
    "    def __init__(self,v,v1):\n",
    "        self.v=v\n",
    "        self.v1=v1\n",
    "        \n",
    "    def add(self):\n",
    "        return v+v1\n",
    "    def mul(self):\n",
    "        m = self.v*self.v1\n",
    "        return m\n",
    "c=Dog(10,20)"
   ]
  },
  {
   "cell_type": "code",
   "execution_count": null,
   "id": "58b5cee5",
   "metadata": {},
   "outputs": [],
   "source": []
  }
 ],
 "metadata": {
  "kernelspec": {
   "display_name": "Python 3 (ipykernel)",
   "language": "python",
   "name": "python3"
  },
  "language_info": {
   "codemirror_mode": {
    "name": "ipython",
    "version": 3
   },
   "file_extension": ".py",
   "mimetype": "text/x-python",
   "name": "python",
   "nbconvert_exporter": "python",
   "pygments_lexer": "ipython3",
   "version": "3.10.9"
  }
 },
 "nbformat": 4,
 "nbformat_minor": 5
}
