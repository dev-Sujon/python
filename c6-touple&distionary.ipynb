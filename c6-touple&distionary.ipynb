{
 "cells": [
  {
   "cell_type": "markdown",
   "id": "29d773c0",
   "metadata": {},
   "source": [
    "# Touple"
   ]
  },
  {
   "cell_type": "code",
   "execution_count": 4,
   "id": "18c85a9c",
   "metadata": {},
   "outputs": [
    {
     "data": {
      "text/plain": [
       "tuple"
      ]
     },
     "execution_count": 4,
     "metadata": {},
     "output_type": "execute_result"
    }
   ],
   "source": [
    "tple1 =((),())\n",
    "type(tple1)"
   ]
  },
  {
   "cell_type": "code",
   "execution_count": 7,
   "id": "76a00009",
   "metadata": {},
   "outputs": [
    {
     "data": {
      "text/plain": [
       "tuple"
      ]
     },
     "execution_count": 7,
     "metadata": {},
     "output_type": "execute_result"
    }
   ],
   "source": [
    "num = (5,)\n",
    "type(num)"
   ]
  },
  {
   "cell_type": "markdown",
   "id": "fc9d88a7",
   "metadata": {},
   "source": [
    "mutable - can be changed or modified\n",
    "\n",
    "immutable - can't changed or modified"
   ]
  },
  {
   "cell_type": "code",
   "execution_count": 8,
   "id": "334e76fe",
   "metadata": {},
   "outputs": [
    {
     "data": {
      "text/plain": [
       "2"
      ]
     },
     "execution_count": 8,
     "metadata": {},
     "output_type": "execute_result"
    }
   ],
   "source": [
    "len(tple1)"
   ]
  },
  {
   "cell_type": "code",
   "execution_count": 13,
   "id": "6f4a20b6",
   "metadata": {},
   "outputs": [
    {
     "name": "stdout",
     "output_type": "stream",
     "text": [
      "3\n"
     ]
    },
    {
     "data": {
      "text/plain": [
       "tuple"
      ]
     },
     "execution_count": 13,
     "metadata": {},
     "output_type": "execute_result"
    }
   ],
   "source": [
    "num = (10,20,30)\n",
    "print(len(num))\n",
    "type(num)"
   ]
  },
  {
   "cell_type": "code",
   "execution_count": 10,
   "id": "dba7873c",
   "metadata": {},
   "outputs": [
    {
     "data": {
      "text/plain": [
       "10"
      ]
     },
     "execution_count": 10,
     "metadata": {},
     "output_type": "execute_result"
    }
   ],
   "source": [
    "num[0]"
   ]
  },
  {
   "cell_type": "code",
   "execution_count": 14,
   "id": "1b9797e9",
   "metadata": {},
   "outputs": [
    {
     "data": {
      "text/plain": [
       "(10, 20)"
      ]
     },
     "execution_count": 14,
     "metadata": {},
     "output_type": "execute_result"
    }
   ],
   "source": [
    "num[0:2]"
   ]
  },
  {
   "cell_type": "markdown",
   "id": "f421f4f2",
   "metadata": {},
   "source": [
    "touple does not support item assignment"
   ]
  },
  {
   "cell_type": "code",
   "execution_count": 15,
   "id": "57050d78",
   "metadata": {},
   "outputs": [
    {
     "ename": "TypeError",
     "evalue": "'tuple' object does not support item assignment",
     "output_type": "error",
     "traceback": [
      "\u001b[0;31m---------------------------------------------------------------------------\u001b[0m",
      "\u001b[0;31mTypeError\u001b[0m                                 Traceback (most recent call last)",
      "Cell \u001b[0;32mIn[15], line 1\u001b[0m\n\u001b[0;32m----> 1\u001b[0m num[\u001b[38;5;241m0\u001b[39m] \u001b[38;5;241m=\u001b[39m \u001b[38;5;241m100\u001b[39m\n",
      "\u001b[0;31mTypeError\u001b[0m: 'tuple' object does not support item assignment"
     ]
    }
   ],
   "source": [
    "num[0] = 100 "
   ]
  },
  {
   "cell_type": "code",
   "execution_count": 16,
   "id": "ae2731a8",
   "metadata": {},
   "outputs": [
    {
     "data": {
      "text/plain": [
       "(10, 20, 30)"
      ]
     },
     "execution_count": 16,
     "metadata": {},
     "output_type": "execute_result"
    }
   ],
   "source": [
    "num[::]"
   ]
  },
  {
   "cell_type": "code",
   "execution_count": 19,
   "id": "763ebd66",
   "metadata": {},
   "outputs": [
    {
     "data": {
      "text/plain": [
       "([10, 20, 30], [20, 45, 60])"
      ]
     },
     "execution_count": 19,
     "metadata": {},
     "output_type": "execute_result"
    }
   ],
   "source": [
    "tople1 = ([10,20,30,],[20,45,60])\n",
    "tople1"
   ]
  },
  {
   "cell_type": "code",
   "execution_count": 20,
   "id": "b2ca74f4",
   "metadata": {},
   "outputs": [
    {
     "data": {
      "text/plain": [
       "([10, 20, 30, 100], [20, 45, 60])"
      ]
     },
     "execution_count": 20,
     "metadata": {},
     "output_type": "execute_result"
    }
   ],
   "source": [
    "tople1[0].append(100)\n",
    "tople1"
   ]
  },
  {
   "cell_type": "code",
   "execution_count": 29,
   "id": "3287a072",
   "metadata": {},
   "outputs": [
    {
     "data": {
      "text/plain": [
       "([200, 200, 100, 200, 200, 10, 20, 30, 100], [20, 45, 60, 200])"
      ]
     },
     "execution_count": 29,
     "metadata": {},
     "output_type": "execute_result"
    }
   ],
   "source": [
    "tople1[0].insert(3,200)\n",
    "tople1"
   ]
  },
  {
   "cell_type": "markdown",
   "id": "f6b73592",
   "metadata": {},
   "source": [
    "# dictionary"
   ]
  },
  {
   "cell_type": "code",
   "execution_count": 30,
   "id": "78cbfbd4",
   "metadata": {},
   "outputs": [
    {
     "data": {
      "text/plain": [
       "dict"
      ]
     },
     "execution_count": 30,
     "metadata": {},
     "output_type": "execute_result"
    }
   ],
   "source": [
    "dict1 = {}\n",
    "type(dict1)"
   ]
  },
  {
   "cell_type": "code",
   "execution_count": null,
   "id": "3e2fd8d5",
   "metadata": {},
   "outputs": [],
   "source": [
    "W1 : M1,M2\n",
    "W2 : M2\n",
    "W3 : M3\n",
    "key: value    "
   ]
  },
  {
   "cell_type": "code",
   "execution_count": 31,
   "id": "d264716e",
   "metadata": {},
   "outputs": [
    {
     "data": {
      "text/plain": [
       "{'W!': ['M1', 'M2'], 'W2': 'M2', 'W3': 'M3'}"
      ]
     },
     "execution_count": 31,
     "metadata": {},
     "output_type": "execute_result"
    }
   ],
   "source": [
    "Dist = {'W!':['M1','M2'],'W2':'M2','W3':'M3'}\n",
    "Dist"
   ]
  },
  {
   "cell_type": "code",
   "execution_count": 32,
   "id": "531d13c9",
   "metadata": {},
   "outputs": [
    {
     "data": {
      "text/plain": [
       "3"
      ]
     },
     "execution_count": 32,
     "metadata": {},
     "output_type": "execute_result"
    }
   ],
   "source": [
    "len(Dist)"
   ]
  },
  {
   "cell_type": "code",
   "execution_count": 33,
   "id": "f807f36f",
   "metadata": {},
   "outputs": [
    {
     "name": "stdout",
     "output_type": "stream",
     "text": [
      "John\n",
      "30\n",
      "31\n",
      "{'name': 'John', 'age': 31, 'city': 'New York', 'occupation': 'Engineer'}\n",
      "{'name': 'John', 'age': 31, 'occupation': 'Engineer'}\n",
      "Name is present in the dictionary\n"
     ]
    }
   ],
   "source": [
    "# Creating a dictionary\n",
    "my_dict = {\"name\": \"John\", \"age\": 30, \"city\": \"New York\"}\n",
    "\n",
    "# Accessing values in the dictionary\n",
    "print(my_dict[\"name\"])  # Output: John\n",
    "print(my_dict[\"age\"])  # Output: 30\n",
    "\n",
    "# Modifying values in the dictionary\n",
    "my_dict[\"age\"] = 31\n",
    "print(my_dict[\"age\"])  # Output: 31\n",
    "\n",
    "# Adding new key-value pairs\n",
    "my_dict[\"occupation\"] = \"Engineer\"\n",
    "print(my_dict)  # Output: {\"name\": \"John\", \"age\": 31, \"city\": \"New York\", \"occupation\": \"Engineer\"}\n",
    "\n",
    "# Removing a key-value pair\n",
    "del my_dict[\"city\"]\n",
    "print(my_dict)  # Output: {\"name\": \"John\", \"age\": 31, \"occupation\": \"Engineer\"}\n",
    "\n",
    "# Checking if a key exists in the dictionary\n",
    "if \"name\" in my_dict:\n",
    "    print(\"Name is present in the dictionary\")\n"
   ]
  },
  {
   "cell_type": "code",
   "execution_count": 34,
   "id": "594f48bc",
   "metadata": {},
   "outputs": [
    {
     "data": {
      "text/plain": [
       "{'Girls': ['g1', 'g2', 'g3'], 'boys': ['b1', 'b2', 'b3']}"
      ]
     },
     "execution_count": 34,
     "metadata": {},
     "output_type": "execute_result"
    }
   ],
   "source": [
    "classroom = {'Girls':['g1','g2','g3'],'boys':['b1','b2','b3']}\n",
    "classroom"
   ]
  },
  {
   "cell_type": "code",
   "execution_count": 35,
   "id": "076fed11",
   "metadata": {},
   "outputs": [
    {
     "data": {
      "text/plain": [
       "2"
      ]
     },
     "execution_count": 35,
     "metadata": {},
     "output_type": "execute_result"
    }
   ],
   "source": [
    "len(classroom)"
   ]
  },
  {
   "cell_type": "code",
   "execution_count": 36,
   "id": "954530e9",
   "metadata": {},
   "outputs": [
    {
     "data": {
      "text/plain": [
       "dict_items([('Girls', ['g1', 'g2', 'g3']), ('boys', ['b1', 'b2', 'b3'])])"
      ]
     },
     "execution_count": 36,
     "metadata": {},
     "output_type": "execute_result"
    }
   ],
   "source": [
    "classroom.items()"
   ]
  },
  {
   "cell_type": "code",
   "execution_count": 37,
   "id": "01e8dca4",
   "metadata": {},
   "outputs": [
    {
     "data": {
      "text/plain": [
       "dict_keys(['Girls', 'boys'])"
      ]
     },
     "execution_count": 37,
     "metadata": {},
     "output_type": "execute_result"
    }
   ],
   "source": [
    "classroom.keys()"
   ]
  },
  {
   "cell_type": "code",
   "execution_count": 38,
   "id": "c6effcbd",
   "metadata": {},
   "outputs": [
    {
     "data": {
      "text/plain": [
       "dict_values([['g1', 'g2', 'g3'], ['b1', 'b2', 'b3']])"
      ]
     },
     "execution_count": 38,
     "metadata": {},
     "output_type": "execute_result"
    }
   ],
   "source": [
    "classroom.values()"
   ]
  },
  {
   "cell_type": "markdown",
   "id": "256dfca3",
   "metadata": {},
   "source": [
    "keys can be:\n",
    "    int\n",
    "    float\n",
    "    string\n",
    "    duplicated not allowed\n",
    "    \n",
    "values can be:\n",
    "    int\n",
    "    float\n",
    "    str\n",
    "    list\n",
    "    set\n",
    "    tuple\n",
    "    dist"
   ]
  },
  {
   "cell_type": "code",
   "execution_count": null,
   "id": "8d358eb4",
   "metadata": {},
   "outputs": [],
   "source": []
  },
  {
   "cell_type": "code",
   "execution_count": null,
   "id": "41f67772",
   "metadata": {},
   "outputs": [],
   "source": []
  }
 ],
 "metadata": {
  "kernelspec": {
   "display_name": "Python 3 (ipykernel)",
   "language": "python",
   "name": "python3"
  },
  "language_info": {
   "codemirror_mode": {
    "name": "ipython",
    "version": 3
   },
   "file_extension": ".py",
   "mimetype": "text/x-python",
   "name": "python",
   "nbconvert_exporter": "python",
   "pygments_lexer": "ipython3",
   "version": "3.10.9"
  }
 },
 "nbformat": 4,
 "nbformat_minor": 5
}
