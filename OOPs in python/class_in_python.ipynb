{
 "cells": [
  {
   "cell_type": "markdown",
   "id": "27229a1c",
   "metadata": {},
   "source": [
    "##What Is Object-Oriented Programming in Python?\n",
    "\n",
    "        Define a Class in Python Classes vs Instances How to Define a ClassInstantiate an           Object in Python\n",
    "        Class and Instance Attributes\n",
    "        Instance Methods\n",
    "        Check Your Understanding\n",
    "        Inherit From Other Classes in Python\n",
    "        Dog Park Example\n",
    "        Parent Classes vs Child Classes\n",
    "        Extend the Functionality of a Parent Class\n",
    "        Check Your Understanding\n",
    "        Conclusion\n",
    "        Remove ads\n",
    "        Watch Now This tutorial has a related video course created by the Real Python               team. Watch it together with the written tutorial to deepen your understanding:             Intro to Object-Oriented Programming (OOP) in Python\n",
    "\n",
    "        Object-oriented programming (OOP) is a method of structuring a program by bundling         related properties and behaviors into individual objects. In this tutorial, you’ll         learn the basics of object-oriented programming in Python.\n",
    "\n",
    "        Conceptually, objects are like the components of a system. Think of a program as a         factory assembly line of sorts. At each step of the assembly line a system                 component processes some material, ultimately transforming raw material into a             finished product.\n",
    "\n",
    "        An object contains data, like the raw or preprocessed materials at each step on an         assembly line, and behavior, like the action each assembly line component performs.\n",
    "\n",
    "        In this tutorial, you’ll learn how to:\n",
    "\n",
    "        Create a class, which is like a blueprint for creating an object\n",
    "        Use classes to create new objects\n",
    "        Model systems with class inheritance\n",
    "        Note: This tutorial is adapted from the chapter “Object-Oriented Programming (OOP)”         in Python Basics: A Practical Introduction to Python 3.\n",
    "\n",
    "        The book uses Python’s built-in IDLE editor to create and edit Python files and             interact with the Python shell, so you will see occasional references to IDLE               throughout this tutorial. However, you should have no problems running the example         code from the editor and environment of your choice.\n",
    "\n",
    "        Free Bonus: Click here to get access to a free Python OOP Cheat Sheet that points           you to the best tutorials, videos, and books to learn more about Object-Oriented           Programming with Python.\n",
    "\n",
    "        What Is Object-Oriented Programming in Python?\n",
    "        Object-oriented programming is a programming paradigm that provides a means of              structuring programs so that properties and behaviors are bundled into individual          objects.\n",
    "\n",
    "        For instance, an object could represent a person with properties like a name, age,         and address and behaviors such as walking, talking, breathing, and running. Or it           could represent an email with properties like a recipient list, subject, and body           and behaviors like adding attachments and sending.\n",
    "\n",
    "        Put another way, object-oriented programming is an approach for modeling concrete,         real-world things, like cars, as well as relations between things, like companies           and employees, students and teachers, and so on. OOP models real-world entities as         software objects that have some data associated with them and can perform certain           functions.\n",
    "\n",
    "        Another common programming paradigm is procedural programming, which structures a           program like a recipe in that it provides a set of steps, in the form of functions         and code blocks, that flow sequentially in order to complete a task.\n",
    "\n",
    "        The key takeaway is that objects are at the center of object-oriented programming           in Python, not only representing the data, as in procedural programming, but in the         overall structure of the program as well.\n"
   ]
  },
  {
   "cell_type": "code",
   "execution_count": 1,
   "id": "eef8961a",
   "metadata": {},
   "outputs": [
    {
     "name": "stdout",
     "output_type": "stream",
     "text": [
      "nokia 16gb 5Tb\n"
     ]
    }
   ],
   "source": [
    "class Mobile():\n",
    "    def config(self):\n",
    "        print(\"nokia\",\"16gb\",\"5Tb\")\n",
    "        \n",
    "m = Mobile()\n",
    "m.config()"
   ]
  },
  {
   "cell_type": "code",
   "execution_count": null,
   "id": "d349b1ca",
   "metadata": {},
   "outputs": [],
   "source": [
    "def email_slicer(email):\n",
    "    try:\n",
    "        username, domain = email.split('@')\n",
    "        return username, domain\n",
    "    except ValueError:\n",
    "        return None, None\n",
    "\n",
    "def main():\n",
    "    email = input(\"Enter an email address: \")\n",
    "    username, domain = email_slicer(email)\n",
    "\n",
    "    if username and domain:\n",
    "        print(\"Username:\", username)\n",
    "        print(\"Domain:\", domain)\n",
    "    else:\n",
    "        print(\"Invalid email address!\")\n",
    "\n",
    "if __name__ == \"__main__\":\n",
    "    main()\n"
   ]
  },
  {
   "cell_type": "code",
   "execution_count": null,
   "id": "266b12a0",
   "metadata": {},
   "outputs": [],
   "source": [
    "class Man():\n",
    "    #class attributes\n",
    "    gender = 'Male'\n",
    "    #instence attributes\n",
    "    def __init__(self,name):\n",
    "        self.name = name\n",
    "shakil = Man(\"Shakil\")\n",
    "neloy = Man(\"Neloy\")\n",
    "# Accessing class attributes\n",
    "print(\"Shakil is a {}\".format(shakil.__class__.gender))\n",
    "\n",
    "# Accessing instance attributes\n",
    "print(\"My name is {}\".format(shakil.name))\n",
    "print(\"My name is {}\".format(neloy.name))\n"
   ]
  },
  {
   "cell_type": "code",
   "execution_count": null,
   "id": "9245bd89",
   "metadata": {},
   "outputs": [],
   "source": [
    "class Song():\n",
    "    genure = \"Pop\"\n",
    "    def __init__(self,name):\n",
    "        print(name)\n",
    "one = Song()\n",
    "one()"
   ]
  },
  {
   "cell_type": "code",
   "execution_count": null,
   "id": "eda917d1",
   "metadata": {},
   "outputs": [],
   "source": [
    "class Dog():\n",
    "    species = \"canis familiaris\"\n",
    "    def __init__(self,name,age):\n",
    "        self.name=name\n",
    "        self.age=age\n",
    "        #print(\"Name:\",name,\"\\nAge:\",age)\n",
    "arbit = Dog(\"arbit\",5)        "
   ]
  },
  {
   "cell_type": "code",
   "execution_count": null,
   "id": "37d4bec0",
   "metadata": {},
   "outputs": [],
   "source": [
    "class Mobile():\n",
    "    Type = \"Digital Device\"\n",
    "    def __init__(self,dname,dprice):\n",
    "        self.dname=dname\n",
    "        self.dprice=dprice\n",
    "        print(f\"Mobile : {dname}\\nPrice  : {dprice}\")\n",
    "xioami13=Mobile(\"Xioami 13\",250)\n",
    "OppoReno8T=Mobile(\"Oppo Reno 8T\",550)\n"
   ]
  },
  {
   "cell_type": "raw",
   "id": "92adf2e1",
   "metadata": {},
   "source": [
    "This is a problem.for rid of this instence call problem.We will use another method called Display()"
   ]
  },
  {
   "cell_type": "code",
   "execution_count": null,
   "id": "b2d9c945",
   "metadata": {},
   "outputs": [],
   "source": [
    "class Mobile():\n",
    "    Type = \"Digital Device\"\n",
    "    def __init__(self,dname,dprice):\n",
    "        self.dname=dname\n",
    "        self.dprice=dprice\n",
    "        def display(self):\n",
    "            print(f\"Mobile : {dname}\\nPrice  : {dprice}\")\n",
    "\n",
    "xioami13=Mobile(\"Xioami 13\",250)\n",
    "OppoReno8T=Mobile(\"Oppo Reno 8T\",550)\n"
   ]
  },
  {
   "cell_type": "code",
   "execution_count": 1,
   "id": "0fc2cd63",
   "metadata": {},
   "outputs": [
    {
     "name": "stdout",
     "output_type": "stream",
     "text": [
      "Fresh\n",
      "5\n"
     ]
    }
   ],
   "source": [
    "class Pen():\n",
    "    def __init__(self,name,price):\n",
    "        self.name=name\n",
    "        self.price=price\n",
    "        print(name)\n",
    "        print(price)\n",
    "\n",
    "Fresh=Pen(\"Fresh\",5)"
   ]
  },
  {
   "cell_type": "code",
   "execution_count": 2,
   "id": "f7ac2f9d",
   "metadata": {},
   "outputs": [
    {
     "data": {
      "text/plain": [
       "5"
      ]
     },
     "execution_count": 2,
     "metadata": {},
     "output_type": "execute_result"
    }
   ],
   "source": [
    "Fresh.price"
   ]
  },
  {
   "cell_type": "code",
   "execution_count": 3,
   "id": "94ca2ae2",
   "metadata": {},
   "outputs": [
    {
     "data": {
      "text/plain": [
       "'Fresh'"
      ]
     },
     "execution_count": 3,
     "metadata": {},
     "output_type": "execute_result"
    }
   ],
   "source": [
    "Fresh.name"
   ]
  },
  {
   "cell_type": "code",
   "execution_count": 1,
   "id": "a78138e2",
   "metadata": {},
   "outputs": [],
   "source": [
    "class Book():\n",
    "    title=\"Obey Book is the bestfriend\"\n",
    "    def __init__(self,name,author):\n",
    "        self.name=name\n",
    "        self.author=author\n",
    "    def display(self):\n",
    "        print(f\"name :{name}\\nAuthor :{author}\")\n"
   ]
  },
  {
   "cell_type": "code",
   "execution_count": 2,
   "id": "99ef28c5",
   "metadata": {},
   "outputs": [],
   "source": [
    "import random\n",
    "import time\n",
    "import tkinter as tk\n",
    "\n",
    "class TypingSpeedTest:\n",
    "    def __init__(self, root):\n",
    "        self.root = root\n",
    "        self.root.title(\"Typing Speed Test\")\n",
    "        self.root.geometry(\"500x300\")\n",
    "\n",
    "        self.words = [\"python\", \"coding\", \"challenge\", \"typing\", \"speed\", \"test\", \"openai\", \"gpt\", \"project\", \"language\"]\n",
    "        self.current_word = \"\"\n",
    "        self.typing_start_time = None\n",
    "\n",
    "        self.label = tk.Label(self.root, text=\"Press 'Start' to begin the typing test!\", font=(\"Helvetica\", 14))\n",
    "        self.label.pack(pady=20)\n",
    "\n",
    "        self.text_entry = tk.Entry(self.root, font=(\"Helvetica\", 14))\n",
    "        self.text_entry.pack(pady=20)\n",
    "\n",
    "        self.start_button = tk.Button(self.root, text=\"Start\", command=self.start_typing_test)\n",
    "        self.start_button.pack(pady=10)\n",
    "\n",
    "    def start_typing_test(self):\n",
    "        self.current_word = random.choice(self.words)\n",
    "        self.label.config(text=self.current_word, fg=\"black\")\n",
    "        self.text_entry.delete(0, tk.END)\n",
    "        self.typing_start_time = time.time()\n",
    "        self.text_entry.bind(\"<Return>\", self.check_typing)\n",
    "\n",
    "    def check_typing(self, event):\n",
    "        user_input = self.text_entry.get().strip()\n",
    "        if user_input == self.current_word:\n",
    "            typing_time = time.time() - self.typing_start_time\n",
    "            self.label.config(text=f\"Your typing speed: {len(self.current_word)/typing_time:.2f} WPM\", fg=\"green\")\n",
    "        else:\n",
    "            self.label.config(text=\"Incorrect! Try again.\", fg=\"red\")\n",
    "\n",
    "        self.text_entry.unbind(\"<Return>\")\n",
    "        self.start_button.config(text=\"Restart\", command=self.restart_typing_test)\n",
    "\n",
    "    def restart_typing_test(self):\n",
    "        self.label.config(text=\"Press 'Start' to begin the typing test!\", fg=\"black\")\n",
    "        self.start_button.config(text=\"Start\", command=self.start_typing_test)\n",
    "\n",
    "if __name__ == \"__main__\":\n",
    "    root = tk.Tk()\n",
    "    typing_test = TypingSpeedTest(root)\n",
    "    root.mainloop()\n"
   ]
  },
  {
   "cell_type": "code",
   "execution_count": 4,
   "id": "c80fc9cb",
   "metadata": {},
   "outputs": [],
   "source": [
    "import tkinter as tk\n",
    "import random\n",
    "import time\n",
    "\n",
    "class TypingSpeedTestApp:\n",
    "    def __init__(self, root):\n",
    "        self.root = root\n",
    "        self.root.title(\"Typing Speed Test\")\n",
    "        self.text_to_type = \"\"\n",
    "        self.user_input = \"\"\n",
    "        self.start_time = 0\n",
    "        self.create_widgets()\n",
    "\n",
    "    def create_widgets(self):\n",
    "        self.text_label = tk.Label(self.root, text=\"Start typing:\")\n",
    "        self.text_label.pack(pady=10)\n",
    "\n",
    "        self.text_display = tk.Label(self.root, text=\"\")\n",
    "        self.text_display.pack()\n",
    "\n",
    "        self.user_input_entry = tk.Entry(self.root, width=50)\n",
    "        self.user_input_entry.pack(pady=10)\n",
    "\n",
    "        self.start_button = tk.Button(self.root, text=\"Start Test\", command=self.start_test)\n",
    "        self.start_button.pack(pady=10)\n",
    "\n",
    "        self.results_label = tk.Label(self.root, text=\"\", font=(\"Arial\", 12, \"bold\"))\n",
    "        self.results_label.pack(pady=10)\n",
    "\n",
    "    def generate_random_text(self):\n",
    "        word_list = [\"Python\", \"is\", \"a\", \"powerful\", \"and\", \"flexible\", \"programming\", \"language\", \"for\", \"general-purpose\", \"use.\"]\n",
    "        self.text_to_type = \" \".join(random.choices(word_list, k=20))\n",
    "        self.text_display.config(text=self.text_to_type)\n",
    "\n",
    "    def start_test(self):\n",
    "        self.user_input = \"\"\n",
    "        self.generate_random_text()\n",
    "        self.user_input_entry.delete(0, tk.END)\n",
    "        self.user_input_entry.focus()\n",
    "        self.start_time = time.time()\n",
    "        self.start_button.config(state=tk.DISABLED)\n",
    "        self.user_input_entry.config(state=tk.NORMAL)\n",
    "        self.user_input_entry.bind(\"<Return>\", self.check_result)\n",
    "\n",
    "    def check_result(self, event):\n",
    "        self.user_input = self.user_input_entry.get()\n",
    "        self.user_input_entry.config(state=tk.DISABLED)\n",
    "        self.end_time = time.time()\n",
    "        self.calculate_results()\n",
    "\n",
    "    def calculate_results(self):\n",
    "        words_per_minute = len(self.user_input.split()) / ((self.end_time - self.start_time) / 60)\n",
    "        accuracy = self.calculate_accuracy()\n",
    "\n",
    "        results_text = f\"Typing Speed: {words_per_minute:.2f} WPM\\nAccuracy: {accuracy:.2f}%\"\n",
    "        self.results_label.config(text=results_text)\n",
    "        self.start_button.config(state=tk.NORMAL)\n",
    "\n",
    "    def calculate_accuracy(self):\n",
    "        correct_chars = sum(1 for i, char in enumerate(self.text_to_type) if char == self.user_input[i])\n",
    "        accuracy = (correct_chars / len(self.text_to_type)) * 100\n",
    "        return accuracy\n",
    "\n",
    "if __name__ == \"__main__\":\n",
    "    root = tk.Tk()\n",
    "    app = TypingSpeedTestApp(root)\n",
    "    root.mainloop()\n"
   ]
  },
  {
   "cell_type": "code",
   "execution_count": 5,
   "id": "8c897633",
   "metadata": {},
   "outputs": [],
   "source": [
    "import tkinter as tk\n",
    "import random\n",
    "import time\n",
    "\n",
    "class TypingSpeedTestApp:\n",
    "    def __init__(self, root):\n",
    "        self.root = root\n",
    "        self.root.title(\"Typing Speed Test\")\n",
    "        self.text_to_type = \"\"\n",
    "        self.user_input = \"\"\n",
    "        self.start_time = 0\n",
    "        self.create_widgets()\n",
    "\n",
    "    def create_widgets(self):\n",
    "        self.text_label = tk.Label(self.root, text=\"Start typing:\", font=(\"Arial\", 14))\n",
    "        self.text_label.pack(pady=10)\n",
    "\n",
    "        self.text_display = tk.Label(self.root, text=\"\", font=(\"Arial\", 12), wraplength=400)\n",
    "        self.text_display.pack()\n",
    "\n",
    "        self.user_input_entry = tk.Entry(self.root, width=50, font=(\"Arial\", 12))\n",
    "        self.user_input_entry.pack(pady=10)\n",
    "\n",
    "        self.start_button = tk.Button(self.root, text=\"Start Test\", font=(\"Arial\", 12, \"bold\"), command=self.start_test)\n",
    "        self.start_button.pack(pady=10)\n",
    "\n",
    "        self.results_label = tk.Label(self.root, text=\"\", font=(\"Arial\", 16, \"bold\"))\n",
    "        self.results_label.pack(pady=20)\n",
    "\n",
    "    def generate_random_text(self):\n",
    "        word_list = [\"Python\", \"is\", \"a\", \"powerful\", \"and\", \"flexible\", \"programming\", \"language\", \"for\", \"general-purpose\", \"use.\"]\n",
    "        self.text_to_type = \" \".join(random.choices(word_list, k=20))\n",
    "        self.text_display.config(text=self.text_to_type)\n",
    "\n",
    "    def start_test(self):\n",
    "        self.user_input = \"\"\n",
    "        self.generate_random_text()\n",
    "        self.user_input_entry.delete(0, tk.END)\n",
    "        self.user_input_entry.focus()\n",
    "        self.start_time = time.time()\n",
    "        self.start_button.config(state=tk.DISABLED)\n",
    "        self.user_input_entry.config(state=tk.NORMAL)\n",
    "        self.user_input_entry.bind(\"<Return>\", self.check_result)\n",
    "\n",
    "    def check_result(self, event):\n",
    "        self.user_input = self.user_input_entry.get()\n",
    "        self.user_input_entry.config(state=tk.DISABLED)\n",
    "        self.end_time = time.time()\n",
    "        self.calculate_results()\n",
    "\n",
    "    def calculate_results(self):\n",
    "        words_per_minute = len(self.user_input.split()) / ((self.end_time - self.start_time) / 60)\n",
    "        accuracy, typing_errors = self.calculate_accuracy_and_errors()\n",
    "\n",
    "        results_text = f\"Typing Speed: {words_per_minute:.2f} WPM\\n\"\n",
    "        results_text += f\"Accuracy: {accuracy:.2f}%\\n\"\n",
    "        results_text += f\"Typing Errors: {typing_errors}\"\n",
    "        self.results_label.config(text=results_text)\n",
    "        self.start_button.config(state=tk.NORMAL)\n",
    "\n",
    "    def calculate_accuracy_and_errors(self):\n",
    "        correct_chars = sum(1 for i, char in enumerate(self.text_to_type) if char == self.user_input[i])\n",
    "        accuracy = (correct_chars / len(self.text_to_type)) * 100\n",
    "\n",
    "        typing_errors = 0\n",
    "        for i in range(min(len(self.text_to_type), len(self.user_input))):\n",
    "            if self.text_to_type[i] != self.user_input[i]:\n",
    "                typing_errors += 1\n",
    "\n",
    "        return accuracy, typing_errors\n",
    "\n",
    "if __name__ == \"__main__\":\n",
    "    root = tk.Tk()\n",
    "    app = TypingSpeedTestApp(root)\n",
    "    root.mainloop()\n"
   ]
  },
  {
   "cell_type": "raw",
   "id": "0da74703",
   "metadata": {},
   "source": [
    "bard"
   ]
  },
  {
   "cell_type": "code",
   "execution_count": 6,
   "id": "f2995911",
   "metadata": {},
   "outputs": [],
   "source": [
    "import tkinter as tk\n",
    "import random\n",
    "\n",
    "\n",
    "class TypingSpeedTest(tk.Frame):\n",
    "\n",
    "    def __init__(self, master):\n",
    "        super().__init__(master)\n",
    "        self.master = master\n",
    "        self.random_words = []\n",
    "        self.accuracy = 0\n",
    "        self.typing_errors = 0\n",
    "        self.start_time = None\n",
    "        self.end_time = None\n",
    "\n",
    "        self.setup_ui()\n",
    "\n",
    "    def setup_ui(self):\n",
    "        self.master.title(\"Typing Speed Test\")\n",
    "        self.pack(fill=tk.BOTH, expand=True)\n",
    "\n",
    "        self.generate_random_words()\n",
    "\n",
    "        self.text_input = tk.Entry(self)\n",
    "        self.text_input.pack(fill=tk.BOTH, expand=True)\n",
    "\n",
    "        self.start_button = tk.Button(self, text=\"Start\", command=self.start_typing_test)\n",
    "        self.start_button.pack()\n",
    "\n",
    "        self.stop_button = tk.Button(self, text=\"Stop\", command=self.stop_typing_test)\n",
    "        self.stop_button.pack()\n",
    "\n",
    "        self.accuracy_label = tk.Label(self, text=\"Accuracy: 0%\")\n",
    "        self.accuracy_label.pack()\n",
    "\n",
    "        self.typing_errors_label = tk.Label(self, text=\"Typing Errors: 0\")\n",
    "        self.typing_errors_label.pack()\n",
    "\n",
    "    def generate_random_words(self):\n",
    "        for _ in range(10):\n",
    "            word = \"\".join(random.choice(\"abcdefghijklmnopqrstuvwxyz\") for _ in range(10))\n",
    "            self.random_words.append(word)\n",
    "\n",
    "    def start_typing_test(self):\n",
    "        self.start_time = time.time()\n",
    "        self.text_input.focus()\n",
    "\n",
    "    def stop_typing_test(self):\n",
    "        self.end_time = time.time()\n",
    "        self.accuracy = (len(self.random_words) - self.typing_errors) / len(self.random_words) * 100\n",
    "        self.accuracy_label.configure(text=\"Accuracy: {:.2f}%\".format(self.accuracy))\n",
    "        self.typing_errors_label.configure(text=\"Typing Errors: {}\".format(self.typing_errors))\n",
    "\n",
    "\n",
    "if __name__ == \"__main__\":\n",
    "    root = tk.Tk()\n",
    "    TypingSpeedTest(root).mainloop()\n"
   ]
  },
  {
   "cell_type": "code",
   "execution_count": null,
   "id": "e63643ae",
   "metadata": {},
   "outputs": [],
   "source": []
  },
  {
   "cell_type": "code",
   "execution_count": 7,
   "id": "7a8823a3",
   "metadata": {},
   "outputs": [
    {
     "ename": "TclError",
     "evalue": "couldn't open \"background_image.png\": no such file or directory",
     "output_type": "error",
     "traceback": [
      "\u001b[0;31m---------------------------------------------------------------------------\u001b[0m",
      "\u001b[0;31mTclError\u001b[0m                                  Traceback (most recent call last)",
      "Cell \u001b[0;32mIn[7], line 76\u001b[0m\n\u001b[1;32m     74\u001b[0m \u001b[38;5;28;01mif\u001b[39;00m \u001b[38;5;18m__name__\u001b[39m \u001b[38;5;241m==\u001b[39m \u001b[38;5;124m\"\u001b[39m\u001b[38;5;124m__main__\u001b[39m\u001b[38;5;124m\"\u001b[39m:\n\u001b[1;32m     75\u001b[0m     root \u001b[38;5;241m=\u001b[39m tk\u001b[38;5;241m.\u001b[39mTk()\n\u001b[0;32m---> 76\u001b[0m     app \u001b[38;5;241m=\u001b[39m \u001b[43mTypingSpeedTestApp\u001b[49m\u001b[43m(\u001b[49m\u001b[43mroot\u001b[49m\u001b[43m)\u001b[49m\n\u001b[1;32m     77\u001b[0m     root\u001b[38;5;241m.\u001b[39mmainloop()\n",
      "Cell \u001b[0;32mIn[7], line 13\u001b[0m, in \u001b[0;36mTypingSpeedTestApp.__init__\u001b[0;34m(self, root)\u001b[0m\n\u001b[1;32m     11\u001b[0m \u001b[38;5;28mself\u001b[39m\u001b[38;5;241m.\u001b[39muser_input \u001b[38;5;241m=\u001b[39m \u001b[38;5;124m\"\u001b[39m\u001b[38;5;124m\"\u001b[39m\n\u001b[1;32m     12\u001b[0m \u001b[38;5;28mself\u001b[39m\u001b[38;5;241m.\u001b[39mstart_time \u001b[38;5;241m=\u001b[39m \u001b[38;5;241m0\u001b[39m\n\u001b[0;32m---> 13\u001b[0m \u001b[38;5;28;43mself\u001b[39;49m\u001b[38;5;241;43m.\u001b[39;49m\u001b[43mcreate_widgets\u001b[49m\u001b[43m(\u001b[49m\u001b[43m)\u001b[49m\n",
      "Cell \u001b[0;32mIn[7], line 20\u001b[0m, in \u001b[0;36mTypingSpeedTestApp.create_widgets\u001b[0;34m(self)\u001b[0m\n\u001b[1;32m     17\u001b[0m \u001b[38;5;28mself\u001b[39m\u001b[38;5;241m.\u001b[39mfont \u001b[38;5;241m=\u001b[39m (\u001b[38;5;124m\"\u001b[39m\u001b[38;5;124mPoppins\u001b[39m\u001b[38;5;124m\"\u001b[39m, \u001b[38;5;241m12\u001b[39m)\n\u001b[1;32m     19\u001b[0m \u001b[38;5;66;03m# Background image (replace with your own image path)\u001b[39;00m\n\u001b[0;32m---> 20\u001b[0m \u001b[38;5;28mself\u001b[39m\u001b[38;5;241m.\u001b[39mbackground_image \u001b[38;5;241m=\u001b[39m \u001b[43mtk\u001b[49m\u001b[38;5;241;43m.\u001b[39;49m\u001b[43mPhotoImage\u001b[49m\u001b[43m(\u001b[49m\u001b[43mfile\u001b[49m\u001b[38;5;241;43m=\u001b[39;49m\u001b[38;5;124;43m\"\u001b[39;49m\u001b[38;5;124;43mbackground_image.png\u001b[39;49m\u001b[38;5;124;43m\"\u001b[39;49m\u001b[43m)\u001b[49m\n\u001b[1;32m     21\u001b[0m \u001b[38;5;28mself\u001b[39m\u001b[38;5;241m.\u001b[39mbackground_label \u001b[38;5;241m=\u001b[39m tk\u001b[38;5;241m.\u001b[39mLabel(\u001b[38;5;28mself\u001b[39m\u001b[38;5;241m.\u001b[39mroot, image\u001b[38;5;241m=\u001b[39m\u001b[38;5;28mself\u001b[39m\u001b[38;5;241m.\u001b[39mbackground_image)\n\u001b[1;32m     22\u001b[0m \u001b[38;5;28mself\u001b[39m\u001b[38;5;241m.\u001b[39mbackground_label\u001b[38;5;241m.\u001b[39mplace(x\u001b[38;5;241m=\u001b[39m\u001b[38;5;241m0\u001b[39m, y\u001b[38;5;241m=\u001b[39m\u001b[38;5;241m0\u001b[39m, relwidth\u001b[38;5;241m=\u001b[39m\u001b[38;5;241m1\u001b[39m, relheight\u001b[38;5;241m=\u001b[39m\u001b[38;5;241m1\u001b[39m)\n",
      "File \u001b[0;32m~/anaconda3/lib/python3.10/tkinter/__init__.py:4103\u001b[0m, in \u001b[0;36mPhotoImage.__init__\u001b[0;34m(self, name, cnf, master, **kw)\u001b[0m\n\u001b[1;32m   4098\u001b[0m \u001b[38;5;28;01mdef\u001b[39;00m \u001b[38;5;21m__init__\u001b[39m(\u001b[38;5;28mself\u001b[39m, name\u001b[38;5;241m=\u001b[39m\u001b[38;5;28;01mNone\u001b[39;00m, cnf\u001b[38;5;241m=\u001b[39m{}, master\u001b[38;5;241m=\u001b[39m\u001b[38;5;28;01mNone\u001b[39;00m, \u001b[38;5;241m*\u001b[39m\u001b[38;5;241m*\u001b[39mkw):\n\u001b[1;32m   4099\u001b[0m     \u001b[38;5;124;03m\"\"\"Create an image with NAME.\u001b[39;00m\n\u001b[1;32m   4100\u001b[0m \n\u001b[1;32m   4101\u001b[0m \u001b[38;5;124;03m    Valid resource names: data, format, file, gamma, height, palette,\u001b[39;00m\n\u001b[1;32m   4102\u001b[0m \u001b[38;5;124;03m    width.\"\"\"\u001b[39;00m\n\u001b[0;32m-> 4103\u001b[0m     \u001b[43mImage\u001b[49m\u001b[38;5;241;43m.\u001b[39;49m\u001b[38;5;21;43m__init__\u001b[39;49m\u001b[43m(\u001b[49m\u001b[38;5;28;43mself\u001b[39;49m\u001b[43m,\u001b[49m\u001b[43m \u001b[49m\u001b[38;5;124;43m'\u001b[39;49m\u001b[38;5;124;43mphoto\u001b[39;49m\u001b[38;5;124;43m'\u001b[39;49m\u001b[43m,\u001b[49m\u001b[43m \u001b[49m\u001b[43mname\u001b[49m\u001b[43m,\u001b[49m\u001b[43m \u001b[49m\u001b[43mcnf\u001b[49m\u001b[43m,\u001b[49m\u001b[43m \u001b[49m\u001b[43mmaster\u001b[49m\u001b[43m,\u001b[49m\u001b[43m \u001b[49m\u001b[38;5;241;43m*\u001b[39;49m\u001b[38;5;241;43m*\u001b[39;49m\u001b[43mkw\u001b[49m\u001b[43m)\u001b[49m\n",
      "File \u001b[0;32m~/anaconda3/lib/python3.10/tkinter/__init__.py:4048\u001b[0m, in \u001b[0;36mImage.__init__\u001b[0;34m(self, imgtype, name, cnf, master, **kw)\u001b[0m\n\u001b[1;32m   4046\u001b[0m         v \u001b[38;5;241m=\u001b[39m \u001b[38;5;28mself\u001b[39m\u001b[38;5;241m.\u001b[39m_register(v)\n\u001b[1;32m   4047\u001b[0m     options \u001b[38;5;241m=\u001b[39m options \u001b[38;5;241m+\u001b[39m (\u001b[38;5;124m'\u001b[39m\u001b[38;5;124m-\u001b[39m\u001b[38;5;124m'\u001b[39m\u001b[38;5;241m+\u001b[39mk, v)\n\u001b[0;32m-> 4048\u001b[0m \u001b[38;5;28;43mself\u001b[39;49m\u001b[38;5;241;43m.\u001b[39;49m\u001b[43mtk\u001b[49m\u001b[38;5;241;43m.\u001b[39;49m\u001b[43mcall\u001b[49m\u001b[43m(\u001b[49m\u001b[43m(\u001b[49m\u001b[38;5;124;43m'\u001b[39;49m\u001b[38;5;124;43mimage\u001b[39;49m\u001b[38;5;124;43m'\u001b[39;49m\u001b[43m,\u001b[49m\u001b[43m \u001b[49m\u001b[38;5;124;43m'\u001b[39;49m\u001b[38;5;124;43mcreate\u001b[39;49m\u001b[38;5;124;43m'\u001b[39;49m\u001b[43m,\u001b[49m\u001b[43m \u001b[49m\u001b[43mimgtype\u001b[49m\u001b[43m,\u001b[49m\u001b[43m \u001b[49m\u001b[43mname\u001b[49m\u001b[43m,\u001b[49m\u001b[43m)\u001b[49m\u001b[43m \u001b[49m\u001b[38;5;241;43m+\u001b[39;49m\u001b[43m \u001b[49m\u001b[43moptions\u001b[49m\u001b[43m)\u001b[49m\n\u001b[1;32m   4049\u001b[0m \u001b[38;5;28mself\u001b[39m\u001b[38;5;241m.\u001b[39mname \u001b[38;5;241m=\u001b[39m name\n",
      "\u001b[0;31mTclError\u001b[0m: couldn't open \"background_image.png\": no such file or directory"
     ]
    }
   ],
   "source": [
    "import tkinter as tk\n",
    "import random\n",
    "import time\n",
    "from tkinter import messagebox\n",
    "\n",
    "class TypingSpeedTestApp:\n",
    "    def __init__(self, root):\n",
    "        self.root = root\n",
    "        self.root.title(\"Typing Speed Test\")\n",
    "        self.text_to_type = \"\"\n",
    "        self.user_input = \"\"\n",
    "        self.start_time = 0\n",
    "        self.create_widgets()\n",
    "\n",
    "    def create_widgets(self):\n",
    "        # Load Poppins font (make sure you have the font file in the same directory)\n",
    "        self.font = (\"Poppins\", 12)\n",
    "\n",
    "        # Background image (replace with your own image path)\n",
    "        self.background_image = tk.PhotoImage(file=\"background_image.png\")\n",
    "        self.background_label = tk.Label(self.root, image=self.background_image)\n",
    "        self.background_label.place(x=0, y=0, relwidth=1, relheight=1)\n",
    "\n",
    "        self.text_label = tk.Label(self.root, text=\"Start typing:\", font=self.font, bg=\"white\")\n",
    "        self.text_label.pack(pady=10)\n",
    "\n",
    "        self.text_display = tk.Label(self.root, text=\"\", font=self.font, bg=\"white\")\n",
    "        self.text_display.pack()\n",
    "\n",
    "        self.user_input_entry = tk.Entry(self.root, width=50, font=self.font)\n",
    "        self.user_input_entry.pack(pady=10)\n",
    "\n",
    "        self.start_button = tk.Button(self.root, text=\"Start Test\", font=self.font, command=self.start_test)\n",
    "        self.start_button.pack(pady=10)\n",
    "\n",
    "        self.results_label = tk.Label(self.root, font=(\"Poppins\", 14, \"bold\"))\n",
    "        self.results_label.pack(pady=10)\n",
    "\n",
    "    def generate_random_text(self):\n",
    "        word_list = [\"Python\", \"is\", \"a\", \"powerful\", \"and\", \"flexible\", \"programming\", \"language\", \"for\", \"general-purpose\", \"use.\"]\n",
    "        self.text_to_type = \" \".join(random.choices(word_list, k=20))\n",
    "        self.text_display.config(text=self.text_to_type)\n",
    "\n",
    "    def start_test(self):\n",
    "        self.user_input = \"\"\n",
    "        self.generate_random_text()\n",
    "        self.user_input_entry.delete(0, tk.END)\n",
    "        self.user_input_entry.focus()\n",
    "        self.start_time = time.time()\n",
    "        self.start_button.config(state=tk.DISABLED)\n",
    "        self.user_input_entry.config(state=tk.NORMAL)\n",
    "        self.user_input_entry.bind(\"<Return>\", self.check_result)\n",
    "\n",
    "    def check_result(self, event):\n",
    "        self.user_input = self.user_input_entry.get()\n",
    "        self.user_input_entry.config(state=tk.DISABLED)\n",
    "        self.end_time = time.time()\n",
    "        self.calculate_results()\n",
    "\n",
    "    def calculate_results(self):\n",
    "        words_per_minute = len(self.user_input.split()) / ((self.end_time - self.start_time) / 60)\n",
    "        accuracy, typing_error = self.calculate_accuracy_and_error()\n",
    "\n",
    "        results_text = f\"Typing Speed: {words_per_minute:.2f} WPM\\nAccuracy: {accuracy:.2f}%\\nTyping Error: {typing_error} characters\"\n",
    "        self.results_label.config(text=results_text)\n",
    "        self.start_button.config(state=tk.NORMAL)\n",
    "\n",
    "    def calculate_accuracy_and_error(self):\n",
    "        correct_chars = sum(1 for i, char in enumerate(self.text_to_type) if char == self.user_input[i])\n",
    "        accuracy = (correct_chars / len(self.text_to_type)) * 100\n",
    "        typing_error = max(0, len(self.text_to_type) - correct_chars)\n",
    "        return accuracy, typing_error\n",
    "\n",
    "if __name__ == \"__main__\":\n",
    "    root = tk.Tk()\n",
    "    app = TypingSpeedTestApp(root)\n",
    "    root.mainloop()\n"
   ]
  },
  {
   "cell_type": "code",
   "execution_count": 4,
   "id": "c9d2d7e6",
   "metadata": {},
   "outputs": [
    {
     "name": "stdout",
     "output_type": "stream",
     "text": [
      "After local assignment: test spam\n",
      "After nonlocal assignment: nonlocal spam\n",
      "After global assignment: nonlocal spam\n",
      "In global scope: global spam\n"
     ]
    }
   ],
   "source": [
    "def scope_test():\n",
    "    def do_local():\n",
    "        \n",
    "        spam = \"local spam\"\n",
    "\n",
    "    def do_nonlocal():\n",
    "        nonlocal spam\n",
    "        spam = \"nonlocal spam\"\n",
    "\n",
    "    def do_global():\n",
    "        global spam\n",
    "        spam = \"global spam\"\n",
    "\n",
    "    spam = \"test spam\"\n",
    "    do_local()\n",
    "    print(\"After local assignment:\", spam)\n",
    "    do_nonlocal()\n",
    "    print(\"After nonlocal assignment:\", spam)\n",
    "    do_global()\n",
    "    print(\"After global assignment:\", spam)\n",
    "\n",
    "scope_test()\n",
    "print(\"In global scope:\", spam)"
   ]
  },
  {
   "cell_type": "code",
   "execution_count": 7,
   "id": "12d6a427",
   "metadata": {},
   "outputs": [
    {
     "name": "stdout",
     "output_type": "stream",
     "text": [
      "<__main__.Book object at 0x7fcf46c26b30>\n"
     ]
    }
   ],
   "source": [
    "class Book:\n",
    "    def __init__(self, title, quantity, author, price):    \n",
    "        self.title = title\n",
    "        self.quantity = quantity\n",
    "        self.author = author\n",
    "        self.price = price\n",
    "book1=Book(\"Nii-fiction with love\",150,\"Humayun Ahmed\",120)\n",
    "print(book1)"
   ]
  },
  {
   "cell_type": "markdown",
   "id": "4918f835",
   "metadata": {},
   "source": [
    "    The class and memory location of the objects are printed when they are printed.\n",
    "    We can't expect them to provide specific information on the qualities, \n",
    "    such as the title, author name, and so on. But we can use a specific\n",
    "    method called __repr__ to do this.\n",
    "    \n",
    "    The class and memory location of the objects are printed when they are printed.\n",
    "    We can't expect them to provide specific information on the qualities, \n",
    "    such as the title, author name, and so on. But we can use a specific\n",
    "    method called __repr__ to do this.\n",
    "\n"
   ]
  },
  {
   "cell_type": "code",
   "execution_count": 15,
   "id": "f7aa667d",
   "metadata": {},
   "outputs": [
    {
     "name": "stdout",
     "output_type": "stream",
     "text": [
      "Book: Nii-fiction with love\n",
      "Quantity: 150\n",
      "Author: Humayun Ahmed\n",
      "Price: 120\n"
     ]
    }
   ],
   "source": [
    "class Book:\n",
    "    def __init__(self, title, quantity, author, price):    \n",
    "        self.title = title\n",
    "        self.quantity = quantity\n",
    "        self.author = author\n",
    "        self.price = price\n",
    "    def __repr__(self):\n",
    "        return f\"Book: {self.title}\\nQuantity: {self.quantity}\\nAuthor: {self.author}\\nPrice: {self.price}\"\n",
    "book1=Book(\"Nii-fiction with love\",150,\"Humayun Ahmed\",120)\n",
    "print(book1)"
   ]
  },
  {
   "cell_type": "code",
   "execution_count": null,
   "id": "2dda6d9b",
   "metadata": {},
   "outputs": [],
   "source": [
    "class language:\n",
    "    def __init__(self,name,age):\n",
    "        self.name=name\n",
    "        self.age=age\n",
    "    def __repr__(self):\n",
    "        return f\"{self.name} {self.age}\n"
   ]
  },
  {
   "cell_type": "code",
   "execution_count": 18,
   "id": "bb9aca7f",
   "metadata": {},
   "outputs": [
    {
     "data": {
      "text/plain": [
       "(3.0, -4.5)"
      ]
     },
     "execution_count": 18,
     "metadata": {},
     "output_type": "execute_result"
    }
   ],
   "source": [
    "class Complex:\n",
    "    def __init__(self, realpart, imagpart):\n",
    "        self.r = realpart\n",
    "        self.i = imagpart\n",
    "\n",
    "x = Complex(3.0, -4.5)\n",
    "x.r, x.i\n"
   ]
  },
  {
   "cell_type": "code",
   "execution_count": 30,
   "id": "e8cdc3fb",
   "metadata": {},
   "outputs": [
    {
     "data": {
      "text/plain": [
       "(10, -20)"
      ]
     },
     "execution_count": 30,
     "metadata": {},
     "output_type": "execute_result"
    }
   ],
   "source": [
    "class Multiplex:\n",
    "    def __init__(self,first_no,last_no):\n",
    "        self.f=first_no\n",
    "        self.l=last_no\n",
    "        \n",
    "a=Multiplex(10,-20)\n",
    "a.f,a.l\n"
   ]
  },
  {
   "cell_type": "code",
   "execution_count": 14,
   "id": "516e7d07",
   "metadata": {},
   "outputs": [
    {
     "name": "stdout",
     "output_type": "stream",
     "text": [
      "Name: Jimmy \n",
      "Sex: Male \n",
      "Profession: Artist\n",
      "\n",
      "Sujon Works at Student\n",
      "\n",
      "Name: Sujon \n",
      "Sex: Male \n",
      "Profession: Student\n",
      "\n"
     ]
    }
   ],
   "source": [
    "class Person:\n",
    "    def __init__(self,name,sex,profession):\n",
    "        self.name=name\n",
    "        self.sex=sex\n",
    "        self.profession=profession\n",
    "    def show(self):\n",
    "        print('Name:', self.name, '\\nSex:', self.sex, '\\nProfession:', self.profession)\n",
    "    def work(self):\n",
    "        print(self.name,\"Works at\",self.profession)\n",
    "jimmy=Person(\"Jimmy\",\"Male\",\"Artist\")\n",
    "sujon=Person(\"Sujon\",\"Male\",\"Student\")\n",
    "\n",
    "jimmy.show()\n",
    "print()\n",
    "sujon.work()\n",
    "print()\n",
    "sujon.show()\n",
    "print()"
   ]
  },
  {
   "cell_type": "code",
   "execution_count": 24,
   "id": "36b6d415",
   "metadata": {},
   "outputs": [
    {
     "name": "stdout",
     "output_type": "stream",
     "text": [
      "I E T Govt. High School\n",
      "Student name:Nine-science\n",
      "Student class:Towsif Hasan\n",
      "Student Roll:5\n"
     ]
    }
   ],
   "source": [
    "class Student_info:\n",
    "    school_name=\"I E T Govt. High School\"\n",
    "    def __init__(self,class_name,st_name,st_roll):\n",
    "        self.clss=class_name\n",
    "        self.name=st_name\n",
    "        self.roll=st_roll\n",
    "    def __repr__(self):\n",
    "        return f\"Student name:{self.clss}\\nStudent class:{self.name}\\nStudent Roll:{self.roll}\"\n",
    "tousif=Student_info(\"Nine-science\",\"Towsif Hasan\",5)\n",
    "print(tousif.school_name)\n",
    "print(tousif)"
   ]
  },
  {
   "cell_type": "markdown",
   "id": "b95e0cc8",
   "metadata": {},
   "source": [
    "OOP Exercise 1: Create a Class with instance attributes\n",
    "OOP Exercise 2: Create a Vehicle class without any variables and methods\n",
    "OOP Exercise 3: Create a child class Bus that will inherit all of the variables and methods of the Vehicle class\n",
    "OOP Exercise 4: Class Inheritance\n",
    "OOP Exercise 5: Define a property that must have the same value for every class instance (object)\n",
    "OOP Exercise 6: Class Inheritance\n",
    "OOP Exercise 7: Check type of an object\n",
    "OOP Exercise 8: Determine if School_bus is also an instance of the Vehicle class"
   ]
  },
  {
   "cell_type": "markdown",
   "id": "44df8e4e",
   "metadata": {},
   "source": [
    "# 1"
   ]
  },
  {
   "cell_type": "code",
   "execution_count": 18,
   "id": "1320fb7c",
   "metadata": {},
   "outputs": [
    {
     "name": "stdout",
     "output_type": "stream",
     "text": [
      "[100 , 200]\n"
     ]
    }
   ],
   "source": [
    "class Instance:\n",
    "    #constructor\n",
    "    def __init__(self,first_p,second_p):\n",
    "        self.fp=first_p\n",
    "        self.sp=second_p\n",
    "    def show(self):\n",
    "        print(f\"[{self.fp} , {self.sp}]\")\n",
    "        \n",
    "    def __repr__(self):\n",
    "        return f\"{self.fp},{self.sp}\"\n",
    "    \n",
    "    \n",
    "        \n",
    "one=Instance(10,20)\n",
    "one\n",
    "two=Instance(100,200)\n",
    "two.show()"
   ]
  },
  {
   "cell_type": "markdown",
   "id": "62603fc8",
   "metadata": {},
   "source": [
    "# 2. Create a Vehicle class without any variables and methods"
   ]
  },
  {
   "cell_type": "code",
   "execution_count": 40,
   "id": "da9603a2",
   "metadata": {},
   "outputs": [
    {
     "name": "stdout",
     "output_type": "stream",
     "text": [
      "Vehicle Name:TVS 4B\n",
      "kmph:150\n",
      "Price:233000\n"
     ]
    },
    {
     "data": {
      "text/plain": [
       "1200"
      ]
     },
     "execution_count": 40,
     "metadata": {},
     "output_type": "execute_result"
    }
   ],
   "source": [
    "class Vehicle:\n",
    "    def __init__(self,vechile_name,kmph,price,capasity):\n",
    "        self.v_name=vechile_name\n",
    "        self.kmph=kmph\n",
    "        self.price=price\n",
    "        self.capasity=capasity\n",
    "    def fare(self):\n",
    "        return self.capasity*100\n",
    "        \n",
    "    def __repr__(self):\n",
    "        return f\"Vehicle Name:{self.v_name}\\nkmph:{self.kmph}\\nPrice:{self.price}\"\n",
    " \n",
    "bike=Vehicle(\"TVS 4B\",150,233000,12)\n",
    "print(bike)\n",
    "bike.fare()"
   ]
  },
  {
   "cell_type": "markdown",
   "id": "f6b92cb5",
   "metadata": {},
   "source": [
    "# 3. Create a child class Bus that will inherit all of the variables and methods of the Vehicle class"
   ]
  },
  {
   "cell_type": "code",
   "execution_count": 43,
   "id": "cc1dba85",
   "metadata": {},
   "outputs": [
    {
     "name": "stdout",
     "output_type": "stream",
     "text": [
      "school bus\n"
     ]
    },
    {
     "data": {
      "text/plain": [
       "7000"
      ]
     },
     "execution_count": 43,
     "metadata": {},
     "output_type": "execute_result"
    }
   ],
   "source": [
    "class Bus(Vehicle):\n",
    "      print(\"school bus\")\n",
    "school_bus=Bus(\"Tata Volvo\",85,120000,70)\n",
    "school_bus\n",
    "school_bus.fare()"
   ]
  },
  {
   "cell_type": "code",
   "execution_count": 52,
   "id": "add8ac7f",
   "metadata": {},
   "outputs": [
    {
     "name": "stdout",
     "output_type": "stream",
     "text": [
      "[]\n"
     ]
    }
   ],
   "source": [
    "class list_solution:\n",
    "   \n",
    "    def __init__(self,Data):\n",
    "        self.d=Data\n",
    "        \n",
    "    def show(self):\n",
    "        print(self.d)\n",
    "        \n",
    "    def add(self):\n",
    "        global sol\n",
    "        sol=[]\n",
    "        print(self.d)\n",
    "        for x in range(len(self.d)):\n",
    "            sol.append(x)\n",
    "    def res(self):\n",
    "        return sol\n",
    "one=list_solution([10,20,30,50,4,0,10])\n",
    "#one.show()\n",
    "print(one.res())"
   ]
  },
  {
   "cell_type": "code",
   "execution_count": 49,
   "id": "8caae0db",
   "metadata": {},
   "outputs": [
    {
     "name": "stdout",
     "output_type": "stream",
     "text": [
      "0\n",
      "1\n",
      "2\n",
      "3\n",
      "4\n",
      "5\n",
      "6\n"
     ]
    }
   ],
   "source": [
    "dd=[10,20,30,50,4,0,10]\n",
    "for x in range(len(dd)):\n",
    "    print(x)"
   ]
  },
  {
   "cell_type": "code",
   "execution_count": 2,
   "id": "b87b8508",
   "metadata": {},
   "outputs": [
    {
     "data": {
      "text/plain": [
       "__main__.JackRussellTerrier"
      ]
     },
     "execution_count": 2,
     "metadata": {},
     "output_type": "execute_result"
    }
   ],
   "source": [
    "class Dog:\n",
    "    species=\"Canis familiaris\"\n",
    "    def __init__(self,name,age,sound):\n",
    "        self.name=name\n",
    "        self.age=age\n",
    "        self.sound=sound\n",
    "    def __str__(self):\n",
    "        return f\"Name :{self.name}\\nAge :{self.age}\"\n",
    "    def speak(self):\n",
    "        return f\"{self.name} says {self.sound}\"\n",
    "class JackRussellTerrier(Dog):\n",
    "    pass\n",
    "class HunterrDz(Dog):\n",
    "    pass\n",
    "class blackShalow(Dog):\n",
    "    pass\n",
    "class bullDog(Dog):\n",
    "    pass\n",
    "\n",
    "miles = JackRussellTerrier(\"Miles\", 4)\n",
    "        "
   ]
  },
  {
   "cell_type": "code",
   "execution_count": null,
   "id": "a969ef54",
   "metadata": {},
   "outputs": [],
   "source": []
  },
  {
   "cell_type": "code",
   "execution_count": null,
   "id": "51f9a7a3",
   "metadata": {},
   "outputs": [],
   "source": []
  },
  {
   "cell_type": "code",
   "execution_count": null,
   "id": "7ff5cd9b",
   "metadata": {},
   "outputs": [],
   "source": []
  },
  {
   "cell_type": "code",
   "execution_count": null,
   "id": "b1027063",
   "metadata": {},
   "outputs": [],
   "source": []
  },
  {
   "cell_type": "code",
   "execution_count": null,
   "id": "295b6b57",
   "metadata": {},
   "outputs": [],
   "source": []
  },
  {
   "cell_type": "code",
   "execution_count": null,
   "id": "5cd4e6fc",
   "metadata": {},
   "outputs": [],
   "source": []
  },
  {
   "cell_type": "code",
   "execution_count": null,
   "id": "0d1e9357",
   "metadata": {},
   "outputs": [],
   "source": []
  },
  {
   "cell_type": "code",
   "execution_count": null,
   "id": "7ee05cba",
   "metadata": {},
   "outputs": [],
   "source": []
  },
  {
   "cell_type": "code",
   "execution_count": null,
   "id": "8ae41b4a",
   "metadata": {},
   "outputs": [],
   "source": []
  },
  {
   "cell_type": "code",
   "execution_count": null,
   "id": "3f5add4c",
   "metadata": {},
   "outputs": [],
   "source": []
  },
  {
   "cell_type": "code",
   "execution_count": null,
   "id": "fde79acf",
   "metadata": {},
   "outputs": [],
   "source": []
  },
  {
   "cell_type": "code",
   "execution_count": null,
   "id": "b6eb35e4",
   "metadata": {},
   "outputs": [],
   "source": []
  },
  {
   "cell_type": "code",
   "execution_count": null,
   "id": "b82eeaee",
   "metadata": {},
   "outputs": [],
   "source": []
  },
  {
   "cell_type": "code",
   "execution_count": null,
   "id": "c0f8001d",
   "metadata": {},
   "outputs": [],
   "source": []
  },
  {
   "cell_type": "code",
   "execution_count": null,
   "id": "e85a192c",
   "metadata": {},
   "outputs": [],
   "source": []
  },
  {
   "cell_type": "code",
   "execution_count": null,
   "id": "cb52f737",
   "metadata": {},
   "outputs": [],
   "source": []
  },
  {
   "cell_type": "code",
   "execution_count": null,
   "id": "67ce56d6",
   "metadata": {},
   "outputs": [],
   "source": []
  },
  {
   "cell_type": "code",
   "execution_count": null,
   "id": "74eb0204",
   "metadata": {},
   "outputs": [],
   "source": []
  },
  {
   "cell_type": "code",
   "execution_count": null,
   "id": "ac1af949",
   "metadata": {},
   "outputs": [],
   "source": []
  },
  {
   "cell_type": "code",
   "execution_count": null,
   "id": "16af89a2",
   "metadata": {},
   "outputs": [],
   "source": []
  },
  {
   "cell_type": "code",
   "execution_count": null,
   "id": "5d096dd5",
   "metadata": {},
   "outputs": [],
   "source": []
  },
  {
   "cell_type": "code",
   "execution_count": null,
   "id": "fe2d00a1",
   "metadata": {},
   "outputs": [],
   "source": []
  },
  {
   "cell_type": "code",
   "execution_count": null,
   "id": "4551a9ad",
   "metadata": {},
   "outputs": [],
   "source": []
  },
  {
   "cell_type": "markdown",
   "id": "35c5259c",
   "metadata": {},
   "source": [
    "# Lambda function"
   ]
  },
  {
   "cell_type": "code",
   "execution_count": 58,
   "id": "f38900f5",
   "metadata": {},
   "outputs": [
    {
     "name": "stdout",
     "output_type": "stream",
     "text": [
      "25\n"
     ]
    }
   ],
   "source": [
    "square = lambda x:x**2\n",
    "print(square(5))"
   ]
  },
  {
   "cell_type": "code",
   "execution_count": 61,
   "id": "4ab2e010",
   "metadata": {},
   "outputs": [
    {
     "name": "stdout",
     "output_type": "stream",
     "text": [
      "150\n"
     ]
    }
   ],
   "source": [
    "multiply = lambda x,y : x*y\n",
    "print(multiply(10,15))"
   ]
  },
  {
   "cell_type": "code",
   "execution_count": null,
   "id": "2efa7aae",
   "metadata": {},
   "outputs": [],
   "source": [
    "sub=lambda x,y : x-y\n",
    "prin"
   ]
  },
  {
   "cell_type": "code",
   "execution_count": null,
   "id": "20c0a900",
   "metadata": {},
   "outputs": [],
   "source": []
  },
  {
   "cell_type": "code",
   "execution_count": null,
   "id": "4aec3dbb",
   "metadata": {},
   "outputs": [],
   "source": []
  },
  {
   "cell_type": "code",
   "execution_count": null,
   "id": "22778f1b",
   "metadata": {},
   "outputs": [],
   "source": []
  },
  {
   "cell_type": "code",
   "execution_count": null,
   "id": "e7188482",
   "metadata": {},
   "outputs": [],
   "source": []
  },
  {
   "cell_type": "code",
   "execution_count": null,
   "id": "b80f096e",
   "metadata": {},
   "outputs": [],
   "source": []
  },
  {
   "cell_type": "code",
   "execution_count": null,
   "id": "ec05275c",
   "metadata": {},
   "outputs": [],
   "source": []
  },
  {
   "cell_type": "code",
   "execution_count": null,
   "id": "8347177a",
   "metadata": {},
   "outputs": [],
   "source": []
  },
  {
   "cell_type": "code",
   "execution_count": null,
   "id": "31d1418d",
   "metadata": {},
   "outputs": [],
   "source": []
  },
  {
   "cell_type": "code",
   "execution_count": null,
   "id": "8169700e",
   "metadata": {},
   "outputs": [],
   "source": []
  },
  {
   "cell_type": "code",
   "execution_count": null,
   "id": "c59574bd",
   "metadata": {},
   "outputs": [],
   "source": []
  },
  {
   "cell_type": "code",
   "execution_count": null,
   "id": "17181adc",
   "metadata": {},
   "outputs": [],
   "source": []
  },
  {
   "cell_type": "code",
   "execution_count": null,
   "id": "cc0f4f0a",
   "metadata": {},
   "outputs": [],
   "source": []
  },
  {
   "cell_type": "code",
   "execution_count": null,
   "id": "4e2831f0",
   "metadata": {},
   "outputs": [],
   "source": []
  },
  {
   "cell_type": "code",
   "execution_count": null,
   "id": "98e4985a",
   "metadata": {},
   "outputs": [],
   "source": []
  },
  {
   "cell_type": "code",
   "execution_count": null,
   "id": "ecb1acbb",
   "metadata": {},
   "outputs": [],
   "source": []
  },
  {
   "cell_type": "code",
   "execution_count": null,
   "id": "1e87192e",
   "metadata": {},
   "outputs": [],
   "source": []
  },
  {
   "cell_type": "code",
   "execution_count": null,
   "id": "3d0f0662",
   "metadata": {},
   "outputs": [],
   "source": []
  }
 ],
 "metadata": {
  "kernelspec": {
   "display_name": "Python 3 (ipykernel)",
   "language": "python",
   "name": "python3"
  },
  "language_info": {
   "codemirror_mode": {
    "name": "ipython",
    "version": 3
   },
   "file_extension": ".py",
   "mimetype": "text/x-python",
   "name": "python",
   "nbconvert_exporter": "python",
   "pygments_lexer": "ipython3",
   "version": "3.10.9"
  }
 },
 "nbformat": 4,
 "nbformat_minor": 5
}
