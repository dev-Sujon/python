{
 "cells": [
  {
   "cell_type": "markdown",
   "id": "b7d44fbe",
   "metadata": {},
   "source": [
    "1.Write a Python program to create a class representing a circle. The class should have attributes for the circle's radius, diameter, and circumference."
   ]
  },
  {
   "cell_type": "code",
   "execution_count": null,
   "id": "68c77524",
   "metadata": {},
   "outputs": [],
   "source": [
    "class Circle:\n",
    "    def __init__(self,radius,diameter,circumference):\n",
    "        self.rad=radius\n",
    "        self.dia=diameter\n",
    "        self.cirm=circumference\n",
    "    def __str__(self):\n",
    "        return f\"redius:{self.rad}\\ndiamter:{self.rad}\\n{self.cirm}\"\n",
    "class circle1(Circle):\n",
    "    pass\n",
    "\n",
    "\n",
    "production = circle1(12,25,10)\n",
    "print(production)"
   ]
  },
  {
   "cell_type": "markdown",
   "id": "347932ef",
   "metadata": {},
   "source": [
    "2.Write a Python program to create a person class. The class should have attributes for the person's name, age, and address."
   ]
  },
  {
   "cell_type": "code",
   "execution_count": null,
   "id": "16a9be2f",
   "metadata": {},
   "outputs": [],
   "source": [
    "class Person:\n",
    "    def __init__(self,name,age,address):\n",
    "        self.name=name\n",
    "        self.age=age\n",
    "        self.addr=address\n",
    "    def __str__(self):\n",
    "        return f\"Name:{self.name} age:{self.age} address:{self.addr}\"\n",
    "bongaa = Person(\"Rubel\",28,\"Jamalpur\")\n",
    "print(bongaa)"
   ]
  },
  {
   "cell_type": "code",
   "execution_count": null,
   "id": "7d9d75e6",
   "metadata": {},
   "outputs": [],
   "source": [
    "Write a Python program to create a calculator class. \n",
    "The class should have methods for performing basic arithmetic operations,\n",
    "such as addition, subtraction, multiplication, and division."
   ]
  },
  {
   "cell_type": "code",
   "execution_count": 17,
   "id": "7e8b284a",
   "metadata": {},
   "outputs": [
    {
     "ename": "AttributeError",
     "evalue": "'Calculator' object has no attribute 'word_list'",
     "output_type": "error",
     "traceback": [
      "\u001b[0;31m---------------------------------------------------------------------------\u001b[0m",
      "\u001b[0;31mAttributeError\u001b[0m                            Traceback (most recent call last)",
      "Cell \u001b[0;32mIn[17], line 9\u001b[0m\n\u001b[1;32m      7\u001b[0m         \u001b[38;5;28;01mreturn\u001b[39;00m \u001b[38;5;124mf\u001b[39m\u001b[38;5;124m\"\u001b[39m\u001b[38;5;124m:\u001b[39m\u001b[38;5;132;01m{\u001b[39;00m\u001b[38;5;28mself\u001b[39m\u001b[38;5;241m.\u001b[39minpt\u001b[38;5;132;01m}\u001b[39;00m\u001b[38;5;130;01m\\n\u001b[39;00m\u001b[38;5;132;01m{\u001b[39;00m\u001b[38;5;28mself\u001b[39m\u001b[38;5;241m.\u001b[39mword_list\u001b[38;5;132;01m}\u001b[39;00m\u001b[38;5;124m\"\u001b[39m\n\u001b[1;32m      8\u001b[0m calc \u001b[38;5;241m=\u001b[39m Calculator(\u001b[38;5;124m\"\u001b[39m\u001b[38;5;124m2-5\u001b[39m\u001b[38;5;124m\"\u001b[39m)\n\u001b[0;32m----> 9\u001b[0m \u001b[38;5;28;43mprint\u001b[39;49m\u001b[43m(\u001b[49m\u001b[43mcalc\u001b[49m\u001b[43m)\u001b[49m\n",
      "Cell \u001b[0;32mIn[17], line 7\u001b[0m, in \u001b[0;36mCalculator.__str__\u001b[0;34m(self)\u001b[0m\n\u001b[1;32m      6\u001b[0m \u001b[38;5;28;01mdef\u001b[39;00m \u001b[38;5;21m__str__\u001b[39m(\u001b[38;5;28mself\u001b[39m):\n\u001b[0;32m----> 7\u001b[0m     \u001b[38;5;28;01mreturn\u001b[39;00m \u001b[38;5;124mf\u001b[39m\u001b[38;5;124m\"\u001b[39m\u001b[38;5;124m:\u001b[39m\u001b[38;5;132;01m{\u001b[39;00m\u001b[38;5;28mself\u001b[39m\u001b[38;5;241m.\u001b[39minpt\u001b[38;5;132;01m}\u001b[39;00m\u001b[38;5;130;01m\\n\u001b[39;00m\u001b[38;5;132;01m{\u001b[39;00m\u001b[38;5;28mself\u001b[39m\u001b[38;5;241m.\u001b[39mword_list\u001b[38;5;132;01m}\u001b[39;00m\u001b[38;5;124m\"\u001b[39m\n",
      "\u001b[0;31mAttributeError\u001b[0m: 'Calculator' object has no attribute 'word_list'"
     ]
    }
   ],
   "source": [
    "class Calculator:\n",
    "    def __init__(self,input_strr):\n",
    "        self.inpt=input_strr\n",
    "    def convert(self):\n",
    "        word=[w for w in inpt.split()]\n",
    "    def __str__(self):\n",
    "        return f\":{self.inpt}\\n{self.word_list}\"\n",
    "calc = Calculator(\"2-5\")\n",
    "print(calc)"
   ]
  },
  {
   "cell_type": "code",
   "execution_count": 2,
   "id": "9ce3b07c",
   "metadata": {},
   "outputs": [
    {
     "name": "stdout",
     "output_type": "stream",
     "text": [
      "The solution is x =  2.1739130434782608 and y =  0.06521739130434782\n"
     ]
    }
   ],
   "source": [
    "def solve(a,b,c,d,e,f):\n",
    "    x = (d*e-b*f)/(a*d-b*c)\n",
    "    y = (a*f-c*e)/(a*d-b*c)\n",
    "    return [x,y]\n",
    "xsol, ysol = solve(10,50,30,12,25,66)\n",
    "print( 'The solution is x = ', xsol, 'and y = ', ysol)"
   ]
  },
  {
   "cell_type": "code",
   "execution_count": 6,
   "id": "a684c250",
   "metadata": {},
   "outputs": [
    {
     "name": "stdout",
     "output_type": "stream",
     "text": [
      "None\n"
     ]
    }
   ],
   "source": [
    "def multiple_print(string, n, bad_words):\n",
    "    if string in bad_words:\n",
    "        return\n",
    "    \n",
    "    print(string * n)\n",
    "    print()\n",
    "\n",
    "p=multiple_print(\"h\",2,\"Hello hellow there!!\")\n",
    "print(p)"
   ]
  },
  {
   "cell_type": "code",
   "execution_count": 15,
   "id": "58e14c83",
   "metadata": {},
   "outputs": [
    {
     "data": {
      "text/plain": [
       "'Hi yellow black normal left '"
      ]
     },
     "execution_count": 15,
     "metadata": {},
     "output_type": "execute_result"
    }
   ],
   "source": [
    "def fancy_print(text, color= 'black ', background= 'white ',\n",
    "    style= 'normal ', justify= 'left '):\n",
    "    return text+color+background+style+justify\n",
    "    # function code goes here\n",
    "    \n",
    "    \n",
    "fancy_print( 'Hi ', color= 'yellow ', background= 'black ')\n"
   ]
  },
  {
   "cell_type": "code",
   "execution_count": null,
   "id": "5b1cdc3b",
   "metadata": {},
   "outputs": [],
   "source": []
  }
 ],
 "metadata": {
  "kernelspec": {
   "display_name": "Python 3 (ipykernel)",
   "language": "python",
   "name": "python3"
  },
  "language_info": {
   "codemirror_mode": {
    "name": "ipython",
    "version": 3
   },
   "file_extension": ".py",
   "mimetype": "text/x-python",
   "name": "python",
   "nbconvert_exporter": "python",
   "pygments_lexer": "ipython3",
   "version": "3.10.9"
  },
  "widgets": {
   "application/vnd.jupyter.widget-state+json": {
    "state": {},
    "version_major": 2,
    "version_minor": 0
   }
  }
 },
 "nbformat": 4,
 "nbformat_minor": 5
}
