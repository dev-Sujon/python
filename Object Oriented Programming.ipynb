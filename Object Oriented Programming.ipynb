{
 "cells": [
  {
   "cell_type": "code",
   "execution_count": 1,
   "id": "896d32c7",
   "metadata": {},
   "outputs": [
    {
     "data": {
      "text/plain": [
       "6"
      ]
     },
     "execution_count": 1,
     "metadata": {},
     "output_type": "execute_result"
    }
   ],
   "source": [
    "def summation(a,b):\n",
    "    return a+b\n",
    "\n",
    "\n",
    "summation(2,4)"
   ]
  },
  {
   "cell_type": "code",
   "execution_count": 8,
   "id": "00ee746e",
   "metadata": {},
   "outputs": [],
   "source": [
    "class summ:\n",
    "    def summation(self,a,b):\n",
    "        return a+b"
   ]
  },
  {
   "cell_type": "code",
   "execution_count": 9,
   "id": "d2cfdd98",
   "metadata": {},
   "outputs": [
    {
     "data": {
      "text/plain": [
       "7"
      ]
     },
     "execution_count": 9,
     "metadata": {},
     "output_type": "execute_result"
    }
   ],
   "source": [
    "obj_summ = summ()\n",
    "obj_summ.summation(3,4)"
   ]
  },
  {
   "cell_type": "code",
   "execution_count": 18,
   "id": "b5b34188",
   "metadata": {},
   "outputs": [
    {
     "name": "stdout",
     "output_type": "stream",
     "text": [
      "hyundai red\n",
      "hyundai red\n"
     ]
    }
   ],
   "source": [
    "class car:\n",
    "    def features(self,car_name):\n",
    "        self.car_name = car_name\n",
    "        self.car_color = 'red'\n",
    "        print(car_name,self.car_color)\n",
    "        \n",
    "    def display(self):\n",
    "        print(self.car_name,self.car_color)\n",
    "        \n",
    "car_obj  = car()\n",
    "car_obj.features('hyundai')\n",
    "car_obj.display()"
   ]
  },
  {
   "cell_type": "code",
   "execution_count": 20,
   "id": "b8074d46",
   "metadata": {},
   "outputs": [
    {
     "name": "stdout",
     "output_type": "stream",
     "text": [
      "hyundai red\n",
      "hyundai red\n"
     ]
    }
   ],
   "source": [
    "class car:\n",
    "    def __init__(self,car_name):\n",
    "        self.car_name = car_name\n",
    "        self.car_color = 'red'\n",
    "        print(car_name,self.car_color)\n",
    "        \n",
    "    def display(self):\n",
    "        print(self.car_name,self.car_color)\n",
    "        \n",
    "car_obj  = car('hyundai')\n",
    "car_obj.display()"
   ]
  },
  {
   "cell_type": "code",
   "execution_count": 26,
   "id": "88b50cc0",
   "metadata": {},
   "outputs": [
    {
     "data": {
      "text/plain": [
       "6"
      ]
     },
     "execution_count": 26,
     "metadata": {},
     "output_type": "execute_result"
    }
   ],
   "source": [
    "class calculator:\n",
    "    def even(self,b):\n",
    "        self.b = b\n",
    "        if b%2==0:\n",
    "            result = self.square()\n",
    "        else:\n",
    "            result = self.double()\n",
    "        return result\n",
    "    \n",
    "    def square(self):\n",
    "        return self.b**2\n",
    "    \n",
    "    def double(self):\n",
    "        return 2*self.b\n",
    "    \n",
    "cal_obj = calculator()\n",
    "cal_obj.even(3)"
   ]
  },
  {
   "cell_type": "code",
   "execution_count": 19,
   "id": "a62fa296",
   "metadata": {},
   "outputs": [
    {
     "name": "stdout",
     "output_type": "stream",
     "text": [
      "12\n",
      "10\n"
     ]
    }
   ],
   "source": [
    "# 3. Create a class named ‘student’ and inside the class, create a function named ‘fun1’- this\n",
    "# method should accept the user defined input and return that value.\n",
    "# a. Create another method named- message() and that method should print the user\n",
    "# defined input that we have defined in ‘fun1’.\n",
    "\n",
    "\n",
    "class student:\n",
    "    def fun1(self,a):\n",
    "        self.a = a\n",
    "        return self.a\n",
    "    \n",
    "    def message(self):\n",
    "        print(self.a)\n",
    "        \n",
    "obj = student()\n",
    "result = obj.fun1(int(input()))\n",
    "obj.message()"
   ]
  },
  {
   "cell_type": "code",
   "execution_count": 31,
   "id": "47c9f1c4",
   "metadata": {},
   "outputs": [
    {
     "data": {
      "text/plain": [
       "10"
      ]
     },
     "execution_count": 31,
     "metadata": {},
     "output_type": "execute_result"
    }
   ],
   "source": [
    "result"
   ]
  },
  {
   "cell_type": "code",
   "execution_count": 16,
   "id": "bdbadf6a",
   "metadata": {},
   "outputs": [
    {
     "name": "stdout",
     "output_type": "stream",
     "text": [
      "I am parent function\n"
     ]
    }
   ],
   "source": [
    "class parent:\n",
    "    def __init__(self):\n",
    "        self.name = 'John'\n",
    "        \n",
    "    def sum(self):\n",
    "        print('I am parent function')\n",
    "        \n",
    "obj = parent()\n",
    "obj.sum()"
   ]
  },
  {
   "cell_type": "code",
   "execution_count": 17,
   "id": "23f41aed",
   "metadata": {},
   "outputs": [
    {
     "name": "stdout",
     "output_type": "stream",
     "text": [
      "I am child function\n"
     ]
    }
   ],
   "source": [
    "\n",
    "class child:\n",
    "    def __init__(self):\n",
    "        parent.__init__(self)\n",
    "        self.age = 21\n",
    "        \n",
    "    def sum(self):\n",
    "        print('I am child function')\n",
    "        \n",
    "    def display(self):\n",
    "        print(self.name,self.age)\n",
    "        \n",
    "obj = child()\n",
    "obj.sum()"
   ]
  },
  {
   "cell_type": "code",
   "execution_count": 20,
   "id": "f2a89a39",
   "metadata": {},
   "outputs": [
    {
     "name": "stdout",
     "output_type": "stream",
     "text": [
      "parent1\n",
      "hello\n",
      "parent2\n"
     ]
    }
   ],
   "source": [
    "from abc import ABC,abstractmethod\n",
    "\n",
    "class sample(ABC):\n",
    "    @abstractmethod\n",
    "    def display1(self):\n",
    "        print('parent1')\n",
    "    \n",
    "    @abstractmethod\n",
    "    def display2(self):\n",
    "        print('parent2')\n",
    "        \n",
    "class child(sample):\n",
    "    def display1(self):\n",
    "        super().display1()\n",
    "        print('hello')\n",
    "        \n",
    "    def display2(self): \n",
    "        super().display2()\n",
    "    \n",
    "child_obj = child()\n",
    "child_obj.display1()\n",
    "child_obj.display2()"
   ]
  },
  {
   "cell_type": "code",
   "execution_count": 28,
   "id": "e7b3e34d",
   "metadata": {},
   "outputs": [
    {
     "name": "stdout",
     "output_type": "stream",
     "text": [
      "hyundai red\n",
      "hyundai red 2020\n"
     ]
    },
    {
     "data": {
      "text/plain": [
       "2020"
      ]
     },
     "execution_count": 28,
     "metadata": {},
     "output_type": "execute_result"
    }
   ],
   "source": [
    "class car:\n",
    "    _year = 2020\n",
    "    def __init__(self,car_name):\n",
    "        self.car_name = car_name\n",
    "        self.car_color = 'red'\n",
    "        print(car_name,self.car_color)\n",
    "        \n",
    "    def display(self):\n",
    "        print(self.car_name,self.car_color,self._year)\n",
    "        \n",
    "car_obj  = car('hyundai')\n",
    "car_obj.display()\n",
    "car_obj._year"
   ]
  },
  {
   "cell_type": "code",
   "execution_count": null,
   "id": "67fc5578",
   "metadata": {},
   "outputs": [],
   "source": [
    "1. Create a function named ‘factor’ that can only accept 1 argument. The function should\n",
    "return the factorial of that number."
   ]
  }
 ],
 "metadata": {
  "kernelspec": {
   "display_name": "Python 3 (ipykernel)",
   "language": "python",
   "name": "python3"
  },
  "language_info": {
   "codemirror_mode": {
    "name": "ipython",
    "version": 3
   },
   "file_extension": ".py",
   "mimetype": "text/x-python",
   "name": "python",
   "nbconvert_exporter": "python",
   "pygments_lexer": "ipython3",
   "version": "3.11.4"
  }
 },
 "nbformat": 4,
 "nbformat_minor": 5
}
